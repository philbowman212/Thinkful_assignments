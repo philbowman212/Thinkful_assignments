{
 "cells": [
  {
   "cell_type": "markdown",
   "metadata": {},
   "source": [
    "## Import the Libraries"
   ]
  },
  {
   "cell_type": "code",
   "execution_count": 1,
   "metadata": {},
   "outputs": [],
   "source": [
    "import numpy as np\n",
    "import pandas as pd\n",
    "import matplotlib.pyplot as plt\n",
    "%matplotlib inline"
   ]
  },
  {
   "cell_type": "markdown",
   "metadata": {},
   "source": [
    "## Import the Data"
   ]
  },
  {
   "cell_type": "code",
   "execution_count": 2,
   "metadata": {},
   "outputs": [],
   "source": [
    "data = pd.read_csv('denver_crime_8-26-2019.csv')\n",
    "data2 = pd.read_csv('denver_offense_codes.csv')"
   ]
  },
  {
   "cell_type": "markdown",
   "metadata": {},
   "source": [
    "### Preview the Data"
   ]
  },
  {
   "cell_type": "code",
   "execution_count": 3,
   "metadata": {
    "scrolled": true
   },
   "outputs": [
    {
     "data": {
      "text/html": [
       "<div>\n",
       "<style scoped>\n",
       "    .dataframe tbody tr th:only-of-type {\n",
       "        vertical-align: middle;\n",
       "    }\n",
       "\n",
       "    .dataframe tbody tr th {\n",
       "        vertical-align: top;\n",
       "    }\n",
       "\n",
       "    .dataframe thead th {\n",
       "        text-align: right;\n",
       "    }\n",
       "</style>\n",
       "<table border=\"1\" class=\"dataframe\">\n",
       "  <thead>\n",
       "    <tr style=\"text-align: right;\">\n",
       "      <th></th>\n",
       "      <th>INCIDENT_ID</th>\n",
       "      <th>OFFENSE_ID</th>\n",
       "      <th>OFFENSE_CODE</th>\n",
       "      <th>OFFENSE_CODE_EXTENSION</th>\n",
       "      <th>OFFENSE_TYPE_ID</th>\n",
       "      <th>OFFENSE_CATEGORY_ID</th>\n",
       "      <th>FIRST_OCCURRENCE_DATE</th>\n",
       "      <th>LAST_OCCURRENCE_DATE</th>\n",
       "      <th>REPORTED_DATE</th>\n",
       "      <th>INCIDENT_ADDRESS</th>\n",
       "      <th>GEO_X</th>\n",
       "      <th>GEO_Y</th>\n",
       "      <th>GEO_LON</th>\n",
       "      <th>GEO_LAT</th>\n",
       "      <th>DISTRICT_ID</th>\n",
       "      <th>PRECINCT_ID</th>\n",
       "      <th>NEIGHBORHOOD_ID</th>\n",
       "      <th>IS_CRIME</th>\n",
       "      <th>IS_TRAFFIC</th>\n",
       "    </tr>\n",
       "  </thead>\n",
       "  <tbody>\n",
       "    <tr>\n",
       "      <th>0</th>\n",
       "      <td>2016376978</td>\n",
       "      <td>2016376978521300</td>\n",
       "      <td>5213</td>\n",
       "      <td>0</td>\n",
       "      <td>weapon-unlawful-discharge-of</td>\n",
       "      <td>all-other-crimes</td>\n",
       "      <td>6/15/2016 11:31:00 PM</td>\n",
       "      <td>NaN</td>\n",
       "      <td>6/15/2016 11:31:00 PM</td>\n",
       "      <td>NaN</td>\n",
       "      <td>3193983.0</td>\n",
       "      <td>1707251.0</td>\n",
       "      <td>-104.809881</td>\n",
       "      <td>39.773188</td>\n",
       "      <td>5</td>\n",
       "      <td>521</td>\n",
       "      <td>montbello</td>\n",
       "      <td>1</td>\n",
       "      <td>0</td>\n",
       "    </tr>\n",
       "    <tr>\n",
       "      <th>1</th>\n",
       "      <td>20186000994</td>\n",
       "      <td>20186000994239900</td>\n",
       "      <td>2399</td>\n",
       "      <td>0</td>\n",
       "      <td>theft-other</td>\n",
       "      <td>larceny</td>\n",
       "      <td>10/11/2017 12:30:00 PM</td>\n",
       "      <td>10/11/2017 4:55:00 PM</td>\n",
       "      <td>1/29/2018 5:53:00 PM</td>\n",
       "      <td>NaN</td>\n",
       "      <td>3201943.0</td>\n",
       "      <td>1711852.0</td>\n",
       "      <td>-104.781434</td>\n",
       "      <td>39.785649</td>\n",
       "      <td>5</td>\n",
       "      <td>522</td>\n",
       "      <td>gateway-green-valley-ranch</td>\n",
       "      <td>1</td>\n",
       "      <td>0</td>\n",
       "    </tr>\n",
       "    <tr>\n",
       "      <th>2</th>\n",
       "      <td>20166003953</td>\n",
       "      <td>20166003953230500</td>\n",
       "      <td>2305</td>\n",
       "      <td>0</td>\n",
       "      <td>theft-items-from-vehicle</td>\n",
       "      <td>theft-from-motor-vehicle</td>\n",
       "      <td>3/4/2016 8:00:00 PM</td>\n",
       "      <td>4/25/2016 8:00:00 AM</td>\n",
       "      <td>4/26/2016 9:02:00 PM</td>\n",
       "      <td>2932 S JOSEPHINE ST</td>\n",
       "      <td>3152762.0</td>\n",
       "      <td>1667011.0</td>\n",
       "      <td>-104.957381</td>\n",
       "      <td>39.663490</td>\n",
       "      <td>3</td>\n",
       "      <td>314</td>\n",
       "      <td>wellshire</td>\n",
       "      <td>1</td>\n",
       "      <td>0</td>\n",
       "    </tr>\n",
       "    <tr>\n",
       "      <th>3</th>\n",
       "      <td>201872333</td>\n",
       "      <td>201872333239900</td>\n",
       "      <td>2399</td>\n",
       "      <td>0</td>\n",
       "      <td>theft-other</td>\n",
       "      <td>larceny</td>\n",
       "      <td>1/30/2018 7:20:00 PM</td>\n",
       "      <td>NaN</td>\n",
       "      <td>1/30/2018 10:29:00 PM</td>\n",
       "      <td>705 S COLORADO BLVD</td>\n",
       "      <td>3157162.0</td>\n",
       "      <td>1681320.0</td>\n",
       "      <td>-104.941440</td>\n",
       "      <td>39.702698</td>\n",
       "      <td>3</td>\n",
       "      <td>312</td>\n",
       "      <td>belcaro</td>\n",
       "      <td>1</td>\n",
       "      <td>0</td>\n",
       "    </tr>\n",
       "    <tr>\n",
       "      <th>4</th>\n",
       "      <td>2017411405</td>\n",
       "      <td>2017411405230300</td>\n",
       "      <td>2303</td>\n",
       "      <td>0</td>\n",
       "      <td>theft-shoplift</td>\n",
       "      <td>larceny</td>\n",
       "      <td>6/22/2017 8:53:00 PM</td>\n",
       "      <td>NaN</td>\n",
       "      <td>6/23/2017 4:09:00 PM</td>\n",
       "      <td>2810 E 1ST AVE</td>\n",
       "      <td>3153211.0</td>\n",
       "      <td>1686545.0</td>\n",
       "      <td>-104.955370</td>\n",
       "      <td>39.717107</td>\n",
       "      <td>3</td>\n",
       "      <td>311</td>\n",
       "      <td>cherry-creek</td>\n",
       "      <td>1</td>\n",
       "      <td>0</td>\n",
       "    </tr>\n",
       "  </tbody>\n",
       "</table>\n",
       "</div>"
      ],
      "text/plain": [
       "   INCIDENT_ID         OFFENSE_ID  OFFENSE_CODE  OFFENSE_CODE_EXTENSION  \\\n",
       "0   2016376978   2016376978521300          5213                       0   \n",
       "1  20186000994  20186000994239900          2399                       0   \n",
       "2  20166003953  20166003953230500          2305                       0   \n",
       "3    201872333    201872333239900          2399                       0   \n",
       "4   2017411405   2017411405230300          2303                       0   \n",
       "\n",
       "                OFFENSE_TYPE_ID       OFFENSE_CATEGORY_ID  \\\n",
       "0  weapon-unlawful-discharge-of          all-other-crimes   \n",
       "1                   theft-other                   larceny   \n",
       "2      theft-items-from-vehicle  theft-from-motor-vehicle   \n",
       "3                   theft-other                   larceny   \n",
       "4                theft-shoplift                   larceny   \n",
       "\n",
       "    FIRST_OCCURRENCE_DATE   LAST_OCCURRENCE_DATE          REPORTED_DATE  \\\n",
       "0   6/15/2016 11:31:00 PM                    NaN  6/15/2016 11:31:00 PM   \n",
       "1  10/11/2017 12:30:00 PM  10/11/2017 4:55:00 PM   1/29/2018 5:53:00 PM   \n",
       "2     3/4/2016 8:00:00 PM   4/25/2016 8:00:00 AM   4/26/2016 9:02:00 PM   \n",
       "3    1/30/2018 7:20:00 PM                    NaN  1/30/2018 10:29:00 PM   \n",
       "4    6/22/2017 8:53:00 PM                    NaN   6/23/2017 4:09:00 PM   \n",
       "\n",
       "      INCIDENT_ADDRESS      GEO_X      GEO_Y     GEO_LON    GEO_LAT  \\\n",
       "0                  NaN  3193983.0  1707251.0 -104.809881  39.773188   \n",
       "1                  NaN  3201943.0  1711852.0 -104.781434  39.785649   \n",
       "2  2932 S JOSEPHINE ST  3152762.0  1667011.0 -104.957381  39.663490   \n",
       "3  705 S COLORADO BLVD  3157162.0  1681320.0 -104.941440  39.702698   \n",
       "4       2810 E 1ST AVE  3153211.0  1686545.0 -104.955370  39.717107   \n",
       "\n",
       "   DISTRICT_ID  PRECINCT_ID             NEIGHBORHOOD_ID  IS_CRIME  IS_TRAFFIC  \n",
       "0            5          521                   montbello         1           0  \n",
       "1            5          522  gateway-green-valley-ranch         1           0  \n",
       "2            3          314                   wellshire         1           0  \n",
       "3            3          312                     belcaro         1           0  \n",
       "4            3          311                cherry-creek         1           0  "
      ]
     },
     "execution_count": 3,
     "metadata": {},
     "output_type": "execute_result"
    }
   ],
   "source": [
    "data.head()"
   ]
  },
  {
   "cell_type": "code",
   "execution_count": 4,
   "metadata": {},
   "outputs": [
    {
     "data": {
      "text/html": [
       "<div>\n",
       "<style scoped>\n",
       "    .dataframe tbody tr th:only-of-type {\n",
       "        vertical-align: middle;\n",
       "    }\n",
       "\n",
       "    .dataframe tbody tr th {\n",
       "        vertical-align: top;\n",
       "    }\n",
       "\n",
       "    .dataframe thead th {\n",
       "        text-align: right;\n",
       "    }\n",
       "</style>\n",
       "<table border=\"1\" class=\"dataframe\">\n",
       "  <thead>\n",
       "    <tr style=\"text-align: right;\">\n",
       "      <th></th>\n",
       "      <th>OFFENSE_CODE</th>\n",
       "      <th>OFFENSE_CODE_EXTENSION</th>\n",
       "      <th>OFFENSE_TYPE_ID</th>\n",
       "      <th>OFFENSE_TYPE_NAME</th>\n",
       "      <th>OFFENSE_CATEGORY_ID</th>\n",
       "      <th>OFFENSE_CATEGORY_NAME</th>\n",
       "      <th>IS_CRIME</th>\n",
       "      <th>IS_TRAFFIC</th>\n",
       "    </tr>\n",
       "  </thead>\n",
       "  <tbody>\n",
       "    <tr>\n",
       "      <th>0</th>\n",
       "      <td>2804</td>\n",
       "      <td>1</td>\n",
       "      <td>stolen-property-possession</td>\n",
       "      <td>Possession of stolen property</td>\n",
       "      <td>all-other-crimes</td>\n",
       "      <td>All Other Crimes</td>\n",
       "      <td>1</td>\n",
       "      <td>0</td>\n",
       "    </tr>\n",
       "    <tr>\n",
       "      <th>1</th>\n",
       "      <td>2804</td>\n",
       "      <td>2</td>\n",
       "      <td>fraud-possess-financial-device</td>\n",
       "      <td>Possession of a financial device</td>\n",
       "      <td>all-other-crimes</td>\n",
       "      <td>All Other Crimes</td>\n",
       "      <td>1</td>\n",
       "      <td>0</td>\n",
       "    </tr>\n",
       "    <tr>\n",
       "      <th>2</th>\n",
       "      <td>2901</td>\n",
       "      <td>0</td>\n",
       "      <td>damaged-prop-bus</td>\n",
       "      <td>Damaged business property</td>\n",
       "      <td>public-disorder</td>\n",
       "      <td>Public Disorder</td>\n",
       "      <td>1</td>\n",
       "      <td>0</td>\n",
       "    </tr>\n",
       "    <tr>\n",
       "      <th>3</th>\n",
       "      <td>2902</td>\n",
       "      <td>0</td>\n",
       "      <td>criminal-mischief-private</td>\n",
       "      <td>Criminal mischief to private property</td>\n",
       "      <td>public-disorder</td>\n",
       "      <td>Public Disorder</td>\n",
       "      <td>1</td>\n",
       "      <td>0</td>\n",
       "    </tr>\n",
       "    <tr>\n",
       "      <th>4</th>\n",
       "      <td>2903</td>\n",
       "      <td>0</td>\n",
       "      <td>criminal-mischief-public</td>\n",
       "      <td>Criminal mischief to public property</td>\n",
       "      <td>public-disorder</td>\n",
       "      <td>Public Disorder</td>\n",
       "      <td>1</td>\n",
       "      <td>0</td>\n",
       "    </tr>\n",
       "  </tbody>\n",
       "</table>\n",
       "</div>"
      ],
      "text/plain": [
       "   OFFENSE_CODE  OFFENSE_CODE_EXTENSION                 OFFENSE_TYPE_ID  \\\n",
       "0          2804                       1      stolen-property-possession   \n",
       "1          2804                       2  fraud-possess-financial-device   \n",
       "2          2901                       0                damaged-prop-bus   \n",
       "3          2902                       0       criminal-mischief-private   \n",
       "4          2903                       0        criminal-mischief-public   \n",
       "\n",
       "                       OFFENSE_TYPE_NAME OFFENSE_CATEGORY_ID  \\\n",
       "0          Possession of stolen property    all-other-crimes   \n",
       "1       Possession of a financial device    all-other-crimes   \n",
       "2              Damaged business property     public-disorder   \n",
       "3  Criminal mischief to private property     public-disorder   \n",
       "4   Criminal mischief to public property     public-disorder   \n",
       "\n",
       "  OFFENSE_CATEGORY_NAME  IS_CRIME  IS_TRAFFIC  \n",
       "0      All Other Crimes         1           0  \n",
       "1      All Other Crimes         1           0  \n",
       "2       Public Disorder         1           0  \n",
       "3       Public Disorder         1           0  \n",
       "4       Public Disorder         1           0  "
      ]
     },
     "execution_count": 4,
     "metadata": {},
     "output_type": "execute_result"
    }
   ],
   "source": [
    "data2.head()"
   ]
  },
  {
   "cell_type": "markdown",
   "metadata": {},
   "source": [
    "## Modify `data` DataFrame\n",
    "There are a few things we want to do here:\n",
    "1. Remove all non-crime occurances (non-criminal traffic violations)\n",
    "2. Convert `FIRST_OCCURRENCE_DATE` to pandas datetime data type\n",
    "         - remove all occurances 30 days prior to 8-26-2019 (the data source states that it generally takes 30 days for the data to be considered accurate)\n",
    "3. Append columns `YEAR`, `MONTH`, `DAY`, `DAY_OF_WEEK`, `DAY_OF_YEAR`, and `HOUR` to our DataFrame so we can easily sort when an incident occured by various features\n",
    "4. Convert `REPORTED_DATE` to pandas datetime data type\n",
    "5. Add a column `DIFF_DAYS` which will indicate the difference in days from when the offense occurred and when it was reported (could be interesting to see if certain crimes take longer to report than others)"
   ]
  },
  {
   "cell_type": "markdown",
   "metadata": {},
   "source": [
    "### 1. Remove all non-crime occurances"
   ]
  },
  {
   "cell_type": "code",
   "execution_count": 5,
   "metadata": {},
   "outputs": [
    {
     "data": {
      "text/plain": [
       "(507443, 19)"
      ]
     },
     "execution_count": 5,
     "metadata": {},
     "output_type": "execute_result"
    }
   ],
   "source": [
    "data.shape"
   ]
  },
  {
   "cell_type": "code",
   "execution_count": 6,
   "metadata": {},
   "outputs": [],
   "source": [
    "crime = data[data.IS_CRIME == 1]"
   ]
  },
  {
   "cell_type": "code",
   "execution_count": 7,
   "metadata": {},
   "outputs": [
    {
     "data": {
      "text/plain": [
       "(375532, 19)"
      ]
     },
     "execution_count": 7,
     "metadata": {},
     "output_type": "execute_result"
    }
   ],
   "source": [
    "crime.shape"
   ]
  },
  {
   "cell_type": "code",
   "execution_count": 8,
   "metadata": {},
   "outputs": [
    {
     "data": {
      "text/plain": [
       "131911"
      ]
     },
     "execution_count": 8,
     "metadata": {},
     "output_type": "execute_result"
    }
   ],
   "source": [
    "len(data) - len(crime)"
   ]
  },
  {
   "cell_type": "markdown",
   "metadata": {},
   "source": [
    "Looks like we removed `131,911` non-criminal offenses from our dataset. Now that our DataFrame is smaller (and the to_datetime function takes awhile on my computer), we should make the `FIRST_OCCURRENCE_DATE` conversion to datetime datatype."
   ]
  },
  {
   "cell_type": "markdown",
   "metadata": {},
   "source": [
    "### 2. Convert `FIRST_OCCURRENCE_DATE` to pandas datetime data type"
   ]
  },
  {
   "cell_type": "code",
   "execution_count": 9,
   "metadata": {},
   "outputs": [],
   "source": [
    "new_crime = crime.astype({'FIRST_OCCURRENCE_DATE': 'datetime64'})"
   ]
  },
  {
   "cell_type": "code",
   "execution_count": 10,
   "metadata": {},
   "outputs": [
    {
     "data": {
      "text/plain": [
       "INCIDENT_ID                        int64\n",
       "OFFENSE_ID                         int64\n",
       "OFFENSE_CODE                       int64\n",
       "OFFENSE_CODE_EXTENSION             int64\n",
       "OFFENSE_TYPE_ID                   object\n",
       "OFFENSE_CATEGORY_ID               object\n",
       "FIRST_OCCURRENCE_DATE     datetime64[ns]\n",
       "LAST_OCCURRENCE_DATE              object\n",
       "REPORTED_DATE                     object\n",
       "INCIDENT_ADDRESS                  object\n",
       "GEO_X                            float64\n",
       "GEO_Y                            float64\n",
       "GEO_LON                          float64\n",
       "GEO_LAT                          float64\n",
       "DISTRICT_ID                        int64\n",
       "PRECINCT_ID                        int64\n",
       "NEIGHBORHOOD_ID                   object\n",
       "IS_CRIME                           int64\n",
       "IS_TRAFFIC                         int64\n",
       "dtype: object"
      ]
     },
     "execution_count": 10,
     "metadata": {},
     "output_type": "execute_result"
    }
   ],
   "source": [
    "new_crime.dtypes"
   ]
  },
  {
   "cell_type": "markdown",
   "metadata": {},
   "source": [
    "Our new DataFrame, `new_crime`, now has the entire `FIRST_OCCURRENCE_DATE` column as a datetime64 type, so we can eliminate all crimes 30 days prior to August 26, 2018."
   ]
  },
  {
   "cell_type": "code",
   "execution_count": 11,
   "metadata": {},
   "outputs": [],
   "source": [
    "latest_date = pd.to_datetime('August 26, 2019') #this is when the data was last updated"
   ]
  },
  {
   "cell_type": "code",
   "execution_count": 12,
   "metadata": {},
   "outputs": [],
   "source": [
    "update_date = latest_date - pd.Timedelta(30, unit='D')"
   ]
  },
  {
   "cell_type": "code",
   "execution_count": 13,
   "metadata": {},
   "outputs": [
    {
     "data": {
      "text/plain": [
       "Timestamp('2019-07-27 00:00:00')"
      ]
     },
     "execution_count": 13,
     "metadata": {},
     "output_type": "execute_result"
    }
   ],
   "source": [
    "update_date"
   ]
  },
  {
   "cell_type": "markdown",
   "metadata": {},
   "source": [
    "Now we have our latest accurate crime date. So we can eliminate all crime occurring after this date."
   ]
  },
  {
   "cell_type": "code",
   "execution_count": 14,
   "metadata": {},
   "outputs": [],
   "source": [
    "acc_crime = new_crime[(new_crime.FIRST_OCCURRENCE_DATE < update_date)]"
   ]
  },
  {
   "cell_type": "code",
   "execution_count": 15,
   "metadata": {},
   "outputs": [
    {
     "data": {
      "text/plain": [
       "5058"
      ]
     },
     "execution_count": 15,
     "metadata": {},
     "output_type": "execute_result"
    }
   ],
   "source": [
    "len(new_crime) - len(acc_crime)"
   ]
  },
  {
   "cell_type": "markdown",
   "metadata": {},
   "source": [
    "Looks like we have removed 5,058 crime occurrences that occurred between July 27, 2019 and August 26, 2019. We can double check this by finding the latest date in our `FIRST_OCCURRENCE_DATE` column."
   ]
  },
  {
   "cell_type": "code",
   "execution_count": 16,
   "metadata": {},
   "outputs": [
    {
     "data": {
      "text/plain": [
       "Timestamp('2019-07-26 23:44:00')"
      ]
     },
     "execution_count": 16,
     "metadata": {},
     "output_type": "execute_result"
    }
   ],
   "source": [
    "acc_crime.FIRST_OCCURRENCE_DATE.max()"
   ]
  },
  {
   "cell_type": "markdown",
   "metadata": {},
   "source": [
    "Looks good, the latest date in our `FIRST_OCCURRENCE_DATE` column turns out to be July 26, 2019 at 11:44 PM."
   ]
  },
  {
   "cell_type": "markdown",
   "metadata": {},
   "source": [
    "### 3. Append columns `YEAR`, `MONTH`, `DAY`, `DAY_OF_WEEK`, `DAY_OF_YEAR`, and `HOUR` to our DataFrame so we can easily sort when an incident occured by various features"
   ]
  },
  {
   "cell_type": "code",
   "execution_count": 17,
   "metadata": {},
   "outputs": [
    {
     "data": {
      "text/plain": [
       "0        2016-06-15 23:31:00\n",
       "1        2017-10-11 12:30:00\n",
       "2        2016-03-04 20:00:00\n",
       "3        2018-01-30 19:20:00\n",
       "4        2017-06-22 20:53:00\n",
       "                 ...        \n",
       "507436   2018-12-08 08:00:00\n",
       "507438   2018-12-11 18:06:00\n",
       "507439   2018-11-19 16:00:00\n",
       "507441   2018-12-09 05:21:00\n",
       "507442   2018-12-12 16:35:00\n",
       "Name: FIRST_OCCURRENCE_DATE, Length: 370474, dtype: datetime64[ns]"
      ]
     },
     "execution_count": 17,
     "metadata": {},
     "output_type": "execute_result"
    }
   ],
   "source": [
    "acc_crime.columns[6]\n",
    "acc_crime.loc[:,'FIRST_OCCURRENCE_DATE']"
   ]
  },
  {
   "cell_type": "code",
   "execution_count": 18,
   "metadata": {
    "scrolled": true
   },
   "outputs": [
    {
     "name": "stderr",
     "output_type": "stream",
     "text": [
      "c:\\users\\philb\\appdata\\local\\programs\\python\\python37-32\\lib\\site-packages\\pandas\\core\\indexing.py:362: SettingWithCopyWarning: \n",
      "A value is trying to be set on a copy of a slice from a DataFrame.\n",
      "Try using .loc[row_indexer,col_indexer] = value instead\n",
      "\n",
      "See the caveats in the documentation: http://pandas.pydata.org/pandas-docs/stable/user_guide/indexing.html#returning-a-view-versus-a-copy\n",
      "  self.obj[key] = _infer_fill_value(value)\n",
      "c:\\users\\philb\\appdata\\local\\programs\\python\\python37-32\\lib\\site-packages\\pandas\\core\\indexing.py:480: SettingWithCopyWarning: \n",
      "A value is trying to be set on a copy of a slice from a DataFrame.\n",
      "Try using .loc[row_indexer,col_indexer] = value instead\n",
      "\n",
      "See the caveats in the documentation: http://pandas.pydata.org/pandas-docs/stable/user_guide/indexing.html#returning-a-view-versus-a-copy\n",
      "  self.obj[item] = s\n"
     ]
    }
   ],
   "source": [
    "acc_crime.loc[:, 'YEAR'] = acc_crime.FIRST_OCCURRENCE_DATE.dt.year.copy()"
   ]
  },
  {
   "cell_type": "code",
   "execution_count": 19,
   "metadata": {},
   "outputs": [
    {
     "data": {
      "text/html": [
       "<div>\n",
       "<style scoped>\n",
       "    .dataframe tbody tr th:only-of-type {\n",
       "        vertical-align: middle;\n",
       "    }\n",
       "\n",
       "    .dataframe tbody tr th {\n",
       "        vertical-align: top;\n",
       "    }\n",
       "\n",
       "    .dataframe thead th {\n",
       "        text-align: right;\n",
       "    }\n",
       "</style>\n",
       "<table border=\"1\" class=\"dataframe\">\n",
       "  <thead>\n",
       "    <tr style=\"text-align: right;\">\n",
       "      <th></th>\n",
       "      <th>INCIDENT_ID</th>\n",
       "      <th>OFFENSE_ID</th>\n",
       "      <th>OFFENSE_CODE</th>\n",
       "      <th>OFFENSE_CODE_EXTENSION</th>\n",
       "      <th>OFFENSE_TYPE_ID</th>\n",
       "      <th>OFFENSE_CATEGORY_ID</th>\n",
       "      <th>FIRST_OCCURRENCE_DATE</th>\n",
       "      <th>LAST_OCCURRENCE_DATE</th>\n",
       "      <th>REPORTED_DATE</th>\n",
       "      <th>INCIDENT_ADDRESS</th>\n",
       "      <th>GEO_X</th>\n",
       "      <th>GEO_Y</th>\n",
       "      <th>GEO_LON</th>\n",
       "      <th>GEO_LAT</th>\n",
       "      <th>DISTRICT_ID</th>\n",
       "      <th>PRECINCT_ID</th>\n",
       "      <th>NEIGHBORHOOD_ID</th>\n",
       "      <th>IS_CRIME</th>\n",
       "      <th>IS_TRAFFIC</th>\n",
       "      <th>YEAR</th>\n",
       "    </tr>\n",
       "  </thead>\n",
       "  <tbody>\n",
       "    <tr>\n",
       "      <th>0</th>\n",
       "      <td>2016376978</td>\n",
       "      <td>2016376978521300</td>\n",
       "      <td>5213</td>\n",
       "      <td>0</td>\n",
       "      <td>weapon-unlawful-discharge-of</td>\n",
       "      <td>all-other-crimes</td>\n",
       "      <td>2016-06-15 23:31:00</td>\n",
       "      <td>NaN</td>\n",
       "      <td>6/15/2016 11:31:00 PM</td>\n",
       "      <td>NaN</td>\n",
       "      <td>3193983.0</td>\n",
       "      <td>1707251.0</td>\n",
       "      <td>-104.809881</td>\n",
       "      <td>39.773188</td>\n",
       "      <td>5</td>\n",
       "      <td>521</td>\n",
       "      <td>montbello</td>\n",
       "      <td>1</td>\n",
       "      <td>0</td>\n",
       "      <td>2016</td>\n",
       "    </tr>\n",
       "    <tr>\n",
       "      <th>1</th>\n",
       "      <td>20186000994</td>\n",
       "      <td>20186000994239900</td>\n",
       "      <td>2399</td>\n",
       "      <td>0</td>\n",
       "      <td>theft-other</td>\n",
       "      <td>larceny</td>\n",
       "      <td>2017-10-11 12:30:00</td>\n",
       "      <td>10/11/2017 4:55:00 PM</td>\n",
       "      <td>1/29/2018 5:53:00 PM</td>\n",
       "      <td>NaN</td>\n",
       "      <td>3201943.0</td>\n",
       "      <td>1711852.0</td>\n",
       "      <td>-104.781434</td>\n",
       "      <td>39.785649</td>\n",
       "      <td>5</td>\n",
       "      <td>522</td>\n",
       "      <td>gateway-green-valley-ranch</td>\n",
       "      <td>1</td>\n",
       "      <td>0</td>\n",
       "      <td>2017</td>\n",
       "    </tr>\n",
       "    <tr>\n",
       "      <th>2</th>\n",
       "      <td>20166003953</td>\n",
       "      <td>20166003953230500</td>\n",
       "      <td>2305</td>\n",
       "      <td>0</td>\n",
       "      <td>theft-items-from-vehicle</td>\n",
       "      <td>theft-from-motor-vehicle</td>\n",
       "      <td>2016-03-04 20:00:00</td>\n",
       "      <td>4/25/2016 8:00:00 AM</td>\n",
       "      <td>4/26/2016 9:02:00 PM</td>\n",
       "      <td>2932 S JOSEPHINE ST</td>\n",
       "      <td>3152762.0</td>\n",
       "      <td>1667011.0</td>\n",
       "      <td>-104.957381</td>\n",
       "      <td>39.663490</td>\n",
       "      <td>3</td>\n",
       "      <td>314</td>\n",
       "      <td>wellshire</td>\n",
       "      <td>1</td>\n",
       "      <td>0</td>\n",
       "      <td>2016</td>\n",
       "    </tr>\n",
       "    <tr>\n",
       "      <th>3</th>\n",
       "      <td>201872333</td>\n",
       "      <td>201872333239900</td>\n",
       "      <td>2399</td>\n",
       "      <td>0</td>\n",
       "      <td>theft-other</td>\n",
       "      <td>larceny</td>\n",
       "      <td>2018-01-30 19:20:00</td>\n",
       "      <td>NaN</td>\n",
       "      <td>1/30/2018 10:29:00 PM</td>\n",
       "      <td>705 S COLORADO BLVD</td>\n",
       "      <td>3157162.0</td>\n",
       "      <td>1681320.0</td>\n",
       "      <td>-104.941440</td>\n",
       "      <td>39.702698</td>\n",
       "      <td>3</td>\n",
       "      <td>312</td>\n",
       "      <td>belcaro</td>\n",
       "      <td>1</td>\n",
       "      <td>0</td>\n",
       "      <td>2018</td>\n",
       "    </tr>\n",
       "    <tr>\n",
       "      <th>4</th>\n",
       "      <td>2017411405</td>\n",
       "      <td>2017411405230300</td>\n",
       "      <td>2303</td>\n",
       "      <td>0</td>\n",
       "      <td>theft-shoplift</td>\n",
       "      <td>larceny</td>\n",
       "      <td>2017-06-22 20:53:00</td>\n",
       "      <td>NaN</td>\n",
       "      <td>6/23/2017 4:09:00 PM</td>\n",
       "      <td>2810 E 1ST AVE</td>\n",
       "      <td>3153211.0</td>\n",
       "      <td>1686545.0</td>\n",
       "      <td>-104.955370</td>\n",
       "      <td>39.717107</td>\n",
       "      <td>3</td>\n",
       "      <td>311</td>\n",
       "      <td>cherry-creek</td>\n",
       "      <td>1</td>\n",
       "      <td>0</td>\n",
       "      <td>2017</td>\n",
       "    </tr>\n",
       "  </tbody>\n",
       "</table>\n",
       "</div>"
      ],
      "text/plain": [
       "   INCIDENT_ID         OFFENSE_ID  OFFENSE_CODE  OFFENSE_CODE_EXTENSION  \\\n",
       "0   2016376978   2016376978521300          5213                       0   \n",
       "1  20186000994  20186000994239900          2399                       0   \n",
       "2  20166003953  20166003953230500          2305                       0   \n",
       "3    201872333    201872333239900          2399                       0   \n",
       "4   2017411405   2017411405230300          2303                       0   \n",
       "\n",
       "                OFFENSE_TYPE_ID       OFFENSE_CATEGORY_ID  \\\n",
       "0  weapon-unlawful-discharge-of          all-other-crimes   \n",
       "1                   theft-other                   larceny   \n",
       "2      theft-items-from-vehicle  theft-from-motor-vehicle   \n",
       "3                   theft-other                   larceny   \n",
       "4                theft-shoplift                   larceny   \n",
       "\n",
       "  FIRST_OCCURRENCE_DATE   LAST_OCCURRENCE_DATE          REPORTED_DATE  \\\n",
       "0   2016-06-15 23:31:00                    NaN  6/15/2016 11:31:00 PM   \n",
       "1   2017-10-11 12:30:00  10/11/2017 4:55:00 PM   1/29/2018 5:53:00 PM   \n",
       "2   2016-03-04 20:00:00   4/25/2016 8:00:00 AM   4/26/2016 9:02:00 PM   \n",
       "3   2018-01-30 19:20:00                    NaN  1/30/2018 10:29:00 PM   \n",
       "4   2017-06-22 20:53:00                    NaN   6/23/2017 4:09:00 PM   \n",
       "\n",
       "      INCIDENT_ADDRESS      GEO_X      GEO_Y     GEO_LON    GEO_LAT  \\\n",
       "0                  NaN  3193983.0  1707251.0 -104.809881  39.773188   \n",
       "1                  NaN  3201943.0  1711852.0 -104.781434  39.785649   \n",
       "2  2932 S JOSEPHINE ST  3152762.0  1667011.0 -104.957381  39.663490   \n",
       "3  705 S COLORADO BLVD  3157162.0  1681320.0 -104.941440  39.702698   \n",
       "4       2810 E 1ST AVE  3153211.0  1686545.0 -104.955370  39.717107   \n",
       "\n",
       "   DISTRICT_ID  PRECINCT_ID             NEIGHBORHOOD_ID  IS_CRIME  IS_TRAFFIC  \\\n",
       "0            5          521                   montbello         1           0   \n",
       "1            5          522  gateway-green-valley-ranch         1           0   \n",
       "2            3          314                   wellshire         1           0   \n",
       "3            3          312                     belcaro         1           0   \n",
       "4            3          311                cherry-creek         1           0   \n",
       "\n",
       "   YEAR  \n",
       "0  2016  \n",
       "1  2017  \n",
       "2  2016  \n",
       "3  2018  \n",
       "4  2017  "
      ]
     },
     "execution_count": 19,
     "metadata": {},
     "output_type": "execute_result"
    }
   ],
   "source": [
    "acc_crime.head()"
   ]
  },
  {
   "cell_type": "code",
   "execution_count": 20,
   "metadata": {},
   "outputs": [
    {
     "data": {
      "text/html": [
       "<div>\n",
       "<style scoped>\n",
       "    .dataframe tbody tr th:only-of-type {\n",
       "        vertical-align: middle;\n",
       "    }\n",
       "\n",
       "    .dataframe tbody tr th {\n",
       "        vertical-align: top;\n",
       "    }\n",
       "\n",
       "    .dataframe thead th {\n",
       "        text-align: right;\n",
       "    }\n",
       "</style>\n",
       "<table border=\"1\" class=\"dataframe\">\n",
       "  <thead>\n",
       "    <tr style=\"text-align: right;\">\n",
       "      <th></th>\n",
       "      <th>INCIDENT_ID</th>\n",
       "      <th>OFFENSE_ID</th>\n",
       "      <th>OFFENSE_CODE</th>\n",
       "      <th>OFFENSE_CODE_EXTENSION</th>\n",
       "      <th>OFFENSE_TYPE_ID</th>\n",
       "      <th>OFFENSE_CATEGORY_ID</th>\n",
       "      <th>FIRST_OCCURRENCE_DATE</th>\n",
       "      <th>LAST_OCCURRENCE_DATE</th>\n",
       "      <th>REPORTED_DATE</th>\n",
       "      <th>INCIDENT_ADDRESS</th>\n",
       "      <th>GEO_X</th>\n",
       "      <th>GEO_Y</th>\n",
       "      <th>GEO_LON</th>\n",
       "      <th>GEO_LAT</th>\n",
       "      <th>DISTRICT_ID</th>\n",
       "      <th>PRECINCT_ID</th>\n",
       "      <th>NEIGHBORHOOD_ID</th>\n",
       "      <th>IS_CRIME</th>\n",
       "      <th>IS_TRAFFIC</th>\n",
       "      <th>YEAR</th>\n",
       "    </tr>\n",
       "  </thead>\n",
       "  <tbody>\n",
       "    <tr>\n",
       "      <th>0</th>\n",
       "      <td>2016376978</td>\n",
       "      <td>2016376978521300</td>\n",
       "      <td>5213</td>\n",
       "      <td>0</td>\n",
       "      <td>weapon-unlawful-discharge-of</td>\n",
       "      <td>all-other-crimes</td>\n",
       "      <td>2016-06-15 23:31:00</td>\n",
       "      <td>NaN</td>\n",
       "      <td>6/15/2016 11:31:00 PM</td>\n",
       "      <td>NaN</td>\n",
       "      <td>3193983.0</td>\n",
       "      <td>1707251.0</td>\n",
       "      <td>-104.809881</td>\n",
       "      <td>39.773188</td>\n",
       "      <td>5</td>\n",
       "      <td>521</td>\n",
       "      <td>montbello</td>\n",
       "      <td>1</td>\n",
       "      <td>0</td>\n",
       "      <td>2016</td>\n",
       "    </tr>\n",
       "    <tr>\n",
       "      <th>1</th>\n",
       "      <td>20186000994</td>\n",
       "      <td>20186000994239900</td>\n",
       "      <td>2399</td>\n",
       "      <td>0</td>\n",
       "      <td>theft-other</td>\n",
       "      <td>larceny</td>\n",
       "      <td>2017-10-11 12:30:00</td>\n",
       "      <td>10/11/2017 4:55:00 PM</td>\n",
       "      <td>1/29/2018 5:53:00 PM</td>\n",
       "      <td>NaN</td>\n",
       "      <td>3201943.0</td>\n",
       "      <td>1711852.0</td>\n",
       "      <td>-104.781434</td>\n",
       "      <td>39.785649</td>\n",
       "      <td>5</td>\n",
       "      <td>522</td>\n",
       "      <td>gateway-green-valley-ranch</td>\n",
       "      <td>1</td>\n",
       "      <td>0</td>\n",
       "      <td>2017</td>\n",
       "    </tr>\n",
       "    <tr>\n",
       "      <th>2</th>\n",
       "      <td>20166003953</td>\n",
       "      <td>20166003953230500</td>\n",
       "      <td>2305</td>\n",
       "      <td>0</td>\n",
       "      <td>theft-items-from-vehicle</td>\n",
       "      <td>theft-from-motor-vehicle</td>\n",
       "      <td>2016-03-04 20:00:00</td>\n",
       "      <td>4/25/2016 8:00:00 AM</td>\n",
       "      <td>4/26/2016 9:02:00 PM</td>\n",
       "      <td>2932 S JOSEPHINE ST</td>\n",
       "      <td>3152762.0</td>\n",
       "      <td>1667011.0</td>\n",
       "      <td>-104.957381</td>\n",
       "      <td>39.663490</td>\n",
       "      <td>3</td>\n",
       "      <td>314</td>\n",
       "      <td>wellshire</td>\n",
       "      <td>1</td>\n",
       "      <td>0</td>\n",
       "      <td>2016</td>\n",
       "    </tr>\n",
       "    <tr>\n",
       "      <th>3</th>\n",
       "      <td>201872333</td>\n",
       "      <td>201872333239900</td>\n",
       "      <td>2399</td>\n",
       "      <td>0</td>\n",
       "      <td>theft-other</td>\n",
       "      <td>larceny</td>\n",
       "      <td>2018-01-30 19:20:00</td>\n",
       "      <td>NaN</td>\n",
       "      <td>1/30/2018 10:29:00 PM</td>\n",
       "      <td>705 S COLORADO BLVD</td>\n",
       "      <td>3157162.0</td>\n",
       "      <td>1681320.0</td>\n",
       "      <td>-104.941440</td>\n",
       "      <td>39.702698</td>\n",
       "      <td>3</td>\n",
       "      <td>312</td>\n",
       "      <td>belcaro</td>\n",
       "      <td>1</td>\n",
       "      <td>0</td>\n",
       "      <td>2018</td>\n",
       "    </tr>\n",
       "    <tr>\n",
       "      <th>4</th>\n",
       "      <td>2017411405</td>\n",
       "      <td>2017411405230300</td>\n",
       "      <td>2303</td>\n",
       "      <td>0</td>\n",
       "      <td>theft-shoplift</td>\n",
       "      <td>larceny</td>\n",
       "      <td>2017-06-22 20:53:00</td>\n",
       "      <td>NaN</td>\n",
       "      <td>6/23/2017 4:09:00 PM</td>\n",
       "      <td>2810 E 1ST AVE</td>\n",
       "      <td>3153211.0</td>\n",
       "      <td>1686545.0</td>\n",
       "      <td>-104.955370</td>\n",
       "      <td>39.717107</td>\n",
       "      <td>3</td>\n",
       "      <td>311</td>\n",
       "      <td>cherry-creek</td>\n",
       "      <td>1</td>\n",
       "      <td>0</td>\n",
       "      <td>2017</td>\n",
       "    </tr>\n",
       "  </tbody>\n",
       "</table>\n",
       "</div>"
      ],
      "text/plain": [
       "   INCIDENT_ID         OFFENSE_ID  OFFENSE_CODE  OFFENSE_CODE_EXTENSION  \\\n",
       "0   2016376978   2016376978521300          5213                       0   \n",
       "1  20186000994  20186000994239900          2399                       0   \n",
       "2  20166003953  20166003953230500          2305                       0   \n",
       "3    201872333    201872333239900          2399                       0   \n",
       "4   2017411405   2017411405230300          2303                       0   \n",
       "\n",
       "                OFFENSE_TYPE_ID       OFFENSE_CATEGORY_ID  \\\n",
       "0  weapon-unlawful-discharge-of          all-other-crimes   \n",
       "1                   theft-other                   larceny   \n",
       "2      theft-items-from-vehicle  theft-from-motor-vehicle   \n",
       "3                   theft-other                   larceny   \n",
       "4                theft-shoplift                   larceny   \n",
       "\n",
       "  FIRST_OCCURRENCE_DATE   LAST_OCCURRENCE_DATE          REPORTED_DATE  \\\n",
       "0   2016-06-15 23:31:00                    NaN  6/15/2016 11:31:00 PM   \n",
       "1   2017-10-11 12:30:00  10/11/2017 4:55:00 PM   1/29/2018 5:53:00 PM   \n",
       "2   2016-03-04 20:00:00   4/25/2016 8:00:00 AM   4/26/2016 9:02:00 PM   \n",
       "3   2018-01-30 19:20:00                    NaN  1/30/2018 10:29:00 PM   \n",
       "4   2017-06-22 20:53:00                    NaN   6/23/2017 4:09:00 PM   \n",
       "\n",
       "      INCIDENT_ADDRESS      GEO_X      GEO_Y     GEO_LON    GEO_LAT  \\\n",
       "0                  NaN  3193983.0  1707251.0 -104.809881  39.773188   \n",
       "1                  NaN  3201943.0  1711852.0 -104.781434  39.785649   \n",
       "2  2932 S JOSEPHINE ST  3152762.0  1667011.0 -104.957381  39.663490   \n",
       "3  705 S COLORADO BLVD  3157162.0  1681320.0 -104.941440  39.702698   \n",
       "4       2810 E 1ST AVE  3153211.0  1686545.0 -104.955370  39.717107   \n",
       "\n",
       "   DISTRICT_ID  PRECINCT_ID             NEIGHBORHOOD_ID  IS_CRIME  IS_TRAFFIC  \\\n",
       "0            5          521                   montbello         1           0   \n",
       "1            5          522  gateway-green-valley-ranch         1           0   \n",
       "2            3          314                   wellshire         1           0   \n",
       "3            3          312                     belcaro         1           0   \n",
       "4            3          311                cherry-creek         1           0   \n",
       "\n",
       "   YEAR  \n",
       "0  2016  \n",
       "1  2017  \n",
       "2  2016  \n",
       "3  2018  \n",
       "4  2017  "
      ]
     },
     "execution_count": 20,
     "metadata": {},
     "output_type": "execute_result"
    }
   ],
   "source": [
    "acc_crime.head()"
   ]
  },
  {
   "cell_type": "code",
   "execution_count": 21,
   "metadata": {},
   "outputs": [],
   "source": [
    "acc_crime.loc[:, 'MONTH'] = acc_crime.FIRST_OCCURRENCE_DATE.dt.month.copy()\n",
    "acc_crime.loc[:, 'DAY'] = acc_crime.FIRST_OCCURRENCE_DATE.dt.day.copy()\n",
    "acc_crime.loc[:, 'DAY_OF_WEEK'] = acc_crime.FIRST_OCCURRENCE_DATE.dt.dayofweek.copy()\n",
    "acc_crime.loc[:, 'DAY_OF_YEAR'] = acc_crime.FIRST_OCCURRENCE_DATE.dt.dayofyear.copy()\n",
    "acc_crime.loc[:, 'HOUR'] = acc_crime.FIRST_OCCURRENCE_DATE.dt.hour.copy()"
   ]
  },
  {
   "cell_type": "code",
   "execution_count": 22,
   "metadata": {
    "scrolled": true
   },
   "outputs": [
    {
     "data": {
      "text/html": [
       "<div>\n",
       "<style scoped>\n",
       "    .dataframe tbody tr th:only-of-type {\n",
       "        vertical-align: middle;\n",
       "    }\n",
       "\n",
       "    .dataframe tbody tr th {\n",
       "        vertical-align: top;\n",
       "    }\n",
       "\n",
       "    .dataframe thead th {\n",
       "        text-align: right;\n",
       "    }\n",
       "</style>\n",
       "<table border=\"1\" class=\"dataframe\">\n",
       "  <thead>\n",
       "    <tr style=\"text-align: right;\">\n",
       "      <th></th>\n",
       "      <th>INCIDENT_ID</th>\n",
       "      <th>OFFENSE_ID</th>\n",
       "      <th>OFFENSE_CODE</th>\n",
       "      <th>OFFENSE_CODE_EXTENSION</th>\n",
       "      <th>OFFENSE_TYPE_ID</th>\n",
       "      <th>OFFENSE_CATEGORY_ID</th>\n",
       "      <th>FIRST_OCCURRENCE_DATE</th>\n",
       "      <th>LAST_OCCURRENCE_DATE</th>\n",
       "      <th>REPORTED_DATE</th>\n",
       "      <th>INCIDENT_ADDRESS</th>\n",
       "      <th>...</th>\n",
       "      <th>PRECINCT_ID</th>\n",
       "      <th>NEIGHBORHOOD_ID</th>\n",
       "      <th>IS_CRIME</th>\n",
       "      <th>IS_TRAFFIC</th>\n",
       "      <th>YEAR</th>\n",
       "      <th>MONTH</th>\n",
       "      <th>DAY</th>\n",
       "      <th>DAY_OF_WEEK</th>\n",
       "      <th>DAY_OF_YEAR</th>\n",
       "      <th>HOUR</th>\n",
       "    </tr>\n",
       "  </thead>\n",
       "  <tbody>\n",
       "    <tr>\n",
       "      <th>0</th>\n",
       "      <td>2016376978</td>\n",
       "      <td>2016376978521300</td>\n",
       "      <td>5213</td>\n",
       "      <td>0</td>\n",
       "      <td>weapon-unlawful-discharge-of</td>\n",
       "      <td>all-other-crimes</td>\n",
       "      <td>2016-06-15 23:31:00</td>\n",
       "      <td>NaN</td>\n",
       "      <td>6/15/2016 11:31:00 PM</td>\n",
       "      <td>NaN</td>\n",
       "      <td>...</td>\n",
       "      <td>521</td>\n",
       "      <td>montbello</td>\n",
       "      <td>1</td>\n",
       "      <td>0</td>\n",
       "      <td>2016</td>\n",
       "      <td>6</td>\n",
       "      <td>15</td>\n",
       "      <td>2</td>\n",
       "      <td>167</td>\n",
       "      <td>23</td>\n",
       "    </tr>\n",
       "    <tr>\n",
       "      <th>1</th>\n",
       "      <td>20186000994</td>\n",
       "      <td>20186000994239900</td>\n",
       "      <td>2399</td>\n",
       "      <td>0</td>\n",
       "      <td>theft-other</td>\n",
       "      <td>larceny</td>\n",
       "      <td>2017-10-11 12:30:00</td>\n",
       "      <td>10/11/2017 4:55:00 PM</td>\n",
       "      <td>1/29/2018 5:53:00 PM</td>\n",
       "      <td>NaN</td>\n",
       "      <td>...</td>\n",
       "      <td>522</td>\n",
       "      <td>gateway-green-valley-ranch</td>\n",
       "      <td>1</td>\n",
       "      <td>0</td>\n",
       "      <td>2017</td>\n",
       "      <td>10</td>\n",
       "      <td>11</td>\n",
       "      <td>2</td>\n",
       "      <td>284</td>\n",
       "      <td>12</td>\n",
       "    </tr>\n",
       "    <tr>\n",
       "      <th>2</th>\n",
       "      <td>20166003953</td>\n",
       "      <td>20166003953230500</td>\n",
       "      <td>2305</td>\n",
       "      <td>0</td>\n",
       "      <td>theft-items-from-vehicle</td>\n",
       "      <td>theft-from-motor-vehicle</td>\n",
       "      <td>2016-03-04 20:00:00</td>\n",
       "      <td>4/25/2016 8:00:00 AM</td>\n",
       "      <td>4/26/2016 9:02:00 PM</td>\n",
       "      <td>2932 S JOSEPHINE ST</td>\n",
       "      <td>...</td>\n",
       "      <td>314</td>\n",
       "      <td>wellshire</td>\n",
       "      <td>1</td>\n",
       "      <td>0</td>\n",
       "      <td>2016</td>\n",
       "      <td>3</td>\n",
       "      <td>4</td>\n",
       "      <td>4</td>\n",
       "      <td>64</td>\n",
       "      <td>20</td>\n",
       "    </tr>\n",
       "    <tr>\n",
       "      <th>3</th>\n",
       "      <td>201872333</td>\n",
       "      <td>201872333239900</td>\n",
       "      <td>2399</td>\n",
       "      <td>0</td>\n",
       "      <td>theft-other</td>\n",
       "      <td>larceny</td>\n",
       "      <td>2018-01-30 19:20:00</td>\n",
       "      <td>NaN</td>\n",
       "      <td>1/30/2018 10:29:00 PM</td>\n",
       "      <td>705 S COLORADO BLVD</td>\n",
       "      <td>...</td>\n",
       "      <td>312</td>\n",
       "      <td>belcaro</td>\n",
       "      <td>1</td>\n",
       "      <td>0</td>\n",
       "      <td>2018</td>\n",
       "      <td>1</td>\n",
       "      <td>30</td>\n",
       "      <td>1</td>\n",
       "      <td>30</td>\n",
       "      <td>19</td>\n",
       "    </tr>\n",
       "    <tr>\n",
       "      <th>4</th>\n",
       "      <td>2017411405</td>\n",
       "      <td>2017411405230300</td>\n",
       "      <td>2303</td>\n",
       "      <td>0</td>\n",
       "      <td>theft-shoplift</td>\n",
       "      <td>larceny</td>\n",
       "      <td>2017-06-22 20:53:00</td>\n",
       "      <td>NaN</td>\n",
       "      <td>6/23/2017 4:09:00 PM</td>\n",
       "      <td>2810 E 1ST AVE</td>\n",
       "      <td>...</td>\n",
       "      <td>311</td>\n",
       "      <td>cherry-creek</td>\n",
       "      <td>1</td>\n",
       "      <td>0</td>\n",
       "      <td>2017</td>\n",
       "      <td>6</td>\n",
       "      <td>22</td>\n",
       "      <td>3</td>\n",
       "      <td>173</td>\n",
       "      <td>20</td>\n",
       "    </tr>\n",
       "  </tbody>\n",
       "</table>\n",
       "<p>5 rows × 25 columns</p>\n",
       "</div>"
      ],
      "text/plain": [
       "   INCIDENT_ID         OFFENSE_ID  OFFENSE_CODE  OFFENSE_CODE_EXTENSION  \\\n",
       "0   2016376978   2016376978521300          5213                       0   \n",
       "1  20186000994  20186000994239900          2399                       0   \n",
       "2  20166003953  20166003953230500          2305                       0   \n",
       "3    201872333    201872333239900          2399                       0   \n",
       "4   2017411405   2017411405230300          2303                       0   \n",
       "\n",
       "                OFFENSE_TYPE_ID       OFFENSE_CATEGORY_ID  \\\n",
       "0  weapon-unlawful-discharge-of          all-other-crimes   \n",
       "1                   theft-other                   larceny   \n",
       "2      theft-items-from-vehicle  theft-from-motor-vehicle   \n",
       "3                   theft-other                   larceny   \n",
       "4                theft-shoplift                   larceny   \n",
       "\n",
       "  FIRST_OCCURRENCE_DATE   LAST_OCCURRENCE_DATE          REPORTED_DATE  \\\n",
       "0   2016-06-15 23:31:00                    NaN  6/15/2016 11:31:00 PM   \n",
       "1   2017-10-11 12:30:00  10/11/2017 4:55:00 PM   1/29/2018 5:53:00 PM   \n",
       "2   2016-03-04 20:00:00   4/25/2016 8:00:00 AM   4/26/2016 9:02:00 PM   \n",
       "3   2018-01-30 19:20:00                    NaN  1/30/2018 10:29:00 PM   \n",
       "4   2017-06-22 20:53:00                    NaN   6/23/2017 4:09:00 PM   \n",
       "\n",
       "      INCIDENT_ADDRESS  ...  PRECINCT_ID             NEIGHBORHOOD_ID  \\\n",
       "0                  NaN  ...          521                   montbello   \n",
       "1                  NaN  ...          522  gateway-green-valley-ranch   \n",
       "2  2932 S JOSEPHINE ST  ...          314                   wellshire   \n",
       "3  705 S COLORADO BLVD  ...          312                     belcaro   \n",
       "4       2810 E 1ST AVE  ...          311                cherry-creek   \n",
       "\n",
       "   IS_CRIME  IS_TRAFFIC  YEAR  MONTH DAY  DAY_OF_WEEK  DAY_OF_YEAR  HOUR  \n",
       "0         1           0  2016      6  15            2          167    23  \n",
       "1         1           0  2017     10  11            2          284    12  \n",
       "2         1           0  2016      3   4            4           64    20  \n",
       "3         1           0  2018      1  30            1           30    19  \n",
       "4         1           0  2017      6  22            3          173    20  \n",
       "\n",
       "[5 rows x 25 columns]"
      ]
     },
     "execution_count": 22,
     "metadata": {},
     "output_type": "execute_result"
    }
   ],
   "source": [
    "acc_crime.head()"
   ]
  },
  {
   "cell_type": "code",
   "execution_count": 23,
   "metadata": {},
   "outputs": [
    {
     "name": "stdout",
     "output_type": "stream",
     "text": [
      "<class 'pandas.core.frame.DataFrame'>\n",
      "Int64Index: 370474 entries, 0 to 507442\n",
      "Data columns (total 25 columns):\n",
      "INCIDENT_ID               370474 non-null int64\n",
      "OFFENSE_ID                370474 non-null int64\n",
      "OFFENSE_CODE              370474 non-null int64\n",
      "OFFENSE_CODE_EXTENSION    370474 non-null int64\n",
      "OFFENSE_TYPE_ID           370474 non-null object\n",
      "OFFENSE_CATEGORY_ID       370474 non-null object\n",
      "FIRST_OCCURRENCE_DATE     370474 non-null datetime64[ns]\n",
      "LAST_OCCURRENCE_DATE      158169 non-null object\n",
      "REPORTED_DATE             370474 non-null object\n",
      "INCIDENT_ADDRESS          336860 non-null object\n",
      "GEO_X                     366343 non-null float64\n",
      "GEO_Y                     366343 non-null float64\n",
      "GEO_LON                   366343 non-null float64\n",
      "GEO_LAT                   366343 non-null float64\n",
      "DISTRICT_ID               370474 non-null int64\n",
      "PRECINCT_ID               370474 non-null int64\n",
      "NEIGHBORHOOD_ID           370474 non-null object\n",
      "IS_CRIME                  370474 non-null int64\n",
      "IS_TRAFFIC                370474 non-null int64\n",
      "YEAR                      370474 non-null int64\n",
      "MONTH                     370474 non-null int64\n",
      "DAY                       370474 non-null int64\n",
      "DAY_OF_WEEK               370474 non-null int64\n",
      "DAY_OF_YEAR               370474 non-null int64\n",
      "HOUR                      370474 non-null int64\n",
      "dtypes: datetime64[ns](1), float64(4), int64(14), object(6)\n",
      "memory usage: 65.0+ MB\n"
     ]
    }
   ],
   "source": [
    "acc_crime.info()"
   ]
  },
  {
   "cell_type": "markdown",
   "metadata": {},
   "source": [
    "### 4. Convert `REPORTED_DATE` to pandas datetime data type"
   ]
  },
  {
   "cell_type": "code",
   "execution_count": 24,
   "metadata": {},
   "outputs": [],
   "source": [
    "rep_crime = acc_crime.astype({'REPORTED_DATE': 'datetime64'})"
   ]
  },
  {
   "cell_type": "code",
   "execution_count": 25,
   "metadata": {},
   "outputs": [
    {
     "name": "stdout",
     "output_type": "stream",
     "text": [
      "<class 'pandas.core.frame.DataFrame'>\n",
      "Int64Index: 370474 entries, 0 to 507442\n",
      "Data columns (total 25 columns):\n",
      "INCIDENT_ID               370474 non-null int64\n",
      "OFFENSE_ID                370474 non-null int64\n",
      "OFFENSE_CODE              370474 non-null int64\n",
      "OFFENSE_CODE_EXTENSION    370474 non-null int64\n",
      "OFFENSE_TYPE_ID           370474 non-null object\n",
      "OFFENSE_CATEGORY_ID       370474 non-null object\n",
      "FIRST_OCCURRENCE_DATE     370474 non-null datetime64[ns]\n",
      "LAST_OCCURRENCE_DATE      158169 non-null object\n",
      "REPORTED_DATE             370474 non-null datetime64[ns]\n",
      "INCIDENT_ADDRESS          336860 non-null object\n",
      "GEO_X                     366343 non-null float64\n",
      "GEO_Y                     366343 non-null float64\n",
      "GEO_LON                   366343 non-null float64\n",
      "GEO_LAT                   366343 non-null float64\n",
      "DISTRICT_ID               370474 non-null int64\n",
      "PRECINCT_ID               370474 non-null int64\n",
      "NEIGHBORHOOD_ID           370474 non-null object\n",
      "IS_CRIME                  370474 non-null int64\n",
      "IS_TRAFFIC                370474 non-null int64\n",
      "YEAR                      370474 non-null int64\n",
      "MONTH                     370474 non-null int64\n",
      "DAY                       370474 non-null int64\n",
      "DAY_OF_WEEK               370474 non-null int64\n",
      "DAY_OF_YEAR               370474 non-null int64\n",
      "HOUR                      370474 non-null int64\n",
      "dtypes: datetime64[ns](2), float64(4), int64(14), object(5)\n",
      "memory usage: 66.4+ MB\n"
     ]
    }
   ],
   "source": [
    "rep_crime.info()"
   ]
  },
  {
   "cell_type": "markdown",
   "metadata": {},
   "source": [
    "Looks good. Now we can find the difference in days between our reported date and first occurance date, to see if certain crimes may have a greater length of time between when they are committed and reported."
   ]
  },
  {
   "cell_type": "markdown",
   "metadata": {},
   "source": [
    "### 5. Add a column `DIFF_DAYS` which will indicate the difference in days from when the offense occurred and when it was reported "
   ]
  },
  {
   "cell_type": "code",
   "execution_count": 26,
   "metadata": {},
   "outputs": [],
   "source": [
    "rep_crime['DIFF_DAYS'] = (rep_crime['REPORTED_DATE'] - rep_crime['FIRST_OCCURRENCE_DATE']).dt.days"
   ]
  },
  {
   "cell_type": "code",
   "execution_count": 27,
   "metadata": {},
   "outputs": [
    {
     "name": "stdout",
     "output_type": "stream",
     "text": [
      "<class 'pandas.core.frame.DataFrame'>\n",
      "Int64Index: 370474 entries, 0 to 507442\n",
      "Data columns (total 26 columns):\n",
      "INCIDENT_ID               370474 non-null int64\n",
      "OFFENSE_ID                370474 non-null int64\n",
      "OFFENSE_CODE              370474 non-null int64\n",
      "OFFENSE_CODE_EXTENSION    370474 non-null int64\n",
      "OFFENSE_TYPE_ID           370474 non-null object\n",
      "OFFENSE_CATEGORY_ID       370474 non-null object\n",
      "FIRST_OCCURRENCE_DATE     370474 non-null datetime64[ns]\n",
      "LAST_OCCURRENCE_DATE      158169 non-null object\n",
      "REPORTED_DATE             370474 non-null datetime64[ns]\n",
      "INCIDENT_ADDRESS          336860 non-null object\n",
      "GEO_X                     366343 non-null float64\n",
      "GEO_Y                     366343 non-null float64\n",
      "GEO_LON                   366343 non-null float64\n",
      "GEO_LAT                   366343 non-null float64\n",
      "DISTRICT_ID               370474 non-null int64\n",
      "PRECINCT_ID               370474 non-null int64\n",
      "NEIGHBORHOOD_ID           370474 non-null object\n",
      "IS_CRIME                  370474 non-null int64\n",
      "IS_TRAFFIC                370474 non-null int64\n",
      "YEAR                      370474 non-null int64\n",
      "MONTH                     370474 non-null int64\n",
      "DAY                       370474 non-null int64\n",
      "DAY_OF_WEEK               370474 non-null int64\n",
      "DAY_OF_YEAR               370474 non-null int64\n",
      "HOUR                      370474 non-null int64\n",
      "DIFF_DAYS                 370474 non-null int64\n",
      "dtypes: datetime64[ns](2), float64(4), int64(15), object(5)\n",
      "memory usage: 69.2+ MB\n"
     ]
    }
   ],
   "source": [
    "rep_crime.info()"
   ]
  },
  {
   "cell_type": "markdown",
   "metadata": {},
   "source": [
    "So we finally have a DataFrame called `rep_crime` with a lot of useful stuff we can look into. Before we do that, we can merge our `data2` DataFrame with our `rep_crime` DataFrame."
   ]
  },
  {
   "cell_type": "markdown",
   "metadata": {},
   "source": [
    "## Merge `rep_crime` with `data2`"
   ]
  },
  {
   "cell_type": "code",
   "execution_count": 28,
   "metadata": {},
   "outputs": [
    {
     "data": {
      "text/html": [
       "<div>\n",
       "<style scoped>\n",
       "    .dataframe tbody tr th:only-of-type {\n",
       "        vertical-align: middle;\n",
       "    }\n",
       "\n",
       "    .dataframe tbody tr th {\n",
       "        vertical-align: top;\n",
       "    }\n",
       "\n",
       "    .dataframe thead th {\n",
       "        text-align: right;\n",
       "    }\n",
       "</style>\n",
       "<table border=\"1\" class=\"dataframe\">\n",
       "  <thead>\n",
       "    <tr style=\"text-align: right;\">\n",
       "      <th></th>\n",
       "      <th>INCIDENT_ID</th>\n",
       "      <th>OFFENSE_ID</th>\n",
       "      <th>OFFENSE_CODE</th>\n",
       "      <th>OFFENSE_CODE_EXTENSION</th>\n",
       "      <th>OFFENSE_TYPE_ID</th>\n",
       "      <th>OFFENSE_CATEGORY_ID</th>\n",
       "      <th>FIRST_OCCURRENCE_DATE</th>\n",
       "      <th>LAST_OCCURRENCE_DATE</th>\n",
       "      <th>REPORTED_DATE</th>\n",
       "      <th>INCIDENT_ADDRESS</th>\n",
       "      <th>...</th>\n",
       "      <th>NEIGHBORHOOD_ID</th>\n",
       "      <th>IS_CRIME</th>\n",
       "      <th>IS_TRAFFIC</th>\n",
       "      <th>YEAR</th>\n",
       "      <th>MONTH</th>\n",
       "      <th>DAY</th>\n",
       "      <th>DAY_OF_WEEK</th>\n",
       "      <th>DAY_OF_YEAR</th>\n",
       "      <th>HOUR</th>\n",
       "      <th>DIFF_DAYS</th>\n",
       "    </tr>\n",
       "  </thead>\n",
       "  <tbody>\n",
       "    <tr>\n",
       "      <th>0</th>\n",
       "      <td>2016376978</td>\n",
       "      <td>2016376978521300</td>\n",
       "      <td>5213</td>\n",
       "      <td>0</td>\n",
       "      <td>weapon-unlawful-discharge-of</td>\n",
       "      <td>all-other-crimes</td>\n",
       "      <td>2016-06-15 23:31:00</td>\n",
       "      <td>NaN</td>\n",
       "      <td>2016-06-15 23:31:00</td>\n",
       "      <td>NaN</td>\n",
       "      <td>...</td>\n",
       "      <td>montbello</td>\n",
       "      <td>1</td>\n",
       "      <td>0</td>\n",
       "      <td>2016</td>\n",
       "      <td>6</td>\n",
       "      <td>15</td>\n",
       "      <td>2</td>\n",
       "      <td>167</td>\n",
       "      <td>23</td>\n",
       "      <td>0</td>\n",
       "    </tr>\n",
       "    <tr>\n",
       "      <th>1</th>\n",
       "      <td>20186000994</td>\n",
       "      <td>20186000994239900</td>\n",
       "      <td>2399</td>\n",
       "      <td>0</td>\n",
       "      <td>theft-other</td>\n",
       "      <td>larceny</td>\n",
       "      <td>2017-10-11 12:30:00</td>\n",
       "      <td>10/11/2017 4:55:00 PM</td>\n",
       "      <td>2018-01-29 17:53:00</td>\n",
       "      <td>NaN</td>\n",
       "      <td>...</td>\n",
       "      <td>gateway-green-valley-ranch</td>\n",
       "      <td>1</td>\n",
       "      <td>0</td>\n",
       "      <td>2017</td>\n",
       "      <td>10</td>\n",
       "      <td>11</td>\n",
       "      <td>2</td>\n",
       "      <td>284</td>\n",
       "      <td>12</td>\n",
       "      <td>110</td>\n",
       "    </tr>\n",
       "    <tr>\n",
       "      <th>2</th>\n",
       "      <td>20166003953</td>\n",
       "      <td>20166003953230500</td>\n",
       "      <td>2305</td>\n",
       "      <td>0</td>\n",
       "      <td>theft-items-from-vehicle</td>\n",
       "      <td>theft-from-motor-vehicle</td>\n",
       "      <td>2016-03-04 20:00:00</td>\n",
       "      <td>4/25/2016 8:00:00 AM</td>\n",
       "      <td>2016-04-26 21:02:00</td>\n",
       "      <td>2932 S JOSEPHINE ST</td>\n",
       "      <td>...</td>\n",
       "      <td>wellshire</td>\n",
       "      <td>1</td>\n",
       "      <td>0</td>\n",
       "      <td>2016</td>\n",
       "      <td>3</td>\n",
       "      <td>4</td>\n",
       "      <td>4</td>\n",
       "      <td>64</td>\n",
       "      <td>20</td>\n",
       "      <td>53</td>\n",
       "    </tr>\n",
       "    <tr>\n",
       "      <th>3</th>\n",
       "      <td>201872333</td>\n",
       "      <td>201872333239900</td>\n",
       "      <td>2399</td>\n",
       "      <td>0</td>\n",
       "      <td>theft-other</td>\n",
       "      <td>larceny</td>\n",
       "      <td>2018-01-30 19:20:00</td>\n",
       "      <td>NaN</td>\n",
       "      <td>2018-01-30 22:29:00</td>\n",
       "      <td>705 S COLORADO BLVD</td>\n",
       "      <td>...</td>\n",
       "      <td>belcaro</td>\n",
       "      <td>1</td>\n",
       "      <td>0</td>\n",
       "      <td>2018</td>\n",
       "      <td>1</td>\n",
       "      <td>30</td>\n",
       "      <td>1</td>\n",
       "      <td>30</td>\n",
       "      <td>19</td>\n",
       "      <td>0</td>\n",
       "    </tr>\n",
       "    <tr>\n",
       "      <th>4</th>\n",
       "      <td>2017411405</td>\n",
       "      <td>2017411405230300</td>\n",
       "      <td>2303</td>\n",
       "      <td>0</td>\n",
       "      <td>theft-shoplift</td>\n",
       "      <td>larceny</td>\n",
       "      <td>2017-06-22 20:53:00</td>\n",
       "      <td>NaN</td>\n",
       "      <td>2017-06-23 16:09:00</td>\n",
       "      <td>2810 E 1ST AVE</td>\n",
       "      <td>...</td>\n",
       "      <td>cherry-creek</td>\n",
       "      <td>1</td>\n",
       "      <td>0</td>\n",
       "      <td>2017</td>\n",
       "      <td>6</td>\n",
       "      <td>22</td>\n",
       "      <td>3</td>\n",
       "      <td>173</td>\n",
       "      <td>20</td>\n",
       "      <td>0</td>\n",
       "    </tr>\n",
       "  </tbody>\n",
       "</table>\n",
       "<p>5 rows × 26 columns</p>\n",
       "</div>"
      ],
      "text/plain": [
       "   INCIDENT_ID         OFFENSE_ID  OFFENSE_CODE  OFFENSE_CODE_EXTENSION  \\\n",
       "0   2016376978   2016376978521300          5213                       0   \n",
       "1  20186000994  20186000994239900          2399                       0   \n",
       "2  20166003953  20166003953230500          2305                       0   \n",
       "3    201872333    201872333239900          2399                       0   \n",
       "4   2017411405   2017411405230300          2303                       0   \n",
       "\n",
       "                OFFENSE_TYPE_ID       OFFENSE_CATEGORY_ID  \\\n",
       "0  weapon-unlawful-discharge-of          all-other-crimes   \n",
       "1                   theft-other                   larceny   \n",
       "2      theft-items-from-vehicle  theft-from-motor-vehicle   \n",
       "3                   theft-other                   larceny   \n",
       "4                theft-shoplift                   larceny   \n",
       "\n",
       "  FIRST_OCCURRENCE_DATE   LAST_OCCURRENCE_DATE       REPORTED_DATE  \\\n",
       "0   2016-06-15 23:31:00                    NaN 2016-06-15 23:31:00   \n",
       "1   2017-10-11 12:30:00  10/11/2017 4:55:00 PM 2018-01-29 17:53:00   \n",
       "2   2016-03-04 20:00:00   4/25/2016 8:00:00 AM 2016-04-26 21:02:00   \n",
       "3   2018-01-30 19:20:00                    NaN 2018-01-30 22:29:00   \n",
       "4   2017-06-22 20:53:00                    NaN 2017-06-23 16:09:00   \n",
       "\n",
       "      INCIDENT_ADDRESS  ...             NEIGHBORHOOD_ID  IS_CRIME  IS_TRAFFIC  \\\n",
       "0                  NaN  ...                   montbello         1           0   \n",
       "1                  NaN  ...  gateway-green-valley-ranch         1           0   \n",
       "2  2932 S JOSEPHINE ST  ...                   wellshire         1           0   \n",
       "3  705 S COLORADO BLVD  ...                     belcaro         1           0   \n",
       "4       2810 E 1ST AVE  ...                cherry-creek         1           0   \n",
       "\n",
       "   YEAR  MONTH  DAY DAY_OF_WEEK  DAY_OF_YEAR  HOUR  DIFF_DAYS  \n",
       "0  2016      6   15           2          167    23          0  \n",
       "1  2017     10   11           2          284    12        110  \n",
       "2  2016      3    4           4           64    20         53  \n",
       "3  2018      1   30           1           30    19          0  \n",
       "4  2017      6   22           3          173    20          0  \n",
       "\n",
       "[5 rows x 26 columns]"
      ]
     },
     "execution_count": 28,
     "metadata": {},
     "output_type": "execute_result"
    }
   ],
   "source": [
    "rep_crime.head()"
   ]
  },
  {
   "cell_type": "code",
   "execution_count": 29,
   "metadata": {},
   "outputs": [
    {
     "data": {
      "text/html": [
       "<div>\n",
       "<style scoped>\n",
       "    .dataframe tbody tr th:only-of-type {\n",
       "        vertical-align: middle;\n",
       "    }\n",
       "\n",
       "    .dataframe tbody tr th {\n",
       "        vertical-align: top;\n",
       "    }\n",
       "\n",
       "    .dataframe thead th {\n",
       "        text-align: right;\n",
       "    }\n",
       "</style>\n",
       "<table border=\"1\" class=\"dataframe\">\n",
       "  <thead>\n",
       "    <tr style=\"text-align: right;\">\n",
       "      <th></th>\n",
       "      <th>OFFENSE_CODE</th>\n",
       "      <th>OFFENSE_CODE_EXTENSION</th>\n",
       "      <th>OFFENSE_TYPE_ID</th>\n",
       "      <th>OFFENSE_TYPE_NAME</th>\n",
       "      <th>OFFENSE_CATEGORY_ID</th>\n",
       "      <th>OFFENSE_CATEGORY_NAME</th>\n",
       "      <th>IS_CRIME</th>\n",
       "      <th>IS_TRAFFIC</th>\n",
       "    </tr>\n",
       "  </thead>\n",
       "  <tbody>\n",
       "    <tr>\n",
       "      <th>0</th>\n",
       "      <td>2804</td>\n",
       "      <td>1</td>\n",
       "      <td>stolen-property-possession</td>\n",
       "      <td>Possession of stolen property</td>\n",
       "      <td>all-other-crimes</td>\n",
       "      <td>All Other Crimes</td>\n",
       "      <td>1</td>\n",
       "      <td>0</td>\n",
       "    </tr>\n",
       "    <tr>\n",
       "      <th>1</th>\n",
       "      <td>2804</td>\n",
       "      <td>2</td>\n",
       "      <td>fraud-possess-financial-device</td>\n",
       "      <td>Possession of a financial device</td>\n",
       "      <td>all-other-crimes</td>\n",
       "      <td>All Other Crimes</td>\n",
       "      <td>1</td>\n",
       "      <td>0</td>\n",
       "    </tr>\n",
       "    <tr>\n",
       "      <th>2</th>\n",
       "      <td>2901</td>\n",
       "      <td>0</td>\n",
       "      <td>damaged-prop-bus</td>\n",
       "      <td>Damaged business property</td>\n",
       "      <td>public-disorder</td>\n",
       "      <td>Public Disorder</td>\n",
       "      <td>1</td>\n",
       "      <td>0</td>\n",
       "    </tr>\n",
       "    <tr>\n",
       "      <th>3</th>\n",
       "      <td>2902</td>\n",
       "      <td>0</td>\n",
       "      <td>criminal-mischief-private</td>\n",
       "      <td>Criminal mischief to private property</td>\n",
       "      <td>public-disorder</td>\n",
       "      <td>Public Disorder</td>\n",
       "      <td>1</td>\n",
       "      <td>0</td>\n",
       "    </tr>\n",
       "    <tr>\n",
       "      <th>4</th>\n",
       "      <td>2903</td>\n",
       "      <td>0</td>\n",
       "      <td>criminal-mischief-public</td>\n",
       "      <td>Criminal mischief to public property</td>\n",
       "      <td>public-disorder</td>\n",
       "      <td>Public Disorder</td>\n",
       "      <td>1</td>\n",
       "      <td>0</td>\n",
       "    </tr>\n",
       "  </tbody>\n",
       "</table>\n",
       "</div>"
      ],
      "text/plain": [
       "   OFFENSE_CODE  OFFENSE_CODE_EXTENSION                 OFFENSE_TYPE_ID  \\\n",
       "0          2804                       1      stolen-property-possession   \n",
       "1          2804                       2  fraud-possess-financial-device   \n",
       "2          2901                       0                damaged-prop-bus   \n",
       "3          2902                       0       criminal-mischief-private   \n",
       "4          2903                       0        criminal-mischief-public   \n",
       "\n",
       "                       OFFENSE_TYPE_NAME OFFENSE_CATEGORY_ID  \\\n",
       "0          Possession of stolen property    all-other-crimes   \n",
       "1       Possession of a financial device    all-other-crimes   \n",
       "2              Damaged business property     public-disorder   \n",
       "3  Criminal mischief to private property     public-disorder   \n",
       "4   Criminal mischief to public property     public-disorder   \n",
       "\n",
       "  OFFENSE_CATEGORY_NAME  IS_CRIME  IS_TRAFFIC  \n",
       "0      All Other Crimes         1           0  \n",
       "1      All Other Crimes         1           0  \n",
       "2       Public Disorder         1           0  \n",
       "3       Public Disorder         1           0  \n",
       "4       Public Disorder         1           0  "
      ]
     },
     "execution_count": 29,
     "metadata": {},
     "output_type": "execute_result"
    }
   ],
   "source": [
    "data2.head()"
   ]
  },
  {
   "cell_type": "code",
   "execution_count": 30,
   "metadata": {},
   "outputs": [],
   "source": [
    "den_crime = rep_crime.merge(data2)"
   ]
  },
  {
   "cell_type": "code",
   "execution_count": 31,
   "metadata": {},
   "outputs": [
    {
     "name": "stdout",
     "output_type": "stream",
     "text": [
      "<class 'pandas.core.frame.DataFrame'>\n",
      "Int64Index: 370474 entries, 0 to 370473\n",
      "Data columns (total 28 columns):\n",
      "INCIDENT_ID               370474 non-null int64\n",
      "OFFENSE_ID                370474 non-null int64\n",
      "OFFENSE_CODE              370474 non-null int64\n",
      "OFFENSE_CODE_EXTENSION    370474 non-null int64\n",
      "OFFENSE_TYPE_ID           370474 non-null object\n",
      "OFFENSE_CATEGORY_ID       370474 non-null object\n",
      "FIRST_OCCURRENCE_DATE     370474 non-null datetime64[ns]\n",
      "LAST_OCCURRENCE_DATE      158169 non-null object\n",
      "REPORTED_DATE             370474 non-null datetime64[ns]\n",
      "INCIDENT_ADDRESS          336860 non-null object\n",
      "GEO_X                     366343 non-null float64\n",
      "GEO_Y                     366343 non-null float64\n",
      "GEO_LON                   366343 non-null float64\n",
      "GEO_LAT                   366343 non-null float64\n",
      "DISTRICT_ID               370474 non-null int64\n",
      "PRECINCT_ID               370474 non-null int64\n",
      "NEIGHBORHOOD_ID           370474 non-null object\n",
      "IS_CRIME                  370474 non-null int64\n",
      "IS_TRAFFIC                370474 non-null int64\n",
      "YEAR                      370474 non-null int64\n",
      "MONTH                     370474 non-null int64\n",
      "DAY                       370474 non-null int64\n",
      "DAY_OF_WEEK               370474 non-null int64\n",
      "DAY_OF_YEAR               370474 non-null int64\n",
      "HOUR                      370474 non-null int64\n",
      "DIFF_DAYS                 370474 non-null int64\n",
      "OFFENSE_TYPE_NAME         370474 non-null object\n",
      "OFFENSE_CATEGORY_NAME     370474 non-null object\n",
      "dtypes: datetime64[ns](2), float64(4), int64(15), object(7)\n",
      "memory usage: 171.5 MB\n"
     ]
    }
   ],
   "source": [
    "den_crime.info(memory_usage='deep')"
   ]
  },
  {
   "cell_type": "markdown",
   "metadata": {},
   "source": [
    "We can make another DataFrame with only the columns we are interested in. This resulting DataFrame will be the final version where we will conduct an exploratory analysis. "
   ]
  },
  {
   "cell_type": "code",
   "execution_count": 32,
   "metadata": {},
   "outputs": [],
   "source": [
    "fin_crime = den_crime[['OFFENSE_TYPE_ID',\n",
    " 'OFFENSE_TYPE_NAME',   \n",
    " 'OFFENSE_CATEGORY_ID',\n",
    " 'OFFENSE_CATEGORY_NAME',\n",
    " 'FIRST_OCCURRENCE_DATE',\n",
    " 'YEAR',\n",
    " 'MONTH',\n",
    " 'DAY',\n",
    " 'DAY_OF_WEEK',\n",
    " 'DAY_OF_YEAR',\n",
    " 'HOUR',\n",
    " 'LAST_OCCURRENCE_DATE',\n",
    " 'REPORTED_DATE',\n",
    " 'DIFF_DAYS',\n",
    " 'DISTRICT_ID',\n",
    " 'PRECINCT_ID',\n",
    " 'NEIGHBORHOOD_ID']]"
   ]
  },
  {
   "cell_type": "code",
   "execution_count": 33,
   "metadata": {},
   "outputs": [
    {
     "name": "stdout",
     "output_type": "stream",
     "text": [
      "<class 'pandas.core.frame.DataFrame'>\n",
      "Int64Index: 370474 entries, 0 to 370473\n",
      "Data columns (total 17 columns):\n",
      "OFFENSE_TYPE_ID          370474 non-null object\n",
      "OFFENSE_TYPE_NAME        370474 non-null object\n",
      "OFFENSE_CATEGORY_ID      370474 non-null object\n",
      "OFFENSE_CATEGORY_NAME    370474 non-null object\n",
      "FIRST_OCCURRENCE_DATE    370474 non-null datetime64[ns]\n",
      "YEAR                     370474 non-null int64\n",
      "MONTH                    370474 non-null int64\n",
      "DAY                      370474 non-null int64\n",
      "DAY_OF_WEEK              370474 non-null int64\n",
      "DAY_OF_YEAR              370474 non-null int64\n",
      "HOUR                     370474 non-null int64\n",
      "LAST_OCCURRENCE_DATE     158169 non-null object\n",
      "REPORTED_DATE            370474 non-null datetime64[ns]\n",
      "DIFF_DAYS                370474 non-null int64\n",
      "DISTRICT_ID              370474 non-null int64\n",
      "PRECINCT_ID              370474 non-null int64\n",
      "NEIGHBORHOOD_ID          370474 non-null object\n",
      "dtypes: datetime64[ns](2), int64(9), object(6)\n",
      "memory usage: 127.2 MB\n"
     ]
    }
   ],
   "source": [
    "fin_crime.info(memory_usage='deep')"
   ]
  },
  {
   "cell_type": "markdown",
   "metadata": {},
   "source": [
    "One more tweak before the exploratory analysis. We should probably remove the `LAST_OCCURRENCE_DATE` column as it has a majority of rows with null data."
   ]
  },
  {
   "cell_type": "code",
   "execution_count": 34,
   "metadata": {
    "scrolled": true
   },
   "outputs": [
    {
     "data": {
      "text/plain": [
       "Index(['OFFENSE_TYPE_ID', 'OFFENSE_TYPE_NAME', 'OFFENSE_CATEGORY_ID',\n",
       "       'OFFENSE_CATEGORY_NAME', 'FIRST_OCCURRENCE_DATE', 'YEAR', 'MONTH',\n",
       "       'DAY', 'DAY_OF_WEEK', 'DAY_OF_YEAR', 'HOUR', 'LAST_OCCURRENCE_DATE',\n",
       "       'REPORTED_DATE', 'DIFF_DAYS', 'DISTRICT_ID', 'PRECINCT_ID',\n",
       "       'NEIGHBORHOOD_ID'],\n",
       "      dtype='object')"
      ]
     },
     "execution_count": 34,
     "metadata": {},
     "output_type": "execute_result"
    }
   ],
   "source": [
    "fin_crime.columns"
   ]
  },
  {
   "cell_type": "code",
   "execution_count": 35,
   "metadata": {},
   "outputs": [],
   "source": [
    "fin_crime.loc[:, 'LAST_OCCURRENCE_DATE'] = den_crime.LAST_OCCURRENCE_DATE.copy()"
   ]
  },
  {
   "cell_type": "code",
   "execution_count": 36,
   "metadata": {},
   "outputs": [
    {
     "data": {
      "text/plain": [
       "Index(['OFFENSE_TYPE_ID', 'OFFENSE_TYPE_NAME', 'OFFENSE_CATEGORY_ID',\n",
       "       'OFFENSE_CATEGORY_NAME', 'FIRST_OCCURRENCE_DATE', 'YEAR', 'MONTH',\n",
       "       'DAY', 'DAY_OF_WEEK', 'DAY_OF_YEAR', 'HOUR', 'LAST_OCCURRENCE_DATE',\n",
       "       'REPORTED_DATE', 'DIFF_DAYS', 'DISTRICT_ID', 'PRECINCT_ID',\n",
       "       'NEIGHBORHOOD_ID'],\n",
       "      dtype='object')"
      ]
     },
     "execution_count": 36,
     "metadata": {},
     "output_type": "execute_result"
    }
   ],
   "source": [
    "fin_crime.columns"
   ]
  },
  {
   "cell_type": "code",
   "execution_count": 37,
   "metadata": {
    "scrolled": true
   },
   "outputs": [],
   "source": [
    "fin_crime = fin_crime.drop('LAST_OCCURRENCE_DATE', axis=1)"
   ]
  },
  {
   "cell_type": "code",
   "execution_count": 38,
   "metadata": {},
   "outputs": [
    {
     "name": "stdout",
     "output_type": "stream",
     "text": [
      "<class 'pandas.core.frame.DataFrame'>\n",
      "Int64Index: 370474 entries, 0 to 370473\n",
      "Data columns (total 16 columns):\n",
      "OFFENSE_TYPE_ID          370474 non-null object\n",
      "OFFENSE_TYPE_NAME        370474 non-null object\n",
      "OFFENSE_CATEGORY_ID      370474 non-null object\n",
      "OFFENSE_CATEGORY_NAME    370474 non-null object\n",
      "FIRST_OCCURRENCE_DATE    370474 non-null datetime64[ns]\n",
      "YEAR                     370474 non-null int64\n",
      "MONTH                    370474 non-null int64\n",
      "DAY                      370474 non-null int64\n",
      "DAY_OF_WEEK              370474 non-null int64\n",
      "DAY_OF_YEAR              370474 non-null int64\n",
      "HOUR                     370474 non-null int64\n",
      "REPORTED_DATE            370474 non-null datetime64[ns]\n",
      "DIFF_DAYS                370474 non-null int64\n",
      "DISTRICT_ID              370474 non-null int64\n",
      "PRECINCT_ID              370474 non-null int64\n",
      "NEIGHBORHOOD_ID          370474 non-null object\n",
      "dtypes: datetime64[ns](2), int64(9), object(5)\n",
      "memory usage: 41.0+ MB\n"
     ]
    }
   ],
   "source": [
    "fin_crime.info()"
   ]
  },
  {
   "cell_type": "markdown",
   "metadata": {},
   "source": [
    "Looks like we have a DataFrame with only criminal occurrences set up in a useful way."
   ]
  },
  {
   "cell_type": "markdown",
   "metadata": {},
   "source": [
    "## Exploratory Data Analysis on `fin_crime`"
   ]
  },
  {
   "cell_type": "markdown",
   "metadata": {},
   "source": [
    "A few simple value counts may be worth finding here to get us started. Let's check out the most common crimes by `OFFENSE_CATEGORY_NAME` and `OFFENSE_TYPE_NAME` as these are the greatest descriptors for the type of crime committed.                 "
   ]
  },
  {
   "cell_type": "code",
   "execution_count": 39,
   "metadata": {},
   "outputs": [
    {
     "data": {
      "text/plain": [
       "All Other Crimes                90911\n",
       "Public Disorder                 52162\n",
       "Larceny                         50727\n",
       "Theft from Motor Vehicle        37725\n",
       "Drug & Alcohol                  33016\n",
       "Auto Theft                      26677\n",
       "Burglary                        24655\n",
       "Other Crimes Against Persons    24564\n",
       "Aggravated Assault              11738\n",
       "White Collar Crime               6790\n",
       "Robbery                          6457\n",
       "Sexual Assault                   4134\n",
       "Arson                             627\n",
       "Murder                            291\n",
       "Name: OFFENSE_CATEGORY_NAME, dtype: int64"
      ]
     },
     "execution_count": 39,
     "metadata": {},
     "output_type": "execute_result"
    }
   ],
   "source": [
    "fin_crime.OFFENSE_CATEGORY_NAME.value_counts()"
   ]
  },
  {
   "cell_type": "code",
   "execution_count": null,
   "metadata": {},
   "outputs": [],
   "source": []
  }
 ],
 "metadata": {
  "kernelspec": {
   "display_name": "Python 3",
   "language": "python",
   "name": "python3"
  },
  "language_info": {
   "codemirror_mode": {
    "name": "ipython",
    "version": 3
   },
   "file_extension": ".py",
   "mimetype": "text/x-python",
   "name": "python",
   "nbconvert_exporter": "python",
   "pygments_lexer": "ipython3",
   "version": "3.7.0"
  }
 },
 "nbformat": 4,
 "nbformat_minor": 2
}
