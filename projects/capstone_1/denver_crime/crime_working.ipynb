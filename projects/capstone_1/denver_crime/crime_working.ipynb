{
 "cells": [
  {
   "cell_type": "markdown",
   "metadata": {},
   "source": [
    "<h1 align='center'>Denver Crime Report (2014-Present)</h1>"
   ]
  },
  {
   "cell_type": "code",
   "execution_count": 65,
   "metadata": {
    "ExecuteTime": {
     "end_time": "2019-09-06T16:25:43.680017Z",
     "start_time": "2019-09-06T16:25:43.643009Z"
    }
   },
   "outputs": [],
   "source": [
    "import numpy as np\n",
    "import pandas as pd\n",
    "import matplotlib.pyplot as plt\n",
    "import scipy.stats as stats\n",
    "from IPython.display import Markdown as md\n",
    "%matplotlib inline"
   ]
  },
  {
   "cell_type": "markdown",
   "metadata": {},
   "source": [
    "## Section 1: Dataset Description and Exploratory Analysis"
   ]
  },
  {
   "cell_type": "markdown",
   "metadata": {},
   "source": [
    "Read in the data from the [csv url]('https://www.denvergov.org/media/gis/DataCatalog/crime/csv/crime.csv') and `denver_offense_codes.csv`."
   ]
  },
  {
   "cell_type": "code",
   "execution_count": 70,
   "metadata": {
    "ExecuteTime": {
     "end_time": "2019-09-06T17:06:04.648487Z",
     "start_time": "2019-09-06T17:04:13.563694Z"
    }
   },
   "outputs": [],
   "source": [
    "url = 'https://www.denvergov.org/media/gis/DataCatalog/crime/csv/crime.csv'\n",
    "df1 = pd.read_csv(url)\n",
    "df2 = pd.read_csv('denver_offense_codes.csv')"
   ]
  },
  {
   "cell_type": "markdown",
   "metadata": {},
   "source": [
    "These dataframes can easily be merged by columns, the second dataset `df2` is essentially a 'key' for `df1`. The reason to do this is because `df2` contains more grammatically correct values/entries for our crime categories/types."
   ]
  },
  {
   "cell_type": "code",
   "execution_count": 71,
   "metadata": {
    "ExecuteTime": {
     "end_time": "2019-09-06T17:07:40.994384Z",
     "start_time": "2019-09-06T17:07:39.316958Z"
    }
   },
   "outputs": [],
   "source": [
    "df = df1.merge(df2)"
   ]
  },
  {
   "cell_type": "code",
   "execution_count": 74,
   "metadata": {
    "ExecuteTime": {
     "end_time": "2019-09-06T17:13:53.580614Z",
     "start_time": "2019-09-06T17:13:53.574707Z"
    }
   },
   "outputs": [],
   "source": [
    "rows, columns = df.shape"
   ]
  },
  {
   "cell_type": "code",
   "execution_count": 78,
   "metadata": {
    "ExecuteTime": {
     "end_time": "2019-09-06T17:25:37.749252Z",
     "start_time": "2019-09-06T17:25:37.737246Z"
    }
   },
   "outputs": [
    {
     "data": {
      "text/markdown": [
       "We now have a dataset, `df`, containing 510871 rows and 21 columns of data - that's 10728291 datapoints!"
      ],
      "text/plain": [
       "<IPython.core.display.Markdown object>"
      ]
     },
     "execution_count": 78,
     "metadata": {},
     "output_type": "execute_result"
    }
   ],
   "source": [
    "md(\"We now have a dataset, `df`, containing %i rows and %i columns of data - that's %i datapoints!\"%(rows, columns, rows*columns))"
   ]
  },
  {
   "cell_type": "markdown",
   "metadata": {},
   "source": [
    "### Dataset Description\n",
    "The dataset `df` contains information about criminal and traffic incidents taking place in the city and county of Denver, CO reported to the police in the timeframe 1/2/2014 - present.\n",
    "\n",
    "A general description of each column follows:\n",
    "- `INCIDENT_ID`: identifier for an incident of an offense or multiple offenses (root of `OFFENSE ID`)\n",
    "- `OFFENSE_ID`: identifier for a singular offense from an incident\n",
    "- `OFFENSE_CODE`: codified value for particular `OFFENSE_TYPE_ID`, `OFFENSE_CATEGORY_ID`, `OFFENSE_TYPE_NAME`, and `OFFENSE_CATEGORY_NAME` (primarily serves as part of the key between `df1` and `df2` above)\n",
    "- `OFFENSE_CODE_EXTENSION`: extension to `OFFENSE_CODE`, serves similar purpose\n",
    "- `OFFENSE_TYPE_ID`: a descriptive name for type of offense committed, more specific than `OFFENSE_CATEGORY_ID` (in dash separated format - 'stolen-property-possession`)\n",
    "- `OFFENSE_CATEGORY_ID`: a more general categorical name for the type of offense committed (dash separated format)\n",
    "- `FIRST_OCCURRENCE_DATE`: the date and time the incident first occurred\n",
    "- `LAST_OCCURRENCE_DATE`: the date and time the incident ended\n",
    "- `REPORTED_DATE`: the date and time the incident was reported\n",
    "- `INCIDENT_ADDRESS`: the street address where the incident took place (if applicable)\n",
    "- `GEO_X`: the 'easting' value of the location of an incident in the Colorado Central (C-0502) zone of the State Plane Coordinate System (SPS)\n",
    "- `GEO_Y`: the 'northing' value of the location of an incident in the Colorado Central (C-0502) zone of the State Plane Coordinate System (SPS)\n",
    "- `GEO_LON`: the longitude location of the incident\n",
    "- `GEO_LAT`: the latitude location of the incident\n",
    "- `DISTRICT_ID`: police districts for the city of Denver, sectioning of the districts can be seen [here](https://www.denvergov.org/content/denvergov/en/police-department/police-stations.html)\n",
    "- `PRECINCT_ID`: police precincts for the city of Denver, sectioning of the precincts can be seen [here](https://www.denvergov.org/content/dam/denvergov/Portals/720/documents/maps/Citywide_Map.pdf)\n",
    "- `NEIGHBORHOOD_ID`: the name of the neighborhood in dash format\n",
    "- `IS_CRIME`: if offense is criminal this value is 1, otherwise 0\n",
    "- `IS_TRAFFIC`: if offense is traffic related this value is 1, otherwise 0\n",
    "- `OFFENSE_TYPE_NAME`: a descriptive name for type of offense committed, more specific than `OFFENSE_CATEGORY_NAME` (in normal phrase format - 'Possession of stolen property')\n",
    "- `OFFENSE_CATEGORY_NAME`: a more general categorical name for the type of offense committed (normal phrase format)\n",
    "\n",
    "The source for the dataset, as well as additional documentation, can be found at the [Denver Open Data Catalog](https://www.denvergov.org/opendata/dataset/city-and-county-of-denver-crime).\n",
    "\n",
    "More specific definitions of the types/categories of crime can be found [here](https://www.denvergov.org/media/gis/DataCatalog/crime/pdf/NIBRS_Crime_Types.pdf)."
   ]
  },
  {
   "cell_type": "markdown",
   "metadata": {},
   "source": [
    "### Dataset Manipulation"
   ]
  },
  {
   "cell_type": "markdown",
   "metadata": {},
   "source": []
  },
  {
   "cell_type": "code",
   "execution_count": 57,
   "metadata": {
    "ExecuteTime": {
     "end_time": "2019-09-06T16:07:23.099239Z",
     "start_time": "2019-09-06T16:07:18.521135Z"
    }
   },
   "outputs": [],
   "source": [
    "#convert date and time columns to datetime dtype\n",
    "df.loc[:, 'FIRST_OCCURRENCE_DATE'] = pd.to_datetime(df.loc[:, 'FIRST_OCCURRENCE_DATE'], format=\"%m/%d/%Y %I:%M:%S %p\")"
   ]
  },
  {
   "cell_type": "code",
   "execution_count": 60,
   "metadata": {
    "ExecuteTime": {
     "end_time": "2019-09-06T16:09:17.111801Z",
     "start_time": "2019-09-06T16:09:12.737699Z"
    }
   },
   "outputs": [],
   "source": [
    "df.loc[:, 'REPORTED_DATE'] = pd.to_datetime(df.loc[:, 'REPORTED_DATE'], format=\"%m/%d/%Y %I:%M:%S %p\")"
   ]
  },
  {
   "cell_type": "code",
   "execution_count": null,
   "metadata": {
    "ExecuteTime": {
     "end_time": "2019-09-06T01:05:23.823973Z",
     "start_time": "2019-09-06T01:05:23.307712Z"
    }
   },
   "outputs": [],
   "source": [
    "df.info()"
   ]
  },
  {
   "cell_type": "code",
   "execution_count": null,
   "metadata": {
    "ExecuteTime": {
     "end_time": "2019-09-06T01:05:24.024889Z",
     "start_time": "2019-09-06T01:05:23.830849Z"
    }
   },
   "outputs": [],
   "source": [
    "#convert offense category names to category type (save memory)\n",
    "df.loc[:, 'OFFENSE_CATEGORY_NAME'] = df.OFFENSE_CATEGORY_NAME.astype('category')"
   ]
  },
  {
   "cell_type": "code",
   "execution_count": null,
   "metadata": {
    "ExecuteTime": {
     "end_time": "2019-09-06T01:05:24.538018Z",
     "start_time": "2019-09-06T01:05:24.029892Z"
    }
   },
   "outputs": [],
   "source": [
    "#remove columns with incomplete data\n",
    "df = df.dropna(axis=1)"
   ]
  },
  {
   "cell_type": "code",
   "execution_count": null,
   "metadata": {
    "ExecuteTime": {
     "end_time": "2019-09-06T01:05:27.259833Z",
     "start_time": "2019-09-06T01:05:24.543022Z"
    }
   },
   "outputs": [],
   "source": [
    "#check out how the dataframe is looking\n",
    "df.info(memory_usage='deep')"
   ]
  },
  {
   "cell_type": "code",
   "execution_count": null,
   "metadata": {
    "ExecuteTime": {
     "end_time": "2019-09-06T01:05:27.279714Z",
     "start_time": "2019-09-06T01:05:27.265716Z"
    }
   },
   "outputs": [],
   "source": [
    "#latest accurate date for the dataset is said to be 30 days prior to update date\n",
    "latest_date = pd.to_datetime('August 26, 2019')\n",
    "acc_date = latest_date - pd.Timedelta(30, unit='d')"
   ]
  },
  {
   "cell_type": "code",
   "execution_count": null,
   "metadata": {
    "ExecuteTime": {
     "end_time": "2019-09-06T01:05:27.549780Z",
     "start_time": "2019-09-06T01:05:27.285717Z"
    }
   },
   "outputs": [],
   "source": [
    "#eliminate rows that occurred too recently to be deemed 'accurate'\n",
    "df = df[df.FIRST_OCCURRENCE_DATE < acc_date]"
   ]
  },
  {
   "cell_type": "code",
   "execution_count": null,
   "metadata": {
    "ExecuteTime": {
     "end_time": "2019-09-06T01:05:28.047036Z",
     "start_time": "2019-09-06T01:05:27.554783Z"
    }
   },
   "outputs": [],
   "source": [
    "#graph the total incidents by their category name\n",
    "df.OFFENSE_CATEGORY_NAME.value_counts().plot(kind='barh', legend=False, figsize=(10, 5))\n",
    "plt.gca().invert_yaxis()\n",
    "plt.show()"
   ]
  },
  {
   "cell_type": "code",
   "execution_count": null,
   "metadata": {
    "ExecuteTime": {
     "end_time": "2019-09-06T01:05:28.184068Z",
     "start_time": "2019-09-06T01:05:28.052912Z"
    }
   },
   "outputs": [],
   "source": [
    "#eliminate 'Traffic Accident' rows --> not crime\n",
    "df = df[df.IS_CRIME == 1]"
   ]
  },
  {
   "cell_type": "code",
   "execution_count": null,
   "metadata": {
    "ExecuteTime": {
     "end_time": "2019-09-06T01:05:28.223952Z",
     "start_time": "2019-09-06T01:05:28.187946Z"
    }
   },
   "outputs": [],
   "source": [
    "#create a semi-flexible horizontal graph function for our dataset df\n",
    "def graph_valcts_by_col(column, column2, val=None):\n",
    "    if val == None:\n",
    "        for value in df.loc[:, column].unique():\n",
    "            category = df[df.loc[:, column] == value].loc[:, column2].value_counts() \n",
    "            if len(category) <= 20:\n",
    "                category.plot(kind='barh', legend=False, figsize=(10,5), title='{} - Value Counts'.format(value))\n",
    "                plt.xlabel('Number of Offenses')\n",
    "                plt.ylabel(column2)\n",
    "                plt.gca().invert_yaxis()\n",
    "                plt.show()\n",
    "            else:         \n",
    "                other = category[20:].sum()\n",
    "                top = category.nlargest(19)\n",
    "                top['All others'] = other\n",
    "                top.plot(kind='barh', legend=False, figsize=(10,5), title='{} - Value Counts'.format(value))\n",
    "                plt.xlabel('Number of Offenses')\n",
    "                plt.ylabel(column2)\n",
    "                plt.gca().invert_yaxis()\n",
    "                plt.show()\n",
    "    else:\n",
    "        value = val\n",
    "        category = df[df.loc[:, column] == value].loc[:, column2].value_counts() \n",
    "        if len(category) <= 20:\n",
    "            category.plot(kind='barh', legend=False, figsize=(10,5), title='{} - Value Counts'.format(value))\n",
    "            plt.xlabel('Number of Offenses')\n",
    "            plt.ylabel(column2)\n",
    "            plt.gca().invert_yaxis()\n",
    "            plt.show()\n",
    "        else:         \n",
    "            other = category[20:].sum()\n",
    "            top = category.nlargest(19)\n",
    "            top['All others'] = other\n",
    "            top.plot(kind='barh', legend=False, figsize=(10,5), title='{} - Value Counts'.format(value))\n",
    "            plt.xlabel('Number of Offenses')\n",
    "            plt.ylabel(column2)\n",
    "            plt.gca().invert_yaxis()\n",
    "            plt.show()"
   ]
  },
  {
   "cell_type": "code",
   "execution_count": null,
   "metadata": {
    "ExecuteTime": {
     "end_time": "2019-09-06T01:05:28.381990Z",
     "start_time": "2019-09-06T01:05:28.230959Z"
    }
   },
   "outputs": [],
   "source": [
    "#get rid of redundant columns (mostly useful just for merging of initial datasets)\n",
    "df = df.drop(['OFFENSE_TYPE_ID', 'OFFENSE_CATEGORY_ID', 'OFFENSE_ID', 'OFFENSE_CODE', 'OFFENSE_CODE_EXTENSION'], axis=1)"
   ]
  },
  {
   "cell_type": "code",
   "execution_count": null,
   "metadata": {
    "ExecuteTime": {
     "end_time": "2019-09-06T01:05:29.251211Z",
     "start_time": "2019-09-06T01:05:28.389994Z"
    }
   },
   "outputs": [],
   "source": [
    "#quick look at overview of data\n",
    "df.describe(include='all')"
   ]
  },
  {
   "cell_type": "code",
   "execution_count": null,
   "metadata": {
    "ExecuteTime": {
     "end_time": "2019-09-06T01:05:29.918496Z",
     "start_time": "2019-09-06T01:05:29.257217Z"
    }
   },
   "outputs": [],
   "source": [
    "df.loc[:, 'NEIGHBORHOOD_ID'] = df.NEIGHBORHOOD_ID.str.replace('-', ' ').str.title()"
   ]
  },
  {
   "cell_type": "code",
   "execution_count": null,
   "metadata": {
    "ExecuteTime": {
     "end_time": "2019-09-06T01:05:29.969394Z",
     "start_time": "2019-09-06T01:05:29.923383Z"
    }
   },
   "outputs": [],
   "source": [
    "df.rename(columns={'NEIGHBORHOOD_ID': 'NEIGHBORHOOD_NAME'}, inplace=True)"
   ]
  },
  {
   "cell_type": "code",
   "execution_count": null,
   "metadata": {
    "ExecuteTime": {
     "end_time": "2019-09-06T01:05:36.045924Z",
     "start_time": "2019-09-06T01:05:29.974393Z"
    }
   },
   "outputs": [],
   "source": [
    "graph_valcts_by_col('OFFENSE_CATEGORY_NAME', 'OFFENSE_TYPE_NAME')"
   ]
  },
  {
   "cell_type": "code",
   "execution_count": null,
   "metadata": {
    "ExecuteTime": {
     "end_time": "2019-09-06T01:05:36.080932Z",
     "start_time": "2019-09-06T01:05:36.051929Z"
    }
   },
   "outputs": [],
   "source": [
    "df.OFFENSE_CATEGORY_NAME.value_counts()\n",
    "#why does 'Traffic Accident' still appear here?'"
   ]
  },
  {
   "cell_type": "code",
   "execution_count": null,
   "metadata": {
    "ExecuteTime": {
     "end_time": "2019-09-06T01:05:36.185957Z",
     "start_time": "2019-09-06T01:05:36.098936Z"
    },
    "scrolled": false
   },
   "outputs": [],
   "source": [
    "#MULT_COUNTS = pd.DataFrame(df.INCIDENT_ID.value_counts())\n",
    "#cols = ['MULT_COUNTS']\n",
    "#MULT_COUNTS.columns = cols\n",
    "#df = df.join(MULT_COUNTS, how='outer')"
   ]
  },
  {
   "cell_type": "code",
   "execution_count": null,
   "metadata": {
    "ExecuteTime": {
     "end_time": "2019-09-06T01:05:36.290984Z",
     "start_time": "2019-09-06T01:05:36.195960Z"
    }
   },
   "outputs": [],
   "source": [
    "#df.loc[:, 'MULT_INCIDENT'] = df.TOTAL_INCIDENT_COUNTS > 1"
   ]
  },
  {
   "cell_type": "code",
   "execution_count": null,
   "metadata": {
    "ExecuteTime": {
     "end_time": "2019-09-06T01:05:37.197337Z",
     "start_time": "2019-09-06T01:05:36.299987Z"
    }
   },
   "outputs": [],
   "source": [
    "df.describe(include='all')"
   ]
  },
  {
   "cell_type": "code",
   "execution_count": null,
   "metadata": {
    "ExecuteTime": {
     "end_time": "2019-09-06T01:05:37.770359Z",
     "start_time": "2019-09-06T01:05:37.203217Z"
    }
   },
   "outputs": [],
   "source": [
    "#decent looking dataframe - questions of interest?\n",
    "#What are the most prominent types of crime in Denver?\n",
    "df.OFFENSE_CATEGORY_NAME.value_counts().nlargest(14).plot(kind='barh', figsize=(10, 5), title='Denver Crime by Category')\n",
    "plt.gca().invert_yaxis()\n",
    "plt.xlabel('Number of Offenses')\n",
    "plt.ylabel('Categories')\n",
    "plt.tight_layout()\n",
    "plt.show()"
   ]
  },
  {
   "cell_type": "code",
   "execution_count": null,
   "metadata": {
    "ExecuteTime": {
     "end_time": "2019-09-06T01:05:38.851631Z",
     "start_time": "2019-09-06T01:05:37.777360Z"
    }
   },
   "outputs": [],
   "source": [
    "#'All Other Crimes' and 'Other Crimes Against Persons' don't seem very descriptive - drilling in should be useful\n",
    "graph_valcts_by_col('OFFENSE_CATEGORY_NAME', 'OFFENSE_TYPE_NAME', val='All Other Crimes')\n",
    "graph_valcts_by_col('OFFENSE_CATEGORY_NAME', 'OFFENSE_TYPE_NAME', val='Other Crimes Against Persons')"
   ]
  },
  {
   "cell_type": "code",
   "execution_count": null,
   "metadata": {
    "ExecuteTime": {
     "end_time": "2019-09-06T01:05:38.931650Z",
     "start_time": "2019-09-06T01:05:38.859634Z"
    }
   },
   "outputs": [],
   "source": [
    "#Seems like Denver's categorization of crime could use an update, not sure why Assault doesn't have its own category, also\n",
    "#wonder why 'Traffic offense - other' isn't a category in and of itself - it certainly contains enough occurrences to warrant\n",
    "#the change, in fact it appears there are a few more traffic related crimes on this list, we can get an idea of all others \n",
    "#using a quick value count\n",
    "df[df.OFFENSE_CATEGORY_NAME == 'All Other Crimes'].OFFENSE_TYPE_NAME.value_counts()[20:]"
   ]
  },
  {
   "cell_type": "code",
   "execution_count": null,
   "metadata": {
    "ExecuteTime": {
     "end_time": "2019-09-06T01:05:40.520050Z",
     "start_time": "2019-09-06T01:05:38.938654Z"
    }
   },
   "outputs": [],
   "source": [
    "#looks like even more assualt is hidden within this 'All Other Crimes' category...\n",
    "#we can look into the most criminal neighborhoods now\n",
    "plt.subplot(1,2,1)\n",
    "df.NEIGHBORHOOD_NAME.value_counts().nlargest(15).plot(kind='barh', figsize=(12,5), title='Denver - Fifteen Most Criminal Neighborhoods')\n",
    "plt.xlabel('Number of Offenses')\n",
    "plt.ylabel('Neighborhood')\n",
    "plt.gca().invert_yaxis()\n",
    "plt.tight_layout()\n",
    "\n",
    "plt.subplot(1,2,2)\n",
    "df[df.OFFENSE_TYPE_NAME != 'Traffic offense - other'].NEIGHBORHOOD_NAME.value_counts().nlargest(15).plot(kind='barh', figsize=(12,5), title='Denver - Fifteen Most Criminal Neighborhoods - No Traffic')\n",
    "plt.xlabel('Number of Offenses')\n",
    "plt.gca().invert_yaxis()\n",
    "plt.tight_layout()\n",
    "\n",
    "plt.show()"
   ]
  },
  {
   "cell_type": "code",
   "execution_count": null,
   "metadata": {
    "ExecuteTime": {
     "end_time": "2019-09-06T01:05:51.939939Z",
     "start_time": "2019-09-06T01:05:40.528060Z"
    }
   },
   "outputs": [],
   "source": [
    "#Taking 'Traffic offense - other' out of the equation moves Capitol Hill up two ranks - above both Stapleton and Montbello. We\n",
    "#also see Gateway Green Valley Ranch swap with West Colfax, Union Station moves up two positions and East Colfax swaps with \n",
    "#Civic Center. What will we see when we sort neighborhoods by category type?\n",
    "plt.figure(figsize=(12,32))\n",
    "graph_ct = 1\n",
    "for value in df.OFFENSE_CATEGORY_NAME.unique():\n",
    "    plt.subplot(7, 2, graph_ct)\n",
    "    df[df.OFFENSE_CATEGORY_NAME == value].NEIGHBORHOOD_NAME.value_counts().nlargest(15).plot(kind='barh',\n",
    "                                                                                             title='{} - Top 15 Neighborhoods'.format(value))\n",
    "    plt.ylabel('Neighborhood')\n",
    "    plt.xlabel('Number of Offenses')\n",
    "    plt.gca().invert_yaxis()\n",
    "    plt.tight_layout()\n",
    "    graph_ct += 1\n",
    "plt.show()                                                                                             "
   ]
  },
  {
   "cell_type": "code",
   "execution_count": null,
   "metadata": {
    "ExecuteTime": {
     "end_time": "2019-09-06T01:05:52.014077Z",
     "start_time": "2019-09-06T01:05:51.943936Z"
    }
   },
   "outputs": [],
   "source": [
    "ranks = pd.DataFrame(index=df.NEIGHBORHOOD_NAME.unique())"
   ]
  },
  {
   "cell_type": "code",
   "execution_count": null,
   "metadata": {
    "ExecuteTime": {
     "end_time": "2019-09-06T01:05:52.545233Z",
     "start_time": "2019-09-06T01:05:52.019951Z"
    }
   },
   "outputs": [],
   "source": [
    "for value in df.OFFENSE_CATEGORY_NAME.unique():\n",
    "    x = pd.DataFrame(df[df.OFFENSE_CATEGORY_NAME == value].NEIGHBORHOOD_NAME.value_counts().rank(ascending=False))\n",
    "    x.rename(columns={'NEIGHBORHOOD_NAME': str(value)}, inplace=True)\n",
    "    ranks = ranks.join(x, how='outer')"
   ]
  },
  {
   "cell_type": "code",
   "execution_count": null,
   "metadata": {
    "ExecuteTime": {
     "end_time": "2019-09-06T01:05:52.565089Z",
     "start_time": "2019-09-06T01:05:52.551084Z"
    }
   },
   "outputs": [],
   "source": [
    "ranks.loc[:, 'Total Score'] = ranks.sum(axis=1)"
   ]
  },
  {
   "cell_type": "code",
   "execution_count": null,
   "metadata": {
    "ExecuteTime": {
     "end_time": "2019-09-06T01:05:52.774253Z",
     "start_time": "2019-09-06T01:05:52.571088Z"
    }
   },
   "outputs": [],
   "source": [
    "comp_top15 = pd.DataFrame(ranks.loc[ranks.sort_values('Total Score').loc[:, 'Total Score'].nsmallest(15).index, :].loc[:, 'Total Score'].rank())\n",
    "comp_top15.columns = ['cat_rank']\n",
    "comp_top15 = comp_top15.join(pd.DataFrame(df.NEIGHBORHOOD_NAME.value_counts().nlargest(15).rank(ascending=False)))\n",
    "comp_top15.loc[:, 'diff'] = comp_top15.NEIGHBORHOOD_NAME - comp_top15.cat_rank\n",
    "comp_top15.columns = ['cat_rank', 'occ_rank', 'occ-cat_diff']"
   ]
  },
  {
   "cell_type": "code",
   "execution_count": null,
   "metadata": {
    "ExecuteTime": {
     "end_time": "2019-09-06T01:05:52.875300Z",
     "start_time": "2019-09-06T01:05:52.780140Z"
    }
   },
   "outputs": [],
   "source": [
    "comp_top15"
   ]
  },
  {
   "cell_type": "code",
   "execution_count": null,
   "metadata": {
    "ExecuteTime": {
     "end_time": "2019-09-06T01:05:53.041204Z",
     "start_time": "2019-09-06T01:05:52.885171Z"
    },
    "scrolled": true
   },
   "outputs": [],
   "source": [
    "ranks.loc[comp_top15.index]"
   ]
  },
  {
   "cell_type": "markdown",
   "metadata": {},
   "source": [
    "From this quick ranking score, we can find the most criminal neighborhoods by their prevalence in a particular crime category rather than by the actual counts of crime, this is useful in comparing the top categories of crime for a particular neighborhood, rather than the number of occurrences."
   ]
  },
  {
   "cell_type": "markdown",
   "metadata": {},
   "source": [
    "### Thoughts on some Neighborhoods\n",
    "1. Five Points holds the top spot for nine of the fourteen categories. There is also only one category that lands higher than fifth, White Collar Crime. This shows that five points not only has the most occurrences of crime, but that basically every single category of crime is prevalent here.\n",
    "2. Montbello may not have as much overall crime as CBD or Stapleton, but ranks higher categorically than the other two. This indicates more variation in types of crime in Montbello. It holds twelve of the fourteen top five positions and all fourteen categories rank in the top fourteen of any neighborhood.\n",
    "3. Capitol Hill is similar in vein to Montbello, however the variation of crime looks different (ranks higher in Larceny, Drug and Alcohol, and Sexual Assualt). Thirteen of the fourteen categories land in the top fifteen - the only exception being arson (where Montbello ranks supreme).\n",
    "4. Stapleton, like Capitol Hill, has thirteen of the fourteen categories in the top fifteen rank with the exception of arson. However, it appears certain categories are more prevalent than others. Five of the fourteen categories land in the top five of any other neighborhood, these include: Larceny(rank 1), Theft from motor vehicle(3), Auto theft(4), White Collar Crime(2), and Burglary(2). Based on this, it would appear Stapleton's main categories of crime seem to be theft related.\n",
    "5. East and West Colfax have almost an identical score, could be of interest to see how closely they are related to one another."
   ]
  },
  {
   "cell_type": "code",
   "execution_count": null,
   "metadata": {
    "ExecuteTime": {
     "end_time": "2019-09-06T01:05:53.725377Z",
     "start_time": "2019-09-06T01:05:53.050212Z"
    }
   },
   "outputs": [],
   "source": [
    "ranks.loc[('West Colfax', 'East Colfax'), 'All Other Crimes':'Arson'].transpose().plot(kind='bar', figsize=(12,5))\n",
    "plt.tight_layout()\n",
    "plt.show()"
   ]
  },
  {
   "cell_type": "markdown",
   "metadata": {},
   "source": [
    "Their rankings certainly appear to be quite similar. This is interesting, because these neighborhoods are actually about 8 miles apart from one another, they just center around the same street - Colfax Ave. Drug and Alcohol crime appears to be more prevalent in East Colfax than West Colfax, as is robbery. However, larceny and theft from motor vehicle are more prevalent in West Colfax. Perhaps most interesting is the that these two neighborhoods both rank so highly in arson! West Colfax is second and East Colfax is third."
   ]
  },
  {
   "cell_type": "code",
   "execution_count": null,
   "metadata": {
    "ExecuteTime": {
     "end_time": "2019-09-06T01:05:53.801407Z",
     "start_time": "2019-09-06T01:05:53.732379Z"
    },
    "scrolled": true
   },
   "outputs": [],
   "source": [
    "ranks.loc[comp_top15.index]"
   ]
  },
  {
   "cell_type": "markdown",
   "metadata": {},
   "source": [
    "6. Gateway / Green Valley Ranch (along with West Colfax) had the greatest increase in position, this makes sense because it ranks very highly in numerous categories, but because one or two categories rank lower (especially 'All Other Crimes' which is offense heavy) the number of total offenses is not as high. Even though the majority of the categories rank in the top fifteen, we can see that 'All Other Crimes' and especially 'Drug & Alcohol' rank much lower than most of the ranks on this dataslice. Could this be because it is a much greater distance from downtown denver than most of these neighborhoods? I wonder if there is a correllation between location and category of crime - this could be a hint that there is.\n",
    "7. CBD (Central Business District) is right in the heart of downtown Denver, mostly makes sense. If you consider that some of these crime categories require certain personal properties to be present (Theft from Motor Vehicle - car, Auto Theft - car, Burglary - house) then it makes sense why CBD would rank lower in these categories. These ranks aren't very surprising - also consider the higher law enforcement presence in these areas would probably have an effect on many of these categories.\n",
    "8. Perhaps the most interesting neighborhood on this list is Northeast Park Hill, where its highest ranking is murder. It has some top fifteen categories, but eight of the fourteen categories are over fifteen. I do wonder why the murder rank is so much higher here though."
   ]
  },
  {
   "cell_type": "code",
   "execution_count": null,
   "metadata": {
    "ExecuteTime": {
     "end_time": "2019-09-06T01:05:54.043457Z",
     "start_time": "2019-09-06T01:05:53.807396Z"
    },
    "scrolled": true
   },
   "outputs": [],
   "source": [
    "df[(df.NEIGHBORHOOD_NAME == 'Northeast Park Hill') & (df.OFFENSE_CATEGORY_NAME == 'Murder')].sort_values('FIRST_OCCURRENCE_DATE')"
   ]
  },
  {
   "cell_type": "code",
   "execution_count": null,
   "metadata": {
    "ExecuteTime": {
     "end_time": "2019-09-06T01:05:54.157487Z",
     "start_time": "2019-09-06T01:05:54.049459Z"
    }
   },
   "outputs": [],
   "source": [
    "df[(df.NEIGHBORHOOD_NAME == 'Northeast Park Hill') & (df.OFFENSE_CATEGORY_NAME == 'Murder')].shape"
   ]
  },
  {
   "cell_type": "markdown",
   "metadata": {},
   "source": [
    "Looks like seventeen murders occurred in Northeast Park Hill since the beginning of 2014. In comparison to the other crimes, I wonder why."
   ]
  },
  {
   "cell_type": "code",
   "execution_count": null,
   "metadata": {
    "ExecuteTime": {
     "end_time": "2019-09-06T01:05:54.344536Z",
     "start_time": "2019-09-06T01:05:54.165486Z"
    }
   },
   "outputs": [],
   "source": [
    "#What about the most dangerous/violent neighborhoods?\n",
    "#There are a few ideas on what violent crime includes, for the purpose of this project the FBI's UCR classification will be\n",
    "#used, the definition is as follows:"
   ]
  },
  {
   "cell_type": "markdown",
   "metadata": {},
   "source": [
    "In the FBI’s Uniform Crime Reporting (UCR) Program, violent crime is composed of four offenses:  murder and nonnegligent manslaughter, forcible rape, robbery, and aggravated assault. Violent crimes are defined in the UCR Program as those offenses which involve force or threat of force."
   ]
  },
  {
   "cell_type": "code",
   "execution_count": null,
   "metadata": {
    "ExecuteTime": {
     "end_time": "2019-09-06T01:05:54.426549Z",
     "start_time": "2019-09-06T01:05:54.350531Z"
    }
   },
   "outputs": [],
   "source": [
    "#In order to create a DataFrame called 'v_crime' we need to find the relevant rows from the original DataFrame. This will likely\n",
    "#require some filtering and value counting to ensure we get the relevant rows. Murder should be relatively easy, since it has\n",
    "#the least amount of occurrences."
   ]
  },
  {
   "cell_type": "code",
   "execution_count": null,
   "metadata": {
    "ExecuteTime": {
     "end_time": "2019-09-06T01:05:54.509705Z",
     "start_time": "2019-09-06T01:05:54.432556Z"
    }
   },
   "outputs": [],
   "source": [
    "murder = df[df.OFFENSE_CATEGORY_NAME == 'Murder']\n",
    "#checked for manslaughter in OFFENSE_TYPE_NAME, but did not return any results"
   ]
  },
  {
   "cell_type": "code",
   "execution_count": null,
   "metadata": {
    "ExecuteTime": {
     "end_time": "2019-09-06T01:05:54.637636Z",
     "start_time": "2019-09-06T01:05:54.515572Z"
    }
   },
   "outputs": [],
   "source": [
    "def cat():\n",
    "    return df.OFFENSE_CATEGORY_NAME.value_counts()"
   ]
  },
  {
   "cell_type": "code",
   "execution_count": null,
   "metadata": {
    "ExecuteTime": {
     "end_time": "2019-09-06T01:05:54.741420Z",
     "start_time": "2019-09-06T01:05:54.644607Z"
    }
   },
   "outputs": [],
   "source": [
    "df[(df.OFFENSE_CATEGORY_NAME == 'Sexual Assault')].OFFENSE_TYPE_NAME.value_counts()"
   ]
  },
  {
   "cell_type": "markdown",
   "metadata": {},
   "source": [
    "From this we can see that this is all Rape/sexual assualt, so we should make a DataFrame for it. But first let's see if there are any other sexual crimes that may need to be considered."
   ]
  },
  {
   "cell_type": "code",
   "execution_count": null,
   "metadata": {
    "ExecuteTime": {
     "end_time": "2019-09-06T01:05:55.790686Z",
     "start_time": "2019-09-06T01:05:54.750422Z"
    }
   },
   "outputs": [],
   "source": [
    "df[(df.OFFENSE_CATEGORY_NAME != 'Sexual Assault')].OFFENSE_TYPE_NAME.str.contains('sex', case=False).sum()"
   ]
  },
  {
   "cell_type": "markdown",
   "metadata": {},
   "source": [
    "Looks like there are 1,879 cases where this is true, we can dig in deeper to see what these OFFENSE_TYPE_NAME series contains."
   ]
  },
  {
   "cell_type": "code",
   "execution_count": null,
   "metadata": {
    "ExecuteTime": {
     "end_time": "2019-09-06T01:05:56.859955Z",
     "start_time": "2019-09-06T01:05:55.796689Z"
    }
   },
   "outputs": [],
   "source": [
    "df[(df.OFFENSE_CATEGORY_NAME != 'Sexual Assault')][df[(df.OFFENSE_CATEGORY_NAME != 'Sexual Assault')].OFFENSE_TYPE_NAME.str.contains('sex', case=False)].OFFENSE_TYPE_NAME.value_counts()"
   ]
  },
  {
   "cell_type": "markdown",
   "metadata": {},
   "source": [
    "Based on the above, it does not appear these need to be added to the violent crimes DataFrame. Sexual harassment could be included, but without further details of this type, or further classification, it is not right to add."
   ]
  },
  {
   "cell_type": "code",
   "execution_count": null,
   "metadata": {
    "ExecuteTime": {
     "end_time": "2019-09-06T01:05:56.881092Z",
     "start_time": "2019-09-06T01:05:56.865958Z"
    }
   },
   "outputs": [],
   "source": [
    "rape = df[(df.OFFENSE_CATEGORY_NAME == 'Sexual Assault')]"
   ]
  },
  {
   "cell_type": "markdown",
   "metadata": {},
   "source": [
    "On to robbery then!"
   ]
  },
  {
   "cell_type": "code",
   "execution_count": null,
   "metadata": {
    "ExecuteTime": {
     "end_time": "2019-09-06T01:05:57.029129Z",
     "start_time": "2019-09-06T01:05:56.886965Z"
    }
   },
   "outputs": [],
   "source": [
    "cat()"
   ]
  },
  {
   "cell_type": "code",
   "execution_count": null,
   "metadata": {
    "ExecuteTime": {
     "end_time": "2019-09-06T01:05:57.070008Z",
     "start_time": "2019-09-06T01:05:57.039002Z"
    }
   },
   "outputs": [],
   "source": [
    "def cat_bool(value):\n",
    "    return df.OFFENSE_CATEGORY_NAME == value"
   ]
  },
  {
   "cell_type": "code",
   "execution_count": null,
   "metadata": {
    "ExecuteTime": {
     "end_time": "2019-09-06T01:05:57.146028Z",
     "start_time": "2019-09-06T01:05:57.079013Z"
    }
   },
   "outputs": [],
   "source": [
    "def types_from_cat(value):\n",
    "    return df[cat_bool(value)].OFFENSE_TYPE_NAME.value_counts()"
   ]
  },
  {
   "cell_type": "code",
   "execution_count": null,
   "metadata": {
    "ExecuteTime": {
     "end_time": "2019-09-06T01:05:57.261055Z",
     "start_time": "2019-09-06T01:05:57.156033Z"
    }
   },
   "outputs": [],
   "source": [
    "types_from_cat('Larceny')"
   ]
  },
  {
   "cell_type": "markdown",
   "metadata": {},
   "source": [
    "These are all non-violent, no need to add."
   ]
  },
  {
   "cell_type": "code",
   "execution_count": null,
   "metadata": {
    "ExecuteTime": {
     "end_time": "2019-09-06T01:05:57.336073Z",
     "start_time": "2019-09-06T01:05:57.269059Z"
    }
   },
   "outputs": [],
   "source": [
    "cat()"
   ]
  },
  {
   "cell_type": "code",
   "execution_count": null,
   "metadata": {
    "ExecuteTime": {
     "end_time": "2019-09-06T01:05:57.434098Z",
     "start_time": "2019-09-06T01:05:57.343076Z"
    }
   },
   "outputs": [],
   "source": [
    "types_from_cat('Other Crimes Against Persons')"
   ]
  },
  {
   "cell_type": "markdown",
   "metadata": {},
   "source": [
    "Good to look at these, however assualt with minor bodily injury is not considered aggravated assualt - so it will not be included in violent crimes."
   ]
  },
  {
   "cell_type": "code",
   "execution_count": null,
   "metadata": {
    "ExecuteTime": {
     "end_time": "2019-09-06T01:05:57.574133Z",
     "start_time": "2019-09-06T01:05:57.441104Z"
    }
   },
   "outputs": [],
   "source": [
    "cat()"
   ]
  },
  {
   "cell_type": "code",
   "execution_count": null,
   "metadata": {
    "ExecuteTime": {
     "end_time": "2019-09-06T01:05:57.673284Z",
     "start_time": "2019-09-06T01:05:57.579137Z"
    }
   },
   "outputs": [],
   "source": [
    "types_from_cat('Robbery')"
   ]
  },
  {
   "cell_type": "code",
   "execution_count": null,
   "metadata": {
    "ExecuteTime": {
     "end_time": "2019-09-06T01:05:57.749301Z",
     "start_time": "2019-09-06T01:05:57.679161Z"
    }
   },
   "outputs": [],
   "source": [
    "robbery = df[cat_bool('Robbery')]"
   ]
  },
  {
   "cell_type": "markdown",
   "metadata": {},
   "source": [
    "Last category is aggravated assault, luckily enough - all these incidents are nicely packaged in the OFFENSE_CATEGORY_NAME column under 'Aggravated Assault'."
   ]
  },
  {
   "cell_type": "code",
   "execution_count": null,
   "metadata": {
    "ExecuteTime": {
     "end_time": "2019-09-06T01:05:57.848207Z",
     "start_time": "2019-09-06T01:05:57.754180Z"
    }
   },
   "outputs": [],
   "source": [
    "types_from_cat('Aggravated Assault')"
   ]
  },
  {
   "cell_type": "code",
   "execution_count": null,
   "metadata": {
    "ExecuteTime": {
     "end_time": "2019-09-06T01:05:57.918223Z",
     "start_time": "2019-09-06T01:05:57.855210Z"
    }
   },
   "outputs": [],
   "source": [
    "assault = df[cat_bool('Aggravated Assault')]"
   ]
  },
  {
   "cell_type": "code",
   "execution_count": null,
   "metadata": {
    "ExecuteTime": {
     "end_time": "2019-09-06T01:05:58.041253Z",
     "start_time": "2019-09-06T01:05:57.927225Z"
    }
   },
   "outputs": [],
   "source": [
    "v_crime = pd.concat([murder, rape, robbery, assault])"
   ]
  },
  {
   "cell_type": "code",
   "execution_count": null,
   "metadata": {
    "ExecuteTime": {
     "end_time": "2019-09-06T01:05:58.105277Z",
     "start_time": "2019-09-06T01:05:58.049348Z"
    }
   },
   "outputs": [],
   "source": [
    "len(murder) + len(rape) + len(robbery) + len(assault)"
   ]
  },
  {
   "cell_type": "code",
   "execution_count": null,
   "metadata": {
    "ExecuteTime": {
     "end_time": "2019-09-06T01:05:58.193319Z",
     "start_time": "2019-09-06T01:05:58.115270Z"
    }
   },
   "outputs": [],
   "source": [
    "v_crime.shape"
   ]
  },
  {
   "cell_type": "markdown",
   "metadata": {},
   "source": [
    "## Success! We have our violent crime DataFrame `v_crime`!"
   ]
  },
  {
   "cell_type": "markdown",
   "metadata": {},
   "source": [
    "So, the question was, what neighborhoods have the most violent crime? But quick aside, how much of the total crime is actually violent crime?"
   ]
  },
  {
   "cell_type": "code",
   "execution_count": null,
   "metadata": {
    "ExecuteTime": {
     "end_time": "2019-09-06T01:05:58.304321Z",
     "start_time": "2019-09-06T01:05:58.201295Z"
    }
   },
   "outputs": [],
   "source": [
    "len(v_crime)/len(df)"
   ]
  },
  {
   "cell_type": "markdown",
   "metadata": {},
   "source": [
    "We can see out of all the crime that occurs in Denver, only 6.1% is violent. "
   ]
  },
  {
   "cell_type": "code",
   "execution_count": null,
   "metadata": {
    "ExecuteTime": {
     "end_time": "2019-09-06T01:05:58.400342Z",
     "start_time": "2019-09-06T01:05:58.310322Z"
    }
   },
   "outputs": [],
   "source": [
    "v_crime.NEIGHBORHOOD_NAME.value_counts().nlargest(10).index"
   ]
  },
  {
   "cell_type": "markdown",
   "metadata": {},
   "source": [
    "By nearly 700 occurrances, Five Points again leads the way. Let's look at its breakdown."
   ]
  },
  {
   "cell_type": "code",
   "execution_count": null,
   "metadata": {
    "ExecuteTime": {
     "end_time": "2019-09-06T01:05:58.508369Z",
     "start_time": "2019-09-06T01:05:58.406348Z"
    }
   },
   "outputs": [],
   "source": [
    "def v_types_from_n(value):\n",
    "    return v_crime[v_crime.NEIGHBORHOOD_NAME == value].OFFENSE_TYPE_NAME.value_counts()\n",
    "def v_cats_from_n(value):\n",
    "    return v_crime[v_crime.NEIGHBORHOOD_NAME == value].OFFENSE_CATEGORY_NAME.value_counts()"
   ]
  },
  {
   "cell_type": "code",
   "execution_count": null,
   "metadata": {
    "ExecuteTime": {
     "end_time": "2019-09-06T01:05:58.642264Z",
     "start_time": "2019-09-06T01:05:58.513372Z"
    }
   },
   "outputs": [],
   "source": [
    "v_types_from_n('Five Points')"
   ]
  },
  {
   "cell_type": "code",
   "execution_count": null,
   "metadata": {
    "ExecuteTime": {
     "end_time": "2019-09-06T01:06:00.958847Z",
     "start_time": "2019-09-06T01:05:58.648396Z"
    }
   },
   "outputs": [],
   "source": [
    "plt.figure(figsize=(18,25))\n",
    "graph_ct = 1\n",
    "for value in v_crime.NEIGHBORHOOD_NAME.value_counts().nlargest(10).index:\n",
    "    plt.subplot(5, 2, graph_ct)\n",
    "    v_cats_from_n(value).plot(kind='pie', title='Rank {}: {}'.format(graph_ct, value))\n",
    "    plt.ylabel('Violent Crime Category')\n",
    "    graph_ct += 1\n",
    "plt.show()"
   ]
  },
  {
   "cell_type": "markdown",
   "metadata": {},
   "source": [
    "## Is there a significant difference in the number of violent offenses in the Summer compared to violent offenses the rest of the year? If not, how about in comparison to Winter?"
   ]
  },
  {
   "cell_type": "markdown",
   "metadata": {},
   "source": [
    "To answer this we should consider the proper rate at which to compare the two populations. It could be possible to go by month, however summer is not constrained by a monthly parameter, it is constrained to particular days in a year. So likely the best way to separate and compare these two sets of data would be by days of year that occur in summer for a particular year (summer occurs in a different day of year range each year) against those days which occur outside the range of summer."
   ]
  },
  {
   "cell_type": "markdown",
   "metadata": {},
   "source": [
    "### Step 1: Seperating `v_crime` into two DataFrames - one with summer offenses and one without"
   ]
  },
  {
   "cell_type": "markdown",
   "metadata": {},
   "source": [
    "First, we need to find when summer actually occurred each year, this isn't too hard with a quick search on Google."
   ]
  },
  {
   "cell_type": "code",
   "execution_count": null,
   "metadata": {
    "ExecuteTime": {
     "end_time": "2019-09-06T01:06:01.007855Z",
     "start_time": "2019-09-06T01:06:00.976852Z"
    }
   },
   "outputs": [],
   "source": [
    "s2014_start = pd.to_datetime('June 21, 2014')\n",
    "s2014_end = pd.to_datetime('September 22, 2014')\n",
    "s2015_start = pd.to_datetime('June 21, 2015')\n",
    "s2015_end = pd.to_datetime('September 23, 2015')\n",
    "s2016_start = pd.to_datetime('June 20, 2016')\n",
    "s2016_end = pd.to_datetime('September 22, 2016')\n",
    "s2017_start = pd.to_datetime('June 20, 2017')\n",
    "s2017_end = pd.to_datetime('September 22, 2017')\n",
    "s2018_start = pd.to_datetime('June 21, 2018')\n",
    "s2018_end = pd.to_datetime('September 22, 2018')\n",
    "s2019_start = pd.to_datetime('June 21, 2019')\n",
    "s2019_end = pd.to_datetime('September 23, 2019')"
   ]
  },
  {
   "cell_type": "markdown",
   "metadata": {},
   "source": [
    "Now let's multifilter `v_crime` to get only summer offenses."
   ]
  },
  {
   "cell_type": "code",
   "execution_count": null,
   "metadata": {
    "ExecuteTime": {
     "end_time": "2019-09-06T01:06:01.126987Z",
     "start_time": "2019-09-06T01:06:01.014861Z"
    }
   },
   "outputs": [],
   "source": [
    "def f_occ():\n",
    "    return v_crime.FIRST_OCCURRENCE_DATE"
   ]
  },
  {
   "cell_type": "code",
   "execution_count": null,
   "metadata": {
    "ExecuteTime": {
     "end_time": "2019-09-06T01:06:01.246917Z",
     "start_time": "2019-09-06T01:06:01.131884Z"
    }
   },
   "outputs": [],
   "source": [
    "#format we need to properly filter\n",
    "print(v_crime[((s2014_start < f_occ()) & (f_occ() < s2014_end))].FIRST_OCCURRENCE_DATE.min())\n",
    "print(v_crime[((s2014_start < f_occ()) & (f_occ() < s2014_end))].FIRST_OCCURRENCE_DATE.max())"
   ]
  },
  {
   "cell_type": "code",
   "execution_count": null,
   "metadata": {
    "ExecuteTime": {
     "end_time": "2019-09-06T01:06:01.367948Z",
     "start_time": "2019-09-06T01:06:01.252920Z"
    }
   },
   "outputs": [],
   "source": [
    "s2014 = ((s2014_start < f_occ()) & (f_occ() < s2014_end))\n",
    "s2015 = ((s2015_start < f_occ()) & (f_occ() < s2015_end))\n",
    "s2016 = ((s2016_start < f_occ()) & (f_occ() < s2016_end))\n",
    "s2017 = ((s2017_start < f_occ()) & (f_occ() < s2017_end))\n",
    "s2018 = ((s2018_start < f_occ()) & (f_occ() < s2018_end))\n",
    "s2019 = ((s2019_start < f_occ()) & (f_occ() < s2019_end))\n",
    "sfilt = s2014 | s2015 | s2016 | s2017 | s2018 | s2019"
   ]
  },
  {
   "cell_type": "code",
   "execution_count": null,
   "metadata": {
    "ExecuteTime": {
     "end_time": "2019-09-06T01:06:01.457967Z",
     "start_time": "2019-09-06T01:06:01.376952Z"
    }
   },
   "outputs": [],
   "source": [
    "#see if we get same result as above for 2014\n",
    "print(v_crime[s2014].FIRST_OCCURRENCE_DATE.min())\n",
    "print(v_crime[s2014].FIRST_OCCURRENCE_DATE.max())"
   ]
  },
  {
   "cell_type": "code",
   "execution_count": null,
   "metadata": {
    "ExecuteTime": {
     "end_time": "2019-09-06T01:06:01.550988Z",
     "start_time": "2019-09-06T01:06:01.462972Z"
    }
   },
   "outputs": [],
   "source": [
    "v_crime[sfilt].FIRST_OCCURRENCE_DATE.min()"
   ]
  },
  {
   "cell_type": "code",
   "execution_count": null,
   "metadata": {
    "ExecuteTime": {
     "end_time": "2019-09-06T01:06:01.649015Z",
     "start_time": "2019-09-06T01:06:01.557994Z"
    }
   },
   "outputs": [],
   "source": [
    "v_crime[sfilt].FIRST_OCCURRENCE_DATE.max()"
   ]
  },
  {
   "cell_type": "markdown",
   "metadata": {},
   "source": [
    "It appears that our filtering works, now we can assign this to a new summer violent crime DataFrame, `s_v_crime`"
   ]
  },
  {
   "cell_type": "code",
   "execution_count": null,
   "metadata": {
    "ExecuteTime": {
     "end_time": "2019-09-06T01:06:01.743168Z",
     "start_time": "2019-09-06T01:06:01.655019Z"
    }
   },
   "outputs": [],
   "source": [
    "s_v_crime = v_crime[sfilt]"
   ]
  },
  {
   "cell_type": "markdown",
   "metadata": {},
   "source": [
    "Then to get our non-summer values we can just find the opposite of our `sfilt`."
   ]
  },
  {
   "cell_type": "code",
   "execution_count": null,
   "metadata": {
    "ExecuteTime": {
     "end_time": "2019-09-06T01:06:01.909265Z",
     "start_time": "2019-09-06T01:06:01.748041Z"
    }
   },
   "outputs": [],
   "source": [
    "#make sure our totals match up correctly\n",
    "len(v_crime[~sfilt]) + len(s_v_crime) == len(v_crime)"
   ]
  },
  {
   "cell_type": "code",
   "execution_count": null,
   "metadata": {
    "ExecuteTime": {
     "end_time": "2019-09-06T01:06:02.012407Z",
     "start_time": "2019-09-06T01:06:01.918273Z"
    }
   },
   "outputs": [],
   "source": [
    "ns_v_crime = v_crime[~sfilt]"
   ]
  },
  {
   "cell_type": "markdown",
   "metadata": {},
   "source": [
    "Now we need to find our average violent crimes per day for both Summer and then for everything else."
   ]
  },
  {
   "cell_type": "code",
   "execution_count": null,
   "metadata": {
    "ExecuteTime": {
     "end_time": "2019-09-06T01:06:02.227360Z",
     "start_time": "2019-09-06T01:06:02.022295Z"
    }
   },
   "outputs": [],
   "source": [
    "sf_year = s_v_crime.FIRST_OCCURRENCE_DATE.dt.year.rename('year')\n",
    "sf_dayofyear = s_v_crime.FIRST_OCCURRENCE_DATE.dt.dayofyear.rename('dayofyear')"
   ]
  },
  {
   "cell_type": "code",
   "execution_count": null,
   "metadata": {
    "ExecuteTime": {
     "end_time": "2019-09-06T01:06:02.315486Z",
     "start_time": "2019-09-06T01:06:02.231353Z"
    }
   },
   "outputs": [],
   "source": [
    "s_counts = s_v_crime.groupby([sf_year, sf_dayofyear]).count().INCIDENT_ID"
   ]
  },
  {
   "cell_type": "code",
   "execution_count": null,
   "metadata": {
    "ExecuteTime": {
     "end_time": "2019-09-06T01:06:02.391523Z",
     "start_time": "2019-09-06T01:06:02.319379Z"
    },
    "scrolled": true
   },
   "outputs": [],
   "source": [
    "s_counts.mean()"
   ]
  },
  {
   "cell_type": "markdown",
   "metadata": {},
   "source": [
    "The above, `12.4107...`, is the average number of violent crimes per day in Denver during Summer. The non-summer mean, can be found similarly."
   ]
  },
  {
   "cell_type": "code",
   "execution_count": null,
   "metadata": {
    "ExecuteTime": {
     "end_time": "2019-09-06T01:06:02.510424Z",
     "start_time": "2019-09-06T01:06:02.397396Z"
    }
   },
   "outputs": [],
   "source": [
    "nsf_year = ns_v_crime.FIRST_OCCURRENCE_DATE.dt.year.rename('year')\n",
    "nsf_dayofyear = ns_v_crime.FIRST_OCCURRENCE_DATE.dt.dayofyear.rename('dayofyear')\n",
    "ns_counts = ns_v_crime.groupby([nsf_year, nsf_dayofyear]).count().INCIDENT_ID\n",
    "ns_counts.mean()"
   ]
  },
  {
   "cell_type": "markdown",
   "metadata": {},
   "source": [
    "<h4>How normal are the datasets?</h4>"
   ]
  },
  {
   "cell_type": "code",
   "execution_count": null,
   "metadata": {
    "ExecuteTime": {
     "end_time": "2019-09-06T01:06:02.570558Z",
     "start_time": "2019-09-06T01:06:02.516427Z"
    }
   },
   "outputs": [],
   "source": [
    "s_mu, s_std = stats.norm.fit(s_counts)\n",
    "ns_mu, ns_std = stats.norm.fit(ns_counts)"
   ]
  },
  {
   "cell_type": "code",
   "execution_count": null,
   "metadata": {
    "ExecuteTime": {
     "end_time": "2019-09-06T01:06:51.605692Z",
     "start_time": "2019-09-06T01:06:50.486534Z"
    }
   },
   "outputs": [],
   "source": [
    "plt.figure(figsize=(12,5))\n",
    "plt.subplot(121)\n",
    "plt.hist(s_counts, bins=25, density=True, color='red', alpha=.75)\n",
    "plt.title('Violent Crime Histogram: Summer - Normalized')\n",
    "plt.ylabel('Frequency')\n",
    "plt.xlabel('Number of Offenses')\n",
    "xmin, xmax = plt.xlim()\n",
    "x = np.linspace(xmin, xmax, len(s_counts))\n",
    "p = stats.norm.pdf(x, s_mu, s_std)\n",
    "plt.plot(x, p, 'k', linewidth=1)\n",
    "plt.subplot(122)\n",
    "plt.title('Violent Crime Histogram: Non-Summer - Normalized')\n",
    "plt.hist(ns_counts, bins=25, density=True, color='blue', alpha=.75)\n",
    "plt.ylabel('Frequency')\n",
    "plt.xlabel('Number of Offenses')\n",
    "xmin, xmax = plt.xlim()\n",
    "x = np.linspace(xmin, xmax, len(ns_counts))\n",
    "p = stats.norm.pdf(x, ns_mu, ns_std)\n",
    "plt.plot(x, p, 'k', linewidth=1)\n",
    "\n",
    "plt.tight_layout()\n",
    "plt.show()"
   ]
  },
  {
   "cell_type": "markdown",
   "metadata": {},
   "source": [
    "Based on a quick view of our histograms, we can see that violent crime in Summer looks much more normal than non-Summer crime. But how normal or not-normal is our data? We can do a QQ Plot on both of these to inspect closer."
   ]
  },
  {
   "cell_type": "code",
   "execution_count": null,
   "metadata": {
    "ExecuteTime": {
     "end_time": "2019-09-06T01:06:59.321790Z",
     "start_time": "2019-09-06T01:06:58.635618Z"
    },
    "scrolled": false
   },
   "outputs": [],
   "source": [
    "plt.figure(figsize=(15,10))\n",
    "\n",
    "plt.subplot(221)\n",
    "stats.probplot(s_counts, dist='norm', plot=plt)\n",
    "plt.title('Probability Plot - Summer Violent Crime')\n",
    "\n",
    "plt.subplot(222)\n",
    "stats.probplot(ns_counts, dist='norm', plot=plt)\n",
    "plt.title('Probability Plot - Non-Summer Violent Crime')\n",
    "\n",
    "plt.show()"
   ]
  },
  {
   "cell_type": "markdown",
   "metadata": {},
   "source": [
    "These look normally distributed to a point, the extremes or outliers seem to skew the data a bit, most of our data appears like-normal for both Summer and non-Summer datasets. Let's do one last look at the skew and kurtosis to see how they look."
   ]
  },
  {
   "cell_type": "code",
   "execution_count": null,
   "metadata": {
    "ExecuteTime": {
     "end_time": "2019-09-06T01:07:03.524948Z",
     "start_time": "2019-09-06T01:07:03.510940Z"
    }
   },
   "outputs": [],
   "source": [
    "print('Summer Skew: {} | Summer Kurtosis: {}'.format(s_counts.skew(), s_counts.kurt()))\n",
    "print('Non-Summer Skew: {} | Non-Summer Kurtosis: {}'.format(ns_counts.skew(), ns_counts.kurt()))"
   ]
  },
  {
   "cell_type": "markdown",
   "metadata": {},
   "source": [
    "The Summer data's skew is is slightly positive, but still very close to zero, this indicates that our data trails off more in the positive direction than a normal distribution. The Non-Summer data's skew is similar, but almost double, which indicates that the outliers are more positively skewed (meaning we either have a few very large outliers or many small ones). The Kurtosis (rather \"excess kurtosis\" in this case) indicates that the tails of our distributions' are 'heavy' or that more values fall within the relative tails compared to the normal distribution. These values in and of themselves aren't necessarily useful in determining how normal our data is, but rather tells us in what ways it is not normal."
   ]
  },
  {
   "cell_type": "markdown",
   "metadata": {},
   "source": [
    "<h4>Null Hypothesis: Summer has no effect on the violent crime rate\n",
    "    \n",
    "Alternative Hypothesis: Summer does have an effect on the violent crime rate</h4>\n"
   ]
  },
  {
   "cell_type": "markdown",
   "metadata": {},
   "source": [
    "To test this let's use a T-test and Mann-Whitney U Test (in the case that our data is not close to normal)."
   ]
  },
  {
   "cell_type": "code",
   "execution_count": null,
   "metadata": {
    "ExecuteTime": {
     "end_time": "2019-09-06T01:07:13.391188Z",
     "start_time": "2019-09-06T01:07:13.374178Z"
    }
   },
   "outputs": [],
   "source": [
    "print(stats.ttest_ind(s_counts, ns_counts, equal_var=False))\n",
    "print(stats.mannwhitneyu(s_counts, ns_counts, alternative='two-sided'))"
   ]
  },
  {
   "cell_type": "markdown",
   "metadata": {},
   "source": [
    "In both cases, we see an extremely small p-value which means we can reject the null hypothesis and deem that Summer does indeed have a significant effect on violent crime in Denver. The rate only increases by about two offenses a day, but it seems that you can bet that when Summer arrives, violent crime will increase."
   ]
  }
 ],
 "metadata": {
  "kernelspec": {
   "display_name": "Python 3",
   "language": "python",
   "name": "python3"
  },
  "language_info": {
   "codemirror_mode": {
    "name": "ipython",
    "version": 3
   },
   "file_extension": ".py",
   "mimetype": "text/x-python",
   "name": "python",
   "nbconvert_exporter": "python",
   "pygments_lexer": "ipython3",
   "version": "3.7.0"
  }
 },
 "nbformat": 4,
 "nbformat_minor": 2
}
