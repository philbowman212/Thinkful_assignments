{
 "cells": [
  {
   "cell_type": "code",
   "execution_count": 56,
   "metadata": {},
   "outputs": [],
   "source": [
    "from nba_api.stats.static import teams\n",
    "from nba_api.stats.endpoints import leaguegamefinder, boxscoresummaryv2\n",
    "import time\n",
    "import pandas as pd\n",
    "import numpy as np"
   ]
  },
  {
   "cell_type": "code",
   "execution_count": 77,
   "metadata": {},
   "outputs": [],
   "source": [
    "nba_teams = teams.get_teams()\n",
    "team_ids = [team['id'] for team in nba_teams]"
   ]
  },
  {
   "cell_type": "code",
   "execution_count": 46,
   "metadata": {},
   "outputs": [],
   "source": [
    "team_dfs = []\n",
    "for id in team_ids:\n",
    "    games = leaguegamefinder.LeagueGameFinder(team_id_nullable=id, season_nullable='2019-20').get_data_frames()[0]\n",
    "    reg_games = games[games.GAME_DATE >= '2019-10-22'].copy()\n",
    "    team_dfs.append(reg_games)\n",
    "    time.sleep(5)\n",
    "all_2019_reg_games = pd.concat(team_dfs)"
   ]
  },
  {
   "cell_type": "code",
   "execution_count": 79,
   "metadata": {},
   "outputs": [
    {
     "name": "stdout",
     "output_type": "stream",
     "text": [
      "Wall time: 35min 19s\n"
     ]
    }
   ],
   "source": [
    "%%time\n",
    "qtr1_3_dfs = []\n",
    "for id in all_2019_reg_games.GAME_ID.unique():\n",
    "    sum_data = boxscoresummaryv2.BoxScoreSummaryV2(id)\n",
    "    qtr_data = sum_data.get_data_frames()[5][['GAME_ID', 'TEAM_ID', 'PTS_QTR1', 'PTS_QTR2', 'PTS_QTR3']]\n",
    "    qtr1_3_dfs.append(qtr_data)\n",
    "    time.sleep(1)\n",
    "qtr1_3_df = pd.concat(qtr1_3_dfs)"
   ]
  },
  {
   "cell_type": "code",
   "execution_count": 85,
   "metadata": {},
   "outputs": [],
   "source": [
    "all_2019_reg_games = all_2019_reg_games.merge(qtr1_3_df, on=['GAME_ID', 'TEAM_ID']).copy()"
   ]
  },
  {
   "cell_type": "code",
   "execution_count": 140,
   "metadata": {},
   "outputs": [],
   "source": [
    "spreads = pd.read_csv('C:/Users/philb/Google Drive/Thinkful/Thinkful_repo/projects/supervised_capstone/Export Data/2019_spreads.csv', index_col=0)"
   ]
  },
  {
   "cell_type": "code",
   "execution_count": 141,
   "metadata": {},
   "outputs": [
    {
     "data": {
      "text/plain": [
       "array(['ATL', 'BOS', 'CLE', 'NOP', 'CHI', 'DAL', 'DEN', 'GSW', 'HOU',\n",
       "       'LAC', 'LAL', 'MIA', 'MIL', 'MIN', 'BKN', 'NYK', 'ORL', 'IND',\n",
       "       'PHI', 'PHX', 'POR', 'SAC', 'SAS', 'OKC', 'TOR', 'UTA', 'MEM',\n",
       "       'WAS', 'DET', 'CHA'], dtype=object)"
      ]
     },
     "execution_count": 141,
     "metadata": {},
     "output_type": "execute_result"
    }
   ],
   "source": [
    "all_2019_reg_games.TEAM_ABBREVIATION.unique()"
   ]
  },
  {
   "cell_type": "code",
   "execution_count": 142,
   "metadata": {},
   "outputs": [
    {
     "data": {
      "text/plain": [
       "array(['MIL', 'MEM', 'OKC', 'UTA', 'LAC', 'MIN', 'HOU', 'CHI', 'ATL',\n",
       "       'PHI', 'NY', 'DET', 'CLE', 'IND', 'ORL', 'BOS', 'DAL', 'DEN',\n",
       "       'PHO', 'SAC', 'GS', 'SAN', 'CHR', 'TOR', 'BKN', 'MIA', 'LAL',\n",
       "       'WAS', 'POR', 'NOP'], dtype=object)"
      ]
     },
     "execution_count": 142,
     "metadata": {},
     "output_type": "execute_result"
    }
   ],
   "source": [
    "spreads.Team.unique()"
   ]
  },
  {
   "cell_type": "code",
   "execution_count": 143,
   "metadata": {},
   "outputs": [],
   "source": [
    "spreads['Team'] = spreads.Team.str.replace('GS', 'GSW').replace('NY', 'NYK').replace('PHO', 'PHX').replace('SAN', 'SAS').replace('CHR','CHA')"
   ]
  },
  {
   "cell_type": "code",
   "execution_count": 144,
   "metadata": {},
   "outputs": [],
   "source": [
    "spreads['Date'] = spreads.Date.astype('datetime64')"
   ]
  },
  {
   "cell_type": "code",
   "execution_count": 145,
   "metadata": {},
   "outputs": [],
   "source": [
    "spreads.columns = ['GAME_DATE', 'TEAM_ABBREVIATION', 'Spread']"
   ]
  },
  {
   "cell_type": "code",
   "execution_count": 146,
   "metadata": {},
   "outputs": [],
   "source": [
    "all_2019_reg_games['GAME_DATE'] = all_2019_reg_games.GAME_DATE.astype('datetime64')"
   ]
  },
  {
   "cell_type": "code",
   "execution_count": 149,
   "metadata": {},
   "outputs": [],
   "source": [
    "all_data = all_2019_reg_games.merge(spreads, on= ['GAME_DATE', 'TEAM_ABBREVIATION']).copy()"
   ]
  },
  {
   "cell_type": "code",
   "execution_count": 151,
   "metadata": {},
   "outputs": [],
   "source": [
    "all_data.to_csv('C:/Users/philb/Google Drive/Thinkful/Thinkful_repo/projects/supervised_capstone/Export Data/2019-2020_data.csv')"
   ]
  }
 ],
 "metadata": {
  "kernelspec": {
   "display_name": "Python 3",
   "language": "python",
   "name": "python3"
  },
  "language_info": {
   "codemirror_mode": {
    "name": "ipython",
    "version": 3
   },
   "file_extension": ".py",
   "mimetype": "text/x-python",
   "name": "python",
   "nbconvert_exporter": "python",
   "pygments_lexer": "ipython3",
   "version": "3.7.4"
  }
 },
 "nbformat": 4,
 "nbformat_minor": 4
}
