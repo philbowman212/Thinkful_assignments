{
 "cells": [
  {
   "cell_type": "markdown",
   "metadata": {},
   "source": [
    "<h1 align='center'>NBA SUPERVISED LEARNING CAPSTONE</h1>\n",
    "<h2 align='center'>Philip Bowman</h2>\n",
    "\n",
    "## Part 3: NBA Modeling\n",
    "1. [NBA Data Aggregation](https://github.com/philbowman212/Thinkful_repo/blob/master/projects/supervised_capstone/Jupyter%20Notebooks/Data_Aggregation.ipynb)\n",
    "2. [NBA Data Cleaning and Exploration](https://github.com/philbowman212/Thinkful_repo/blob/master/projects/supervised_capstone/Jupyter%20Notebooks/Data_Cleaning_Exploration.ipynb)\n",
    "3. [NBA Modeling](https://github.com/philbowman212/Thinkful_repo/blob/master/projects/supervised_capstone/Jupyter%20Notebooks/Modeling.ipynb)*\n",
    "4. [NBA Model Testing](https://github.com/philbowman212/Thinkful_repo/blob/master/projects/supervised_capstone/Jupyter%20Notebooks/Model_Testing.ipynb)"
   ]
  },
  {
   "cell_type": "markdown",
   "metadata": {},
   "source": [
    "## Purpose:"
   ]
  },
  {
   "cell_type": "markdown",
   "metadata": {},
   "source": [
    "To create and test machine learning models to predict the winner of a modern NBA game. This will be done by using the features engineered in the prior notebook (see [NBA Data Cleaning and Exploration](https://github.com/philbowman212/Thinkful_repo/blob/master/projects/supervised_capstone/Jupyter%20Notebooks/Data_Cleaning_Exploration.ipynb)). "
   ]
  },
  {
   "cell_type": "code",
   "execution_count": 1,
   "metadata": {
    "Collapsed": "false"
   },
   "outputs": [],
   "source": [
    "import pandas as pd\n",
    "import numpy as np\n",
    "import matplotlib.pyplot as plt\n",
    "import seaborn as sns\n",
    "import time\n",
    "\n",
    "from sklearn.model_selection import train_test_split, cross_val_score, GridSearchCV\n",
    "from sklearn.preprocessing import StandardScaler, MinMaxScaler\n",
    "from sklearn.linear_model import LogisticRegression\n",
    "from sklearn.naive_bayes import MultinomialNB, BernoulliNB\n",
    "from sklearn.neighbors import KNeighborsClassifier\n",
    "from sklearn.tree import DecisionTreeClassifier\n",
    "from sklearn.ensemble import RandomForestClassifier, GradientBoostingClassifier, ExtraTreesClassifier\n",
    "from sklearn.svm import SVC\n",
    "from xgboost import XGBClassifier\n",
    "\n",
    "%matplotlib inline\n",
    "pd.set_option('display.max_rows', 500)\n",
    "pd.set_option('display.max_columns', 500)"
   ]
  },
  {
   "cell_type": "markdown",
   "metadata": {
    "Collapsed": "false"
   },
   "source": [
    "# Holdouts and Validation Sets"
   ]
  },
  {
   "cell_type": "markdown",
   "metadata": {},
   "source": [
    "The data will be split into a holdout set, validation set and training set. The holdout set will be used for final predictions (on this dataset), think of it as a final grade for the models presented. The validation set will test how well a model performs on a small unseen set of data, think of it as the midterm grade. While the training set will be used to create models, think of this as homework in preparation for the midterm and final. This small section will get all those datasets (and their variants) in order."
   ]
  },
  {
   "cell_type": "markdown",
   "metadata": {},
   "source": [
    "Import the feature set."
   ]
  },
  {
   "cell_type": "code",
   "execution_count": 2,
   "metadata": {
    "Collapsed": "false"
   },
   "outputs": [],
   "source": [
    "df = pd.read_csv('C:/Users/philb/Google Drive/Thinkful/Thinkful_repo/projects/supervised_capstone/Export Data/target_features.csv', index_col=0)"
   ]
  },
  {
   "cell_type": "markdown",
   "metadata": {},
   "source": [
    "Seperate the target and the features."
   ]
  },
  {
   "cell_type": "code",
   "execution_count": 3,
   "metadata": {
    "Collapsed": "false"
   },
   "outputs": [],
   "source": [
    "target = df.iloc[:, 0]\n",
    "features = df.iloc[:, 1:]"
   ]
  },
  {
   "cell_type": "markdown",
   "metadata": {},
   "source": [
    "Use `train_test_split()` to create the holdout sets (`X_holdout`/`y_holdout`), validation sets (`X_test`/`y_test`), and training sets (`X_train`/`y_train`)."
   ]
  },
  {
   "cell_type": "code",
   "execution_count": 4,
   "metadata": {
    "Collapsed": "false"
   },
   "outputs": [],
   "source": [
    "X, X_holdout, y, y_holdout = train_test_split(features, target, test_size=.2, random_state=795)\n",
    "X_train, X_test, y_train, y_test = train_test_split(X, y, test_size=.1, random_state=795)"
   ]
  },
  {
   "cell_type": "markdown",
   "metadata": {
    "Collapsed": "false"
   },
   "source": [
    "Create a few scalers as different models have different requirements of thier data. `StandardScaler` and `MinMaxScaler` are used here as the `StandardScaler` will help in models that have trouble with larger values and `MinMaxScaler` will help when datasets must have only positive numbers."
   ]
  },
  {
   "cell_type": "code",
   "execution_count": 5,
   "metadata": {
    "Collapsed": "false"
   },
   "outputs": [],
   "source": [
    "sscaler = StandardScaler() \n",
    "mmscaler = MinMaxScaler() "
   ]
  },
  {
   "cell_type": "markdown",
   "metadata": {},
   "source": [
    "Standardized (x - mean / std) data is created and Min Maxed (0-1) data is created, note here that the first column is not standardized as it is a categorical variable (`teamHome_A`). The data is transformed in such a way that the training data is fit to the scaler then transformed, but the validation/test set is not part of the scaler's fitting and is only transformed based off of the training set's fit."
   ]
  },
  {
   "cell_type": "code",
   "execution_count": 6,
   "metadata": {
    "Collapsed": "false"
   },
   "outputs": [],
   "source": [
    "s_train = pd.DataFrame(sscaler.fit_transform(X_train.iloc[:, 1:]), columns=X_train.columns[1:], index=X_train.index).join(X_train.iloc[:, 0]).copy()\n",
    "s_test = pd.DataFrame(sscaler.transform(X_test.iloc[:, 1:]), columns=X_test.columns[1:], index=X_test.index).join(X_test.iloc[:, 0]).copy()"
   ]
  },
  {
   "cell_type": "code",
   "execution_count": 7,
   "metadata": {
    "Collapsed": "false"
   },
   "outputs": [],
   "source": [
    "mm_train = pd.DataFrame(mmscaler.fit_transform(X_train.iloc[:, 1:]), columns=X_train.columns[1:], index=X_train.index).join(X_train.iloc[:, 0]).copy()\n",
    "mm_test = pd.DataFrame(mmscaler.transform(X_test.iloc[:, 1:]), columns=X_test.columns[1:], index=X_test.index).join(X_test.iloc[:, 0]).copy()"
   ]
  },
  {
   "cell_type": "markdown",
   "metadata": {},
   "source": [
    "This function's purpose is to easily display information in the data selection stage."
   ]
  },
  {
   "cell_type": "code",
   "execution_count": 8,
   "metadata": {},
   "outputs": [],
   "source": [
    "def ck_cvs(model):\n",
    "    base_scores= cross_val_score(model, X_train, y_train, n_jobs=-1)\n",
    "    s_scores = cross_val_score(model, s_train, y_train, n_jobs=-1)\n",
    "    mm_scores = cross_val_score(model, mm_train, y_train, n_jobs=-1)\n",
    "    model_len = len(str(model).split('(')[0] + ' Data Selection')\n",
    "    \n",
    "    print('-'*model_len)\n",
    "    print(str(model).split('(')[0] + ' Data Selection')\n",
    "    print('-'*model_len)\n",
    "    print('Original Data (X_train)')\n",
    "    print('Scores: {}'.format(base_scores))\n",
    "    print('Mean:   {}'.format(base_scores.mean()))\n",
    "    print('---------------------------')\n",
    "    print('Standardized Data (s_train)')\n",
    "    print('Scores: {}'.format(s_scores))\n",
    "    print('Mean:   {}'.format(s_scores.mean()))\n",
    "    print('------------------------')\n",
    "    print('MinMaxed Data (mm_train)')\n",
    "    print('Scores: {}'.format(mm_scores))\n",
    "    print('Mean:   {}'.format(mm_scores.mean()))\n",
    "    if len('-'*model_len) > len('---------------------------'):\n",
    "        print('-'*model_len)\n",
    "    else:\n",
    "        print('---------------------------')"
   ]
  },
  {
   "cell_type": "markdown",
   "metadata": {},
   "source": [
    "This is a function that conducts a grid search (of a grid that is predefined) and returns information pertinent to our model selection decision making process. It also returns the grid used, the test/validation score and the time total time it took for the grid to complete."
   ]
  },
  {
   "cell_type": "code",
   "execution_count": 9,
   "metadata": {},
   "outputs": [],
   "source": [
    "def grid_fit_est_test(grid, train, test):\n",
    "    start = time.time()\n",
    "    grid.fit(train, y_train)\n",
    "    stop = time.time()\n",
    "    grid_time = stop - start\n",
    "    test_score = grid.score(test, y_test)\n",
    "    best_est = grid.best_estimator_\n",
    "    \n",
    "    print(best_est)\n",
    "    print('Training: {}'.format(grid.best_score_))\n",
    "    print('Testing: {}'.format(test_score))\n",
    "    print('Grid Time: {}s'.format(grid_time))\n",
    "    return grid, test_score, grid_time"
   ]
  },
  {
   "cell_type": "markdown",
   "metadata": {},
   "source": [
    "Create an empty list for tracking the best estimators (from the results of the grid searches)."
   ]
  },
  {
   "cell_type": "code",
   "execution_count": 10,
   "metadata": {},
   "outputs": [],
   "source": [
    "best_estimators = []\n",
    "scalers = {}"
   ]
  },
  {
   "cell_type": "markdown",
   "metadata": {},
   "source": [
    "# The Method and the Models"
   ]
  },
  {
   "cell_type": "markdown",
   "metadata": {},
   "source": [
    "Before hopping into training the models let's have a quick look at the models that will be used and also explain how each model will be tested.\n",
    "\n",
    "**THE MODELS**\n",
    "1. Logistic Regression (L1 and L2)\n",
    "2. K-Neighbors Classifier (K-Nearest Neighbors)\n",
    "3. Naive Bayes (Multinomial and Bernoulli)\n",
    "4. Decision Tree\n",
    "5. Random Forest\n",
    "6. Support Vector Machines\n",
    "7. Gradient Tree Boosting\n",
    "8. eXtreme Gradient Boosting\n",
    "9. Extremely Randomized Trees (Extra Trees)\n",
    "\n",
    "**THE METHOD**\n",
    "\n",
    "For each of the models above, first the appropriate dataset will be deduced using a simple cross validation of each data type using the base model (the model with its default parameters). Then an initial model will be instantiated for each type of model. For that model a parameters dictionary will be created with relevant tuning parameters. Once the model is created and tuning parameters are selected for that model, it will get put into a new `GridSearchCV` model. The function created above will then use the `GridSearchCV` model and return the relevant information for the model tuning. The model will then be added to the `best_estimators` list for future inspection."
   ]
  },
  {
   "cell_type": "markdown",
   "metadata": {
    "Collapsed": "false"
   },
   "source": [
    "# 1. Logistic Regression"
   ]
  },
  {
   "cell_type": "markdown",
   "metadata": {},
   "source": [
    "**Quick description:**\n",
    "Logistic Regression is essentially the classifier brother to linear regression. It uses the logistic function to estimate predictions. It is a relatively simple and fast algorithm. If the data is too complex (with non-linear decisions that should be made), it may not perform especially well."
   ]
  },
  {
   "cell_type": "markdown",
   "metadata": {},
   "source": [
    "## Data Selection"
   ]
  },
  {
   "cell_type": "markdown",
   "metadata": {},
   "source": [
    "Instantiate the basic model and test it on the different datasets (`X_train`, `s_train`, `mm_train`). I think the standardized data will likely do best. `X_train` should probably not even be used since it is important for linear models to have standardized data, but it'll get a chance anyways."
   ]
  },
  {
   "cell_type": "code",
   "execution_count": 11,
   "metadata": {
    "Collapsed": "false"
   },
   "outputs": [],
   "source": [
    "log_reg = LogisticRegression()"
   ]
  },
  {
   "cell_type": "code",
   "execution_count": 12,
   "metadata": {},
   "outputs": [
    {
     "name": "stdout",
     "output_type": "stream",
     "text": [
      "---------------------------------\n",
      "LogisticRegression Data Selection\n",
      "---------------------------------\n",
      "Original Data (X_train)\n",
      "Scores: [0.82156489 0.78625954 0.79770992 0.78701051 0.80229226]\n",
      "Mean:   0.7989674241927135\n",
      "---------------------------\n",
      "Standardized Data (s_train)\n",
      "Scores: [0.82538168 0.8101145  0.81965649 0.81852913 0.82425979]\n",
      "Mean:   0.8195883184963216\n",
      "------------------------\n",
      "MinMaxed Data (mm_train)\n",
      "Scores: [0.82824427 0.79866412 0.81583969 0.81470869 0.82330468]\n",
      "Mean:   0.8161522926281559\n",
      "---------------------------------\n"
     ]
    }
   ],
   "source": [
    "ck_cvs(log_reg)"
   ]
  },
  {
   "cell_type": "markdown",
   "metadata": {},
   "source": [
    "**The Verdict**: For the case of logistic regression, the scaled data will be used."
   ]
  },
  {
   "cell_type": "code",
   "execution_count": 13,
   "metadata": {},
   "outputs": [],
   "source": [
    "scalers['logistic'] = 'standardized'"
   ]
  },
  {
   "cell_type": "markdown",
   "metadata": {
    "Collapsed": "false"
   },
   "source": [
    "## Tuning using GridSearchCV"
   ]
  },
  {
   "cell_type": "markdown",
   "metadata": {},
   "source": [
    "In the case of logistic regression there are a lot of potential parameters to consider. Of them all, the primary ones in question are as follows:\n",
    "1. L1 or L2 regularization (that is essentially, Ridge or Lasso regression)\n",
    "2. The solver to use for a given type of regularization (newton-cg, sag, lbfgs, liblinear, saga)\n",
    "3. The C (coefficient) value or the inverse of the strength of regularization (smaller is stronger regularization)"
   ]
  },
  {
   "cell_type": "markdown",
   "metadata": {},
   "source": [
    "The following code sets up a L2 Logistic Regression model with the appropriate solvers and a C value ranging from 0 to 5 in .1 increments."
   ]
  },
  {
   "cell_type": "code",
   "execution_count": 14,
   "metadata": {
    "Collapsed": "false"
   },
   "outputs": [
    {
     "name": "stdout",
     "output_type": "stream",
     "text": [
      "Fitting 5 folds for each of 153 candidates, totalling 765 fits\n"
     ]
    },
    {
     "name": "stderr",
     "output_type": "stream",
     "text": [
      "[Parallel(n_jobs=-1)]: Using backend LokyBackend with 4 concurrent workers.\n",
      "[Parallel(n_jobs=-1)]: Done  10 tasks      | elapsed:    0.5s\n",
      "[Parallel(n_jobs=-1)]: Done  64 tasks      | elapsed:    3.0s\n",
      "[Parallel(n_jobs=-1)]: Done 154 tasks      | elapsed:    7.0s\n",
      "[Parallel(n_jobs=-1)]: Done 280 tasks      | elapsed:   12.6s\n",
      "[Parallel(n_jobs=-1)]: Done 442 tasks      | elapsed:   20.2s\n",
      "[Parallel(n_jobs=-1)]: Done 640 tasks      | elapsed:   29.9s\n"
     ]
    },
    {
     "name": "stdout",
     "output_type": "stream",
     "text": [
      "LogisticRegression(C=0.4, class_weight=None, dual=False, fit_intercept=True,\n",
      "                   intercept_scaling=1, l1_ratio=None, max_iter=1000,\n",
      "                   multi_class='auto', n_jobs=None, penalty='l2',\n",
      "                   random_state=None, solver='newton-cg', tol=0.0001, verbose=0,\n",
      "                   warm_start=False)\n",
      "Training: 0.8207340857557398\n",
      "Testing: 0.7989690721649485\n",
      "Grid Time: 36.76613426208496s\n"
     ]
    },
    {
     "name": "stderr",
     "output_type": "stream",
     "text": [
      "[Parallel(n_jobs=-1)]: Done 765 out of 765 | elapsed:   36.5s finished\n"
     ]
    }
   ],
   "source": [
    "log_reg_l2 = LogisticRegression(penalty='l2', max_iter=1000)\n",
    "l2_params = {'solver': ('newton-cg', 'sag', 'lbfgs'),\n",
    "             'C': np.arange(0, 5.1, .1)}\n",
    "grid_l2 = GridSearchCV(log_reg_l2, l2_params, n_jobs=-1, error_score=0, verbose=5)\n",
    "best_l2 = grid_fit_est_test(grid_l2, s_train, s_test)\n",
    "best_estimators.append(best_l2)"
   ]
  },
  {
   "cell_type": "code",
   "execution_count": 15,
   "metadata": {
    "Collapsed": "false"
   },
   "outputs": [
    {
     "name": "stderr",
     "output_type": "stream",
     "text": [
      "[Parallel(n_jobs=-1)]: Using backend LokyBackend with 4 concurrent workers.\n"
     ]
    },
    {
     "name": "stdout",
     "output_type": "stream",
     "text": [
      "Fitting 5 folds for each of 102 candidates, totalling 510 fits\n"
     ]
    },
    {
     "name": "stderr",
     "output_type": "stream",
     "text": [
      "[Parallel(n_jobs=-1)]: Done  12 tasks      | elapsed:    0.4s\n",
      "[Parallel(n_jobs=-1)]: Done 120 tasks      | elapsed:    3.6s\n",
      "[Parallel(n_jobs=-1)]: Done 300 tasks      | elapsed:    9.0s\n",
      "[Parallel(n_jobs=-1)]: Done 503 out of 510 | elapsed:   15.6s remaining:    0.1s\n"
     ]
    },
    {
     "name": "stdout",
     "output_type": "stream",
     "text": [
      "LogisticRegression(C=0.1, class_weight=None, dual=False, fit_intercept=True,\n",
      "                   intercept_scaling=1, l1_ratio=None, max_iter=1000,\n",
      "                   multi_class='auto', n_jobs=None, penalty='l1',\n",
      "                   random_state=None, solver='saga', tol=0.0001, verbose=0,\n",
      "                   warm_start=False)\n",
      "Training: 0.8218785771050694\n",
      "Testing: 0.8006872852233677\n",
      "Grid Time: 16.062070608139038s\n"
     ]
    },
    {
     "name": "stderr",
     "output_type": "stream",
     "text": [
      "[Parallel(n_jobs=-1)]: Done 510 out of 510 | elapsed:   15.8s finished\n"
     ]
    }
   ],
   "source": [
    "log_reg_l1 = LogisticRegression(penalty='l1', max_iter=1000)\n",
    "l1_params = {'solver': ('liblinear', 'saga'),\n",
    "             'C': np.arange(0, 5.1, .1)}\n",
    "grid_l1 = GridSearchCV(log_reg_l1, l1_params, n_jobs=-1, error_score=0, verbose=5)\n",
    "best_l1 = grid_fit_est_test(grid_l1, s_train, s_test)\n",
    "best_estimators.append(best_l1)"
   ]
  },
  {
   "cell_type": "markdown",
   "metadata": {},
   "source": [
    "## Logistic Thoughts\n",
    "Both L2 and L1 regularized logistic regression appear to have performed relatively well, while also being incredibly fast. This will definitely be one to look out for looking forward."
   ]
  },
  {
   "cell_type": "markdown",
   "metadata": {
    "Collapsed": "false"
   },
   "source": [
    "# 2. K-Neighbors Classifier"
   ]
  },
  {
   "cell_type": "markdown",
   "metadata": {
    "Collapsed": "false"
   },
   "source": [
    "**Quick Description:** K-Nearest Neighbors is more of a comparative model than a learner. It basically looks at a given datapoint, finds the k-closest other datapoints and categorizes the given datapoint based off of those. Very simple, but it can also be relatively computationally expensive with large datasets!"
   ]
  },
  {
   "cell_type": "markdown",
   "metadata": {},
   "source": [
    "## Data Selection"
   ]
  },
  {
   "cell_type": "markdown",
   "metadata": {},
   "source": [
    "This one should actually perform basically the same regardless of the dataset. The reason for this is because of how KNN works. Let's see."
   ]
  },
  {
   "cell_type": "code",
   "execution_count": 16,
   "metadata": {
    "Collapsed": "false"
   },
   "outputs": [],
   "source": [
    "knn_clf = KNeighborsClassifier(n_jobs=-1)"
   ]
  },
  {
   "cell_type": "code",
   "execution_count": 17,
   "metadata": {},
   "outputs": [
    {
     "name": "stdout",
     "output_type": "stream",
     "text": [
      "-----------------------------------\n",
      "KNeighborsClassifier Data Selection\n",
      "-----------------------------------\n",
      "Original Data (X_train)\n",
      "Scores: [0.64408397 0.63645038 0.65839695 0.62464183 0.61318052]\n",
      "Mean:   0.6353507294560249\n",
      "---------------------------\n",
      "Standardized Data (s_train)\n",
      "Scores: [0.71851145 0.71660305 0.71374046 0.72301815 0.70200573]\n",
      "Mean:   0.7147757679156004\n",
      "------------------------\n",
      "MinMaxed Data (mm_train)\n",
      "Scores: [0.76908397 0.73377863 0.76145038 0.74498567 0.747851  ]\n",
      "Mean:   0.7514299306634002\n",
      "-----------------------------------\n"
     ]
    }
   ],
   "source": [
    "ck_cvs(knn_clf)"
   ]
  },
  {
   "cell_type": "markdown",
   "metadata": {},
   "source": [
    "Turns out I was wrong, it worked the best on the min maxed data, interesting."
   ]
  },
  {
   "cell_type": "markdown",
   "metadata": {},
   "source": [
    "**The Verdict:** Min maxed data performed the best using the base algorithm, so it'll be the one used in the parameter tuning."
   ]
  },
  {
   "cell_type": "code",
   "execution_count": 18,
   "metadata": {},
   "outputs": [],
   "source": [
    "scalers['knn'] = 'minmaxed'"
   ]
  },
  {
   "cell_type": "markdown",
   "metadata": {
    "Collapsed": "false"
   },
   "source": [
    "## Tuning Parameters"
   ]
  },
  {
   "cell_type": "markdown",
   "metadata": {},
   "source": [
    "Tuning for K-Nearest Neighbors is relatively simple in comparison to Logistic regression. Ultimately it comes down to how many neighbors you want to use for voting and also how you want to measure the distance between two points (which is likely why the min maxed dataset performed the best). So, 'n_neighbors' goes through 1 to 30 neighbors and 'p' cycles through different distance metrics (manhattan for p=1; euclidean for p=2; and minkowski for p=3,4)."
   ]
  },
  {
   "cell_type": "code",
   "execution_count": 19,
   "metadata": {
    "Collapsed": "false"
   },
   "outputs": [],
   "source": [
    "knn_params = {'n_neighbors': np.arange(1, 31, 1),\n",
    "              'p': np.arange(1, 5, 1)}"
   ]
  },
  {
   "cell_type": "code",
   "execution_count": 20,
   "metadata": {
    "Collapsed": "false"
   },
   "outputs": [],
   "source": [
    "grid_knn = GridSearchCV(knn_clf, knn_params, n_jobs=-1, error_score=0, verbose=5)"
   ]
  },
  {
   "cell_type": "code",
   "execution_count": 21,
   "metadata": {
    "Collapsed": "false"
   },
   "outputs": [
    {
     "name": "stdout",
     "output_type": "stream",
     "text": [
      "Fitting 5 folds for each of 120 candidates, totalling 600 fits\n"
     ]
    },
    {
     "name": "stderr",
     "output_type": "stream",
     "text": [
      "[Parallel(n_jobs=-1)]: Using backend LokyBackend with 4 concurrent workers.\n",
      "[Parallel(n_jobs=-1)]: Done  10 tasks      | elapsed:    2.5s\n",
      "[Parallel(n_jobs=-1)]: Done  64 tasks      | elapsed:   30.4s\n",
      "[Parallel(n_jobs=-1)]: Done 154 tasks      | elapsed:  1.3min\n",
      "[Parallel(n_jobs=-1)]: Done 280 tasks      | elapsed:  2.5min\n",
      "[Parallel(n_jobs=-1)]: Done 442 tasks      | elapsed:  4.2min\n",
      "[Parallel(n_jobs=-1)]: Done 600 out of 600 | elapsed:  5.9min finished\n"
     ]
    },
    {
     "name": "stdout",
     "output_type": "stream",
     "text": [
      "KNeighborsClassifier(algorithm='auto', leaf_size=30, metric='minkowski',\n",
      "                     metric_params=None, n_jobs=-1, n_neighbors=28, p=1,\n",
      "                     weights='uniform')\n",
      "Training: 0.7869403311533498\n",
      "Testing: 0.7783505154639175\n",
      "Grid Time: 352.3201186656952s\n"
     ]
    }
   ],
   "source": [
    "best_knn = grid_fit_est_test(grid_knn, mm_train, mm_test)\n",
    "best_estimators.append(best_knn)"
   ]
  },
  {
   "cell_type": "markdown",
   "metadata": {},
   "source": [
    "## KNN Thoughts"
   ]
  },
  {
   "cell_type": "markdown",
   "metadata": {},
   "source": [
    "This classifier performed relatively well. It does take a much longer time to train, however. And if the amount of data gets larger it will only take longer to perform its operations. This could be a good estimator in the right situations. But I'm thinking it isn't going to fit the bill in this case."
   ]
  },
  {
   "cell_type": "markdown",
   "metadata": {
    "Collapsed": "false"
   },
   "source": [
    "# 3. Naive Bayes Estimators"
   ]
  },
  {
   "cell_type": "markdown",
   "metadata": {},
   "source": [
    "**Quick Description:** Naive Bayes is all about probability and Bayes' theorem. It has a number of assumptions, perhaps the most stringent of which is that its features are assumed to be independent of one another. Even with this assumption, Naive Bayes is used a lot due to its simplicity, speed and relative flexibility. It likely won't have the best results in this case, but it's worth looking into."
   ]
  },
  {
   "cell_type": "markdown",
   "metadata": {},
   "source": [
    "## Data Selection"
   ]
  },
  {
   "cell_type": "markdown",
   "metadata": {},
   "source": [
    "For Naive Bayes, both Multinomial and Bernoulli (binary) forms will be explored. In the case of Bernoulli, it would make no sense to use anything other than the X_train data as the model will binarize (change it to 0's and 1's) its inputs before training. Also if we used the standardized data, if anything was actually equal to the mean, its value could wrongly be 0. Similarly with the min-maxed data, the lowest values will be 0 (when they may not actually be zero), this also would cause problems. In the case of the Multinomial form it actually only makes sense to use the min-maxed data as negatives will not work when used with Multinomial Naive Bayes. Unfortunately, this means that any minimums become zero in this case. I don't think there is a lot of hope for Multinomial Naive Bayes in this particular situation. "
   ]
  },
  {
   "cell_type": "markdown",
   "metadata": {},
   "source": [
    "**The Verdict:** Multinomial Naive Bayes will use min-maxed data and the Bernoulli model will use the base data (X_train)."
   ]
  },
  {
   "cell_type": "code",
   "execution_count": 22,
   "metadata": {},
   "outputs": [],
   "source": [
    "scalers['multi_nb'] = 'minmaxed'\n",
    "scalers['bern_nb'] = 'base'"
   ]
  },
  {
   "cell_type": "markdown",
   "metadata": {
    "Collapsed": "false"
   },
   "source": [
    "## Tuning Parameters"
   ]
  },
  {
   "cell_type": "markdown",
   "metadata": {
    "Collapsed": "false"
   },
   "source": [
    "The only one to really tune here is alpha (the smoothing parameter) for both situations."
   ]
  },
  {
   "cell_type": "code",
   "execution_count": 23,
   "metadata": {
    "Collapsed": "false"
   },
   "outputs": [],
   "source": [
    "nbm_clf = MultinomialNB()\n",
    "nbb_clf = BernoulliNB()"
   ]
  },
  {
   "cell_type": "code",
   "execution_count": 24,
   "metadata": {
    "Collapsed": "false"
   },
   "outputs": [],
   "source": [
    "nb_params = {'alpha': np.arange(0.0000000001, 5.1, 1)}"
   ]
  },
  {
   "cell_type": "code",
   "execution_count": 25,
   "metadata": {
    "Collapsed": "false"
   },
   "outputs": [],
   "source": [
    "grid_nbm = GridSearchCV(nbm_clf, nb_params, n_jobs=-1, verbose=5)"
   ]
  },
  {
   "cell_type": "code",
   "execution_count": 26,
   "metadata": {
    "Collapsed": "false"
   },
   "outputs": [
    {
     "name": "stdout",
     "output_type": "stream",
     "text": [
      "Fitting 5 folds for each of 6 candidates, totalling 30 fits\n"
     ]
    },
    {
     "name": "stderr",
     "output_type": "stream",
     "text": [
      "[Parallel(n_jobs=-1)]: Using backend LokyBackend with 4 concurrent workers.\n"
     ]
    },
    {
     "name": "stdout",
     "output_type": "stream",
     "text": [
      "MultinomialNB(alpha=1e-10, class_prior=None, fit_prior=True)\n",
      "Training: 0.7604023126781717\n",
      "Testing: 0.761168384879725\n",
      "Grid Time: 0.5793650150299072s\n"
     ]
    },
    {
     "name": "stderr",
     "output_type": "stream",
     "text": [
      "[Parallel(n_jobs=-1)]: Done  12 tasks      | elapsed:    0.3s\n",
      "[Parallel(n_jobs=-1)]: Done  23 out of  30 | elapsed:    0.4s remaining:    0.0s\n",
      "[Parallel(n_jobs=-1)]: Done  30 out of  30 | elapsed:    0.5s remaining:    0.0s\n",
      "[Parallel(n_jobs=-1)]: Done  30 out of  30 | elapsed:    0.5s finished\n"
     ]
    }
   ],
   "source": [
    "best_nbm = grid_fit_est_test(grid_nbm, mm_train, mm_test)\n",
    "best_estimators.append(best_nbm)"
   ]
  },
  {
   "cell_type": "code",
   "execution_count": 27,
   "metadata": {
    "Collapsed": "false"
   },
   "outputs": [],
   "source": [
    "grid_nbb = GridSearchCV(nbb_clf, nb_params, n_jobs=-1, verbose=5)"
   ]
  },
  {
   "cell_type": "code",
   "execution_count": 28,
   "metadata": {},
   "outputs": [
    {
     "name": "stdout",
     "output_type": "stream",
     "text": [
      "Fitting 5 folds for each of 6 candidates, totalling 30 fits\n"
     ]
    },
    {
     "name": "stderr",
     "output_type": "stream",
     "text": [
      "[Parallel(n_jobs=-1)]: Using backend LokyBackend with 4 concurrent workers.\n",
      "[Parallel(n_jobs=-1)]: Done  12 tasks      | elapsed:    0.2s\n",
      "[Parallel(n_jobs=-1)]: Done  23 out of  30 | elapsed:    0.4s remaining:    0.1s\n"
     ]
    },
    {
     "name": "stdout",
     "output_type": "stream",
     "text": [
      "BernoulliNB(alpha=1e-10, binarize=0.0, class_prior=None, fit_prior=True)\n",
      "Training: 0.7462756184518472\n",
      "Testing: 0.7405498281786942\n",
      "Grid Time: 0.6238460540771484s\n"
     ]
    },
    {
     "name": "stderr",
     "output_type": "stream",
     "text": [
      "[Parallel(n_jobs=-1)]: Done  30 out of  30 | elapsed:    0.5s remaining:    0.0s\n",
      "[Parallel(n_jobs=-1)]: Done  30 out of  30 | elapsed:    0.5s finished\n"
     ]
    }
   ],
   "source": [
    "best_nbb = grid_fit_est_test(grid_nbb, X_train, X_test)\n",
    "best_estimators.append(best_nbb)"
   ]
  },
  {
   "cell_type": "markdown",
   "metadata": {},
   "source": [
    "## Naive Bayes Thoughts\n",
    "Perhaps the most interesting thing to come from the above is the fact that just the binarized values alone were able to return a pretty solid accuracy statistic. This will likely be one of the worst classifiers, but likely one of the fastest as well. Was worth a try."
   ]
  },
  {
   "cell_type": "markdown",
   "metadata": {
    "Collapsed": "false"
   },
   "source": [
    "# 4. Decision Tree"
   ]
  },
  {
   "cell_type": "markdown",
   "metadata": {},
   "source": [
    "**Quick Description:** A simple and very descriptive model. Basically this model splits determination into the biggest decision at each \"branch\" of a tree. Based off that, it then determines the class (based off the number of classes down each branch in the case of classification)."
   ]
  },
  {
   "cell_type": "markdown",
   "metadata": {},
   "source": [
    "## Data Selection"
   ]
  },
  {
   "cell_type": "markdown",
   "metadata": {},
   "source": [
    "This one should be relatively similar regardless of what is thrown at it. Let's test that theory."
   ]
  },
  {
   "cell_type": "code",
   "execution_count": 29,
   "metadata": {
    "Collapsed": "false"
   },
   "outputs": [],
   "source": [
    "dt_clf = DecisionTreeClassifier()"
   ]
  },
  {
   "cell_type": "code",
   "execution_count": 30,
   "metadata": {},
   "outputs": [
    {
     "name": "stdout",
     "output_type": "stream",
     "text": [
      "-------------------------------------\n",
      "DecisionTreeClassifier Data Selection\n",
      "-------------------------------------\n",
      "Original Data (X_train)\n",
      "Scores: [0.75763359 0.73950382 0.73187023 0.73161414 0.73925501]\n",
      "Mean:   0.7399753567080061\n",
      "---------------------------\n",
      "Standardized Data (s_train)\n",
      "Scores: [0.75954198 0.73950382 0.72041985 0.7382999  0.72110793]\n",
      "Mean:   0.735774696151126\n",
      "------------------------\n",
      "MinMaxed Data (mm_train)\n",
      "Scores: [0.75572519 0.73473282 0.73473282 0.73161414 0.72397326]\n",
      "Mean:   0.7361556464489599\n",
      "-------------------------------------\n"
     ]
    }
   ],
   "source": [
    "ck_cvs(dt_clf)"
   ]
  },
  {
   "cell_type": "markdown",
   "metadata": {},
   "source": [
    "**The Verdict:** Depending on the run, any one of these can be the best, we'll stick with standardized here."
   ]
  },
  {
   "cell_type": "code",
   "execution_count": 31,
   "metadata": {},
   "outputs": [],
   "source": [
    "scalers['decision tree'] = 'standardized'"
   ]
  },
  {
   "cell_type": "markdown",
   "metadata": {
    "Collapsed": "false"
   },
   "source": [
    "## Parameter Tuning"
   ]
  },
  {
   "cell_type": "markdown",
   "metadata": {},
   "source": [
    "Pretty basic tuning here as well. How deep should the tree go? And what criteria do we use, Gini Impurity or Entropy?"
   ]
  },
  {
   "cell_type": "code",
   "execution_count": 32,
   "metadata": {
    "Collapsed": "false"
   },
   "outputs": [],
   "source": [
    "dt_params = {'max_depth': np.arange(1, 16, 1), \n",
    "             'criterion': ('gini', 'entropy')}"
   ]
  },
  {
   "cell_type": "code",
   "execution_count": 33,
   "metadata": {
    "Collapsed": "false"
   },
   "outputs": [],
   "source": [
    "grid_dt = GridSearchCV(dt_clf, dt_params, n_jobs=-1, verbose=5)"
   ]
  },
  {
   "cell_type": "code",
   "execution_count": 34,
   "metadata": {
    "Collapsed": "false"
   },
   "outputs": [
    {
     "name": "stdout",
     "output_type": "stream",
     "text": [
      "Fitting 5 folds for each of 30 candidates, totalling 150 fits\n"
     ]
    },
    {
     "name": "stderr",
     "output_type": "stream",
     "text": [
      "[Parallel(n_jobs=-1)]: Using backend LokyBackend with 4 concurrent workers.\n",
      "[Parallel(n_jobs=-1)]: Done  12 tasks      | elapsed:    0.4s\n",
      "[Parallel(n_jobs=-1)]: Done 120 tasks      | elapsed:    4.9s\n",
      "[Parallel(n_jobs=-1)]: Done 143 out of 150 | elapsed:    6.4s remaining:    0.2s\n"
     ]
    },
    {
     "name": "stdout",
     "output_type": "stream",
     "text": [
      "DecisionTreeClassifier(ccp_alpha=0.0, class_weight=None, criterion='entropy',\n",
      "                       max_depth=4, max_features=None, max_leaf_nodes=None,\n",
      "                       min_impurity_decrease=0.0, min_impurity_split=None,\n",
      "                       min_samples_leaf=1, min_samples_split=2,\n",
      "                       min_weight_fraction_leaf=0.0, presort='deprecated',\n",
      "                       random_state=None, splitter='best')\n",
      "Training: 0.8151977296091341\n",
      "Testing: 0.7903780068728522\n",
      "Grid Time: 7.174255609512329s\n"
     ]
    },
    {
     "name": "stderr",
     "output_type": "stream",
     "text": [
      "[Parallel(n_jobs=-1)]: Done 150 out of 150 | elapsed:    6.9s finished\n"
     ]
    }
   ],
   "source": [
    "best_dt = grid_fit_est_test(grid_dt, s_train, s_test)\n",
    "best_estimators.append(best_dt)"
   ]
  },
  {
   "cell_type": "markdown",
   "metadata": {},
   "source": [
    "That also performed relatively well. It looks like a lower max depth worked better when it came to accuracy and the gini criteria worked better."
   ]
  },
  {
   "cell_type": "markdown",
   "metadata": {},
   "source": [
    "## Decision Tree Thoughts"
   ]
  },
  {
   "cell_type": "markdown",
   "metadata": {},
   "source": [
    "Turns out that this method works surprisingly well. Having one of the better testing/validation scores so far. Also executes very quickly."
   ]
  },
  {
   "cell_type": "markdown",
   "metadata": {
    "Collapsed": "false"
   },
   "source": [
    "# 5. Random Forest"
   ]
  },
  {
   "cell_type": "markdown",
   "metadata": {},
   "source": [
    "**Quick Description:** What if a bunch of decision trees are thrown together and you take the average of them all? Well, then you have a forest. A wonderful ensemble method which bags a bunch of randomly generated trees together. This takes the potential for overfitting from Decision Trees and minimizes it."
   ]
  },
  {
   "cell_type": "markdown",
   "metadata": {},
   "source": [
    "## Data Selection"
   ]
  },
  {
   "cell_type": "markdown",
   "metadata": {},
   "source": [
    "Similar to decision trees this could probably go any way, I'm thinking standardized is probably going to do best here based on the decision trees above."
   ]
  },
  {
   "cell_type": "code",
   "execution_count": 35,
   "metadata": {
    "Collapsed": "false"
   },
   "outputs": [],
   "source": [
    "rf_clf = RandomForestClassifier(n_jobs=-1)"
   ]
  },
  {
   "cell_type": "code",
   "execution_count": 36,
   "metadata": {},
   "outputs": [
    {
     "name": "stdout",
     "output_type": "stream",
     "text": [
      "-------------------------------------\n",
      "RandomForestClassifier Data Selection\n",
      "-------------------------------------\n",
      "Original Data (X_train)\n",
      "Scores: [0.83587786 0.80152672 0.78912214 0.80802292 0.81279847]\n",
      "Mean:   0.809469622403523\n",
      "---------------------------\n",
      "Standardized Data (s_train)\n",
      "Scores: [0.82919847 0.79198473 0.80343511 0.80802292 0.8156638 ]\n",
      "Mean:   0.8096610089167889\n",
      "------------------------\n",
      "MinMaxed Data (mm_train)\n",
      "Scores: [0.82633588 0.79961832 0.80534351 0.80897803 0.81088825]\n",
      "Mean:   0.8102327989092792\n",
      "-------------------------------------\n"
     ]
    }
   ],
   "source": [
    "ck_cvs(rf_clf)"
   ]
  },
  {
   "cell_type": "markdown",
   "metadata": {},
   "source": [
    "Looks like that is indeed the case."
   ]
  },
  {
   "cell_type": "markdown",
   "metadata": {},
   "source": [
    "**The Verdict:** Depending on how the forest randomizes, this could be any one of the above, we'll stick with standardized here as well."
   ]
  },
  {
   "cell_type": "code",
   "execution_count": 37,
   "metadata": {},
   "outputs": [],
   "source": [
    "scalers['random forest'] = 'standardized'"
   ]
  },
  {
   "cell_type": "markdown",
   "metadata": {
    "Collapsed": "false"
   },
   "source": [
    "## Parameter Tuning"
   ]
  },
  {
   "cell_type": "markdown",
   "metadata": {},
   "source": [
    "Similar to decision trees above we need to determine the criteria for the trees (gini or entropy) as well as the max depth. But, new in this method is the number of estimators, which basically equates to the number of trees in the forest."
   ]
  },
  {
   "cell_type": "code",
   "execution_count": 38,
   "metadata": {
    "Collapsed": "false"
   },
   "outputs": [],
   "source": [
    "rf_params = {'criterion': ('gini', 'entropy'),\n",
    "             'max_depth': np.arange(1, 16, 1),\n",
    "             'n_estimators': np.arange(10, 101, 10)}"
   ]
  },
  {
   "cell_type": "code",
   "execution_count": 39,
   "metadata": {
    "Collapsed": "false"
   },
   "outputs": [],
   "source": [
    "grid_rf = GridSearchCV(rf_clf, rf_params, n_jobs=-1, verbose=5)"
   ]
  },
  {
   "cell_type": "code",
   "execution_count": 40,
   "metadata": {
    "Collapsed": "false"
   },
   "outputs": [
    {
     "name": "stdout",
     "output_type": "stream",
     "text": [
      "Fitting 5 folds for each of 300 candidates, totalling 1500 fits\n"
     ]
    },
    {
     "name": "stderr",
     "output_type": "stream",
     "text": [
      "[Parallel(n_jobs=-1)]: Using backend LokyBackend with 4 concurrent workers.\n",
      "[Parallel(n_jobs=-1)]: Done  10 tasks      | elapsed:    1.1s\n",
      "[Parallel(n_jobs=-1)]: Done  64 tasks      | elapsed:   10.4s\n",
      "[Parallel(n_jobs=-1)]: Done 154 tasks      | elapsed:   29.0s\n",
      "[Parallel(n_jobs=-1)]: Done 280 tasks      | elapsed:  1.0min\n",
      "[Parallel(n_jobs=-1)]: Done 442 tasks      | elapsed:  2.0min\n",
      "[Parallel(n_jobs=-1)]: Done 640 tasks      | elapsed:  3.3min\n",
      "[Parallel(n_jobs=-1)]: Done 874 tasks      | elapsed:  4.5min\n",
      "[Parallel(n_jobs=-1)]: Done 1144 tasks      | elapsed:  6.2min\n",
      "[Parallel(n_jobs=-1)]: Done 1450 tasks      | elapsed:  9.2min\n",
      "[Parallel(n_jobs=-1)]: Done 1500 out of 1500 | elapsed:  9.7min finished\n"
     ]
    },
    {
     "name": "stdout",
     "output_type": "stream",
     "text": [
      "RandomForestClassifier(bootstrap=True, ccp_alpha=0.0, class_weight=None,\n",
      "                       criterion='gini', max_depth=9, max_features='auto',\n",
      "                       max_leaf_nodes=None, max_samples=None,\n",
      "                       min_impurity_decrease=0.0, min_impurity_split=None,\n",
      "                       min_samples_leaf=1, min_samples_split=2,\n",
      "                       min_weight_fraction_leaf=0.0, n_estimators=90, n_jobs=-1,\n",
      "                       oob_score=False, random_state=None, verbose=0,\n",
      "                       warm_start=False)\n",
      "Training: 0.8157709777845825\n",
      "Testing: 0.7972508591065293\n",
      "Grid Time: 582.3898477554321s\n"
     ]
    }
   ],
   "source": [
    "best_rf = grid_fit_est_test(grid_rf, s_train, s_test)\n",
    "best_estimators.append(best_rf)"
   ]
  },
  {
   "cell_type": "markdown",
   "metadata": {},
   "source": [
    "## Thoughts on Random Forest\n",
    "This model turned out to be a little underwhelming."
   ]
  },
  {
   "cell_type": "markdown",
   "metadata": {
    "Collapsed": "false"
   },
   "source": [
    "# 6. Support Vector Machines"
   ]
  },
  {
   "cell_type": "markdown",
   "metadata": {},
   "source": [
    "**Quick Description:** Support Vector Machines are essentially a way to create a boundry line for you classes in the feature dimensional space. It does this by maximizing the distance between the closest members of the classes, and putting that boundry there. Depending on the kernel, there are a lot of ways to do this. It can be a very computationally expensive model."
   ]
  },
  {
   "cell_type": "markdown",
   "metadata": {},
   "source": [
    "## Data Selection"
   ]
  },
  {
   "cell_type": "markdown",
   "metadata": {},
   "source": [
    "Pretty much without a doubt, speed is a big factor when it comes to support vector machines, so anything we can do to make it faster is better and scaled data is likely the answer."
   ]
  },
  {
   "cell_type": "code",
   "execution_count": 41,
   "metadata": {
    "Collapsed": "false"
   },
   "outputs": [],
   "source": [
    "sv_clf = SVC()"
   ]
  },
  {
   "cell_type": "code",
   "execution_count": 42,
   "metadata": {},
   "outputs": [
    {
     "name": "stdout",
     "output_type": "stream",
     "text": [
      "------------------\n",
      "SVC Data Selection\n",
      "------------------\n",
      "Original Data (X_train)\n",
      "Scores: [0.6851145  0.67461832 0.67461832 0.68194842 0.66093601]\n",
      "Mean:   0.6754471153495629\n",
      "---------------------------\n",
      "Standardized Data (s_train)\n",
      "Scores: [0.8129771  0.79103053 0.79293893 0.7965616  0.80420248]\n",
      "Mean:   0.7995421305511202\n",
      "------------------------\n",
      "MinMaxed Data (mm_train)\n",
      "Scores: [0.81679389 0.80248092 0.8129771  0.81088825 0.81757402]\n",
      "Mean:   0.8121428363116721\n",
      "---------------------------\n"
     ]
    }
   ],
   "source": [
    "ck_cvs(sv_clf)"
   ]
  },
  {
   "cell_type": "markdown",
   "metadata": {},
   "source": [
    "**The Verdict:** It appears that scaled data is the answer, in this case the MinMaxed data has the greatest performance."
   ]
  },
  {
   "cell_type": "code",
   "execution_count": 43,
   "metadata": {},
   "outputs": [],
   "source": [
    "scalers['svm'] = 'minmaxed'"
   ]
  },
  {
   "cell_type": "markdown",
   "metadata": {
    "Collapsed": "false"
   },
   "source": [
    "## Parameter Tuning"
   ]
  },
  {
   "cell_type": "markdown",
   "metadata": {},
   "source": [
    "Biggest question here is, which kernel? And also, how much regularization?"
   ]
  },
  {
   "cell_type": "code",
   "execution_count": 44,
   "metadata": {
    "Collapsed": "false"
   },
   "outputs": [],
   "source": [
    "sv_params = {'kernel': ('linear', 'rbf', 'sigmoid'),\n",
    "             'C': np.arange(.0000000001, 5.1, .1)}"
   ]
  },
  {
   "cell_type": "code",
   "execution_count": 45,
   "metadata": {
    "Collapsed": "false"
   },
   "outputs": [],
   "source": [
    "grid_sv = GridSearchCV(sv_clf, sv_params, n_jobs=-1, verbose=5)"
   ]
  },
  {
   "cell_type": "code",
   "execution_count": 46,
   "metadata": {},
   "outputs": [
    {
     "name": "stdout",
     "output_type": "stream",
     "text": [
      "Fitting 5 folds for each of 153 candidates, totalling 765 fits\n"
     ]
    },
    {
     "name": "stderr",
     "output_type": "stream",
     "text": [
      "[Parallel(n_jobs=-1)]: Using backend LokyBackend with 4 concurrent workers.\n",
      "[Parallel(n_jobs=-1)]: Done  10 tasks      | elapsed:   16.9s\n",
      "[Parallel(n_jobs=-1)]: Done  64 tasks      | elapsed:  1.1min\n",
      "[Parallel(n_jobs=-1)]: Done 154 tasks      | elapsed:  2.5min\n",
      "[Parallel(n_jobs=-1)]: Done 280 tasks      | elapsed:  4.4min\n",
      "[Parallel(n_jobs=-1)]: Done 442 tasks      | elapsed:  6.8min\n",
      "[Parallel(n_jobs=-1)]: Done 640 tasks      | elapsed:  9.8min\n",
      "[Parallel(n_jobs=-1)]: Done 765 out of 765 | elapsed: 11.8min finished\n"
     ]
    },
    {
     "name": "stdout",
     "output_type": "stream",
     "text": [
      "SVC(C=5.0000000001, break_ties=False, cache_size=200, class_weight=None,\n",
      "    coef0=0.0, decision_function_shape='ovr', degree=3, gamma='scale',\n",
      "    kernel='linear', max_iter=-1, probability=False, random_state=None,\n",
      "    shrinking=True, tol=0.001, verbose=False)\n",
      "Training: 0.820352224093557\n",
      "Testing: 0.802405498281787\n",
      "Grid Time: 708.0357682704926s\n"
     ]
    }
   ],
   "source": [
    "best_sv = grid_fit_est_test(grid_sv, mm_train, mm_test)\n",
    "best_estimators.append(best_sv)"
   ]
  },
  {
   "cell_type": "markdown",
   "metadata": {},
   "source": [
    "Looks like the best kernel was linear (which is really like logistic regression)."
   ]
  },
  {
   "cell_type": "markdown",
   "metadata": {},
   "source": [
    "## SVM Thoughts\n",
    "Definitely looking like the data can be modeled linearly. GridSearch found that the linear kernel is the best one and all that really means is that SVM was much more trouble and time than it was actually worth in this case."
   ]
  },
  {
   "cell_type": "markdown",
   "metadata": {
    "Collapsed": "false"
   },
   "source": [
    "# 7. Gradient Tree Boosting"
   ]
  },
  {
   "cell_type": "markdown",
   "metadata": {},
   "source": [
    "**Quick Description:** Gradient Tree Boosting is making a decision tree, seeing how it could do better (based on where it's not good at predictions), then make another decision tree with its new knowledge, it keeps doing this over and over until a set limit is hit. Then it has a big family of trees to pull predictions from."
   ]
  },
  {
   "cell_type": "markdown",
   "metadata": {},
   "source": [
    "## Data Selection"
   ]
  },
  {
   "cell_type": "code",
   "execution_count": 47,
   "metadata": {
    "Collapsed": "false"
   },
   "outputs": [],
   "source": [
    "gb_clf = GradientBoostingClassifier()"
   ]
  },
  {
   "cell_type": "code",
   "execution_count": 48,
   "metadata": {
    "Collapsed": "false"
   },
   "outputs": [
    {
     "name": "stdout",
     "output_type": "stream",
     "text": [
      "-----------------------------------------\n",
      "GradientBoostingClassifier Data Selection\n",
      "-----------------------------------------\n",
      "Original Data (X_train)\n",
      "Scores: [0.82729008 0.80343511 0.8129771  0.82425979 0.81470869]\n",
      "Mean:   0.8165341542903388\n",
      "---------------------------\n",
      "Standardized Data (s_train)\n",
      "Scores: [0.82729008 0.80343511 0.8129771  0.82234957 0.81470869]\n",
      "Mean:   0.8161521103552862\n",
      "------------------------\n",
      "MinMaxed Data (mm_train)\n",
      "Scores: [0.82729008 0.80343511 0.8129771  0.82330468 0.81470869]\n",
      "Mean:   0.8163431323228124\n",
      "-----------------------------------------\n"
     ]
    }
   ],
   "source": [
    "ck_cvs(gb_clf)"
   ]
  },
  {
   "cell_type": "markdown",
   "metadata": {},
   "source": [
    "**The Verdict:** All of these score almost exactly the same. MinMaxed data does a little better here so we'll stick to that."
   ]
  },
  {
   "cell_type": "code",
   "execution_count": 49,
   "metadata": {},
   "outputs": [],
   "source": [
    "scalers['grad_boost'] = 'minmaxed'"
   ]
  },
  {
   "cell_type": "markdown",
   "metadata": {
    "Collapsed": "false"
   },
   "source": [
    "## Tuning Parameters"
   ]
  },
  {
   "cell_type": "markdown",
   "metadata": {},
   "source": [
    "With gradient boosting the biggest parameters in question are the loss function to be optimized - deviance (logarithmic) or exponential (from AdaBoost); the number of estimators (similar to random forest); and the max depth of the trees."
   ]
  },
  {
   "cell_type": "code",
   "execution_count": 50,
   "metadata": {
    "Collapsed": "false"
   },
   "outputs": [],
   "source": [
    "gb_params = {'loss': ('deviance', 'exponential'),\n",
    "             'n_estimators': np.arange(50, 501, 50),\n",
    "             'max_depth': np.arange(1, 6, 1)}"
   ]
  },
  {
   "cell_type": "code",
   "execution_count": 51,
   "metadata": {
    "Collapsed": "false"
   },
   "outputs": [],
   "source": [
    "grid_gb = GridSearchCV(gb_clf, gb_params, n_jobs=-1, verbose=5)"
   ]
  },
  {
   "cell_type": "code",
   "execution_count": 52,
   "metadata": {},
   "outputs": [
    {
     "name": "stdout",
     "output_type": "stream",
     "text": [
      "Fitting 5 folds for each of 100 candidates, totalling 500 fits\n"
     ]
    },
    {
     "name": "stderr",
     "output_type": "stream",
     "text": [
      "[Parallel(n_jobs=-1)]: Using backend LokyBackend with 4 concurrent workers.\n",
      "[Parallel(n_jobs=-1)]: Done  10 tasks      | elapsed:    4.8s\n",
      "[Parallel(n_jobs=-1)]: Done  64 tasks      | elapsed:  1.3min\n",
      "[Parallel(n_jobs=-1)]: Done 154 tasks      | elapsed:  6.4min\n",
      "[Parallel(n_jobs=-1)]: Done 280 tasks      | elapsed: 16.2min\n",
      "[Parallel(n_jobs=-1)]: Done 442 tasks      | elapsed: 25.4min\n",
      "[Parallel(n_jobs=-1)]: Done 500 out of 500 | elapsed: 31.8min finished\n"
     ]
    },
    {
     "name": "stdout",
     "output_type": "stream",
     "text": [
      "GradientBoostingClassifier(ccp_alpha=0.0, criterion='friedman_mse', init=None,\n",
      "                           learning_rate=0.1, loss='deviance', max_depth=2,\n",
      "                           max_features=None, max_leaf_nodes=None,\n",
      "                           min_impurity_decrease=0.0, min_impurity_split=None,\n",
      "                           min_samples_leaf=1, min_samples_split=2,\n",
      "                           min_weight_fraction_leaf=0.0, n_estimators=100,\n",
      "                           n_iter_no_change=None, presort='deprecated',\n",
      "                           random_state=None, subsample=1.0, tol=0.0001,\n",
      "                           validation_fraction=0.1, verbose=0,\n",
      "                           warm_start=False)\n",
      "Training: 0.8199707269771139\n",
      "Testing: 0.788659793814433\n",
      "Grid Time: 1912.3295142650604s\n"
     ]
    }
   ],
   "source": [
    "best_gb = grid_fit_est_test(grid_gb, mm_train, mm_test)\n",
    "best_estimators.append(best_gb)"
   ]
  },
  {
   "cell_type": "markdown",
   "metadata": {},
   "source": [
    "## Gradient Tree Boosting Thoughts\n",
    "Decent accuracy but extremely slow!"
   ]
  },
  {
   "cell_type": "markdown",
   "metadata": {
    "Collapsed": "false"
   },
   "source": [
    "# 8. eXtreme Gradient Boosting"
   ]
  },
  {
   "cell_type": "markdown",
   "metadata": {},
   "source": [
    "**Quick Description:** This is essentially an optimized (and much faster version) of gradient trees boosting. Essentially doing everything that gradient trees boosting does, but at a much faster clip."
   ]
  },
  {
   "cell_type": "markdown",
   "metadata": {},
   "source": [
    "## Data Selection"
   ]
  },
  {
   "cell_type": "code",
   "execution_count": 53,
   "metadata": {
    "Collapsed": "false"
   },
   "outputs": [],
   "source": [
    "xgb_clf = XGBClassifier(n_jobs=-1)"
   ]
  },
  {
   "cell_type": "code",
   "execution_count": 54,
   "metadata": {
    "Collapsed": "false"
   },
   "outputs": [
    {
     "name": "stdout",
     "output_type": "stream",
     "text": [
      "----------------------------\n",
      "XGBClassifier Data Selection\n",
      "----------------------------\n",
      "Original Data (X_train)\n",
      "Scores: [0.83301527 0.79961832 0.80725191 0.81375358 0.81757402]\n",
      "Mean:   0.8142426197715027\n",
      "---------------------------\n",
      "Standardized Data (s_train)\n",
      "Scores: [0.83015267 0.79961832 0.80916031 0.81375358 0.82043935]\n",
      "Mean:   0.8146248459794251\n",
      "------------------------\n",
      "MinMaxed Data (mm_train)\n",
      "Scores: [0.83015267 0.79961832 0.80916031 0.81375358 0.82043935]\n",
      "Mean:   0.8146248459794251\n",
      "----------------------------\n"
     ]
    }
   ],
   "source": [
    "ck_cvs(xgb_clf)"
   ]
  },
  {
   "cell_type": "markdown",
   "metadata": {},
   "source": [
    "**The Verdict:** Doesn't look like XGBoost cares what data you use. We'll just stick to standardized data in this case."
   ]
  },
  {
   "cell_type": "code",
   "execution_count": 55,
   "metadata": {},
   "outputs": [],
   "source": [
    "scalers['xgboost'] = 'standardized'"
   ]
  },
  {
   "cell_type": "markdown",
   "metadata": {
    "Collapsed": "false"
   },
   "source": [
    "## Parameter Tuning"
   ]
  },
  {
   "cell_type": "markdown",
   "metadata": {},
   "source": [
    "XGBoost is so good that it basically does all this for you. Yes, there are things you can change manually. But many times, it will arrive on a good solution on its own. In this case, we'll look at a number of different learning rates and see how XGBoost performs differently."
   ]
  },
  {
   "cell_type": "code",
   "execution_count": 56,
   "metadata": {
    "Collapsed": "false"
   },
   "outputs": [],
   "source": [
    "xgb_params = {'learning_rate': np.arange(.01, .21, .01)}"
   ]
  },
  {
   "cell_type": "code",
   "execution_count": 57,
   "metadata": {
    "Collapsed": "false"
   },
   "outputs": [],
   "source": [
    "grid_xgb = GridSearchCV(xgb_clf, xgb_params, n_jobs=-1, verbose=5)"
   ]
  },
  {
   "cell_type": "code",
   "execution_count": 58,
   "metadata": {},
   "outputs": [
    {
     "name": "stdout",
     "output_type": "stream",
     "text": [
      "Fitting 5 folds for each of 20 candidates, totalling 100 fits\n"
     ]
    },
    {
     "name": "stderr",
     "output_type": "stream",
     "text": [
      "[Parallel(n_jobs=-1)]: Using backend LokyBackend with 4 concurrent workers.\n",
      "[Parallel(n_jobs=-1)]: Done  10 tasks      | elapsed:    4.0s\n",
      "[Parallel(n_jobs=-1)]: Done  64 tasks      | elapsed:   21.9s\n",
      "[Parallel(n_jobs=-1)]: Done 100 out of 100 | elapsed:   34.5s finished\n"
     ]
    },
    {
     "name": "stdout",
     "output_type": "stream",
     "text": [
      "XGBClassifier(base_score=0.5, booster='gbtree', colsample_bylevel=1,\n",
      "              colsample_bynode=1, colsample_bytree=1, gamma=0,\n",
      "              learning_rate=0.05, max_delta_step=0, max_depth=3,\n",
      "              min_child_weight=1, missing=None, n_estimators=100, n_jobs=-1,\n",
      "              nthread=None, objective='binary:logistic', random_state=0,\n",
      "              reg_alpha=0, reg_lambda=1, scale_pos_weight=1, seed=None,\n",
      "              silent=None, subsample=1, verbosity=1)\n",
      "Training: 0.8180610541204605\n",
      "Testing: 0.7869415807560137\n",
      "Grid Time: 35.193554162979126s\n"
     ]
    }
   ],
   "source": [
    "best_xgb = grid_fit_est_test(grid_xgb, s_train, s_test)\n",
    "best_estimators.append(best_xgb)"
   ]
  },
  {
   "cell_type": "markdown",
   "metadata": {},
   "source": [
    "## eXtreme Gradient Boosting Thoughts\n",
    "Good speed, good accuracy. Solid model."
   ]
  },
  {
   "cell_type": "markdown",
   "metadata": {},
   "source": [
    "# 9. Extremely Randomized Trees (Extra Trees)"
   ]
  },
  {
   "cell_type": "markdown",
   "metadata": {},
   "source": [
    "**Quick Description:** One last foray into the tree ensemble methods! Extremely randomized trees is like the cousin of random forest yelling for random trees to turn the noise down. In the case where noise is a big problem, extra trees can help quiet it. It also is usually a little faster than random forest (since it is extremely random)."
   ]
  },
  {
   "cell_type": "markdown",
   "metadata": {},
   "source": [
    "## Data Selection"
   ]
  },
  {
   "cell_type": "code",
   "execution_count": 59,
   "metadata": {},
   "outputs": [],
   "source": [
    "et_clf = ExtraTreesClassifier(n_jobs=-1)"
   ]
  },
  {
   "cell_type": "code",
   "execution_count": 60,
   "metadata": {},
   "outputs": [
    {
     "name": "stdout",
     "output_type": "stream",
     "text": [
      "-----------------------------------\n",
      "ExtraTreesClassifier Data Selection\n",
      "-----------------------------------\n",
      "Original Data (X_train)\n",
      "Scores: [0.82347328 0.79389313 0.79770992 0.7965616  0.80706781]\n",
      "Mean:   0.8037411506521724\n",
      "---------------------------\n",
      "Standardized Data (s_train)\n",
      "Scores: [0.8129771  0.79293893 0.80534351 0.8061127  0.81088825]\n",
      "Mean:   0.805652099418914\n",
      "------------------------\n",
      "MinMaxed Data (mm_train)\n",
      "Scores: [0.82347328 0.79866412 0.80343511 0.81184336 0.80802292]\n",
      "Mean:   0.8090877607413403\n",
      "-----------------------------------\n"
     ]
    }
   ],
   "source": [
    "ck_cvs(et_clf)"
   ]
  },
  {
   "cell_type": "markdown",
   "metadata": {},
   "source": [
    "**The Verdict:** Similar to other tree methods above, it just depends on the random trees created, these will all perform relatively close to one another regardless, so again standardized data will be used in this case."
   ]
  },
  {
   "cell_type": "code",
   "execution_count": 61,
   "metadata": {},
   "outputs": [],
   "source": [
    "scalers['extra_trees'] = 'standardized'"
   ]
  },
  {
   "cell_type": "markdown",
   "metadata": {},
   "source": [
    "## Tuning Parameters"
   ]
  },
  {
   "cell_type": "markdown",
   "metadata": {},
   "source": [
    "The parameters are very similar to that of random forest, but with the addition of min samples split which indicate the minimum number of samples required to make a new node split."
   ]
  },
  {
   "cell_type": "code",
   "execution_count": 62,
   "metadata": {},
   "outputs": [],
   "source": [
    "et_params = {'n_estimators': np.arange(100, 501, 100),\n",
    "             'criterion': ('gini', 'entropy'),\n",
    "             'min_samples_split': np.arange(1, 6, 1)}"
   ]
  },
  {
   "cell_type": "code",
   "execution_count": 63,
   "metadata": {},
   "outputs": [],
   "source": [
    "grid_et = GridSearchCV(et_clf, et_params, n_jobs=-1, verbose=5)"
   ]
  },
  {
   "cell_type": "code",
   "execution_count": 64,
   "metadata": {},
   "outputs": [
    {
     "name": "stdout",
     "output_type": "stream",
     "text": [
      "Fitting 5 folds for each of 50 candidates, totalling 250 fits\n"
     ]
    },
    {
     "name": "stderr",
     "output_type": "stream",
     "text": [
      "[Parallel(n_jobs=-1)]: Using backend LokyBackend with 4 concurrent workers.\n",
      "[Parallel(n_jobs=-1)]: Done  10 tasks      | elapsed:    1.1s\n",
      "[Parallel(n_jobs=-1)]: Done  64 tasks      | elapsed:   48.9s\n",
      "[Parallel(n_jobs=-1)]: Done 154 tasks      | elapsed:  2.2min\n",
      "[Parallel(n_jobs=-1)]: Done 250 out of 250 | elapsed:  4.4min finished\n"
     ]
    },
    {
     "name": "stdout",
     "output_type": "stream",
     "text": [
      "ExtraTreesClassifier(bootstrap=False, ccp_alpha=0.0, class_weight=None,\n",
      "                     criterion='gini', max_depth=None, max_features='auto',\n",
      "                     max_leaf_nodes=None, max_samples=None,\n",
      "                     min_impurity_decrease=0.0, min_impurity_split=None,\n",
      "                     min_samples_leaf=1, min_samples_split=5,\n",
      "                     min_weight_fraction_leaf=0.0, n_estimators=300, n_jobs=-1,\n",
      "                     oob_score=False, random_state=None, verbose=0,\n",
      "                     warm_start=False)\n",
      "Training: 0.811569223590484\n",
      "Testing: 0.7938144329896907\n",
      "Grid Time: 267.5878767967224s\n"
     ]
    }
   ],
   "source": [
    "best_et = grid_fit_est_test(grid_et, s_train, s_test)\n",
    "best_estimators.append(best_et)"
   ]
  },
  {
   "cell_type": "markdown",
   "metadata": {},
   "source": [
    "## Extra Trees Thoughts\n",
    "Yet another decent performer, and also relatively quick. Depending on the data this could be superior to random forests, if there's lots of noise in the data. It also performs relatively quickly, but not quite as well as XGBoost."
   ]
  },
  {
   "cell_type": "markdown",
   "metadata": {},
   "source": [
    "# Validation Results"
   ]
  },
  {
   "cell_type": "markdown",
   "metadata": {},
   "source": [
    "Now it's time to take a look and see how all those models stack up to each other based on their testing/validation scores."
   ]
  },
  {
   "cell_type": "markdown",
   "metadata": {},
   "source": [
    "Get the amount of time it takes per candidate by using multiple list comprehensions."
   ]
  },
  {
   "cell_type": "code",
   "execution_count": 65,
   "metadata": {},
   "outputs": [],
   "source": [
    "fit_time = [i[2] for i in best_estimators]\n",
    "no_candidates = [len(i[0].cv_results_['params']) for i in best_estimators]\n",
    "time_per_candidate = [a/b for a, b in zip(fit_time, no_candidates)]"
   ]
  },
  {
   "cell_type": "markdown",
   "metadata": {},
   "source": [
    "Put all the data together."
   ]
  },
  {
   "cell_type": "code",
   "execution_count": 66,
   "metadata": {},
   "outputs": [],
   "source": [
    "clf_names = [str(i[0].best_estimator_).split('(')[0] for i in best_estimators]\n",
    "clf_data = [(round(a[1]*100, 5), round(b, 5)) for a, b in zip(best_estimators, time_per_candidate)]\n",
    "train_scores = [round(i[0].best_score_*100, 5) for i in best_estimators]\n",
    "clf_named_data = [(name, train, i[0], i[1]) for name, i, train in zip(clf_names, clf_data, train_scores)]"
   ]
  },
  {
   "cell_type": "markdown",
   "metadata": {},
   "source": [
    "Put the data into a dataframe for easy viewing."
   ]
  },
  {
   "cell_type": "code",
   "execution_count": 67,
   "metadata": {},
   "outputs": [],
   "source": [
    "clf_stats = pd.DataFrame(clf_named_data, columns=['Classifier', 'Training Accuracy(%)', 'Testing Accuracy(%)', 'Candidate Fit Time (Seconds/Candidate)'])"
   ]
  },
  {
   "cell_type": "markdown",
   "metadata": {},
   "source": [
    "All the grids in their execution order."
   ]
  },
  {
   "cell_type": "code",
   "execution_count": 68,
   "metadata": {},
   "outputs": [
    {
     "data": {
      "text/html": [
       "<div>\n",
       "<style scoped>\n",
       "    .dataframe tbody tr th:only-of-type {\n",
       "        vertical-align: middle;\n",
       "    }\n",
       "\n",
       "    .dataframe tbody tr th {\n",
       "        vertical-align: top;\n",
       "    }\n",
       "\n",
       "    .dataframe thead th {\n",
       "        text-align: right;\n",
       "    }\n",
       "</style>\n",
       "<table border=\"1\" class=\"dataframe\">\n",
       "  <thead>\n",
       "    <tr style=\"text-align: right;\">\n",
       "      <th></th>\n",
       "      <th>Classifier</th>\n",
       "      <th>Training Accuracy(%)</th>\n",
       "      <th>Testing Accuracy(%)</th>\n",
       "      <th>Candidate Fit Time (Seconds/Candidate)</th>\n",
       "    </tr>\n",
       "  </thead>\n",
       "  <tbody>\n",
       "    <tr>\n",
       "      <th>0</th>\n",
       "      <td>LogisticRegression</td>\n",
       "      <td>82.07341</td>\n",
       "      <td>79.89691</td>\n",
       "      <td>0.24030</td>\n",
       "    </tr>\n",
       "    <tr>\n",
       "      <th>1</th>\n",
       "      <td>LogisticRegression</td>\n",
       "      <td>82.18786</td>\n",
       "      <td>80.06873</td>\n",
       "      <td>0.15747</td>\n",
       "    </tr>\n",
       "    <tr>\n",
       "      <th>2</th>\n",
       "      <td>KNeighborsClassifier</td>\n",
       "      <td>78.69403</td>\n",
       "      <td>77.83505</td>\n",
       "      <td>2.93600</td>\n",
       "    </tr>\n",
       "    <tr>\n",
       "      <th>3</th>\n",
       "      <td>MultinomialNB</td>\n",
       "      <td>76.04023</td>\n",
       "      <td>76.11684</td>\n",
       "      <td>0.09656</td>\n",
       "    </tr>\n",
       "    <tr>\n",
       "      <th>4</th>\n",
       "      <td>BernoulliNB</td>\n",
       "      <td>74.62756</td>\n",
       "      <td>74.05498</td>\n",
       "      <td>0.10397</td>\n",
       "    </tr>\n",
       "    <tr>\n",
       "      <th>5</th>\n",
       "      <td>DecisionTreeClassifier</td>\n",
       "      <td>81.51977</td>\n",
       "      <td>79.03780</td>\n",
       "      <td>0.23914</td>\n",
       "    </tr>\n",
       "    <tr>\n",
       "      <th>6</th>\n",
       "      <td>RandomForestClassifier</td>\n",
       "      <td>81.57710</td>\n",
       "      <td>79.72509</td>\n",
       "      <td>1.94130</td>\n",
       "    </tr>\n",
       "    <tr>\n",
       "      <th>7</th>\n",
       "      <td>SVC</td>\n",
       "      <td>82.03522</td>\n",
       "      <td>80.24055</td>\n",
       "      <td>4.62768</td>\n",
       "    </tr>\n",
       "    <tr>\n",
       "      <th>8</th>\n",
       "      <td>GradientBoostingClassifier</td>\n",
       "      <td>81.99707</td>\n",
       "      <td>78.86598</td>\n",
       "      <td>19.12330</td>\n",
       "    </tr>\n",
       "    <tr>\n",
       "      <th>9</th>\n",
       "      <td>XGBClassifier</td>\n",
       "      <td>81.80611</td>\n",
       "      <td>78.69416</td>\n",
       "      <td>1.75968</td>\n",
       "    </tr>\n",
       "    <tr>\n",
       "      <th>10</th>\n",
       "      <td>ExtraTreesClassifier</td>\n",
       "      <td>81.15692</td>\n",
       "      <td>79.38144</td>\n",
       "      <td>5.35176</td>\n",
       "    </tr>\n",
       "  </tbody>\n",
       "</table>\n",
       "</div>"
      ],
      "text/plain": [
       "                    Classifier  Training Accuracy(%)  Testing Accuracy(%)  \\\n",
       "0           LogisticRegression              82.07341             79.89691   \n",
       "1           LogisticRegression              82.18786             80.06873   \n",
       "2         KNeighborsClassifier              78.69403             77.83505   \n",
       "3                MultinomialNB              76.04023             76.11684   \n",
       "4                  BernoulliNB              74.62756             74.05498   \n",
       "5       DecisionTreeClassifier              81.51977             79.03780   \n",
       "6       RandomForestClassifier              81.57710             79.72509   \n",
       "7                          SVC              82.03522             80.24055   \n",
       "8   GradientBoostingClassifier              81.99707             78.86598   \n",
       "9                XGBClassifier              81.80611             78.69416   \n",
       "10        ExtraTreesClassifier              81.15692             79.38144   \n",
       "\n",
       "    Candidate Fit Time (Seconds/Candidate)  \n",
       "0                                  0.24030  \n",
       "1                                  0.15747  \n",
       "2                                  2.93600  \n",
       "3                                  0.09656  \n",
       "4                                  0.10397  \n",
       "5                                  0.23914  \n",
       "6                                  1.94130  \n",
       "7                                  4.62768  \n",
       "8                                 19.12330  \n",
       "9                                  1.75968  \n",
       "10                                 5.35176  "
      ]
     },
     "execution_count": 68,
     "metadata": {},
     "output_type": "execute_result"
    }
   ],
   "source": [
    "clf_stats"
   ]
  },
  {
   "cell_type": "markdown",
   "metadata": {},
   "source": [
    "All grids sorted by testing accuracy."
   ]
  },
  {
   "cell_type": "code",
   "execution_count": 69,
   "metadata": {},
   "outputs": [
    {
     "data": {
      "text/html": [
       "<div>\n",
       "<style scoped>\n",
       "    .dataframe tbody tr th:only-of-type {\n",
       "        vertical-align: middle;\n",
       "    }\n",
       "\n",
       "    .dataframe tbody tr th {\n",
       "        vertical-align: top;\n",
       "    }\n",
       "\n",
       "    .dataframe thead th {\n",
       "        text-align: right;\n",
       "    }\n",
       "</style>\n",
       "<table border=\"1\" class=\"dataframe\">\n",
       "  <thead>\n",
       "    <tr style=\"text-align: right;\">\n",
       "      <th></th>\n",
       "      <th>Classifier</th>\n",
       "      <th>Training Accuracy(%)</th>\n",
       "      <th>Testing Accuracy(%)</th>\n",
       "      <th>Candidate Fit Time (Seconds/Candidate)</th>\n",
       "    </tr>\n",
       "  </thead>\n",
       "  <tbody>\n",
       "    <tr>\n",
       "      <th>7</th>\n",
       "      <td>SVC</td>\n",
       "      <td>82.03522</td>\n",
       "      <td>80.24055</td>\n",
       "      <td>4.62768</td>\n",
       "    </tr>\n",
       "    <tr>\n",
       "      <th>1</th>\n",
       "      <td>LogisticRegression</td>\n",
       "      <td>82.18786</td>\n",
       "      <td>80.06873</td>\n",
       "      <td>0.15747</td>\n",
       "    </tr>\n",
       "    <tr>\n",
       "      <th>0</th>\n",
       "      <td>LogisticRegression</td>\n",
       "      <td>82.07341</td>\n",
       "      <td>79.89691</td>\n",
       "      <td>0.24030</td>\n",
       "    </tr>\n",
       "    <tr>\n",
       "      <th>6</th>\n",
       "      <td>RandomForestClassifier</td>\n",
       "      <td>81.57710</td>\n",
       "      <td>79.72509</td>\n",
       "      <td>1.94130</td>\n",
       "    </tr>\n",
       "    <tr>\n",
       "      <th>10</th>\n",
       "      <td>ExtraTreesClassifier</td>\n",
       "      <td>81.15692</td>\n",
       "      <td>79.38144</td>\n",
       "      <td>5.35176</td>\n",
       "    </tr>\n",
       "    <tr>\n",
       "      <th>5</th>\n",
       "      <td>DecisionTreeClassifier</td>\n",
       "      <td>81.51977</td>\n",
       "      <td>79.03780</td>\n",
       "      <td>0.23914</td>\n",
       "    </tr>\n",
       "    <tr>\n",
       "      <th>8</th>\n",
       "      <td>GradientBoostingClassifier</td>\n",
       "      <td>81.99707</td>\n",
       "      <td>78.86598</td>\n",
       "      <td>19.12330</td>\n",
       "    </tr>\n",
       "    <tr>\n",
       "      <th>9</th>\n",
       "      <td>XGBClassifier</td>\n",
       "      <td>81.80611</td>\n",
       "      <td>78.69416</td>\n",
       "      <td>1.75968</td>\n",
       "    </tr>\n",
       "    <tr>\n",
       "      <th>2</th>\n",
       "      <td>KNeighborsClassifier</td>\n",
       "      <td>78.69403</td>\n",
       "      <td>77.83505</td>\n",
       "      <td>2.93600</td>\n",
       "    </tr>\n",
       "    <tr>\n",
       "      <th>3</th>\n",
       "      <td>MultinomialNB</td>\n",
       "      <td>76.04023</td>\n",
       "      <td>76.11684</td>\n",
       "      <td>0.09656</td>\n",
       "    </tr>\n",
       "    <tr>\n",
       "      <th>4</th>\n",
       "      <td>BernoulliNB</td>\n",
       "      <td>74.62756</td>\n",
       "      <td>74.05498</td>\n",
       "      <td>0.10397</td>\n",
       "    </tr>\n",
       "  </tbody>\n",
       "</table>\n",
       "</div>"
      ],
      "text/plain": [
       "                    Classifier  Training Accuracy(%)  Testing Accuracy(%)  \\\n",
       "7                          SVC              82.03522             80.24055   \n",
       "1           LogisticRegression              82.18786             80.06873   \n",
       "0           LogisticRegression              82.07341             79.89691   \n",
       "6       RandomForestClassifier              81.57710             79.72509   \n",
       "10        ExtraTreesClassifier              81.15692             79.38144   \n",
       "5       DecisionTreeClassifier              81.51977             79.03780   \n",
       "8   GradientBoostingClassifier              81.99707             78.86598   \n",
       "9                XGBClassifier              81.80611             78.69416   \n",
       "2         KNeighborsClassifier              78.69403             77.83505   \n",
       "3                MultinomialNB              76.04023             76.11684   \n",
       "4                  BernoulliNB              74.62756             74.05498   \n",
       "\n",
       "    Candidate Fit Time (Seconds/Candidate)  \n",
       "7                                  4.62768  \n",
       "1                                  0.15747  \n",
       "0                                  0.24030  \n",
       "6                                  1.94130  \n",
       "10                                 5.35176  \n",
       "5                                  0.23914  \n",
       "8                                 19.12330  \n",
       "9                                  1.75968  \n",
       "2                                  2.93600  \n",
       "3                                  0.09656  \n",
       "4                                  0.10397  "
      ]
     },
     "execution_count": 69,
     "metadata": {},
     "output_type": "execute_result"
    }
   ],
   "source": [
    "clf_stats.sort_values('Testing Accuracy(%)', ascending=False)"
   ]
  },
  {
   "cell_type": "markdown",
   "metadata": {},
   "source": [
    "# Holdout Testing"
   ]
  },
  {
   "cell_type": "markdown",
   "metadata": {},
   "source": [
    "First, scale appropriate data and use entire X as training data (does not include X_holdout)."
   ]
  },
  {
   "cell_type": "code",
   "execution_count": 70,
   "metadata": {
    "Collapsed": "false"
   },
   "outputs": [],
   "source": [
    "s_X = pd.DataFrame(sscaler.fit_transform(X.iloc[:, 1:]), columns=X.columns[1:], index=X.index).join(X.iloc[:, 0]).copy()\n",
    "s_X_holdout = pd.DataFrame(sscaler.transform(X_holdout.iloc[:, 1:]), columns=X_holdout.columns[1:], index=X_holdout.index).join(X_holdout.iloc[:, 0]).copy()"
   ]
  },
  {
   "cell_type": "code",
   "execution_count": 71,
   "metadata": {
    "Collapsed": "false"
   },
   "outputs": [],
   "source": [
    "mm_X = pd.DataFrame(mmscaler.fit_transform(X.iloc[:, 1:]), columns=X.columns[1:], index=X.index).join(X.iloc[:, 0]).copy()\n",
    "mm_X_holdout = pd.DataFrame(mmscaler.transform(X_holdout.iloc[:, 1:]), columns=X_holdout.columns[1:], index=X_holdout.index).join(X_holdout.iloc[:, 0]).copy()"
   ]
  },
  {
   "cell_type": "markdown",
   "metadata": {},
   "source": [
    "There are now multiple train/test datasets, where each model performs best with certain scaled/non-scaled data. In order to test the best models from above, first we need to retrain each model using the appropriate training data, then check how the model performs on the holdout data. The dataset train/test pairs are now as follows:\n",
    "1. Original: `X`/`y` and `X_holdout`/`y_holdout`\n",
    "2. Standardized: `s_X`/`y` and `s_X_holdout`/`y_holdout`\n",
    "3. MinMaxed: `mm_X`/`y` and `mm_X_holdout`/`y_holdout`"
   ]
  },
  {
   "cell_type": "markdown",
   "metadata": {},
   "source": [
    "Get all the best estimators in full using list comprehension."
   ]
  },
  {
   "cell_type": "code",
   "execution_count": 72,
   "metadata": {},
   "outputs": [],
   "source": [
    "only_est = [i[0].best_estimator_ for i in best_estimators]"
   ]
  },
  {
   "cell_type": "markdown",
   "metadata": {},
   "source": [
    "Make empty list for holdout scores."
   ]
  },
  {
   "cell_type": "code",
   "execution_count": 73,
   "metadata": {},
   "outputs": [],
   "source": [
    "holdout_scores = []"
   ]
  },
  {
   "cell_type": "markdown",
   "metadata": {},
   "source": [
    "Create function to easily fit and score a model while storing the result in holdout_scores."
   ]
  },
  {
   "cell_type": "code",
   "execution_count": 74,
   "metadata": {},
   "outputs": [],
   "source": [
    "def holdout_test_append(model, train_X, holdout_X):\n",
    "    model.fit(train_X, y)\n",
    "    holdout_score = model.score(holdout_X, y_holdout)\n",
    "    holdout_scores.append((model, holdout_score))"
   ]
  },
  {
   "cell_type": "markdown",
   "metadata": {},
   "source": [
    "## Retrain and holdout testing"
   ]
  },
  {
   "cell_type": "markdown",
   "metadata": {},
   "source": [
    "Find the appropriate data types."
   ]
  },
  {
   "cell_type": "code",
   "execution_count": 75,
   "metadata": {},
   "outputs": [
    {
     "data": {
      "text/plain": [
       "{'logistic': 'standardized',\n",
       " 'knn': 'minmaxed',\n",
       " 'multi_nb': 'minmaxed',\n",
       " 'bern_nb': 'base',\n",
       " 'decision tree': 'standardized',\n",
       " 'random forest': 'standardized',\n",
       " 'svm': 'minmaxed',\n",
       " 'grad_boost': 'minmaxed',\n",
       " 'xgboost': 'standardized',\n",
       " 'extra_trees': 'standardized'}"
      ]
     },
     "execution_count": 75,
     "metadata": {},
     "output_type": "execute_result"
    }
   ],
   "source": [
    "scalers"
   ]
  },
  {
   "cell_type": "markdown",
   "metadata": {},
   "source": [
    "Retrain and test new fit on holdout data using the best estimator for each respective model using the `holdout_test_append()` function."
   ]
  },
  {
   "cell_type": "code",
   "execution_count": 76,
   "metadata": {},
   "outputs": [],
   "source": [
    "holdout_test_append(only_est[0], s_X, s_X_holdout) #logistic\n",
    "holdout_test_append(only_est[1], s_X, s_X_holdout) #logistic\n",
    "holdout_test_append(only_est[2], mm_X, mm_X_holdout) #knn\n",
    "holdout_test_append(only_est[3], mm_X, mm_X_holdout) #naive bayes - multinomial\n",
    "holdout_test_append(only_est[4], X, X_holdout) #naive bayes - bernoulli\n",
    "holdout_test_append(only_est[5], s_X, s_X_holdout) #decision tree\n",
    "holdout_test_append(only_est[6], s_X, s_X_holdout) #random forest\n",
    "holdout_test_append(only_est[7], mm_X, mm_X_holdout) #svm\n",
    "holdout_test_append(only_est[8], mm_X, mm_X_holdout) #gradient boosting\n",
    "holdout_test_append(only_est[9], s_X, s_X_holdout) #xgboost\n",
    "holdout_test_append(only_est[10], s_X, s_X_holdout) #extra trees"
   ]
  },
  {
   "cell_type": "markdown",
   "metadata": {},
   "source": [
    "Put all the new scores together."
   ]
  },
  {
   "cell_type": "code",
   "execution_count": 77,
   "metadata": {},
   "outputs": [],
   "source": [
    "clf_holdout_inc_data = [(name, train, i[0], round(holdout[1]*100, 5), i[1]) for name, i, train, holdout in zip(clf_names, clf_data, train_scores, holdout_scores)]"
   ]
  },
  {
   "cell_type": "markdown",
   "metadata": {},
   "source": [
    "Put everything into an easily sortable dataframe, including all previous training information."
   ]
  },
  {
   "cell_type": "code",
   "execution_count": 78,
   "metadata": {},
   "outputs": [],
   "source": [
    "holdout_inc_stats = pd.DataFrame(clf_holdout_inc_data, \n",
    "                                 columns=['Classifier', 'Training Accuracy(%)', 'Validation Accuracy(%)', 'Holdout Accuracy(%)', 'Candidate Fit Time (Seconds/Candidate)'])"
   ]
  },
  {
   "cell_type": "markdown",
   "metadata": {},
   "source": [
    "# Model Selection"
   ]
  },
  {
   "cell_type": "markdown",
   "metadata": {},
   "source": [
    "When it comes to choosing a model in this case the primary concern is accuracy and speed. With all the pertinent information put together it should be relatively straight forward to select the best model. So, lets look at all of the tested models' statistics all at once."
   ]
  },
  {
   "cell_type": "code",
   "execution_count": 79,
   "metadata": {},
   "outputs": [
    {
     "data": {
      "text/html": [
       "<div>\n",
       "<style scoped>\n",
       "    .dataframe tbody tr th:only-of-type {\n",
       "        vertical-align: middle;\n",
       "    }\n",
       "\n",
       "    .dataframe tbody tr th {\n",
       "        vertical-align: top;\n",
       "    }\n",
       "\n",
       "    .dataframe thead th {\n",
       "        text-align: right;\n",
       "    }\n",
       "</style>\n",
       "<table border=\"1\" class=\"dataframe\">\n",
       "  <thead>\n",
       "    <tr style=\"text-align: right;\">\n",
       "      <th></th>\n",
       "      <th>Classifier</th>\n",
       "      <th>Training Accuracy(%)</th>\n",
       "      <th>Validation Accuracy(%)</th>\n",
       "      <th>Holdout Accuracy(%)</th>\n",
       "      <th>Candidate Fit Time (Seconds/Candidate)</th>\n",
       "    </tr>\n",
       "  </thead>\n",
       "  <tbody>\n",
       "    <tr>\n",
       "      <th>0</th>\n",
       "      <td>LogisticRegression</td>\n",
       "      <td>82.07341</td>\n",
       "      <td>79.89691</td>\n",
       "      <td>83.31044</td>\n",
       "      <td>0.24030</td>\n",
       "    </tr>\n",
       "    <tr>\n",
       "      <th>1</th>\n",
       "      <td>LogisticRegression</td>\n",
       "      <td>82.18786</td>\n",
       "      <td>80.06873</td>\n",
       "      <td>82.82967</td>\n",
       "      <td>0.15747</td>\n",
       "    </tr>\n",
       "    <tr>\n",
       "      <th>2</th>\n",
       "      <td>KNeighborsClassifier</td>\n",
       "      <td>78.69403</td>\n",
       "      <td>77.83505</td>\n",
       "      <td>80.49451</td>\n",
       "      <td>2.93600</td>\n",
       "    </tr>\n",
       "    <tr>\n",
       "      <th>3</th>\n",
       "      <td>MultinomialNB</td>\n",
       "      <td>76.04023</td>\n",
       "      <td>76.11684</td>\n",
       "      <td>77.67857</td>\n",
       "      <td>0.09656</td>\n",
       "    </tr>\n",
       "    <tr>\n",
       "      <th>4</th>\n",
       "      <td>BernoulliNB</td>\n",
       "      <td>74.62756</td>\n",
       "      <td>74.05498</td>\n",
       "      <td>76.37363</td>\n",
       "      <td>0.10397</td>\n",
       "    </tr>\n",
       "    <tr>\n",
       "      <th>5</th>\n",
       "      <td>DecisionTreeClassifier</td>\n",
       "      <td>81.51977</td>\n",
       "      <td>79.03780</td>\n",
       "      <td>82.69231</td>\n",
       "      <td>0.23914</td>\n",
       "    </tr>\n",
       "    <tr>\n",
       "      <th>6</th>\n",
       "      <td>RandomForestClassifier</td>\n",
       "      <td>81.57710</td>\n",
       "      <td>79.72509</td>\n",
       "      <td>81.86813</td>\n",
       "      <td>1.94130</td>\n",
       "    </tr>\n",
       "    <tr>\n",
       "      <th>7</th>\n",
       "      <td>SVC</td>\n",
       "      <td>82.03522</td>\n",
       "      <td>80.24055</td>\n",
       "      <td>83.17308</td>\n",
       "      <td>4.62768</td>\n",
       "    </tr>\n",
       "    <tr>\n",
       "      <th>8</th>\n",
       "      <td>GradientBoostingClassifier</td>\n",
       "      <td>81.99707</td>\n",
       "      <td>78.86598</td>\n",
       "      <td>82.62363</td>\n",
       "      <td>19.12330</td>\n",
       "    </tr>\n",
       "    <tr>\n",
       "      <th>9</th>\n",
       "      <td>XGBClassifier</td>\n",
       "      <td>81.80611</td>\n",
       "      <td>78.69416</td>\n",
       "      <td>82.69231</td>\n",
       "      <td>1.75968</td>\n",
       "    </tr>\n",
       "    <tr>\n",
       "      <th>10</th>\n",
       "      <td>ExtraTreesClassifier</td>\n",
       "      <td>81.15692</td>\n",
       "      <td>79.38144</td>\n",
       "      <td>82.21154</td>\n",
       "      <td>5.35176</td>\n",
       "    </tr>\n",
       "  </tbody>\n",
       "</table>\n",
       "</div>"
      ],
      "text/plain": [
       "                    Classifier  Training Accuracy(%)  Validation Accuracy(%)  \\\n",
       "0           LogisticRegression              82.07341                79.89691   \n",
       "1           LogisticRegression              82.18786                80.06873   \n",
       "2         KNeighborsClassifier              78.69403                77.83505   \n",
       "3                MultinomialNB              76.04023                76.11684   \n",
       "4                  BernoulliNB              74.62756                74.05498   \n",
       "5       DecisionTreeClassifier              81.51977                79.03780   \n",
       "6       RandomForestClassifier              81.57710                79.72509   \n",
       "7                          SVC              82.03522                80.24055   \n",
       "8   GradientBoostingClassifier              81.99707                78.86598   \n",
       "9                XGBClassifier              81.80611                78.69416   \n",
       "10        ExtraTreesClassifier              81.15692                79.38144   \n",
       "\n",
       "    Holdout Accuracy(%)  Candidate Fit Time (Seconds/Candidate)  \n",
       "0              83.31044                                 0.24030  \n",
       "1              82.82967                                 0.15747  \n",
       "2              80.49451                                 2.93600  \n",
       "3              77.67857                                 0.09656  \n",
       "4              76.37363                                 0.10397  \n",
       "5              82.69231                                 0.23914  \n",
       "6              81.86813                                 1.94130  \n",
       "7              83.17308                                 4.62768  \n",
       "8              82.62363                                19.12330  \n",
       "9              82.69231                                 1.75968  \n",
       "10             82.21154                                 5.35176  "
      ]
     },
     "execution_count": 79,
     "metadata": {},
     "output_type": "execute_result"
    }
   ],
   "source": [
    "holdout_inc_stats"
   ]
  },
  {
   "cell_type": "markdown",
   "metadata": {},
   "source": [
    "There are a few more interesting metrics to derive, the average of the validation and holdout scores and the inverse fit time (so higher is better)."
   ]
  },
  {
   "cell_type": "code",
   "execution_count": 80,
   "metadata": {},
   "outputs": [],
   "source": [
    "holdout_inc_stats['Average Test Score(%)'] = (holdout_inc_stats['Validation Accuracy(%)'] + holdout_inc_stats['Holdout Accuracy(%)']) / 2\n",
    "holdout_inc_stats['Inverse Fit Time (1/Candidate Fit Time)'] = 1 / holdout_inc_stats['Candidate Fit Time (Seconds/Candidate)']"
   ]
  },
  {
   "cell_type": "markdown",
   "metadata": {},
   "source": [
    "Clarify the difference between the Logistic Regression Models."
   ]
  },
  {
   "cell_type": "code",
   "execution_count": 81,
   "metadata": {},
   "outputs": [],
   "source": [
    "holdout_inc_stats.iloc[0,0] = holdout_inc_stats.iloc[0,0] + '(L2)'\n",
    "holdout_inc_stats.iloc[1,0] = holdout_inc_stats.iloc[1,0] + '(L1)'"
   ]
  },
  {
   "cell_type": "markdown",
   "metadata": {},
   "source": [
    "Take a look at the stats."
   ]
  },
  {
   "cell_type": "code",
   "execution_count": 82,
   "metadata": {},
   "outputs": [
    {
     "data": {
      "text/html": [
       "<div>\n",
       "<style scoped>\n",
       "    .dataframe tbody tr th:only-of-type {\n",
       "        vertical-align: middle;\n",
       "    }\n",
       "\n",
       "    .dataframe tbody tr th {\n",
       "        vertical-align: top;\n",
       "    }\n",
       "\n",
       "    .dataframe thead th {\n",
       "        text-align: right;\n",
       "    }\n",
       "</style>\n",
       "<table border=\"1\" class=\"dataframe\">\n",
       "  <thead>\n",
       "    <tr style=\"text-align: right;\">\n",
       "      <th></th>\n",
       "      <th>Classifier</th>\n",
       "      <th>Training Accuracy(%)</th>\n",
       "      <th>Validation Accuracy(%)</th>\n",
       "      <th>Holdout Accuracy(%)</th>\n",
       "      <th>Candidate Fit Time (Seconds/Candidate)</th>\n",
       "      <th>Average Test Score(%)</th>\n",
       "      <th>Inverse Fit Time (1/Candidate Fit Time)</th>\n",
       "    </tr>\n",
       "  </thead>\n",
       "  <tbody>\n",
       "    <tr>\n",
       "      <th>0</th>\n",
       "      <td>LogisticRegression(L2)</td>\n",
       "      <td>82.07341</td>\n",
       "      <td>79.89691</td>\n",
       "      <td>83.31044</td>\n",
       "      <td>0.24030</td>\n",
       "      <td>81.603675</td>\n",
       "      <td>4.161465</td>\n",
       "    </tr>\n",
       "    <tr>\n",
       "      <th>1</th>\n",
       "      <td>LogisticRegression(L1)</td>\n",
       "      <td>82.18786</td>\n",
       "      <td>80.06873</td>\n",
       "      <td>82.82967</td>\n",
       "      <td>0.15747</td>\n",
       "      <td>81.449200</td>\n",
       "      <td>6.350416</td>\n",
       "    </tr>\n",
       "    <tr>\n",
       "      <th>2</th>\n",
       "      <td>KNeighborsClassifier</td>\n",
       "      <td>78.69403</td>\n",
       "      <td>77.83505</td>\n",
       "      <td>80.49451</td>\n",
       "      <td>2.93600</td>\n",
       "      <td>79.164780</td>\n",
       "      <td>0.340599</td>\n",
       "    </tr>\n",
       "    <tr>\n",
       "      <th>3</th>\n",
       "      <td>MultinomialNB</td>\n",
       "      <td>76.04023</td>\n",
       "      <td>76.11684</td>\n",
       "      <td>77.67857</td>\n",
       "      <td>0.09656</td>\n",
       "      <td>76.897705</td>\n",
       "      <td>10.356255</td>\n",
       "    </tr>\n",
       "    <tr>\n",
       "      <th>4</th>\n",
       "      <td>BernoulliNB</td>\n",
       "      <td>74.62756</td>\n",
       "      <td>74.05498</td>\n",
       "      <td>76.37363</td>\n",
       "      <td>0.10397</td>\n",
       "      <td>75.214305</td>\n",
       "      <td>9.618159</td>\n",
       "    </tr>\n",
       "    <tr>\n",
       "      <th>5</th>\n",
       "      <td>DecisionTreeClassifier</td>\n",
       "      <td>81.51977</td>\n",
       "      <td>79.03780</td>\n",
       "      <td>82.69231</td>\n",
       "      <td>0.23914</td>\n",
       "      <td>80.865055</td>\n",
       "      <td>4.181651</td>\n",
       "    </tr>\n",
       "    <tr>\n",
       "      <th>6</th>\n",
       "      <td>RandomForestClassifier</td>\n",
       "      <td>81.57710</td>\n",
       "      <td>79.72509</td>\n",
       "      <td>81.86813</td>\n",
       "      <td>1.94130</td>\n",
       "      <td>80.796610</td>\n",
       "      <td>0.515119</td>\n",
       "    </tr>\n",
       "    <tr>\n",
       "      <th>7</th>\n",
       "      <td>SVC</td>\n",
       "      <td>82.03522</td>\n",
       "      <td>80.24055</td>\n",
       "      <td>83.17308</td>\n",
       "      <td>4.62768</td>\n",
       "      <td>81.706815</td>\n",
       "      <td>0.216091</td>\n",
       "    </tr>\n",
       "    <tr>\n",
       "      <th>8</th>\n",
       "      <td>GradientBoostingClassifier</td>\n",
       "      <td>81.99707</td>\n",
       "      <td>78.86598</td>\n",
       "      <td>82.62363</td>\n",
       "      <td>19.12330</td>\n",
       "      <td>80.744805</td>\n",
       "      <td>0.052292</td>\n",
       "    </tr>\n",
       "    <tr>\n",
       "      <th>9</th>\n",
       "      <td>XGBClassifier</td>\n",
       "      <td>81.80611</td>\n",
       "      <td>78.69416</td>\n",
       "      <td>82.69231</td>\n",
       "      <td>1.75968</td>\n",
       "      <td>80.693235</td>\n",
       "      <td>0.568285</td>\n",
       "    </tr>\n",
       "    <tr>\n",
       "      <th>10</th>\n",
       "      <td>ExtraTreesClassifier</td>\n",
       "      <td>81.15692</td>\n",
       "      <td>79.38144</td>\n",
       "      <td>82.21154</td>\n",
       "      <td>5.35176</td>\n",
       "      <td>80.796490</td>\n",
       "      <td>0.186854</td>\n",
       "    </tr>\n",
       "  </tbody>\n",
       "</table>\n",
       "</div>"
      ],
      "text/plain": [
       "                    Classifier  Training Accuracy(%)  Validation Accuracy(%)  \\\n",
       "0       LogisticRegression(L2)              82.07341                79.89691   \n",
       "1       LogisticRegression(L1)              82.18786                80.06873   \n",
       "2         KNeighborsClassifier              78.69403                77.83505   \n",
       "3                MultinomialNB              76.04023                76.11684   \n",
       "4                  BernoulliNB              74.62756                74.05498   \n",
       "5       DecisionTreeClassifier              81.51977                79.03780   \n",
       "6       RandomForestClassifier              81.57710                79.72509   \n",
       "7                          SVC              82.03522                80.24055   \n",
       "8   GradientBoostingClassifier              81.99707                78.86598   \n",
       "9                XGBClassifier              81.80611                78.69416   \n",
       "10        ExtraTreesClassifier              81.15692                79.38144   \n",
       "\n",
       "    Holdout Accuracy(%)  Candidate Fit Time (Seconds/Candidate)  \\\n",
       "0              83.31044                                 0.24030   \n",
       "1              82.82967                                 0.15747   \n",
       "2              80.49451                                 2.93600   \n",
       "3              77.67857                                 0.09656   \n",
       "4              76.37363                                 0.10397   \n",
       "5              82.69231                                 0.23914   \n",
       "6              81.86813                                 1.94130   \n",
       "7              83.17308                                 4.62768   \n",
       "8              82.62363                                19.12330   \n",
       "9              82.69231                                 1.75968   \n",
       "10             82.21154                                 5.35176   \n",
       "\n",
       "    Average Test Score(%)  Inverse Fit Time (1/Candidate Fit Time)  \n",
       "0               81.603675                                 4.161465  \n",
       "1               81.449200                                 6.350416  \n",
       "2               79.164780                                 0.340599  \n",
       "3               76.897705                                10.356255  \n",
       "4               75.214305                                 9.618159  \n",
       "5               80.865055                                 4.181651  \n",
       "6               80.796610                                 0.515119  \n",
       "7               81.706815                                 0.216091  \n",
       "8               80.744805                                 0.052292  \n",
       "9               80.693235                                 0.568285  \n",
       "10              80.796490                                 0.186854  "
      ]
     },
     "execution_count": 82,
     "metadata": {},
     "output_type": "execute_result"
    }
   ],
   "source": [
    "holdout_inc_stats"
   ]
  },
  {
   "cell_type": "markdown",
   "metadata": {},
   "source": [
    "Note that the higher the percentage also means the higher the accuracy and the higher the inverse fit time the faster the model."
   ]
  },
  {
   "cell_type": "code",
   "execution_count": 83,
   "metadata": {},
   "outputs": [
    {
     "data": {
      "image/png": "[encoded data removed]",
      "text/plain": [
       "<Figure size 1656x504 with 1 Axes>"
      ]
     },
     "metadata": {},
     "output_type": "display_data"
    }
   ],
   "source": [
    "sns.set_style('whitegrid')\n",
    "plt.figure(figsize=(23,7))\n",
    "splot = sns.barplot('Classifier', 'Average Test Score(%)', data=holdout_inc_stats.sort_values('Average Test Score(%)', ascending=False))\n",
    "for p in splot.patches:\n",
    "    splot.annotate(format(p.get_height(), '.2f'), (p.get_x() + p.get_width() / 2., p.get_height()), ha = 'center', va = 'center', xytext = (0, 10), textcoords = 'offset points')\n",
    "splot.set(ylim=(70, 83))\n",
    "plt.title('Average Test Score by Classifier')\n",
    "plt.show()"
   ]
  },
  {
   "cell_type": "markdown",
   "metadata": {},
   "source": [
    "*Note: the figure above's lower y-axis limit is 70%, to show a more pronounced comparison.*"
   ]
  },
  {
   "cell_type": "markdown",
   "metadata": {},
   "source": [
    "SVC and logistic regression perform best here (SVC with a linear kernel is basically logistic regression)."
   ]
  },
  {
   "cell_type": "code",
   "execution_count": 84,
   "metadata": {},
   "outputs": [
    {
     "data": {
      "image/png": "[encoded data removed]",
      "text/plain": [
       "<Figure size 1656x504 with 1 Axes>"
      ]
     },
     "metadata": {},
     "output_type": "display_data"
    }
   ],
   "source": [
    "plt.figure(figsize=(23,7))\n",
    "splot = sns.barplot('Classifier', 'Inverse Fit Time (1/Candidate Fit Time)', data=holdout_inc_stats.sort_values('Inverse Fit Time (1/Candidate Fit Time)', ascending=False))\n",
    "for p in splot.patches:\n",
    "    splot.annotate(format(p.get_height(), '.2f'), (p.get_x() + p.get_width() / 2., p.get_height()), ha = 'center', va = 'center', xytext = (0, 10), textcoords = 'offset points')\n",
    "splot.set(yticks=np.arange(0,10,.5))\n",
    "plt.title('Inverse Fit Time by Classifier')\n",
    "plt.show()"
   ]
  },
  {
   "cell_type": "markdown",
   "metadata": {},
   "source": [
    "The Gradient Trees Boosting model turns out to be the slowest model of them all! Of the more complicated models, eXtreme Gradient Boosting performed the best when it comes to fitting time, which isn't too shabby as it has a pretty good accuracy score. The speed of Naive Bayes probably cannot be beat, but it does not have a very good accuracy score, relatively speaking. Logistic regression is definitely on the faster end of things."
   ]
  },
  {
   "cell_type": "code",
   "execution_count": 85,
   "metadata": {},
   "outputs": [
    {
     "data": {
      "image/png": "[encoded data removed]",
      "text/plain": [
       "<Figure size 1440x504 with 1 Axes>"
      ]
     },
     "metadata": {},
     "output_type": "display_data"
    }
   ],
   "source": [
    "plt.style.use('seaborn-whitegrid')\n",
    "plt.figure(figsize=(20,7))\n",
    "scatter = sns.regplot(data=holdout_inc_stats, x='Inverse Fit Time (1/Candidate Fit Time)', y='Average Test Score(%)', fit_reg=False, marker='.', scatter_kws={'s':400})\n",
    "\n",
    "for line in np.arange(0, holdout_inc_stats.shape[0]):\n",
    "    scatter.text(holdout_inc_stats['Inverse Fit Time (1/Candidate Fit Time)'][line], holdout_inc_stats['Average Test Score(%)'][line]-.1, holdout_inc_stats.Classifier[line], horizontalalignment='center', size='small', color='black', weight='semibold')\n",
    "\n",
    "scatter.set(xticks=np.arange(-.25,10.25,.25))\n",
    "scatter.set(yticks=np.arange(73, 82.5,.5))\n",
    "\n",
    "plt.title('Classifier Comparison of Average Score and Inverse Fit Time')\n",
    "plt.show()"
   ]
  },
  {
   "cell_type": "markdown",
   "metadata": {},
   "source": [
    "The above graph compares every model by terms of its Average Test Scores and its Inverse Fit Time. The higher up the model on the y-axis, the higher the accuracy while the further to the right on the x-axis, the faster the model. Optimally, there would be a model toward the top right corner (indicating high speed and accuracy), instead there seems to be three general groups of models:\n",
    "1. Slow with decent accuracy (the group of 6 in the upper left corner)\n",
    "2. Fast with decent accuracy (the middle 3)\n",
    "3. Extremely fast but relatively bad accuracy (the two Naive Bayes models)"
   ]
  },
  {
   "cell_type": "markdown",
   "metadata": {},
   "source": [
    "Choosing a model is pretty easy in this case, we'll take one of the best in accuracy with fast speed in Logistic Regression (L2)."
   ]
  },
  {
   "cell_type": "markdown",
   "metadata": {},
   "source": [
    "# THE WINNER: Logistic Regression (L2)"
   ]
  },
  {
   "cell_type": "markdown",
   "metadata": {},
   "source": [
    "With over 1000 models trained and tested, good old Logistic Regression reigns supreme."
   ]
  },
  {
   "cell_type": "markdown",
   "metadata": {},
   "source": [
    "The exact parameters for the model are as follows:"
   ]
  },
  {
   "cell_type": "code",
   "execution_count": 86,
   "metadata": {},
   "outputs": [
    {
     "data": {
      "text/plain": [
       "LogisticRegression(C=0.4, class_weight=None, dual=False, fit_intercept=True,\n",
       "                   intercept_scaling=1, l1_ratio=None, max_iter=1000,\n",
       "                   multi_class='auto', n_jobs=None, penalty='l2',\n",
       "                   random_state=None, solver='newton-cg', tol=0.0001, verbose=0,\n",
       "                   warm_start=False)"
      ]
     },
     "execution_count": 86,
     "metadata": {},
     "output_type": "execute_result"
    }
   ],
   "source": [
    "only_est[0]"
   ]
  },
  {
   "cell_type": "markdown",
   "metadata": {},
   "source": [
    "The data scaling type is as follows:"
   ]
  },
  {
   "cell_type": "code",
   "execution_count": 87,
   "metadata": {},
   "outputs": [
    {
     "data": {
      "text/plain": [
       "'standardized'"
      ]
     },
     "execution_count": 87,
     "metadata": {},
     "output_type": "execute_result"
    }
   ],
   "source": [
    "scalers['logistic']"
   ]
  },
  {
   "cell_type": "markdown",
   "metadata": {},
   "source": [
    "The reasoning for this selection can be surmised from the above, but essentially Logistic Regression (L2) is very fast and also accurate."
   ]
  },
  {
   "cell_type": "markdown",
   "metadata": {},
   "source": [
    "# Quick Recap"
   ]
  },
  {
   "cell_type": "markdown",
   "metadata": {},
   "source": [
    "Took the features obtained from the prior data cleaning and exploration notebook and found the optimal model to use on those features."
   ]
  },
  {
   "cell_type": "markdown",
   "metadata": {},
   "source": [
    "Next step, [NBA Model Testing](https://github.com/philbowman212/Thinkful_repo/blob/master/projects/supervised_capstone/Jupyter%20Notebooks/Model_Testing.ipynb).\n",
    "\n",
    "For navigational convenience:\n",
    "1. [NBA Data Aggregation](https://github.com/philbowman212/Thinkful_repo/blob/master/projects/supervised_capstone/Jupyter%20Notebooks/Data_Aggregation.ipynb)\n",
    "2. [NBA Data Cleaning and Exploration](https://github.com/philbowman212/Thinkful_repo/blob/master/projects/supervised_capstone/Jupyter%20Notebooks/Data_Cleaning_Exploration.ipynb)\n",
    "3. [NBA Modeling](https://github.com/philbowman212/Thinkful_repo/blob/master/projects/supervised_capstone/Jupyter%20Notebooks/Modeling.ipynb)*\n",
    "4. [NBA Model Testing](https://github.com/philbowman212/Thinkful_repo/blob/master/projects/supervised_capstone/Jupyter%20Notebooks/Model_Testing.ipynb)"
   ]
  }
 ],
 "metadata": {
  "kernelspec": {
   "display_name": "Python 3",
   "language": "python",
   "name": "python3"
  },
  "language_info": {
   "codemirror_mode": {
    "name": "ipython",
    "version": 3
   },
   "file_extension": ".py",
   "mimetype": "text/x-python",
   "name": "python",
   "nbconvert_exporter": "python",
   "pygments_lexer": "ipython3",
   "version": "3.7.4"
  }
 },
 "nbformat": 4,
 "nbformat_minor": 4
}
