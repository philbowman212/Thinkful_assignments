{
 "cells": [
  {
   "cell_type": "markdown",
   "metadata": {},
   "source": [
    "<h1 align='center'>NBA SUPERVISED LEARNING CAPSTONE</h1>\n",
    "<h2 align='center'>Philip Bowman</h2>\n",
    "\n",
    "## Part 4: NBA Model Testing\n",
    "1. [NBA Data Aggregation](https://github.com/philbowman212/Thinkful_repo/blob/master/projects/supervised_capstone/Jupyter%20Notebooks/Data_Aggregation.ipynb)\n",
    "2. [NBA Data Cleaning and Exploration](https://github.com/philbowman212/Thinkful_repo/blob/master/projects/supervised_capstone/Jupyter%20Notebooks/Data_Cleaning_Exploration.ipynb)\n",
    "3. [NBA Modeling](https://github.com/philbowman212/Thinkful_repo/blob/master/projects/supervised_capstone/Jupyter%20Notebooks/Modeling.ipynb)\n",
    "4. [NBA Model Testing](https://github.com/philbowman212/Thinkful_repo/blob/master/projects/supervised_capstone/Jupyter%20Notebooks/Model_Testing.ipynb)*"
   ]
  },
  {
   "cell_type": "markdown",
   "metadata": {},
   "source": [
    "## Purpose:"
   ]
  },
  {
   "cell_type": "markdown",
   "metadata": {},
   "source": [
    "To test the model selected in the prior notebook and use it to make predictions on games for the current NBA season. Ultimately, to see if the model is viable on current season games."
   ]
  },
  {
   "cell_type": "code",
   "execution_count": 1,
   "metadata": {},
   "outputs": [],
   "source": [
    "import pandas as pd\n",
    "import numpy as np\n",
    "\n",
    "pd.set_option('display.max_columns', 500)\n",
    "\n",
    "from sklearn.preprocessing import StandardScaler\n",
    "from sklearn.linear_model import LogisticRegression\n",
    "from sklearn.metrics import confusion_matrix"
   ]
  },
  {
   "cell_type": "markdown",
   "metadata": {},
   "source": [
    "# How?"
   ]
  },
  {
   "cell_type": "markdown",
   "metadata": {},
   "source": [
    "1. Retrain selected model using all the data from the 2012-2018 NBA seasons\n",
    "2. Reobserve the features decided on in the data cleaning and exploration phase\n",
    "3. Collect relevant data for current NBA season (2018-2019)\n",
    "4. Manipulate data so it fits the format of the model\n",
    "5. Execute and check performance of model"
   ]
  },
  {
   "cell_type": "markdown",
   "metadata": {},
   "source": [
    "# Retraining selected model"
   ]
  },
  {
   "cell_type": "markdown",
   "metadata": {},
   "source": [
    "Import data."
   ]
  },
  {
   "cell_type": "code",
   "execution_count": 2,
   "metadata": {},
   "outputs": [],
   "source": [
    "df = pd.read_csv('C:/Users/philb/Google Drive/Thinkful/Thinkful_repo/projects/supervised_capstone/Export Data/target_features.csv', index_col=0)"
   ]
  },
  {
   "cell_type": "markdown",
   "metadata": {},
   "source": [
    "Instantiate scaler for standardization and instantiate selected model."
   ]
  },
  {
   "cell_type": "code",
   "execution_count": 3,
   "metadata": {},
   "outputs": [],
   "source": [
    "scaler = StandardScaler()\n",
    "model = LogisticRegression(C=0.4, class_weight=None, dual=False, fit_intercept=True,\n",
    "                   intercept_scaling=1, l1_ratio=None, max_iter=1000,\n",
    "                   multi_class='auto', n_jobs=None, penalty='l2',\n",
    "                   random_state=None, solver='newton-cg', tol=0.0001, verbose=0,\n",
    "                   warm_start=False)"
   ]
  },
  {
   "cell_type": "markdown",
   "metadata": {},
   "source": [
    "Split target and features."
   ]
  },
  {
   "cell_type": "code",
   "execution_count": 4,
   "metadata": {},
   "outputs": [],
   "source": [
    "target = df['teamWin_A']\n",
    "features = df.drop(columns='teamWin_A').copy()"
   ]
  },
  {
   "cell_type": "markdown",
   "metadata": {},
   "source": [
    "Standardize features (except for `teamHome_A` since it's an indicator)."
   ]
  },
  {
   "cell_type": "code",
   "execution_count": 5,
   "metadata": {},
   "outputs": [],
   "source": [
    "s_features = pd.DataFrame(scaler.fit_transform(features.iloc[:, 1:]), columns=features.columns[1:], index=features.index).join(features.iloc[:, 0]).copy()"
   ]
  },
  {
   "cell_type": "markdown",
   "metadata": {},
   "source": [
    "*Note: once the data is collected from the current NBA season, those will have to be transformed using the scaler.*"
   ]
  },
  {
   "cell_type": "markdown",
   "metadata": {},
   "source": [
    "Retrain the model with all the data."
   ]
  },
  {
   "cell_type": "code",
   "execution_count": 6,
   "metadata": {},
   "outputs": [
    {
     "data": {
      "text/plain": [
       "LogisticRegression(C=0.4, class_weight=None, dual=False, fit_intercept=True,\n",
       "                   intercept_scaling=1, l1_ratio=None, max_iter=1000,\n",
       "                   multi_class='auto', n_jobs=None, penalty='l2',\n",
       "                   random_state=None, solver='newton-cg', tol=0.0001, verbose=0,\n",
       "                   warm_start=False)"
      ]
     },
     "execution_count": 6,
     "metadata": {},
     "output_type": "execute_result"
    }
   ],
   "source": [
    "model.fit(s_features, target)"
   ]
  },
  {
   "cell_type": "markdown",
   "metadata": {},
   "source": [
    "# Reobserve selected features"
   ]
  },
  {
   "cell_type": "code",
   "execution_count": 7,
   "metadata": {},
   "outputs": [
    {
     "data": {
      "text/plain": [
       "Index(['teamHome_A', 'gameBack_A', 'ptsAllow_A', 'teamPTS1_A', 'teamDrtg_A',\n",
       "       'team3PM_Diff_A', 'teamDRB_Diff_A', 'teamPTS1_Diff_A',\n",
       "       'teamPTS2_Diff_A', 'teamPTS3_Diff_A', 'teamBLKR_Diff_A',\n",
       "       'teamAST/TO_Diff_A', 'lastFiveWin%_B', 'teamDrtg_B', 'team3PM_Diff_B',\n",
       "       'teamPTS1_Diff_B', 'teamPTS3_Diff_B', 'teamBLKR_Diff_B',\n",
       "       'teamAST/TO_Diff_B', 'ptsAgnst_Diff', 'ptsScore_Diff', 'ptsAllow_Diff',\n",
       "       'spread_Diff', 'lastFiveWin%_Diff'],\n",
       "      dtype='object')"
      ]
     },
     "execution_count": 7,
     "metadata": {},
     "output_type": "execute_result"
    }
   ],
   "source": [
    "features.columns"
   ]
  },
  {
   "cell_type": "markdown",
   "metadata": {},
   "source": [
    "## Feature Definitions:\n",
    "- teamHome_A: Indicates whether team A is home or away (1 is home, 0 is away)\n",
    "- gameBack_A: The number of games behind team A is from the leader in their conference prior to the game\n",
    "- ptsAllow_A: The average points scored against team A per game of all games in the season prior to the game\n",
    "- teamPTS1_A: The average of the points scored in the first quarter by team A over games up to the prior 9 games\n",
    "- teamDrtg_A: The average of the defensive ratings of team A over games up to the prior 9 games\n",
    "- team3PM_Diff_A: The average of the differences of three point shots made by team A less their opponent over games up to the prior 9 games\n",
    "- teamDRB_Diff_A: The average of the differences of defensive rebounds of team A less their opponent over games up to the prior 9 games\n",
    "- teamPTS1_Diff_A: The average of the differences of points scored by team A less their opponent in the first quarter over games up to the prior 9 games\n",
    "- teamPTS2_Diff_A: The average of the differences of points scored by team A less their opponent in the second quarter over games up to the prior 9 games\n",
    "- teamPTS3_Diff_A: The average of the differences of points scored by team A less thier opponent in the third quarter over games up to the prior 9 games\n",
    "- teamBLKR_Diff_A: The average of the differences of block rate for team A less their opponent over games up to the prior 9 games\n",
    "- teamAST/TO_Diff_A: The average of the differences of team assist to turnover ratio for team A less their opponent over games up to the prior 9 games\n",
    "- lastFiveWin%_B: The win percentage for team B over the prior five games\n",
    "- teamDrtg_B: The average of the defensive ratings of team B over games up to the prior 9 games\n",
    "- team3PM_Diff_B: The average of the differences of three point shots made by team B less their opponent over games up to the prior 9 games\n",
    "- teamPTS1_Diff_B: The average of the differences of points scored by team B less their opponent in the first quarter over games up to the prior 9 games\n",
    "- teamPTS3_Diff_B: The average of the differences of points scored by team B less their opponent in the third quarter over games up to the prior 9 games\n",
    "- teamBLKR_Diff_B: The average of the differences of block rate for team B less their opponent over games up to the prior 9 games\n",
    "- teamAST/TO_Diff_B: The average of the differences of team assist to turnover ratio for team B less their opponent over games up to the prior 9 games\n",
    "- ptsAgnst_Diff: The difference of the total accumulated points scored against team A up to the date of the game in the season less the total accumulated points scored against team B up to the date of the game in the season\n",
    "- ptsScore_Diff: The difference of the average points scored by team A per game of all games in the season up to the point of this game less the average points scored by team B per game of all games in the season up to the point of this game\n",
    "- ptsAllow_Diff: The difference of the average points scored against team A per game of all games in the season up to the point of this game less the average points scored against team B per game of all games in the season up to the point of this game\n",
    "- spread_Diff: The difference of the average betting spread for team A less the average betting spread for team B\n",
    "- lastFiveWin%_Diff: The difference between the win percentage for team A over the prior five games and the win percentage for team B over the prior five games"
   ]
  },
  {
   "cell_type": "code",
   "execution_count": 8,
   "metadata": {},
   "outputs": [
    {
     "data": {
      "text/plain": [
       "Index(['teamHome_A', 'gameBack_A', 'ptsAllow_A', 'teamPTS1_A', 'teamDrtg_A',\n",
       "       'team3PM_Diff_A', 'teamDRB_Diff_A', 'teamPTS1_Diff_A',\n",
       "       'teamPTS2_Diff_A', 'teamPTS3_Diff_A', 'teamBLKR_Diff_A',\n",
       "       'teamAST/TO_Diff_A', 'lastFiveWin%_B', 'teamDrtg_B', 'team3PM_Diff_B',\n",
       "       'teamPTS1_Diff_B', 'teamPTS3_Diff_B', 'teamBLKR_Diff_B',\n",
       "       'teamAST/TO_Diff_B', 'ptsAgnst_Diff', 'ptsScore_Diff', 'ptsAllow_Diff',\n",
       "       'spread_Diff', 'lastFiveWin%_Diff'],\n",
       "      dtype='object')"
      ]
     },
     "execution_count": 8,
     "metadata": {},
     "output_type": "execute_result"
    }
   ],
   "source": [
    "features.columns"
   ]
  },
  {
   "cell_type": "markdown",
   "metadata": {},
   "source": [
    "## NBA data needed for creation of above features\n",
    "2019-2020 NBA Data for (parentheses indicate need/feature relevant to data):\n",
    "1. Game date and team names for each game (for orgainization and sorting)\n",
    "2. Home/away information for each team for each game (teamHome_A)\n",
    "3. Game back information for each team for every date of the 2019-2020 NBA season (gameBack_A)\n",
    "4. Total points scored for each team in each game (ptsAllow_A, ptsAllow_Diff, lastFiveWin%_B, ptsAgnst_Diff, ptsScore_Diff, ptsAllow_Diff, 'lastFiveWin%_Diff')\n",
    "5. The defensive ratings for each team in each game (teamDrtg_A & teamDrtg_B)\n",
    "6. The number of three point makes for each team in each game (team3PM_Diff_A & team3PM_Diff_B)\n",
    "7. The number of defensive rebounds for each team in each game (teamDRB_Diff_A)\n",
    "8. The points scored in the first quarter of each game by each team (teamPTS1_Diff_A & teamPTS1_Diff_B)\n",
    "9. The points scored in the second quarter of each game by each team (teamPTS2_Diff_A)\n",
    "10. The points scored in the third quarter of each game by each team (teamPTS3_Diff_A & teamPTS3_Diff_B)\n",
    "11. The block rate for each team in each game OR the number of blocks and number of two point attemps for each team in each game (teamBLKR_Diff_A & teamBLKR_Diff_B)\n",
    "12. The number of assists and turnovers for each team in each game (teamAST/TO_Diff_A & teamAST/TO_Diff_B)\n",
    "13. Betting spread information for each game (spread_Diff)"
   ]
  },
  {
   "cell_type": "markdown",
   "metadata": {},
   "source": [
    "# Collect relevant data"
   ]
  },
  {
   "cell_type": "markdown",
   "metadata": {},
   "source": [
    "The next goal is to collect the above relevant data. In this case there is an API available on GitHub which uses endpoints from the [official NBA stats website](https://stats.nba.com/) appropriately named [nba_api](https://github.com/swar/nba_api). Since betting data is not available through the API, [OddsShark](https://www.oddsshark.com/nba/database) will be used to aggregate the spread data."
   ]
  },
  {
   "cell_type": "markdown",
   "metadata": {},
   "source": [
    "The nba_api was used to obtain all the relevant game data that can be used to manipulate it into the form needed for model testing.\n",
    "That code to collect that data can be viewed [here (2019-2020_data_agg)](https://github.com/philbowman212/Thinkful_repo/blob/master/projects/supervised_capstone/Jupyter%20Notebooks/2019-2020_data_agg.ipynb). The aforementioned file also brings the spread data together with the game data. The spread data was obtained by means of using OddsShark.com and converting it to the an appropriate format for use using the [spread_convert](https://github.com/philbowman212/Thinkful_repo/blob/master/projects/supervised_capstone/Jupyter%20Notebooks/spread_convert.ipynb) notebook."
   ]
  },
  {
   "cell_type": "markdown",
   "metadata": {},
   "source": [
    "The result is a CSV file that contains all the raw elements needed to derive the above features."
   ]
  },
  {
   "cell_type": "markdown",
   "metadata": {},
   "source": [
    "Import data."
   ]
  },
  {
   "cell_type": "code",
   "execution_count": 9,
   "metadata": {},
   "outputs": [],
   "source": [
    "seas_data = pd.read_csv('C:/Users/philb/Google Drive/Thinkful/Thinkful_repo/projects/supervised_capstone/Export Data/2019-2020_data.csv', index_col=0)"
   ]
  },
  {
   "cell_type": "markdown",
   "metadata": {},
   "source": [
    "Look at dimensions of the data."
   ]
  },
  {
   "cell_type": "code",
   "execution_count": 10,
   "metadata": {},
   "outputs": [
    {
     "data": {
      "text/plain": [
       "(1076, 32)"
      ]
     },
     "execution_count": 10,
     "metadata": {},
     "output_type": "execute_result"
    }
   ],
   "source": [
    "seas_data.shape"
   ]
  },
  {
   "cell_type": "markdown",
   "metadata": {},
   "source": [
    "This contains 32 variables that can be used to derive all the needed features in order to test the model. The 1076 rows indicate that there is game data for all NBA games from October 22, 2019 (the start of the regular season) to nearly present day (January 5, 2020) which holds information for 538 games in the 2019-2020 NBA season."
   ]
  },
  {
   "cell_type": "code",
   "execution_count": 11,
   "metadata": {},
   "outputs": [
    {
     "data": {
      "text/html": [
       "<div>\n",
       "<style scoped>\n",
       "    .dataframe tbody tr th:only-of-type {\n",
       "        vertical-align: middle;\n",
       "    }\n",
       "\n",
       "    .dataframe tbody tr th {\n",
       "        vertical-align: top;\n",
       "    }\n",
       "\n",
       "    .dataframe thead th {\n",
       "        text-align: right;\n",
       "    }\n",
       "</style>\n",
       "<table border=\"1\" class=\"dataframe\">\n",
       "  <thead>\n",
       "    <tr style=\"text-align: right;\">\n",
       "      <th></th>\n",
       "      <th>SEASON_ID</th>\n",
       "      <th>TEAM_ID</th>\n",
       "      <th>TEAM_ABBREVIATION</th>\n",
       "      <th>TEAM_NAME</th>\n",
       "      <th>GAME_ID</th>\n",
       "      <th>GAME_DATE</th>\n",
       "      <th>MATCHUP</th>\n",
       "      <th>WL</th>\n",
       "      <th>MIN</th>\n",
       "      <th>PTS</th>\n",
       "      <th>FGM</th>\n",
       "      <th>FGA</th>\n",
       "      <th>FG_PCT</th>\n",
       "      <th>FG3M</th>\n",
       "      <th>FG3A</th>\n",
       "      <th>FG3_PCT</th>\n",
       "      <th>FTM</th>\n",
       "      <th>FTA</th>\n",
       "      <th>FT_PCT</th>\n",
       "      <th>OREB</th>\n",
       "      <th>DREB</th>\n",
       "      <th>REB</th>\n",
       "      <th>AST</th>\n",
       "      <th>STL</th>\n",
       "      <th>BLK</th>\n",
       "      <th>TOV</th>\n",
       "      <th>PF</th>\n",
       "      <th>PLUS_MINUS</th>\n",
       "      <th>PTS_QTR1</th>\n",
       "      <th>PTS_QTR2</th>\n",
       "      <th>PTS_QTR3</th>\n",
       "      <th>Spread</th>\n",
       "    </tr>\n",
       "  </thead>\n",
       "  <tbody>\n",
       "    <tr>\n",
       "      <th>0</th>\n",
       "      <td>22019</td>\n",
       "      <td>1610612737</td>\n",
       "      <td>ATL</td>\n",
       "      <td>Atlanta Hawks</td>\n",
       "      <td>21900526</td>\n",
       "      <td>2020-01-04</td>\n",
       "      <td>ATL vs. IND</td>\n",
       "      <td>W</td>\n",
       "      <td>240</td>\n",
       "      <td>116</td>\n",
       "      <td>42</td>\n",
       "      <td>82</td>\n",
       "      <td>0.512</td>\n",
       "      <td>10</td>\n",
       "      <td>32</td>\n",
       "      <td>0.313</td>\n",
       "      <td>22</td>\n",
       "      <td>24</td>\n",
       "      <td>0.917</td>\n",
       "      <td>4</td>\n",
       "      <td>36</td>\n",
       "      <td>40</td>\n",
       "      <td>22</td>\n",
       "      <td>8</td>\n",
       "      <td>4</td>\n",
       "      <td>13</td>\n",
       "      <td>28</td>\n",
       "      <td>5.0</td>\n",
       "      <td>43</td>\n",
       "      <td>21</td>\n",
       "      <td>32</td>\n",
       "      <td>7.5</td>\n",
       "    </tr>\n",
       "    <tr>\n",
       "      <th>1</th>\n",
       "      <td>22019</td>\n",
       "      <td>1610612737</td>\n",
       "      <td>ATL</td>\n",
       "      <td>Atlanta Hawks</td>\n",
       "      <td>21900517</td>\n",
       "      <td>2020-01-03</td>\n",
       "      <td>ATL @ BOS</td>\n",
       "      <td>L</td>\n",
       "      <td>239</td>\n",
       "      <td>106</td>\n",
       "      <td>39</td>\n",
       "      <td>93</td>\n",
       "      <td>0.419</td>\n",
       "      <td>16</td>\n",
       "      <td>45</td>\n",
       "      <td>0.356</td>\n",
       "      <td>12</td>\n",
       "      <td>15</td>\n",
       "      <td>0.800</td>\n",
       "      <td>6</td>\n",
       "      <td>36</td>\n",
       "      <td>42</td>\n",
       "      <td>26</td>\n",
       "      <td>6</td>\n",
       "      <td>5</td>\n",
       "      <td>14</td>\n",
       "      <td>24</td>\n",
       "      <td>-3.0</td>\n",
       "      <td>32</td>\n",
       "      <td>23</td>\n",
       "      <td>25</td>\n",
       "      <td>10.5</td>\n",
       "    </tr>\n",
       "    <tr>\n",
       "      <th>2</th>\n",
       "      <td>22019</td>\n",
       "      <td>1610612737</td>\n",
       "      <td>ATL</td>\n",
       "      <td>Atlanta Hawks</td>\n",
       "      <td>21900491</td>\n",
       "      <td>2019-12-30</td>\n",
       "      <td>ATL @ ORL</td>\n",
       "      <td>W</td>\n",
       "      <td>240</td>\n",
       "      <td>101</td>\n",
       "      <td>39</td>\n",
       "      <td>81</td>\n",
       "      <td>0.481</td>\n",
       "      <td>9</td>\n",
       "      <td>29</td>\n",
       "      <td>0.310</td>\n",
       "      <td>14</td>\n",
       "      <td>17</td>\n",
       "      <td>0.824</td>\n",
       "      <td>11</td>\n",
       "      <td>41</td>\n",
       "      <td>52</td>\n",
       "      <td>21</td>\n",
       "      <td>8</td>\n",
       "      <td>4</td>\n",
       "      <td>20</td>\n",
       "      <td>20</td>\n",
       "      <td>8.0</td>\n",
       "      <td>25</td>\n",
       "      <td>22</td>\n",
       "      <td>27</td>\n",
       "      <td>10.5</td>\n",
       "    </tr>\n",
       "    <tr>\n",
       "      <th>3</th>\n",
       "      <td>22019</td>\n",
       "      <td>1610612737</td>\n",
       "      <td>ATL</td>\n",
       "      <td>Atlanta Hawks</td>\n",
       "      <td>21900477</td>\n",
       "      <td>2019-12-28</td>\n",
       "      <td>ATL @ CHI</td>\n",
       "      <td>L</td>\n",
       "      <td>239</td>\n",
       "      <td>81</td>\n",
       "      <td>32</td>\n",
       "      <td>86</td>\n",
       "      <td>0.372</td>\n",
       "      <td>9</td>\n",
       "      <td>34</td>\n",
       "      <td>0.265</td>\n",
       "      <td>8</td>\n",
       "      <td>11</td>\n",
       "      <td>0.727</td>\n",
       "      <td>9</td>\n",
       "      <td>30</td>\n",
       "      <td>39</td>\n",
       "      <td>24</td>\n",
       "      <td>8</td>\n",
       "      <td>5</td>\n",
       "      <td>19</td>\n",
       "      <td>16</td>\n",
       "      <td>-35.0</td>\n",
       "      <td>19</td>\n",
       "      <td>24</td>\n",
       "      <td>22</td>\n",
       "      <td>9.5</td>\n",
       "    </tr>\n",
       "    <tr>\n",
       "      <th>4</th>\n",
       "      <td>22019</td>\n",
       "      <td>1610612737</td>\n",
       "      <td>ATL</td>\n",
       "      <td>Atlanta Hawks</td>\n",
       "      <td>21900469</td>\n",
       "      <td>2019-12-27</td>\n",
       "      <td>ATL vs. MIL</td>\n",
       "      <td>L</td>\n",
       "      <td>239</td>\n",
       "      <td>86</td>\n",
       "      <td>33</td>\n",
       "      <td>91</td>\n",
       "      <td>0.363</td>\n",
       "      <td>12</td>\n",
       "      <td>41</td>\n",
       "      <td>0.293</td>\n",
       "      <td>8</td>\n",
       "      <td>14</td>\n",
       "      <td>0.571</td>\n",
       "      <td>8</td>\n",
       "      <td>38</td>\n",
       "      <td>46</td>\n",
       "      <td>20</td>\n",
       "      <td>10</td>\n",
       "      <td>8</td>\n",
       "      <td>18</td>\n",
       "      <td>18</td>\n",
       "      <td>-26.0</td>\n",
       "      <td>19</td>\n",
       "      <td>21</td>\n",
       "      <td>23</td>\n",
       "      <td>7.0</td>\n",
       "    </tr>\n",
       "  </tbody>\n",
       "</table>\n",
       "</div>"
      ],
      "text/plain": [
       "   SEASON_ID     TEAM_ID TEAM_ABBREVIATION      TEAM_NAME   GAME_ID  \\\n",
       "0      22019  1610612737               ATL  Atlanta Hawks  21900526   \n",
       "1      22019  1610612737               ATL  Atlanta Hawks  21900517   \n",
       "2      22019  1610612737               ATL  Atlanta Hawks  21900491   \n",
       "3      22019  1610612737               ATL  Atlanta Hawks  21900477   \n",
       "4      22019  1610612737               ATL  Atlanta Hawks  21900469   \n",
       "\n",
       "    GAME_DATE      MATCHUP WL  MIN  PTS  FGM  FGA  FG_PCT  FG3M  FG3A  \\\n",
       "0  2020-01-04  ATL vs. IND  W  240  116   42   82   0.512    10    32   \n",
       "1  2020-01-03    ATL @ BOS  L  239  106   39   93   0.419    16    45   \n",
       "2  2019-12-30    ATL @ ORL  W  240  101   39   81   0.481     9    29   \n",
       "3  2019-12-28    ATL @ CHI  L  239   81   32   86   0.372     9    34   \n",
       "4  2019-12-27  ATL vs. MIL  L  239   86   33   91   0.363    12    41   \n",
       "\n",
       "   FG3_PCT  FTM  FTA  FT_PCT  OREB  DREB  REB  AST  STL  BLK  TOV  PF  \\\n",
       "0    0.313   22   24   0.917     4    36   40   22    8    4   13  28   \n",
       "1    0.356   12   15   0.800     6    36   42   26    6    5   14  24   \n",
       "2    0.310   14   17   0.824    11    41   52   21    8    4   20  20   \n",
       "3    0.265    8   11   0.727     9    30   39   24    8    5   19  16   \n",
       "4    0.293    8   14   0.571     8    38   46   20   10    8   18  18   \n",
       "\n",
       "   PLUS_MINUS  PTS_QTR1  PTS_QTR2  PTS_QTR3  Spread  \n",
       "0         5.0        43        21        32     7.5  \n",
       "1        -3.0        32        23        25    10.5  \n",
       "2         8.0        25        22        27    10.5  \n",
       "3       -35.0        19        24        22     9.5  \n",
       "4       -26.0        19        21        23     7.0  "
      ]
     },
     "execution_count": 11,
     "metadata": {},
     "output_type": "execute_result"
    }
   ],
   "source": [
    "seas_data.head()"
   ]
  },
  {
   "cell_type": "markdown",
   "metadata": {},
   "source": [
    "# Manipulate data to fit model specifications"
   ]
  },
  {
   "cell_type": "markdown",
   "metadata": {},
   "source": [
    "Essentially, the aggregated data from the prior step needs to be converted to fit the specifications of the model, first step in doing that is to create the appropriate features with the given data."
   ]
  },
  {
   "cell_type": "markdown",
   "metadata": {},
   "source": [
    "First off, let's limit things to just the columns essential to deriving the proper features."
   ]
  },
  {
   "cell_type": "code",
   "execution_count": 12,
   "metadata": {},
   "outputs": [
    {
     "data": {
      "text/plain": [
       "Index(['SEASON_ID', 'TEAM_ID', 'TEAM_ABBREVIATION', 'TEAM_NAME', 'GAME_ID',\n",
       "       'GAME_DATE', 'MATCHUP', 'WL', 'MIN', 'PTS', 'FGM', 'FGA', 'FG_PCT',\n",
       "       'FG3M', 'FG3A', 'FG3_PCT', 'FTM', 'FTA', 'FT_PCT', 'OREB', 'DREB',\n",
       "       'REB', 'AST', 'STL', 'BLK', 'TOV', 'PF', 'PLUS_MINUS', 'PTS_QTR1',\n",
       "       'PTS_QTR2', 'PTS_QTR3', 'Spread'],\n",
       "      dtype='object')"
      ]
     },
     "execution_count": 12,
     "metadata": {},
     "output_type": "execute_result"
    }
   ],
   "source": [
    "seas_data.columns"
   ]
  },
  {
   "cell_type": "markdown",
   "metadata": {},
   "source": [
    "For the prior list of 12 needed data (parentheses indicate variables needed from above to meet required derivations):\n",
    "1. Date & Names (`TEAM_ABBREVIATION`, `GAME_ID`, `GAME_DATE`, `MATCHUP`)\n",
    "2. Home/Away (`MATCHUP`)\n",
    "4. Points scored (`PTS`)\n",
    "5. Defensive Rating (`FGA`, `OREB`, `DREB`, `FGM`, `TOV`, `FTA`, `PTS`)\n",
    "6. Three pointers made (`FG3M`)\n",
    "7. Defensive rebounds (`DREB`)\n",
    "8. First quarter points (`PTS_QTR1`)\n",
    "9. Second quarter points (`PTS_QTR2`)\n",
    "10. Third quarter points (`PTS_QTR3`)\n",
    "11. Block rate (`BLK`, `FGA`, `FG3A`)\n",
    "12. Assists and turnovers (`AST`, `TOV`)\n",
    "13. Spread (`Spread`)\n",
    "\n",
    "So the required variables needed are `TEAM_ABBREVIATION`, `GAME_ID`, `GAME_DATE`, `MATCHUP`, `WL`, `PTS`, `FGA`, `OREB`, `DREB`, `FGM`, `TOV`, `FTA`, `FG3M`, `PTS_QTR1`, `PTS_QTR2`, `PTS_QTR3`, `BLK`, `FG3A`, `AST`, and `Spread`."
   ]
  },
  {
   "cell_type": "markdown",
   "metadata": {},
   "source": [
    "Make a list of the above variables."
   ]
  },
  {
   "cell_type": "code",
   "execution_count": 13,
   "metadata": {},
   "outputs": [],
   "source": [
    "needed_vars = ['GAME_ID', 'GAME_DATE', 'TEAM_ABBREVIATION', 'MATCHUP', 'WL', 'PTS', 'FGA', 'OREB', 'DREB', 'FGM', 'TOV', 'FTA',\n",
    "               'FG3M', 'PTS_QTR1', 'PTS_QTR2', 'PTS_QTR3', 'BLK', 'FG3A', 'AST', 'Spread']"
   ]
  },
  {
   "cell_type": "markdown",
   "metadata": {},
   "source": [
    "Get the data from `seas_data` containing only the variables from `needed_vars` above and place it in a dataframe called `ess_vars`."
   ]
  },
  {
   "cell_type": "code",
   "execution_count": 14,
   "metadata": {},
   "outputs": [],
   "source": [
    "ess_vars = seas_data[needed_vars].copy()"
   ]
  },
  {
   "cell_type": "markdown",
   "metadata": {},
   "source": [
    "Take a look at the top of `ess_vars` to get an idea of its layout."
   ]
  },
  {
   "cell_type": "code",
   "execution_count": 15,
   "metadata": {},
   "outputs": [
    {
     "data": {
      "text/html": [
       "<div>\n",
       "<style scoped>\n",
       "    .dataframe tbody tr th:only-of-type {\n",
       "        vertical-align: middle;\n",
       "    }\n",
       "\n",
       "    .dataframe tbody tr th {\n",
       "        vertical-align: top;\n",
       "    }\n",
       "\n",
       "    .dataframe thead th {\n",
       "        text-align: right;\n",
       "    }\n",
       "</style>\n",
       "<table border=\"1\" class=\"dataframe\">\n",
       "  <thead>\n",
       "    <tr style=\"text-align: right;\">\n",
       "      <th></th>\n",
       "      <th>GAME_ID</th>\n",
       "      <th>GAME_DATE</th>\n",
       "      <th>TEAM_ABBREVIATION</th>\n",
       "      <th>MATCHUP</th>\n",
       "      <th>WL</th>\n",
       "      <th>PTS</th>\n",
       "      <th>FGA</th>\n",
       "      <th>OREB</th>\n",
       "      <th>DREB</th>\n",
       "      <th>FGM</th>\n",
       "      <th>TOV</th>\n",
       "      <th>FTA</th>\n",
       "      <th>FG3M</th>\n",
       "      <th>PTS_QTR1</th>\n",
       "      <th>PTS_QTR2</th>\n",
       "      <th>PTS_QTR3</th>\n",
       "      <th>BLK</th>\n",
       "      <th>FG3A</th>\n",
       "      <th>AST</th>\n",
       "      <th>Spread</th>\n",
       "    </tr>\n",
       "  </thead>\n",
       "  <tbody>\n",
       "    <tr>\n",
       "      <th>0</th>\n",
       "      <td>21900526</td>\n",
       "      <td>2020-01-04</td>\n",
       "      <td>ATL</td>\n",
       "      <td>ATL vs. IND</td>\n",
       "      <td>W</td>\n",
       "      <td>116</td>\n",
       "      <td>82</td>\n",
       "      <td>4</td>\n",
       "      <td>36</td>\n",
       "      <td>42</td>\n",
       "      <td>13</td>\n",
       "      <td>24</td>\n",
       "      <td>10</td>\n",
       "      <td>43</td>\n",
       "      <td>21</td>\n",
       "      <td>32</td>\n",
       "      <td>4</td>\n",
       "      <td>32</td>\n",
       "      <td>22</td>\n",
       "      <td>7.5</td>\n",
       "    </tr>\n",
       "    <tr>\n",
       "      <th>1</th>\n",
       "      <td>21900517</td>\n",
       "      <td>2020-01-03</td>\n",
       "      <td>ATL</td>\n",
       "      <td>ATL @ BOS</td>\n",
       "      <td>L</td>\n",
       "      <td>106</td>\n",
       "      <td>93</td>\n",
       "      <td>6</td>\n",
       "      <td>36</td>\n",
       "      <td>39</td>\n",
       "      <td>14</td>\n",
       "      <td>15</td>\n",
       "      <td>16</td>\n",
       "      <td>32</td>\n",
       "      <td>23</td>\n",
       "      <td>25</td>\n",
       "      <td>5</td>\n",
       "      <td>45</td>\n",
       "      <td>26</td>\n",
       "      <td>10.5</td>\n",
       "    </tr>\n",
       "    <tr>\n",
       "      <th>2</th>\n",
       "      <td>21900491</td>\n",
       "      <td>2019-12-30</td>\n",
       "      <td>ATL</td>\n",
       "      <td>ATL @ ORL</td>\n",
       "      <td>W</td>\n",
       "      <td>101</td>\n",
       "      <td>81</td>\n",
       "      <td>11</td>\n",
       "      <td>41</td>\n",
       "      <td>39</td>\n",
       "      <td>20</td>\n",
       "      <td>17</td>\n",
       "      <td>9</td>\n",
       "      <td>25</td>\n",
       "      <td>22</td>\n",
       "      <td>27</td>\n",
       "      <td>4</td>\n",
       "      <td>29</td>\n",
       "      <td>21</td>\n",
       "      <td>10.5</td>\n",
       "    </tr>\n",
       "    <tr>\n",
       "      <th>3</th>\n",
       "      <td>21900477</td>\n",
       "      <td>2019-12-28</td>\n",
       "      <td>ATL</td>\n",
       "      <td>ATL @ CHI</td>\n",
       "      <td>L</td>\n",
       "      <td>81</td>\n",
       "      <td>86</td>\n",
       "      <td>9</td>\n",
       "      <td>30</td>\n",
       "      <td>32</td>\n",
       "      <td>19</td>\n",
       "      <td>11</td>\n",
       "      <td>9</td>\n",
       "      <td>19</td>\n",
       "      <td>24</td>\n",
       "      <td>22</td>\n",
       "      <td>5</td>\n",
       "      <td>34</td>\n",
       "      <td>24</td>\n",
       "      <td>9.5</td>\n",
       "    </tr>\n",
       "    <tr>\n",
       "      <th>4</th>\n",
       "      <td>21900469</td>\n",
       "      <td>2019-12-27</td>\n",
       "      <td>ATL</td>\n",
       "      <td>ATL vs. MIL</td>\n",
       "      <td>L</td>\n",
       "      <td>86</td>\n",
       "      <td>91</td>\n",
       "      <td>8</td>\n",
       "      <td>38</td>\n",
       "      <td>33</td>\n",
       "      <td>18</td>\n",
       "      <td>14</td>\n",
       "      <td>12</td>\n",
       "      <td>19</td>\n",
       "      <td>21</td>\n",
       "      <td>23</td>\n",
       "      <td>8</td>\n",
       "      <td>41</td>\n",
       "      <td>20</td>\n",
       "      <td>7.0</td>\n",
       "    </tr>\n",
       "  </tbody>\n",
       "</table>\n",
       "</div>"
      ],
      "text/plain": [
       "    GAME_ID   GAME_DATE TEAM_ABBREVIATION      MATCHUP WL  PTS  FGA  OREB  \\\n",
       "0  21900526  2020-01-04               ATL  ATL vs. IND  W  116   82     4   \n",
       "1  21900517  2020-01-03               ATL    ATL @ BOS  L  106   93     6   \n",
       "2  21900491  2019-12-30               ATL    ATL @ ORL  W  101   81    11   \n",
       "3  21900477  2019-12-28               ATL    ATL @ CHI  L   81   86     9   \n",
       "4  21900469  2019-12-27               ATL  ATL vs. MIL  L   86   91     8   \n",
       "\n",
       "   DREB  FGM  TOV  FTA  FG3M  PTS_QTR1  PTS_QTR2  PTS_QTR3  BLK  FG3A  AST  \\\n",
       "0    36   42   13   24    10        43        21        32    4    32   22   \n",
       "1    36   39   14   15    16        32        23        25    5    45   26   \n",
       "2    41   39   20   17     9        25        22        27    4    29   21   \n",
       "3    30   32   19   11     9        19        24        22    5    34   24   \n",
       "4    38   33   18   14    12        19        21        23    8    41   20   \n",
       "\n",
       "   Spread  \n",
       "0     7.5  \n",
       "1    10.5  \n",
       "2    10.5  \n",
       "3     9.5  \n",
       "4     7.0  "
      ]
     },
     "execution_count": 15,
     "metadata": {},
     "output_type": "execute_result"
    }
   ],
   "source": [
    "ess_vars.head()"
   ]
  },
  {
   "cell_type": "markdown",
   "metadata": {},
   "source": [
    "Reminder of the ultimate features needed."
   ]
  },
  {
   "cell_type": "code",
   "execution_count": 16,
   "metadata": {},
   "outputs": [
    {
     "data": {
      "text/plain": [
       "Index(['teamHome_A', 'gameBack_A', 'ptsAllow_A', 'teamPTS1_A', 'teamDrtg_A',\n",
       "       'team3PM_Diff_A', 'teamDRB_Diff_A', 'teamPTS1_Diff_A',\n",
       "       'teamPTS2_Diff_A', 'teamPTS3_Diff_A', 'teamBLKR_Diff_A',\n",
       "       'teamAST/TO_Diff_A', 'lastFiveWin%_B', 'teamDrtg_B', 'team3PM_Diff_B',\n",
       "       'teamPTS1_Diff_B', 'teamPTS3_Diff_B', 'teamBLKR_Diff_B',\n",
       "       'teamAST/TO_Diff_B', 'ptsAgnst_Diff', 'ptsScore_Diff', 'ptsAllow_Diff',\n",
       "       'spread_Diff', 'lastFiveWin%_Diff'],\n",
       "      dtype='object')"
      ]
     },
     "execution_count": 16,
     "metadata": {},
     "output_type": "execute_result"
    }
   ],
   "source": [
    "features.columns"
   ]
  },
  {
   "cell_type": "markdown",
   "metadata": {},
   "source": [
    "The most difficult ones to derive are probably the `gameBack` variable. So we'll start with that. This variable is really the number of games back a team is from the leader in their conference (in terms of team differential). The way to calculate this for a given team on a particular date is to find the greatest team differential (that is wins minus losses) on a given date in the appropriate conference then subtract the given team's differential from that and divide it by two. This results in each game being 'worth' 0.5 games."
   ]
  },
  {
   "cell_type": "markdown",
   "metadata": {},
   "source": [
    "So first, we'll get the total wins and losses for each team including the game currently being played on the given date."
   ]
  },
  {
   "cell_type": "markdown",
   "metadata": {},
   "source": [
    "Get wins and losses in numerical form for each game for each team."
   ]
  },
  {
   "cell_type": "code",
   "execution_count": 17,
   "metadata": {},
   "outputs": [],
   "source": [
    "ess_vars['W'] = ess_vars.WL.apply(lambda x: 1 if x == 'W' else 0)\n",
    "ess_vars['L'] = ess_vars.WL.apply(lambda x: 1 if x == 'L' else 0)"
   ]
  },
  {
   "cell_type": "markdown",
   "metadata": {},
   "source": [
    "Get total wins and losses for each team up to and including the game played on the game date as well as finding their team differential (wins minus losses)."
   ]
  },
  {
   "cell_type": "code",
   "execution_count": 18,
   "metadata": {},
   "outputs": [],
   "source": [
    "team_dfs = []\n",
    "for team in ess_vars.TEAM_ABBREVIATION.unique():\n",
    "    team_df = ess_vars[ess_vars.TEAM_ABBREVIATION==team].sort_values('GAME_DATE').copy()\n",
    "    team_df['W_TOTAL'] = team_df.W.cumsum()\n",
    "    team_df['L_TOTAL'] = team_df.L.cumsum()\n",
    "    team_df['TEAM_DIFFERENTIAL'] = team_df['W_TOTAL'] - team_df['L_TOTAL']\n",
    "    team_dfs.append(team_df)\n",
    "wl_vars = pd.concat(team_dfs)"
   ]
  },
  {
   "cell_type": "markdown",
   "metadata": {},
   "source": [
    "Create two new dataframes with every date between October 22, 2019 (start of season) and Jan 5, 2020 (when data was collected) - one for Eastern teams and one for Western teams."
   ]
  },
  {
   "cell_type": "code",
   "execution_count": 19,
   "metadata": {},
   "outputs": [],
   "source": [
    "dates_df_E = pd.DataFrame(pd.date_range(start='2019-10-22', end='2020-01-05'), columns=['GAME_DATE'])\n",
    "dates_df_W = pd.DataFrame(pd.date_range(start='2019-10-22', end='2020-01-05'), columns=['GAME_DATE'])"
   ]
  },
  {
   "cell_type": "markdown",
   "metadata": {},
   "source": [
    "Change `wl_vars` `GAME_DATE` variable to datetime64."
   ]
  },
  {
   "cell_type": "code",
   "execution_count": 20,
   "metadata": {},
   "outputs": [],
   "source": [
    "wl_vars['GAME_DATE'] = wl_vars.GAME_DATE.astype('datetime64')"
   ]
  },
  {
   "cell_type": "markdown",
   "metadata": {},
   "source": [
    "Seperate Eastern and Western teams."
   ]
  },
  {
   "cell_type": "code",
   "execution_count": 21,
   "metadata": {},
   "outputs": [],
   "source": [
    "east_teams = ['ATL', 'BOS', 'CLE', 'CHI', 'MIA', 'MIL', 'BKN', 'NYK', 'ORL', 'IND', 'PHI', 'TOR', 'WAS', 'DET', 'CHA']\n",
    "west_teams = ['NOP', 'DAL', 'DEN', 'GSW', 'HOU', 'LAC', 'LAL', 'MIN', 'PHX', 'POR', 'SAC', 'SAS', 'OKC', 'UTA', 'MEM']"
   ]
  },
  {
   "cell_type": "markdown",
   "metadata": {},
   "source": [
    "Make function to easily convert both `dates_df_E` and `dates_df_W` to format needed."
   ]
  },
  {
   "cell_type": "code",
   "execution_count": 22,
   "metadata": {},
   "outputs": [],
   "source": [
    "def make_teamDifferential_df(team_list, dates_df):\n",
    "    for team in team_list:\n",
    "        sing_team_diff = wl_vars[wl_vars.TEAM_ABBREVIATION==team][['GAME_DATE','TEAM_DIFFERENTIAL']].rename(columns={'TEAM_DIFFERENTIAL':team})\n",
    "        dates_df = dates_df.merge(sing_team_diff, how='left', on='GAME_DATE').ffill().fillna(0)\n",
    "    dates_df['MAX_DIFF'] = dates_df.iloc[:, 1:].max(axis=1) \n",
    "    return dates_df"
   ]
  },
  {
   "cell_type": "markdown",
   "metadata": {},
   "source": [
    "Call the function to create the two dataframes."
   ]
  },
  {
   "cell_type": "code",
   "execution_count": 23,
   "metadata": {},
   "outputs": [],
   "source": [
    "dates_df_E = make_teamDifferential_df(east_teams, dates_df_E)\n",
    "dates_df_W = make_teamDifferential_df(west_teams, dates_df_W)"
   ]
  },
  {
   "cell_type": "markdown",
   "metadata": {},
   "source": [
    "There are now two dataframes with team differential data for every day with the relevant Eastern and Western teams as well as the highest differential for the day (best team according to differential). An idea of what that looks like can be seen below."
   ]
  },
  {
   "cell_type": "code",
   "execution_count": 24,
   "metadata": {},
   "outputs": [
    {
     "data": {
      "text/html": [
       "<div>\n",
       "<style scoped>\n",
       "    .dataframe tbody tr th:only-of-type {\n",
       "        vertical-align: middle;\n",
       "    }\n",
       "\n",
       "    .dataframe tbody tr th {\n",
       "        vertical-align: top;\n",
       "    }\n",
       "\n",
       "    .dataframe thead th {\n",
       "        text-align: right;\n",
       "    }\n",
       "</style>\n",
       "<table border=\"1\" class=\"dataframe\">\n",
       "  <thead>\n",
       "    <tr style=\"text-align: right;\">\n",
       "      <th></th>\n",
       "      <th>GAME_DATE</th>\n",
       "      <th>ATL</th>\n",
       "      <th>BOS</th>\n",
       "      <th>CLE</th>\n",
       "      <th>CHI</th>\n",
       "      <th>MIA</th>\n",
       "      <th>MIL</th>\n",
       "      <th>BKN</th>\n",
       "      <th>NYK</th>\n",
       "      <th>ORL</th>\n",
       "      <th>IND</th>\n",
       "      <th>PHI</th>\n",
       "      <th>TOR</th>\n",
       "      <th>WAS</th>\n",
       "      <th>DET</th>\n",
       "      <th>CHA</th>\n",
       "      <th>MAX_DIFF</th>\n",
       "    </tr>\n",
       "  </thead>\n",
       "  <tbody>\n",
       "    <tr>\n",
       "      <th>0</th>\n",
       "      <td>2019-10-22</td>\n",
       "      <td>0.0</td>\n",
       "      <td>0.0</td>\n",
       "      <td>0.0</td>\n",
       "      <td>0.0</td>\n",
       "      <td>0.0</td>\n",
       "      <td>0.0</td>\n",
       "      <td>0.0</td>\n",
       "      <td>0.0</td>\n",
       "      <td>0.0</td>\n",
       "      <td>0.0</td>\n",
       "      <td>0.0</td>\n",
       "      <td>1.0</td>\n",
       "      <td>0.0</td>\n",
       "      <td>0.0</td>\n",
       "      <td>0.0</td>\n",
       "      <td>1.0</td>\n",
       "    </tr>\n",
       "    <tr>\n",
       "      <th>1</th>\n",
       "      <td>2019-10-23</td>\n",
       "      <td>0.0</td>\n",
       "      <td>-1.0</td>\n",
       "      <td>-1.0</td>\n",
       "      <td>-1.0</td>\n",
       "      <td>1.0</td>\n",
       "      <td>0.0</td>\n",
       "      <td>-1.0</td>\n",
       "      <td>-1.0</td>\n",
       "      <td>1.0</td>\n",
       "      <td>-1.0</td>\n",
       "      <td>1.0</td>\n",
       "      <td>1.0</td>\n",
       "      <td>-1.0</td>\n",
       "      <td>1.0</td>\n",
       "      <td>1.0</td>\n",
       "      <td>1.0</td>\n",
       "    </tr>\n",
       "    <tr>\n",
       "      <th>2</th>\n",
       "      <td>2019-10-24</td>\n",
       "      <td>1.0</td>\n",
       "      <td>-1.0</td>\n",
       "      <td>-1.0</td>\n",
       "      <td>-1.0</td>\n",
       "      <td>1.0</td>\n",
       "      <td>1.0</td>\n",
       "      <td>-1.0</td>\n",
       "      <td>-1.0</td>\n",
       "      <td>1.0</td>\n",
       "      <td>-1.0</td>\n",
       "      <td>1.0</td>\n",
       "      <td>1.0</td>\n",
       "      <td>-1.0</td>\n",
       "      <td>0.0</td>\n",
       "      <td>1.0</td>\n",
       "      <td>1.0</td>\n",
       "    </tr>\n",
       "    <tr>\n",
       "      <th>3</th>\n",
       "      <td>2019-10-25</td>\n",
       "      <td>1.0</td>\n",
       "      <td>0.0</td>\n",
       "      <td>-1.0</td>\n",
       "      <td>0.0</td>\n",
       "      <td>1.0</td>\n",
       "      <td>1.0</td>\n",
       "      <td>0.0</td>\n",
       "      <td>-2.0</td>\n",
       "      <td>1.0</td>\n",
       "      <td>-1.0</td>\n",
       "      <td>1.0</td>\n",
       "      <td>0.0</td>\n",
       "      <td>0.0</td>\n",
       "      <td>0.0</td>\n",
       "      <td>0.0</td>\n",
       "      <td>1.0</td>\n",
       "    </tr>\n",
       "    <tr>\n",
       "      <th>4</th>\n",
       "      <td>2019-10-26</td>\n",
       "      <td>2.0</td>\n",
       "      <td>1.0</td>\n",
       "      <td>0.0</td>\n",
       "      <td>-1.0</td>\n",
       "      <td>2.0</td>\n",
       "      <td>0.0</td>\n",
       "      <td>0.0</td>\n",
       "      <td>-3.0</td>\n",
       "      <td>0.0</td>\n",
       "      <td>-2.0</td>\n",
       "      <td>2.0</td>\n",
       "      <td>1.0</td>\n",
       "      <td>-1.0</td>\n",
       "      <td>-1.0</td>\n",
       "      <td>0.0</td>\n",
       "      <td>2.0</td>\n",
       "    </tr>\n",
       "  </tbody>\n",
       "</table>\n",
       "</div>"
      ],
      "text/plain": [
       "   GAME_DATE  ATL  BOS  CLE  CHI  MIA  MIL  BKN  NYK  ORL  IND  PHI  TOR  WAS  \\\n",
       "0 2019-10-22  0.0  0.0  0.0  0.0  0.0  0.0  0.0  0.0  0.0  0.0  0.0  1.0  0.0   \n",
       "1 2019-10-23  0.0 -1.0 -1.0 -1.0  1.0  0.0 -1.0 -1.0  1.0 -1.0  1.0  1.0 -1.0   \n",
       "2 2019-10-24  1.0 -1.0 -1.0 -1.0  1.0  1.0 -1.0 -1.0  1.0 -1.0  1.0  1.0 -1.0   \n",
       "3 2019-10-25  1.0  0.0 -1.0  0.0  1.0  1.0  0.0 -2.0  1.0 -1.0  1.0  0.0  0.0   \n",
       "4 2019-10-26  2.0  1.0  0.0 -1.0  2.0  0.0  0.0 -3.0  0.0 -2.0  2.0  1.0 -1.0   \n",
       "\n",
       "   DET  CHA  MAX_DIFF  \n",
       "0  0.0  0.0       1.0  \n",
       "1  1.0  1.0       1.0  \n",
       "2  0.0  1.0       1.0  \n",
       "3  0.0  0.0       1.0  \n",
       "4 -1.0  0.0       2.0  "
      ]
     },
     "execution_count": 24,
     "metadata": {},
     "output_type": "execute_result"
    }
   ],
   "source": [
    "dates_df_E.head()"
   ]
  },
  {
   "cell_type": "markdown",
   "metadata": {},
   "source": [
    "Create another function to create a games behind dataframe easily able to merge with `wl_vars` dataframe."
   ]
  },
  {
   "cell_type": "code",
   "execution_count": 25,
   "metadata": {},
   "outputs": [],
   "source": [
    "def make_games_back_df(team_list, dates_df):\n",
    "    dates_gb_dfs = []\n",
    "    for team in team_list:\n",
    "        dates_gb = pd.DataFrame(dates_df['GAME_DATE'])\n",
    "        dates_gb['TEAM_ABBREVIATION'] = team\n",
    "        dates_gb['GAMES_BACK'] = (dates_df[[team,'MAX_DIFF']].MAX_DIFF - dates_df[[team,'MAX_DIFF']][team]) / 2\n",
    "        dates_gb_dfs.append(dates_gb)\n",
    "    gameback_df = pd.concat(dates_gb_dfs)\n",
    "    return gameback_df"
   ]
  },
  {
   "cell_type": "markdown",
   "metadata": {},
   "source": [
    "Call that function on the Eastern and Western data."
   ]
  },
  {
   "cell_type": "code",
   "execution_count": 26,
   "metadata": {},
   "outputs": [],
   "source": [
    "gameback_df_E = make_games_back_df(east_teams, dates_df_E)\n",
    "gameback_df_W = make_games_back_df(west_teams, dates_df_W)"
   ]
  },
  {
   "cell_type": "markdown",
   "metadata": {},
   "source": [
    "Put all the data together now."
   ]
  },
  {
   "cell_type": "code",
   "execution_count": 27,
   "metadata": {},
   "outputs": [],
   "source": [
    "gameback_df_EW = pd.concat([gameback_df_E, gameback_df_W])"
   ]
  },
  {
   "cell_type": "markdown",
   "metadata": {},
   "source": [
    "What we now have is a dataframe that can be easily be inner merged with the `wl_vars` dataframe completing the creation of this variable."
   ]
  },
  {
   "cell_type": "code",
   "execution_count": 28,
   "metadata": {},
   "outputs": [
    {
     "data": {
      "text/html": [
       "<div>\n",
       "<style scoped>\n",
       "    .dataframe tbody tr th:only-of-type {\n",
       "        vertical-align: middle;\n",
       "    }\n",
       "\n",
       "    .dataframe tbody tr th {\n",
       "        vertical-align: top;\n",
       "    }\n",
       "\n",
       "    .dataframe thead th {\n",
       "        text-align: right;\n",
       "    }\n",
       "</style>\n",
       "<table border=\"1\" class=\"dataframe\">\n",
       "  <thead>\n",
       "    <tr style=\"text-align: right;\">\n",
       "      <th></th>\n",
       "      <th>GAME_DATE</th>\n",
       "      <th>TEAM_ABBREVIATION</th>\n",
       "      <th>GAMES_BACK</th>\n",
       "    </tr>\n",
       "  </thead>\n",
       "  <tbody>\n",
       "    <tr>\n",
       "      <th>0</th>\n",
       "      <td>2019-10-22</td>\n",
       "      <td>ATL</td>\n",
       "      <td>0.5</td>\n",
       "    </tr>\n",
       "    <tr>\n",
       "      <th>1</th>\n",
       "      <td>2019-10-23</td>\n",
       "      <td>ATL</td>\n",
       "      <td>0.5</td>\n",
       "    </tr>\n",
       "    <tr>\n",
       "      <th>2</th>\n",
       "      <td>2019-10-24</td>\n",
       "      <td>ATL</td>\n",
       "      <td>0.0</td>\n",
       "    </tr>\n",
       "    <tr>\n",
       "      <th>3</th>\n",
       "      <td>2019-10-25</td>\n",
       "      <td>ATL</td>\n",
       "      <td>0.0</td>\n",
       "    </tr>\n",
       "    <tr>\n",
       "      <th>4</th>\n",
       "      <td>2019-10-26</td>\n",
       "      <td>ATL</td>\n",
       "      <td>0.0</td>\n",
       "    </tr>\n",
       "  </tbody>\n",
       "</table>\n",
       "</div>"
      ],
      "text/plain": [
       "   GAME_DATE TEAM_ABBREVIATION  GAMES_BACK\n",
       "0 2019-10-22               ATL         0.5\n",
       "1 2019-10-23               ATL         0.5\n",
       "2 2019-10-24               ATL         0.0\n",
       "3 2019-10-25               ATL         0.0\n",
       "4 2019-10-26               ATL         0.0"
      ]
     },
     "execution_count": 28,
     "metadata": {},
     "output_type": "execute_result"
    }
   ],
   "source": [
    "gameback_df_EW.head()"
   ]
  },
  {
   "cell_type": "markdown",
   "metadata": {},
   "source": [
    "Add the variable to the dataset."
   ]
  },
  {
   "cell_type": "code",
   "execution_count": 29,
   "metadata": {},
   "outputs": [],
   "source": [
    "gb_vars = wl_vars.merge(gameback_df_EW).copy()"
   ]
  },
  {
   "cell_type": "markdown",
   "metadata": {},
   "source": [
    "Let's start by creating some other statistics needed:\n",
    "1. `POSS` or possessions in order to calculate the defensive rating\n",
    "2. `FG2PA` or two point field goal attempts in order to calculate block rate\n",
    "3. `AST/TO` or assist to turnover ratio (one of the needed variables)"
   ]
  },
  {
   "cell_type": "code",
   "execution_count": 30,
   "metadata": {},
   "outputs": [],
   "source": [
    "gb_vars['POSS'] = gb_vars.FGA - gb_vars.OREB / (gb_vars.OREB + gb_vars.DREB) * (gb_vars.FGA - gb_vars.FGM) * 1.07 + gb_vars.TOV + (.4 * gb_vars.FTA)\n",
    "gb_vars['FG2PA'] = gb_vars.FGA - gb_vars.FG3A\n",
    "gb_vars['AST/TOV'] = gb_vars.AST / gb_vars.TOV"
   ]
  },
  {
   "cell_type": "markdown",
   "metadata": {},
   "source": [
    "Next, add a home indicator."
   ]
  },
  {
   "cell_type": "code",
   "execution_count": 31,
   "metadata": {},
   "outputs": [],
   "source": [
    "gb_vars['TEAM_HOME'] = gb_vars.MATCHUP.apply(lambda x: 1 if x.split()[1] =='vs.' else 0)"
   ]
  },
  {
   "cell_type": "markdown",
   "metadata": {},
   "source": [
    "Get average points scored up to that point of the season for each team. "
   ]
  },
  {
   "cell_type": "code",
   "execution_count": 32,
   "metadata": {},
   "outputs": [],
   "source": [
    "temp_dfs = []\n",
    "for team in gb_vars.TEAM_ABBREVIATION.unique():\n",
    "    temp_df = gb_vars[gb_vars.TEAM_ABBREVIATION==team].sort_values('GAME_DATE')\n",
    "    temp_df['GAME_PLAYED'] = temp_df.TEAM_ABBREVIATION.apply(lambda x: 1 if x else 0).cumsum()\n",
    "    temp_df['ACCUM_PTS'] = temp_df.PTS.cumsum()\n",
    "    temp_df['AVG_PTS'] = temp_df.ACCUM_PTS / temp_df.GAME_PLAYED\n",
    "    temp_dfs.append(temp_df)\n",
    "ap_vars = pd.concat(temp_dfs)"
   ]
  },
  {
   "cell_type": "markdown",
   "metadata": {},
   "source": [
    "Get the rolling sum for the last 5 games for each team and the last five games win %."
   ]
  },
  {
   "cell_type": "code",
   "execution_count": 33,
   "metadata": {},
   "outputs": [],
   "source": [
    "temp_dfs = []\n",
    "for team in ap_vars.TEAM_ABBREVIATION.unique():\n",
    "    temp_df = ap_vars[ap_vars.TEAM_ABBREVIATION==team].sort_values('GAME_DATE')\n",
    "    temp_df['LAST_FIVE_W'] = temp_df.W.rolling(5, min_periods=0).sum()\n",
    "    temp_df['LAST_FIVE_W_PCT'] = temp_df.LAST_FIVE_W / 5\n",
    "    temp_dfs.append(temp_df)\n",
    "lf_vars = pd.concat(temp_dfs)"
   ]
  },
  {
   "cell_type": "markdown",
   "metadata": {},
   "source": [
    "Next, there are certain variables that require adversarial data in order to be created: points allowed, defensive rating, block rate, and points against."
   ]
  },
  {
   "cell_type": "code",
   "execution_count": 34,
   "metadata": {},
   "outputs": [],
   "source": [
    "joined_data = pd.merge(lf_vars, lf_vars, on=['GAME_ID', 'GAME_DATE'], suffixes=('_A', '_B'))\n",
    "vs_data = joined_data[joined_data.TEAM_ABBREVIATION_A != joined_data.TEAM_ABBREVIATION_B].copy()"
   ]
  },
  {
   "cell_type": "code",
   "execution_count": 35,
   "metadata": {},
   "outputs": [
    {
     "data": {
      "text/html": [
       "<div>\n",
       "<style scoped>\n",
       "    .dataframe tbody tr th:only-of-type {\n",
       "        vertical-align: middle;\n",
       "    }\n",
       "\n",
       "    .dataframe tbody tr th {\n",
       "        vertical-align: top;\n",
       "    }\n",
       "\n",
       "    .dataframe thead th {\n",
       "        text-align: right;\n",
       "    }\n",
       "</style>\n",
       "<table border=\"1\" class=\"dataframe\">\n",
       "  <thead>\n",
       "    <tr style=\"text-align: right;\">\n",
       "      <th></th>\n",
       "      <th>GAME_ID</th>\n",
       "      <th>GAME_DATE</th>\n",
       "      <th>TEAM_ABBREVIATION_A</th>\n",
       "      <th>MATCHUP_A</th>\n",
       "      <th>WL_A</th>\n",
       "      <th>PTS_A</th>\n",
       "      <th>FGA_A</th>\n",
       "      <th>OREB_A</th>\n",
       "      <th>DREB_A</th>\n",
       "      <th>FGM_A</th>\n",
       "      <th>TOV_A</th>\n",
       "      <th>FTA_A</th>\n",
       "      <th>FG3M_A</th>\n",
       "      <th>PTS_QTR1_A</th>\n",
       "      <th>PTS_QTR2_A</th>\n",
       "      <th>PTS_QTR3_A</th>\n",
       "      <th>BLK_A</th>\n",
       "      <th>FG3A_A</th>\n",
       "      <th>AST_A</th>\n",
       "      <th>Spread_A</th>\n",
       "      <th>W_A</th>\n",
       "      <th>L_A</th>\n",
       "      <th>W_TOTAL_A</th>\n",
       "      <th>L_TOTAL_A</th>\n",
       "      <th>TEAM_DIFFERENTIAL_A</th>\n",
       "      <th>GAMES_BACK_A</th>\n",
       "      <th>POSS_A</th>\n",
       "      <th>FG2PA_A</th>\n",
       "      <th>AST/TOV_A</th>\n",
       "      <th>TEAM_HOME_A</th>\n",
       "      <th>GAME_PLAYED_A</th>\n",
       "      <th>ACCUM_PTS_A</th>\n",
       "      <th>AVG_PTS_A</th>\n",
       "      <th>LAST_FIVE_W_A</th>\n",
       "      <th>LAST_FIVE_W_PCT_A</th>\n",
       "      <th>TEAM_ABBREVIATION_B</th>\n",
       "      <th>MATCHUP_B</th>\n",
       "      <th>WL_B</th>\n",
       "      <th>PTS_B</th>\n",
       "      <th>FGA_B</th>\n",
       "      <th>OREB_B</th>\n",
       "      <th>DREB_B</th>\n",
       "      <th>FGM_B</th>\n",
       "      <th>TOV_B</th>\n",
       "      <th>FTA_B</th>\n",
       "      <th>FG3M_B</th>\n",
       "      <th>PTS_QTR1_B</th>\n",
       "      <th>PTS_QTR2_B</th>\n",
       "      <th>PTS_QTR3_B</th>\n",
       "      <th>BLK_B</th>\n",
       "      <th>FG3A_B</th>\n",
       "      <th>AST_B</th>\n",
       "      <th>Spread_B</th>\n",
       "      <th>W_B</th>\n",
       "      <th>L_B</th>\n",
       "      <th>W_TOTAL_B</th>\n",
       "      <th>L_TOTAL_B</th>\n",
       "      <th>TEAM_DIFFERENTIAL_B</th>\n",
       "      <th>GAMES_BACK_B</th>\n",
       "      <th>POSS_B</th>\n",
       "      <th>FG2PA_B</th>\n",
       "      <th>AST/TOV_B</th>\n",
       "      <th>TEAM_HOME_B</th>\n",
       "      <th>GAME_PLAYED_B</th>\n",
       "      <th>ACCUM_PTS_B</th>\n",
       "      <th>AVG_PTS_B</th>\n",
       "      <th>LAST_FIVE_W_B</th>\n",
       "      <th>LAST_FIVE_W_PCT_B</th>\n",
       "    </tr>\n",
       "  </thead>\n",
       "  <tbody>\n",
       "    <tr>\n",
       "      <th>1</th>\n",
       "      <td>21900014</td>\n",
       "      <td>2019-10-24</td>\n",
       "      <td>ATL</td>\n",
       "      <td>ATL @ DET</td>\n",
       "      <td>W</td>\n",
       "      <td>117</td>\n",
       "      <td>86</td>\n",
       "      <td>8</td>\n",
       "      <td>34</td>\n",
       "      <td>44</td>\n",
       "      <td>13</td>\n",
       "      <td>21</td>\n",
       "      <td>11</td>\n",
       "      <td>38</td>\n",
       "      <td>22</td>\n",
       "      <td>31</td>\n",
       "      <td>2</td>\n",
       "      <td>31</td>\n",
       "      <td>27</td>\n",
       "      <td>1.5</td>\n",
       "      <td>1</td>\n",
       "      <td>0</td>\n",
       "      <td>1</td>\n",
       "      <td>0</td>\n",
       "      <td>1</td>\n",
       "      <td>0.0</td>\n",
       "      <td>98.840000</td>\n",
       "      <td>55</td>\n",
       "      <td>2.076923</td>\n",
       "      <td>0</td>\n",
       "      <td>1</td>\n",
       "      <td>117</td>\n",
       "      <td>117.000000</td>\n",
       "      <td>1.0</td>\n",
       "      <td>0.2</td>\n",
       "      <td>DET</td>\n",
       "      <td>DET vs. ATL</td>\n",
       "      <td>L</td>\n",
       "      <td>100</td>\n",
       "      <td>85</td>\n",
       "      <td>9</td>\n",
       "      <td>30</td>\n",
       "      <td>35</td>\n",
       "      <td>13</td>\n",
       "      <td>22</td>\n",
       "      <td>10</td>\n",
       "      <td>32</td>\n",
       "      <td>31</td>\n",
       "      <td>18</td>\n",
       "      <td>5</td>\n",
       "      <td>37</td>\n",
       "      <td>20</td>\n",
       "      <td>-1.5</td>\n",
       "      <td>0</td>\n",
       "      <td>1</td>\n",
       "      <td>1</td>\n",
       "      <td>1</td>\n",
       "      <td>0</td>\n",
       "      <td>0.5</td>\n",
       "      <td>94.453846</td>\n",
       "      <td>48</td>\n",
       "      <td>1.538462</td>\n",
       "      <td>1</td>\n",
       "      <td>2</td>\n",
       "      <td>219</td>\n",
       "      <td>109.500000</td>\n",
       "      <td>1.0</td>\n",
       "      <td>0.2</td>\n",
       "    </tr>\n",
       "    <tr>\n",
       "      <th>2</th>\n",
       "      <td>21900014</td>\n",
       "      <td>2019-10-24</td>\n",
       "      <td>DET</td>\n",
       "      <td>DET vs. ATL</td>\n",
       "      <td>L</td>\n",
       "      <td>100</td>\n",
       "      <td>85</td>\n",
       "      <td>9</td>\n",
       "      <td>30</td>\n",
       "      <td>35</td>\n",
       "      <td>13</td>\n",
       "      <td>22</td>\n",
       "      <td>10</td>\n",
       "      <td>32</td>\n",
       "      <td>31</td>\n",
       "      <td>18</td>\n",
       "      <td>5</td>\n",
       "      <td>37</td>\n",
       "      <td>20</td>\n",
       "      <td>-1.5</td>\n",
       "      <td>0</td>\n",
       "      <td>1</td>\n",
       "      <td>1</td>\n",
       "      <td>1</td>\n",
       "      <td>0</td>\n",
       "      <td>0.5</td>\n",
       "      <td>94.453846</td>\n",
       "      <td>48</td>\n",
       "      <td>1.538462</td>\n",
       "      <td>1</td>\n",
       "      <td>2</td>\n",
       "      <td>219</td>\n",
       "      <td>109.500000</td>\n",
       "      <td>1.0</td>\n",
       "      <td>0.2</td>\n",
       "      <td>ATL</td>\n",
       "      <td>ATL @ DET</td>\n",
       "      <td>W</td>\n",
       "      <td>117</td>\n",
       "      <td>86</td>\n",
       "      <td>8</td>\n",
       "      <td>34</td>\n",
       "      <td>44</td>\n",
       "      <td>13</td>\n",
       "      <td>21</td>\n",
       "      <td>11</td>\n",
       "      <td>38</td>\n",
       "      <td>22</td>\n",
       "      <td>31</td>\n",
       "      <td>2</td>\n",
       "      <td>31</td>\n",
       "      <td>27</td>\n",
       "      <td>1.5</td>\n",
       "      <td>1</td>\n",
       "      <td>0</td>\n",
       "      <td>1</td>\n",
       "      <td>0</td>\n",
       "      <td>1</td>\n",
       "      <td>0.0</td>\n",
       "      <td>98.840000</td>\n",
       "      <td>55</td>\n",
       "      <td>2.076923</td>\n",
       "      <td>0</td>\n",
       "      <td>1</td>\n",
       "      <td>117</td>\n",
       "      <td>117.000000</td>\n",
       "      <td>1.0</td>\n",
       "      <td>0.2</td>\n",
       "    </tr>\n",
       "    <tr>\n",
       "      <th>5</th>\n",
       "      <td>21900028</td>\n",
       "      <td>2019-10-26</td>\n",
       "      <td>ATL</td>\n",
       "      <td>ATL vs. ORL</td>\n",
       "      <td>W</td>\n",
       "      <td>103</td>\n",
       "      <td>84</td>\n",
       "      <td>9</td>\n",
       "      <td>43</td>\n",
       "      <td>43</td>\n",
       "      <td>18</td>\n",
       "      <td>15</td>\n",
       "      <td>9</td>\n",
       "      <td>23</td>\n",
       "      <td>29</td>\n",
       "      <td>25</td>\n",
       "      <td>9</td>\n",
       "      <td>30</td>\n",
       "      <td>22</td>\n",
       "      <td>2.5</td>\n",
       "      <td>1</td>\n",
       "      <td>0</td>\n",
       "      <td>2</td>\n",
       "      <td>0</td>\n",
       "      <td>2</td>\n",
       "      <td>0.0</td>\n",
       "      <td>100.407115</td>\n",
       "      <td>54</td>\n",
       "      <td>1.222222</td>\n",
       "      <td>1</td>\n",
       "      <td>2</td>\n",
       "      <td>220</td>\n",
       "      <td>110.000000</td>\n",
       "      <td>2.0</td>\n",
       "      <td>0.4</td>\n",
       "      <td>ORL</td>\n",
       "      <td>ORL @ ATL</td>\n",
       "      <td>L</td>\n",
       "      <td>99</td>\n",
       "      <td>99</td>\n",
       "      <td>17</td>\n",
       "      <td>29</td>\n",
       "      <td>35</td>\n",
       "      <td>10</td>\n",
       "      <td>26</td>\n",
       "      <td>5</td>\n",
       "      <td>26</td>\n",
       "      <td>24</td>\n",
       "      <td>25</td>\n",
       "      <td>7</td>\n",
       "      <td>31</td>\n",
       "      <td>15</td>\n",
       "      <td>-2.5</td>\n",
       "      <td>0</td>\n",
       "      <td>1</td>\n",
       "      <td>1</td>\n",
       "      <td>1</td>\n",
       "      <td>0</td>\n",
       "      <td>1.0</td>\n",
       "      <td>94.092174</td>\n",
       "      <td>68</td>\n",
       "      <td>1.500000</td>\n",
       "      <td>0</td>\n",
       "      <td>2</td>\n",
       "      <td>193</td>\n",
       "      <td>96.500000</td>\n",
       "      <td>1.0</td>\n",
       "      <td>0.2</td>\n",
       "    </tr>\n",
       "    <tr>\n",
       "      <th>6</th>\n",
       "      <td>21900028</td>\n",
       "      <td>2019-10-26</td>\n",
       "      <td>ORL</td>\n",
       "      <td>ORL @ ATL</td>\n",
       "      <td>L</td>\n",
       "      <td>99</td>\n",
       "      <td>99</td>\n",
       "      <td>17</td>\n",
       "      <td>29</td>\n",
       "      <td>35</td>\n",
       "      <td>10</td>\n",
       "      <td>26</td>\n",
       "      <td>5</td>\n",
       "      <td>26</td>\n",
       "      <td>24</td>\n",
       "      <td>25</td>\n",
       "      <td>7</td>\n",
       "      <td>31</td>\n",
       "      <td>15</td>\n",
       "      <td>-2.5</td>\n",
       "      <td>0</td>\n",
       "      <td>1</td>\n",
       "      <td>1</td>\n",
       "      <td>1</td>\n",
       "      <td>0</td>\n",
       "      <td>1.0</td>\n",
       "      <td>94.092174</td>\n",
       "      <td>68</td>\n",
       "      <td>1.500000</td>\n",
       "      <td>0</td>\n",
       "      <td>2</td>\n",
       "      <td>193</td>\n",
       "      <td>96.500000</td>\n",
       "      <td>1.0</td>\n",
       "      <td>0.2</td>\n",
       "      <td>ATL</td>\n",
       "      <td>ATL vs. ORL</td>\n",
       "      <td>W</td>\n",
       "      <td>103</td>\n",
       "      <td>84</td>\n",
       "      <td>9</td>\n",
       "      <td>43</td>\n",
       "      <td>43</td>\n",
       "      <td>18</td>\n",
       "      <td>15</td>\n",
       "      <td>9</td>\n",
       "      <td>23</td>\n",
       "      <td>29</td>\n",
       "      <td>25</td>\n",
       "      <td>9</td>\n",
       "      <td>30</td>\n",
       "      <td>22</td>\n",
       "      <td>2.5</td>\n",
       "      <td>1</td>\n",
       "      <td>0</td>\n",
       "      <td>2</td>\n",
       "      <td>0</td>\n",
       "      <td>2</td>\n",
       "      <td>0.0</td>\n",
       "      <td>100.407115</td>\n",
       "      <td>54</td>\n",
       "      <td>1.222222</td>\n",
       "      <td>1</td>\n",
       "      <td>2</td>\n",
       "      <td>220</td>\n",
       "      <td>110.000000</td>\n",
       "      <td>2.0</td>\n",
       "      <td>0.4</td>\n",
       "    </tr>\n",
       "    <tr>\n",
       "      <th>9</th>\n",
       "      <td>21900043</td>\n",
       "      <td>2019-10-28</td>\n",
       "      <td>ATL</td>\n",
       "      <td>ATL vs. PHI</td>\n",
       "      <td>L</td>\n",
       "      <td>103</td>\n",
       "      <td>84</td>\n",
       "      <td>8</td>\n",
       "      <td>37</td>\n",
       "      <td>36</td>\n",
       "      <td>21</td>\n",
       "      <td>32</td>\n",
       "      <td>9</td>\n",
       "      <td>40</td>\n",
       "      <td>25</td>\n",
       "      <td>18</td>\n",
       "      <td>3</td>\n",
       "      <td>27</td>\n",
       "      <td>23</td>\n",
       "      <td>6.5</td>\n",
       "      <td>0</td>\n",
       "      <td>1</td>\n",
       "      <td>2</td>\n",
       "      <td>1</td>\n",
       "      <td>1</td>\n",
       "      <td>1.0</td>\n",
       "      <td>108.669333</td>\n",
       "      <td>57</td>\n",
       "      <td>1.095238</td>\n",
       "      <td>1</td>\n",
       "      <td>3</td>\n",
       "      <td>323</td>\n",
       "      <td>107.666667</td>\n",
       "      <td>2.0</td>\n",
       "      <td>0.4</td>\n",
       "      <td>PHI</td>\n",
       "      <td>PHI @ ATL</td>\n",
       "      <td>W</td>\n",
       "      <td>105</td>\n",
       "      <td>88</td>\n",
       "      <td>12</td>\n",
       "      <td>37</td>\n",
       "      <td>37</td>\n",
       "      <td>21</td>\n",
       "      <td>25</td>\n",
       "      <td>11</td>\n",
       "      <td>31</td>\n",
       "      <td>32</td>\n",
       "      <td>19</td>\n",
       "      <td>11</td>\n",
       "      <td>41</td>\n",
       "      <td>22</td>\n",
       "      <td>-6.5</td>\n",
       "      <td>1</td>\n",
       "      <td>0</td>\n",
       "      <td>3</td>\n",
       "      <td>0</td>\n",
       "      <td>3</td>\n",
       "      <td>0.0</td>\n",
       "      <td>105.635918</td>\n",
       "      <td>47</td>\n",
       "      <td>1.047619</td>\n",
       "      <td>0</td>\n",
       "      <td>3</td>\n",
       "      <td>329</td>\n",
       "      <td>109.666667</td>\n",
       "      <td>3.0</td>\n",
       "      <td>0.6</td>\n",
       "    </tr>\n",
       "  </tbody>\n",
       "</table>\n",
       "</div>"
      ],
      "text/plain": [
       "    GAME_ID  GAME_DATE TEAM_ABBREVIATION_A    MATCHUP_A WL_A  PTS_A  FGA_A  \\\n",
       "1  21900014 2019-10-24                 ATL    ATL @ DET    W    117     86   \n",
       "2  21900014 2019-10-24                 DET  DET vs. ATL    L    100     85   \n",
       "5  21900028 2019-10-26                 ATL  ATL vs. ORL    W    103     84   \n",
       "6  21900028 2019-10-26                 ORL    ORL @ ATL    L     99     99   \n",
       "9  21900043 2019-10-28                 ATL  ATL vs. PHI    L    103     84   \n",
       "\n",
       "   OREB_A  DREB_A  FGM_A  TOV_A  FTA_A  FG3M_A  PTS_QTR1_A  PTS_QTR2_A  \\\n",
       "1       8      34     44     13     21      11          38          22   \n",
       "2       9      30     35     13     22      10          32          31   \n",
       "5       9      43     43     18     15       9          23          29   \n",
       "6      17      29     35     10     26       5          26          24   \n",
       "9       8      37     36     21     32       9          40          25   \n",
       "\n",
       "   PTS_QTR3_A  BLK_A  FG3A_A  AST_A  Spread_A  W_A  L_A  W_TOTAL_A  L_TOTAL_A  \\\n",
       "1          31      2      31     27       1.5    1    0          1          0   \n",
       "2          18      5      37     20      -1.5    0    1          1          1   \n",
       "5          25      9      30     22       2.5    1    0          2          0   \n",
       "6          25      7      31     15      -2.5    0    1          1          1   \n",
       "9          18      3      27     23       6.5    0    1          2          1   \n",
       "\n",
       "   TEAM_DIFFERENTIAL_A  GAMES_BACK_A      POSS_A  FG2PA_A  AST/TOV_A  \\\n",
       "1                    1           0.0   98.840000       55   2.076923   \n",
       "2                    0           0.5   94.453846       48   1.538462   \n",
       "5                    2           0.0  100.407115       54   1.222222   \n",
       "6                    0           1.0   94.092174       68   1.500000   \n",
       "9                    1           1.0  108.669333       57   1.095238   \n",
       "\n",
       "   TEAM_HOME_A  GAME_PLAYED_A  ACCUM_PTS_A   AVG_PTS_A  LAST_FIVE_W_A  \\\n",
       "1            0              1          117  117.000000            1.0   \n",
       "2            1              2          219  109.500000            1.0   \n",
       "5            1              2          220  110.000000            2.0   \n",
       "6            0              2          193   96.500000            1.0   \n",
       "9            1              3          323  107.666667            2.0   \n",
       "\n",
       "   LAST_FIVE_W_PCT_A TEAM_ABBREVIATION_B    MATCHUP_B WL_B  PTS_B  FGA_B  \\\n",
       "1                0.2                 DET  DET vs. ATL    L    100     85   \n",
       "2                0.2                 ATL    ATL @ DET    W    117     86   \n",
       "5                0.4                 ORL    ORL @ ATL    L     99     99   \n",
       "6                0.2                 ATL  ATL vs. ORL    W    103     84   \n",
       "9                0.4                 PHI    PHI @ ATL    W    105     88   \n",
       "\n",
       "   OREB_B  DREB_B  FGM_B  TOV_B  FTA_B  FG3M_B  PTS_QTR1_B  PTS_QTR2_B  \\\n",
       "1       9      30     35     13     22      10          32          31   \n",
       "2       8      34     44     13     21      11          38          22   \n",
       "5      17      29     35     10     26       5          26          24   \n",
       "6       9      43     43     18     15       9          23          29   \n",
       "9      12      37     37     21     25      11          31          32   \n",
       "\n",
       "   PTS_QTR3_B  BLK_B  FG3A_B  AST_B  Spread_B  W_B  L_B  W_TOTAL_B  L_TOTAL_B  \\\n",
       "1          18      5      37     20      -1.5    0    1          1          1   \n",
       "2          31      2      31     27       1.5    1    0          1          0   \n",
       "5          25      7      31     15      -2.5    0    1          1          1   \n",
       "6          25      9      30     22       2.5    1    0          2          0   \n",
       "9          19     11      41     22      -6.5    1    0          3          0   \n",
       "\n",
       "   TEAM_DIFFERENTIAL_B  GAMES_BACK_B      POSS_B  FG2PA_B  AST/TOV_B  \\\n",
       "1                    0           0.5   94.453846       48   1.538462   \n",
       "2                    1           0.0   98.840000       55   2.076923   \n",
       "5                    0           1.0   94.092174       68   1.500000   \n",
       "6                    2           0.0  100.407115       54   1.222222   \n",
       "9                    3           0.0  105.635918       47   1.047619   \n",
       "\n",
       "   TEAM_HOME_B  GAME_PLAYED_B  ACCUM_PTS_B   AVG_PTS_B  LAST_FIVE_W_B  \\\n",
       "1            1              2          219  109.500000            1.0   \n",
       "2            0              1          117  117.000000            1.0   \n",
       "5            0              2          193   96.500000            1.0   \n",
       "6            1              2          220  110.000000            2.0   \n",
       "9            0              3          329  109.666667            3.0   \n",
       "\n",
       "   LAST_FIVE_W_PCT_B  \n",
       "1                0.2  \n",
       "2                0.2  \n",
       "5                0.2  \n",
       "6                0.4  \n",
       "9                0.6  "
      ]
     },
     "execution_count": 35,
     "metadata": {},
     "output_type": "execute_result"
    }
   ],
   "source": [
    "vs_data.head()"
   ]
  },
  {
   "cell_type": "markdown",
   "metadata": {},
   "source": [
    "We'll get points allowed, defensive rating, block rate, and points against all in one fell swoop."
   ]
  },
  {
   "cell_type": "code",
   "execution_count": 36,
   "metadata": {},
   "outputs": [],
   "source": [
    "temp_dfs = []\n",
    "for team in vs_data.TEAM_ABBREVIATION_A.unique():\n",
    "    temp_df = vs_data[vs_data.TEAM_ABBREVIATION_A==team].sort_values('GAME_DATE')\n",
    "    temp_df['PTSAGAINST_A'] = temp_df.PTS_B.cumsum()\n",
    "    temp_df['PTSALLOW_A'] = temp_df.PTSAGAINST_A / temp_df.GAME_PLAYED_A\n",
    "    temp_df['DRTG_A'] = temp_df.PTS_B * 100 / temp_df.POSS_B\n",
    "    temp_df['BLKR_A'] = temp_df.BLK_A * 100 / temp_df.FG2PA_B\n",
    "    temp_dfs.append(temp_df)\n",
    "up_vs_data = pd.concat(temp_dfs)"
   ]
  },
  {
   "cell_type": "markdown",
   "metadata": {},
   "source": [
    "Get team A cols to filter out B columns for now."
   ]
  },
  {
   "cell_type": "code",
   "execution_count": 37,
   "metadata": {},
   "outputs": [],
   "source": [
    "a_cols = up_vs_data.columns[up_vs_data.columns.str.endswith('_A')].tolist()"
   ]
  },
  {
   "cell_type": "markdown",
   "metadata": {},
   "source": [
    "New dataframe, `team_stats`, holding almost all the data needed from a single team's perspective."
   ]
  },
  {
   "cell_type": "code",
   "execution_count": 38,
   "metadata": {},
   "outputs": [],
   "source": [
    "team_stats = up_vs_data[['GAME_ID', 'GAME_DATE'] + a_cols].copy()"
   ]
  },
  {
   "cell_type": "markdown",
   "metadata": {},
   "source": [
    "Drop the '_A' from the column names. Rename `TEAM_ABBREVIATION` `TEAMABRV` as that '_A' is problematic going forward."
   ]
  },
  {
   "cell_type": "code",
   "execution_count": 39,
   "metadata": {},
   "outputs": [],
   "source": [
    "team_stats.columns = team_stats.columns.str.replace('TEAM_ABBREVIATION', 'TEAMABRV').str.replace('_A', '')"
   ]
  },
  {
   "cell_type": "markdown",
   "metadata": {},
   "source": [
    "Take a look at the data."
   ]
  },
  {
   "cell_type": "code",
   "execution_count": 40,
   "metadata": {},
   "outputs": [
    {
     "data": {
      "text/html": [
       "<div>\n",
       "<style scoped>\n",
       "    .dataframe tbody tr th:only-of-type {\n",
       "        vertical-align: middle;\n",
       "    }\n",
       "\n",
       "    .dataframe tbody tr th {\n",
       "        vertical-align: top;\n",
       "    }\n",
       "\n",
       "    .dataframe thead th {\n",
       "        text-align: right;\n",
       "    }\n",
       "</style>\n",
       "<table border=\"1\" class=\"dataframe\">\n",
       "  <thead>\n",
       "    <tr style=\"text-align: right;\">\n",
       "      <th></th>\n",
       "      <th>GAME_ID</th>\n",
       "      <th>GAME_DATE</th>\n",
       "      <th>TEAMABRV</th>\n",
       "      <th>MATCHUP</th>\n",
       "      <th>WL</th>\n",
       "      <th>PTS</th>\n",
       "      <th>FGA</th>\n",
       "      <th>OREB</th>\n",
       "      <th>DREB</th>\n",
       "      <th>FGM</th>\n",
       "      <th>TOV</th>\n",
       "      <th>FTA</th>\n",
       "      <th>FG3M</th>\n",
       "      <th>PTS_QTR1</th>\n",
       "      <th>PTS_QTR2</th>\n",
       "      <th>PTS_QTR3</th>\n",
       "      <th>BLK</th>\n",
       "      <th>FG3A</th>\n",
       "      <th>AST</th>\n",
       "      <th>Spread</th>\n",
       "      <th>W</th>\n",
       "      <th>L</th>\n",
       "      <th>W_TOTAL</th>\n",
       "      <th>L_TOTAL</th>\n",
       "      <th>TEAM_DIFFERENTIAL</th>\n",
       "      <th>GAMES_BACK</th>\n",
       "      <th>POSS</th>\n",
       "      <th>FG2PA</th>\n",
       "      <th>AST/TOV</th>\n",
       "      <th>TEAM_HOME</th>\n",
       "      <th>GAME_PLAYED</th>\n",
       "      <th>ACCUM_PTS</th>\n",
       "      <th>AVG_PTS</th>\n",
       "      <th>LAST_FIVE_W</th>\n",
       "      <th>LAST_FIVE_W_PCT</th>\n",
       "      <th>PTSAGAINST</th>\n",
       "      <th>PTSALLOW</th>\n",
       "      <th>DRTG</th>\n",
       "      <th>BLKR</th>\n",
       "    </tr>\n",
       "  </thead>\n",
       "  <tbody>\n",
       "    <tr>\n",
       "      <th>1</th>\n",
       "      <td>21900014</td>\n",
       "      <td>2019-10-24</td>\n",
       "      <td>ATL</td>\n",
       "      <td>ATL @ DET</td>\n",
       "      <td>W</td>\n",
       "      <td>117</td>\n",
       "      <td>86</td>\n",
       "      <td>8</td>\n",
       "      <td>34</td>\n",
       "      <td>44</td>\n",
       "      <td>13</td>\n",
       "      <td>21</td>\n",
       "      <td>11</td>\n",
       "      <td>38</td>\n",
       "      <td>22</td>\n",
       "      <td>31</td>\n",
       "      <td>2</td>\n",
       "      <td>31</td>\n",
       "      <td>27</td>\n",
       "      <td>1.5</td>\n",
       "      <td>1</td>\n",
       "      <td>0</td>\n",
       "      <td>1</td>\n",
       "      <td>0</td>\n",
       "      <td>1</td>\n",
       "      <td>0.0</td>\n",
       "      <td>98.840000</td>\n",
       "      <td>55</td>\n",
       "      <td>2.076923</td>\n",
       "      <td>0</td>\n",
       "      <td>1</td>\n",
       "      <td>117</td>\n",
       "      <td>117.000000</td>\n",
       "      <td>1.0</td>\n",
       "      <td>0.2</td>\n",
       "      <td>100</td>\n",
       "      <td>100.000000</td>\n",
       "      <td>105.871814</td>\n",
       "      <td>4.166667</td>\n",
       "    </tr>\n",
       "    <tr>\n",
       "      <th>5</th>\n",
       "      <td>21900028</td>\n",
       "      <td>2019-10-26</td>\n",
       "      <td>ATL</td>\n",
       "      <td>ATL vs. ORL</td>\n",
       "      <td>W</td>\n",
       "      <td>103</td>\n",
       "      <td>84</td>\n",
       "      <td>9</td>\n",
       "      <td>43</td>\n",
       "      <td>43</td>\n",
       "      <td>18</td>\n",
       "      <td>15</td>\n",
       "      <td>9</td>\n",
       "      <td>23</td>\n",
       "      <td>29</td>\n",
       "      <td>25</td>\n",
       "      <td>9</td>\n",
       "      <td>30</td>\n",
       "      <td>22</td>\n",
       "      <td>2.5</td>\n",
       "      <td>1</td>\n",
       "      <td>0</td>\n",
       "      <td>2</td>\n",
       "      <td>0</td>\n",
       "      <td>2</td>\n",
       "      <td>0.0</td>\n",
       "      <td>100.407115</td>\n",
       "      <td>54</td>\n",
       "      <td>1.222222</td>\n",
       "      <td>1</td>\n",
       "      <td>2</td>\n",
       "      <td>220</td>\n",
       "      <td>110.000000</td>\n",
       "      <td>2.0</td>\n",
       "      <td>0.4</td>\n",
       "      <td>199</td>\n",
       "      <td>99.500000</td>\n",
       "      <td>105.215977</td>\n",
       "      <td>13.235294</td>\n",
       "    </tr>\n",
       "    <tr>\n",
       "      <th>9</th>\n",
       "      <td>21900043</td>\n",
       "      <td>2019-10-28</td>\n",
       "      <td>ATL</td>\n",
       "      <td>ATL vs. PHI</td>\n",
       "      <td>L</td>\n",
       "      <td>103</td>\n",
       "      <td>84</td>\n",
       "      <td>8</td>\n",
       "      <td>37</td>\n",
       "      <td>36</td>\n",
       "      <td>21</td>\n",
       "      <td>32</td>\n",
       "      <td>9</td>\n",
       "      <td>40</td>\n",
       "      <td>25</td>\n",
       "      <td>18</td>\n",
       "      <td>3</td>\n",
       "      <td>27</td>\n",
       "      <td>23</td>\n",
       "      <td>6.5</td>\n",
       "      <td>0</td>\n",
       "      <td>1</td>\n",
       "      <td>2</td>\n",
       "      <td>1</td>\n",
       "      <td>1</td>\n",
       "      <td>1.0</td>\n",
       "      <td>108.669333</td>\n",
       "      <td>57</td>\n",
       "      <td>1.095238</td>\n",
       "      <td>1</td>\n",
       "      <td>3</td>\n",
       "      <td>323</td>\n",
       "      <td>107.666667</td>\n",
       "      <td>2.0</td>\n",
       "      <td>0.4</td>\n",
       "      <td>304</td>\n",
       "      <td>101.333333</td>\n",
       "      <td>99.398009</td>\n",
       "      <td>6.382979</td>\n",
       "    </tr>\n",
       "    <tr>\n",
       "      <th>13</th>\n",
       "      <td>21900052</td>\n",
       "      <td>2019-10-29</td>\n",
       "      <td>ATL</td>\n",
       "      <td>ATL @ MIA</td>\n",
       "      <td>L</td>\n",
       "      <td>97</td>\n",
       "      <td>83</td>\n",
       "      <td>9</td>\n",
       "      <td>24</td>\n",
       "      <td>35</td>\n",
       "      <td>20</td>\n",
       "      <td>24</td>\n",
       "      <td>11</td>\n",
       "      <td>26</td>\n",
       "      <td>23</td>\n",
       "      <td>21</td>\n",
       "      <td>7</td>\n",
       "      <td>39</td>\n",
       "      <td>28</td>\n",
       "      <td>8.5</td>\n",
       "      <td>0</td>\n",
       "      <td>1</td>\n",
       "      <td>2</td>\n",
       "      <td>2</td>\n",
       "      <td>0</td>\n",
       "      <td>1.5</td>\n",
       "      <td>98.592727</td>\n",
       "      <td>44</td>\n",
       "      <td>1.400000</td>\n",
       "      <td>0</td>\n",
       "      <td>4</td>\n",
       "      <td>420</td>\n",
       "      <td>105.000000</td>\n",
       "      <td>2.0</td>\n",
       "      <td>0.4</td>\n",
       "      <td>416</td>\n",
       "      <td>104.000000</td>\n",
       "      <td>106.015531</td>\n",
       "      <td>16.666667</td>\n",
       "    </tr>\n",
       "    <tr>\n",
       "      <th>17</th>\n",
       "      <td>21900066</td>\n",
       "      <td>2019-10-31</td>\n",
       "      <td>ATL</td>\n",
       "      <td>ATL vs. MIA</td>\n",
       "      <td>L</td>\n",
       "      <td>97</td>\n",
       "      <td>88</td>\n",
       "      <td>16</td>\n",
       "      <td>34</td>\n",
       "      <td>36</td>\n",
       "      <td>16</td>\n",
       "      <td>26</td>\n",
       "      <td>7</td>\n",
       "      <td>26</td>\n",
       "      <td>20</td>\n",
       "      <td>29</td>\n",
       "      <td>5</td>\n",
       "      <td>34</td>\n",
       "      <td>20</td>\n",
       "      <td>6.5</td>\n",
       "      <td>0</td>\n",
       "      <td>1</td>\n",
       "      <td>2</td>\n",
       "      <td>3</td>\n",
       "      <td>-1</td>\n",
       "      <td>2.5</td>\n",
       "      <td>96.595200</td>\n",
       "      <td>54</td>\n",
       "      <td>1.250000</td>\n",
       "      <td>1</td>\n",
       "      <td>5</td>\n",
       "      <td>517</td>\n",
       "      <td>103.400000</td>\n",
       "      <td>2.0</td>\n",
       "      <td>0.4</td>\n",
       "      <td>522</td>\n",
       "      <td>104.400000</td>\n",
       "      <td>112.448511</td>\n",
       "      <td>10.638298</td>\n",
       "    </tr>\n",
       "  </tbody>\n",
       "</table>\n",
       "</div>"
      ],
      "text/plain": [
       "     GAME_ID  GAME_DATE TEAMABRV      MATCHUP WL  PTS  FGA  OREB  DREB  FGM  \\\n",
       "1   21900014 2019-10-24      ATL    ATL @ DET  W  117   86     8    34   44   \n",
       "5   21900028 2019-10-26      ATL  ATL vs. ORL  W  103   84     9    43   43   \n",
       "9   21900043 2019-10-28      ATL  ATL vs. PHI  L  103   84     8    37   36   \n",
       "13  21900052 2019-10-29      ATL    ATL @ MIA  L   97   83     9    24   35   \n",
       "17  21900066 2019-10-31      ATL  ATL vs. MIA  L   97   88    16    34   36   \n",
       "\n",
       "    TOV  FTA  FG3M  PTS_QTR1  PTS_QTR2  PTS_QTR3  BLK  FG3A  AST  Spread  W  \\\n",
       "1    13   21    11        38        22        31    2    31   27     1.5  1   \n",
       "5    18   15     9        23        29        25    9    30   22     2.5  1   \n",
       "9    21   32     9        40        25        18    3    27   23     6.5  0   \n",
       "13   20   24    11        26        23        21    7    39   28     8.5  0   \n",
       "17   16   26     7        26        20        29    5    34   20     6.5  0   \n",
       "\n",
       "    L  W_TOTAL  L_TOTAL  TEAM_DIFFERENTIAL  GAMES_BACK        POSS  FG2PA  \\\n",
       "1   0        1        0                  1         0.0   98.840000     55   \n",
       "5   0        2        0                  2         0.0  100.407115     54   \n",
       "9   1        2        1                  1         1.0  108.669333     57   \n",
       "13  1        2        2                  0         1.5   98.592727     44   \n",
       "17  1        2        3                 -1         2.5   96.595200     54   \n",
       "\n",
       "     AST/TOV  TEAM_HOME  GAME_PLAYED  ACCUM_PTS     AVG_PTS  LAST_FIVE_W  \\\n",
       "1   2.076923          0            1        117  117.000000          1.0   \n",
       "5   1.222222          1            2        220  110.000000          2.0   \n",
       "9   1.095238          1            3        323  107.666667          2.0   \n",
       "13  1.400000          0            4        420  105.000000          2.0   \n",
       "17  1.250000          1            5        517  103.400000          2.0   \n",
       "\n",
       "    LAST_FIVE_W_PCT  PTSAGAINST    PTSALLOW        DRTG       BLKR  \n",
       "1               0.2         100  100.000000  105.871814   4.166667  \n",
       "5               0.4         199   99.500000  105.215977  13.235294  \n",
       "9               0.4         304  101.333333   99.398009   6.382979  \n",
       "13              0.4         416  104.000000  106.015531  16.666667  \n",
       "17              0.4         522  104.400000  112.448511  10.638298  "
      ]
     },
     "execution_count": 40,
     "metadata": {},
     "output_type": "execute_result"
    }
   ],
   "source": [
    "team_stats.head()"
   ]
  },
  {
   "cell_type": "markdown",
   "metadata": {},
   "source": [
    "That gets all the base data needed, next up is to get the data into the appropriate differences, rolling windows, and shifts needed for the ultimate feature data."
   ]
  },
  {
   "cell_type": "markdown",
   "metadata": {},
   "source": [
    "Before differencing, let's clean things up by getting things down to essential variables for moving forward."
   ]
  },
  {
   "cell_type": "code",
   "execution_count": 41,
   "metadata": {},
   "outputs": [],
   "source": [
    "team_stats = team_stats[['GAME_ID', 'GAME_DATE', 'TEAMABRV', 'W', 'TEAM_HOME', 'GAMES_BACK', 'PTSALLOW', 'DRTG', 'FG3M', 'DREB',\n",
    "                         'PTS_QTR1', 'PTS_QTR2', 'PTS_QTR3', 'BLKR', 'AST/TOV', 'LAST_FIVE_W_PCT', 'PTSAGAINST', 'AVG_PTS', 'Spread']].copy()"
   ]
  },
  {
   "cell_type": "markdown",
   "metadata": {},
   "source": [
    "For differencing, get into adversarial format once again."
   ]
  },
  {
   "cell_type": "code",
   "execution_count": 42,
   "metadata": {},
   "outputs": [],
   "source": [
    "joined = pd.merge(team_stats, team_stats, on=['GAME_ID', 'GAME_DATE'], suffixes=('_A', '_B'))\n",
    "vs_df = joined[joined.TEAMABRV_A != joined.TEAMABRV_B].copy()"
   ]
  },
  {
   "cell_type": "code",
   "execution_count": 43,
   "metadata": {},
   "outputs": [
    {
     "data": {
      "text/html": [
       "<div>\n",
       "<style scoped>\n",
       "    .dataframe tbody tr th:only-of-type {\n",
       "        vertical-align: middle;\n",
       "    }\n",
       "\n",
       "    .dataframe tbody tr th {\n",
       "        vertical-align: top;\n",
       "    }\n",
       "\n",
       "    .dataframe thead th {\n",
       "        text-align: right;\n",
       "    }\n",
       "</style>\n",
       "<table border=\"1\" class=\"dataframe\">\n",
       "  <thead>\n",
       "    <tr style=\"text-align: right;\">\n",
       "      <th></th>\n",
       "      <th>GAME_ID</th>\n",
       "      <th>GAME_DATE</th>\n",
       "      <th>TEAMABRV_A</th>\n",
       "      <th>W_A</th>\n",
       "      <th>TEAM_HOME_A</th>\n",
       "      <th>GAMES_BACK_A</th>\n",
       "      <th>PTSALLOW_A</th>\n",
       "      <th>DRTG_A</th>\n",
       "      <th>FG3M_A</th>\n",
       "      <th>DREB_A</th>\n",
       "      <th>PTS_QTR1_A</th>\n",
       "      <th>PTS_QTR2_A</th>\n",
       "      <th>PTS_QTR3_A</th>\n",
       "      <th>BLKR_A</th>\n",
       "      <th>AST/TOV_A</th>\n",
       "      <th>LAST_FIVE_W_PCT_A</th>\n",
       "      <th>PTSAGAINST_A</th>\n",
       "      <th>AVG_PTS_A</th>\n",
       "      <th>Spread_A</th>\n",
       "      <th>TEAMABRV_B</th>\n",
       "      <th>W_B</th>\n",
       "      <th>TEAM_HOME_B</th>\n",
       "      <th>GAMES_BACK_B</th>\n",
       "      <th>PTSALLOW_B</th>\n",
       "      <th>DRTG_B</th>\n",
       "      <th>FG3M_B</th>\n",
       "      <th>DREB_B</th>\n",
       "      <th>PTS_QTR1_B</th>\n",
       "      <th>PTS_QTR2_B</th>\n",
       "      <th>PTS_QTR3_B</th>\n",
       "      <th>BLKR_B</th>\n",
       "      <th>AST/TOV_B</th>\n",
       "      <th>LAST_FIVE_W_PCT_B</th>\n",
       "      <th>PTSAGAINST_B</th>\n",
       "      <th>AVG_PTS_B</th>\n",
       "      <th>Spread_B</th>\n",
       "    </tr>\n",
       "  </thead>\n",
       "  <tbody>\n",
       "    <tr>\n",
       "      <th>1</th>\n",
       "      <td>21900014</td>\n",
       "      <td>2019-10-24</td>\n",
       "      <td>ATL</td>\n",
       "      <td>1</td>\n",
       "      <td>0</td>\n",
       "      <td>0.0</td>\n",
       "      <td>100.000000</td>\n",
       "      <td>105.871814</td>\n",
       "      <td>11</td>\n",
       "      <td>34</td>\n",
       "      <td>38</td>\n",
       "      <td>22</td>\n",
       "      <td>31</td>\n",
       "      <td>4.166667</td>\n",
       "      <td>2.076923</td>\n",
       "      <td>0.2</td>\n",
       "      <td>100</td>\n",
       "      <td>117.000000</td>\n",
       "      <td>1.5</td>\n",
       "      <td>DET</td>\n",
       "      <td>0</td>\n",
       "      <td>1</td>\n",
       "      <td>0.5</td>\n",
       "      <td>113.500000</td>\n",
       "      <td>118.373128</td>\n",
       "      <td>10</td>\n",
       "      <td>30</td>\n",
       "      <td>32</td>\n",
       "      <td>31</td>\n",
       "      <td>18</td>\n",
       "      <td>9.090909</td>\n",
       "      <td>1.538462</td>\n",
       "      <td>0.2</td>\n",
       "      <td>227</td>\n",
       "      <td>109.500000</td>\n",
       "      <td>-1.5</td>\n",
       "    </tr>\n",
       "    <tr>\n",
       "      <th>2</th>\n",
       "      <td>21900014</td>\n",
       "      <td>2019-10-24</td>\n",
       "      <td>DET</td>\n",
       "      <td>0</td>\n",
       "      <td>1</td>\n",
       "      <td>0.5</td>\n",
       "      <td>113.500000</td>\n",
       "      <td>118.373128</td>\n",
       "      <td>10</td>\n",
       "      <td>30</td>\n",
       "      <td>32</td>\n",
       "      <td>31</td>\n",
       "      <td>18</td>\n",
       "      <td>9.090909</td>\n",
       "      <td>1.538462</td>\n",
       "      <td>0.2</td>\n",
       "      <td>227</td>\n",
       "      <td>109.500000</td>\n",
       "      <td>-1.5</td>\n",
       "      <td>ATL</td>\n",
       "      <td>1</td>\n",
       "      <td>0</td>\n",
       "      <td>0.0</td>\n",
       "      <td>100.000000</td>\n",
       "      <td>105.871814</td>\n",
       "      <td>11</td>\n",
       "      <td>34</td>\n",
       "      <td>38</td>\n",
       "      <td>22</td>\n",
       "      <td>31</td>\n",
       "      <td>4.166667</td>\n",
       "      <td>2.076923</td>\n",
       "      <td>0.2</td>\n",
       "      <td>100</td>\n",
       "      <td>117.000000</td>\n",
       "      <td>1.5</td>\n",
       "    </tr>\n",
       "    <tr>\n",
       "      <th>5</th>\n",
       "      <td>21900028</td>\n",
       "      <td>2019-10-26</td>\n",
       "      <td>ATL</td>\n",
       "      <td>1</td>\n",
       "      <td>1</td>\n",
       "      <td>0.0</td>\n",
       "      <td>99.500000</td>\n",
       "      <td>105.215977</td>\n",
       "      <td>9</td>\n",
       "      <td>43</td>\n",
       "      <td>23</td>\n",
       "      <td>29</td>\n",
       "      <td>25</td>\n",
       "      <td>13.235294</td>\n",
       "      <td>1.222222</td>\n",
       "      <td>0.4</td>\n",
       "      <td>199</td>\n",
       "      <td>110.000000</td>\n",
       "      <td>2.5</td>\n",
       "      <td>ORL</td>\n",
       "      <td>0</td>\n",
       "      <td>0</td>\n",
       "      <td>1.0</td>\n",
       "      <td>94.000000</td>\n",
       "      <td>102.582371</td>\n",
       "      <td>5</td>\n",
       "      <td>29</td>\n",
       "      <td>26</td>\n",
       "      <td>24</td>\n",
       "      <td>25</td>\n",
       "      <td>12.962963</td>\n",
       "      <td>1.500000</td>\n",
       "      <td>0.2</td>\n",
       "      <td>188</td>\n",
       "      <td>96.500000</td>\n",
       "      <td>-2.5</td>\n",
       "    </tr>\n",
       "    <tr>\n",
       "      <th>6</th>\n",
       "      <td>21900028</td>\n",
       "      <td>2019-10-26</td>\n",
       "      <td>ORL</td>\n",
       "      <td>0</td>\n",
       "      <td>0</td>\n",
       "      <td>1.0</td>\n",
       "      <td>94.000000</td>\n",
       "      <td>102.582371</td>\n",
       "      <td>5</td>\n",
       "      <td>29</td>\n",
       "      <td>26</td>\n",
       "      <td>24</td>\n",
       "      <td>25</td>\n",
       "      <td>12.962963</td>\n",
       "      <td>1.500000</td>\n",
       "      <td>0.2</td>\n",
       "      <td>188</td>\n",
       "      <td>96.500000</td>\n",
       "      <td>-2.5</td>\n",
       "      <td>ATL</td>\n",
       "      <td>1</td>\n",
       "      <td>1</td>\n",
       "      <td>0.0</td>\n",
       "      <td>99.500000</td>\n",
       "      <td>105.215977</td>\n",
       "      <td>9</td>\n",
       "      <td>43</td>\n",
       "      <td>23</td>\n",
       "      <td>29</td>\n",
       "      <td>25</td>\n",
       "      <td>13.235294</td>\n",
       "      <td>1.222222</td>\n",
       "      <td>0.4</td>\n",
       "      <td>199</td>\n",
       "      <td>110.000000</td>\n",
       "      <td>2.5</td>\n",
       "    </tr>\n",
       "    <tr>\n",
       "      <th>9</th>\n",
       "      <td>21900043</td>\n",
       "      <td>2019-10-28</td>\n",
       "      <td>ATL</td>\n",
       "      <td>0</td>\n",
       "      <td>1</td>\n",
       "      <td>1.0</td>\n",
       "      <td>101.333333</td>\n",
       "      <td>99.398009</td>\n",
       "      <td>9</td>\n",
       "      <td>37</td>\n",
       "      <td>40</td>\n",
       "      <td>25</td>\n",
       "      <td>18</td>\n",
       "      <td>6.382979</td>\n",
       "      <td>1.095238</td>\n",
       "      <td>0.4</td>\n",
       "      <td>304</td>\n",
       "      <td>107.666667</td>\n",
       "      <td>6.5</td>\n",
       "      <td>PHI</td>\n",
       "      <td>1</td>\n",
       "      <td>0</td>\n",
       "      <td>0.0</td>\n",
       "      <td>102.333333</td>\n",
       "      <td>94.782950</td>\n",
       "      <td>11</td>\n",
       "      <td>37</td>\n",
       "      <td>31</td>\n",
       "      <td>32</td>\n",
       "      <td>19</td>\n",
       "      <td>19.298246</td>\n",
       "      <td>1.047619</td>\n",
       "      <td>0.6</td>\n",
       "      <td>307</td>\n",
       "      <td>109.666667</td>\n",
       "      <td>-6.5</td>\n",
       "    </tr>\n",
       "  </tbody>\n",
       "</table>\n",
       "</div>"
      ],
      "text/plain": [
       "    GAME_ID  GAME_DATE TEAMABRV_A  W_A  TEAM_HOME_A  GAMES_BACK_A  PTSALLOW_A  \\\n",
       "1  21900014 2019-10-24        ATL    1            0           0.0  100.000000   \n",
       "2  21900014 2019-10-24        DET    0            1           0.5  113.500000   \n",
       "5  21900028 2019-10-26        ATL    1            1           0.0   99.500000   \n",
       "6  21900028 2019-10-26        ORL    0            0           1.0   94.000000   \n",
       "9  21900043 2019-10-28        ATL    0            1           1.0  101.333333   \n",
       "\n",
       "       DRTG_A  FG3M_A  DREB_A  PTS_QTR1_A  PTS_QTR2_A  PTS_QTR3_A     BLKR_A  \\\n",
       "1  105.871814      11      34          38          22          31   4.166667   \n",
       "2  118.373128      10      30          32          31          18   9.090909   \n",
       "5  105.215977       9      43          23          29          25  13.235294   \n",
       "6  102.582371       5      29          26          24          25  12.962963   \n",
       "9   99.398009       9      37          40          25          18   6.382979   \n",
       "\n",
       "   AST/TOV_A  LAST_FIVE_W_PCT_A  PTSAGAINST_A   AVG_PTS_A  Spread_A  \\\n",
       "1   2.076923                0.2           100  117.000000       1.5   \n",
       "2   1.538462                0.2           227  109.500000      -1.5   \n",
       "5   1.222222                0.4           199  110.000000       2.5   \n",
       "6   1.500000                0.2           188   96.500000      -2.5   \n",
       "9   1.095238                0.4           304  107.666667       6.5   \n",
       "\n",
       "  TEAMABRV_B  W_B  TEAM_HOME_B  GAMES_BACK_B  PTSALLOW_B      DRTG_B  FG3M_B  \\\n",
       "1        DET    0            1           0.5  113.500000  118.373128      10   \n",
       "2        ATL    1            0           0.0  100.000000  105.871814      11   \n",
       "5        ORL    0            0           1.0   94.000000  102.582371       5   \n",
       "6        ATL    1            1           0.0   99.500000  105.215977       9   \n",
       "9        PHI    1            0           0.0  102.333333   94.782950      11   \n",
       "\n",
       "   DREB_B  PTS_QTR1_B  PTS_QTR2_B  PTS_QTR3_B     BLKR_B  AST/TOV_B  \\\n",
       "1      30          32          31          18   9.090909   1.538462   \n",
       "2      34          38          22          31   4.166667   2.076923   \n",
       "5      29          26          24          25  12.962963   1.500000   \n",
       "6      43          23          29          25  13.235294   1.222222   \n",
       "9      37          31          32          19  19.298246   1.047619   \n",
       "\n",
       "   LAST_FIVE_W_PCT_B  PTSAGAINST_B   AVG_PTS_B  Spread_B  \n",
       "1                0.2           227  109.500000      -1.5  \n",
       "2                0.2           100  117.000000       1.5  \n",
       "5                0.2           188   96.500000      -2.5  \n",
       "6                0.4           199  110.000000       2.5  \n",
       "9                0.6           307  109.666667      -6.5  "
      ]
     },
     "execution_count": 43,
     "metadata": {},
     "output_type": "execute_result"
    }
   ],
   "source": [
    "vs_df.head()"
   ]
  },
  {
   "cell_type": "markdown",
   "metadata": {},
   "source": [
    "There are numerous variables that need differenced."
   ]
  },
  {
   "cell_type": "code",
   "execution_count": 44,
   "metadata": {},
   "outputs": [
    {
     "data": {
      "text/plain": [
       "Index(['teamHome_A', 'gameBack_A', 'ptsAllow_A', 'teamPTS1_A', 'teamDrtg_A',\n",
       "       'team3PM_Diff_A', 'teamDRB_Diff_A', 'teamPTS1_Diff_A',\n",
       "       'teamPTS2_Diff_A', 'teamPTS3_Diff_A', 'teamBLKR_Diff_A',\n",
       "       'teamAST/TO_Diff_A', 'lastFiveWin%_B', 'teamDrtg_B', 'team3PM_Diff_B',\n",
       "       'teamPTS1_Diff_B', 'teamPTS3_Diff_B', 'teamBLKR_Diff_B',\n",
       "       'teamAST/TO_Diff_B', 'ptsAgnst_Diff', 'ptsScore_Diff', 'ptsAllow_Diff',\n",
       "       'spread_Diff', 'lastFiveWin%_Diff'],\n",
       "      dtype='object')"
      ]
     },
     "execution_count": 44,
     "metadata": {},
     "output_type": "execute_result"
    }
   ],
   "source": [
    "features.columns"
   ]
  },
  {
   "cell_type": "markdown",
   "metadata": {},
   "source": [
    "Let's get the differences and rename the appropriate columns to be consistent with the above."
   ]
  },
  {
   "cell_type": "code",
   "execution_count": 45,
   "metadata": {},
   "outputs": [],
   "source": [
    "vs_df['teamHome'] = vs_df.TEAM_HOME_A\n",
    "vs_df['gameBack'] = vs_df.GAMES_BACK_A\n",
    "vs_df['ptsAllow'] = vs_df.PTSALLOW_A\n",
    "vs_df['teamPTS1'] = vs_df.PTS_QTR1_A\n",
    "vs_df['teamDrtg'] = vs_df.DRTG_A\n",
    "vs_df['team3PM_Diff'] = vs_df.FG3M_A - vs_df.FG3M_B\n",
    "vs_df['teamDRB_Diff'] = vs_df.DREB_A - vs_df.DREB_B\n",
    "vs_df['teamPTS1_Diff'] = vs_df.PTS_QTR1_A - vs_df.PTS_QTR1_B\n",
    "vs_df['teamPTS2_Diff'] = vs_df.PTS_QTR2_A - vs_df.PTS_QTR2_B\n",
    "vs_df['teamPTS3_Diff'] = vs_df.PTS_QTR3_A - vs_df.PTS_QTR3_B\n",
    "vs_df['teamBLKR_Diff'] = vs_df.BLKR_A - vs_df.BLKR_B\n",
    "vs_df['teamAST/TO_Diff'] = vs_df['AST/TOV_A'] - vs_df['AST/TOV_B']\n",
    "vs_df['lastFiveWin%'] = vs_df.LAST_FIVE_W_PCT_A\n",
    "vs_df['ptsAgnst'] = vs_df.PTSAGAINST_A\n",
    "vs_df['ptsScore'] = vs_df.AVG_PTS_A\n",
    "vs_df['ptsAllow'] = vs_df.PTSALLOW_A\n",
    "vs_df['spread'] = vs_df.Spread_A"
   ]
  },
  {
   "cell_type": "markdown",
   "metadata": {},
   "source": [
    "Get in terms of single team again."
   ]
  },
  {
   "cell_type": "code",
   "execution_count": 46,
   "metadata": {},
   "outputs": [],
   "source": [
    "vs_df.columns = vs_df.columns.str.replace('_A', '')\n",
    "sing_df = vs_df[vs_df.columns[~vs_df.columns.str.endswith('_B')]].copy()"
   ]
  },
  {
   "cell_type": "markdown",
   "metadata": {},
   "source": [
    "Shift appropriate columns forward one game for each team by using altered function from first notebook."
   ]
  },
  {
   "cell_type": "code",
   "execution_count": 47,
   "metadata": {},
   "outputs": [],
   "source": [
    "def shift_data(df, team_abbr, shift_cols):\n",
    "    new_dfs = []\n",
    "    for team in df[team_abbr].unique():\n",
    "        temp_df = df[(df[team_abbr]==team)]\n",
    "        shift_data = temp_df[shift_cols].shift().copy()\n",
    "        new_data = temp_df.drop(columns=shift_cols).join(shift_data).copy()\n",
    "        new_dfs.append(new_data)\n",
    "    shift_df = pd.concat(new_dfs)\n",
    "    return shift_df"
   ]
  },
  {
   "cell_type": "markdown",
   "metadata": {},
   "source": [
    "Define columns that need shifted forward one game."
   ]
  },
  {
   "cell_type": "code",
   "execution_count": 48,
   "metadata": {},
   "outputs": [],
   "source": [
    "shift_cols = ['gameBack', 'ptsAllow', 'lastFiveWin%', 'ptsAgnst', 'ptsScore']"
   ]
  },
  {
   "cell_type": "markdown",
   "metadata": {},
   "source": [
    "Call function on current dataframe."
   ]
  },
  {
   "cell_type": "code",
   "execution_count": 49,
   "metadata": {},
   "outputs": [],
   "source": [
    "shifted_df = shift_data(sing_df, 'TEAMABRV', shift_cols)"
   ]
  },
  {
   "cell_type": "markdown",
   "metadata": {},
   "source": [
    "Get rolling window of last nine games for various variables. First make a list of columns that need rolled into prior 9 games."
   ]
  },
  {
   "cell_type": "code",
   "execution_count": 50,
   "metadata": {},
   "outputs": [],
   "source": [
    "rolling_cols = ['teamPTS1', 'teamDrtg', 'team3PM_Diff', 'teamDRB_Diff', 'teamPTS1_Diff', 'teamPTS2_Diff', 'teamPTS3_Diff', 'teamBLKR_Diff', 'teamAST/TO_Diff']"
   ]
  },
  {
   "cell_type": "markdown",
   "metadata": {},
   "source": [
    "Then get identifier variables and rolling columns into its own dataframe."
   ]
  },
  {
   "cell_type": "code",
   "execution_count": 51,
   "metadata": {},
   "outputs": [],
   "source": [
    "rolls_df = shifted_df[['GAME_ID', 'GAME_DATE', 'TEAMABRV'] + rolling_cols].copy()"
   ]
  },
  {
   "cell_type": "markdown",
   "metadata": {},
   "source": [
    "Roll the columns into an average of the last 9 games and shift forward looping through each team."
   ]
  },
  {
   "cell_type": "code",
   "execution_count": 52,
   "metadata": {},
   "outputs": [],
   "source": [
    "rolling_dfs = []\n",
    "for team in rolls_df.TEAMABRV.unique():\n",
    "    temp_df = rolls_df[rolls_df.TEAMABRV==team].sort_values('GAME_DATE')\n",
    "    rolling_temp_df = temp_df[rolling_cols].rolling(9, 1, win_type='triang').mean().shift()\n",
    "    temp_df = temp_df.drop(columns=rolling_cols).join(rolling_temp_df)\n",
    "    rolling_dfs.append(temp_df)\n",
    "rolling_df = pd.concat(rolling_dfs)"
   ]
  },
  {
   "cell_type": "markdown",
   "metadata": {},
   "source": [
    "Put those rolling variables (now moving window of last 9) back into base dataframe."
   ]
  },
  {
   "cell_type": "code",
   "execution_count": 53,
   "metadata": {},
   "outputs": [],
   "source": [
    "base_df = shifted_df.drop(columns=rolling_cols).merge(rolling_df, on=['GAME_ID', 'GAME_DATE', 'TEAMABRV']).copy()"
   ]
  },
  {
   "cell_type": "markdown",
   "metadata": {},
   "source": [
    "At this point the data is VERY close to being in the form it needs to be for testing the model, there are only a few more steps.\n",
    "1. Remove first games\n",
    "2. Final differences\n",
    "2. Random picker\n",
    "3. Getting final targets and features\n",
    "4. Scaling the data"
   ]
  },
  {
   "cell_type": "markdown",
   "metadata": {},
   "source": [
    "Make list of columns we need."
   ]
  },
  {
   "cell_type": "code",
   "execution_count": 54,
   "metadata": {},
   "outputs": [],
   "source": [
    "var_cols = ['GAME_ID', 'GAME_DATE', 'TEAMABRV', 'W', 'teamHome', 'gameBack', 'ptsAllow', 'teamPTS1', 'teamDrtg', 'team3PM_Diff', 'teamDRB_Diff', 'teamPTS1_Diff', \n",
    "            'teamPTS2_Diff', 'teamPTS3_Diff', 'teamBLKR_Diff', 'teamAST/TO_Diff', 'lastFiveWin%', 'ptsAgnst', 'ptsScore', 'spread']"
   ]
  },
  {
   "cell_type": "markdown",
   "metadata": {},
   "source": [
    "Gather only those columns into the dataframe."
   ]
  },
  {
   "cell_type": "code",
   "execution_count": 55,
   "metadata": {},
   "outputs": [],
   "source": [
    "base_df = base_df[var_cols].copy()"
   ]
  },
  {
   "cell_type": "markdown",
   "metadata": {},
   "source": [
    "Get in adversarial format once again."
   ]
  },
  {
   "cell_type": "code",
   "execution_count": 56,
   "metadata": {},
   "outputs": [],
   "source": [
    "joined = pd.merge(base_df, base_df, on=['GAME_ID', 'GAME_DATE'], suffixes=('_A', '_B'))\n",
    "ab_df = joined[joined.TEAMABRV_A != joined.TEAMABRV_B].copy()"
   ]
  },
  {
   "cell_type": "markdown",
   "metadata": {},
   "source": [
    "At this point, any game data with a null indicates that it is at least one of the two teams first games of the season and the model does not work on first game data as it relies on data from prior games."
   ]
  },
  {
   "cell_type": "code",
   "execution_count": 57,
   "metadata": {},
   "outputs": [],
   "source": [
    "ab_df = ab_df.dropna().copy()"
   ]
  },
  {
   "cell_type": "markdown",
   "metadata": {},
   "source": [
    "Get the final differences needed for the data: `ptsAgnst_Diff`, `ptsScore_Diff`, `ptsAllow_Diff`, `spread_Diff` and `lastFiveWin%_Diff`."
   ]
  },
  {
   "cell_type": "code",
   "execution_count": 58,
   "metadata": {},
   "outputs": [],
   "source": [
    "ab_df['ptsAgnst_Diff'] = ab_df.ptsAgnst_A - ab_df.ptsAgnst_B\n",
    "ab_df['ptsScore_Diff'] = ab_df.ptsScore_A - ab_df.ptsScore_B\n",
    "ab_df['ptsAllow_Diff'] = ab_df.ptsAllow_A - ab_df.ptsAllow_B\n",
    "ab_df['spread_Diff'] = ab_df.spread_A - ab_df.spread_B\n",
    "ab_df['lastFiveWin%_Diff'] = ab_df['lastFiveWin%_A'] - ab_df['lastFiveWin%_B']"
   ]
  },
  {
   "cell_type": "markdown",
   "metadata": {},
   "source": [
    "All the appropriate variables have now been created, now let's randomly pick the point of view for each game."
   ]
  },
  {
   "cell_type": "code",
   "execution_count": 59,
   "metadata": {},
   "outputs": [],
   "source": [
    "rand_vs_df = ab_df.sample(frac = 1.0).groupby('GAME_ID').head(1).copy()"
   ]
  },
  {
   "cell_type": "markdown",
   "metadata": {},
   "source": [
    "Assign new target and new features."
   ]
  },
  {
   "cell_type": "code",
   "execution_count": 60,
   "metadata": {},
   "outputs": [],
   "source": [
    "target_2020 = rand_vs_df.W_A\n",
    "features_2020 = rand_vs_df[features.columns.to_list()]"
   ]
  },
  {
   "cell_type": "markdown",
   "metadata": {},
   "source": [
    "Get scaled data based off of fit to original features."
   ]
  },
  {
   "cell_type": "code",
   "execution_count": 61,
   "metadata": {},
   "outputs": [],
   "source": [
    "s_features_2020 = pd.DataFrame(scaler.transform(features_2020.iloc[:, 1:]), columns=features_2020.columns[1:], index=features_2020.index).join(features_2020.iloc[:, 0]).copy()"
   ]
  },
  {
   "cell_type": "markdown",
   "metadata": {},
   "source": [
    "Give new features and old features the eye test to make sure things look good."
   ]
  },
  {
   "cell_type": "code",
   "execution_count": 62,
   "metadata": {},
   "outputs": [
    {
     "data": {
      "text/html": [
       "<div>\n",
       "<style scoped>\n",
       "    .dataframe tbody tr th:only-of-type {\n",
       "        vertical-align: middle;\n",
       "    }\n",
       "\n",
       "    .dataframe tbody tr th {\n",
       "        vertical-align: top;\n",
       "    }\n",
       "\n",
       "    .dataframe thead th {\n",
       "        text-align: right;\n",
       "    }\n",
       "</style>\n",
       "<table border=\"1\" class=\"dataframe\">\n",
       "  <thead>\n",
       "    <tr style=\"text-align: right;\">\n",
       "      <th></th>\n",
       "      <th>gameBack_A</th>\n",
       "      <th>ptsAllow_A</th>\n",
       "      <th>teamPTS1_A</th>\n",
       "      <th>teamDrtg_A</th>\n",
       "      <th>team3PM_Diff_A</th>\n",
       "      <th>teamDRB_Diff_A</th>\n",
       "      <th>teamPTS1_Diff_A</th>\n",
       "      <th>teamPTS2_Diff_A</th>\n",
       "      <th>teamPTS3_Diff_A</th>\n",
       "      <th>teamBLKR_Diff_A</th>\n",
       "      <th>teamAST/TO_Diff_A</th>\n",
       "      <th>lastFiveWin%_B</th>\n",
       "      <th>teamDrtg_B</th>\n",
       "      <th>team3PM_Diff_B</th>\n",
       "      <th>teamPTS1_Diff_B</th>\n",
       "      <th>teamPTS3_Diff_B</th>\n",
       "      <th>teamBLKR_Diff_B</th>\n",
       "      <th>teamAST/TO_Diff_B</th>\n",
       "      <th>ptsAgnst_Diff</th>\n",
       "      <th>ptsScore_Diff</th>\n",
       "      <th>ptsAllow_Diff</th>\n",
       "      <th>spread_Diff</th>\n",
       "      <th>lastFiveWin%_Diff</th>\n",
       "      <th>teamHome_A</th>\n",
       "    </tr>\n",
       "  </thead>\n",
       "  <tbody>\n",
       "    <tr>\n",
       "      <th>1633</th>\n",
       "      <td>-1.179780</td>\n",
       "      <td>4.668815</td>\n",
       "      <td>2.753561</td>\n",
       "      <td>0.408152</td>\n",
       "      <td>-0.787266</td>\n",
       "      <td>0.607929</td>\n",
       "      <td>3.299822</td>\n",
       "      <td>0.303473</td>\n",
       "      <td>-4.935143</td>\n",
       "      <td>-2.344324</td>\n",
       "      <td>1.313346</td>\n",
       "      <td>-0.358540</td>\n",
       "      <td>3.538459</td>\n",
       "      <td>5.574290</td>\n",
       "      <td>2.652305</td>\n",
       "      <td>-2.031489</td>\n",
       "      <td>-1.114220</td>\n",
       "      <td>-2.314910</td>\n",
       "      <td>-4.932012</td>\n",
       "      <td>3.128580</td>\n",
       "      <td>1.980786</td>\n",
       "      <td>-0.703715</td>\n",
       "      <td>-0.486813</td>\n",
       "      <td>0</td>\n",
       "    </tr>\n",
       "    <tr>\n",
       "      <th>1729</th>\n",
       "      <td>-0.975085</td>\n",
       "      <td>0.464835</td>\n",
       "      <td>0.733085</td>\n",
       "      <td>-0.570981</td>\n",
       "      <td>-0.931008</td>\n",
       "      <td>1.036194</td>\n",
       "      <td>0.524300</td>\n",
       "      <td>0.999882</td>\n",
       "      <td>1.720609</td>\n",
       "      <td>1.765521</td>\n",
       "      <td>1.216587</td>\n",
       "      <td>1.943285</td>\n",
       "      <td>0.534177</td>\n",
       "      <td>1.793469</td>\n",
       "      <td>-0.877914</td>\n",
       "      <td>0.760150</td>\n",
       "      <td>-0.612292</td>\n",
       "      <td>-0.589214</td>\n",
       "      <td>-1.140796</td>\n",
       "      <td>-1.340662</td>\n",
       "      <td>-1.625223</td>\n",
       "      <td>0.824914</td>\n",
       "      <td>-0.486813</td>\n",
       "      <td>0</td>\n",
       "    </tr>\n",
       "    <tr>\n",
       "      <th>1974</th>\n",
       "      <td>-1.179780</td>\n",
       "      <td>0.109954</td>\n",
       "      <td>1.475907</td>\n",
       "      <td>-0.061549</td>\n",
       "      <td>1.336920</td>\n",
       "      <td>0.766999</td>\n",
       "      <td>0.980879</td>\n",
       "      <td>0.376780</td>\n",
       "      <td>1.708973</td>\n",
       "      <td>1.101831</td>\n",
       "      <td>0.052766</td>\n",
       "      <td>-0.358540</td>\n",
       "      <td>-0.035788</td>\n",
       "      <td>0.022705</td>\n",
       "      <td>-0.063248</td>\n",
       "      <td>0.725543</td>\n",
       "      <td>-0.539323</td>\n",
       "      <td>-0.788928</td>\n",
       "      <td>-9.511801</td>\n",
       "      <td>0.811517</td>\n",
       "      <td>-1.352429</td>\n",
       "      <td>-1.745962</td>\n",
       "      <td>1.466747</td>\n",
       "      <td>1</td>\n",
       "    </tr>\n",
       "    <tr>\n",
       "      <th>1698</th>\n",
       "      <td>0.611299</td>\n",
       "      <td>2.240123</td>\n",
       "      <td>0.703372</td>\n",
       "      <td>0.032629</td>\n",
       "      <td>-0.324097</td>\n",
       "      <td>-0.114003</td>\n",
       "      <td>0.103766</td>\n",
       "      <td>0.743311</td>\n",
       "      <td>-1.269825</td>\n",
       "      <td>0.580730</td>\n",
       "      <td>0.944083</td>\n",
       "      <td>-0.358540</td>\n",
       "      <td>-0.804620</td>\n",
       "      <td>0.309856</td>\n",
       "      <td>-1.314764</td>\n",
       "      <td>-0.681812</td>\n",
       "      <td>-0.612414</td>\n",
       "      <td>-0.103356</td>\n",
       "      <td>-0.652150</td>\n",
       "      <td>-1.083205</td>\n",
       "      <td>-0.407721</td>\n",
       "      <td>0.338532</td>\n",
       "      <td>0.001577</td>\n",
       "      <td>0</td>\n",
       "    </tr>\n",
       "    <tr>\n",
       "      <th>1994</th>\n",
       "      <td>-0.668043</td>\n",
       "      <td>1.392184</td>\n",
       "      <td>0.643946</td>\n",
       "      <td>0.374362</td>\n",
       "      <td>2.295199</td>\n",
       "      <td>0.179664</td>\n",
       "      <td>0.115781</td>\n",
       "      <td>0.462303</td>\n",
       "      <td>1.627522</td>\n",
       "      <td>-0.313254</td>\n",
       "      <td>0.063134</td>\n",
       "      <td>-1.125814</td>\n",
       "      <td>1.141032</td>\n",
       "      <td>-0.423974</td>\n",
       "      <td>-0.700813</td>\n",
       "      <td>-0.381884</td>\n",
       "      <td>-0.759182</td>\n",
       "      <td>2.969145</td>\n",
       "      <td>-1.319404</td>\n",
       "      <td>1.870602</td>\n",
       "      <td>-0.286342</td>\n",
       "      <td>-1.606996</td>\n",
       "      <td>0.978357</td>\n",
       "      <td>1</td>\n",
       "    </tr>\n",
       "  </tbody>\n",
       "</table>\n",
       "</div>"
      ],
      "text/plain": [
       "      gameBack_A  ptsAllow_A  teamPTS1_A  teamDrtg_A  team3PM_Diff_A  \\\n",
       "1633   -1.179780    4.668815    2.753561    0.408152       -0.787266   \n",
       "1729   -0.975085    0.464835    0.733085   -0.570981       -0.931008   \n",
       "1974   -1.179780    0.109954    1.475907   -0.061549        1.336920   \n",
       "1698    0.611299    2.240123    0.703372    0.032629       -0.324097   \n",
       "1994   -0.668043    1.392184    0.643946    0.374362        2.295199   \n",
       "\n",
       "      teamDRB_Diff_A  teamPTS1_Diff_A  teamPTS2_Diff_A  teamPTS3_Diff_A  \\\n",
       "1633        0.607929         3.299822         0.303473        -4.935143   \n",
       "1729        1.036194         0.524300         0.999882         1.720609   \n",
       "1974        0.766999         0.980879         0.376780         1.708973   \n",
       "1698       -0.114003         0.103766         0.743311        -1.269825   \n",
       "1994        0.179664         0.115781         0.462303         1.627522   \n",
       "\n",
       "      teamBLKR_Diff_A  teamAST/TO_Diff_A  lastFiveWin%_B  teamDrtg_B  \\\n",
       "1633        -2.344324           1.313346       -0.358540    3.538459   \n",
       "1729         1.765521           1.216587        1.943285    0.534177   \n",
       "1974         1.101831           0.052766       -0.358540   -0.035788   \n",
       "1698         0.580730           0.944083       -0.358540   -0.804620   \n",
       "1994        -0.313254           0.063134       -1.125814    1.141032   \n",
       "\n",
       "      team3PM_Diff_B  teamPTS1_Diff_B  teamPTS3_Diff_B  teamBLKR_Diff_B  \\\n",
       "1633        5.574290         2.652305        -2.031489        -1.114220   \n",
       "1729        1.793469        -0.877914         0.760150        -0.612292   \n",
       "1974        0.022705        -0.063248         0.725543        -0.539323   \n",
       "1698        0.309856        -1.314764        -0.681812        -0.612414   \n",
       "1994       -0.423974        -0.700813        -0.381884        -0.759182   \n",
       "\n",
       "      teamAST/TO_Diff_B  ptsAgnst_Diff  ptsScore_Diff  ptsAllow_Diff  \\\n",
       "1633          -2.314910      -4.932012       3.128580       1.980786   \n",
       "1729          -0.589214      -1.140796      -1.340662      -1.625223   \n",
       "1974          -0.788928      -9.511801       0.811517      -1.352429   \n",
       "1698          -0.103356      -0.652150      -1.083205      -0.407721   \n",
       "1994           2.969145      -1.319404       1.870602      -0.286342   \n",
       "\n",
       "      spread_Diff  lastFiveWin%_Diff  teamHome_A  \n",
       "1633    -0.703715          -0.486813           0  \n",
       "1729     0.824914          -0.486813           0  \n",
       "1974    -1.745962           1.466747           1  \n",
       "1698     0.338532           0.001577           0  \n",
       "1994    -1.606996           0.978357           1  "
      ]
     },
     "execution_count": 62,
     "metadata": {},
     "output_type": "execute_result"
    }
   ],
   "source": [
    "s_features_2020.head()"
   ]
  },
  {
   "cell_type": "code",
   "execution_count": 63,
   "metadata": {},
   "outputs": [
    {
     "data": {
      "text/html": [
       "<div>\n",
       "<style scoped>\n",
       "    .dataframe tbody tr th:only-of-type {\n",
       "        vertical-align: middle;\n",
       "    }\n",
       "\n",
       "    .dataframe tbody tr th {\n",
       "        vertical-align: top;\n",
       "    }\n",
       "\n",
       "    .dataframe thead th {\n",
       "        text-align: right;\n",
       "    }\n",
       "</style>\n",
       "<table border=\"1\" class=\"dataframe\">\n",
       "  <thead>\n",
       "    <tr style=\"text-align: right;\">\n",
       "      <th></th>\n",
       "      <th>gameBack_A</th>\n",
       "      <th>ptsAllow_A</th>\n",
       "      <th>teamPTS1_A</th>\n",
       "      <th>teamDrtg_A</th>\n",
       "      <th>team3PM_Diff_A</th>\n",
       "      <th>teamDRB_Diff_A</th>\n",
       "      <th>teamPTS1_Diff_A</th>\n",
       "      <th>teamPTS2_Diff_A</th>\n",
       "      <th>teamPTS3_Diff_A</th>\n",
       "      <th>teamBLKR_Diff_A</th>\n",
       "      <th>teamAST/TO_Diff_A</th>\n",
       "      <th>lastFiveWin%_B</th>\n",
       "      <th>teamDrtg_B</th>\n",
       "      <th>team3PM_Diff_B</th>\n",
       "      <th>teamPTS1_Diff_B</th>\n",
       "      <th>teamPTS3_Diff_B</th>\n",
       "      <th>teamBLKR_Diff_B</th>\n",
       "      <th>teamAST/TO_Diff_B</th>\n",
       "      <th>ptsAgnst_Diff</th>\n",
       "      <th>ptsScore_Diff</th>\n",
       "      <th>ptsAllow_Diff</th>\n",
       "      <th>spread_Diff</th>\n",
       "      <th>lastFiveWin%_Diff</th>\n",
       "      <th>teamHome_A</th>\n",
       "    </tr>\n",
       "  </thead>\n",
       "  <tbody>\n",
       "    <tr>\n",
       "      <th>225</th>\n",
       "      <td>1.378905</td>\n",
       "      <td>-0.318634</td>\n",
       "      <td>-0.603995</td>\n",
       "      <td>0.094033</td>\n",
       "      <td>-1.250434</td>\n",
       "      <td>0.191900</td>\n",
       "      <td>-0.737302</td>\n",
       "      <td>-0.612855</td>\n",
       "      <td>-0.548397</td>\n",
       "      <td>0.022798</td>\n",
       "      <td>-0.481386</td>\n",
       "      <td>1.176010</td>\n",
       "      <td>-0.499519</td>\n",
       "      <td>1.251073</td>\n",
       "      <td>-0.311190</td>\n",
       "      <td>1.152363</td>\n",
       "      <td>1.215918</td>\n",
       "      <td>2.101010</td>\n",
       "      <td>1.639429</td>\n",
       "      <td>-0.468623</td>\n",
       "      <td>0.529933</td>\n",
       "      <td>0.540033</td>\n",
       "      <td>-0.486813</td>\n",
       "      <td>1</td>\n",
       "    </tr>\n",
       "    <tr>\n",
       "      <th>6430</th>\n",
       "      <td>-0.053959</td>\n",
       "      <td>-0.184871</td>\n",
       "      <td>0.881649</td>\n",
       "      <td>-0.797269</td>\n",
       "      <td>1.097350</td>\n",
       "      <td>-0.738046</td>\n",
       "      <td>0.800650</td>\n",
       "      <td>-0.735032</td>\n",
       "      <td>-0.373858</td>\n",
       "      <td>0.661966</td>\n",
       "      <td>0.747301</td>\n",
       "      <td>-1.125814</td>\n",
       "      <td>-0.763446</td>\n",
       "      <td>-0.041106</td>\n",
       "      <td>-0.960561</td>\n",
       "      <td>0.529436</td>\n",
       "      <td>1.120838</td>\n",
       "      <td>-0.451387</td>\n",
       "      <td>1.494521</td>\n",
       "      <td>1.680383</td>\n",
       "      <td>0.594009</td>\n",
       "      <td>-1.440236</td>\n",
       "      <td>0.978357</td>\n",
       "      <td>1</td>\n",
       "    </tr>\n",
       "    <tr>\n",
       "      <th>14229</th>\n",
       "      <td>-0.719217</td>\n",
       "      <td>-0.471506</td>\n",
       "      <td>0.406243</td>\n",
       "      <td>-0.588930</td>\n",
       "      <td>0.586268</td>\n",
       "      <td>0.461095</td>\n",
       "      <td>0.199888</td>\n",
       "      <td>0.266820</td>\n",
       "      <td>-0.280771</td>\n",
       "      <td>-1.147929</td>\n",
       "      <td>-0.566486</td>\n",
       "      <td>-1.125814</td>\n",
       "      <td>0.010098</td>\n",
       "      <td>0.676771</td>\n",
       "      <td>-0.334803</td>\n",
       "      <td>0.829364</td>\n",
       "      <td>-0.362017</td>\n",
       "      <td>-1.189270</td>\n",
       "      <td>0.416130</td>\n",
       "      <td>0.465083</td>\n",
       "      <td>0.369744</td>\n",
       "      <td>0.623413</td>\n",
       "      <td>0.978357</td>\n",
       "      <td>0</td>\n",
       "    </tr>\n",
       "    <tr>\n",
       "      <th>4913</th>\n",
       "      <td>-1.179780</td>\n",
       "      <td>-0.930122</td>\n",
       "      <td>0.837080</td>\n",
       "      <td>0.411914</td>\n",
       "      <td>1.049436</td>\n",
       "      <td>1.023958</td>\n",
       "      <td>0.416162</td>\n",
       "      <td>1.659639</td>\n",
       "      <td>0.731555</td>\n",
       "      <td>-0.025002</td>\n",
       "      <td>0.558810</td>\n",
       "      <td>1.176010</td>\n",
       "      <td>-1.406014</td>\n",
       "      <td>0.916064</td>\n",
       "      <td>1.483437</td>\n",
       "      <td>0.725543</td>\n",
       "      <td>-0.771580</td>\n",
       "      <td>2.499623</td>\n",
       "      <td>-1.595742</td>\n",
       "      <td>-0.350057</td>\n",
       "      <td>-0.575370</td>\n",
       "      <td>-0.939958</td>\n",
       "      <td>-0.486813</td>\n",
       "      <td>1</td>\n",
       "    </tr>\n",
       "    <tr>\n",
       "      <th>26122</th>\n",
       "      <td>2.146510</td>\n",
       "      <td>-0.203980</td>\n",
       "      <td>-0.425717</td>\n",
       "      <td>-0.232058</td>\n",
       "      <td>0.506411</td>\n",
       "      <td>-1.484451</td>\n",
       "      <td>0.416162</td>\n",
       "      <td>-1.492529</td>\n",
       "      <td>-0.129504</td>\n",
       "      <td>-0.610447</td>\n",
       "      <td>1.599242</td>\n",
       "      <td>-0.358540</td>\n",
       "      <td>0.830076</td>\n",
       "      <td>-1.381143</td>\n",
       "      <td>-1.975942</td>\n",
       "      <td>0.194901</td>\n",
       "      <td>-1.124166</td>\n",
       "      <td>-1.426572</td>\n",
       "      <td>-1.295814</td>\n",
       "      <td>-0.453802</td>\n",
       "      <td>-0.238973</td>\n",
       "      <td>0.824914</td>\n",
       "      <td>-0.975202</td>\n",
       "      <td>0</td>\n",
       "    </tr>\n",
       "  </tbody>\n",
       "</table>\n",
       "</div>"
      ],
      "text/plain": [
       "       gameBack_A  ptsAllow_A  teamPTS1_A  teamDrtg_A  team3PM_Diff_A  \\\n",
       "225      1.378905   -0.318634   -0.603995    0.094033       -1.250434   \n",
       "6430    -0.053959   -0.184871    0.881649   -0.797269        1.097350   \n",
       "14229   -0.719217   -0.471506    0.406243   -0.588930        0.586268   \n",
       "4913    -1.179780   -0.930122    0.837080    0.411914        1.049436   \n",
       "26122    2.146510   -0.203980   -0.425717   -0.232058        0.506411   \n",
       "\n",
       "       teamDRB_Diff_A  teamPTS1_Diff_A  teamPTS2_Diff_A  teamPTS3_Diff_A  \\\n",
       "225          0.191900        -0.737302        -0.612855        -0.548397   \n",
       "6430        -0.738046         0.800650        -0.735032        -0.373858   \n",
       "14229        0.461095         0.199888         0.266820        -0.280771   \n",
       "4913         1.023958         0.416162         1.659639         0.731555   \n",
       "26122       -1.484451         0.416162        -1.492529        -0.129504   \n",
       "\n",
       "       teamBLKR_Diff_A  teamAST/TO_Diff_A  lastFiveWin%_B  teamDrtg_B  \\\n",
       "225           0.022798          -0.481386        1.176010   -0.499519   \n",
       "6430          0.661966           0.747301       -1.125814   -0.763446   \n",
       "14229        -1.147929          -0.566486       -1.125814    0.010098   \n",
       "4913         -0.025002           0.558810        1.176010   -1.406014   \n",
       "26122        -0.610447           1.599242       -0.358540    0.830076   \n",
       "\n",
       "       team3PM_Diff_B  teamPTS1_Diff_B  teamPTS3_Diff_B  teamBLKR_Diff_B  \\\n",
       "225          1.251073        -0.311190         1.152363         1.215918   \n",
       "6430        -0.041106        -0.960561         0.529436         1.120838   \n",
       "14229        0.676771        -0.334803         0.829364        -0.362017   \n",
       "4913         0.916064         1.483437         0.725543        -0.771580   \n",
       "26122       -1.381143        -1.975942         0.194901        -1.124166   \n",
       "\n",
       "       teamAST/TO_Diff_B  ptsAgnst_Diff  ptsScore_Diff  ptsAllow_Diff  \\\n",
       "225             2.101010       1.639429      -0.468623       0.529933   \n",
       "6430           -0.451387       1.494521       1.680383       0.594009   \n",
       "14229          -1.189270       0.416130       0.465083       0.369744   \n",
       "4913            2.499623      -1.595742      -0.350057      -0.575370   \n",
       "26122          -1.426572      -1.295814      -0.453802      -0.238973   \n",
       "\n",
       "       spread_Diff  lastFiveWin%_Diff  teamHome_A  \n",
       "225       0.540033          -0.486813           1  \n",
       "6430     -1.440236           0.978357           1  \n",
       "14229     0.623413           0.978357           0  \n",
       "4913     -0.939958          -0.486813           1  \n",
       "26122     0.824914          -0.975202           0  "
      ]
     },
     "execution_count": 63,
     "metadata": {},
     "output_type": "execute_result"
    }
   ],
   "source": [
    "s_features.head()"
   ]
  },
  {
   "cell_type": "markdown",
   "metadata": {},
   "source": [
    "Looks good. Only one more thing to do. Test the model on this data and see how well it does."
   ]
  },
  {
   "cell_type": "markdown",
   "metadata": {},
   "source": [
    "# Execute and check performance of model (in the wild)"
   ]
  },
  {
   "cell_type": "markdown",
   "metadata": {},
   "source": [
    "For how long the last section was, this one is a very simple one liner."
   ]
  },
  {
   "cell_type": "code",
   "execution_count": 64,
   "metadata": {},
   "outputs": [
    {
     "data": {
      "text/plain": [
       "0.6376518218623481"
      ]
     },
     "execution_count": 64,
     "metadata": {},
     "output_type": "execute_result"
    }
   ],
   "source": [
    "model.score(s_features_2020, target_2020)"
   ]
  },
  {
   "cell_type": "code",
   "execution_count": 65,
   "metadata": {},
   "outputs": [
    {
     "data": {
      "text/plain": [
       "array([[154,  85],\n",
       "       [ 94, 161]], dtype=int64)"
      ]
     },
     "execution_count": 65,
     "metadata": {},
     "output_type": "execute_result"
    }
   ],
   "source": [
    "confusion_matrix(target_2020, model.predict(s_features_2020))"
   ]
  },
  {
   "cell_type": "markdown",
   "metadata": {},
   "source": [
    "So, looks like this model turns out to not work very well! It was only about 64% accurate using the Logistic Regression Model decided on in the prior notebook. This makes me wonder if perhaps one of the other previous models is more generalized. The good news I suppose was that this was pretty much equally bad at classifying positives (wins) and negatives (losses)."
   ]
  },
  {
   "cell_type": "markdown",
   "metadata": {},
   "source": [
    "Let's look at a few of the other models from the prior notebook and see if they perform any better."
   ]
  },
  {
   "cell_type": "code",
   "execution_count": 66,
   "metadata": {},
   "outputs": [],
   "source": [
    "from sklearn.tree import DecisionTreeClassifier\n",
    "from sklearn.ensemble import RandomForestClassifier, ExtraTreesClassifier\n",
    "from xgboost import XGBClassifier"
   ]
  },
  {
   "cell_type": "markdown",
   "metadata": {},
   "source": [
    "Instantiate the models."
   ]
  },
  {
   "cell_type": "code",
   "execution_count": 67,
   "metadata": {},
   "outputs": [],
   "source": [
    "dt_model = DecisionTreeClassifier(ccp_alpha=0.0, class_weight=None, criterion='entropy',\n",
    "                        max_depth=4, max_features=None, max_leaf_nodes=None,\n",
    "                        min_impurity_decrease=0.0, min_impurity_split=None,\n",
    "                        min_samples_leaf=1, min_samples_split=2,\n",
    "                        min_weight_fraction_leaf=0.0, presort='deprecated',\n",
    "                        random_state=None, splitter='best')\n",
    "rf_model = RandomForestClassifier(bootstrap=True, ccp_alpha=0.0, class_weight=None,\n",
    "                        criterion='gini', max_depth=9, max_features='auto',\n",
    "                        max_leaf_nodes=None, max_samples=None,\n",
    "                        min_impurity_decrease=0.0, min_impurity_split=None,\n",
    "                        min_samples_leaf=1, min_samples_split=2,\n",
    "                        min_weight_fraction_leaf=0.0, n_estimators=90, n_jobs=-1,\n",
    "                        oob_score=False, random_state=None, verbose=0,\n",
    "                        warm_start=False)\n",
    "et_model = ExtraTreesClassifier(bootstrap=False, ccp_alpha=0.0, class_weight=None,\n",
    "                      criterion='gini', max_depth=None, max_features='auto',\n",
    "                      max_leaf_nodes=None, max_samples=None,\n",
    "                      min_impurity_decrease=0.0, min_impurity_split=None,\n",
    "                      min_samples_leaf=1, min_samples_split=5,\n",
    "                      min_weight_fraction_leaf=0.0, n_estimators=300, n_jobs=-1,\n",
    "                      oob_score=False, random_state=None, verbose=0,\n",
    "                      warm_start=False)\n",
    "xg_model = XGBClassifier(base_score=0.5, booster='gbtree', colsample_bylevel=1,\n",
    "               colsample_bynode=1, colsample_bytree=1, gamma=0,\n",
    "               learning_rate=0.05, max_delta_step=0, max_depth=3,\n",
    "               min_child_weight=1, missing=None, n_estimators=100, n_jobs=-1,\n",
    "               nthread=None, objective='binary:logistic', random_state=0,\n",
    "               reg_alpha=0, reg_lambda=1, scale_pos_weight=1, seed=None,\n",
    "               silent=None, subsample=1, verbosity=1)"
   ]
  },
  {
   "cell_type": "code",
   "execution_count": 68,
   "metadata": {},
   "outputs": [],
   "source": [
    "models = [dt_model, rf_model, et_model, xg_model]"
   ]
  },
  {
   "cell_type": "markdown",
   "metadata": {},
   "source": [
    "Find the accuracy and confusion matrix for the various models."
   ]
  },
  {
   "cell_type": "code",
   "execution_count": 69,
   "metadata": {},
   "outputs": [
    {
     "name": "stdout",
     "output_type": "stream",
     "text": [
      "----------------------\n",
      "DecisionTreeClassifier\n",
      "----------------------\n",
      "Accuracy Score: 64.5749%\n",
      "Confusion Matrix:\n",
      "[[154  85]\n",
      " [ 90 165]]\n",
      "----------------------\n",
      "RandomForestClassifier\n",
      "----------------------\n",
      "Accuracy Score: 64.17%\n",
      "Confusion Matrix:\n",
      "[[152  87]\n",
      " [ 90 165]]\n",
      "--------------------\n",
      "ExtraTreesClassifier\n",
      "--------------------\n",
      "Accuracy Score: 64.3725%\n",
      "Confusion Matrix:\n",
      "[[153  86]\n",
      " [ 90 165]]\n",
      "-------------\n",
      "XGBClassifier\n",
      "-------------\n",
      "Accuracy Score: 64.17%\n",
      "Confusion Matrix:\n",
      "[[156  83]\n",
      " [ 94 161]]\n"
     ]
    }
   ],
   "source": [
    "for model in models:\n",
    "    model.fit(s_features, target)\n",
    "    score = model.score(s_features_2020, target_2020)\n",
    "    conf = confusion_matrix(target_2020, model.predict(s_features_2020))\n",
    "    print('-'*len(str(model).split('(')[0]))\n",
    "    print(str(model).split('(')[0])\n",
    "    print('-'*len(str(model).split('(')[0]))\n",
    "    print('Accuracy Score: {}%'.format(round(score*100, 4)))\n",
    "    print('Confusion Matrix:')\n",
    "    print(conf)"
   ]
  },
  {
   "cell_type": "markdown",
   "metadata": {},
   "source": [
    "It actually appears that all of the above models perform just slightly better than the logistic regression model, but by very little."
   ]
  },
  {
   "cell_type": "markdown",
   "metadata": {},
   "source": [
    "# Summary"
   ]
  },
  {
   "cell_type": "markdown",
   "metadata": {},
   "source": [
    "Ultimately, the reason none of the models generalize very well is likely due to overfitting in the modeling stage. I believe the reason for the overfitting actually lies in the data manipulation step for the original data. There is a step where the best rolling window is decided upon. In that step two things that likely attributed to the overfitting occurred. First, the data was scaled to minimize the total sum of the differences. This could have leaked information to the models by scaling the data in advance (even though it was inverse scaled as well). The other thing that happened was in deciding upon the proper rolling window number of games. The calculation that figured this out attempted to find the number of games that lead to a result most similar to the values of the actual game being played. This is likely the greatest culprit for the overfitting. By trying to mimic the data the best it can, in the modeling stage, that data is leaked to the model. The result is a pretty good accuracy within the whole of the training data, but as seen in this section, it leads to ungeneralized models."
   ]
  },
  {
   "cell_type": "markdown",
   "metadata": {},
   "source": [
    "The best next step is to probably try to get cleaner and simpler predictive data. There are numerous statistics and variables when it comes to a single basketball game, but it is likely that there are more predictive ones than the features I accumulated in this project. Unfortunately, the models created here don't generalize very well and are not likely very useful in the real world. However, through this project, much has been learned."
   ]
  },
  {
   "cell_type": "markdown",
   "metadata": {},
   "source": [
    "For navigational convenience:\n",
    "1. [NBA Data Aggregation](https://github.com/philbowman212/Thinkful_repo/blob/master/projects/supervised_capstone/Jupyter%20Notebooks/Data_Aggregation.ipynb)\n",
    "2. [NBA Data Cleaning and Exploration](https://github.com/philbowman212/Thinkful_repo/blob/master/projects/supervised_capstone/Jupyter%20Notebooks/Data_Cleaning_Exploration.ipynb)\n",
    "3. [NBA Modeling](https://github.com/philbowman212/Thinkful_repo/blob/master/projects/supervised_capstone/Jupyter%20Notebooks/Modeling.ipynb)\n",
    "4. [NBA Model Testing](https://github.com/philbowman212/Thinkful_repo/blob/master/projects/supervised_capstone/Jupyter%20Notebooks/Model_Testing.ipynb)*"
   ]
  }
 ],
 "metadata": {
  "kernelspec": {
   "display_name": "Python 3",
   "language": "python",
   "name": "python3"
  },
  "language_info": {
   "codemirror_mode": {
    "name": "ipython",
    "version": 3
   },
   "file_extension": ".py",
   "mimetype": "text/x-python",
   "name": "python",
   "nbconvert_exporter": "python",
   "pygments_lexer": "ipython3",
   "version": "3.7.4"
  }
 },
 "nbformat": 4,
 "nbformat_minor": 4
}
