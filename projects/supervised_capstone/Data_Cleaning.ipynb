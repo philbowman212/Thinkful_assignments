{
 "cells": [
  {
   "cell_type": "code",
   "execution_count": 111,
   "metadata": {
    "Collapsed": "false"
   },
   "outputs": [],
   "source": [
    "import pandas as pd\n",
    "import numpy as np\n",
    "import matplotlib.pyplot as plt\n",
    "import seaborn as sns\n",
    "from pandas.api.types import is_string_dtype\n",
    "from pandas.api.types import is_numeric_dtype\n",
    "%matplotlib inline\n",
    "pd.set_option('display.max_rows', 250)\n",
    "pd.set_option('display.max_columns', 250)"
   ]
  },
  {
   "cell_type": "markdown",
   "metadata": {
    "Collapsed": "false"
   },
   "source": [
    "# Data Cleaning/Exploration"
   ]
  },
  {
   "cell_type": "markdown",
   "metadata": {
    "Collapsed": "false"
   },
   "source": [
    "Steps:\n",
    "1. Determine Data Types\n",
    "2. Deal with Missing Values (MAR/MNAR)\n",
    "    - Continuous\n",
    "    - Categorical\n",
    "3. Outliers\n",
    "    - Visual/Statistical\n",
    "    - What to do with them? (Drop/winsorize/transform?)"
   ]
  },
  {
   "cell_type": "code",
   "execution_count": 2,
   "metadata": {
    "Collapsed": "false"
   },
   "outputs": [
    {
     "data": {
      "text/html": [
       "<div>\n",
       "<style scoped>\n",
       "    .dataframe tbody tr th:only-of-type {\n",
       "        vertical-align: middle;\n",
       "    }\n",
       "\n",
       "    .dataframe tbody tr th {\n",
       "        vertical-align: top;\n",
       "    }\n",
       "\n",
       "    .dataframe thead th {\n",
       "        text-align: right;\n",
       "    }\n",
       "</style>\n",
       "<table border=\"1\" class=\"dataframe\">\n",
       "  <thead>\n",
       "    <tr style=\"text-align: right;\">\n",
       "      <th></th>\n",
       "      <th>gameID</th>\n",
       "      <th>seasID</th>\n",
       "      <th>gmDate</th>\n",
       "      <th>gmTime</th>\n",
       "      <th>seasTyp</th>\n",
       "      <th>teamAbbr_A</th>\n",
       "      <th>teamConf_A</th>\n",
       "      <th>teamDiv_A</th>\n",
       "      <th>teamLoc_A</th>\n",
       "      <th>teamRslt_A</th>\n",
       "      <th>teamMin_A</th>\n",
       "      <th>teamDayOff_A</th>\n",
       "      <th>teamPTS_A</th>\n",
       "      <th>teamAST_A</th>\n",
       "      <th>teamTO_A</th>\n",
       "      <th>teamSTL_A</th>\n",
       "      <th>teamBLK_A</th>\n",
       "      <th>teamPF_A</th>\n",
       "      <th>teamFGA_A</th>\n",
       "      <th>teamFGM_A</th>\n",
       "      <th>teamFG%_A</th>\n",
       "      <th>team2PA_A</th>\n",
       "      <th>team2PM_A</th>\n",
       "      <th>team2P%_A</th>\n",
       "      <th>team3PA_A</th>\n",
       "      <th>team3PM_A</th>\n",
       "      <th>team3P%_A</th>\n",
       "      <th>teamFTA_A</th>\n",
       "      <th>teamFTM_A</th>\n",
       "      <th>teamFT%_A</th>\n",
       "      <th>teamORB_A</th>\n",
       "      <th>teamDRB_A</th>\n",
       "      <th>teamTRB_A</th>\n",
       "      <th>teamPTS1_A</th>\n",
       "      <th>teamPTS2_A</th>\n",
       "      <th>teamPTS3_A</th>\n",
       "      <th>teamPTS4_A</th>\n",
       "      <th>teamPTS5_A</th>\n",
       "      <th>teamPTS6_A</th>\n",
       "      <th>teamPTS7_A</th>\n",
       "      <th>teamPTS8_A</th>\n",
       "      <th>teamTREB%_A</th>\n",
       "      <th>teamASST%_A</th>\n",
       "      <th>teamTS%_A</th>\n",
       "      <th>teamEFG%_A</th>\n",
       "      <th>teamOREB%_A</th>\n",
       "      <th>teamDREB%_A</th>\n",
       "      <th>teamTO%_A</th>\n",
       "      <th>teamSTL%_A</th>\n",
       "      <th>teamBLK%_A</th>\n",
       "      <th>teamBLKR_A</th>\n",
       "      <th>teamPPS_A</th>\n",
       "      <th>teamFIC_A</th>\n",
       "      <th>teamFIC40_A</th>\n",
       "      <th>teamOrtg_A</th>\n",
       "      <th>teamDrtg_A</th>\n",
       "      <th>teamEDiff_A</th>\n",
       "      <th>teamPlay%_A</th>\n",
       "      <th>teamAR_A</th>\n",
       "      <th>teamAST/TO_A</th>\n",
       "      <th>teamSTL/TO_A</th>\n",
       "      <th>poss_A</th>\n",
       "      <th>pace_A</th>\n",
       "      <th>offLNm1</th>\n",
       "      <th>offFNm1</th>\n",
       "      <th>offLNm2</th>\n",
       "      <th>offFNm2</th>\n",
       "      <th>offLNm3</th>\n",
       "      <th>offFNm3</th>\n",
       "      <th>teamAbbr_B</th>\n",
       "      <th>teamConf_B</th>\n",
       "      <th>teamDiv_B</th>\n",
       "      <th>teamLoc_B</th>\n",
       "      <th>teamRslt_B</th>\n",
       "      <th>teamMin_B</th>\n",
       "      <th>teamDayOff_B</th>\n",
       "      <th>teamPTS_B</th>\n",
       "      <th>teamAST_B</th>\n",
       "      <th>teamTO_B</th>\n",
       "      <th>teamSTL_B</th>\n",
       "      <th>teamBLK_B</th>\n",
       "      <th>teamPF_B</th>\n",
       "      <th>teamFGA_B</th>\n",
       "      <th>teamFGM_B</th>\n",
       "      <th>teamFG%_B</th>\n",
       "      <th>team2PA_B</th>\n",
       "      <th>team2PM_B</th>\n",
       "      <th>team2P%_B</th>\n",
       "      <th>team3PA_B</th>\n",
       "      <th>team3PM_B</th>\n",
       "      <th>team3P%_B</th>\n",
       "      <th>teamFTA_B</th>\n",
       "      <th>teamFTM_B</th>\n",
       "      <th>teamFT%_B</th>\n",
       "      <th>teamORB_B</th>\n",
       "      <th>teamDRB_B</th>\n",
       "      <th>teamTRB_B</th>\n",
       "      <th>teamPTS1_B</th>\n",
       "      <th>teamPTS2_B</th>\n",
       "      <th>teamPTS3_B</th>\n",
       "      <th>teamPTS4_B</th>\n",
       "      <th>teamPTS5_B</th>\n",
       "      <th>teamPTS6_B</th>\n",
       "      <th>teamPTS7_B</th>\n",
       "      <th>teamPTS8_B</th>\n",
       "      <th>teamTREB%_B</th>\n",
       "      <th>teamASST%_B</th>\n",
       "      <th>teamTS%_B</th>\n",
       "      <th>teamEFG%_B</th>\n",
       "      <th>teamOREB%_B</th>\n",
       "      <th>teamDREB%_B</th>\n",
       "      <th>teamTO%_B</th>\n",
       "      <th>teamSTL%_B</th>\n",
       "      <th>teamBLK%_B</th>\n",
       "      <th>teamBLKR_B</th>\n",
       "      <th>teamPPS_B</th>\n",
       "      <th>teamFIC_B</th>\n",
       "      <th>teamFIC40_B</th>\n",
       "      <th>teamOrtg_B</th>\n",
       "      <th>teamDrtg_B</th>\n",
       "      <th>teamEDiff_B</th>\n",
       "      <th>teamPlay%_B</th>\n",
       "      <th>teamAR_B</th>\n",
       "      <th>teamAST/TO_B</th>\n",
       "      <th>teamSTL/TO_B</th>\n",
       "      <th>poss_B</th>\n",
       "      <th>pace_B</th>\n",
       "      <th>rank_A</th>\n",
       "      <th>rankOrd_A</th>\n",
       "      <th>gameWon_A</th>\n",
       "      <th>gameLost_A</th>\n",
       "      <th>stk_A</th>\n",
       "      <th>stkType_A</th>\n",
       "      <th>stkTot_A</th>\n",
       "      <th>gameBack_A</th>\n",
       "      <th>ptsFor_A</th>\n",
       "      <th>ptsAgnst_A</th>\n",
       "      <th>homeWin_A</th>\n",
       "      <th>homeLoss_A</th>\n",
       "      <th>awayWin_A</th>\n",
       "      <th>awayLoss_A</th>\n",
       "      <th>confWin_A</th>\n",
       "      <th>confLoss_A</th>\n",
       "      <th>lastFive_A</th>\n",
       "      <th>lastTen_A</th>\n",
       "      <th>gamePlay_A</th>\n",
       "      <th>ptsScore_A</th>\n",
       "      <th>ptsAllow_A</th>\n",
       "      <th>ptsDiff_A</th>\n",
       "      <th>opptGmPlay_A</th>\n",
       "      <th>opptGmWon_A</th>\n",
       "      <th>opptOpptGmPlay_A</th>\n",
       "      <th>opptOpptGmWon_A</th>\n",
       "      <th>sos_A</th>\n",
       "      <th>rel%Indx_A</th>\n",
       "      <th>mov_A</th>\n",
       "      <th>srs_A</th>\n",
       "      <th>pw%_A</th>\n",
       "      <th>pyth%13.91_A</th>\n",
       "      <th>wpyth13.91_A</th>\n",
       "      <th>lpyth13.91_A</th>\n",
       "      <th>pyth%16.5_A</th>\n",
       "      <th>wpyth16.5_A</th>\n",
       "      <th>lpyth16.5_A</th>\n",
       "      <th>rank_B</th>\n",
       "      <th>rankOrd_B</th>\n",
       "      <th>gameWon_B</th>\n",
       "      <th>gameLost_B</th>\n",
       "      <th>stk_B</th>\n",
       "      <th>stkType_B</th>\n",
       "      <th>stkTot_B</th>\n",
       "      <th>gameBack_B</th>\n",
       "      <th>ptsFor_B</th>\n",
       "      <th>ptsAgnst_B</th>\n",
       "      <th>homeWin_B</th>\n",
       "      <th>homeLoss_B</th>\n",
       "      <th>awayWin_B</th>\n",
       "      <th>awayLoss_B</th>\n",
       "      <th>confWin_B</th>\n",
       "      <th>confLoss_B</th>\n",
       "      <th>lastFive_B</th>\n",
       "      <th>lastTen_B</th>\n",
       "      <th>gamePlay_B</th>\n",
       "      <th>ptsScore_B</th>\n",
       "      <th>ptsAllow_B</th>\n",
       "      <th>ptsDiff_B</th>\n",
       "      <th>opptGmPlay_B</th>\n",
       "      <th>opptGmWon_B</th>\n",
       "      <th>opptOpptGmPlay_B</th>\n",
       "      <th>opptOpptGmWon_B</th>\n",
       "      <th>sos_B</th>\n",
       "      <th>rel%Indx_B</th>\n",
       "      <th>mov_B</th>\n",
       "      <th>srs_B</th>\n",
       "      <th>pw%_B</th>\n",
       "      <th>pyth%13.91_B</th>\n",
       "      <th>wpyth13.91_B</th>\n",
       "      <th>lpyth13.91_B</th>\n",
       "      <th>pyth%16.5_B</th>\n",
       "      <th>wpyth16.5_B</th>\n",
       "      <th>lpyth16.5_B</th>\n",
       "      <th>line_price_A</th>\n",
       "      <th>spread_A</th>\n",
       "      <th>spread_price_A</th>\n",
       "      <th>total_A</th>\n",
       "      <th>total_price_A</th>\n",
       "      <th>line_price_B</th>\n",
       "      <th>spread_B</th>\n",
       "      <th>spread_price_B</th>\n",
       "      <th>total_B</th>\n",
       "      <th>total_price_B</th>\n",
       "    </tr>\n",
       "  </thead>\n",
       "  <tbody>\n",
       "    <tr>\n",
       "      <th>0</th>\n",
       "      <td>10020</td>\n",
       "      <td>2012</td>\n",
       "      <td>2012-11-02</td>\n",
       "      <td>19:30</td>\n",
       "      <td>Regular</td>\n",
       "      <td>ATL</td>\n",
       "      <td>East</td>\n",
       "      <td>Southeast</td>\n",
       "      <td>Home</td>\n",
       "      <td>Loss</td>\n",
       "      <td>240</td>\n",
       "      <td>0</td>\n",
       "      <td>102</td>\n",
       "      <td>23</td>\n",
       "      <td>13</td>\n",
       "      <td>12</td>\n",
       "      <td>4</td>\n",
       "      <td>26</td>\n",
       "      <td>85</td>\n",
       "      <td>40</td>\n",
       "      <td>0.4706</td>\n",
       "      <td>63</td>\n",
       "      <td>33</td>\n",
       "      <td>0.5238</td>\n",
       "      <td>22</td>\n",
       "      <td>7</td>\n",
       "      <td>0.3182</td>\n",
       "      <td>17</td>\n",
       "      <td>15</td>\n",
       "      <td>0.8824</td>\n",
       "      <td>7</td>\n",
       "      <td>29</td>\n",
       "      <td>36</td>\n",
       "      <td>21</td>\n",
       "      <td>23</td>\n",
       "      <td>30</td>\n",
       "      <td>28</td>\n",
       "      <td>0</td>\n",
       "      <td>0</td>\n",
       "      <td>0</td>\n",
       "      <td>0</td>\n",
       "      <td>38.2979</td>\n",
       "      <td>57.5000</td>\n",
       "      <td>0.5515</td>\n",
       "      <td>0.5118</td>\n",
       "      <td>16.6667</td>\n",
       "      <td>55.7692</td>\n",
       "      <td>12.3246</td>\n",
       "      <td>12.3226</td>\n",
       "      <td>4.1075</td>\n",
       "      <td>6.3492</td>\n",
       "      <td>1.2000</td>\n",
       "      <td>73.625</td>\n",
       "      <td>61.3542</td>\n",
       "      <td>104.7423</td>\n",
       "      <td>111.9305</td>\n",
       "      <td>-7.1882</td>\n",
       "      <td>0.4396</td>\n",
       "      <td>17.9016</td>\n",
       "      <td>1.7692</td>\n",
       "      <td>92.3077</td>\n",
       "      <td>97.3819</td>\n",
       "      <td>97.3819</td>\n",
       "      <td>Malloy</td>\n",
       "      <td>Ed</td>\n",
       "      <td>Wright</td>\n",
       "      <td>Sean</td>\n",
       "      <td>Barnaky</td>\n",
       "      <td>Brent</td>\n",
       "      <td>HOU</td>\n",
       "      <td>West</td>\n",
       "      <td>Southwest</td>\n",
       "      <td>Away</td>\n",
       "      <td>Win</td>\n",
       "      <td>240</td>\n",
       "      <td>2</td>\n",
       "      <td>109</td>\n",
       "      <td>22</td>\n",
       "      <td>21</td>\n",
       "      <td>8</td>\n",
       "      <td>2</td>\n",
       "      <td>18</td>\n",
       "      <td>90</td>\n",
       "      <td>38</td>\n",
       "      <td>0.4222</td>\n",
       "      <td>60</td>\n",
       "      <td>30</td>\n",
       "      <td>0.5000</td>\n",
       "      <td>30</td>\n",
       "      <td>8</td>\n",
       "      <td>0.2667</td>\n",
       "      <td>29</td>\n",
       "      <td>25</td>\n",
       "      <td>0.8621</td>\n",
       "      <td>23</td>\n",
       "      <td>35</td>\n",
       "      <td>58</td>\n",
       "      <td>28</td>\n",
       "      <td>25</td>\n",
       "      <td>28</td>\n",
       "      <td>28</td>\n",
       "      <td>0</td>\n",
       "      <td>0</td>\n",
       "      <td>0</td>\n",
       "      <td>0</td>\n",
       "      <td>61.7021</td>\n",
       "      <td>57.8947</td>\n",
       "      <td>0.5304</td>\n",
       "      <td>0.4667</td>\n",
       "      <td>44.2308</td>\n",
       "      <td>83.3333</td>\n",
       "      <td>16.9683</td>\n",
       "      <td>8.2151</td>\n",
       "      <td>2.0538</td>\n",
       "      <td>3.3333</td>\n",
       "      <td>1.2111</td>\n",
       "      <td>81.875</td>\n",
       "      <td>68.2292</td>\n",
       "      <td>111.9305</td>\n",
       "      <td>104.7423</td>\n",
       "      <td>7.1882</td>\n",
       "      <td>0.4318</td>\n",
       "      <td>15.0933</td>\n",
       "      <td>1.0476</td>\n",
       "      <td>38.0952</td>\n",
       "      <td>97.3819</td>\n",
       "      <td>97.3819</td>\n",
       "      <td>NaN</td>\n",
       "      <td>NaN</td>\n",
       "      <td>NaN</td>\n",
       "      <td>NaN</td>\n",
       "      <td>NaN</td>\n",
       "      <td>NaN</td>\n",
       "      <td>NaN</td>\n",
       "      <td>NaN</td>\n",
       "      <td>NaN</td>\n",
       "      <td>NaN</td>\n",
       "      <td>NaN</td>\n",
       "      <td>NaN</td>\n",
       "      <td>NaN</td>\n",
       "      <td>NaN</td>\n",
       "      <td>NaN</td>\n",
       "      <td>NaN</td>\n",
       "      <td>0.0</td>\n",
       "      <td>0.0</td>\n",
       "      <td>NaN</td>\n",
       "      <td>NaN</td>\n",
       "      <td>NaN</td>\n",
       "      <td>NaN</td>\n",
       "      <td>NaN</td>\n",
       "      <td>NaN</td>\n",
       "      <td>NaN</td>\n",
       "      <td>NaN</td>\n",
       "      <td>NaN</td>\n",
       "      <td>NaN</td>\n",
       "      <td>NaN</td>\n",
       "      <td>NaN</td>\n",
       "      <td>NaN</td>\n",
       "      <td>NaN</td>\n",
       "      <td>NaN</td>\n",
       "      <td>NaN</td>\n",
       "      <td>NaN</td>\n",
       "      <td>NaN</td>\n",
       "      <td>NaN</td>\n",
       "      <td>1.0</td>\n",
       "      <td>1st</td>\n",
       "      <td>1.0</td>\n",
       "      <td>0.0</td>\n",
       "      <td>W1</td>\n",
       "      <td>win</td>\n",
       "      <td>1.0</td>\n",
       "      <td>0.0</td>\n",
       "      <td>105.0</td>\n",
       "      <td>96.0</td>\n",
       "      <td>0.0</td>\n",
       "      <td>0.0</td>\n",
       "      <td>1.0</td>\n",
       "      <td>0.0</td>\n",
       "      <td>0.0</td>\n",
       "      <td>0.0</td>\n",
       "      <td>2.0</td>\n",
       "      <td>2.0</td>\n",
       "      <td>1.0</td>\n",
       "      <td>105.0</td>\n",
       "      <td>96.0</td>\n",
       "      <td>9.0</td>\n",
       "      <td>0.0</td>\n",
       "      <td>0.0</td>\n",
       "      <td>0.0</td>\n",
       "      <td>0.0</td>\n",
       "      <td>0.0000</td>\n",
       "      <td>0.000000</td>\n",
       "      <td>9.00</td>\n",
       "      <td>9.0000</td>\n",
       "      <td>0.7963</td>\n",
       "      <td>0.7767</td>\n",
       "      <td>63.6894</td>\n",
       "      <td>18.3106</td>\n",
       "      <td>0.8144</td>\n",
       "      <td>66.7808</td>\n",
       "      <td>15.2192</td>\n",
       "      <td>-213.5</td>\n",
       "      <td>-5.2</td>\n",
       "      <td>-109.3</td>\n",
       "      <td>203.00</td>\n",
       "      <td>-108.3</td>\n",
       "      <td>181.6</td>\n",
       "      <td>5.2</td>\n",
       "      <td>-108.7</td>\n",
       "      <td>203.00</td>\n",
       "      <td>-109.7</td>\n",
       "    </tr>\n",
       "    <tr>\n",
       "      <th>1</th>\n",
       "      <td>10020</td>\n",
       "      <td>2012</td>\n",
       "      <td>2012-11-02</td>\n",
       "      <td>19:30</td>\n",
       "      <td>Regular</td>\n",
       "      <td>HOU</td>\n",
       "      <td>West</td>\n",
       "      <td>Southwest</td>\n",
       "      <td>Away</td>\n",
       "      <td>Win</td>\n",
       "      <td>240</td>\n",
       "      <td>2</td>\n",
       "      <td>109</td>\n",
       "      <td>22</td>\n",
       "      <td>21</td>\n",
       "      <td>8</td>\n",
       "      <td>2</td>\n",
       "      <td>18</td>\n",
       "      <td>90</td>\n",
       "      <td>38</td>\n",
       "      <td>0.4222</td>\n",
       "      <td>60</td>\n",
       "      <td>30</td>\n",
       "      <td>0.5000</td>\n",
       "      <td>30</td>\n",
       "      <td>8</td>\n",
       "      <td>0.2667</td>\n",
       "      <td>29</td>\n",
       "      <td>25</td>\n",
       "      <td>0.8621</td>\n",
       "      <td>23</td>\n",
       "      <td>35</td>\n",
       "      <td>58</td>\n",
       "      <td>28</td>\n",
       "      <td>25</td>\n",
       "      <td>28</td>\n",
       "      <td>28</td>\n",
       "      <td>0</td>\n",
       "      <td>0</td>\n",
       "      <td>0</td>\n",
       "      <td>0</td>\n",
       "      <td>61.7021</td>\n",
       "      <td>57.8947</td>\n",
       "      <td>0.5304</td>\n",
       "      <td>0.4667</td>\n",
       "      <td>44.2308</td>\n",
       "      <td>83.3333</td>\n",
       "      <td>16.9683</td>\n",
       "      <td>8.2151</td>\n",
       "      <td>2.0538</td>\n",
       "      <td>3.3333</td>\n",
       "      <td>1.2111</td>\n",
       "      <td>81.875</td>\n",
       "      <td>68.2292</td>\n",
       "      <td>111.9305</td>\n",
       "      <td>104.7423</td>\n",
       "      <td>7.1882</td>\n",
       "      <td>0.4318</td>\n",
       "      <td>15.0933</td>\n",
       "      <td>1.0476</td>\n",
       "      <td>38.0952</td>\n",
       "      <td>97.3819</td>\n",
       "      <td>97.3819</td>\n",
       "      <td>Malloy</td>\n",
       "      <td>Ed</td>\n",
       "      <td>Wright</td>\n",
       "      <td>Sean</td>\n",
       "      <td>Barnaky</td>\n",
       "      <td>Brent</td>\n",
       "      <td>ATL</td>\n",
       "      <td>East</td>\n",
       "      <td>Southeast</td>\n",
       "      <td>Home</td>\n",
       "      <td>Loss</td>\n",
       "      <td>240</td>\n",
       "      <td>0</td>\n",
       "      <td>102</td>\n",
       "      <td>23</td>\n",
       "      <td>13</td>\n",
       "      <td>12</td>\n",
       "      <td>4</td>\n",
       "      <td>26</td>\n",
       "      <td>85</td>\n",
       "      <td>40</td>\n",
       "      <td>0.4706</td>\n",
       "      <td>63</td>\n",
       "      <td>33</td>\n",
       "      <td>0.5238</td>\n",
       "      <td>22</td>\n",
       "      <td>7</td>\n",
       "      <td>0.3182</td>\n",
       "      <td>17</td>\n",
       "      <td>15</td>\n",
       "      <td>0.8824</td>\n",
       "      <td>7</td>\n",
       "      <td>29</td>\n",
       "      <td>36</td>\n",
       "      <td>21</td>\n",
       "      <td>23</td>\n",
       "      <td>30</td>\n",
       "      <td>28</td>\n",
       "      <td>0</td>\n",
       "      <td>0</td>\n",
       "      <td>0</td>\n",
       "      <td>0</td>\n",
       "      <td>38.2979</td>\n",
       "      <td>57.5000</td>\n",
       "      <td>0.5515</td>\n",
       "      <td>0.5118</td>\n",
       "      <td>16.6667</td>\n",
       "      <td>55.7692</td>\n",
       "      <td>12.3246</td>\n",
       "      <td>12.3226</td>\n",
       "      <td>4.1075</td>\n",
       "      <td>6.3492</td>\n",
       "      <td>1.2000</td>\n",
       "      <td>73.625</td>\n",
       "      <td>61.3542</td>\n",
       "      <td>104.7423</td>\n",
       "      <td>111.9305</td>\n",
       "      <td>-7.1882</td>\n",
       "      <td>0.4396</td>\n",
       "      <td>17.9016</td>\n",
       "      <td>1.7692</td>\n",
       "      <td>92.3077</td>\n",
       "      <td>97.3819</td>\n",
       "      <td>97.3819</td>\n",
       "      <td>1.0</td>\n",
       "      <td>1st</td>\n",
       "      <td>1.0</td>\n",
       "      <td>0.0</td>\n",
       "      <td>W1</td>\n",
       "      <td>win</td>\n",
       "      <td>1.0</td>\n",
       "      <td>0.0</td>\n",
       "      <td>105.0</td>\n",
       "      <td>96.0</td>\n",
       "      <td>0.0</td>\n",
       "      <td>0.0</td>\n",
       "      <td>1.0</td>\n",
       "      <td>0.0</td>\n",
       "      <td>0.0</td>\n",
       "      <td>0.0</td>\n",
       "      <td>2.0</td>\n",
       "      <td>2.0</td>\n",
       "      <td>1.0</td>\n",
       "      <td>105.0</td>\n",
       "      <td>96.0</td>\n",
       "      <td>9.0</td>\n",
       "      <td>0.0</td>\n",
       "      <td>0.0</td>\n",
       "      <td>0.0</td>\n",
       "      <td>0.0</td>\n",
       "      <td>0.0000</td>\n",
       "      <td>0.000000</td>\n",
       "      <td>9.0</td>\n",
       "      <td>9.0000</td>\n",
       "      <td>0.7963</td>\n",
       "      <td>0.7767</td>\n",
       "      <td>63.6894</td>\n",
       "      <td>18.3106</td>\n",
       "      <td>0.8144</td>\n",
       "      <td>66.7808</td>\n",
       "      <td>15.2192</td>\n",
       "      <td>NaN</td>\n",
       "      <td>NaN</td>\n",
       "      <td>NaN</td>\n",
       "      <td>NaN</td>\n",
       "      <td>NaN</td>\n",
       "      <td>NaN</td>\n",
       "      <td>NaN</td>\n",
       "      <td>NaN</td>\n",
       "      <td>NaN</td>\n",
       "      <td>NaN</td>\n",
       "      <td>NaN</td>\n",
       "      <td>NaN</td>\n",
       "      <td>NaN</td>\n",
       "      <td>NaN</td>\n",
       "      <td>NaN</td>\n",
       "      <td>NaN</td>\n",
       "      <td>0.0</td>\n",
       "      <td>0.0</td>\n",
       "      <td>NaN</td>\n",
       "      <td>NaN</td>\n",
       "      <td>NaN</td>\n",
       "      <td>NaN</td>\n",
       "      <td>NaN</td>\n",
       "      <td>NaN</td>\n",
       "      <td>NaN</td>\n",
       "      <td>NaN</td>\n",
       "      <td>NaN</td>\n",
       "      <td>NaN</td>\n",
       "      <td>NaN</td>\n",
       "      <td>NaN</td>\n",
       "      <td>NaN</td>\n",
       "      <td>NaN</td>\n",
       "      <td>NaN</td>\n",
       "      <td>NaN</td>\n",
       "      <td>NaN</td>\n",
       "      <td>NaN</td>\n",
       "      <td>NaN</td>\n",
       "      <td>181.6</td>\n",
       "      <td>5.2</td>\n",
       "      <td>-108.7</td>\n",
       "      <td>203.00</td>\n",
       "      <td>-109.7</td>\n",
       "      <td>-213.5</td>\n",
       "      <td>-5.2</td>\n",
       "      <td>-109.3</td>\n",
       "      <td>203.00</td>\n",
       "      <td>-108.3</td>\n",
       "    </tr>\n",
       "    <tr>\n",
       "      <th>2</th>\n",
       "      <td>10039</td>\n",
       "      <td>2012</td>\n",
       "      <td>2012-11-04</td>\n",
       "      <td>19:00</td>\n",
       "      <td>Regular</td>\n",
       "      <td>ATL</td>\n",
       "      <td>East</td>\n",
       "      <td>Southeast</td>\n",
       "      <td>Away</td>\n",
       "      <td>Win</td>\n",
       "      <td>240</td>\n",
       "      <td>2</td>\n",
       "      <td>104</td>\n",
       "      <td>20</td>\n",
       "      <td>11</td>\n",
       "      <td>12</td>\n",
       "      <td>1</td>\n",
       "      <td>20</td>\n",
       "      <td>83</td>\n",
       "      <td>41</td>\n",
       "      <td>0.4940</td>\n",
       "      <td>58</td>\n",
       "      <td>33</td>\n",
       "      <td>0.5690</td>\n",
       "      <td>25</td>\n",
       "      <td>8</td>\n",
       "      <td>0.3200</td>\n",
       "      <td>20</td>\n",
       "      <td>14</td>\n",
       "      <td>0.7000</td>\n",
       "      <td>12</td>\n",
       "      <td>26</td>\n",
       "      <td>38</td>\n",
       "      <td>30</td>\n",
       "      <td>17</td>\n",
       "      <td>28</td>\n",
       "      <td>29</td>\n",
       "      <td>0</td>\n",
       "      <td>0</td>\n",
       "      <td>0</td>\n",
       "      <td>0</td>\n",
       "      <td>50.6667</td>\n",
       "      <td>48.7805</td>\n",
       "      <td>0.5664</td>\n",
       "      <td>0.5422</td>\n",
       "      <td>28.5714</td>\n",
       "      <td>78.7879</td>\n",
       "      <td>10.7004</td>\n",
       "      <td>13.2351</td>\n",
       "      <td>1.1029</td>\n",
       "      <td>1.7241</td>\n",
       "      <td>1.2530</td>\n",
       "      <td>77.750</td>\n",
       "      <td>64.7917</td>\n",
       "      <td>114.7038</td>\n",
       "      <td>104.7775</td>\n",
       "      <td>9.9263</td>\n",
       "      <td>0.5000</td>\n",
       "      <td>16.2866</td>\n",
       "      <td>1.8182</td>\n",
       "      <td>109.0909</td>\n",
       "      <td>90.6683</td>\n",
       "      <td>90.6683</td>\n",
       "      <td>Wall</td>\n",
       "      <td>Scott</td>\n",
       "      <td>Callahan</td>\n",
       "      <td>Mike</td>\n",
       "      <td>Pantoja</td>\n",
       "      <td>Brenda</td>\n",
       "      <td>OKC</td>\n",
       "      <td>West</td>\n",
       "      <td>Northwest</td>\n",
       "      <td>Home</td>\n",
       "      <td>Loss</td>\n",
       "      <td>240</td>\n",
       "      <td>2</td>\n",
       "      <td>95</td>\n",
       "      <td>27</td>\n",
       "      <td>21</td>\n",
       "      <td>4</td>\n",
       "      <td>9</td>\n",
       "      <td>21</td>\n",
       "      <td>71</td>\n",
       "      <td>33</td>\n",
       "      <td>0.4648</td>\n",
       "      <td>49</td>\n",
       "      <td>24</td>\n",
       "      <td>0.4898</td>\n",
       "      <td>22</td>\n",
       "      <td>9</td>\n",
       "      <td>0.4091</td>\n",
       "      <td>22</td>\n",
       "      <td>20</td>\n",
       "      <td>0.9091</td>\n",
       "      <td>7</td>\n",
       "      <td>30</td>\n",
       "      <td>37</td>\n",
       "      <td>22</td>\n",
       "      <td>29</td>\n",
       "      <td>23</td>\n",
       "      <td>21</td>\n",
       "      <td>0</td>\n",
       "      <td>0</td>\n",
       "      <td>0</td>\n",
       "      <td>0</td>\n",
       "      <td>49.3333</td>\n",
       "      <td>81.8182</td>\n",
       "      <td>0.5887</td>\n",
       "      <td>0.5282</td>\n",
       "      <td>21.2121</td>\n",
       "      <td>71.4286</td>\n",
       "      <td>20.6530</td>\n",
       "      <td>4.4117</td>\n",
       "      <td>9.9263</td>\n",
       "      <td>18.3673</td>\n",
       "      <td>1.3380</td>\n",
       "      <td>71.500</td>\n",
       "      <td>59.5833</td>\n",
       "      <td>104.7775</td>\n",
       "      <td>114.7038</td>\n",
       "      <td>-9.9263</td>\n",
       "      <td>0.3882</td>\n",
       "      <td>20.9823</td>\n",
       "      <td>1.2857</td>\n",
       "      <td>19.0476</td>\n",
       "      <td>90.6683</td>\n",
       "      <td>90.6683</td>\n",
       "      <td>11.0</td>\n",
       "      <td>11th</td>\n",
       "      <td>0.0</td>\n",
       "      <td>1.0</td>\n",
       "      <td>L1</td>\n",
       "      <td>loss</td>\n",
       "      <td>1.0</td>\n",
       "      <td>1.5</td>\n",
       "      <td>102.0</td>\n",
       "      <td>109.0</td>\n",
       "      <td>0.0</td>\n",
       "      <td>1.0</td>\n",
       "      <td>0.0</td>\n",
       "      <td>0.0</td>\n",
       "      <td>0.0</td>\n",
       "      <td>0.0</td>\n",
       "      <td>1.0</td>\n",
       "      <td>1.0</td>\n",
       "      <td>1.0</td>\n",
       "      <td>102.0</td>\n",
       "      <td>109.0</td>\n",
       "      <td>-7.0</td>\n",
       "      <td>1.0</td>\n",
       "      <td>1.0</td>\n",
       "      <td>2.0</td>\n",
       "      <td>0.0</td>\n",
       "      <td>0.0000</td>\n",
       "      <td>0.000000</td>\n",
       "      <td>-7.0</td>\n",
       "      <td>-7.0000</td>\n",
       "      <td>0.2695</td>\n",
       "      <td>0.2843</td>\n",
       "      <td>23.3126</td>\n",
       "      <td>58.6874</td>\n",
       "      <td>0.2506</td>\n",
       "      <td>20.5492</td>\n",
       "      <td>61.4508</td>\n",
       "      <td>5.0</td>\n",
       "      <td>5th</td>\n",
       "      <td>1.0</td>\n",
       "      <td>1.0</td>\n",
       "      <td>W1</td>\n",
       "      <td>win</td>\n",
       "      <td>1.0</td>\n",
       "      <td>1.0</td>\n",
       "      <td>190.0</td>\n",
       "      <td>178.0</td>\n",
       "      <td>1.0</td>\n",
       "      <td>0.0</td>\n",
       "      <td>0.0</td>\n",
       "      <td>1.0</td>\n",
       "      <td>1.0</td>\n",
       "      <td>1.0</td>\n",
       "      <td>1.0</td>\n",
       "      <td>1.0</td>\n",
       "      <td>2.0</td>\n",
       "      <td>95.0</td>\n",
       "      <td>89.0</td>\n",
       "      <td>6.0</td>\n",
       "      <td>2.0</td>\n",
       "      <td>2.0</td>\n",
       "      <td>5.0</td>\n",
       "      <td>1.0</td>\n",
       "      <td>0.7333</td>\n",
       "      <td>0.675000</td>\n",
       "      <td>6.00</td>\n",
       "      <td>5.2667</td>\n",
       "      <td>0.6976</td>\n",
       "      <td>0.7125</td>\n",
       "      <td>58.4250</td>\n",
       "      <td>23.5750</td>\n",
       "      <td>0.7458</td>\n",
       "      <td>61.1556</td>\n",
       "      <td>20.8444</td>\n",
       "      <td>422.1</td>\n",
       "      <td>9.0</td>\n",
       "      <td>-108.8</td>\n",
       "      <td>198.80</td>\n",
       "      <td>-109.8</td>\n",
       "      <td>-532.5</td>\n",
       "      <td>-9.0</td>\n",
       "      <td>-109.2</td>\n",
       "      <td>198.80</td>\n",
       "      <td>-88.3</td>\n",
       "    </tr>\n",
       "    <tr>\n",
       "      <th>3</th>\n",
       "      <td>10039</td>\n",
       "      <td>2012</td>\n",
       "      <td>2012-11-04</td>\n",
       "      <td>19:00</td>\n",
       "      <td>Regular</td>\n",
       "      <td>OKC</td>\n",
       "      <td>West</td>\n",
       "      <td>Northwest</td>\n",
       "      <td>Home</td>\n",
       "      <td>Loss</td>\n",
       "      <td>240</td>\n",
       "      <td>2</td>\n",
       "      <td>95</td>\n",
       "      <td>27</td>\n",
       "      <td>21</td>\n",
       "      <td>4</td>\n",
       "      <td>9</td>\n",
       "      <td>21</td>\n",
       "      <td>71</td>\n",
       "      <td>33</td>\n",
       "      <td>0.4648</td>\n",
       "      <td>49</td>\n",
       "      <td>24</td>\n",
       "      <td>0.4898</td>\n",
       "      <td>22</td>\n",
       "      <td>9</td>\n",
       "      <td>0.4091</td>\n",
       "      <td>22</td>\n",
       "      <td>20</td>\n",
       "      <td>0.9091</td>\n",
       "      <td>7</td>\n",
       "      <td>30</td>\n",
       "      <td>37</td>\n",
       "      <td>22</td>\n",
       "      <td>29</td>\n",
       "      <td>23</td>\n",
       "      <td>21</td>\n",
       "      <td>0</td>\n",
       "      <td>0</td>\n",
       "      <td>0</td>\n",
       "      <td>0</td>\n",
       "      <td>49.3333</td>\n",
       "      <td>81.8182</td>\n",
       "      <td>0.5887</td>\n",
       "      <td>0.5282</td>\n",
       "      <td>21.2121</td>\n",
       "      <td>71.4286</td>\n",
       "      <td>20.6530</td>\n",
       "      <td>4.4117</td>\n",
       "      <td>9.9263</td>\n",
       "      <td>18.3673</td>\n",
       "      <td>1.3380</td>\n",
       "      <td>71.500</td>\n",
       "      <td>59.5833</td>\n",
       "      <td>104.7775</td>\n",
       "      <td>114.7038</td>\n",
       "      <td>-9.9263</td>\n",
       "      <td>0.3882</td>\n",
       "      <td>20.9823</td>\n",
       "      <td>1.2857</td>\n",
       "      <td>19.0476</td>\n",
       "      <td>90.6683</td>\n",
       "      <td>90.6683</td>\n",
       "      <td>Wall</td>\n",
       "      <td>Scott</td>\n",
       "      <td>Callahan</td>\n",
       "      <td>Mike</td>\n",
       "      <td>Pantoja</td>\n",
       "      <td>Brenda</td>\n",
       "      <td>ATL</td>\n",
       "      <td>East</td>\n",
       "      <td>Southeast</td>\n",
       "      <td>Away</td>\n",
       "      <td>Win</td>\n",
       "      <td>240</td>\n",
       "      <td>2</td>\n",
       "      <td>104</td>\n",
       "      <td>20</td>\n",
       "      <td>11</td>\n",
       "      <td>12</td>\n",
       "      <td>1</td>\n",
       "      <td>20</td>\n",
       "      <td>83</td>\n",
       "      <td>41</td>\n",
       "      <td>0.4940</td>\n",
       "      <td>58</td>\n",
       "      <td>33</td>\n",
       "      <td>0.5690</td>\n",
       "      <td>25</td>\n",
       "      <td>8</td>\n",
       "      <td>0.3200</td>\n",
       "      <td>20</td>\n",
       "      <td>14</td>\n",
       "      <td>0.7000</td>\n",
       "      <td>12</td>\n",
       "      <td>26</td>\n",
       "      <td>38</td>\n",
       "      <td>30</td>\n",
       "      <td>17</td>\n",
       "      <td>28</td>\n",
       "      <td>29</td>\n",
       "      <td>0</td>\n",
       "      <td>0</td>\n",
       "      <td>0</td>\n",
       "      <td>0</td>\n",
       "      <td>50.6667</td>\n",
       "      <td>48.7805</td>\n",
       "      <td>0.5664</td>\n",
       "      <td>0.5422</td>\n",
       "      <td>28.5714</td>\n",
       "      <td>78.7879</td>\n",
       "      <td>10.7004</td>\n",
       "      <td>13.2351</td>\n",
       "      <td>1.1029</td>\n",
       "      <td>1.7241</td>\n",
       "      <td>1.2530</td>\n",
       "      <td>77.750</td>\n",
       "      <td>64.7917</td>\n",
       "      <td>114.7038</td>\n",
       "      <td>104.7775</td>\n",
       "      <td>9.9263</td>\n",
       "      <td>0.5000</td>\n",
       "      <td>16.2866</td>\n",
       "      <td>1.8182</td>\n",
       "      <td>109.0909</td>\n",
       "      <td>90.6683</td>\n",
       "      <td>90.6683</td>\n",
       "      <td>5.0</td>\n",
       "      <td>5th</td>\n",
       "      <td>1.0</td>\n",
       "      <td>1.0</td>\n",
       "      <td>W1</td>\n",
       "      <td>win</td>\n",
       "      <td>1.0</td>\n",
       "      <td>1.0</td>\n",
       "      <td>190.0</td>\n",
       "      <td>178.0</td>\n",
       "      <td>1.0</td>\n",
       "      <td>0.0</td>\n",
       "      <td>0.0</td>\n",
       "      <td>1.0</td>\n",
       "      <td>1.0</td>\n",
       "      <td>1.0</td>\n",
       "      <td>1.0</td>\n",
       "      <td>1.0</td>\n",
       "      <td>2.0</td>\n",
       "      <td>95.0</td>\n",
       "      <td>89.0</td>\n",
       "      <td>6.0</td>\n",
       "      <td>2.0</td>\n",
       "      <td>2.0</td>\n",
       "      <td>5.0</td>\n",
       "      <td>1.0</td>\n",
       "      <td>0.7333</td>\n",
       "      <td>0.675000</td>\n",
       "      <td>6.0</td>\n",
       "      <td>5.2667</td>\n",
       "      <td>0.6976</td>\n",
       "      <td>0.7125</td>\n",
       "      <td>58.4250</td>\n",
       "      <td>23.5750</td>\n",
       "      <td>0.7458</td>\n",
       "      <td>61.1556</td>\n",
       "      <td>20.8444</td>\n",
       "      <td>11.0</td>\n",
       "      <td>11th</td>\n",
       "      <td>0.0</td>\n",
       "      <td>1.0</td>\n",
       "      <td>L1</td>\n",
       "      <td>loss</td>\n",
       "      <td>1.0</td>\n",
       "      <td>1.5</td>\n",
       "      <td>102.0</td>\n",
       "      <td>109.0</td>\n",
       "      <td>0.0</td>\n",
       "      <td>1.0</td>\n",
       "      <td>0.0</td>\n",
       "      <td>0.0</td>\n",
       "      <td>0.0</td>\n",
       "      <td>0.0</td>\n",
       "      <td>1.0</td>\n",
       "      <td>1.0</td>\n",
       "      <td>1.0</td>\n",
       "      <td>102.0</td>\n",
       "      <td>109.0</td>\n",
       "      <td>-7.0</td>\n",
       "      <td>1.0</td>\n",
       "      <td>1.0</td>\n",
       "      <td>2.0</td>\n",
       "      <td>0.0</td>\n",
       "      <td>0.0000</td>\n",
       "      <td>0.000000</td>\n",
       "      <td>-7.00</td>\n",
       "      <td>-7.0000</td>\n",
       "      <td>0.2695</td>\n",
       "      <td>0.2843</td>\n",
       "      <td>23.3126</td>\n",
       "      <td>58.6874</td>\n",
       "      <td>0.2506</td>\n",
       "      <td>20.5492</td>\n",
       "      <td>61.4508</td>\n",
       "      <td>-532.5</td>\n",
       "      <td>-9.0</td>\n",
       "      <td>-109.2</td>\n",
       "      <td>198.80</td>\n",
       "      <td>-88.3</td>\n",
       "      <td>422.1</td>\n",
       "      <td>9.0</td>\n",
       "      <td>-108.8</td>\n",
       "      <td>198.80</td>\n",
       "      <td>-109.8</td>\n",
       "    </tr>\n",
       "    <tr>\n",
       "      <th>4</th>\n",
       "      <td>10057</td>\n",
       "      <td>2012</td>\n",
       "      <td>2012-11-07</td>\n",
       "      <td>19:30</td>\n",
       "      <td>Regular</td>\n",
       "      <td>ATL</td>\n",
       "      <td>East</td>\n",
       "      <td>Southeast</td>\n",
       "      <td>Home</td>\n",
       "      <td>Win</td>\n",
       "      <td>240</td>\n",
       "      <td>3</td>\n",
       "      <td>89</td>\n",
       "      <td>24</td>\n",
       "      <td>17</td>\n",
       "      <td>8</td>\n",
       "      <td>3</td>\n",
       "      <td>15</td>\n",
       "      <td>87</td>\n",
       "      <td>38</td>\n",
       "      <td>0.4368</td>\n",
       "      <td>65</td>\n",
       "      <td>31</td>\n",
       "      <td>0.4769</td>\n",
       "      <td>22</td>\n",
       "      <td>7</td>\n",
       "      <td>0.3182</td>\n",
       "      <td>12</td>\n",
       "      <td>6</td>\n",
       "      <td>0.5000</td>\n",
       "      <td>17</td>\n",
       "      <td>34</td>\n",
       "      <td>51</td>\n",
       "      <td>22</td>\n",
       "      <td>29</td>\n",
       "      <td>14</td>\n",
       "      <td>24</td>\n",
       "      <td>0</td>\n",
       "      <td>0</td>\n",
       "      <td>0</td>\n",
       "      <td>0</td>\n",
       "      <td>55.4348</td>\n",
       "      <td>63.1579</td>\n",
       "      <td>0.4822</td>\n",
       "      <td>0.4770</td>\n",
       "      <td>36.1702</td>\n",
       "      <td>75.5556</td>\n",
       "      <td>15.5564</td>\n",
       "      <td>8.8711</td>\n",
       "      <td>3.3267</td>\n",
       "      <td>4.6154</td>\n",
       "      <td>1.0230</td>\n",
       "      <td>72.250</td>\n",
       "      <td>60.2083</td>\n",
       "      <td>98.6912</td>\n",
       "      <td>95.3645</td>\n",
       "      <td>3.3267</td>\n",
       "      <td>0.4368</td>\n",
       "      <td>18.0072</td>\n",
       "      <td>1.4118</td>\n",
       "      <td>47.0588</td>\n",
       "      <td>90.1803</td>\n",
       "      <td>90.1803</td>\n",
       "      <td>Mauer</td>\n",
       "      <td>Ken</td>\n",
       "      <td>Richardson</td>\n",
       "      <td>Derek</td>\n",
       "      <td>Fitzgerald</td>\n",
       "      <td>Kane</td>\n",
       "      <td>IND</td>\n",
       "      <td>East</td>\n",
       "      <td>Central</td>\n",
       "      <td>Away</td>\n",
       "      <td>Loss</td>\n",
       "      <td>240</td>\n",
       "      <td>2</td>\n",
       "      <td>86</td>\n",
       "      <td>18</td>\n",
       "      <td>15</td>\n",
       "      <td>10</td>\n",
       "      <td>7</td>\n",
       "      <td>14</td>\n",
       "      <td>85</td>\n",
       "      <td>35</td>\n",
       "      <td>0.4118</td>\n",
       "      <td>59</td>\n",
       "      <td>27</td>\n",
       "      <td>0.4576</td>\n",
       "      <td>26</td>\n",
       "      <td>8</td>\n",
       "      <td>0.3077</td>\n",
       "      <td>9</td>\n",
       "      <td>8</td>\n",
       "      <td>0.8889</td>\n",
       "      <td>11</td>\n",
       "      <td>30</td>\n",
       "      <td>41</td>\n",
       "      <td>25</td>\n",
       "      <td>25</td>\n",
       "      <td>27</td>\n",
       "      <td>9</td>\n",
       "      <td>0</td>\n",
       "      <td>0</td>\n",
       "      <td>0</td>\n",
       "      <td>0</td>\n",
       "      <td>44.5652</td>\n",
       "      <td>51.4286</td>\n",
       "      <td>0.4834</td>\n",
       "      <td>0.4588</td>\n",
       "      <td>24.4444</td>\n",
       "      <td>63.8298</td>\n",
       "      <td>14.4286</td>\n",
       "      <td>11.0889</td>\n",
       "      <td>7.7622</td>\n",
       "      <td>11.8644</td>\n",
       "      <td>1.0118</td>\n",
       "      <td>65.375</td>\n",
       "      <td>54.4792</td>\n",
       "      <td>95.3645</td>\n",
       "      <td>98.6912</td>\n",
       "      <td>-3.3267</td>\n",
       "      <td>0.3933</td>\n",
       "      <td>14.7589</td>\n",
       "      <td>1.2000</td>\n",
       "      <td>66.6667</td>\n",
       "      <td>90.1803</td>\n",
       "      <td>90.1803</td>\n",
       "      <td>8.0</td>\n",
       "      <td>8th</td>\n",
       "      <td>1.0</td>\n",
       "      <td>1.0</td>\n",
       "      <td>W1</td>\n",
       "      <td>win</td>\n",
       "      <td>1.0</td>\n",
       "      <td>1.0</td>\n",
       "      <td>206.0</td>\n",
       "      <td>204.0</td>\n",
       "      <td>0.0</td>\n",
       "      <td>1.0</td>\n",
       "      <td>1.0</td>\n",
       "      <td>0.0</td>\n",
       "      <td>0.0</td>\n",
       "      <td>0.0</td>\n",
       "      <td>2.0</td>\n",
       "      <td>2.0</td>\n",
       "      <td>2.0</td>\n",
       "      <td>103.0</td>\n",
       "      <td>102.0</td>\n",
       "      <td>1.0</td>\n",
       "      <td>4.0</td>\n",
       "      <td>2.0</td>\n",
       "      <td>12.0</td>\n",
       "      <td>7.0</td>\n",
       "      <td>0.5278</td>\n",
       "      <td>0.520825</td>\n",
       "      <td>1.0</td>\n",
       "      <td>0.4722</td>\n",
       "      <td>0.5329</td>\n",
       "      <td>0.5339</td>\n",
       "      <td>43.7798</td>\n",
       "      <td>38.2202</td>\n",
       "      <td>0.5402</td>\n",
       "      <td>44.2964</td>\n",
       "      <td>37.7036</td>\n",
       "      <td>6.0</td>\n",
       "      <td>6th</td>\n",
       "      <td>2.0</td>\n",
       "      <td>2.0</td>\n",
       "      <td>L1</td>\n",
       "      <td>loss</td>\n",
       "      <td>1.0</td>\n",
       "      <td>1.5</td>\n",
       "      <td>364.0</td>\n",
       "      <td>377.0</td>\n",
       "      <td>1.0</td>\n",
       "      <td>0.0</td>\n",
       "      <td>1.0</td>\n",
       "      <td>2.0</td>\n",
       "      <td>1.0</td>\n",
       "      <td>1.0</td>\n",
       "      <td>2.0</td>\n",
       "      <td>2.0</td>\n",
       "      <td>4.0</td>\n",
       "      <td>91.0</td>\n",
       "      <td>94.2</td>\n",
       "      <td>-3.2</td>\n",
       "      <td>9.0</td>\n",
       "      <td>5.0</td>\n",
       "      <td>29.0</td>\n",
       "      <td>16.0</td>\n",
       "      <td>0.5543</td>\n",
       "      <td>0.540725</td>\n",
       "      <td>-3.25</td>\n",
       "      <td>-3.8043</td>\n",
       "      <td>0.3930</td>\n",
       "      <td>0.3803</td>\n",
       "      <td>31.1846</td>\n",
       "      <td>50.8154</td>\n",
       "      <td>0.3592</td>\n",
       "      <td>29.4544</td>\n",
       "      <td>52.5456</td>\n",
       "      <td>-176.0</td>\n",
       "      <td>-4.0</td>\n",
       "      <td>-109.9</td>\n",
       "      <td>191.55</td>\n",
       "      <td>-109.0</td>\n",
       "      <td>156.3</td>\n",
       "      <td>4.0</td>\n",
       "      <td>-88.1</td>\n",
       "      <td>191.55</td>\n",
       "      <td>-109.0</td>\n",
       "    </tr>\n",
       "  </tbody>\n",
       "</table>\n",
       "</div>"
      ],
      "text/plain": [
       "   gameID  seasID      gmDate gmTime  seasTyp teamAbbr_A teamConf_A  \\\n",
       "0   10020    2012  2012-11-02  19:30  Regular        ATL       East   \n",
       "1   10020    2012  2012-11-02  19:30  Regular        HOU       West   \n",
       "2   10039    2012  2012-11-04  19:00  Regular        ATL       East   \n",
       "3   10039    2012  2012-11-04  19:00  Regular        OKC       West   \n",
       "4   10057    2012  2012-11-07  19:30  Regular        ATL       East   \n",
       "\n",
       "   teamDiv_A teamLoc_A teamRslt_A  teamMin_A  teamDayOff_A  teamPTS_A  \\\n",
       "0  Southeast      Home       Loss        240             0        102   \n",
       "1  Southwest      Away        Win        240             2        109   \n",
       "2  Southeast      Away        Win        240             2        104   \n",
       "3  Northwest      Home       Loss        240             2         95   \n",
       "4  Southeast      Home        Win        240             3         89   \n",
       "\n",
       "   teamAST_A  teamTO_A  teamSTL_A  teamBLK_A  teamPF_A  teamFGA_A  teamFGM_A  \\\n",
       "0         23        13         12          4        26         85         40   \n",
       "1         22        21          8          2        18         90         38   \n",
       "2         20        11         12          1        20         83         41   \n",
       "3         27        21          4          9        21         71         33   \n",
       "4         24        17          8          3        15         87         38   \n",
       "\n",
       "   teamFG%_A  team2PA_A  team2PM_A  team2P%_A  team3PA_A  team3PM_A  \\\n",
       "0     0.4706         63         33     0.5238         22          7   \n",
       "1     0.4222         60         30     0.5000         30          8   \n",
       "2     0.4940         58         33     0.5690         25          8   \n",
       "3     0.4648         49         24     0.4898         22          9   \n",
       "4     0.4368         65         31     0.4769         22          7   \n",
       "\n",
       "   team3P%_A  teamFTA_A  teamFTM_A  teamFT%_A  teamORB_A  teamDRB_A  \\\n",
       "0     0.3182         17         15     0.8824          7         29   \n",
       "1     0.2667         29         25     0.8621         23         35   \n",
       "2     0.3200         20         14     0.7000         12         26   \n",
       "3     0.4091         22         20     0.9091          7         30   \n",
       "4     0.3182         12          6     0.5000         17         34   \n",
       "\n",
       "   teamTRB_A  teamPTS1_A  teamPTS2_A  teamPTS3_A  teamPTS4_A  teamPTS5_A  \\\n",
       "0         36          21          23          30          28           0   \n",
       "1         58          28          25          28          28           0   \n",
       "2         38          30          17          28          29           0   \n",
       "3         37          22          29          23          21           0   \n",
       "4         51          22          29          14          24           0   \n",
       "\n",
       "   teamPTS6_A  teamPTS7_A  teamPTS8_A  teamTREB%_A  teamASST%_A  teamTS%_A  \\\n",
       "0           0           0           0      38.2979      57.5000     0.5515   \n",
       "1           0           0           0      61.7021      57.8947     0.5304   \n",
       "2           0           0           0      50.6667      48.7805     0.5664   \n",
       "3           0           0           0      49.3333      81.8182     0.5887   \n",
       "4           0           0           0      55.4348      63.1579     0.4822   \n",
       "\n",
       "   teamEFG%_A  teamOREB%_A  teamDREB%_A  teamTO%_A  teamSTL%_A  teamBLK%_A  \\\n",
       "0      0.5118      16.6667      55.7692    12.3246     12.3226      4.1075   \n",
       "1      0.4667      44.2308      83.3333    16.9683      8.2151      2.0538   \n",
       "2      0.5422      28.5714      78.7879    10.7004     13.2351      1.1029   \n",
       "3      0.5282      21.2121      71.4286    20.6530      4.4117      9.9263   \n",
       "4      0.4770      36.1702      75.5556    15.5564      8.8711      3.3267   \n",
       "\n",
       "   teamBLKR_A  teamPPS_A  teamFIC_A  teamFIC40_A  teamOrtg_A  teamDrtg_A  \\\n",
       "0      6.3492     1.2000     73.625      61.3542    104.7423    111.9305   \n",
       "1      3.3333     1.2111     81.875      68.2292    111.9305    104.7423   \n",
       "2      1.7241     1.2530     77.750      64.7917    114.7038    104.7775   \n",
       "3     18.3673     1.3380     71.500      59.5833    104.7775    114.7038   \n",
       "4      4.6154     1.0230     72.250      60.2083     98.6912     95.3645   \n",
       "\n",
       "   teamEDiff_A  teamPlay%_A  teamAR_A  teamAST/TO_A  teamSTL/TO_A   poss_A  \\\n",
       "0      -7.1882       0.4396   17.9016        1.7692       92.3077  97.3819   \n",
       "1       7.1882       0.4318   15.0933        1.0476       38.0952  97.3819   \n",
       "2       9.9263       0.5000   16.2866        1.8182      109.0909  90.6683   \n",
       "3      -9.9263       0.3882   20.9823        1.2857       19.0476  90.6683   \n",
       "4       3.3267       0.4368   18.0072        1.4118       47.0588  90.1803   \n",
       "\n",
       "    pace_A offLNm1 offFNm1     offLNm2 offFNm2     offLNm3 offFNm3 teamAbbr_B  \\\n",
       "0  97.3819  Malloy      Ed      Wright    Sean     Barnaky   Brent        HOU   \n",
       "1  97.3819  Malloy      Ed      Wright    Sean     Barnaky   Brent        ATL   \n",
       "2  90.6683    Wall   Scott    Callahan    Mike     Pantoja  Brenda        OKC   \n",
       "3  90.6683    Wall   Scott    Callahan    Mike     Pantoja  Brenda        ATL   \n",
       "4  90.1803   Mauer     Ken  Richardson   Derek  Fitzgerald    Kane        IND   \n",
       "\n",
       "  teamConf_B  teamDiv_B teamLoc_B teamRslt_B  teamMin_B  teamDayOff_B  \\\n",
       "0       West  Southwest      Away        Win        240             2   \n",
       "1       East  Southeast      Home       Loss        240             0   \n",
       "2       West  Northwest      Home       Loss        240             2   \n",
       "3       East  Southeast      Away        Win        240             2   \n",
       "4       East    Central      Away       Loss        240             2   \n",
       "\n",
       "   teamPTS_B  teamAST_B  teamTO_B  teamSTL_B  teamBLK_B  teamPF_B  teamFGA_B  \\\n",
       "0        109         22        21          8          2        18         90   \n",
       "1        102         23        13         12          4        26         85   \n",
       "2         95         27        21          4          9        21         71   \n",
       "3        104         20        11         12          1        20         83   \n",
       "4         86         18        15         10          7        14         85   \n",
       "\n",
       "   teamFGM_B  teamFG%_B  team2PA_B  team2PM_B  team2P%_B  team3PA_B  \\\n",
       "0         38     0.4222         60         30     0.5000         30   \n",
       "1         40     0.4706         63         33     0.5238         22   \n",
       "2         33     0.4648         49         24     0.4898         22   \n",
       "3         41     0.4940         58         33     0.5690         25   \n",
       "4         35     0.4118         59         27     0.4576         26   \n",
       "\n",
       "   team3PM_B  team3P%_B  teamFTA_B  teamFTM_B  teamFT%_B  teamORB_B  \\\n",
       "0          8     0.2667         29         25     0.8621         23   \n",
       "1          7     0.3182         17         15     0.8824          7   \n",
       "2          9     0.4091         22         20     0.9091          7   \n",
       "3          8     0.3200         20         14     0.7000         12   \n",
       "4          8     0.3077          9          8     0.8889         11   \n",
       "\n",
       "   teamDRB_B  teamTRB_B  teamPTS1_B  teamPTS2_B  teamPTS3_B  teamPTS4_B  \\\n",
       "0         35         58          28          25          28          28   \n",
       "1         29         36          21          23          30          28   \n",
       "2         30         37          22          29          23          21   \n",
       "3         26         38          30          17          28          29   \n",
       "4         30         41          25          25          27           9   \n",
       "\n",
       "   teamPTS5_B  teamPTS6_B  teamPTS7_B  teamPTS8_B  teamTREB%_B  teamASST%_B  \\\n",
       "0           0           0           0           0      61.7021      57.8947   \n",
       "1           0           0           0           0      38.2979      57.5000   \n",
       "2           0           0           0           0      49.3333      81.8182   \n",
       "3           0           0           0           0      50.6667      48.7805   \n",
       "4           0           0           0           0      44.5652      51.4286   \n",
       "\n",
       "   teamTS%_B  teamEFG%_B  teamOREB%_B  teamDREB%_B  teamTO%_B  teamSTL%_B  \\\n",
       "0     0.5304      0.4667      44.2308      83.3333    16.9683      8.2151   \n",
       "1     0.5515      0.5118      16.6667      55.7692    12.3246     12.3226   \n",
       "2     0.5887      0.5282      21.2121      71.4286    20.6530      4.4117   \n",
       "3     0.5664      0.5422      28.5714      78.7879    10.7004     13.2351   \n",
       "4     0.4834      0.4588      24.4444      63.8298    14.4286     11.0889   \n",
       "\n",
       "   teamBLK%_B  teamBLKR_B  teamPPS_B  teamFIC_B  teamFIC40_B  teamOrtg_B  \\\n",
       "0      2.0538      3.3333     1.2111     81.875      68.2292    111.9305   \n",
       "1      4.1075      6.3492     1.2000     73.625      61.3542    104.7423   \n",
       "2      9.9263     18.3673     1.3380     71.500      59.5833    104.7775   \n",
       "3      1.1029      1.7241     1.2530     77.750      64.7917    114.7038   \n",
       "4      7.7622     11.8644     1.0118     65.375      54.4792     95.3645   \n",
       "\n",
       "   teamDrtg_B  teamEDiff_B  teamPlay%_B  teamAR_B  teamAST/TO_B  teamSTL/TO_B  \\\n",
       "0    104.7423       7.1882       0.4318   15.0933        1.0476       38.0952   \n",
       "1    111.9305      -7.1882       0.4396   17.9016        1.7692       92.3077   \n",
       "2    114.7038      -9.9263       0.3882   20.9823        1.2857       19.0476   \n",
       "3    104.7775       9.9263       0.5000   16.2866        1.8182      109.0909   \n",
       "4     98.6912      -3.3267       0.3933   14.7589        1.2000       66.6667   \n",
       "\n",
       "    poss_B   pace_B  rank_A rankOrd_A  gameWon_A  gameLost_A stk_A stkType_A  \\\n",
       "0  97.3819  97.3819     NaN       NaN        NaN         NaN   NaN       NaN   \n",
       "1  97.3819  97.3819     1.0       1st        1.0         0.0    W1       win   \n",
       "2  90.6683  90.6683    11.0      11th        0.0         1.0    L1      loss   \n",
       "3  90.6683  90.6683     5.0       5th        1.0         1.0    W1       win   \n",
       "4  90.1803  90.1803     8.0       8th        1.0         1.0    W1       win   \n",
       "\n",
       "   stkTot_A  gameBack_A  ptsFor_A  ptsAgnst_A  homeWin_A  homeLoss_A  \\\n",
       "0       NaN         NaN       NaN         NaN        NaN         NaN   \n",
       "1       1.0         0.0     105.0        96.0        0.0         0.0   \n",
       "2       1.0         1.5     102.0       109.0        0.0         1.0   \n",
       "3       1.0         1.0     190.0       178.0        1.0         0.0   \n",
       "4       1.0         1.0     206.0       204.0        0.0         1.0   \n",
       "\n",
       "   awayWin_A  awayLoss_A  confWin_A  confLoss_A  lastFive_A  lastTen_A  \\\n",
       "0        NaN         NaN        NaN         NaN         0.0        0.0   \n",
       "1        1.0         0.0        0.0         0.0         2.0        2.0   \n",
       "2        0.0         0.0        0.0         0.0         1.0        1.0   \n",
       "3        0.0         1.0        1.0         1.0         1.0        1.0   \n",
       "4        1.0         0.0        0.0         0.0         2.0        2.0   \n",
       "\n",
       "   gamePlay_A  ptsScore_A  ptsAllow_A  ptsDiff_A  opptGmPlay_A  opptGmWon_A  \\\n",
       "0         NaN         NaN         NaN        NaN           NaN          NaN   \n",
       "1         1.0       105.0        96.0        9.0           0.0          0.0   \n",
       "2         1.0       102.0       109.0       -7.0           1.0          1.0   \n",
       "3         2.0        95.0        89.0        6.0           2.0          2.0   \n",
       "4         2.0       103.0       102.0        1.0           4.0          2.0   \n",
       "\n",
       "   opptOpptGmPlay_A  opptOpptGmWon_A   sos_A  rel%Indx_A  mov_A   srs_A  \\\n",
       "0               NaN              NaN     NaN         NaN    NaN     NaN   \n",
       "1               0.0              0.0  0.0000    0.000000    9.0  9.0000   \n",
       "2               2.0              0.0  0.0000    0.000000   -7.0 -7.0000   \n",
       "3               5.0              1.0  0.7333    0.675000    6.0  5.2667   \n",
       "4              12.0              7.0  0.5278    0.520825    1.0  0.4722   \n",
       "\n",
       "    pw%_A  pyth%13.91_A  wpyth13.91_A  lpyth13.91_A  pyth%16.5_A  wpyth16.5_A  \\\n",
       "0     NaN           NaN           NaN           NaN          NaN          NaN   \n",
       "1  0.7963        0.7767       63.6894       18.3106       0.8144      66.7808   \n",
       "2  0.2695        0.2843       23.3126       58.6874       0.2506      20.5492   \n",
       "3  0.6976        0.7125       58.4250       23.5750       0.7458      61.1556   \n",
       "4  0.5329        0.5339       43.7798       38.2202       0.5402      44.2964   \n",
       "\n",
       "   lpyth16.5_A  rank_B rankOrd_B  gameWon_B  gameLost_B stk_B stkType_B  \\\n",
       "0          NaN     1.0       1st        1.0         0.0    W1       win   \n",
       "1      15.2192     NaN       NaN        NaN         NaN   NaN       NaN   \n",
       "2      61.4508     5.0       5th        1.0         1.0    W1       win   \n",
       "3      20.8444    11.0      11th        0.0         1.0    L1      loss   \n",
       "4      37.7036     6.0       6th        2.0         2.0    L1      loss   \n",
       "\n",
       "   stkTot_B  gameBack_B  ptsFor_B  ptsAgnst_B  homeWin_B  homeLoss_B  \\\n",
       "0       1.0         0.0     105.0        96.0        0.0         0.0   \n",
       "1       NaN         NaN       NaN         NaN        NaN         NaN   \n",
       "2       1.0         1.0     190.0       178.0        1.0         0.0   \n",
       "3       1.0         1.5     102.0       109.0        0.0         1.0   \n",
       "4       1.0         1.5     364.0       377.0        1.0         0.0   \n",
       "\n",
       "   awayWin_B  awayLoss_B  confWin_B  confLoss_B  lastFive_B  lastTen_B  \\\n",
       "0        1.0         0.0        0.0         0.0         2.0        2.0   \n",
       "1        NaN         NaN        NaN         NaN         0.0        0.0   \n",
       "2        0.0         1.0        1.0         1.0         1.0        1.0   \n",
       "3        0.0         0.0        0.0         0.0         1.0        1.0   \n",
       "4        1.0         2.0        1.0         1.0         2.0        2.0   \n",
       "\n",
       "   gamePlay_B  ptsScore_B  ptsAllow_B  ptsDiff_B  opptGmPlay_B  opptGmWon_B  \\\n",
       "0         1.0       105.0        96.0        9.0           0.0          0.0   \n",
       "1         NaN         NaN         NaN        NaN           NaN          NaN   \n",
       "2         2.0        95.0        89.0        6.0           2.0          2.0   \n",
       "3         1.0       102.0       109.0       -7.0           1.0          1.0   \n",
       "4         4.0        91.0        94.2       -3.2           9.0          5.0   \n",
       "\n",
       "   opptOpptGmPlay_B  opptOpptGmWon_B   sos_B  rel%Indx_B  mov_B   srs_B  \\\n",
       "0               0.0              0.0  0.0000    0.000000   9.00  9.0000   \n",
       "1               NaN              NaN     NaN         NaN    NaN     NaN   \n",
       "2               5.0              1.0  0.7333    0.675000   6.00  5.2667   \n",
       "3               2.0              0.0  0.0000    0.000000  -7.00 -7.0000   \n",
       "4              29.0             16.0  0.5543    0.540725  -3.25 -3.8043   \n",
       "\n",
       "    pw%_B  pyth%13.91_B  wpyth13.91_B  lpyth13.91_B  pyth%16.5_B  wpyth16.5_B  \\\n",
       "0  0.7963        0.7767       63.6894       18.3106       0.8144      66.7808   \n",
       "1     NaN           NaN           NaN           NaN          NaN          NaN   \n",
       "2  0.6976        0.7125       58.4250       23.5750       0.7458      61.1556   \n",
       "3  0.2695        0.2843       23.3126       58.6874       0.2506      20.5492   \n",
       "4  0.3930        0.3803       31.1846       50.8154       0.3592      29.4544   \n",
       "\n",
       "   lpyth16.5_B  line_price_A  spread_A  spread_price_A  total_A  \\\n",
       "0      15.2192        -213.5      -5.2          -109.3   203.00   \n",
       "1          NaN         181.6       5.2          -108.7   203.00   \n",
       "2      20.8444         422.1       9.0          -108.8   198.80   \n",
       "3      61.4508        -532.5      -9.0          -109.2   198.80   \n",
       "4      52.5456        -176.0      -4.0          -109.9   191.55   \n",
       "\n",
       "   total_price_A  line_price_B  spread_B  spread_price_B  total_B  \\\n",
       "0         -108.3         181.6       5.2          -108.7   203.00   \n",
       "1         -109.7        -213.5      -5.2          -109.3   203.00   \n",
       "2         -109.8        -532.5      -9.0          -109.2   198.80   \n",
       "3          -88.3         422.1       9.0          -108.8   198.80   \n",
       "4         -109.0         156.3       4.0           -88.1   191.55   \n",
       "\n",
       "   total_price_B  \n",
       "0         -109.7  \n",
       "1         -108.3  \n",
       "2          -88.3  \n",
       "3         -109.8  \n",
       "4         -109.0  "
      ]
     },
     "execution_count": 2,
     "metadata": {},
     "output_type": "execute_result"
    }
   ],
   "source": [
    "df = pd.read_csv('nba_2012-2018_reg_data.csv')\n",
    "df.head()"
   ]
  },
  {
   "cell_type": "code",
   "execution_count": 3,
   "metadata": {
    "Collapsed": "false"
   },
   "outputs": [
    {
     "data": {
      "text/html": [
       "<div>\n",
       "<style scoped>\n",
       "    .dataframe tbody tr th:only-of-type {\n",
       "        vertical-align: middle;\n",
       "    }\n",
       "\n",
       "    .dataframe tbody tr th {\n",
       "        vertical-align: top;\n",
       "    }\n",
       "\n",
       "    .dataframe thead th {\n",
       "        text-align: right;\n",
       "    }\n",
       "</style>\n",
       "<table border=\"1\" class=\"dataframe\">\n",
       "  <thead>\n",
       "    <tr style=\"text-align: right;\">\n",
       "      <th></th>\n",
       "      <th>gameID</th>\n",
       "      <th>seasID</th>\n",
       "      <th>gmDate</th>\n",
       "      <th>gmTime</th>\n",
       "      <th>seasTyp</th>\n",
       "      <th>teamAbbr_A</th>\n",
       "      <th>teamConf_A</th>\n",
       "      <th>teamDiv_A</th>\n",
       "      <th>teamLoc_A</th>\n",
       "      <th>teamRslt_A</th>\n",
       "      <th>teamMin_A</th>\n",
       "      <th>teamDayOff_A</th>\n",
       "      <th>teamPTS_A</th>\n",
       "      <th>teamAST_A</th>\n",
       "      <th>teamTO_A</th>\n",
       "      <th>teamSTL_A</th>\n",
       "      <th>teamBLK_A</th>\n",
       "      <th>teamPF_A</th>\n",
       "      <th>teamFGA_A</th>\n",
       "      <th>teamFGM_A</th>\n",
       "      <th>teamFG%_A</th>\n",
       "      <th>team2PA_A</th>\n",
       "      <th>team2PM_A</th>\n",
       "      <th>team2P%_A</th>\n",
       "      <th>team3PA_A</th>\n",
       "      <th>team3PM_A</th>\n",
       "      <th>team3P%_A</th>\n",
       "      <th>teamFTA_A</th>\n",
       "      <th>teamFTM_A</th>\n",
       "      <th>teamFT%_A</th>\n",
       "      <th>teamORB_A</th>\n",
       "      <th>teamDRB_A</th>\n",
       "      <th>teamTRB_A</th>\n",
       "      <th>teamPTS1_A</th>\n",
       "      <th>teamPTS2_A</th>\n",
       "      <th>teamPTS3_A</th>\n",
       "      <th>teamPTS4_A</th>\n",
       "      <th>teamPTS5_A</th>\n",
       "      <th>teamPTS6_A</th>\n",
       "      <th>teamPTS7_A</th>\n",
       "      <th>teamPTS8_A</th>\n",
       "      <th>teamTREB%_A</th>\n",
       "      <th>teamASST%_A</th>\n",
       "      <th>teamTS%_A</th>\n",
       "      <th>teamEFG%_A</th>\n",
       "      <th>teamOREB%_A</th>\n",
       "      <th>teamDREB%_A</th>\n",
       "      <th>teamTO%_A</th>\n",
       "      <th>teamSTL%_A</th>\n",
       "      <th>teamBLK%_A</th>\n",
       "      <th>teamBLKR_A</th>\n",
       "      <th>teamPPS_A</th>\n",
       "      <th>teamFIC_A</th>\n",
       "      <th>teamFIC40_A</th>\n",
       "      <th>teamOrtg_A</th>\n",
       "      <th>teamDrtg_A</th>\n",
       "      <th>teamEDiff_A</th>\n",
       "      <th>teamPlay%_A</th>\n",
       "      <th>teamAR_A</th>\n",
       "      <th>teamAST/TO_A</th>\n",
       "      <th>teamSTL/TO_A</th>\n",
       "      <th>poss_A</th>\n",
       "      <th>pace_A</th>\n",
       "      <th>offLNm1</th>\n",
       "      <th>offFNm1</th>\n",
       "      <th>offLNm2</th>\n",
       "      <th>offFNm2</th>\n",
       "      <th>offLNm3</th>\n",
       "      <th>offFNm3</th>\n",
       "      <th>teamAbbr_B</th>\n",
       "      <th>teamConf_B</th>\n",
       "      <th>teamDiv_B</th>\n",
       "      <th>teamLoc_B</th>\n",
       "      <th>teamRslt_B</th>\n",
       "      <th>teamMin_B</th>\n",
       "      <th>teamDayOff_B</th>\n",
       "      <th>teamPTS_B</th>\n",
       "      <th>teamAST_B</th>\n",
       "      <th>teamTO_B</th>\n",
       "      <th>teamSTL_B</th>\n",
       "      <th>teamBLK_B</th>\n",
       "      <th>teamPF_B</th>\n",
       "      <th>teamFGA_B</th>\n",
       "      <th>teamFGM_B</th>\n",
       "      <th>teamFG%_B</th>\n",
       "      <th>team2PA_B</th>\n",
       "      <th>team2PM_B</th>\n",
       "      <th>team2P%_B</th>\n",
       "      <th>team3PA_B</th>\n",
       "      <th>team3PM_B</th>\n",
       "      <th>team3P%_B</th>\n",
       "      <th>teamFTA_B</th>\n",
       "      <th>teamFTM_B</th>\n",
       "      <th>teamFT%_B</th>\n",
       "      <th>teamORB_B</th>\n",
       "      <th>teamDRB_B</th>\n",
       "      <th>teamTRB_B</th>\n",
       "      <th>teamPTS1_B</th>\n",
       "      <th>teamPTS2_B</th>\n",
       "      <th>teamPTS3_B</th>\n",
       "      <th>teamPTS4_B</th>\n",
       "      <th>teamPTS5_B</th>\n",
       "      <th>teamPTS6_B</th>\n",
       "      <th>teamPTS7_B</th>\n",
       "      <th>teamPTS8_B</th>\n",
       "      <th>teamTREB%_B</th>\n",
       "      <th>teamASST%_B</th>\n",
       "      <th>teamTS%_B</th>\n",
       "      <th>teamEFG%_B</th>\n",
       "      <th>teamOREB%_B</th>\n",
       "      <th>teamDREB%_B</th>\n",
       "      <th>teamTO%_B</th>\n",
       "      <th>teamSTL%_B</th>\n",
       "      <th>teamBLK%_B</th>\n",
       "      <th>teamBLKR_B</th>\n",
       "      <th>teamPPS_B</th>\n",
       "      <th>teamFIC_B</th>\n",
       "      <th>teamFIC40_B</th>\n",
       "      <th>teamOrtg_B</th>\n",
       "      <th>teamDrtg_B</th>\n",
       "      <th>teamEDiff_B</th>\n",
       "      <th>teamPlay%_B</th>\n",
       "      <th>teamAR_B</th>\n",
       "      <th>teamAST/TO_B</th>\n",
       "      <th>teamSTL/TO_B</th>\n",
       "      <th>poss_B</th>\n",
       "      <th>pace_B</th>\n",
       "      <th>rank_A</th>\n",
       "      <th>rankOrd_A</th>\n",
       "      <th>gameWon_A</th>\n",
       "      <th>gameLost_A</th>\n",
       "      <th>stk_A</th>\n",
       "      <th>stkType_A</th>\n",
       "      <th>stkTot_A</th>\n",
       "      <th>gameBack_A</th>\n",
       "      <th>ptsFor_A</th>\n",
       "      <th>ptsAgnst_A</th>\n",
       "      <th>homeWin_A</th>\n",
       "      <th>homeLoss_A</th>\n",
       "      <th>awayWin_A</th>\n",
       "      <th>awayLoss_A</th>\n",
       "      <th>confWin_A</th>\n",
       "      <th>confLoss_A</th>\n",
       "      <th>lastFive_A</th>\n",
       "      <th>lastTen_A</th>\n",
       "      <th>gamePlay_A</th>\n",
       "      <th>ptsScore_A</th>\n",
       "      <th>ptsAllow_A</th>\n",
       "      <th>ptsDiff_A</th>\n",
       "      <th>opptGmPlay_A</th>\n",
       "      <th>opptGmWon_A</th>\n",
       "      <th>opptOpptGmPlay_A</th>\n",
       "      <th>opptOpptGmWon_A</th>\n",
       "      <th>sos_A</th>\n",
       "      <th>rel%Indx_A</th>\n",
       "      <th>mov_A</th>\n",
       "      <th>srs_A</th>\n",
       "      <th>pw%_A</th>\n",
       "      <th>pyth%13.91_A</th>\n",
       "      <th>wpyth13.91_A</th>\n",
       "      <th>lpyth13.91_A</th>\n",
       "      <th>pyth%16.5_A</th>\n",
       "      <th>wpyth16.5_A</th>\n",
       "      <th>lpyth16.5_A</th>\n",
       "      <th>rank_B</th>\n",
       "      <th>rankOrd_B</th>\n",
       "      <th>gameWon_B</th>\n",
       "      <th>gameLost_B</th>\n",
       "      <th>stk_B</th>\n",
       "      <th>stkType_B</th>\n",
       "      <th>stkTot_B</th>\n",
       "      <th>gameBack_B</th>\n",
       "      <th>ptsFor_B</th>\n",
       "      <th>ptsAgnst_B</th>\n",
       "      <th>homeWin_B</th>\n",
       "      <th>homeLoss_B</th>\n",
       "      <th>awayWin_B</th>\n",
       "      <th>awayLoss_B</th>\n",
       "      <th>confWin_B</th>\n",
       "      <th>confLoss_B</th>\n",
       "      <th>lastFive_B</th>\n",
       "      <th>lastTen_B</th>\n",
       "      <th>gamePlay_B</th>\n",
       "      <th>ptsScore_B</th>\n",
       "      <th>ptsAllow_B</th>\n",
       "      <th>ptsDiff_B</th>\n",
       "      <th>opptGmPlay_B</th>\n",
       "      <th>opptGmWon_B</th>\n",
       "      <th>opptOpptGmPlay_B</th>\n",
       "      <th>opptOpptGmWon_B</th>\n",
       "      <th>sos_B</th>\n",
       "      <th>rel%Indx_B</th>\n",
       "      <th>mov_B</th>\n",
       "      <th>srs_B</th>\n",
       "      <th>pw%_B</th>\n",
       "      <th>pyth%13.91_B</th>\n",
       "      <th>wpyth13.91_B</th>\n",
       "      <th>lpyth13.91_B</th>\n",
       "      <th>pyth%16.5_B</th>\n",
       "      <th>wpyth16.5_B</th>\n",
       "      <th>lpyth16.5_B</th>\n",
       "      <th>line_price_A</th>\n",
       "      <th>spread_A</th>\n",
       "      <th>spread_price_A</th>\n",
       "      <th>total_A</th>\n",
       "      <th>total_price_A</th>\n",
       "      <th>line_price_B</th>\n",
       "      <th>spread_B</th>\n",
       "      <th>spread_price_B</th>\n",
       "      <th>total_B</th>\n",
       "      <th>total_price_B</th>\n",
       "    </tr>\n",
       "  </thead>\n",
       "  <tbody>\n",
       "    <tr>\n",
       "      <th>14753</th>\n",
       "      <td>16047</td>\n",
       "      <td>2016</td>\n",
       "      <td>2017-03-31</td>\n",
       "      <td>09:00</td>\n",
       "      <td>Regular</td>\n",
       "      <td>WAS</td>\n",
       "      <td>East</td>\n",
       "      <td>Southeast</td>\n",
       "      <td>Away</td>\n",
       "      <td>Loss</td>\n",
       "      <td>241</td>\n",
       "      <td>1</td>\n",
       "      <td>88</td>\n",
       "      <td>12</td>\n",
       "      <td>15</td>\n",
       "      <td>8</td>\n",
       "      <td>1</td>\n",
       "      <td>23</td>\n",
       "      <td>87</td>\n",
       "      <td>35</td>\n",
       "      <td>0.4023</td>\n",
       "      <td>70</td>\n",
       "      <td>30</td>\n",
       "      <td>0.4286</td>\n",
       "      <td>17</td>\n",
       "      <td>5</td>\n",
       "      <td>0.2941</td>\n",
       "      <td>16</td>\n",
       "      <td>13</td>\n",
       "      <td>0.8125</td>\n",
       "      <td>14</td>\n",
       "      <td>31</td>\n",
       "      <td>45</td>\n",
       "      <td>19</td>\n",
       "      <td>20</td>\n",
       "      <td>22</td>\n",
       "      <td>27</td>\n",
       "      <td>0</td>\n",
       "      <td>0</td>\n",
       "      <td>0</td>\n",
       "      <td>0</td>\n",
       "      <td>51.7241</td>\n",
       "      <td>34.2857</td>\n",
       "      <td>0.4679</td>\n",
       "      <td>0.4310</td>\n",
       "      <td>28.5714</td>\n",
       "      <td>81.5789</td>\n",
       "      <td>13.7564</td>\n",
       "      <td>8.8292</td>\n",
       "      <td>1.1036</td>\n",
       "      <td>1.4286</td>\n",
       "      <td>1.0115</td>\n",
       "      <td>48.500</td>\n",
       "      <td>40.2490</td>\n",
       "      <td>97.1211</td>\n",
       "      <td>104.8467</td>\n",
       "      <td>-7.7256</td>\n",
       "      <td>0.3977</td>\n",
       "      <td>9.9141</td>\n",
       "      <td>0.8000</td>\n",
       "      <td>53.3333</td>\n",
       "      <td>90.6085</td>\n",
       "      <td>90.2325</td>\n",
       "      <td>Goble</td>\n",
       "      <td>John</td>\n",
       "      <td>Lindsay</td>\n",
       "      <td>Mark</td>\n",
       "      <td>Cutler</td>\n",
       "      <td>Kevin</td>\n",
       "      <td>UTA</td>\n",
       "      <td>West</td>\n",
       "      <td>Northwest</td>\n",
       "      <td>Home</td>\n",
       "      <td>Win</td>\n",
       "      <td>240</td>\n",
       "      <td>1</td>\n",
       "      <td>95</td>\n",
       "      <td>20</td>\n",
       "      <td>12</td>\n",
       "      <td>9</td>\n",
       "      <td>7</td>\n",
       "      <td>18</td>\n",
       "      <td>72</td>\n",
       "      <td>33</td>\n",
       "      <td>0.4583</td>\n",
       "      <td>47</td>\n",
       "      <td>23</td>\n",
       "      <td>0.4894</td>\n",
       "      <td>25</td>\n",
       "      <td>10</td>\n",
       "      <td>0.4000</td>\n",
       "      <td>31</td>\n",
       "      <td>19</td>\n",
       "      <td>0.6129</td>\n",
       "      <td>7</td>\n",
       "      <td>35</td>\n",
       "      <td>42</td>\n",
       "      <td>24</td>\n",
       "      <td>18</td>\n",
       "      <td>22</td>\n",
       "      <td>31</td>\n",
       "      <td>0</td>\n",
       "      <td>0</td>\n",
       "      <td>0</td>\n",
       "      <td>0</td>\n",
       "      <td>48.2759</td>\n",
       "      <td>60.6061</td>\n",
       "      <td>0.5546</td>\n",
       "      <td>0.5278</td>\n",
       "      <td>18.4211</td>\n",
       "      <td>71.4286</td>\n",
       "      <td>12.2900</td>\n",
       "      <td>9.9328</td>\n",
       "      <td>7.7255</td>\n",
       "      <td>14.8936</td>\n",
       "      <td>1.3194</td>\n",
       "      <td>77.625</td>\n",
       "      <td>64.6875</td>\n",
       "      <td>104.8467</td>\n",
       "      <td>97.1211</td>\n",
       "      <td>7.7256</td>\n",
       "      <td>0.4286</td>\n",
       "      <td>17.0010</td>\n",
       "      <td>1.6667</td>\n",
       "      <td>75.0000</td>\n",
       "      <td>90.6085</td>\n",
       "      <td>90.6085</td>\n",
       "      <td>3.0</td>\n",
       "      <td>3rd</td>\n",
       "      <td>46.0</td>\n",
       "      <td>29.0</td>\n",
       "      <td>L1</td>\n",
       "      <td>loss</td>\n",
       "      <td>1.0</td>\n",
       "      <td>2.0</td>\n",
       "      <td>8216.0</td>\n",
       "      <td>8042.0</td>\n",
       "      <td>29.0</td>\n",
       "      <td>10.0</td>\n",
       "      <td>17.0</td>\n",
       "      <td>19.0</td>\n",
       "      <td>29.0</td>\n",
       "      <td>18.0</td>\n",
       "      <td>3.0</td>\n",
       "      <td>5.0</td>\n",
       "      <td>75.0</td>\n",
       "      <td>109.5</td>\n",
       "      <td>107.2</td>\n",
       "      <td>2.3</td>\n",
       "      <td>5376.0</td>\n",
       "      <td>2623.0</td>\n",
       "      <td>401052.0</td>\n",
       "      <td>198707.0</td>\n",
       "      <td>0.4904</td>\n",
       "      <td>0.521150</td>\n",
       "      <td>2.3200</td>\n",
       "      <td>1.8296</td>\n",
       "      <td>0.5764</td>\n",
       "      <td>0.5739</td>\n",
       "      <td>47.0598</td>\n",
       "      <td>34.9402</td>\n",
       "      <td>0.5874</td>\n",
       "      <td>48.1668</td>\n",
       "      <td>33.8332</td>\n",
       "      <td>4.0</td>\n",
       "      <td>4th</td>\n",
       "      <td>46.0</td>\n",
       "      <td>29.0</td>\n",
       "      <td>W2</td>\n",
       "      <td>win</td>\n",
       "      <td>2.0</td>\n",
       "      <td>15.0</td>\n",
       "      <td>7542.0</td>\n",
       "      <td>7241.0</td>\n",
       "      <td>25.0</td>\n",
       "      <td>12.0</td>\n",
       "      <td>21.0</td>\n",
       "      <td>17.0</td>\n",
       "      <td>27.0</td>\n",
       "      <td>19.0</td>\n",
       "      <td>4.0</td>\n",
       "      <td>6.0</td>\n",
       "      <td>75.0</td>\n",
       "      <td>100.6</td>\n",
       "      <td>96.5</td>\n",
       "      <td>4.0</td>\n",
       "      <td>5375.0</td>\n",
       "      <td>2638.0</td>\n",
       "      <td>400891.0</td>\n",
       "      <td>199766.0</td>\n",
       "      <td>0.4933</td>\n",
       "      <td>0.523300</td>\n",
       "      <td>4.0133</td>\n",
       "      <td>3.5200</td>\n",
       "      <td>0.6321</td>\n",
       "      <td>0.6380</td>\n",
       "      <td>52.3160</td>\n",
       "      <td>29.6840</td>\n",
       "      <td>0.6620</td>\n",
       "      <td>54.2840</td>\n",
       "      <td>27.7160</td>\n",
       "      <td>124.8</td>\n",
       "      <td>2.75</td>\n",
       "      <td>-109.1</td>\n",
       "      <td>208.4</td>\n",
       "      <td>-109.2</td>\n",
       "      <td>-143.1</td>\n",
       "      <td>-2.75</td>\n",
       "      <td>-107.9</td>\n",
       "      <td>208.4</td>\n",
       "      <td>-107.8</td>\n",
       "    </tr>\n",
       "    <tr>\n",
       "      <th>14754</th>\n",
       "      <td>16496</td>\n",
       "      <td>2017</td>\n",
       "      <td>2017-12-04</td>\n",
       "      <td>09:00</td>\n",
       "      <td>Regular</td>\n",
       "      <td>UTA</td>\n",
       "      <td>West</td>\n",
       "      <td>Northwest</td>\n",
       "      <td>Home</td>\n",
       "      <td>Win</td>\n",
       "      <td>241</td>\n",
       "      <td>3</td>\n",
       "      <td>116</td>\n",
       "      <td>29</td>\n",
       "      <td>16</td>\n",
       "      <td>9</td>\n",
       "      <td>3</td>\n",
       "      <td>20</td>\n",
       "      <td>76</td>\n",
       "      <td>43</td>\n",
       "      <td>0.5658</td>\n",
       "      <td>42</td>\n",
       "      <td>27</td>\n",
       "      <td>0.6429</td>\n",
       "      <td>34</td>\n",
       "      <td>16</td>\n",
       "      <td>0.4706</td>\n",
       "      <td>18</td>\n",
       "      <td>14</td>\n",
       "      <td>0.7778</td>\n",
       "      <td>10</td>\n",
       "      <td>42</td>\n",
       "      <td>52</td>\n",
       "      <td>29</td>\n",
       "      <td>35</td>\n",
       "      <td>24</td>\n",
       "      <td>28</td>\n",
       "      <td>0</td>\n",
       "      <td>0</td>\n",
       "      <td>0</td>\n",
       "      <td>0</td>\n",
       "      <td>62.6506</td>\n",
       "      <td>67.4419</td>\n",
       "      <td>0.6911</td>\n",
       "      <td>0.6711</td>\n",
       "      <td>34.4828</td>\n",
       "      <td>77.7778</td>\n",
       "      <td>16.0128</td>\n",
       "      <td>10.2463</td>\n",
       "      <td>3.4154</td>\n",
       "      <td>7.1429</td>\n",
       "      <td>1.5263</td>\n",
       "      <td>108.750</td>\n",
       "      <td>90.2490</td>\n",
       "      <td>132.0634</td>\n",
       "      <td>78.5550</td>\n",
       "      <td>53.5084</td>\n",
       "      <td>0.5244</td>\n",
       "      <td>22.4946</td>\n",
       "      <td>1.8125</td>\n",
       "      <td>56.2500</td>\n",
       "      <td>87.8366</td>\n",
       "      <td>87.4721</td>\n",
       "      <td>Taylor</td>\n",
       "      <td>Ben</td>\n",
       "      <td>Garretson</td>\n",
       "      <td>Ron</td>\n",
       "      <td>Davis</td>\n",
       "      <td>Marc</td>\n",
       "      <td>WAS</td>\n",
       "      <td>East</td>\n",
       "      <td>Southeast</td>\n",
       "      <td>Away</td>\n",
       "      <td>Loss</td>\n",
       "      <td>240</td>\n",
       "      <td>3</td>\n",
       "      <td>69</td>\n",
       "      <td>9</td>\n",
       "      <td>13</td>\n",
       "      <td>8</td>\n",
       "      <td>2</td>\n",
       "      <td>21</td>\n",
       "      <td>80</td>\n",
       "      <td>23</td>\n",
       "      <td>0.2875</td>\n",
       "      <td>60</td>\n",
       "      <td>19</td>\n",
       "      <td>0.3167</td>\n",
       "      <td>20</td>\n",
       "      <td>4</td>\n",
       "      <td>0.2000</td>\n",
       "      <td>23</td>\n",
       "      <td>19</td>\n",
       "      <td>0.8261</td>\n",
       "      <td>12</td>\n",
       "      <td>19</td>\n",
       "      <td>31</td>\n",
       "      <td>15</td>\n",
       "      <td>15</td>\n",
       "      <td>22</td>\n",
       "      <td>17</td>\n",
       "      <td>0</td>\n",
       "      <td>0</td>\n",
       "      <td>0</td>\n",
       "      <td>0</td>\n",
       "      <td>37.3494</td>\n",
       "      <td>39.1304</td>\n",
       "      <td>0.3828</td>\n",
       "      <td>0.3125</td>\n",
       "      <td>22.2222</td>\n",
       "      <td>65.5172</td>\n",
       "      <td>12.6067</td>\n",
       "      <td>9.1078</td>\n",
       "      <td>2.2770</td>\n",
       "      <td>3.3333</td>\n",
       "      <td>0.8625</td>\n",
       "      <td>22.125</td>\n",
       "      <td>18.4375</td>\n",
       "      <td>78.5550</td>\n",
       "      <td>132.0634</td>\n",
       "      <td>-53.5084</td>\n",
       "      <td>0.2840</td>\n",
       "      <td>8.0271</td>\n",
       "      <td>0.6923</td>\n",
       "      <td>61.5385</td>\n",
       "      <td>87.8366</td>\n",
       "      <td>87.8366</td>\n",
       "      <td>7.0</td>\n",
       "      <td>7th</td>\n",
       "      <td>12.0</td>\n",
       "      <td>11.0</td>\n",
       "      <td>W5</td>\n",
       "      <td>win</td>\n",
       "      <td>5.0</td>\n",
       "      <td>6.0</td>\n",
       "      <td>2372.0</td>\n",
       "      <td>2300.0</td>\n",
       "      <td>10.0</td>\n",
       "      <td>4.0</td>\n",
       "      <td>2.0</td>\n",
       "      <td>7.0</td>\n",
       "      <td>8.0</td>\n",
       "      <td>5.0</td>\n",
       "      <td>5.0</td>\n",
       "      <td>7.0</td>\n",
       "      <td>23.0</td>\n",
       "      <td>103.1</td>\n",
       "      <td>100.0</td>\n",
       "      <td>3.1</td>\n",
       "      <td>459.0</td>\n",
       "      <td>219.0</td>\n",
       "      <td>9981.0</td>\n",
       "      <td>4973.0</td>\n",
       "      <td>0.4841</td>\n",
       "      <td>0.493525</td>\n",
       "      <td>3.1304</td>\n",
       "      <td>2.6463</td>\n",
       "      <td>0.6031</td>\n",
       "      <td>0.6056</td>\n",
       "      <td>49.6592</td>\n",
       "      <td>32.3408</td>\n",
       "      <td>0.6245</td>\n",
       "      <td>51.2090</td>\n",
       "      <td>30.7910</td>\n",
       "      <td>6.0</td>\n",
       "      <td>6th</td>\n",
       "      <td>12.0</td>\n",
       "      <td>10.0</td>\n",
       "      <td>W1</td>\n",
       "      <td>win</td>\n",
       "      <td>1.0</td>\n",
       "      <td>6.5</td>\n",
       "      <td>2371.0</td>\n",
       "      <td>2284.0</td>\n",
       "      <td>6.0</td>\n",
       "      <td>5.0</td>\n",
       "      <td>6.0</td>\n",
       "      <td>5.0</td>\n",
       "      <td>7.0</td>\n",
       "      <td>5.0</td>\n",
       "      <td>2.0</td>\n",
       "      <td>4.0</td>\n",
       "      <td>22.0</td>\n",
       "      <td>107.8</td>\n",
       "      <td>103.8</td>\n",
       "      <td>4.0</td>\n",
       "      <td>440.0</td>\n",
       "      <td>224.0</td>\n",
       "      <td>9543.0</td>\n",
       "      <td>4823.0</td>\n",
       "      <td>0.5079</td>\n",
       "      <td>0.517275</td>\n",
       "      <td>3.9545</td>\n",
       "      <td>3.4466</td>\n",
       "      <td>0.6302</td>\n",
       "      <td>0.6271</td>\n",
       "      <td>51.4222</td>\n",
       "      <td>30.5778</td>\n",
       "      <td>0.6495</td>\n",
       "      <td>53.2590</td>\n",
       "      <td>28.7410</td>\n",
       "      <td>-168.2</td>\n",
       "      <td>-4.00</td>\n",
       "      <td>-109.5</td>\n",
       "      <td>196.4</td>\n",
       "      <td>-110.8</td>\n",
       "      <td>148.8</td>\n",
       "      <td>4.00</td>\n",
       "      <td>-107.5</td>\n",
       "      <td>196.4</td>\n",
       "      <td>-86.3</td>\n",
       "    </tr>\n",
       "    <tr>\n",
       "      <th>14755</th>\n",
       "      <td>16496</td>\n",
       "      <td>2017</td>\n",
       "      <td>2017-12-04</td>\n",
       "      <td>09:00</td>\n",
       "      <td>Regular</td>\n",
       "      <td>WAS</td>\n",
       "      <td>East</td>\n",
       "      <td>Southeast</td>\n",
       "      <td>Away</td>\n",
       "      <td>Loss</td>\n",
       "      <td>240</td>\n",
       "      <td>3</td>\n",
       "      <td>69</td>\n",
       "      <td>9</td>\n",
       "      <td>13</td>\n",
       "      <td>8</td>\n",
       "      <td>2</td>\n",
       "      <td>21</td>\n",
       "      <td>80</td>\n",
       "      <td>23</td>\n",
       "      <td>0.2875</td>\n",
       "      <td>60</td>\n",
       "      <td>19</td>\n",
       "      <td>0.3167</td>\n",
       "      <td>20</td>\n",
       "      <td>4</td>\n",
       "      <td>0.2000</td>\n",
       "      <td>23</td>\n",
       "      <td>19</td>\n",
       "      <td>0.8261</td>\n",
       "      <td>12</td>\n",
       "      <td>19</td>\n",
       "      <td>31</td>\n",
       "      <td>15</td>\n",
       "      <td>15</td>\n",
       "      <td>22</td>\n",
       "      <td>17</td>\n",
       "      <td>0</td>\n",
       "      <td>0</td>\n",
       "      <td>0</td>\n",
       "      <td>0</td>\n",
       "      <td>37.3494</td>\n",
       "      <td>39.1304</td>\n",
       "      <td>0.3828</td>\n",
       "      <td>0.3125</td>\n",
       "      <td>22.2222</td>\n",
       "      <td>65.5172</td>\n",
       "      <td>12.6067</td>\n",
       "      <td>9.1078</td>\n",
       "      <td>2.2770</td>\n",
       "      <td>3.3333</td>\n",
       "      <td>0.8625</td>\n",
       "      <td>22.125</td>\n",
       "      <td>18.4375</td>\n",
       "      <td>78.5550</td>\n",
       "      <td>132.0634</td>\n",
       "      <td>-53.5084</td>\n",
       "      <td>0.2840</td>\n",
       "      <td>8.0271</td>\n",
       "      <td>0.6923</td>\n",
       "      <td>61.5385</td>\n",
       "      <td>87.8366</td>\n",
       "      <td>87.8366</td>\n",
       "      <td>Taylor</td>\n",
       "      <td>Ben</td>\n",
       "      <td>Garretson</td>\n",
       "      <td>Ron</td>\n",
       "      <td>Davis</td>\n",
       "      <td>Marc</td>\n",
       "      <td>UTA</td>\n",
       "      <td>West</td>\n",
       "      <td>Northwest</td>\n",
       "      <td>Home</td>\n",
       "      <td>Win</td>\n",
       "      <td>241</td>\n",
       "      <td>3</td>\n",
       "      <td>116</td>\n",
       "      <td>29</td>\n",
       "      <td>16</td>\n",
       "      <td>9</td>\n",
       "      <td>3</td>\n",
       "      <td>20</td>\n",
       "      <td>76</td>\n",
       "      <td>43</td>\n",
       "      <td>0.5658</td>\n",
       "      <td>42</td>\n",
       "      <td>27</td>\n",
       "      <td>0.6429</td>\n",
       "      <td>34</td>\n",
       "      <td>16</td>\n",
       "      <td>0.4706</td>\n",
       "      <td>18</td>\n",
       "      <td>14</td>\n",
       "      <td>0.7778</td>\n",
       "      <td>10</td>\n",
       "      <td>42</td>\n",
       "      <td>52</td>\n",
       "      <td>29</td>\n",
       "      <td>35</td>\n",
       "      <td>24</td>\n",
       "      <td>28</td>\n",
       "      <td>0</td>\n",
       "      <td>0</td>\n",
       "      <td>0</td>\n",
       "      <td>0</td>\n",
       "      <td>62.6506</td>\n",
       "      <td>67.4419</td>\n",
       "      <td>0.6911</td>\n",
       "      <td>0.6711</td>\n",
       "      <td>34.4828</td>\n",
       "      <td>77.7778</td>\n",
       "      <td>16.0128</td>\n",
       "      <td>10.2463</td>\n",
       "      <td>3.4154</td>\n",
       "      <td>7.1429</td>\n",
       "      <td>1.5263</td>\n",
       "      <td>108.750</td>\n",
       "      <td>90.2490</td>\n",
       "      <td>132.0634</td>\n",
       "      <td>78.5550</td>\n",
       "      <td>53.5084</td>\n",
       "      <td>0.5244</td>\n",
       "      <td>22.4946</td>\n",
       "      <td>1.8125</td>\n",
       "      <td>56.2500</td>\n",
       "      <td>87.8366</td>\n",
       "      <td>87.4721</td>\n",
       "      <td>6.0</td>\n",
       "      <td>6th</td>\n",
       "      <td>12.0</td>\n",
       "      <td>10.0</td>\n",
       "      <td>W1</td>\n",
       "      <td>win</td>\n",
       "      <td>1.0</td>\n",
       "      <td>6.5</td>\n",
       "      <td>2371.0</td>\n",
       "      <td>2284.0</td>\n",
       "      <td>6.0</td>\n",
       "      <td>5.0</td>\n",
       "      <td>6.0</td>\n",
       "      <td>5.0</td>\n",
       "      <td>7.0</td>\n",
       "      <td>5.0</td>\n",
       "      <td>2.0</td>\n",
       "      <td>4.0</td>\n",
       "      <td>22.0</td>\n",
       "      <td>107.8</td>\n",
       "      <td>103.8</td>\n",
       "      <td>4.0</td>\n",
       "      <td>440.0</td>\n",
       "      <td>224.0</td>\n",
       "      <td>9543.0</td>\n",
       "      <td>4823.0</td>\n",
       "      <td>0.5079</td>\n",
       "      <td>0.517275</td>\n",
       "      <td>3.9545</td>\n",
       "      <td>3.4466</td>\n",
       "      <td>0.6302</td>\n",
       "      <td>0.6271</td>\n",
       "      <td>51.4222</td>\n",
       "      <td>30.5778</td>\n",
       "      <td>0.6495</td>\n",
       "      <td>53.2590</td>\n",
       "      <td>28.7410</td>\n",
       "      <td>7.0</td>\n",
       "      <td>7th</td>\n",
       "      <td>12.0</td>\n",
       "      <td>11.0</td>\n",
       "      <td>W5</td>\n",
       "      <td>win</td>\n",
       "      <td>5.0</td>\n",
       "      <td>6.0</td>\n",
       "      <td>2372.0</td>\n",
       "      <td>2300.0</td>\n",
       "      <td>10.0</td>\n",
       "      <td>4.0</td>\n",
       "      <td>2.0</td>\n",
       "      <td>7.0</td>\n",
       "      <td>8.0</td>\n",
       "      <td>5.0</td>\n",
       "      <td>5.0</td>\n",
       "      <td>7.0</td>\n",
       "      <td>23.0</td>\n",
       "      <td>103.1</td>\n",
       "      <td>100.0</td>\n",
       "      <td>3.1</td>\n",
       "      <td>459.0</td>\n",
       "      <td>219.0</td>\n",
       "      <td>9981.0</td>\n",
       "      <td>4973.0</td>\n",
       "      <td>0.4841</td>\n",
       "      <td>0.493525</td>\n",
       "      <td>3.1304</td>\n",
       "      <td>2.6463</td>\n",
       "      <td>0.6031</td>\n",
       "      <td>0.6056</td>\n",
       "      <td>49.6592</td>\n",
       "      <td>32.3408</td>\n",
       "      <td>0.6245</td>\n",
       "      <td>51.2090</td>\n",
       "      <td>30.7910</td>\n",
       "      <td>148.8</td>\n",
       "      <td>4.00</td>\n",
       "      <td>-107.5</td>\n",
       "      <td>196.4</td>\n",
       "      <td>-86.3</td>\n",
       "      <td>-168.2</td>\n",
       "      <td>-4.00</td>\n",
       "      <td>-109.5</td>\n",
       "      <td>196.4</td>\n",
       "      <td>-110.8</td>\n",
       "    </tr>\n",
       "    <tr>\n",
       "      <th>14756</th>\n",
       "      <td>16751</td>\n",
       "      <td>2017</td>\n",
       "      <td>2018-01-10</td>\n",
       "      <td>07:00</td>\n",
       "      <td>Regular</td>\n",
       "      <td>UTA</td>\n",
       "      <td>West</td>\n",
       "      <td>Northwest</td>\n",
       "      <td>Away</td>\n",
       "      <td>Win</td>\n",
       "      <td>240</td>\n",
       "      <td>3</td>\n",
       "      <td>107</td>\n",
       "      <td>23</td>\n",
       "      <td>13</td>\n",
       "      <td>15</td>\n",
       "      <td>3</td>\n",
       "      <td>17</td>\n",
       "      <td>92</td>\n",
       "      <td>43</td>\n",
       "      <td>0.4674</td>\n",
       "      <td>59</td>\n",
       "      <td>32</td>\n",
       "      <td>0.5424</td>\n",
       "      <td>33</td>\n",
       "      <td>11</td>\n",
       "      <td>0.3333</td>\n",
       "      <td>13</td>\n",
       "      <td>10</td>\n",
       "      <td>0.7692</td>\n",
       "      <td>11</td>\n",
       "      <td>28</td>\n",
       "      <td>39</td>\n",
       "      <td>25</td>\n",
       "      <td>21</td>\n",
       "      <td>37</td>\n",
       "      <td>24</td>\n",
       "      <td>0</td>\n",
       "      <td>0</td>\n",
       "      <td>0</td>\n",
       "      <td>0</td>\n",
       "      <td>46.4286</td>\n",
       "      <td>53.4884</td>\n",
       "      <td>0.5475</td>\n",
       "      <td>0.5272</td>\n",
       "      <td>23.4043</td>\n",
       "      <td>75.6757</td>\n",
       "      <td>11.7413</td>\n",
       "      <td>15.2981</td>\n",
       "      <td>3.0596</td>\n",
       "      <td>5.0847</td>\n",
       "      <td>1.1630</td>\n",
       "      <td>84.625</td>\n",
       "      <td>70.5208</td>\n",
       "      <td>109.1263</td>\n",
       "      <td>106.0667</td>\n",
       "      <td>3.0596</td>\n",
       "      <td>0.4574</td>\n",
       "      <td>17.2001</td>\n",
       "      <td>1.7692</td>\n",
       "      <td>115.3846</td>\n",
       "      <td>98.0515</td>\n",
       "      <td>98.0515</td>\n",
       "      <td>Barnaky</td>\n",
       "      <td>Brent</td>\n",
       "      <td>Holtkamp</td>\n",
       "      <td>Lauren</td>\n",
       "      <td>Brothers</td>\n",
       "      <td>Tony</td>\n",
       "      <td>WAS</td>\n",
       "      <td>East</td>\n",
       "      <td>Southeast</td>\n",
       "      <td>Home</td>\n",
       "      <td>Loss</td>\n",
       "      <td>241</td>\n",
       "      <td>3</td>\n",
       "      <td>104</td>\n",
       "      <td>25</td>\n",
       "      <td>23</td>\n",
       "      <td>8</td>\n",
       "      <td>1</td>\n",
       "      <td>17</td>\n",
       "      <td>78</td>\n",
       "      <td>41</td>\n",
       "      <td>0.5256</td>\n",
       "      <td>53</td>\n",
       "      <td>31</td>\n",
       "      <td>0.5849</td>\n",
       "      <td>25</td>\n",
       "      <td>10</td>\n",
       "      <td>0.4000</td>\n",
       "      <td>17</td>\n",
       "      <td>12</td>\n",
       "      <td>0.7059</td>\n",
       "      <td>9</td>\n",
       "      <td>36</td>\n",
       "      <td>45</td>\n",
       "      <td>32</td>\n",
       "      <td>18</td>\n",
       "      <td>27</td>\n",
       "      <td>27</td>\n",
       "      <td>0</td>\n",
       "      <td>0</td>\n",
       "      <td>0</td>\n",
       "      <td>0</td>\n",
       "      <td>53.5714</td>\n",
       "      <td>60.9756</td>\n",
       "      <td>0.6083</td>\n",
       "      <td>0.5897</td>\n",
       "      <td>24.3243</td>\n",
       "      <td>76.5957</td>\n",
       "      <td>21.2021</td>\n",
       "      <td>8.1590</td>\n",
       "      <td>1.0199</td>\n",
       "      <td>1.8868</td>\n",
       "      <td>1.3333</td>\n",
       "      <td>77.625</td>\n",
       "      <td>64.4191</td>\n",
       "      <td>106.0667</td>\n",
       "      <td>109.1263</td>\n",
       "      <td>-3.0596</td>\n",
       "      <td>0.4457</td>\n",
       "      <td>18.7294</td>\n",
       "      <td>1.0870</td>\n",
       "      <td>34.7826</td>\n",
       "      <td>98.0515</td>\n",
       "      <td>97.6446</td>\n",
       "      <td>10.0</td>\n",
       "      <td>10th</td>\n",
       "      <td>16.0</td>\n",
       "      <td>24.0</td>\n",
       "      <td>L3</td>\n",
       "      <td>loss</td>\n",
       "      <td>3.0</td>\n",
       "      <td>16.0</td>\n",
       "      <td>4036.0</td>\n",
       "      <td>4068.0</td>\n",
       "      <td>13.0</td>\n",
       "      <td>7.0</td>\n",
       "      <td>3.0</td>\n",
       "      <td>17.0</td>\n",
       "      <td>9.0</td>\n",
       "      <td>14.0</td>\n",
       "      <td>2.0</td>\n",
       "      <td>3.0</td>\n",
       "      <td>40.0</td>\n",
       "      <td>100.9</td>\n",
       "      <td>101.7</td>\n",
       "      <td>-0.8</td>\n",
       "      <td>1484.0</td>\n",
       "      <td>787.0</td>\n",
       "      <td>58438.0</td>\n",
       "      <td>29010.0</td>\n",
       "      <td>0.5190</td>\n",
       "      <td>0.489250</td>\n",
       "      <td>-0.8000</td>\n",
       "      <td>-1.3190</td>\n",
       "      <td>0.4737</td>\n",
       "      <td>0.4726</td>\n",
       "      <td>38.7532</td>\n",
       "      <td>43.2468</td>\n",
       "      <td>0.4675</td>\n",
       "      <td>38.3350</td>\n",
       "      <td>43.6650</td>\n",
       "      <td>4.0</td>\n",
       "      <td>4th</td>\n",
       "      <td>23.0</td>\n",
       "      <td>17.0</td>\n",
       "      <td>L1</td>\n",
       "      <td>loss</td>\n",
       "      <td>1.0</td>\n",
       "      <td>8.5</td>\n",
       "      <td>4258.0</td>\n",
       "      <td>4161.0</td>\n",
       "      <td>13.0</td>\n",
       "      <td>7.0</td>\n",
       "      <td>10.0</td>\n",
       "      <td>10.0</td>\n",
       "      <td>11.0</td>\n",
       "      <td>10.0</td>\n",
       "      <td>3.0</td>\n",
       "      <td>6.0</td>\n",
       "      <td>40.0</td>\n",
       "      <td>106.5</td>\n",
       "      <td>104.0</td>\n",
       "      <td>2.4</td>\n",
       "      <td>1481.0</td>\n",
       "      <td>711.0</td>\n",
       "      <td>57775.0</td>\n",
       "      <td>28840.0</td>\n",
       "      <td>0.4865</td>\n",
       "      <td>0.508600</td>\n",
       "      <td>2.4250</td>\n",
       "      <td>1.9385</td>\n",
       "      <td>0.5798</td>\n",
       "      <td>0.5795</td>\n",
       "      <td>47.5190</td>\n",
       "      <td>34.4810</td>\n",
       "      <td>0.5939</td>\n",
       "      <td>48.6998</td>\n",
       "      <td>33.3002</td>\n",
       "      <td>297.6</td>\n",
       "      <td>8.00</td>\n",
       "      <td>-107.0</td>\n",
       "      <td>208.5</td>\n",
       "      <td>-109.3</td>\n",
       "      <td>-362.5</td>\n",
       "      <td>-8.00</td>\n",
       "      <td>-110.0</td>\n",
       "      <td>208.5</td>\n",
       "      <td>-107.7</td>\n",
       "    </tr>\n",
       "    <tr>\n",
       "      <th>14757</th>\n",
       "      <td>16751</td>\n",
       "      <td>2017</td>\n",
       "      <td>2018-01-10</td>\n",
       "      <td>07:00</td>\n",
       "      <td>Regular</td>\n",
       "      <td>WAS</td>\n",
       "      <td>East</td>\n",
       "      <td>Southeast</td>\n",
       "      <td>Home</td>\n",
       "      <td>Loss</td>\n",
       "      <td>241</td>\n",
       "      <td>3</td>\n",
       "      <td>104</td>\n",
       "      <td>25</td>\n",
       "      <td>23</td>\n",
       "      <td>8</td>\n",
       "      <td>1</td>\n",
       "      <td>17</td>\n",
       "      <td>78</td>\n",
       "      <td>41</td>\n",
       "      <td>0.5256</td>\n",
       "      <td>53</td>\n",
       "      <td>31</td>\n",
       "      <td>0.5849</td>\n",
       "      <td>25</td>\n",
       "      <td>10</td>\n",
       "      <td>0.4000</td>\n",
       "      <td>17</td>\n",
       "      <td>12</td>\n",
       "      <td>0.7059</td>\n",
       "      <td>9</td>\n",
       "      <td>36</td>\n",
       "      <td>45</td>\n",
       "      <td>32</td>\n",
       "      <td>18</td>\n",
       "      <td>27</td>\n",
       "      <td>27</td>\n",
       "      <td>0</td>\n",
       "      <td>0</td>\n",
       "      <td>0</td>\n",
       "      <td>0</td>\n",
       "      <td>53.5714</td>\n",
       "      <td>60.9756</td>\n",
       "      <td>0.6083</td>\n",
       "      <td>0.5897</td>\n",
       "      <td>24.3243</td>\n",
       "      <td>76.5957</td>\n",
       "      <td>21.2021</td>\n",
       "      <td>8.1590</td>\n",
       "      <td>1.0199</td>\n",
       "      <td>1.8868</td>\n",
       "      <td>1.3333</td>\n",
       "      <td>77.625</td>\n",
       "      <td>64.4191</td>\n",
       "      <td>106.0667</td>\n",
       "      <td>109.1263</td>\n",
       "      <td>-3.0596</td>\n",
       "      <td>0.4457</td>\n",
       "      <td>18.7294</td>\n",
       "      <td>1.0870</td>\n",
       "      <td>34.7826</td>\n",
       "      <td>98.0515</td>\n",
       "      <td>97.6446</td>\n",
       "      <td>Barnaky</td>\n",
       "      <td>Brent</td>\n",
       "      <td>Holtkamp</td>\n",
       "      <td>Lauren</td>\n",
       "      <td>Brothers</td>\n",
       "      <td>Tony</td>\n",
       "      <td>UTA</td>\n",
       "      <td>West</td>\n",
       "      <td>Northwest</td>\n",
       "      <td>Away</td>\n",
       "      <td>Win</td>\n",
       "      <td>240</td>\n",
       "      <td>3</td>\n",
       "      <td>107</td>\n",
       "      <td>23</td>\n",
       "      <td>13</td>\n",
       "      <td>15</td>\n",
       "      <td>3</td>\n",
       "      <td>17</td>\n",
       "      <td>92</td>\n",
       "      <td>43</td>\n",
       "      <td>0.4674</td>\n",
       "      <td>59</td>\n",
       "      <td>32</td>\n",
       "      <td>0.5424</td>\n",
       "      <td>33</td>\n",
       "      <td>11</td>\n",
       "      <td>0.3333</td>\n",
       "      <td>13</td>\n",
       "      <td>10</td>\n",
       "      <td>0.7692</td>\n",
       "      <td>11</td>\n",
       "      <td>28</td>\n",
       "      <td>39</td>\n",
       "      <td>25</td>\n",
       "      <td>21</td>\n",
       "      <td>37</td>\n",
       "      <td>24</td>\n",
       "      <td>0</td>\n",
       "      <td>0</td>\n",
       "      <td>0</td>\n",
       "      <td>0</td>\n",
       "      <td>46.4286</td>\n",
       "      <td>53.4884</td>\n",
       "      <td>0.5475</td>\n",
       "      <td>0.5272</td>\n",
       "      <td>23.4043</td>\n",
       "      <td>75.6757</td>\n",
       "      <td>11.7413</td>\n",
       "      <td>15.2981</td>\n",
       "      <td>3.0596</td>\n",
       "      <td>5.0847</td>\n",
       "      <td>1.1630</td>\n",
       "      <td>84.625</td>\n",
       "      <td>70.5208</td>\n",
       "      <td>109.1263</td>\n",
       "      <td>106.0667</td>\n",
       "      <td>3.0596</td>\n",
       "      <td>0.4574</td>\n",
       "      <td>17.2001</td>\n",
       "      <td>1.7692</td>\n",
       "      <td>115.3846</td>\n",
       "      <td>98.0515</td>\n",
       "      <td>98.0515</td>\n",
       "      <td>4.0</td>\n",
       "      <td>4th</td>\n",
       "      <td>23.0</td>\n",
       "      <td>17.0</td>\n",
       "      <td>L1</td>\n",
       "      <td>loss</td>\n",
       "      <td>1.0</td>\n",
       "      <td>8.5</td>\n",
       "      <td>4258.0</td>\n",
       "      <td>4161.0</td>\n",
       "      <td>13.0</td>\n",
       "      <td>7.0</td>\n",
       "      <td>10.0</td>\n",
       "      <td>10.0</td>\n",
       "      <td>11.0</td>\n",
       "      <td>10.0</td>\n",
       "      <td>3.0</td>\n",
       "      <td>6.0</td>\n",
       "      <td>40.0</td>\n",
       "      <td>106.5</td>\n",
       "      <td>104.0</td>\n",
       "      <td>2.4</td>\n",
       "      <td>1481.0</td>\n",
       "      <td>711.0</td>\n",
       "      <td>57775.0</td>\n",
       "      <td>28840.0</td>\n",
       "      <td>0.4865</td>\n",
       "      <td>0.508600</td>\n",
       "      <td>2.4250</td>\n",
       "      <td>1.9385</td>\n",
       "      <td>0.5798</td>\n",
       "      <td>0.5795</td>\n",
       "      <td>47.5190</td>\n",
       "      <td>34.4810</td>\n",
       "      <td>0.5939</td>\n",
       "      <td>48.6998</td>\n",
       "      <td>33.3002</td>\n",
       "      <td>10.0</td>\n",
       "      <td>10th</td>\n",
       "      <td>16.0</td>\n",
       "      <td>24.0</td>\n",
       "      <td>L3</td>\n",
       "      <td>loss</td>\n",
       "      <td>3.0</td>\n",
       "      <td>16.0</td>\n",
       "      <td>4036.0</td>\n",
       "      <td>4068.0</td>\n",
       "      <td>13.0</td>\n",
       "      <td>7.0</td>\n",
       "      <td>3.0</td>\n",
       "      <td>17.0</td>\n",
       "      <td>9.0</td>\n",
       "      <td>14.0</td>\n",
       "      <td>2.0</td>\n",
       "      <td>3.0</td>\n",
       "      <td>40.0</td>\n",
       "      <td>100.9</td>\n",
       "      <td>101.7</td>\n",
       "      <td>-0.8</td>\n",
       "      <td>1484.0</td>\n",
       "      <td>787.0</td>\n",
       "      <td>58438.0</td>\n",
       "      <td>29010.0</td>\n",
       "      <td>0.5190</td>\n",
       "      <td>0.489250</td>\n",
       "      <td>-0.8000</td>\n",
       "      <td>-1.3190</td>\n",
       "      <td>0.4737</td>\n",
       "      <td>0.4726</td>\n",
       "      <td>38.7532</td>\n",
       "      <td>43.2468</td>\n",
       "      <td>0.4675</td>\n",
       "      <td>38.3350</td>\n",
       "      <td>43.6650</td>\n",
       "      <td>-362.5</td>\n",
       "      <td>-8.00</td>\n",
       "      <td>-110.0</td>\n",
       "      <td>208.5</td>\n",
       "      <td>-107.7</td>\n",
       "      <td>297.6</td>\n",
       "      <td>8.00</td>\n",
       "      <td>-107.0</td>\n",
       "      <td>208.5</td>\n",
       "      <td>-109.3</td>\n",
       "    </tr>\n",
       "  </tbody>\n",
       "</table>\n",
       "</div>"
      ],
      "text/plain": [
       "       gameID  seasID      gmDate gmTime  seasTyp teamAbbr_A teamConf_A  \\\n",
       "14753   16047    2016  2017-03-31  09:00  Regular        WAS       East   \n",
       "14754   16496    2017  2017-12-04  09:00  Regular        UTA       West   \n",
       "14755   16496    2017  2017-12-04  09:00  Regular        WAS       East   \n",
       "14756   16751    2017  2018-01-10  07:00  Regular        UTA       West   \n",
       "14757   16751    2017  2018-01-10  07:00  Regular        WAS       East   \n",
       "\n",
       "       teamDiv_A teamLoc_A teamRslt_A  teamMin_A  teamDayOff_A  teamPTS_A  \\\n",
       "14753  Southeast      Away       Loss        241             1         88   \n",
       "14754  Northwest      Home        Win        241             3        116   \n",
       "14755  Southeast      Away       Loss        240             3         69   \n",
       "14756  Northwest      Away        Win        240             3        107   \n",
       "14757  Southeast      Home       Loss        241             3        104   \n",
       "\n",
       "       teamAST_A  teamTO_A  teamSTL_A  teamBLK_A  teamPF_A  teamFGA_A  \\\n",
       "14753         12        15          8          1        23         87   \n",
       "14754         29        16          9          3        20         76   \n",
       "14755          9        13          8          2        21         80   \n",
       "14756         23        13         15          3        17         92   \n",
       "14757         25        23          8          1        17         78   \n",
       "\n",
       "       teamFGM_A  teamFG%_A  team2PA_A  team2PM_A  team2P%_A  team3PA_A  \\\n",
       "14753         35     0.4023         70         30     0.4286         17   \n",
       "14754         43     0.5658         42         27     0.6429         34   \n",
       "14755         23     0.2875         60         19     0.3167         20   \n",
       "14756         43     0.4674         59         32     0.5424         33   \n",
       "14757         41     0.5256         53         31     0.5849         25   \n",
       "\n",
       "       team3PM_A  team3P%_A  teamFTA_A  teamFTM_A  teamFT%_A  teamORB_A  \\\n",
       "14753          5     0.2941         16         13     0.8125         14   \n",
       "14754         16     0.4706         18         14     0.7778         10   \n",
       "14755          4     0.2000         23         19     0.8261         12   \n",
       "14756         11     0.3333         13         10     0.7692         11   \n",
       "14757         10     0.4000         17         12     0.7059          9   \n",
       "\n",
       "       teamDRB_A  teamTRB_A  teamPTS1_A  teamPTS2_A  teamPTS3_A  teamPTS4_A  \\\n",
       "14753         31         45          19          20          22          27   \n",
       "14754         42         52          29          35          24          28   \n",
       "14755         19         31          15          15          22          17   \n",
       "14756         28         39          25          21          37          24   \n",
       "14757         36         45          32          18          27          27   \n",
       "\n",
       "       teamPTS5_A  teamPTS6_A  teamPTS7_A  teamPTS8_A  teamTREB%_A  \\\n",
       "14753           0           0           0           0      51.7241   \n",
       "14754           0           0           0           0      62.6506   \n",
       "14755           0           0           0           0      37.3494   \n",
       "14756           0           0           0           0      46.4286   \n",
       "14757           0           0           0           0      53.5714   \n",
       "\n",
       "       teamASST%_A  teamTS%_A  teamEFG%_A  teamOREB%_A  teamDREB%_A  \\\n",
       "14753      34.2857     0.4679      0.4310      28.5714      81.5789   \n",
       "14754      67.4419     0.6911      0.6711      34.4828      77.7778   \n",
       "14755      39.1304     0.3828      0.3125      22.2222      65.5172   \n",
       "14756      53.4884     0.5475      0.5272      23.4043      75.6757   \n",
       "14757      60.9756     0.6083      0.5897      24.3243      76.5957   \n",
       "\n",
       "       teamTO%_A  teamSTL%_A  teamBLK%_A  teamBLKR_A  teamPPS_A  teamFIC_A  \\\n",
       "14753    13.7564      8.8292      1.1036      1.4286     1.0115     48.500   \n",
       "14754    16.0128     10.2463      3.4154      7.1429     1.5263    108.750   \n",
       "14755    12.6067      9.1078      2.2770      3.3333     0.8625     22.125   \n",
       "14756    11.7413     15.2981      3.0596      5.0847     1.1630     84.625   \n",
       "14757    21.2021      8.1590      1.0199      1.8868     1.3333     77.625   \n",
       "\n",
       "       teamFIC40_A  teamOrtg_A  teamDrtg_A  teamEDiff_A  teamPlay%_A  \\\n",
       "14753      40.2490     97.1211    104.8467      -7.7256       0.3977   \n",
       "14754      90.2490    132.0634     78.5550      53.5084       0.5244   \n",
       "14755      18.4375     78.5550    132.0634     -53.5084       0.2840   \n",
       "14756      70.5208    109.1263    106.0667       3.0596       0.4574   \n",
       "14757      64.4191    106.0667    109.1263      -3.0596       0.4457   \n",
       "\n",
       "       teamAR_A  teamAST/TO_A  teamSTL/TO_A   poss_A   pace_A  offLNm1  \\\n",
       "14753    9.9141        0.8000       53.3333  90.6085  90.2325    Goble   \n",
       "14754   22.4946        1.8125       56.2500  87.8366  87.4721   Taylor   \n",
       "14755    8.0271        0.6923       61.5385  87.8366  87.8366   Taylor   \n",
       "14756   17.2001        1.7692      115.3846  98.0515  98.0515  Barnaky   \n",
       "14757   18.7294        1.0870       34.7826  98.0515  97.6446  Barnaky   \n",
       "\n",
       "      offFNm1    offLNm2 offFNm2   offLNm3 offFNm3 teamAbbr_B teamConf_B  \\\n",
       "14753    John    Lindsay    Mark    Cutler   Kevin        UTA       West   \n",
       "14754     Ben  Garretson     Ron     Davis    Marc        WAS       East   \n",
       "14755     Ben  Garretson     Ron     Davis    Marc        UTA       West   \n",
       "14756   Brent   Holtkamp  Lauren  Brothers    Tony        WAS       East   \n",
       "14757   Brent   Holtkamp  Lauren  Brothers    Tony        UTA       West   \n",
       "\n",
       "       teamDiv_B teamLoc_B teamRslt_B  teamMin_B  teamDayOff_B  teamPTS_B  \\\n",
       "14753  Northwest      Home        Win        240             1         95   \n",
       "14754  Southeast      Away       Loss        240             3         69   \n",
       "14755  Northwest      Home        Win        241             3        116   \n",
       "14756  Southeast      Home       Loss        241             3        104   \n",
       "14757  Northwest      Away        Win        240             3        107   \n",
       "\n",
       "       teamAST_B  teamTO_B  teamSTL_B  teamBLK_B  teamPF_B  teamFGA_B  \\\n",
       "14753         20        12          9          7        18         72   \n",
       "14754          9        13          8          2        21         80   \n",
       "14755         29        16          9          3        20         76   \n",
       "14756         25        23          8          1        17         78   \n",
       "14757         23        13         15          3        17         92   \n",
       "\n",
       "       teamFGM_B  teamFG%_B  team2PA_B  team2PM_B  team2P%_B  team3PA_B  \\\n",
       "14753         33     0.4583         47         23     0.4894         25   \n",
       "14754         23     0.2875         60         19     0.3167         20   \n",
       "14755         43     0.5658         42         27     0.6429         34   \n",
       "14756         41     0.5256         53         31     0.5849         25   \n",
       "14757         43     0.4674         59         32     0.5424         33   \n",
       "\n",
       "       team3PM_B  team3P%_B  teamFTA_B  teamFTM_B  teamFT%_B  teamORB_B  \\\n",
       "14753         10     0.4000         31         19     0.6129          7   \n",
       "14754          4     0.2000         23         19     0.8261         12   \n",
       "14755         16     0.4706         18         14     0.7778         10   \n",
       "14756         10     0.4000         17         12     0.7059          9   \n",
       "14757         11     0.3333         13         10     0.7692         11   \n",
       "\n",
       "       teamDRB_B  teamTRB_B  teamPTS1_B  teamPTS2_B  teamPTS3_B  teamPTS4_B  \\\n",
       "14753         35         42          24          18          22          31   \n",
       "14754         19         31          15          15          22          17   \n",
       "14755         42         52          29          35          24          28   \n",
       "14756         36         45          32          18          27          27   \n",
       "14757         28         39          25          21          37          24   \n",
       "\n",
       "       teamPTS5_B  teamPTS6_B  teamPTS7_B  teamPTS8_B  teamTREB%_B  \\\n",
       "14753           0           0           0           0      48.2759   \n",
       "14754           0           0           0           0      37.3494   \n",
       "14755           0           0           0           0      62.6506   \n",
       "14756           0           0           0           0      53.5714   \n",
       "14757           0           0           0           0      46.4286   \n",
       "\n",
       "       teamASST%_B  teamTS%_B  teamEFG%_B  teamOREB%_B  teamDREB%_B  \\\n",
       "14753      60.6061     0.5546      0.5278      18.4211      71.4286   \n",
       "14754      39.1304     0.3828      0.3125      22.2222      65.5172   \n",
       "14755      67.4419     0.6911      0.6711      34.4828      77.7778   \n",
       "14756      60.9756     0.6083      0.5897      24.3243      76.5957   \n",
       "14757      53.4884     0.5475      0.5272      23.4043      75.6757   \n",
       "\n",
       "       teamTO%_B  teamSTL%_B  teamBLK%_B  teamBLKR_B  teamPPS_B  teamFIC_B  \\\n",
       "14753    12.2900      9.9328      7.7255     14.8936     1.3194     77.625   \n",
       "14754    12.6067      9.1078      2.2770      3.3333     0.8625     22.125   \n",
       "14755    16.0128     10.2463      3.4154      7.1429     1.5263    108.750   \n",
       "14756    21.2021      8.1590      1.0199      1.8868     1.3333     77.625   \n",
       "14757    11.7413     15.2981      3.0596      5.0847     1.1630     84.625   \n",
       "\n",
       "       teamFIC40_B  teamOrtg_B  teamDrtg_B  teamEDiff_B  teamPlay%_B  \\\n",
       "14753      64.6875    104.8467     97.1211       7.7256       0.4286   \n",
       "14754      18.4375     78.5550    132.0634     -53.5084       0.2840   \n",
       "14755      90.2490    132.0634     78.5550      53.5084       0.5244   \n",
       "14756      64.4191    106.0667    109.1263      -3.0596       0.4457   \n",
       "14757      70.5208    109.1263    106.0667       3.0596       0.4574   \n",
       "\n",
       "       teamAR_B  teamAST/TO_B  teamSTL/TO_B   poss_B   pace_B  rank_A  \\\n",
       "14753   17.0010        1.6667       75.0000  90.6085  90.6085     3.0   \n",
       "14754    8.0271        0.6923       61.5385  87.8366  87.8366     7.0   \n",
       "14755   22.4946        1.8125       56.2500  87.8366  87.4721     6.0   \n",
       "14756   18.7294        1.0870       34.7826  98.0515  97.6446    10.0   \n",
       "14757   17.2001        1.7692      115.3846  98.0515  98.0515     4.0   \n",
       "\n",
       "      rankOrd_A  gameWon_A  gameLost_A stk_A stkType_A  stkTot_A  gameBack_A  \\\n",
       "14753       3rd       46.0        29.0    L1      loss       1.0         2.0   \n",
       "14754       7th       12.0        11.0    W5       win       5.0         6.0   \n",
       "14755       6th       12.0        10.0    W1       win       1.0         6.5   \n",
       "14756      10th       16.0        24.0    L3      loss       3.0        16.0   \n",
       "14757       4th       23.0        17.0    L1      loss       1.0         8.5   \n",
       "\n",
       "       ptsFor_A  ptsAgnst_A  homeWin_A  homeLoss_A  awayWin_A  awayLoss_A  \\\n",
       "14753    8216.0      8042.0       29.0        10.0       17.0        19.0   \n",
       "14754    2372.0      2300.0       10.0         4.0        2.0         7.0   \n",
       "14755    2371.0      2284.0        6.0         5.0        6.0         5.0   \n",
       "14756    4036.0      4068.0       13.0         7.0        3.0        17.0   \n",
       "14757    4258.0      4161.0       13.0         7.0       10.0        10.0   \n",
       "\n",
       "       confWin_A  confLoss_A  lastFive_A  lastTen_A  gamePlay_A  ptsScore_A  \\\n",
       "14753       29.0        18.0         3.0        5.0        75.0       109.5   \n",
       "14754        8.0         5.0         5.0        7.0        23.0       103.1   \n",
       "14755        7.0         5.0         2.0        4.0        22.0       107.8   \n",
       "14756        9.0        14.0         2.0        3.0        40.0       100.9   \n",
       "14757       11.0        10.0         3.0        6.0        40.0       106.5   \n",
       "\n",
       "       ptsAllow_A  ptsDiff_A  opptGmPlay_A  opptGmWon_A  opptOpptGmPlay_A  \\\n",
       "14753       107.2        2.3        5376.0       2623.0          401052.0   \n",
       "14754       100.0        3.1         459.0        219.0            9981.0   \n",
       "14755       103.8        4.0         440.0        224.0            9543.0   \n",
       "14756       101.7       -0.8        1484.0        787.0           58438.0   \n",
       "14757       104.0        2.4        1481.0        711.0           57775.0   \n",
       "\n",
       "       opptOpptGmWon_A   sos_A  rel%Indx_A   mov_A   srs_A   pw%_A  \\\n",
       "14753         198707.0  0.4904    0.521150  2.3200  1.8296  0.5764   \n",
       "14754           4973.0  0.4841    0.493525  3.1304  2.6463  0.6031   \n",
       "14755           4823.0  0.5079    0.517275  3.9545  3.4466  0.6302   \n",
       "14756          29010.0  0.5190    0.489250 -0.8000 -1.3190  0.4737   \n",
       "14757          28840.0  0.4865    0.508600  2.4250  1.9385  0.5798   \n",
       "\n",
       "       pyth%13.91_A  wpyth13.91_A  lpyth13.91_A  pyth%16.5_A  wpyth16.5_A  \\\n",
       "14753        0.5739       47.0598       34.9402       0.5874      48.1668   \n",
       "14754        0.6056       49.6592       32.3408       0.6245      51.2090   \n",
       "14755        0.6271       51.4222       30.5778       0.6495      53.2590   \n",
       "14756        0.4726       38.7532       43.2468       0.4675      38.3350   \n",
       "14757        0.5795       47.5190       34.4810       0.5939      48.6998   \n",
       "\n",
       "       lpyth16.5_A  rank_B rankOrd_B  gameWon_B  gameLost_B stk_B stkType_B  \\\n",
       "14753      33.8332     4.0       4th       46.0        29.0    W2       win   \n",
       "14754      30.7910     6.0       6th       12.0        10.0    W1       win   \n",
       "14755      28.7410     7.0       7th       12.0        11.0    W5       win   \n",
       "14756      43.6650     4.0       4th       23.0        17.0    L1      loss   \n",
       "14757      33.3002    10.0      10th       16.0        24.0    L3      loss   \n",
       "\n",
       "       stkTot_B  gameBack_B  ptsFor_B  ptsAgnst_B  homeWin_B  homeLoss_B  \\\n",
       "14753       2.0        15.0    7542.0      7241.0       25.0        12.0   \n",
       "14754       1.0         6.5    2371.0      2284.0        6.0         5.0   \n",
       "14755       5.0         6.0    2372.0      2300.0       10.0         4.0   \n",
       "14756       1.0         8.5    4258.0      4161.0       13.0         7.0   \n",
       "14757       3.0        16.0    4036.0      4068.0       13.0         7.0   \n",
       "\n",
       "       awayWin_B  awayLoss_B  confWin_B  confLoss_B  lastFive_B  lastTen_B  \\\n",
       "14753       21.0        17.0       27.0        19.0         4.0        6.0   \n",
       "14754        6.0         5.0        7.0         5.0         2.0        4.0   \n",
       "14755        2.0         7.0        8.0         5.0         5.0        7.0   \n",
       "14756       10.0        10.0       11.0        10.0         3.0        6.0   \n",
       "14757        3.0        17.0        9.0        14.0         2.0        3.0   \n",
       "\n",
       "       gamePlay_B  ptsScore_B  ptsAllow_B  ptsDiff_B  opptGmPlay_B  \\\n",
       "14753        75.0       100.6        96.5        4.0        5375.0   \n",
       "14754        22.0       107.8       103.8        4.0         440.0   \n",
       "14755        23.0       103.1       100.0        3.1         459.0   \n",
       "14756        40.0       106.5       104.0        2.4        1481.0   \n",
       "14757        40.0       100.9       101.7       -0.8        1484.0   \n",
       "\n",
       "       opptGmWon_B  opptOpptGmPlay_B  opptOpptGmWon_B   sos_B  rel%Indx_B  \\\n",
       "14753       2638.0          400891.0         199766.0  0.4933    0.523300   \n",
       "14754        224.0            9543.0           4823.0  0.5079    0.517275   \n",
       "14755        219.0            9981.0           4973.0  0.4841    0.493525   \n",
       "14756        711.0           57775.0          28840.0  0.4865    0.508600   \n",
       "14757        787.0           58438.0          29010.0  0.5190    0.489250   \n",
       "\n",
       "        mov_B   srs_B   pw%_B  pyth%13.91_B  wpyth13.91_B  lpyth13.91_B  \\\n",
       "14753  4.0133  3.5200  0.6321        0.6380       52.3160       29.6840   \n",
       "14754  3.9545  3.4466  0.6302        0.6271       51.4222       30.5778   \n",
       "14755  3.1304  2.6463  0.6031        0.6056       49.6592       32.3408   \n",
       "14756  2.4250  1.9385  0.5798        0.5795       47.5190       34.4810   \n",
       "14757 -0.8000 -1.3190  0.4737        0.4726       38.7532       43.2468   \n",
       "\n",
       "       pyth%16.5_B  wpyth16.5_B  lpyth16.5_B  line_price_A  spread_A  \\\n",
       "14753       0.6620      54.2840      27.7160         124.8      2.75   \n",
       "14754       0.6495      53.2590      28.7410        -168.2     -4.00   \n",
       "14755       0.6245      51.2090      30.7910         148.8      4.00   \n",
       "14756       0.5939      48.6998      33.3002         297.6      8.00   \n",
       "14757       0.4675      38.3350      43.6650        -362.5     -8.00   \n",
       "\n",
       "       spread_price_A  total_A  total_price_A  line_price_B  spread_B  \\\n",
       "14753          -109.1    208.4         -109.2        -143.1     -2.75   \n",
       "14754          -109.5    196.4         -110.8         148.8      4.00   \n",
       "14755          -107.5    196.4          -86.3        -168.2     -4.00   \n",
       "14756          -107.0    208.5         -109.3        -362.5     -8.00   \n",
       "14757          -110.0    208.5         -107.7         297.6      8.00   \n",
       "\n",
       "       spread_price_B  total_B  total_price_B  \n",
       "14753          -107.9    208.4         -107.8  \n",
       "14754          -107.5    196.4          -86.3  \n",
       "14755          -109.5    196.4         -110.8  \n",
       "14756          -110.0    208.5         -107.7  \n",
       "14757          -107.0    208.5         -109.3  "
      ]
     },
     "execution_count": 3,
     "metadata": {},
     "output_type": "execute_result"
    }
   ],
   "source": [
    "df.tail()"
   ]
  },
  {
   "cell_type": "code",
   "execution_count": 4,
   "metadata": {
    "Collapsed": "false"
   },
   "outputs": [
    {
     "data": {
      "text/plain": [
       "(14758, 211)"
      ]
     },
     "execution_count": 4,
     "metadata": {},
     "output_type": "execute_result"
    }
   ],
   "source": [
    "df.shape"
   ]
  },
  {
   "cell_type": "markdown",
   "metadata": {
    "Collapsed": "false"
   },
   "source": [
    "First, let's look at what each column means."
   ]
  },
  {
   "cell_type": "markdown",
   "metadata": {
    "Collapsed": "true"
   },
   "source": [
    "## Dataset/Column Definitions:"
   ]
  },
  {
   "cell_type": "markdown",
   "metadata": {
    "Collapsed": "false"
   },
   "source": [
    "**Dataset Description**: This dataset contains data pertaining to game level information of regular season games in the NBA from the 2012-2013 season to the 2017-2018 season. It is formatted in such a way that each row is a game with information about the two teams that play. Each game has two entries, one from each team's perspective of the game."
   ]
  },
  {
   "cell_type": "markdown",
   "metadata": {
    "Collapsed": "true"
   },
   "source": [
    "**Column Definitions**:\n",
    "- gameID: unique identification number for each regular season game from 2012-2013 season to 2017-2018 season (there are exactly two rows for each game from each team's perspective, ultimately we only want one instance of each game, but some alterations to the data must be made first) / also serves as part of primary key for dataset (in conjunction with 'teamAbbr_A')\n",
    "- seasID: the starting year for the season (e.g. 2013 if the season takes place from 2013-2014) / acts as the differentiator between seasons, since using the year date of a game is not an appropriate separation here\n",
    "- gmDate: the actual date the game is being played (Year/Month/Day)\n",
    "- gmTime: the time the game begins on a 24 hour clock (ET)\n",
    "- seasTyp: this indicates what part of the season it is, in this case they are all 'Regular' and therefore this column should be dropped\n",
    "- teamAbbr_A: the name of team A (there are 30 of these, indicating 30 teams in the league) / serves as the second part of the primary key (in conjunction with the 'gameID')\n",
    "- teamConf_A: the conference in which team A plays (either East or West)\n",
    "- teamDiv_A: the division in which team A plays (there are 3 divisions in each conference, meaning there are 6 total divisions)\n",
    "- teamLoc_A: the indicator for whether team A is playing 'Home' (in their city) or 'Away' (in team B's city)\n",
    "- teamRslt_A: the outcome of the game from the perspective of team A (Win or Loss)\n",
    "- teamMin_A: the accumulated minutes played in the game by the players (mostly 240 as that is how many minutes are played cumulatively by players for a regular 4 quarter game, i.e. 5 players play 4 quarters that are 12 minutes each results in 240 cumulative minutes)\n",
    "- teamDayOff_A: the number of days without a game since the last game for team A (e.g. if the value is 1, team A played 2 days prior)\n",
    "- teamPTS_A: the total points team A had in the game\n",
    "- teamAST_A: the total assists team A had in the game\n",
    "- teamTO_A: the total turnovers team A had in the game\n",
    "- teamSTL_A: the total steals team A had in the game\n",
    "- teamBLK_A: the total blocks team A had in the game\n",
    "- teamPF_A: the total personal fouls team A had in the game\n",
    "- teamFGA_A: the total attempted field goals (shots) team A had in the game\n",
    "- teamFGM_A: the total made field goals (made shots) team A had in the game\n",
    "- teamFG\\%_A: the teamFGM / teamFGA for team A in the game \n",
    "- team2PA_A: the 2 point field goal attempts team A had in the game\n",
    "- team2PM_A: the 2 point field goal makes team A had in the game\n",
    "- team2P\\%_A: the team2PM / team2PA for team A in the game\n",
    "- team3PA_A: the 3 point field goal attempts team A had in the game\n",
    "- team3PM_A: the 3 point field goal makes team A had in the game\n",
    "- team3P\\%_A: the team3PM / team3PA for team A in the game\n",
    "- teamFTA_A: the number of free throw attempts by team A in the game\n",
    "- teamFTM_A: the number of free throw makes by team A in the game\n",
    "- teamFT\\%_A: the teamFTM / teamFTA for team A in the game\n",
    "- teamORB_A: the number of offensive rebounds team A had in the game\n",
    "- teamDRB_A: the number of defensive rebounds team A had in the game\n",
    "- teamTRB_A: the total number of rebounds team A had in the game\n",
    "- teamPTS1_A: the total points team A had in the first quarter of the game\n",
    "- teamPTS2_A: the total points team A had in the second quarter of the game\n",
    "- teamPTS3_A: the total points team A had in the third quarter of the game\n",
    "- teamPTS4_A: the total points team A had in the fourth quarter of the game\n",
    "- teamPTS5_A: the total points team A had in the first overtime if the teams are tied after 4 quarters\n",
    "- teamPTS6_A: the total points team A had in the second overtime if game is still tied after first overtime\n",
    "- teamPTS7_A: the total points team A had in the third overtime if game is still tied after second overtime\n",
    "- teamPTS8_A: the total points team A had in the fourth overtime if game is still tied after third overtime\n",
    "- teamTREB\\%_A: the percent of total rebounds team A had in the game (teamTRB_A / (teamTRB_A + teamTRB_B))\n",
    "- teamASST\\%_A: the percent of assisted field goal makes over all field goal makes for team A (teamAST_A / teamFGM_A)\n",
    "- teamTS\\%_A: the true shooting percentage statistic for team A (teamPTS_A / (2 * (teamFGA_A + (teamFTA_A * 0.44))))\n",
    "- teamEFG\\%_A: the effective field goal percentage statistic for team A (teamFGM_A + (0.5 * team3PM_A) / teamFGA_A)\n",
    "- teamOREB\\%_A: the percent of offensive rebounds team A had in the game (teamORB_A / (teamORB_A + teamORB_B))\n",
    "- teamDREB\\%_A: the percent of defensive rebounds team A had in the game (teamDRB_A / (teamDRB_A + teamDRB_B))\n",
    "- teamTO\\%_A: the turnover percentage for team A (teamTO_A * 100 / (teamFGA_A + 0.44 * teamFTA_A + teamTO_A))\n",
    "- teamSTL\\%_A: the steal percentage for team A (teamSTL_A * 100 / poss_A)\n",
    "- teamBLK\\%_A: the block percentage for team A (teamBLK_A * 100 / poss_A)\n",
    "- teamBLKR_A: the block rate for team A (teamBLK_A * 100 / team2PA_B)\n",
    "- teamPPS_A: the points per shot for team A (teamPTS_A / teamFGA_A)\n",
    "- teamFIC_A: the floor impact counter statistic for team A (teamPTS_A + teamORB_A + 0.75 * teamDRB_A + teamAST_A + teamSTL_A + teamBLK_A – 0.75 * teamFGA_A – 0.375 * teamFTA_A – teamTO_A – 0.5 * teamPF_A)\n",
    "- teamFIC40_A: the floor impact counter per 40 minutes by team A (((teamPTS_A + teamORB_A + 0.75 * teamDRB_A + teamAST_A + teamSTL_A + teamBLK_A – 0.75 * teamFGA_A – 0.375 * teamFTA_A – teamTO_A – 0.5 * teamPF_A) * 40 * 5) / teamMin_A)\n",
    "- teamOrtg_A: the offensive rating for team A in the game (teamPTS_A * 100 / poss_A)\n",
    "- teamDrtg_A: the defensive rating for team A in the game (teamPTS_B * 100 / poss_A)\n",
    "- teamEDiff_A: the efficiency difference for team A in the game (teamOrtg_A – teamDrtg_A)\n",
    "- teamPlay\\%_A: the play percentage for team A in the game (teamFGM_A / (teamFGA_A – teamORB_A + teamTO_A))\n",
    "- teamAR_A: the assist rate for team A in the game ((teamAST_A * 100) / (teamFGA_A – 0.44 * teamFTA_A + teamAST_A + teamTO_A)\n",
    "- teamAST/TO_A: the assist to turnover ratio for team A in the game (teamAST_A / teamTO_A)\n",
    "- teamSTL/TO_A: the steal to turnover ratio for team A in the game (teamSTL_A / teamTO_A)\n",
    "- poss_A: the total possessions for team A (teamFGA_A – (teamORB_A / teamORB_A + teamDRB_B) * (teamFGA_A – teamFGM_A) * 1.07 + teamTO_A) + (0.4 * teamFTA_A)\n",
    "- pace_A: the pace for team A in the game ((poss_A * 48 * 5) / teamMin_A))\n",
    "- offLNm1: first official/referee last name\n",
    "- offFNm1: first official/referee first name\n",
    "- offLNm2: second official/referee last name\n",
    "- offFNm2: second official/referee first name\n",
    "- offLNm3: third official/referee last name\n",
    "- offFNm3: third official/referee first name\n",
    "- teamAbbr_B: the name of team B (there are 30 of these, indicating 30 teams in the league) / serves as another possible second part of the primary key (in conjunction with the 'gameID')\n",
    "- teamConf_B: the conference in which team B plays (either East or West)\n",
    "- teamDiv_B: the division in which team B plays (there are 3 divisions in each conference, meaning there are 6 total divisions)\n",
    "- teamLoc_B: the indicator for whether team B is playing 'Home' (in their city) or 'Away' (in team A's city)\n",
    "- teamRslt_B: the outcome of the game from the perspective of team B (Win or Loss)\n",
    "- teamMin_B: the accumulated minutes played in the game by the players (mostly 240 as that is how many minutes are played cumulatively by players for a regular 4 quarter game, i.e. 5 players play 4 quarters that are 12 minutes each results in 240 cumulative minutes)\n",
    "- teamDayOff_B: the number of days without a game since the last game for team B (e.g. if the value is 1, team B played 2 days prior)\n",
    "- teamPTS_B: the total points team B had in the game\n",
    "- teamAST_B: the total assists team B had in the game\n",
    "- teamTO_B: the total turnovers team B had in the game\n",
    "- teamSTL_B: the total steals team B had in the game\n",
    "- teamBLK_B: the total blocks team B had in the game\n",
    "- teamPF_B: the total personal fouls team B had in the game\n",
    "- teamFGA_B: the total attempted field goals (shots) team B had in the game\n",
    "- teamFGM_B: the total made field goals (made shots) team B had in the game\n",
    "- teamFG\\%_B: the teamFGM / teamFGA for team B in the game \n",
    "- team2PA_B: the 2 point field goal attempts team B had in the game\n",
    "- team2PM_B: the 2 point field goal makes team B had in the game\n",
    "- team2P\\%_B: the team2PM / team2PA for team B in the game\n",
    "- team3PA_B: the 3 point field goal attempts team B had in the game\n",
    "- team3PM_B: the 3 point field goal makes team B had in the game\n",
    "- team3P\\%_B: the team3PM / team3PA for team B in the game\n",
    "- teamFTA_B: the number of free throw attempts by team B in the game\n",
    "- teamFTM_B: the number of free throw makes by team B in the game\n",
    "- teamFT\\%_B: the teamFTM / teamFTA for team B in the game\n",
    "- teamORB_B: the number of offensive rebounds team B had in the game\n",
    "- teamDRB_B: the number of defensive rebounds team B had in the game\n",
    "- teamTRB_B: the total number of rebounds team B had in the game\n",
    "- teamPTS1_B: the total points team B had in the first quarter of the game\n",
    "- teamPTS2_B: the total points team B had in the second quarter of the game\n",
    "- teamPTS3_B: the total points team B had in the third quarter of the game\n",
    "- teamPTS4_B: the total points team B had in the fourth quarter of the game\n",
    "- teamPTS5_B: the total points team B had in the first overtime if the teams are tied after 4 quarters\n",
    "- teamPTS6_B: the total points team B had in the second overtime if game is still tied after first overtime\n",
    "- teamPTS7_B: the total points team B had in the third overtime if game is still tied after second overtime\n",
    "- teamPTS8_B: the total points team B had in the fourth overtime if game is still tied after third overtime\n",
    "- teamTREB\\%_B: the percent of total rebounds team B had in the game (teamTRB_B / (teamTRB_B + teamTRB_A))\n",
    "- teamASST\\%_B: the percent of assisted field goal makes over all field goal makes for team B (teamAST_B / teamFGM_B)\n",
    "- teamTS\\%_B: the true shooting percentage statistic for team B (teamPTS_B / (2 * (teamFGA_B + (teamFTA_B * 0.44))))\n",
    "- teamEFG\\%_B: the effective field goal percentage statistic for team B (teamFGM_B + (0.5 * team3PM_B) / teamFGA_B)\n",
    "- teamOREB\\%_B: the percent of offensive rebounds team B had in the game (teamORB_B / (teamORB_B + teamORB_A))\n",
    "- teamDREB\\%_B: the percent of defensive rebounds team B had in the game (teamDRB_B / (teamDRB_B + teamDRB_A))\n",
    "- teamTO\\%_B: the turnover percentage for team B (teamTO_B * 100 / (teamFGA_B + 0.44 * teamFTA_B + teamTO_B))\n",
    "- teamSTL\\%_B: the steal percentage for team B (teamSTL_B * 100 / poss_B)\n",
    "- teamBLK\\%_B: the block percentage for team B (teamBLK_B * 100 / poss_B)\n",
    "- teamBLKR_B: the block rate for team B (teamBLK_B * 100 / team2PA_A)\n",
    "- teamPPS_B: the points per shot for team B (teamPTS_B / teamFGA_B)\n",
    "- teamFIC_B: the floor impact counter statistic for team B (teamPTS_B + teamORB_B + 0.75 * teamDRB_B + teamAST_B + teamSTL_B + teamBLK_B – 0.75 * teamFGA_B – 0.375 * teamFTA_B – teamTO_B – 0.5 * teamPF_B)\n",
    "- teamFIC40_B: the floor impact counter per 40 minutes by team B (((teamPTS_B + teamORB_B + 0.75 * teamDRB_B + teamAST_B + teamSTL_B + teamBLK_B – 0.75 * teamFGA_B – 0.375 * teamFTA_B – teamTO_B – 0.5 * teamPF_B) * 40 * 5) / teamMin_B)\n",
    "- teamOrtg_B: the offensive rating for team B in the game (teamPTS_B * 100 / poss_B)\n",
    "- teamDrtg_B: the defensive rating for team B in the game (teamPTS_A * 100 / poss_B)\n",
    "- teamEDiff_B: the efficiency difference for team B in the game (teamOrtg_B – teamDrtg_B)\n",
    "- teamPlay\\%_B: the play percentage for team B in the game (teamFGM_B / (teamFGA_B – teamORB_B + teamTO_B))\n",
    "- teamAR_B: the assist rate for team B in the game ((teamAST_B * 100) / (teamFGA_B – 0.44 * teamFTA_B + teamAST_B + teamTO_B)\n",
    "- teamAST/TO_B: the assist to turnover ratio for team B in the game (teamAST_B / teamTO_B)\n",
    "- teamSTL/TO_B: the steal to turnover ratio for team B in the game (teamSTL_B / teamTO_B)\n",
    "- poss_B: the total possessions for team B (teamFGA_B – (teamORB_B / teamORB_B + teamDRB_A) * (teamFGA_B – teamFGM_B) * 1.07 + teamTO_B) + (0.4 * teamFTA_B)\n",
    "- pace_B: the pace for team B in the game ((poss_B * 48 * 5) / teamMin_B)))\n",
    "- rank_A: comparative rank of team A in conference up to game date\n",
    "- rankOrd_A: comparative rank of team A in conference up to game date\n",
    "- gameWon_A: number of games team A won in the season up to game date\n",
    "- gameLost_A: number of games team A lost in the season up to game date\n",
    "- stk_A: current streak for team A in string format (e.g. W2 indicates team A won the last 2 games they've played)\n",
    "- stkType_A: type of current streak for team A (win, loss, or -)\n",
    "- stkTot_A: number of games in current streak for team A\n",
    "- gameBack_A: number of games team A is behind first place in conference\n",
    "- ptsFor_A: total accumulated points by team A up to the date of the game in the season\n",
    "- ptsAgnst_A: total accumulated points scored against team A up to the date of the game in the season\n",
    "- homeWin_A: number of home games won up to the point of the game for team A in a season\n",
    "- homeLoss_A: number of home games lost up to the point of the game for team A in a season\n",
    "- awayWin_A: number of away games won up to the point of the game for team A in a season\n",
    "- awayLoss_A: number of away games lost up to the point of the game for team A in a season\n",
    "- confWin_A: number of games won against teams in same conference up to the point of the game for team A in a season\n",
    "- confLoss_A: number of games lost against teams in same conference up to the point of the game for team A in a season\n",
    "- lastFive_A: number of wins in the last five games for team A prior to game\n",
    "- lastTen_A: number of wins in the last ten games for team A prior to game\n",
    "- gamePlay_A: number of games played up to the point of the game by team A\n",
    "- ptsScore_A: average points scored by team A per game of all games in the season up to the point of this game\n",
    "- ptsAllow_A: average points scored against team A per game of all games in the season up to the point of this game\n",
    "- ptsDiff_A: points differential for the season up to the point of this game for team A (ptsScore_A - ptsAllow_A)\n",
    "- opptGmPlay_A: accumulated games played by opponents of team A up to the point of this game in the season\n",
    "- opptGmWon_A: accumulated games won by opponents of team A up to the point of this game in the season\n",
    "- opptOpptGmPlay_A: accumulated games played by opponents of opponents of team A up to the point of this game in the season\n",
    "- opptOpptGmWon_A: accumulated games won by opponents of opponents of team A up to the point of this game in the season\n",
    "- sos_A: strength of schedule for team A up to the point of this game in the season (((2 * opptGmWon_A / opptGmPlay_A) + (opptOpptGmWon_A / opptOpptGmPlay_A)) / 3\n",
    "- rel\\%Indx_A: relative percent index for team A, measures a team's strength of schedule and how a team does against that schedule, up to the point of this game in the season ((0.25 * gamePlay_A / gameWon_A) + (0.5 * opptGmWon_A / opptGmPlay_A) + (0.25 * opptOpptGmWon_A / opptOpptGmPlay_A))\n",
    "- mov_A: margin of victory for team A up to the point of this game in the season ((ptsFor_A – ptsAgnst_A) / gamePlay_A)\n",
    "- srs_A: simple rating system statistic for team A up to the point of this game in the season (mov_A – sos_A)\n",
    "- pw\\%_A: projected winning percentage for team A for the season based on mov_A (((mov_A * 2.7) + 41) / 82)\n",
    "- pyth\\%13.91_A: Pythagorean 13.91 winning percentage for team A for the season based on games up to this game(ptsFor_A ^ 13.91 / (ptsFor_A ^ 13.91 + ptsAgnst_A ^ 13.91))\n",
    "- wpyth13.91_A: Pythagorean 13.91 expected wins for team A for the season (pyth\\%13.91_A * 82)\n",
    "- lpyth13.91_A: Pythagorean 13.91 expected losses for team A for the season (82 – wpyth13.91_A)\n",
    "- pyth%16.5_A: Pythagorean 16.5 winning percentage for team A for the season based on games up to this game(ptsFor_A ^ 16.5 / (ptsFor_A ^ 16.5 + ptsAgnst_A ^ 16.5))\n",
    "- wpyth16.5_A: Pythagorean 16.5 expected wins for team A for the season (pyth\\%16.5_A * 82)\n",
    "- lpyth16.5_A: Pythagorean 16.5 expected losses for team A for the season (82 – wpyth16.5_A)\n",
    "- rank_B: comparative rank of team B in conference up to game date\n",
    "- rankOrd_B: comparative rank of team B in conference up to game date\n",
    "- gameWon_B: number of games team B won in the season up to game date\n",
    "- gameLost_B: number of games team B lost in the season up to game date\n",
    "- stk_B: current streak for team B in string format (e.g. W2 indicates team B won the last 2 games they've played)\n",
    "- stkType_B: type of current streak for team B (win, loss, or -)\n",
    "- stkTot_B: number of games in current streak for team B\n",
    "- gameBack_B: number of games team B is behind first place in conference\n",
    "- ptsFor_B: total accumulated points by team B up to the date of the game in the season\n",
    "- ptsAgnst_B: total accumulated points scored against team B up to the date of the game in the season\n",
    "- homeWin_B: number of home games won up to the point of the game for team B in a season\n",
    "- homeLoss_B: number of home games lost up to the point of the game for team B in a season\n",
    "- awayWin_B: number of away games won up to the point of the game for team B in a season\n",
    "- awayLoss_B: number of away games lost up to the point of the game for team B in a season\n",
    "- confWin_B: number of games won against teams in same conference up to the point of the game for team B in a season\n",
    "- confLoss_B: number of games lost against teams in same conference up to the point of the game for team B in a season\n",
    "- lastFive_B: number of wins in the last five games for team B prior to game\n",
    "- lastTen_B: number of wins in the last ten games for team B prior to game\n",
    "- gamePlay_B: number of games played up to the point of the game by team B\n",
    "- ptsScore_B: average points scored by team B per game of all games in the season up to the point of this game\n",
    "- ptsAllow_B: average points scored against team B per game of all games in the season up to the point of this game\n",
    "- ptsDiff_B: points differential for the season up to the point of this game for team B (ptsScore_B - ptsAllow_B)\n",
    "- opptGmPlay_B: accumulated games played by opponents of team B up to the point of this game in the season\n",
    "- opptGmWon_B: accumulated games won by opponents of team B up to the point of this game in the season\n",
    "- opptOpptGmPlay_B: accumulated games played by opponents of opponents of team B up to the point of this game in the season\n",
    "- opptOpptGmWon_B: accumulated games won by opponents of opponents of team B up to the point of this game in the season\n",
    "- sos_B: strength of schedule for team B up to the point of this game in the season (((2 * opptGmWon_B / opptGmPlay_B) + (opptOpptGmWon_B / opptOpptGmPlay_B)) / 3\n",
    "- rel\\%Indx_B: relative percent index for team B, measures a team's strength of schedule and how a team does against that schedule, up to the point of this game in the season ((0.25 * gamePlay_B / gameWon_B) + (0.5 * opptGmWon_B / opptGmPlay_B) + (0.25 * opptOpptGmWon_B / opptOpptGmPlay_B))\n",
    "- mov_B: margin of victory for team B up to the point of this game in the season ((ptsFor_B – ptsAgnst_B) / gamePlay_B)\n",
    "- srs_B: simple rating system statistic for team B up to the point of this game in the season (mov_B – sos_B)\n",
    "- pw\\%_B: projected winning percentage for team B for the season based on mov_B (((mov_B * 2.7) + 41) / 82)\n",
    "- pyth\\%13.91_B: Pythagorean 13.91 winning percentage for team B for the season based on games up to this game(ptsFor_B ^ 13.91 / (ptsFor_B ^ 13.91 + ptsAgnst_B ^ 13.91))\n",
    "- wpyth13.91_B: Pythagorean 13.91 expected wins for team B for the season (pyth\\%13.91_B * 82)\n",
    "- lpyth13.91_B: Pythagorean 13.91 expected losses for team B for the season (82 – wpyth13.91_B)\n",
    "- pyth%16.5_B: Pythagorean 16.5 winning percentage for team B for the season based on games up to this game(ptsFor_B ^ 16.5 / (ptsFor_B ^ 16.5 + ptsAgnst_B ^ 16.5))\n",
    "- wpyth16.5_B: Pythagorean 16.5 expected wins for team B for the season (pyth\\%16.5_B * 82)\n",
    "- lpyth16.5_B: Pythagorean 16.5 expected losses for team B for the season (82 – wpyth16.5_B)\n",
    "- line_price_A: average betting line price for team A\n",
    "- spread_A: average betting spread for team A\n",
    "- spread_price_A: average betting spread price for team A\n",
    "- total_A: average betting total points for team A\n",
    "- total_price_A: average betting total points price for team A\n",
    "- line_price_B: average betting line price for team B\n",
    "- spread_B: average betting spread for team B\n",
    "- spread_price_B: average betting spread price for team B\n",
    "- total_B: average betting total points for team B\n",
    "- total_price_B: average betting total points price for team B"
   ]
  },
  {
   "cell_type": "markdown",
   "metadata": {
    "Collapsed": "false"
   },
   "source": [
    "## Missing Values"
   ]
  },
  {
   "cell_type": "code",
   "execution_count": 5,
   "metadata": {
    "Collapsed": "false"
   },
   "outputs": [],
   "source": [
    "def get_null_cols(df, kind='indexes'):\n",
    "    null_ct = df.isnull().sum()\n",
    "    null_cols = null_ct[null_ct > 0].index\n",
    "    if kind == 'indexes':\n",
    "        return null_cols\n",
    "    if kind == 'series':\n",
    "        return null_ct[null_ct > 0]"
   ]
  },
  {
   "cell_type": "code",
   "execution_count": 6,
   "metadata": {
    "Collapsed": "false"
   },
   "outputs": [],
   "source": [
    "def view_null_rows(df, index=0, ver='game'):\n",
    "    null_cols = get_null_cols(df)\n",
    "    column = null_cols[index]\n",
    "    temp_df = df[df[column].isna()].copy()\n",
    "    if ver == 'all':\n",
    "        return temp_df\n",
    "    if ver == 'game':\n",
    "        return temp_df[['gmDate', 'teamAbbr_A', 'teamAbbr_B', column]]\n",
    "    if ver == 'col':\n",
    "        return temp_df[[column]]"
   ]
  },
  {
   "cell_type": "code",
   "execution_count": 7,
   "metadata": {
    "Collapsed": "false"
   },
   "outputs": [
    {
     "data": {
      "text/html": [
       "<div>\n",
       "<style scoped>\n",
       "    .dataframe tbody tr th:only-of-type {\n",
       "        vertical-align: middle;\n",
       "    }\n",
       "\n",
       "    .dataframe tbody tr th {\n",
       "        vertical-align: top;\n",
       "    }\n",
       "\n",
       "    .dataframe thead th {\n",
       "        text-align: right;\n",
       "    }\n",
       "</style>\n",
       "<table border=\"1\" class=\"dataframe\">\n",
       "  <thead>\n",
       "    <tr style=\"text-align: right;\">\n",
       "      <th></th>\n",
       "      <th>gmDate</th>\n",
       "      <th>teamAbbr_A</th>\n",
       "      <th>teamAbbr_B</th>\n",
       "      <th>offLNm3</th>\n",
       "      <th>offFNm3</th>\n",
       "    </tr>\n",
       "  </thead>\n",
       "  <tbody>\n",
       "    <tr>\n",
       "      <th>2736</th>\n",
       "      <td>2017-12-28</td>\n",
       "      <td>BOS</td>\n",
       "      <td>HOU</td>\n",
       "      <td>NaN</td>\n",
       "      <td>NaN</td>\n",
       "    </tr>\n",
       "    <tr>\n",
       "      <th>2737</th>\n",
       "      <td>2017-12-28</td>\n",
       "      <td>HOU</td>\n",
       "      <td>BOS</td>\n",
       "      <td>NaN</td>\n",
       "      <td>NaN</td>\n",
       "    </tr>\n",
       "    <tr>\n",
       "      <th>3204</th>\n",
       "      <td>2015-03-08</td>\n",
       "      <td>CHA</td>\n",
       "      <td>DET</td>\n",
       "      <td>NaN</td>\n",
       "      <td>NaN</td>\n",
       "    </tr>\n",
       "    <tr>\n",
       "      <th>3205</th>\n",
       "      <td>2015-03-08</td>\n",
       "      <td>DET</td>\n",
       "      <td>CHA</td>\n",
       "      <td>NaN</td>\n",
       "      <td>NaN</td>\n",
       "    </tr>\n",
       "  </tbody>\n",
       "</table>\n",
       "</div>"
      ],
      "text/plain": [
       "          gmDate teamAbbr_A teamAbbr_B offLNm3 offFNm3\n",
       "2736  2017-12-28        BOS        HOU     NaN     NaN\n",
       "2737  2017-12-28        HOU        BOS     NaN     NaN\n",
       "3204  2015-03-08        CHA        DET     NaN     NaN\n",
       "3205  2015-03-08        DET        CHA     NaN     NaN"
      ]
     },
     "execution_count": 7,
     "metadata": {},
     "output_type": "execute_result"
    }
   ],
   "source": [
    "view_null_rows(df, 0, 'game').join(view_null_rows(df, 1, 'col'))"
   ]
  },
  {
   "cell_type": "markdown",
   "metadata": {
    "Collapsed": "false"
   },
   "source": [
    "- Gediminas Petraitis was the third official for the BOS/HOU game (indexes 2736 and 2737)\n",
    "- There was no third official for the CHA/DET game (indexes 3204 and 3205)"
   ]
  },
  {
   "cell_type": "code",
   "execution_count": 8,
   "metadata": {
    "Collapsed": "false"
   },
   "outputs": [],
   "source": [
    "df.loc[2736:2737, 'offLNm3'] = 'Petraitis'\n",
    "df.loc[2736:2737, 'offFNm3'] = 'Gediminas'"
   ]
  },
  {
   "cell_type": "code",
   "execution_count": 9,
   "metadata": {
    "Collapsed": "false"
   },
   "outputs": [],
   "source": [
    "df.loc[3204:3205, 'offLNm3'] = 'None'\n",
    "df.loc[3204:3205, 'offFNm3'] = 'None'"
   ]
  },
  {
   "cell_type": "code",
   "execution_count": 10,
   "metadata": {
    "Collapsed": "false"
   },
   "outputs": [
    {
     "data": {
      "text/plain": [
       "Index(['rank_A', 'rankOrd_A', 'gameWon_A', 'gameLost_A', 'stk_A', 'stkType_A',\n",
       "       'stkTot_A', 'gameBack_A', 'ptsFor_A', 'ptsAgnst_A', 'homeWin_A',\n",
       "       'homeLoss_A', 'awayWin_A', 'awayLoss_A', 'confWin_A', 'confLoss_A',\n",
       "       'lastFive_A', 'lastTen_A', 'gamePlay_A', 'ptsScore_A', 'ptsAllow_A',\n",
       "       'ptsDiff_A', 'opptGmPlay_A', 'opptGmWon_A', 'opptOpptGmPlay_A',\n",
       "       'opptOpptGmWon_A', 'sos_A', 'rel%Indx_A', 'mov_A', 'srs_A', 'pw%_A',\n",
       "       'pyth%13.91_A', 'wpyth13.91_A', 'lpyth13.91_A', 'pyth%16.5_A',\n",
       "       'wpyth16.5_A', 'lpyth16.5_A', 'rank_B', 'rankOrd_B', 'gameWon_B',\n",
       "       'gameLost_B', 'stk_B', 'stkType_B', 'stkTot_B', 'gameBack_B',\n",
       "       'ptsFor_B', 'ptsAgnst_B', 'homeWin_B', 'homeLoss_B', 'awayWin_B',\n",
       "       'awayLoss_B', 'confWin_B', 'confLoss_B', 'lastFive_B', 'lastTen_B',\n",
       "       'gamePlay_B', 'ptsScore_B', 'ptsAllow_B', 'ptsDiff_B', 'opptGmPlay_B',\n",
       "       'opptGmWon_B', 'opptOpptGmPlay_B', 'opptOpptGmWon_B', 'sos_B',\n",
       "       'rel%Indx_B', 'mov_B', 'srs_B', 'pw%_B', 'pyth%13.91_B', 'wpyth13.91_B',\n",
       "       'lpyth13.91_B', 'pyth%16.5_B', 'wpyth16.5_B', 'lpyth16.5_B',\n",
       "       'line_price_A', 'spread_A', 'spread_price_A', 'total_A',\n",
       "       'total_price_A', 'line_price_B', 'spread_B', 'spread_price_B',\n",
       "       'total_B', 'total_price_B'],\n",
       "      dtype='object')"
      ]
     },
     "execution_count": 10,
     "metadata": {},
     "output_type": "execute_result"
    }
   ],
   "source": [
    "get_null_cols(df)"
   ]
  },
  {
   "cell_type": "markdown",
   "metadata": {
    "Collapsed": "false"
   },
   "source": [
    "Lots of the above columns with nulls occur on rows that are first game occurrences."
   ]
  },
  {
   "cell_type": "markdown",
   "metadata": {
    "Collapsed": "false"
   },
   "source": [
    "Create a new variable, `first_game` to easily filter the dataframe:\n",
    "- Create list `first_ids` with gameIDs for each team's first game from each season\n",
    "- Create new variable called `first_game` and if the row's gameID is in `first_ids` then assign with True"
   ]
  },
  {
   "cell_type": "code",
   "execution_count": 11,
   "metadata": {
    "Collapsed": "false"
   },
   "outputs": [],
   "source": [
    "first_ids = []\n",
    "for team in df.teamAbbr_A.unique():\n",
    "    for season in df[df.teamAbbr_A == team].seasID.unique():\n",
    "        first_id = df[(df.teamAbbr_A == team) & (df.seasID == season)].sort_values('gmDate').iloc[0, 0]\n",
    "        first_ids.append(first_id)"
   ]
  },
  {
   "cell_type": "code",
   "execution_count": 12,
   "metadata": {
    "Collapsed": "false"
   },
   "outputs": [],
   "source": [
    "df['first_game'] = df.gameID.apply(lambda x: x in first_ids).copy()"
   ]
  },
  {
   "cell_type": "markdown",
   "metadata": {
    "Collapsed": "false"
   },
   "source": [
    "Here are the percentages of the missing values out of the total values for our ultimate dataset, looks like the highest missing amount is from the line prices at 2%, which really isn't very much at all considering this dataset contains around 14,500 rows. It may make the most sense to interpolate the data here as it is of the time series variety. However, these values are very dependent on teams and their opponents. Many of these can likely be 'filled in' based off of the data found in the prior game."
   ]
  },
  {
   "cell_type": "markdown",
   "metadata": {
    "Collapsed": "false"
   },
   "source": [
    "### Interpolation and other null filling techniques"
   ]
  },
  {
   "cell_type": "markdown",
   "metadata": {
    "Collapsed": "false"
   },
   "source": [
    "Due to the relative completeness of the dataset and the time series like form of the data, it is likely best to interpolate missing numerical values here."
   ]
  },
  {
   "cell_type": "code",
   "execution_count": 13,
   "metadata": {
    "Collapsed": "false"
   },
   "outputs": [],
   "source": [
    "a_cols = df.columns[0:5].tolist() + df.columns[df.columns.str.endswith('_A')].tolist() + df.columns[63:69].tolist() + ['first_game']\n",
    "b_cols = df.columns[0:5].tolist() + df.columns[df.columns.str.endswith('_B')].tolist() + df.columns[63:69].tolist() + ['first_game']"
   ]
  },
  {
   "cell_type": "code",
   "execution_count": 14,
   "metadata": {
    "Collapsed": "false"
   },
   "outputs": [],
   "source": [
    "def interpolate_by_team_by_seas(df, teamAbbr):\n",
    "    interp_dfs = []\n",
    "    \n",
    "    for team in df[teamAbbr].unique():\n",
    "        for season in df[df[teamAbbr] == team].seasID.unique():\n",
    "            interp_df = df[(df[teamAbbr] == team) & (df.seasID == season)].sort_values('gmDate').copy().interpolate(limit_direction='both')\n",
    "            interp_dfs.append(interp_df)\n",
    "    \n",
    "    return pd.concat(interp_dfs)"
   ]
  },
  {
   "cell_type": "code",
   "execution_count": 15,
   "metadata": {
    "Collapsed": "false"
   },
   "outputs": [],
   "source": [
    "interp_A = interpolate_by_team_by_seas(df[a_cols], 'teamAbbr_A')\n",
    "interp_B = interpolate_by_team_by_seas(df[b_cols], 'teamAbbr_B')"
   ]
  },
  {
   "cell_type": "code",
   "execution_count": 16,
   "metadata": {
    "Collapsed": "false"
   },
   "outputs": [
    {
     "data": {
      "text/plain": [
       "((14758, 112), (14758, 112))"
      ]
     },
     "execution_count": 16,
     "metadata": {},
     "output_type": "execute_result"
    }
   ],
   "source": [
    "interp_A.shape, interp_B.shape"
   ]
  },
  {
   "cell_type": "code",
   "execution_count": 17,
   "metadata": {
    "Collapsed": "false"
   },
   "outputs": [
    {
     "data": {
      "text/plain": [
       "rankOrd_A    236\n",
       "stk_A        236\n",
       "stkType_A    236\n",
       "dtype: int64"
      ]
     },
     "execution_count": 17,
     "metadata": {},
     "output_type": "execute_result"
    }
   ],
   "source": [
    "get_null_cols(interp_A, kind='series')"
   ]
  },
  {
   "cell_type": "code",
   "execution_count": 18,
   "metadata": {
    "Collapsed": "false"
   },
   "outputs": [
    {
     "data": {
      "text/plain": [
       "rankOrd_B    236\n",
       "stk_B        236\n",
       "stkType_B    236\n",
       "dtype: int64"
      ]
     },
     "execution_count": 18,
     "metadata": {},
     "output_type": "execute_result"
    }
   ],
   "source": [
    "get_null_cols(interp_B, kind='series')"
   ]
  },
  {
   "cell_type": "markdown",
   "metadata": {
    "Collapsed": "false"
   },
   "source": [
    "Still a little bit more to be filled as these columns are determined by the values of other columns and they are categorical rather than continuous, it shouldn't be too difficult."
   ]
  },
  {
   "cell_type": "code",
   "execution_count": 19,
   "metadata": {
    "Collapsed": "false"
   },
   "outputs": [],
   "source": [
    "interp_A.rank_A = interp_A.rank_A.astype(int).copy()\n",
    "interp_B.rank_B = interp_B.rank_B.astype(int).copy()"
   ]
  },
  {
   "cell_type": "code",
   "execution_count": 20,
   "metadata": {
    "Collapsed": "false"
   },
   "outputs": [],
   "source": [
    "def assign_ordinal(x):\n",
    "    if x == 1:\n",
    "        return '1st'\n",
    "    if x == 2:\n",
    "        return '2nd'\n",
    "    if x == 3:\n",
    "        return '3rd'\n",
    "    if x == 4:\n",
    "        return '4th'\n",
    "    if x == 5:\n",
    "        return '5th'\n",
    "    if x == 6:\n",
    "        return '6th'\n",
    "    if x == 7:\n",
    "        return '7th'\n",
    "    if x == 8:\n",
    "        return '8th'\n",
    "    if x == 9:\n",
    "        return '9th'\n",
    "    if x == 10:\n",
    "        return '10th'\n",
    "    if x == 11:\n",
    "        return '11th'\n",
    "    if x == 12:\n",
    "        return '12th'\n",
    "    if x == 13:\n",
    "        return '13th'\n",
    "    if x == 14:\n",
    "        return '14th'\n",
    "    if x == 15:\n",
    "        return '15th'"
   ]
  },
  {
   "cell_type": "code",
   "execution_count": 21,
   "metadata": {
    "Collapsed": "false"
   },
   "outputs": [],
   "source": [
    "interp_A.rankOrd_A = interp_A.rank_A.apply(assign_ordinal).copy()\n",
    "interp_B.rankOrd_B = interp_B.rank_B.apply(assign_ordinal).copy()"
   ]
  },
  {
   "cell_type": "markdown",
   "metadata": {
    "Collapsed": "false"
   },
   "source": [
    "That takes care of rankOrd_A/B..."
   ]
  },
  {
   "cell_type": "code",
   "execution_count": 22,
   "metadata": {
    "Collapsed": "false"
   },
   "outputs": [],
   "source": [
    "interp_A.stkTot_A = interp_A.stkTot_A.astype('int').copy()\n",
    "interp_B.stkTot_B = interp_B.stkTot_B.astype('int').copy()"
   ]
  },
  {
   "cell_type": "code",
   "execution_count": 23,
   "metadata": {
    "Collapsed": "false"
   },
   "outputs": [],
   "source": [
    "temp_df = interp_A[(interp_A['teamAbbr_A'] == 'LAL') & (interp_A.seasID == 2012)].copy()"
   ]
  },
  {
   "cell_type": "code",
   "execution_count": 24,
   "metadata": {
    "Collapsed": "false"
   },
   "outputs": [],
   "source": [
    "def fix_stkType(df, teamAbbr, stkType, teamRslt):\n",
    "    stkType_fix_dfs = []\n",
    "    \n",
    "    for team in df[teamAbbr].unique():\n",
    "        for season in df[df[teamAbbr] == team].seasID.unique():\n",
    "            temp_df = df[(df[teamAbbr] == team) & (df.seasID == season)].sort_values('gmDate').copy()\n",
    "            temp_df[stkType] = temp_df[teamRslt].str.lower().shift().copy()\n",
    "            temp_df[stkType] = temp_df[stkType].fillna('none')\n",
    "            stkType_fix_dfs.append(temp_df)\n",
    "    \n",
    "    return pd.concat(stkType_fix_dfs)"
   ]
  },
  {
   "cell_type": "code",
   "execution_count": 25,
   "metadata": {
    "Collapsed": "false"
   },
   "outputs": [],
   "source": [
    "interp_A = fix_stkType(interp_A, 'teamAbbr_A', 'stkType_A', 'teamRslt_A').copy()\n",
    "interp_B = fix_stkType(interp_B, 'teamAbbr_B', 'stkType_B', 'teamRslt_B').copy()"
   ]
  },
  {
   "cell_type": "markdown",
   "metadata": {
    "Collapsed": "false"
   },
   "source": [
    "All that is left is to fix the `stk_A` values and `stk_B` values, then merge the two back together."
   ]
  },
  {
   "cell_type": "code",
   "execution_count": 26,
   "metadata": {
    "Collapsed": "false"
   },
   "outputs": [],
   "source": [
    "interp_A.stk_A = (interp_A.stkType_A.apply(lambda x: 'L' if x == 'loss' else ('W' if x == 'win' else np.nan)) + interp_A.stkTot_A.astype('str')).fillna('none').copy()\n",
    "interp_B.stk_B = (interp_B.stkType_B.apply(lambda x: 'L' if x == 'loss' else ('W' if x == 'win' else np.nan)) + interp_B.stkTot_B.astype('str')).fillna('none').copy()"
   ]
  },
  {
   "cell_type": "code",
   "execution_count": 27,
   "metadata": {
    "Collapsed": "false"
   },
   "outputs": [
    {
     "data": {
      "text/plain": [
       "(0, 0)"
      ]
     },
     "execution_count": 27,
     "metadata": {},
     "output_type": "execute_result"
    }
   ],
   "source": [
    "interp_A.isna().sum().sum(), interp_B.isna().sum().sum()"
   ]
  },
  {
   "cell_type": "code",
   "execution_count": 28,
   "metadata": {
    "Collapsed": "false"
   },
   "outputs": [
    {
     "data": {
      "text/plain": [
       "(Index([], dtype='object'), Index([], dtype='object'))"
      ]
     },
     "execution_count": 28,
     "metadata": {},
     "output_type": "execute_result"
    }
   ],
   "source": [
    "get_null_cols(interp_A), get_null_cols(interp_B)"
   ]
  },
  {
   "cell_type": "markdown",
   "metadata": {
    "Collapsed": "false"
   },
   "source": [
    "All nulls have been taken care of!"
   ]
  },
  {
   "cell_type": "code",
   "execution_count": 29,
   "metadata": {
    "Collapsed": "false"
   },
   "outputs": [],
   "source": [
    "filled_df = pd.merge(interp_A, interp_B, left_index=True, right_index=True, on=['gameID',\n",
    "                                                                                'seasID',\n",
    "                                                                                'gmDate',\n",
    "                                                                                'gmTime',\n",
    "                                                                                'seasTyp',\n",
    "                                                                                'offLNm1',\n",
    "                                                                                'offFNm1',\n",
    "                                                                                'offLNm2',\n",
    "                                                                                'offFNm2',\n",
    "                                                                                'offLNm3',\n",
    "                                                                                'offFNm3',\n",
    "                                                                                'first_game']).sort_index().copy()"
   ]
  },
  {
   "cell_type": "markdown",
   "metadata": {
    "Collapsed": "false"
   },
   "source": [
    "## Eliminating Redundant/Unnecessary Columns and Column Organization"
   ]
  },
  {
   "cell_type": "markdown",
   "metadata": {
    "Collapsed": "false"
   },
   "source": [
    "Before diving into dealing with any outliers that may exist, any redundant or invariable columns can be removed."
   ]
  },
  {
   "cell_type": "code",
   "execution_count": 31,
   "metadata": {
    "Collapsed": "false"
   },
   "outputs": [
    {
     "data": {
      "text/plain": [
       "Index(['gameID', 'seasID', 'gmDate', 'gmTime', 'seasTyp', 'teamAbbr_A',\n",
       "       'teamConf_A', 'teamDiv_A', 'teamLoc_A', 'teamRslt_A',\n",
       "       ...\n",
       "       'wpyth13.91_B', 'lpyth13.91_B', 'pyth%16.5_B', 'wpyth16.5_B',\n",
       "       'lpyth16.5_B', 'line_price_B', 'spread_B', 'spread_price_B', 'total_B',\n",
       "       'total_price_B'],\n",
       "      dtype='object', length=212)"
      ]
     },
     "execution_count": 31,
     "metadata": {},
     "output_type": "execute_result"
    }
   ],
   "source": [
    "filled_df.columns"
   ]
  },
  {
   "cell_type": "code",
   "execution_count": 35,
   "metadata": {
    "Collapsed": "false"
   },
   "outputs": [],
   "source": [
    "filled_df = filled_df.drop(columns='seasTyp').copy()"
   ]
  },
  {
   "cell_type": "code",
   "execution_count": 38,
   "metadata": {
    "Collapsed": "false"
   },
   "outputs": [
    {
     "data": {
      "text/plain": [
       "Index(['gameID', 'seasID', 'gmDate', 'gmTime'], dtype='object')"
      ]
     },
     "execution_count": 38,
     "metadata": {},
     "output_type": "execute_result"
    }
   ],
   "source": [
    "filled_df.columns[0:4].tolist()"
   ]
  },
  {
   "cell_type": "code",
   "execution_count": 41,
   "metadata": {
    "Collapsed": "false"
   },
   "outputs": [],
   "source": [
    "only_A_cols = filled_df.columns[filled_df.columns.str.endswith('_A')].tolist()\n",
    "only_B_cols = filled_df.columns[filled_df.columns.str.endswith('_B')].tolist()"
   ]
  },
  {
   "cell_type": "markdown",
   "metadata": {
    "Collapsed": "false"
   },
   "source": [
    "Check to see if any series contain the same data..."
   ]
  },
  {
   "cell_type": "code",
   "execution_count": 63,
   "metadata": {
    "Collapsed": "false"
   },
   "outputs": [
    {
     "name": "stdout",
     "output_type": "stream",
     "text": [
      "poss_A poss_B\n"
     ]
    }
   ],
   "source": [
    "for x, y in zip(only_A_cols, only_B_cols):\n",
    "    if (filled_df[x] == filled_df[y]).sum() >= len(filled_df[x] == filled_df[y]):\n",
    "        print(x, y)"
   ]
  },
  {
   "cell_type": "markdown",
   "metadata": {
    "Collapsed": "false"
   },
   "source": [
    "The columns `poss_A` and `poss_B` appear to be exactly the same, we can create one column `poss` and drop the other two."
   ]
  },
  {
   "cell_type": "code",
   "execution_count": 64,
   "metadata": {
    "Collapsed": "false"
   },
   "outputs": [],
   "source": [
    "filled_df['poss'] = filled_df.poss_A.copy()\n",
    "filled_df = filled_df.drop(columns=['poss_A', 'poss_B']).copy()"
   ]
  },
  {
   "cell_type": "markdown",
   "metadata": {
    "Collapsed": "false"
   },
   "source": [
    "Let's change some columns to boolean values instead of strings, there are many columns where this is advantageous."
   ]
  },
  {
   "cell_type": "code",
   "execution_count": 81,
   "metadata": {
    "Collapsed": "false"
   },
   "outputs": [
    {
     "data": {
      "text/plain": [
       "['teamConf_A',\n",
       " 'teamLoc_A',\n",
       " 'teamRslt_A',\n",
       " 'first_game',\n",
       " 'teamConf_B',\n",
       " 'teamLoc_B',\n",
       " 'teamRslt_B',\n",
       " 'teamConf_W_A',\n",
       " 'teamConf_W_B',\n",
       " 'teamHome_A',\n",
       " 'teamHome_B',\n",
       " 'teamWin_A',\n",
       " 'teamWin_B']"
      ]
     },
     "execution_count": 81,
     "metadata": {},
     "output_type": "execute_result"
    }
   ],
   "source": [
    "filled_df.nunique()[filled_df.nunique() == 2].index.tolist()"
   ]
  },
  {
   "cell_type": "code",
   "execution_count": 79,
   "metadata": {
    "Collapsed": "false"
   },
   "outputs": [],
   "source": [
    "filled_df['teamConf_W_A'] = (filled_df.teamConf_A == 'West').copy()\n",
    "filled_df['teamConf_W_B'] = (filled_df.teamConf_B == 'West').copy()\n",
    "filled_df['teamHome_A'] = (filled_df.teamLoc_A == 'Home').copy()\n",
    "filled_df['teamHome_B'] = (filled_df.teamLoc_B == 'Home').copy()\n",
    "filled_df['teamWin_A'] = (filled_df.teamRslt_A == 'Win').copy()\n",
    "filled_df['teamWin_B'] = (filled_df.teamRslt_B == 'Win').copy()"
   ]
  },
  {
   "cell_type": "code",
   "execution_count": 83,
   "metadata": {
    "Collapsed": "false"
   },
   "outputs": [],
   "source": [
    "filled_df = filled_df.drop(columns=['teamConf_A',\n",
    "                                     'teamLoc_A',\n",
    "                                     'teamRslt_A',\n",
    "                                     'teamConf_B',\n",
    "                                     'teamLoc_B',\n",
    "                                     'teamRslt_B']).copy()"
   ]
  },
  {
   "cell_type": "code",
   "execution_count": 94,
   "metadata": {
    "Collapsed": "false"
   },
   "outputs": [],
   "source": [
    "filled_df.teamDiv_A = filled_df.teamDiv_A.astype('category').copy()\n",
    "filled_df.teamDiv_B = filled_df.teamDiv_B.astype('category').copy()\n",
    "filled_df['teamNm_A'] = filled_df.teamAbbr_A.astype('category').copy()\n",
    "filled_df['teamNm_B'] = filled_df.teamAbbr_B.astype('category').copy()"
   ]
  },
  {
   "cell_type": "code",
   "execution_count": 95,
   "metadata": {
    "Collapsed": "false"
   },
   "outputs": [],
   "source": [
    "filled_df = filled_df.drop(columns=['teamAbbr_A', 'teamAbbr_B']).copy()"
   ]
  },
  {
   "cell_type": "markdown",
   "metadata": {
    "Collapsed": "false"
   },
   "source": [
    "Let's get the data (almost) to the final step (mostly in order to explore it from both teams' points of view without double counting everything). Later on, the dataframe `filled_df` will be important in setting up the sliding window of averages for this data."
   ]
  },
  {
   "cell_type": "code",
   "execution_count": 206,
   "metadata": {
    "Collapsed": "false"
   },
   "outputs": [],
   "source": [
    "rand_df = filled_df.sample(frac = 1.0).groupby('gameID').head(1).copy()"
   ]
  },
  {
   "cell_type": "code",
   "execution_count": 231,
   "metadata": {
    "Collapsed": "false"
   },
   "outputs": [],
   "source": [
    "a_cols = rand_df.columns[~rand_df.columns.str.endswith('_B')].tolist()"
   ]
  },
  {
   "cell_type": "code",
   "execution_count": 233,
   "metadata": {
    "Collapsed": "false"
   },
   "outputs": [],
   "source": [
    "b_cols = []\n",
    "for item in a_cols:\n",
    "    b_col = item.replace('_A', '_B')\n",
    "    b_cols.append(b_col)"
   ]
  },
  {
   "cell_type": "code",
   "execution_count": 227,
   "metadata": {
    "Collapsed": "false"
   },
   "outputs": [],
   "source": [
    "for item in b_cols:\n",
    "    item.replace('_A', '_B')"
   ]
  },
  {
   "cell_type": "code",
   "execution_count": 237,
   "metadata": {
    "Collapsed": "false"
   },
   "outputs": [],
   "source": [
    "rand_df_A = rand_df[a_cols].copy()\n",
    "rand_df_B = rand_df[b_cols].copy()"
   ]
  },
  {
   "cell_type": "code",
   "execution_count": 240,
   "metadata": {
    "Collapsed": "false"
   },
   "outputs": [],
   "source": [
    "rand_df_A.columns = rand_df_A.columns.str.replace('_A', '')\n",
    "rand_df_B.columns = rand_df_B.columns.str.replace('_B', '')"
   ]
  },
  {
   "cell_type": "code",
   "execution_count": 244,
   "metadata": {
    "Collapsed": "false"
   },
   "outputs": [],
   "source": [
    "ind_team_df = pd.concat([rand_df_A, rand_df_B]).copy()"
   ]
  },
  {
   "cell_type": "markdown",
   "metadata": {
    "Collapsed": "false"
   },
   "source": [
    "For organizational purposes, let's look at each general kind of variable in groups. Let's reorder the columns and group them by type of data."
   ]
  },
  {
   "cell_type": "code",
   "execution_count": 264,
   "metadata": {
    "Collapsed": "false"
   },
   "outputs": [],
   "source": [
    "target_col = ['teamWin']\n",
    "game_ind_cols = ['gameID', 'seasID', 'gmDate', 'gmTime', 'teamNm', 'teamConf_W', 'teamDiv', 'first_game', 'teamDayOff', 'teamHome'] + ind_team_df.columns[99:105].tolist()\n",
    "game_stat_cols = ['teamMin'] + ind_team_df.columns[7:57].tolist() + ['poss']\n",
    "agg_stat_cols = ind_team_df.columns[57:94].tolist()\n",
    "bet_avg_cols = ind_team_df.columns[94: 99].tolist()"
   ]
  },
  {
   "cell_type": "code",
   "execution_count": 269,
   "metadata": {
    "Collapsed": "false"
   },
   "outputs": [],
   "source": [
    "all_cols = target_col + game_ind_cols + game_stat_cols + agg_stat_cols + bet_avg_cols"
   ]
  },
  {
   "cell_type": "code",
   "execution_count": 273,
   "metadata": {
    "Collapsed": "false"
   },
   "outputs": [],
   "source": [
    "team_df = ind_team_df[all_cols].copy()"
   ]
  },
  {
   "cell_type": "code",
   "execution_count": 306,
   "metadata": {
    "Collapsed": "false"
   },
   "outputs": [],
   "source": [
    "def box_hist(df, column_idx, size='normal'):\n",
    "    column = df.columns[column_idx]\n",
    "    \n",
    "    if size == 'normal':\n",
    "        figsize = (12, 5)\n",
    "    elif size == 'big':\n",
    "        figsize = (20, 8)\n",
    "    \n",
    "    if is_numeric_dtype(df[column]) == True:\n",
    "        kind = 'numeric'\n",
    "    else:\n",
    "        kind = 'non numeric'\n",
    "        \n",
    "    if kind == 'numeric':\n",
    "        plt.figure(figsize=figsize)\n",
    "        \n",
    "        plt.subplot(121)\n",
    "        plt.hist(df[column])\n",
    "        plt.title(f'{column} distribution')\n",
    "\n",
    "        plt.subplot(122)\n",
    "        plt.boxplot(df[column])\n",
    "        plt.title(f'{column} boxplot')\n",
    "        \n",
    "        plt.show()\n",
    "    \n",
    "    elif (kind == 'non numeric') and (len(df[column].unique()) < 50):\n",
    "        f, axes = plt.subplots(1, 2, figsize=figsize)\n",
    "        \n",
    "        sns.countplot(df[column], ax=axes[0])\n",
    "        plt.title(f'{column} counts')\n",
    "        \n",
    "        sns.pointplot(data=df,  x=column, y='teamWin' , dodge=True, join=False, ax=axes[1])\n",
    "        plt.title(f'{column} w.r.t. teamWin')\n",
    "        \n",
    "        plt.show()\n",
    "    \n",
    "    else:\n",
    "        print('')\n",
    "        print(f'{column} is full of strings and there are a lot of \\'em!')\n",
    "        print('')"
   ]
  },
  {
   "cell_type": "code",
   "execution_count": 307,
   "metadata": {
    "Collapsed": "false"
   },
   "outputs": [],
   "source": [
    "team_df.teamWin = team_df.teamWin.astype('int').copy()\n",
    "team_df.teamConf_W = team_df.teamConf_W.astype('int').copy()\n",
    "team_df.first_game = team_df.first_game.astype('int').copy()\n",
    "team_df.teamHome = team_df.teamHome.astype('int').copy()"
   ]
  },
  {
   "cell_type": "code",
   "execution_count": 309,
   "metadata": {
    "Collapsed": "false"
   },
   "outputs": [
    {
     "data": {
      "image/png": "[encoded data removed]",
      "text/plain": [
       "<Figure size 1440x576 with 2 Axes>"
      ]
     },
     "metadata": {
      "needs_background": "light"
     },
     "output_type": "display_data"
    }
   ],
   "source": [
    "box_hist(team_df, 4, size='big')"
   ]
  },
  {
   "cell_type": "markdown",
   "metadata": {
    "Collapsed": "false"
   },
   "source": [
    "Looks like gmTime may be a useful thing to look into when it comes to feature selection."
   ]
  },
  {
   "cell_type": "code",
   "execution_count": 310,
   "metadata": {
    "Collapsed": "false"
   },
   "outputs": [
    {
     "data": {
      "image/png": "[encoded data removed]",
      "text/plain": [
       "<Figure size 1440x576 with 2 Axes>"
      ]
     },
     "metadata": {
      "needs_background": "light"
     },
     "output_type": "display_data"
    }
   ],
   "source": [
    "box_hist(team_df, 5, size='big')"
   ]
  },
  {
   "cell_type": "markdown",
   "metadata": {
    "Collapsed": "false"
   },
   "source": [
    "Some teams have had much better win percentages over the past 6 years than others, as can be seen here."
   ]
  },
  {
   "cell_type": "code",
   "execution_count": 312,
   "metadata": {
    "Collapsed": "false"
   },
   "outputs": [
    {
     "data": {
      "image/png": "[encoded data removed]",
      "text/plain": [
       "<Figure size 864x360 with 2 Axes>"
      ]
     },
     "metadata": {
      "needs_background": "light"
     },
     "output_type": "display_data"
    }
   ],
   "source": [
    "box_hist(team_df, 7)"
   ]
  },
  {
   "cell_type": "markdown",
   "metadata": {
    "Collapsed": "false"
   },
   "source": [
    "Similarly, particular divisions have had more success than others over the recent years."
   ]
  },
  {
   "cell_type": "code",
   "execution_count": 313,
   "metadata": {
    "Collapsed": "false"
   },
   "outputs": [
    {
     "data": {
      "image/png": "[encoded data removed]",
      "text/plain": [
       "<Figure size 864x360 with 2 Axes>"
      ]
     },
     "metadata": {
      "needs_background": "light"
     },
     "output_type": "display_data"
    }
   ],
   "source": [
    "box_hist(team_df, 8)"
   ]
  },
  {
   "cell_type": "markdown",
   "metadata": {
    "Collapsed": "false"
   },
   "source": [
    "Very small number of first games, ultimately these will be eliminated when we finally select features, as many of the stat variables will be on rolling windows of averages (making the first game unusable)."
   ]
  },
  {
   "cell_type": "code",
   "execution_count": 314,
   "metadata": {
    "Collapsed": "false"
   },
   "outputs": [
    {
     "data": {
      "image/png": "[encoded data removed]",
      "text/plain": [
       "<Figure size 864x360 with 2 Axes>"
      ]
     },
     "metadata": {
      "needs_background": "light"
     },
     "output_type": "display_data"
    }
   ],
   "source": [
    "box_hist(team_df, 9)"
   ]
  },
  {
   "cell_type": "markdown",
   "metadata": {
    "Collapsed": "false"
   },
   "source": [
    "This is really categorical data, we can change the outliers here to 3+ days and include 3 day data as well (or 4+)."
   ]
  },
  {
   "cell_type": "code",
   "execution_count": 321,
   "metadata": {
    "Collapsed": "false"
   },
   "outputs": [
    {
     "data": {
      "image/png": "[encoded data removed]",
      "text/plain": [
       "<Figure size 864x360 with 2 Axes>"
      ]
     },
     "metadata": {
      "needs_background": "light"
     },
     "output_type": "display_data"
    }
   ],
   "source": [
    "box_hist(team_df, 17)"
   ]
  },
  {
   "cell_type": "markdown",
   "metadata": {
    "Collapsed": "false"
   },
   "source": [
    "All the minutes played here shold be 240 plus. These are really categories for whether a game went through regulation, or had to go into overtime periods (1 through 4)."
   ]
  },
  {
   "cell_type": "code",
   "execution_count": 322,
   "metadata": {
    "Collapsed": "false"
   },
   "outputs": [
    {
     "data": {
      "image/png": "[encoded data removed]",
      "text/plain": [
       "<Figure size 864x360 with 2 Axes>"
      ]
     },
     "metadata": {
      "needs_background": "light"
     },
     "output_type": "display_data"
    }
   ],
   "source": [
    "box_hist(team_df, 18)"
   ]
  },
  {
   "cell_type": "markdown",
   "metadata": {
    "Collapsed": "false"
   },
   "source": [
    "This looks like a relatively normal distribution, which is fantastic! There may be some outliers now, but after creating the moving window, those will likely get smoothed out (as well as with the rest of the statistical data)."
   ]
  },
  {
   "cell_type": "code",
   "execution_count": 327,
   "metadata": {
    "Collapsed": "false"
   },
   "outputs": [
    {
     "data": {
      "image/png": "[encoded data removed]",
      "text/plain": [
       "<Figure size 864x360 with 2 Axes>"
      ]
     },
     "metadata": {
      "needs_background": "light"
     },
     "output_type": "display_data"
    }
   ],
   "source": [
    "box_hist(team_df, 22)"
   ]
  },
  {
   "cell_type": "markdown",
   "metadata": {
    "Collapsed": "false"
   },
   "source": [
    "Blocks, on the other hand look a little more skewed to the not occurring side (with some large potential outliers), but this will likely get smoothed as well."
   ]
  },
  {
   "cell_type": "code",
   "execution_count": 341,
   "metadata": {
    "Collapsed": "false"
   },
   "outputs": [
    {
     "data": {
      "image/png": "[encoded data removed]",
      "text/plain": [
       "<Figure size 864x360 with 2 Axes>"
      ]
     },
     "metadata": {
      "needs_background": "light"
     },
     "output_type": "display_data"
    }
   ],
   "source": [
    "box_hist(team_df, 35)"
   ]
  },
  {
   "cell_type": "markdown",
   "metadata": {
    "Collapsed": "false"
   },
   "source": [
    "Free throw percentage, contrary to blocks, tend to be higher rather than lower, with some very low outliers (likely smoothed out)."
   ]
  },
  {
   "cell_type": "code",
   "execution_count": 354,
   "metadata": {
    "Collapsed": "false"
   },
   "outputs": [
    {
     "data": {
      "image/png": "[encoded data removed]",
      "text/plain": [
       "<Figure size 864x360 with 2 Axes>"
      ]
     },
     "metadata": {
      "needs_background": "light"
     },
     "output_type": "display_data"
    }
   ],
   "source": [
    "box_hist(team_df, 46)"
   ]
  },
  {
   "cell_type": "markdown",
   "metadata": {
    "Collapsed": "false"
   },
   "source": [
    "We can see here that games that go to quadruple overtime are very rare! Based on the above there have only been 2 games (4 teams) since 2012 that went into quadruple overtime, it actually is quite similar with any overtime, they are relatively abnormal to see. Again this is probably best used as an indicator (similar to the teamMin variable)."
   ]
  },
  {
   "cell_type": "code",
   "execution_count": 370,
   "metadata": {
    "Collapsed": "false"
   },
   "outputs": [
    {
     "data": {
      "image/png": "[encoded data removed]",
      "text/plain": [
       "<Figure size 864x360 with 2 Axes>"
      ]
     },
     "metadata": {
      "needs_background": "light"
     },
     "output_type": "display_data"
    }
   ],
   "source": [
    "box_hist(team_df, 70)"
   ]
  },
  {
   "cell_type": "markdown",
   "metadata": {
    "Collapsed": "false"
   },
   "source": [
    "To be expected, higher ranked teams have higher win percentages. It is interesting to see the relative distance between ranks, however."
   ]
  },
  {
   "cell_type": "code",
   "execution_count": 373,
   "metadata": {
    "Collapsed": "false"
   },
   "outputs": [
    {
     "data": {
      "image/png": "[encoded data removed]",
      "text/plain": [
       "<Figure size 864x360 with 2 Axes>"
      ]
     },
     "metadata": {
      "needs_background": "light"
     },
     "output_type": "display_data"
    }
   ],
   "source": [
    "box_hist(team_df, 71)"
   ]
  },
  {
   "cell_type": "markdown",
   "metadata": {
    "Collapsed": "false"
   },
   "source": [
    "This, on its own isn't very helpful, however it can be used in conjunction with other features to garner useful statistics."
   ]
  },
  {
   "cell_type": "code",
   "execution_count": 376,
   "metadata": {
    "Collapsed": "false"
   },
   "outputs": [
    {
     "data": {
      "image/png": "[encoded data removed]",
      "text/plain": [
       "<Figure size 864x360 with 2 Axes>"
      ]
     },
     "metadata": {
      "needs_background": "light"
     },
     "output_type": "display_data"
    }
   ],
   "source": [
    "box_hist(team_df, 74)"
   ]
  },
  {
   "cell_type": "markdown",
   "metadata": {
    "Collapsed": "false"
   },
   "source": [
    "Looks like if a team won its last game, it is more likely to win the one it is about to play, with the opposite also being true."
   ]
  },
  {
   "cell_type": "code",
   "execution_count": 377,
   "metadata": {
    "Collapsed": "false"
   },
   "outputs": [
    {
     "data": {
      "image/png": "[encoded data removed]",
      "text/plain": [
       "<Figure size 864x360 with 2 Axes>"
      ]
     },
     "metadata": {
      "needs_background": "light"
     },
     "output_type": "display_data"
    }
   ],
   "source": [
    "box_hist(team_df, 75)"
   ]
  },
  {
   "cell_type": "markdown",
   "metadata": {
    "Collapsed": "false"
   },
   "source": [
    "Looks like there have been some huge streaks, but they may be abnormal if they get too large, may need to turn this categorical (W/L up to 5+)."
   ]
  },
  {
   "cell_type": "code",
   "execution_count": 380,
   "metadata": {
    "Collapsed": "false"
   },
   "outputs": [
    {
     "data": {
      "image/png": "[encoded data removed]",
      "text/plain": [
       "<Figure size 864x360 with 2 Axes>"
      ]
     },
     "metadata": {
      "needs_background": "light"
     },
     "output_type": "display_data"
    }
   ],
   "source": [
    "box_hist(team_df, 76)"
   ]
  },
  {
   "cell_type": "markdown",
   "metadata": {
    "Collapsed": "false"
   },
   "source": [
    "This is likely very closely linked to the rank variable from earlier."
   ]
  },
  {
   "cell_type": "code",
   "execution_count": 385,
   "metadata": {
    "Collapsed": "false"
   },
   "outputs": [
    {
     "data": {
      "image/png": "[encoded data removed]",
      "text/plain": [
       "<Figure size 864x360 with 2 Axes>"
      ]
     },
     "metadata": {
      "needs_background": "light"
     },
     "output_type": "display_data"
    }
   ],
   "source": [
    "box_hist(team_df, 79)"
   ]
  },
  {
   "cell_type": "markdown",
   "metadata": {
    "Collapsed": "false"
   },
   "source": [
    "It's possible we want to keep these outliers in this case, the reason being, these teams with immense amounts of home wins are probably extremely likely to win games at home (this could be used in conjunction with the teamHome variable in feature engineering)."
   ]
  },
  {
   "cell_type": "code",
   "execution_count": 388,
   "metadata": {
    "Collapsed": "false"
   },
   "outputs": [
    {
     "data": {
      "image/png": "[encoded data removed]",
      "text/plain": [
       "<Figure size 864x360 with 2 Axes>"
      ]
     },
     "metadata": {
      "needs_background": "light"
     },
     "output_type": "display_data"
    }
   ],
   "source": [
    "box_hist(team_df, 81)"
   ]
  },
  {
   "cell_type": "markdown",
   "metadata": {
    "Collapsed": "false"
   },
   "source": [
    "Similar to the last, this could prove very useful."
   ]
  },
  {
   "cell_type": "code",
   "execution_count": 391,
   "metadata": {
    "Collapsed": "false"
   },
   "outputs": [
    {
     "data": {
      "image/png": "[encoded data removed]",
      "text/plain": [
       "<Figure size 864x360 with 2 Axes>"
      ]
     },
     "metadata": {
      "needs_background": "light"
     },
     "output_type": "display_data"
    }
   ],
   "source": [
    "box_hist(team_df, 83)"
   ]
  },
  {
   "cell_type": "markdown",
   "metadata": {
    "Collapsed": "false"
   },
   "source": [
    "This also could be useful in feature engineering (if a team generally beats those in its own conference it may be useful to know that information if they are playing a team in their conference - can likely create a variable that indicates the opposite as well)."
   ]
  },
  {
   "cell_type": "code",
   "execution_count": 393,
   "metadata": {
    "Collapsed": "false"
   },
   "outputs": [
    {
     "data": {
      "image/png": "[encoded data removed]",
      "text/plain": [
       "<Figure size 864x360 with 2 Axes>"
      ]
     },
     "metadata": {
      "needs_background": "light"
     },
     "output_type": "display_data"
    }
   ],
   "source": [
    "box_hist(team_df, 85)"
   ]
  },
  {
   "cell_type": "markdown",
   "metadata": {
    "Collapsed": "false"
   },
   "source": [
    "This is really a category and perhaps should be treated as such (higher last five likely indicates a higher win chance)."
   ]
  },
  {
   "cell_type": "code",
   "execution_count": 394,
   "metadata": {
    "Collapsed": "false"
   },
   "outputs": [
    {
     "data": {
      "image/png": "[encoded data removed]",
      "text/plain": [
       "<Figure size 864x360 with 2 Axes>"
      ]
     },
     "metadata": {
      "needs_background": "light"
     },
     "output_type": "display_data"
    }
   ],
   "source": [
    "box_hist(team_df, 86)"
   ]
  },
  {
   "cell_type": "markdown",
   "metadata": {
    "Collapsed": "false"
   },
   "source": [
    "Similarly to last five, last 10 could be used this way as well."
   ]
  },
  {
   "cell_type": "code",
   "execution_count": 400,
   "metadata": {
    "Collapsed": "false"
   },
   "outputs": [
    {
     "data": {
      "image/png": "[encoded data removed]",
      "text/plain": [
       "<Figure size 864x360 with 2 Axes>"
      ]
     },
     "metadata": {
      "needs_background": "light"
     },
     "output_type": "display_data"
    }
   ],
   "source": [
    "box_hist(team_df, 90)"
   ]
  },
  {
   "cell_type": "markdown",
   "metadata": {
    "Collapsed": "false"
   },
   "source": [
    "This variable, based off the last two variables, have very low variability, but likely are a large indicator for a team's overall performance through the season."
   ]
  },
  {
   "cell_type": "code",
   "execution_count": 405,
   "metadata": {
    "Collapsed": "false"
   },
   "outputs": [
    {
     "data": {
      "image/png": "[encoded data removed]",
      "text/plain": [
       "<Figure size 864x360 with 2 Axes>"
      ]
     },
     "metadata": {
      "needs_background": "light"
     },
     "output_type": "display_data"
    }
   ],
   "source": [
    "box_hist(team_df, 95)"
   ]
  },
  {
   "cell_type": "markdown",
   "metadata": {
    "Collapsed": "false"
   },
   "source": [
    "I'm curious of those 0 strength values, may be of interest to look at those (certainly no team has zero strength schedule)?"
   ]
  },
  {
   "cell_type": "code",
   "execution_count": 416,
   "metadata": {
    "Collapsed": "false"
   },
   "outputs": [
    {
     "data": {
      "image/png": "[encoded data removed]",
      "text/plain": [
       "<Figure size 864x360 with 2 Axes>"
      ]
     },
     "metadata": {
      "needs_background": "light"
     },
     "output_type": "display_data"
    }
   ],
   "source": [
    "box_hist(team_df, 106)"
   ]
  },
  {
   "cell_type": "markdown",
   "metadata": {
    "Collapsed": "false"
   },
   "source": [
    "This is another one with pretty extreme values, may need to wrangle these in a bit."
   ]
  },
  {
   "cell_type": "code",
   "execution_count": 422,
   "metadata": {
    "Collapsed": "false"
   },
   "outputs": [
    {
     "data": {
      "image/png": "[encoded data removed]",
      "text/plain": [
       "<Figure size 864x360 with 2 Axes>"
      ]
     },
     "metadata": {
      "needs_background": "light"
     },
     "output_type": "display_data"
    }
   ],
   "source": [
    "box_hist(team_df, 110)"
   ]
  },
  {
   "cell_type": "markdown",
   "metadata": {
    "Collapsed": "false"
   },
   "source": [
    "This is a pretty wild looking data distribution. Certainly the oddest one I've run into (and it happens to be the last column)! Perhaps this should be converted into range groups?"
   ]
  }
 ],
 "metadata": {
  "kernelspec": {
   "display_name": "Python 3",
   "language": "python",
   "name": "python3"
  },
  "language_info": {
   "codemirror_mode": {
    "name": "ipython",
    "version": 3
   },
   "file_extension": ".py",
   "mimetype": "text/x-python",
   "name": "python",
   "nbconvert_exporter": "python",
   "pygments_lexer": "ipython3",
   "version": "3.7.5"
  }
 },
 "nbformat": 4,
 "nbformat_minor": 4
}
