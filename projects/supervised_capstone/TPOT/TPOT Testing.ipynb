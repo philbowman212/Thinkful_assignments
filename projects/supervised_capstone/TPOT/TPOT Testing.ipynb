{
 "cells": [
  {
   "cell_type": "code",
   "execution_count": 1,
   "metadata": {
    "Collapsed": "false"
   },
   "outputs": [],
   "source": [
    "import pandas as pd\n",
    "import numpy as np\n",
    "from tpot import TPOTClassifier\n",
    "from sklearn.model_selection import train_test_split"
   ]
  },
  {
   "cell_type": "code",
   "execution_count": 2,
   "metadata": {
    "Collapsed": "false"
   },
   "outputs": [],
   "source": [
    "df = pd.read_csv('C:/Users/philb/Google Drive/Thinkful/Thinkful_repo/projects/supervised_capstone/target_features.csv', index_col=0)"
   ]
  },
  {
   "cell_type": "markdown",
   "metadata": {
    "Collapsed": "false"
   },
   "source": [
    "# TPOT Algorithm Testing"
   ]
  },
  {
   "cell_type": "code",
   "execution_count": 16,
   "metadata": {
    "Collapsed": "false"
   },
   "outputs": [],
   "source": [
    "tpot = TPOTClassifier(generations=5, population_size=50, verbosity=3, scoring='balanced_accuracy',\n",
    "                      periodic_checkpoint_folder='C:/Users/philb/Google Drive/Thinkful/Thinkful_repo/projects/supervised_capstone/TPOT/TPOT_output', n_jobs=-1)"
   ]
  },
  {
   "cell_type": "code",
   "execution_count": 4,
   "metadata": {
    "Collapsed": "false"
   },
   "outputs": [],
   "source": [
    "target = df.iloc[:, 0]\n",
    "features = df.iloc[:, 1:]"
   ]
  },
  {
   "cell_type": "code",
   "execution_count": 7,
   "metadata": {
    "Collapsed": "false"
   },
   "outputs": [],
   "source": [
    "X_train, X_test, y_train, y_test = train_test_split(features, target, test_size=.2)"
   ]
  },
  {
   "cell_type": "code",
   "execution_count": 17,
   "metadata": {
    "Collapsed": "false"
   },
   "outputs": [
    {
     "name": "stdout",
     "output_type": "stream",
     "text": [
      "31 operators have been imported by TPOT.\n"
     ]
    },
    {
     "data": {
      "application/vnd.jupyter.widget-view+json": {
       "model_id": "",
       "version_major": 2,
       "version_minor": 0
      },
      "text/plain": [
       "HBox(children=(IntProgress(value=0, description='Optimization Progress', max=300, style=ProgressStyle(descript…"
      ]
     },
     "metadata": {},
     "output_type": "display_data"
    },
    {
     "name": "stdout",
     "output_type": "stream",
     "text": [
      "Skipped pipeline #21 due to time out. Continuing to the next pipeline.\n",
      "Skipped pipeline #33 due to time out. Continuing to the next pipeline.\n",
      "Saving periodic pipeline from pareto front to C:/Users/philb/Google Drive/Thinkful/Thinkful_repo/projects/supervised_capstone/TPOT/TPOT_output\\pipeline_gen_1_idx_0_2019.12.10_18-40-04.py\n",
      "_pre_test decorator: _mate_operator: num_test=0 Unsupported set of arguments: The combination of penalty='l1' and loss='logistic_regression' are not supported when dual=True, Parameters: penalty='l1', loss='logistic_regression', dual=True.\n",
      "_pre_test decorator: _mate_operator: num_test=1 Unsupported set of arguments: The combination of penalty='l1' and loss='logistic_regression' are not supported when dual=True, Parameters: penalty='l1', loss='logistic_regression', dual=True.\n",
      "_pre_test decorator: _random_mutation_operator: num_test=0 feature_names mismatch: ['teamConf_W_A', 'teamDayOff_A', 'teamHome_A', 'stkTot_A', 'gameBack_A', 'ptsAllow_A', 'rel%Indx_A', 'lpyth16.5_A', 'total_price_A', 'stkTotAlt_A', 'teamTO_A', 'teamPF_A', 'teamFGA_A', 'team2PA_A', 'team2PM_A', 'team3PM_A', 'team3P%_A', 'teamFTM_A', 'teamFT%_A', 'teamORB_A', 'teamDRB_A', 'teamPTS1_A', 'teamPTS2_A', 'teamPTS3_A', 'teamPTS4_A', 'teamPTS5_A', 'teamPTS6_A', 'teamPTS7_A', 'teamPTS8_A', 'teamDREB%_A', 'teamSTL%_A', 'teamFIC_A', 'teamDrtg_A', 'teamAR_A', 'teamAST/TO_A', 'teamSTL/TO_A', 'pace_A', 'teamDayOff_Diff_A', 'teamAST_Diff_A', 'teamTO_Diff_A', 'teamPF_Diff_A', 'teamFGA_Diff_A', 'team2PA_Diff_A', 'team2PM_Diff_A', 'team3PM_Diff_A', 'team3P%_Diff_A', 'teamFTM_Diff_A', 'teamFT%_Diff_A', 'teamDRB_Diff_A', 'teamPTS1_Diff_A', 'teamPTS2_Diff_A', 'teamPTS3_Diff_A', 'teamPTS4_Diff_A', 'teamPTS5_Diff_A', 'teamPTS6_Diff_A', 'teamPTS7_Diff_A', 'teamPTS8_Diff_A', 'teamBLKR_Diff_A', 'teamConf_W_B', 'teamDayOff_B', 'stkTot_B', 'gameBack_B', 'lastFive_B', 'ptsAllow_B', 'rel%Indx_B', 'lpyth16.5_B', 'spread_B', 'spread_price_B', 'total_B', 'total_price_B', 'stkTotAlt_B', 'teamMin_B', 'teamTO_B', 'teamPF_B', 'teamFGA_B', 'team2PA_B', 'team2PM_B', 'team3PM_B', 'team3P%_B', 'teamFTM_B', 'teamFT%_B', 'teamORB_B', 'teamDRB_B', 'teamPTS1_B', 'teamPTS2_B', 'teamPTS3_B', 'teamPTS4_B', 'teamPTS6_B', 'teamPTS7_B', 'teamPTS8_B', 'teamDREB%_B', 'teamSTL%_B', 'teamDrtg_B', 'teamAR_B', 'teamAST/TO_B', 'teamSTL/TO_B', 'pace_B', 'teamDayOff_Diff_B', 'teamAST_Diff_B', 'teamTO_Diff_B', 'teamPF_Diff_B', 'teamFGA_Diff_B', 'team2PA_Diff_B', 'team2PM_Diff_B', 'team3PM_Diff_B', 'team3P%_Diff_B', 'teamFTM_Diff_B', 'teamDRB_Diff_B', 'teamPTS1_Diff_B', 'teamPTS2_Diff_B', 'teamPTS3_Diff_B', 'teamPTS4_Diff_B', 'teamPTS5_Diff_B', 'teamPTS6_Diff_B', 'teamPTS7_Diff_B', 'teamPTS8_Diff_B', 'teamBLKR_Diff_B', 'teamAR_Diff', 'teamAST/TO_Diff', 'teamSTL/TO_Diff', 'pace_Diff', 'stkTot_Diff', 'ptsFor_Diff', 'ptsAgnst_Diff', 'lastFive_Diff', 'ptsScore_Diff', 'ptsAllow_Diff', 'opptGmWon_Diff', 'opptOpptGmWon_Diff', 'sos_Diff', 'spread_Diff', 'spread_price_Diff', 'total_Diff', 'stkTotAlt_Diff', 'sameConf'] ['f0', 'f1', 'f2', 'f3', 'f4', 'f5', 'f6', 'f7', 'f8', 'f9', 'f10', 'f11', 'f12', 'f13', 'f14', 'f15', 'f16', 'f17', 'f18', 'f19', 'f20', 'f21', 'f22', 'f23', 'f24', 'f25', 'f26', 'f27', 'f28', 'f29', 'f30', 'f31', 'f32', 'f33', 'f34', 'f35', 'f36', 'f37', 'f38', 'f39', 'f40', 'f41', 'f42', 'f43', 'f44', 'f45', 'f46', 'f47', 'f48', 'f49', 'f50', 'f51', 'f52', 'f53', 'f54', 'f55', 'f56', 'f57', 'f58', 'f59', 'f60', 'f61', 'f62', 'f63', 'f64', 'f65', 'f66', 'f67', 'f68', 'f69', 'f70', 'f71', 'f72', 'f73', 'f74', 'f75', 'f76', 'f77', 'f78', 'f79', 'f80', 'f81', 'f82', 'f83', 'f84', 'f85', 'f86', 'f87', 'f88', 'f89', 'f90', 'f91', 'f92', 'f93', 'f94', 'f95', 'f96', 'f97', 'f98', 'f99', 'f100', 'f101', 'f102', 'f103', 'f104', 'f105', 'f106', 'f107', 'f108', 'f109', 'f110', 'f111', 'f112', 'f113', 'f114', 'f115', 'f116', 'f117', 'f118', 'f119', 'f120', 'f121', 'f122', 'f123', 'f124', 'f125', 'f126', 'f127', 'f128', 'f129', 'f130', 'f131', 'f132', 'f133', 'f134']\n",
      "expected stkTotAlt_B, team3PM_Diff_B, teamPTS8_Diff_B, teamFTM_A, teamPTS7_Diff_B, teamPTS6_Diff_B, teamDRB_Diff_A, opptOpptGmWon_Diff, teamPTS1_Diff_A, teamFGA_A, spread_B, teamPTS7_B, stkTot_B, gameBack_A, teamSTL/TO_B, teamPTS1_Diff_B, teamPF_B, teamFGA_Diff_A, ptsAllow_A, teamFTM_Diff_B, teamPTS3_Diff_B, teamPTS1_B, team2PA_Diff_B, teamPTS2_Diff_A, teamPTS4_B, teamORB_A, teamFGA_B, teamAR_Diff, teamDayOff_B, teamPTS6_B, teamDayOff_A, teamPTS3_A, total_Diff, teamSTL%_B, lastFive_Diff, stkTot_Diff, teamPTS3_B, teamFT%_A, teamTO_A, teamConf_W_A, teamPTS2_A, teamPTS2_B, teamSTL/TO_Diff, teamDREB%_A, team3P%_Diff_B, teamAR_B, teamTO_Diff_A, team2PM_A, sos_Diff, teamHome_A, teamFT%_B, ptsAllow_B, spread_price_B, teamConf_W_B, teamDRB_B, teamPTS8_B, teamORB_B, teamSTL%_A, team2PA_B, ptsAllow_Diff, teamPTS6_Diff_A, sameConf, team3PM_Diff_A, teamFT%_Diff_A, ptsFor_Diff, teamPF_A, teamAST/TO_Diff, team3PM_A, pace_A, lpyth16.5_A, teamAST_Diff_A, spread_price_Diff, teamSTL/TO_A, lpyth16.5_B, team2PA_A, team2PM_B, lastFive_B, teamDayOff_Diff_A, stkTotAlt_A, ptsScore_Diff, teamDRB_Diff_B, teamPF_Diff_A, teamPTS2_Diff_B, team3P%_A, teamDREB%_B, rel%Indx_A, teamBLKR_Diff_B, teamPTS5_Diff_B, teamDrtg_A, teamPF_Diff_B, ptsAgnst_Diff, teamDRB_A, teamFGA_Diff_B, gameBack_B, total_B, teamFTM_Diff_A, team2PA_Diff_A, teamFTM_B, teamPTS5_A, teamDayOff_Diff_B, teamPTS4_Diff_B, stkTotAlt_Diff, team3PM_B, team2PM_Diff_B, teamTO_Diff_B, teamPTS6_A, teamPTS8_A, teamMin_B, teamPTS7_A, team3P%_Diff_A, teamFIC_A, teamPTS3_Diff_A, teamPTS4_Diff_A, team2PM_Diff_A, total_price_A, teamPTS5_Diff_A, teamTO_B, stkTot_A, teamPTS4_A, teamAR_A, teamAST/TO_A, teamPTS7_Diff_A, teamAST_Diff_B, pace_Diff, teamDrtg_B, total_price_B, team3P%_B, teamBLKR_Diff_A, teamPTS8_Diff_A, rel%Indx_B, teamAST/TO_B, opptGmWon_Diff, pace_B, spread_Diff, teamPTS1_A in input data\n",
      "training data did not have the following fields: f65, f122, f59, f37, f35, f91, f7, f88, f54, f98, f126, f56, f104, f102, f27, f18, f70, f119, f28, f128, f57, f114, f115, f21, f96, f111, f106, f124, f134, f25, f67, f26, f76, f74, f49, f3, f89, f81, f22, f38, f123, f39, f87, f36, f50, f86, f105, f15, f5, f108, f9, f43, f131, f121, f1, f41, f71, f127, f69, f60, f0, f95, f2, f32, f100, f109, f117, f55, f72, f24, f12, f97, f6, f110, f116, f30, f31, f62, f120, f45, f79, f84, f64, f90, f17, f20, f85, f44, f58, f103, f129, f40, f132, f53, f52, f101, f4, f33, f14, f29, f63, f19, f77, f92, f46, f48, f23, f130, f94, f47, f68, f125, f61, f83, f66, f99, f42, f82, f11, f13, f113, f34, f8, f10, f16, f118, f107, f75, f133, f112, f51, f78, f93, f80, f73.\n",
      "_pre_test decorator: _random_mutation_operator: num_test=0 X needs to contain only non-negative integers..\n",
      "_pre_test decorator: _random_mutation_operator: num_test=0 Unsupported set of arguments: The combination of penalty='l1' and loss='logistic_regression' are not supported when dual=True, Parameters: penalty='l1', loss='logistic_regression', dual=True.\n",
      "_pre_test decorator: _random_mutation_operator: num_test=0 '(slice(None, None, None), 0)' is an invalid key.\n",
      "_pre_test decorator: _random_mutation_operator: num_test=0 Unsupported set of arguments: The combination of penalty='l2' and loss='hinge' are not supported when dual=False, Parameters: penalty='l2', loss='hinge', dual=False.\n",
      "_pre_test decorator: _random_mutation_operator: num_test=0 Unsupported set of arguments: The combination of penalty='l1' and loss='logistic_regression' are not supported when dual=True, Parameters: penalty='l1', loss='logistic_regression', dual=True.\n",
      "Skipped pipeline #56 due to time out. Continuing to the next pipeline.\n",
      "Skipped pipeline #94 due to time out. Continuing to the next pipeline.\n",
      "Generation 1 - Current Pareto front scores:\n",
      "-1\t0.9469162942291929\tExtraTreesClassifier(input_matrix, ExtraTreesClassifier__bootstrap=False, ExtraTreesClassifier__criterion=gini, ExtraTreesClassifier__max_features=1.0, ExtraTreesClassifier__min_samples_leaf=3, ExtraTreesClassifier__min_samples_split=10, ExtraTreesClassifier__n_estimators=100)\n",
      "\n",
      "Saving periodic pipeline from pareto front to C:/Users/philb/Google Drive/Thinkful/Thinkful_repo/projects/supervised_capstone/TPOT/TPOT_output\\pipeline_gen_1_idx_0_2019.12.10_18-59-16.py\n",
      "_pre_test decorator: _random_mutation_operator: num_test=0 Input X must be non-negative.\n",
      "_pre_test decorator: _random_mutation_operator: num_test=1 Input X must be non-negative.\n",
      "_pre_test decorator: _random_mutation_operator: num_test=0 Found array with 0 feature(s) (shape=(50, 0)) while a minimum of 1 is required..\n",
      "_pre_test decorator: _random_mutation_operator: num_test=0 Input X must be non-negative.\n",
      "_pre_test decorator: _random_mutation_operator: num_test=0 Unsupported set of arguments: The combination of penalty='l1' and loss='logistic_regression' are not supported when dual=True, Parameters: penalty='l1', loss='logistic_regression', dual=True.\n",
      "_pre_test decorator: _random_mutation_operator: num_test=0 X contains negative values..\n",
      "_pre_test decorator: _random_mutation_operator: num_test=1 Input X must be non-negative.\n",
      "_pre_test decorator: _random_mutation_operator: num_test=0 The condensed distance matrix must contain only finite values..\n",
      "_pre_test decorator: _random_mutation_operator: num_test=0 Unsupported set of arguments: The combination of penalty='l1' and loss='logistic_regression' are not supported when dual=True, Parameters: penalty='l1', loss='logistic_regression', dual=True.\n",
      "_pre_test decorator: _random_mutation_operator: num_test=1 '(slice(None, None, None), 0)' is an invalid key.\n",
      "_pre_test decorator: _random_mutation_operator: num_test=0 Expected n_neighbors <= n_samples,  but n_samples = 50, n_neighbors = 86.\n",
      "_pre_test decorator: _random_mutation_operator: num_test=0 Expected n_neighbors <= n_samples,  but n_samples = 50, n_neighbors = 54.\n",
      "_pre_test decorator: _random_mutation_operator: num_test=0 The condensed distance matrix must contain only finite values..\n",
      "_pre_test decorator: _random_mutation_operator: num_test=0 Input X must be non-negative.\n",
      "Skipped pipeline #150 due to time out. Continuing to the next pipeline.\n",
      "Generation 2 - Current Pareto front scores:\n",
      "-1\t0.9512345508091504\tExtraTreesClassifier(input_matrix, ExtraTreesClassifier__bootstrap=False, ExtraTreesClassifier__criterion=entropy, ExtraTreesClassifier__max_features=0.7500000000000001, ExtraTreesClassifier__min_samples_leaf=1, ExtraTreesClassifier__min_samples_split=19, ExtraTreesClassifier__n_estimators=100)\n",
      "\n",
      "Saving periodic pipeline from pareto front to C:/Users/philb/Google Drive/Thinkful/Thinkful_repo/projects/supervised_capstone/TPOT/TPOT_output\\pipeline_gen_2_idx_0_2019.12.10_19-24-44.py\n",
      "_pre_test decorator: _random_mutation_operator: num_test=0 feature_names mismatch: ['teamConf_W_A', 'teamDayOff_A', 'teamHome_A', 'stkTot_A', 'gameBack_A', 'ptsAllow_A', 'rel%Indx_A', 'lpyth16.5_A', 'total_price_A', 'stkTotAlt_A', 'teamTO_A', 'teamPF_A', 'teamFGA_A', 'team2PA_A', 'team2PM_A', 'team3PM_A', 'team3P%_A', 'teamFTM_A', 'teamFT%_A', 'teamORB_A', 'teamDRB_A', 'teamPTS1_A', 'teamPTS2_A', 'teamPTS3_A', 'teamPTS4_A', 'teamPTS5_A', 'teamPTS6_A', 'teamPTS7_A', 'teamPTS8_A', 'teamDREB%_A', 'teamSTL%_A', 'teamFIC_A', 'teamDrtg_A', 'teamAR_A', 'teamAST/TO_A', 'teamSTL/TO_A', 'pace_A', 'teamDayOff_Diff_A', 'teamAST_Diff_A', 'teamTO_Diff_A', 'teamPF_Diff_A', 'teamFGA_Diff_A', 'team2PA_Diff_A', 'team2PM_Diff_A', 'team3PM_Diff_A', 'team3P%_Diff_A', 'teamFTM_Diff_A', 'teamFT%_Diff_A', 'teamDRB_Diff_A', 'teamPTS1_Diff_A', 'teamPTS2_Diff_A', 'teamPTS3_Diff_A', 'teamPTS4_Diff_A', 'teamPTS5_Diff_A', 'teamPTS6_Diff_A', 'teamPTS7_Diff_A', 'teamPTS8_Diff_A', 'teamBLKR_Diff_A', 'teamConf_W_B', 'teamDayOff_B', 'stkTot_B', 'gameBack_B', 'lastFive_B', 'ptsAllow_B', 'rel%Indx_B', 'lpyth16.5_B', 'spread_B', 'spread_price_B', 'total_B', 'total_price_B', 'stkTotAlt_B', 'teamMin_B', 'teamTO_B', 'teamPF_B', 'teamFGA_B', 'team2PA_B', 'team2PM_B', 'team3PM_B', 'team3P%_B', 'teamFTM_B', 'teamFT%_B', 'teamORB_B', 'teamDRB_B', 'teamPTS1_B', 'teamPTS2_B', 'teamPTS3_B', 'teamPTS4_B', 'teamPTS6_B', 'teamPTS7_B', 'teamPTS8_B', 'teamDREB%_B', 'teamSTL%_B', 'teamDrtg_B', 'teamAR_B', 'teamAST/TO_B', 'teamSTL/TO_B', 'pace_B', 'teamDayOff_Diff_B', 'teamAST_Diff_B', 'teamTO_Diff_B', 'teamPF_Diff_B', 'teamFGA_Diff_B', 'team2PA_Diff_B', 'team2PM_Diff_B', 'team3PM_Diff_B', 'team3P%_Diff_B', 'teamFTM_Diff_B', 'teamDRB_Diff_B', 'teamPTS1_Diff_B', 'teamPTS2_Diff_B', 'teamPTS3_Diff_B', 'teamPTS4_Diff_B', 'teamPTS5_Diff_B', 'teamPTS6_Diff_B', 'teamPTS7_Diff_B', 'teamPTS8_Diff_B', 'teamBLKR_Diff_B', 'teamAR_Diff', 'teamAST/TO_Diff', 'teamSTL/TO_Diff', 'pace_Diff', 'stkTot_Diff', 'ptsFor_Diff', 'ptsAgnst_Diff', 'lastFive_Diff', 'ptsScore_Diff', 'ptsAllow_Diff', 'opptGmWon_Diff', 'opptOpptGmWon_Diff', 'sos_Diff', 'spread_Diff', 'spread_price_Diff', 'total_Diff', 'stkTotAlt_Diff', 'sameConf'] ['f0', 'f1', 'f2', 'f3', 'f4', 'f5', 'f6', 'f7', 'f8', 'f9', 'f10', 'f11', 'f12', 'f13', 'f14', 'f15', 'f16', 'f17', 'f18', 'f19', 'f20', 'f21', 'f22', 'f23', 'f24', 'f25', 'f26', 'f27', 'f28', 'f29', 'f30', 'f31', 'f32', 'f33', 'f34', 'f35', 'f36', 'f37', 'f38', 'f39', 'f40', 'f41', 'f42', 'f43', 'f44', 'f45', 'f46', 'f47', 'f48', 'f49', 'f50', 'f51', 'f52', 'f53', 'f54', 'f55', 'f56', 'f57', 'f58', 'f59', 'f60', 'f61', 'f62', 'f63', 'f64', 'f65', 'f66', 'f67', 'f68', 'f69', 'f70', 'f71', 'f72', 'f73', 'f74', 'f75', 'f76', 'f77', 'f78', 'f79', 'f80', 'f81', 'f82', 'f83', 'f84', 'f85', 'f86', 'f87', 'f88', 'f89', 'f90', 'f91', 'f92', 'f93', 'f94', 'f95', 'f96', 'f97', 'f98', 'f99', 'f100', 'f101', 'f102', 'f103', 'f104', 'f105', 'f106', 'f107', 'f108', 'f109', 'f110', 'f111', 'f112', 'f113', 'f114', 'f115', 'f116', 'f117', 'f118', 'f119', 'f120', 'f121', 'f122', 'f123', 'f124', 'f125', 'f126', 'f127', 'f128', 'f129', 'f130', 'f131', 'f132', 'f133', 'f134']\n",
      "expected stkTotAlt_B, team3PM_Diff_B, teamPTS8_Diff_B, teamFTM_A, teamPTS7_Diff_B, teamPTS6_Diff_B, teamDRB_Diff_A, opptOpptGmWon_Diff, teamPTS1_Diff_A, teamFGA_A, spread_B, teamPTS7_B, stkTot_B, gameBack_A, teamSTL/TO_B, teamPTS1_Diff_B, teamPF_B, teamFGA_Diff_A, ptsAllow_A, teamFTM_Diff_B, teamPTS3_Diff_B, teamPTS1_B, team2PA_Diff_B, teamPTS2_Diff_A, teamPTS4_B, teamORB_A, teamFGA_B, teamAR_Diff, teamDayOff_B, teamPTS6_B, teamDayOff_A, teamPTS3_A, total_Diff, teamSTL%_B, lastFive_Diff, stkTot_Diff, teamPTS3_B, teamFT%_A, teamTO_A, teamConf_W_A, teamPTS2_A, teamPTS2_B, teamSTL/TO_Diff, teamDREB%_A, team3P%_Diff_B, teamAR_B, teamTO_Diff_A, team2PM_A, sos_Diff, teamHome_A, teamFT%_B, ptsAllow_B, spread_price_B, teamConf_W_B, teamDRB_B, teamPTS8_B, teamORB_B, teamSTL%_A, team2PA_B, ptsAllow_Diff, teamPTS6_Diff_A, sameConf, team3PM_Diff_A, teamFT%_Diff_A, ptsFor_Diff, teamPF_A, teamAST/TO_Diff, team3PM_A, pace_A, lpyth16.5_A, teamAST_Diff_A, spread_price_Diff, teamSTL/TO_A, lpyth16.5_B, team2PA_A, team2PM_B, lastFive_B, teamDayOff_Diff_A, stkTotAlt_A, ptsScore_Diff, teamDRB_Diff_B, teamPF_Diff_A, teamPTS2_Diff_B, team3P%_A, teamDREB%_B, rel%Indx_A, teamBLKR_Diff_B, teamPTS5_Diff_B, teamDrtg_A, teamPF_Diff_B, ptsAgnst_Diff, teamDRB_A, teamFGA_Diff_B, gameBack_B, total_B, teamFTM_Diff_A, team2PA_Diff_A, teamFTM_B, teamPTS5_A, teamDayOff_Diff_B, teamPTS4_Diff_B, stkTotAlt_Diff, team3PM_B, team2PM_Diff_B, teamTO_Diff_B, teamPTS6_A, teamPTS8_A, teamMin_B, teamPTS7_A, team3P%_Diff_A, teamFIC_A, teamPTS3_Diff_A, teamPTS4_Diff_A, team2PM_Diff_A, total_price_A, teamPTS5_Diff_A, teamTO_B, stkTot_A, teamPTS4_A, teamAR_A, teamAST/TO_A, teamPTS7_Diff_A, teamAST_Diff_B, pace_Diff, teamDrtg_B, total_price_B, team3P%_B, teamBLKR_Diff_A, teamPTS8_Diff_A, rel%Indx_B, teamAST/TO_B, opptGmWon_Diff, pace_B, spread_Diff, teamPTS1_A in input data\n",
      "training data did not have the following fields: f65, f122, f59, f37, f35, f91, f7, f88, f54, f98, f126, f56, f104, f102, f27, f18, f70, f119, f28, f128, f57, f114, f115, f21, f96, f111, f106, f124, f134, f25, f67, f26, f76, f74, f49, f3, f89, f81, f22, f38, f123, f39, f87, f36, f50, f86, f105, f15, f5, f108, f9, f43, f131, f121, f1, f41, f71, f127, f69, f60, f0, f95, f2, f32, f100, f109, f117, f55, f72, f24, f12, f97, f6, f110, f116, f30, f31, f62, f120, f45, f79, f84, f64, f90, f17, f20, f85, f44, f58, f103, f129, f40, f132, f53, f52, f101, f4, f33, f14, f29, f63, f19, f77, f92, f46, f48, f23, f130, f94, f47, f68, f125, f61, f83, f66, f99, f42, f82, f11, f13, f113, f34, f8, f10, f16, f118, f107, f75, f133, f112, f51, f78, f93, f80, f73.\n",
      "_pre_test decorator: _random_mutation_operator: num_test=0 Input X must be non-negative.\n",
      "_pre_test decorator: _random_mutation_operator: num_test=0 Input X must be non-negative.\n",
      "_pre_test decorator: _random_mutation_operator: num_test=0 Input X must be non-negative.\n",
      "Pipeline encountered that has previously been evaluated during the optimization process. Using the score from the previous evaluation.\n",
      "Skipped pipeline #205 due to time out. Continuing to the next pipeline.\n",
      "Generation 3 - Current Pareto front scores:\n",
      "-1\t0.9512345508091504\tExtraTreesClassifier(input_matrix, ExtraTreesClassifier__bootstrap=False, ExtraTreesClassifier__criterion=entropy, ExtraTreesClassifier__max_features=0.7500000000000001, ExtraTreesClassifier__min_samples_leaf=1, ExtraTreesClassifier__min_samples_split=19, ExtraTreesClassifier__n_estimators=100)\n",
      "\n",
      "Periodic pipeline was not saved, probably saved before...\n",
      "_pre_test decorator: _random_mutation_operator: num_test=0 Found array with 0 feature(s) (shape=(50, 0)) while a minimum of 1 is required..\n",
      "_pre_test decorator: _random_mutation_operator: num_test=0 '(slice(None, None, None), 0)' is an invalid key.\n",
      "_pre_test decorator: _random_mutation_operator: num_test=0 Found array with 0 feature(s) (shape=(50, 0)) while a minimum of 1 is required..\n",
      "Pipeline encountered that has previously been evaluated during the optimization process. Using the score from the previous evaluation.\n",
      "Generation 4 - Current Pareto front scores:\n",
      "-1\t0.9512345508091504\tExtraTreesClassifier(input_matrix, ExtraTreesClassifier__bootstrap=False, ExtraTreesClassifier__criterion=entropy, ExtraTreesClassifier__max_features=0.7500000000000001, ExtraTreesClassifier__min_samples_leaf=1, ExtraTreesClassifier__min_samples_split=19, ExtraTreesClassifier__n_estimators=100)\n",
      "\n",
      "Periodic pipeline was not saved, probably saved before...\n",
      "_pre_test decorator: _random_mutation_operator: num_test=0 Input X must be non-negative.\n",
      "_pre_test decorator: _random_mutation_operator: num_test=0 cosine was provided as affinity. Ward can only work with euclidean distances..\n",
      "_pre_test decorator: _random_mutation_operator: num_test=0 feature_names mismatch: ['teamConf_W_A', 'teamDayOff_A', 'teamHome_A', 'stkTot_A', 'gameBack_A', 'ptsAllow_A', 'rel%Indx_A', 'lpyth16.5_A', 'total_price_A', 'stkTotAlt_A', 'teamTO_A', 'teamPF_A', 'teamFGA_A', 'team2PA_A', 'team2PM_A', 'team3PM_A', 'team3P%_A', 'teamFTM_A', 'teamFT%_A', 'teamORB_A', 'teamDRB_A', 'teamPTS1_A', 'teamPTS2_A', 'teamPTS3_A', 'teamPTS4_A', 'teamPTS5_A', 'teamPTS6_A', 'teamPTS7_A', 'teamPTS8_A', 'teamDREB%_A', 'teamSTL%_A', 'teamFIC_A', 'teamDrtg_A', 'teamAR_A', 'teamAST/TO_A', 'teamSTL/TO_A', 'pace_A', 'teamDayOff_Diff_A', 'teamAST_Diff_A', 'teamTO_Diff_A', 'teamPF_Diff_A', 'teamFGA_Diff_A', 'team2PA_Diff_A', 'team2PM_Diff_A', 'team3PM_Diff_A', 'team3P%_Diff_A', 'teamFTM_Diff_A', 'teamFT%_Diff_A', 'teamDRB_Diff_A', 'teamPTS1_Diff_A', 'teamPTS2_Diff_A', 'teamPTS3_Diff_A', 'teamPTS4_Diff_A', 'teamPTS5_Diff_A', 'teamPTS6_Diff_A', 'teamPTS7_Diff_A', 'teamPTS8_Diff_A', 'teamBLKR_Diff_A', 'teamConf_W_B', 'teamDayOff_B', 'stkTot_B', 'gameBack_B', 'lastFive_B', 'ptsAllow_B', 'rel%Indx_B', 'lpyth16.5_B', 'spread_B', 'spread_price_B', 'total_B', 'total_price_B', 'stkTotAlt_B', 'teamMin_B', 'teamTO_B', 'teamPF_B', 'teamFGA_B', 'team2PA_B', 'team2PM_B', 'team3PM_B', 'team3P%_B', 'teamFTM_B', 'teamFT%_B', 'teamORB_B', 'teamDRB_B', 'teamPTS1_B', 'teamPTS2_B', 'teamPTS3_B', 'teamPTS4_B', 'teamPTS6_B', 'teamPTS7_B', 'teamPTS8_B', 'teamDREB%_B', 'teamSTL%_B', 'teamDrtg_B', 'teamAR_B', 'teamAST/TO_B', 'teamSTL/TO_B', 'pace_B', 'teamDayOff_Diff_B', 'teamAST_Diff_B', 'teamTO_Diff_B', 'teamPF_Diff_B', 'teamFGA_Diff_B', 'team2PA_Diff_B', 'team2PM_Diff_B', 'team3PM_Diff_B', 'team3P%_Diff_B', 'teamFTM_Diff_B', 'teamDRB_Diff_B', 'teamPTS1_Diff_B', 'teamPTS2_Diff_B', 'teamPTS3_Diff_B', 'teamPTS4_Diff_B', 'teamPTS5_Diff_B', 'teamPTS6_Diff_B', 'teamPTS7_Diff_B', 'teamPTS8_Diff_B', 'teamBLKR_Diff_B', 'teamAR_Diff', 'teamAST/TO_Diff', 'teamSTL/TO_Diff', 'pace_Diff', 'stkTot_Diff', 'ptsFor_Diff', 'ptsAgnst_Diff', 'lastFive_Diff', 'ptsScore_Diff', 'ptsAllow_Diff', 'opptGmWon_Diff', 'opptOpptGmWon_Diff', 'sos_Diff', 'spread_Diff', 'spread_price_Diff', 'total_Diff', 'stkTotAlt_Diff', 'sameConf'] ['f0', 'f1', 'f2', 'f3', 'f4', 'f5', 'f6', 'f7', 'f8', 'f9', 'f10', 'f11', 'f12', 'f13', 'f14', 'f15', 'f16', 'f17', 'f18', 'f19', 'f20', 'f21', 'f22', 'f23', 'f24', 'f25', 'f26', 'f27', 'f28', 'f29', 'f30', 'f31', 'f32', 'f33', 'f34', 'f35', 'f36', 'f37', 'f38', 'f39', 'f40', 'f41', 'f42', 'f43', 'f44', 'f45', 'f46', 'f47', 'f48', 'f49', 'f50', 'f51', 'f52', 'f53', 'f54', 'f55', 'f56', 'f57', 'f58', 'f59', 'f60', 'f61', 'f62', 'f63', 'f64', 'f65', 'f66', 'f67', 'f68', 'f69', 'f70', 'f71', 'f72', 'f73', 'f74', 'f75', 'f76', 'f77', 'f78', 'f79', 'f80', 'f81', 'f82', 'f83', 'f84', 'f85', 'f86', 'f87', 'f88', 'f89', 'f90', 'f91', 'f92', 'f93', 'f94', 'f95', 'f96', 'f97', 'f98', 'f99', 'f100', 'f101', 'f102', 'f103', 'f104', 'f105', 'f106', 'f107', 'f108', 'f109', 'f110', 'f111', 'f112', 'f113', 'f114', 'f115', 'f116', 'f117', 'f118', 'f119', 'f120', 'f121', 'f122', 'f123', 'f124', 'f125', 'f126', 'f127', 'f128', 'f129', 'f130', 'f131', 'f132', 'f133', 'f134']\n",
      "expected stkTotAlt_B, team3PM_Diff_B, teamPTS8_Diff_B, teamFTM_A, teamPTS7_Diff_B, teamPTS6_Diff_B, teamDRB_Diff_A, opptOpptGmWon_Diff, teamPTS1_Diff_A, teamFGA_A, spread_B, teamPTS7_B, stkTot_B, gameBack_A, teamSTL/TO_B, teamPTS1_Diff_B, teamPF_B, teamFGA_Diff_A, ptsAllow_A, teamFTM_Diff_B, teamPTS3_Diff_B, teamPTS1_B, team2PA_Diff_B, teamPTS2_Diff_A, teamPTS4_B, teamORB_A, teamFGA_B, teamAR_Diff, teamDayOff_B, teamPTS6_B, teamDayOff_A, teamPTS3_A, total_Diff, teamSTL%_B, lastFive_Diff, stkTot_Diff, teamPTS3_B, teamFT%_A, teamTO_A, teamConf_W_A, teamPTS2_A, teamPTS2_B, teamSTL/TO_Diff, teamDREB%_A, team3P%_Diff_B, teamAR_B, teamTO_Diff_A, team2PM_A, sos_Diff, teamHome_A, teamFT%_B, ptsAllow_B, spread_price_B, teamConf_W_B, teamDRB_B, teamPTS8_B, teamORB_B, teamSTL%_A, team2PA_B, ptsAllow_Diff, teamPTS6_Diff_A, sameConf, team3PM_Diff_A, teamFT%_Diff_A, ptsFor_Diff, teamPF_A, teamAST/TO_Diff, team3PM_A, pace_A, lpyth16.5_A, teamAST_Diff_A, spread_price_Diff, teamSTL/TO_A, lpyth16.5_B, team2PA_A, team2PM_B, lastFive_B, teamDayOff_Diff_A, stkTotAlt_A, ptsScore_Diff, teamDRB_Diff_B, teamPF_Diff_A, teamPTS2_Diff_B, team3P%_A, teamDREB%_B, rel%Indx_A, teamBLKR_Diff_B, teamPTS5_Diff_B, teamDrtg_A, teamPF_Diff_B, ptsAgnst_Diff, teamDRB_A, teamFGA_Diff_B, gameBack_B, total_B, teamFTM_Diff_A, team2PA_Diff_A, teamFTM_B, teamPTS5_A, teamDayOff_Diff_B, teamPTS4_Diff_B, stkTotAlt_Diff, team3PM_B, team2PM_Diff_B, teamTO_Diff_B, teamPTS6_A, teamPTS8_A, teamMin_B, teamPTS7_A, team3P%_Diff_A, teamFIC_A, teamPTS3_Diff_A, teamPTS4_Diff_A, team2PM_Diff_A, total_price_A, teamPTS5_Diff_A, teamTO_B, stkTot_A, teamPTS4_A, teamAR_A, teamAST/TO_A, teamPTS7_Diff_A, teamAST_Diff_B, pace_Diff, teamDrtg_B, total_price_B, team3P%_B, teamBLKR_Diff_A, teamPTS8_Diff_A, rel%Indx_B, teamAST/TO_B, opptGmWon_Diff, pace_B, spread_Diff, teamPTS1_A in input data\n",
      "training data did not have the following fields: f65, f122, f59, f37, f35, f91, f7, f88, f54, f98, f126, f56, f104, f102, f27, f18, f70, f119, f28, f128, f57, f114, f115, f21, f96, f111, f106, f124, f134, f25, f67, f26, f76, f74, f49, f3, f89, f81, f22, f38, f123, f39, f87, f36, f50, f86, f105, f15, f5, f108, f9, f43, f131, f121, f1, f41, f71, f127, f69, f60, f0, f95, f2, f32, f100, f109, f117, f55, f72, f24, f12, f97, f6, f110, f116, f30, f31, f62, f120, f45, f79, f84, f64, f90, f17, f20, f85, f44, f58, f103, f129, f40, f132, f53, f52, f101, f4, f33, f14, f29, f63, f19, f77, f92, f46, f48, f23, f130, f94, f47, f68, f125, f61, f83, f66, f99, f42, f82, f11, f13, f113, f34, f8, f10, f16, f118, f107, f75, f133, f112, f51, f78, f93, f80, f73.\n",
      "_pre_test decorator: _random_mutation_operator: num_test=0 Input X must be non-negative.\n",
      "_pre_test decorator: _random_mutation_operator: num_test=0 Unsupported set of arguments: The combination of penalty='l1' and loss='squared_hinge' are not supported when dual=True, Parameters: penalty='l1', loss='squared_hinge', dual=True.\n",
      "Skipped pipeline #265 due to time out. Continuing to the next pipeline.\n",
      "Generation 5 - Current Pareto front scores:\n",
      "-1\t0.9512345508091504\tExtraTreesClassifier(input_matrix, ExtraTreesClassifier__bootstrap=False, ExtraTreesClassifier__criterion=entropy, ExtraTreesClassifier__max_features=0.7500000000000001, ExtraTreesClassifier__min_samples_leaf=1, ExtraTreesClassifier__min_samples_split=19, ExtraTreesClassifier__n_estimators=100)\n",
      "\n",
      "Periodic pipeline was not saved, probably saved before...\n",
      "\r"
     ]
    },
    {
     "data": {
      "text/plain": [
       "TPOTClassifier(config_dict=None, crossover_rate=0.1, cv=5,\n",
       "               disable_update_check=False, early_stop=None, generations=5,\n",
       "               max_eval_time_mins=5, max_time_mins=None, memory=None,\n",
       "               mutation_rate=0.9, n_jobs=-1, offspring_size=None,\n",
       "               periodic_checkpoint_folder='C:/Users/philb/Google '\n",
       "                                          'Drive/Thinkful/Thinkful_repo/projects/supervised_capstone/TPOT/TPOT_output',\n",
       "               population_size=50, random_state=None,\n",
       "               scoring='balanced_accuracy', subsample=1.0, template=None,\n",
       "               use_dask=False, verbosity=3, warm_start=False)"
      ]
     },
     "execution_count": 17,
     "metadata": {},
     "output_type": "execute_result"
    }
   ],
   "source": [
    "tpot.fit(X_train, y_train)"
   ]
  },
  {
   "cell_type": "code",
   "execution_count": 18,
   "metadata": {
    "Collapsed": "false"
   },
   "outputs": [
    {
     "data": {
      "text/plain": [
       "Pipeline(memory=None,\n",
       "         steps=[('extratreesclassifier',\n",
       "                 ExtraTreesClassifier(bootstrap=False, class_weight=None,\n",
       "                                      criterion='entropy', max_depth=None,\n",
       "                                      max_features=0.7500000000000001,\n",
       "                                      max_leaf_nodes=None,\n",
       "                                      min_impurity_decrease=0.0,\n",
       "                                      min_impurity_split=None,\n",
       "                                      min_samples_leaf=1, min_samples_split=19,\n",
       "                                      min_weight_fraction_leaf=0.0,\n",
       "                                      n_estimators=100, n_jobs=None,\n",
       "                                      oob_score=False, random_state=None,\n",
       "                                      verbose=0, warm_start=False))],\n",
       "         verbose=False)"
      ]
     },
     "execution_count": 18,
     "metadata": {},
     "output_type": "execute_result"
    }
   ],
   "source": [
    "tpot.fitted_pipeline_"
   ]
  }
 ],
 "metadata": {
  "kernelspec": {
   "display_name": "Python 3",
   "language": "python",
   "name": "python3"
  },
  "language_info": {
   "codemirror_mode": {
    "name": "ipython",
    "version": 3
   },
   "file_extension": ".py",
   "mimetype": "text/x-python",
   "name": "python",
   "nbconvert_exporter": "python",
   "pygments_lexer": "ipython3",
   "version": "3.7.1"
  }
 },
 "nbformat": 4,
 "nbformat_minor": 4
}
