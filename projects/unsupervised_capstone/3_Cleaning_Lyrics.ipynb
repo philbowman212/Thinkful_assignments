{
 "cells": [
  {
   "cell_type": "markdown",
   "metadata": {},
   "source": [
    "# Clustering Lyrical Data"
   ]
  },
  {
   "cell_type": "markdown",
   "metadata": {},
   "source": [
    "Notebook Shortcuts:\n",
    "1. [Introduction and Limitations](https://github.com/philbowman212/Thinkful_repo/blob/master/projects/unsupervised_capstone/1_Introduction_and_Limitations.ipynb)\n",
    "2. [Exploration](https://github.com/philbowman212/Thinkful_repo/blob/master/projects/unsupervised_capstone/2_Exploration.ipynb)\n",
    "3. [Cleaning Lyrics](https://github.com/philbowman212/Thinkful_repo/blob/master/projects/unsupervised_capstone/3_Cleaning_Lyrics.ipynb) (you are here)\n",
    "4. [Topic Modeling](https://github.com/philbowman212/Thinkful_repo/blob/master/projects/unsupervised_capstone/4_Topic_Modeling.ipynb)\n",
    "5. [More Topic Modeling and Clustering](https://github.com/philbowman212/Thinkful_repo/blob/master/projects/unsupervised_capstone/5_More_Topic_Modeling_and_Clustering.ipynb)\n",
    "6. [Conclusion and Wordclouds](https://github.com/philbowman212/Thinkful_repo/blob/master/projects/unsupervised_capstone/6_Conclusion_and_Wordclouds.ipynb)"
   ]
  },
  {
   "cell_type": "markdown",
   "metadata": {},
   "source": [
    "# 3: Cleaning Lyrics"
   ]
  },
  {
   "cell_type": "markdown",
   "metadata": {},
   "source": [
    "When it comes to getting good results for any model, **cleaning is *THE KEY* step**. The ubiquitous adage, \"garbage in, garbage out\", absolutely applies here. It just so happens that this is also perhaps the most difficult step of the entire project.\n",
    "\n",
    "The reason it is so difficult is because it requires many iterations, many judgement calls and some subjectivity. In this particular case, the way the lyrics are cleaned is completely dependent on the content of the corpus and the format required by the models. And even then, it's possible it won't be done \"right\". In fact it's essentially impossible to clean this data perfectly. But, what matters is that it generates meaningful results.\n",
    "\n",
    "This will be an extremely iterative process and will likely require returning to this notebook over and over again to make tweaks and changes here and there. The goal is to get the lyrics into a format that is useful for topic modeling, particularly for Gensim's LDA, LSI, and NMF implementations.\n",
    "\n",
    "With all that being said, time to jump in the deep end."
   ]
  },
  {
   "cell_type": "code",
   "execution_count": 222,
   "metadata": {},
   "outputs": [],
   "source": [
    "import numpy as np\n",
    "import pandas as pd\n",
    "import matplotlib.pyplot as plt\n",
    "import seaborn as sns\n",
    "import pickle\n",
    "import string\n",
    "import regex as re\n",
    "from collections import Counter\n",
    "from sklearn.feature_extraction.text import CountVectorizer\n",
    "from sklearn.model_selection import train_test_split\n",
    "import spacy\n",
    "%matplotlib inline"
   ]
  },
  {
   "cell_type": "code",
   "execution_count": 2,
   "metadata": {},
   "outputs": [],
   "source": [
    "%%capture\n",
    "from tqdm import tqdm\n",
    "try:\n",
    "    tqdm._instances.clear()\n",
    "    tqdm.pandas()\n",
    "except:\n",
    "    tqdm.pandas()"
   ]
  },
  {
   "cell_type": "markdown",
   "metadata": {},
   "source": [
    "## 3.1: Sample the data"
   ]
  },
  {
   "cell_type": "markdown",
   "metadata": {},
   "source": [
    "In order to speed things up a little bit (many operations take an eternity on such a big data set and some have trouble fitting in my local machine's memory), I'm going to limit the sample to about 64% of the original data."
   ]
  },
  {
   "cell_type": "code",
   "execution_count": 98,
   "metadata": {},
   "outputs": [],
   "source": [
    "data = pd.read_pickle(r'C:\\Users\\philb\\Repos\\Thinkful_repo\\projects\\unsupervised_capstone\\pickle\\data\\scoped_data.pkl').lyrics"
   ]
  },
  {
   "cell_type": "code",
   "execution_count": 99,
   "metadata": {},
   "outputs": [],
   "source": [
    "base, holdout = train_test_split(data, test_size=.2, random_state=345)\n",
    "train, test = train_test_split(base, test_size=.2, random_state=2345)"
   ]
  },
  {
   "cell_type": "code",
   "execution_count": 100,
   "metadata": {},
   "outputs": [
    {
     "data": {
      "text/plain": [
       "(0.6399956247094534, 0.16000437529054665, 0.2)"
      ]
     },
     "execution_count": 100,
     "metadata": {},
     "output_type": "execute_result"
    }
   ],
   "source": [
    "train.shape[0] / data.shape[0], test.shape[0] / data.shape[0], holdout.shape[0] / data.shape[0]"
   ]
  },
  {
   "cell_type": "markdown",
   "metadata": {},
   "source": [
    "With the data split into 3 groups (64% \"train\", 16% \"test\", and 20% \"holdout\"), export these to pickle files for future use."
   ]
  },
  {
   "cell_type": "code",
   "execution_count": 101,
   "metadata": {},
   "outputs": [],
   "source": [
    "train.to_pickle(r'C:\\Users\\philb\\Repos\\Thinkful_repo\\projects\\unsupervised_capstone\\pickle\\data\\train.pkl')\n",
    "test.to_pickle(r'C:\\Users\\philb\\Repos\\Thinkful_repo\\projects\\unsupervised_capstone\\pickle\\data\\test.pkl')\n",
    "holdout.to_pickle(r'C:\\Users\\philb\\Repos\\Thinkful_repo\\projects\\unsupervised_capstone\\pickle\\data\\holdout.pkl')"
   ]
  },
  {
   "cell_type": "markdown",
   "metadata": {},
   "source": [
    "## 3.2: Clean, clean, clean"
   ]
  },
  {
   "cell_type": "code",
   "execution_count": 59,
   "metadata": {},
   "outputs": [],
   "source": [
    "def clean_text(text):\n",
    "    text = re.sub(r'\\[.*\\]', ' ', text) #gets rid of any brackets ('[' and ']') as well as any text within the brackets\n",
    "    text = re.sub(r'\\(.*?\\d+.*?\\)', ' ', text) #gets rid of any parenthesis with numbers inside (generally indicates repetition of section)\n",
    "    text = re.sub(r'.*\\bverse\\b.*', ' ', text, flags=re.IGNORECASE) #gets rid of any lines containing the word \"verse\" exactly case independent\n",
    "    text = re.sub(r'.*instrumental.*', ' ', text, flags=re.IGNORECASE) #mass majority of \"instrumental\" occurring in lyrics is an indicator for an instrumental section\n",
    "    text = re.sub(r'.*chorus.*', ' ', text, flags=re.IGNORECASE) #mass majority of \"chorus\" occurring in lyrics is an indicator for where a chorus appears\n",
    "    text = re.sub(r'.*\\bbridge\\b.*', ' ', text, flags=re.IGNORECASE) #majority of \"bridge\" exact are indicators for the bridge section of a song\n",
    "    text = re.sub(r'\\w+:', ' ', text) #get rid of any leading artists using a colon\n",
    "    text = re.sub(r'\\w*\\d+\\w*', ' ', text) #get rid of any strings containing numbers\n",
    "    text = ''.join([char for char in text if char not in string.punctuation]) #get rid of all punctuation\n",
    "    text = text.lower() #converts to lowercase\n",
    "    text = ' '.join(text.split()) #clean up any whitespace\n",
    "    text = re.sub(r'\\w*[^a-z ]+\\w*', ' ', text) #gets rid of any non-alpha or non-space characters or words containing them\n",
    "    text = re.sub(r'([a-z])\\1\\1+', r'\\1', text) #fixes any cases where a character is repeated 3 times or more (i.e. yeeeeeah --> yeah)\n",
    "    text = ' '.join(text.split()) #clean up any whitespace again\n",
    "    return text"
   ]
  },
  {
   "cell_type": "code",
   "execution_count": 60,
   "metadata": {},
   "outputs": [
    {
     "name": "stderr",
     "output_type": "stream",
     "text": [
      "100%|█████████████████████████████████████████████████████████████████████████| 117020/117020 [02:59<00:00, 652.49it/s]\n"
     ]
    }
   ],
   "source": [
    "clean_train = train.progress_apply(clean_text)"
   ]
  },
  {
   "cell_type": "markdown",
   "metadata": {},
   "source": [
    "After digging into a bunch of regular expressions, the above function seems to end up with relatively good results, and works relatively quickly even over 100,000+ songs. There are definitely improvements that can be made, but this cleaning process will never be perfect. The question is, will there be good results?"
   ]
  },
  {
   "cell_type": "code",
   "execution_count": 202,
   "metadata": {},
   "outputs": [],
   "source": [
    "def new_orig(series):\n",
    "    series_df = series.reset_index()\n",
    "    random_idx = np.random.randint(series_df.shape[0])\n",
    "    series_text = series_df.iloc[random_idx]['lyrics']\n",
    "    real_idx = series_df.iloc[random_idx]['index']\n",
    "    orig_song_text = train[real_idx]\n",
    "    print(f'Song ID: {real_idx}')\n",
    "    print('---------------')\n",
    "    print('Cleaned Version')\n",
    "    print('---------------')\n",
    "    print(series_text)\n",
    "    print('----------------')\n",
    "    print('Original Version')\n",
    "    print('----------------')\n",
    "    print(orig_song_text)"
   ]
  },
  {
   "cell_type": "code",
   "execution_count": 205,
   "metadata": {},
   "outputs": [
    {
     "name": "stdout",
     "output_type": "stream",
     "text": [
      "Song ID: 285206\n",
      "---------------\n",
      "Cleaned Version\n",
      "---------------\n",
      "if you follow the jawline down over the heart the curves of your bone and muscle that make up your head to toeits just skin and thread stitches and ligaments words that we spoke only to regret i know theyre going to laugh at us when they see us out together holding hands like this they wouldnt understand it if we told them all the reasons not that i think this deserves any kind of explanation we can make it up so weve got a smile painted on all the time no matter what its like on the inside well keep this keep us like a secret because if my family and friends ever found out about the things we could never be haunts well always keep so fucking bittersweet\n",
      "----------------\n",
      "Original Version\n",
      "----------------\n",
      "If you follow the jaw-line down over the heart, the curves of your bone and muscle that make up your head to toe...it's just skin and thread, stitches and ligaments, words that we spoke only to regret. I know they're going to laugh at us when they see us out together \"holding hands\" like this. They wouldn't understand it if we told them all the reasons, not that I think this deserves any kind of explanation. We can make it up so we've got a smile painted on all the time, no matter what it's like on the inside. We'll keep this, keep us like a secret, because if my family and friends ever found out about the things we could never be, haunts we'll always keep, so fucking bittersweet\n"
     ]
    }
   ],
   "source": [
    "new_orig(clean_train)"
   ]
  },
  {
   "cell_type": "markdown",
   "metadata": {},
   "source": [
    "Store the cleaned lyrics as well as the function that cleaned the text to be used on test and holdout data later on."
   ]
  },
  {
   "cell_type": "code",
   "execution_count": 93,
   "metadata": {},
   "outputs": [],
   "source": [
    "clean_train.to_pickle(r'C:\\Users\\philb\\Repos\\Thinkful_repo\\projects\\unsupervised_capstone\\pickle\\data\\clean_train.pkl')"
   ]
  },
  {
   "cell_type": "code",
   "execution_count": 103,
   "metadata": {},
   "outputs": [],
   "source": [
    "outfile = open(r'C:\\Users\\philb\\Repos\\Thinkful_repo\\projects\\unsupervised_capstone\\pickle\\functions\\clean_text.pkl', 'wb')\n",
    "pickle.dump(clean_text, outfile)\n",
    "outfile.close()"
   ]
  },
  {
   "cell_type": "markdown",
   "metadata": {},
   "source": [
    "## 3.3: Reinspection"
   ]
  },
  {
   "cell_type": "code",
   "execution_count": 75,
   "metadata": {},
   "outputs": [],
   "source": [
    "huge_string = ' '.join(clean_train)"
   ]
  },
  {
   "cell_type": "code",
   "execution_count": 76,
   "metadata": {},
   "outputs": [],
   "source": [
    "huge_list = huge_string.split()"
   ]
  },
  {
   "cell_type": "code",
   "execution_count": 78,
   "metadata": {},
   "outputs": [],
   "source": [
    "word_count = Counter(huge_list)"
   ]
  },
  {
   "cell_type": "code",
   "execution_count": 171,
   "metadata": {},
   "outputs": [],
   "source": [
    "word_count_df = pd.DataFrame(word_count.items(), columns=['term', 'counts']).sort_values('counts', ascending=False)"
   ]
  },
  {
   "cell_type": "code",
   "execution_count": 172,
   "metadata": {},
   "outputs": [
    {
     "data": {
      "text/plain": [
       "(24931005, 156349)"
      ]
     },
     "execution_count": 172,
     "metadata": {},
     "output_type": "execute_result"
    }
   ],
   "source": [
    "word_count_df.counts.sum(), word_count_df.shape[0]"
   ]
  },
  {
   "cell_type": "markdown",
   "metadata": {},
   "source": [
    "After cleaning, there's nearly 25 million total occurrences of terms through the training set's songs. The total number of unique terms at this point sits a little above 150,000 terms."
   ]
  },
  {
   "cell_type": "code",
   "execution_count": 173,
   "metadata": {},
   "outputs": [
    {
     "data": {
      "text/html": [
       "<div>\n",
       "<style scoped>\n",
       "    .dataframe tbody tr th:only-of-type {\n",
       "        vertical-align: middle;\n",
       "    }\n",
       "\n",
       "    .dataframe tbody tr th {\n",
       "        vertical-align: top;\n",
       "    }\n",
       "\n",
       "    .dataframe thead th {\n",
       "        text-align: right;\n",
       "    }\n",
       "</style>\n",
       "<table border=\"1\" class=\"dataframe\">\n",
       "  <thead>\n",
       "    <tr style=\"text-align: right;\">\n",
       "      <th></th>\n",
       "      <th>counts</th>\n",
       "    </tr>\n",
       "  </thead>\n",
       "  <tbody>\n",
       "    <tr>\n",
       "      <th>count</th>\n",
       "      <td>156349.000000</td>\n",
       "    </tr>\n",
       "    <tr>\n",
       "      <th>mean</th>\n",
       "      <td>159.457400</td>\n",
       "    </tr>\n",
       "    <tr>\n",
       "      <th>std</th>\n",
       "      <td>5616.148653</td>\n",
       "    </tr>\n",
       "    <tr>\n",
       "      <th>min</th>\n",
       "      <td>1.000000</td>\n",
       "    </tr>\n",
       "    <tr>\n",
       "      <th>25%</th>\n",
       "      <td>1.000000</td>\n",
       "    </tr>\n",
       "    <tr>\n",
       "      <th>50%</th>\n",
       "      <td>2.000000</td>\n",
       "    </tr>\n",
       "    <tr>\n",
       "      <th>75%</th>\n",
       "      <td>6.000000</td>\n",
       "    </tr>\n",
       "    <tr>\n",
       "      <th>max</th>\n",
       "      <td>997663.000000</td>\n",
       "    </tr>\n",
       "  </tbody>\n",
       "</table>\n",
       "</div>"
      ],
      "text/plain": [
       "              counts\n",
       "count  156349.000000\n",
       "mean      159.457400\n",
       "std      5616.148653\n",
       "min         1.000000\n",
       "25%         1.000000\n",
       "50%         2.000000\n",
       "75%         6.000000\n",
       "max    997663.000000"
      ]
     },
     "execution_count": 173,
     "metadata": {},
     "output_type": "execute_result"
    }
   ],
   "source": [
    "word_count_df.describe()"
   ]
  },
  {
   "cell_type": "markdown",
   "metadata": {},
   "source": [
    "The average number of times a term appears appears to be aorund 160 times, but compared to the median of 2, it's easy to see that some words appear extremely frequently, skewing the mean very high."
   ]
  },
  {
   "cell_type": "code",
   "execution_count": 174,
   "metadata": {},
   "outputs": [
    {
     "data": {
      "image/png": "[encoded data removed]",
      "text/plain": [
       "<Figure size 1008x504 with 2 Axes>"
      ]
     },
     "metadata": {
      "needs_background": "light"
     },
     "output_type": "display_data"
    }
   ],
   "source": [
    "plt.figure(figsize=(14,7))\n",
    "\n",
    "plt.subplot(211)\n",
    "sns.distplot(word_count_df.counts)\n",
    "plt.title('Distribution of Word Counts: Raw Counts')\n",
    "\n",
    "plt.subplot(212)\n",
    "sns.boxenplot(word_count_df.counts)\n",
    "plt.title('Boxplot For Word Counts: Raw Counts')\n",
    "\n",
    "plt.tight_layout()\n",
    "plt.show()"
   ]
  },
  {
   "cell_type": "code",
   "execution_count": 175,
   "metadata": {},
   "outputs": [],
   "source": [
    "word_count_df['word_share_pct'] = word_count_df.counts / word_count_df.counts.sum() * 100"
   ]
  },
  {
   "cell_type": "code",
   "execution_count": 181,
   "metadata": {},
   "outputs": [
    {
     "data": {
      "image/png": "[encoded data removed]",
      "text/plain": [
       "<Figure size 1008x504 with 1 Axes>"
      ]
     },
     "metadata": {
      "needs_background": "light"
     },
     "output_type": "display_data"
    },
    {
     "name": "stdout",
     "output_type": "stream",
     "text": [
      "Top 20 Words - Word Share Total: 31.33%\n"
     ]
    }
   ],
   "source": [
    "plt.figure(figsize=(14,7))\n",
    "sns.barplot(x='word_share_pct', y='term', data=word_count_df.sort_values('word_share_pct', ascending=False).iloc[:20])\n",
    "plt.title('Most Frequent Words: Post-Clean')\n",
    "plt.xlabel('Word Share (% of all words)')\n",
    "plt.grid(axis='x')\n",
    "plt.show()\n",
    "\n",
    "print(f'Top 20 Words - Word Share Total: {round(word_count_df.word_share_pct.iloc[:20].sum(), 2)}%')"
   ]
  },
  {
   "cell_type": "markdown",
   "metadata": {},
   "source": [
    "The top 20 most frequent words account for over 30% of the total words in the corpus!"
   ]
  },
  {
   "cell_type": "code",
   "execution_count": 196,
   "metadata": {},
   "outputs": [
    {
     "name": "stdout",
     "output_type": "stream",
     "text": [
      "The top 1% most frequent words (1563 words) account for 88.64% of all the words!\n",
      "The top 10% most frequent words (15634 words) account for 98.04% of all the words!\n"
     ]
    }
   ],
   "source": [
    "top_1_percent = int(word_count_df.shape[0] * .01)\n",
    "print(f'The top 1% most frequent words ({top_1_percent} words) account for {round(word_count_df.word_share_pct.iloc[:top_1_percent].sum(), 2)}% of all the words!')\n",
    "top_10_percent = int(word_count_df.shape[0] * .1)\n",
    "print(f'The top 10% most frequent words ({top_10_percent} words) account for {round(word_count_df.word_share_pct.iloc[:top_10_percent].sum(), 2)}% of all the words!')"
   ]
  },
  {
   "cell_type": "markdown",
   "metadata": {},
   "source": [
    "There is an extreme lack of parity when it comes to the distribution of words in this corpus, this is, of course, why stop words exist."
   ]
  },
  {
   "cell_type": "markdown",
   "metadata": {},
   "source": [
    "## 3.4: Stop words"
   ]
  },
  {
   "cell_type": "markdown",
   "metadata": {},
   "source": [
    "Alright, when it comes to stop words, using NLTK and Scikit-learn's base sets (along with their non-single quote brethren) should take care of a decent chunk. These have already been pickled in the prior notebook."
   ]
  },
  {
   "cell_type": "code",
   "execution_count": 197,
   "metadata": {},
   "outputs": [],
   "source": [
    "infile = open(r'C:\\Users\\philb\\Repos\\Thinkful_repo\\projects\\unsupervised_capstone\\pickle\\stopwords\\base_stopwords.pkl', 'rb')\n",
    "base_stopwords = pickle.load(infile)\n",
    "infile.close()"
   ]
  },
  {
   "cell_type": "code",
   "execution_count": 200,
   "metadata": {},
   "outputs": [
    {
     "name": "stderr",
     "output_type": "stream",
     "text": [
      "100%|███████████████████████████████████████████████████████████████████████| 117020/117020 [00:07<00:00, 15372.46it/s]\n"
     ]
    }
   ],
   "source": [
    "base_stop_removed_clean_train = clean_train.progress_apply(lambda x: ' '.join([w for w in x.split() if w not in base_stopwords]))"
   ]
  },
  {
   "cell_type": "code",
   "execution_count": 207,
   "metadata": {},
   "outputs": [
    {
     "name": "stdout",
     "output_type": "stream",
     "text": [
      "Song ID: 20271\n",
      "---------------\n",
      "Cleaned Version\n",
      "---------------\n",
      "wake wake wake eyes open wide wake panting say dreams deeper meaning cries subconscious feel strangely compelled recount love annabel shaking gently wonder flesh chill virgin snow thoughts disrupted reality hits like bold lightning scream crucified virtuous damned crucified nightmare lets pray fall asleep imprisoned beneath world soulless dwell lies place damned home place virtuous hide fear place nightmares place sun silent\n",
      "----------------\n",
      "Original Version\n",
      "----------------\n",
      "Wake up, wake up, wake up\n",
      "My eyes open wide as I wake, panting,\n",
      "Some say that dreams have deeper meaning.\n",
      "That they are cries from our subconscious.\n",
      "I feel strangely compelled to recount this one to my love,\n",
      "My Annabel, shaking her gently,\n",
      "I wonder why her flesh has the chill of virgin snow.\n",
      "My thoughts are disrupted as reality hits me like a bold of lightning and I scream.\n",
      "We are the crucified, we are the virtuous, we are the damned.\n",
      "We are the crucified, this is our nightmare, let's pray we never fall asleep.\n",
      "Imprisoned beneath the world where the soulless dwell.\n",
      "Lies a place that the damned call home.\n",
      "A place where the virtuous hide in fear.\n",
      "A place we see only in our nightmares.\n",
      "A place where the sun is silent.\n"
     ]
    }
   ],
   "source": [
    "new_orig(base_stop_removed_clean_train)"
   ]
  },
  {
   "cell_type": "code",
   "execution_count": 221,
   "metadata": {},
   "outputs": [],
   "source": [
    "def inspect(series):\n",
    "    huge_string = ' '.join(series)\n",
    "    huge_list = huge_string.split()\n",
    "    word_count = Counter(huge_list)\n",
    "    word_count_df = pd.DataFrame(word_count.items(), columns=['term', 'counts']).sort_values('counts', ascending=False)\n",
    "    word_count_df['word_share_pct'] = word_count_df.counts / word_count_df.counts.sum() * 100\n",
    "    print('----------------------------------------')\n",
    "    print(f'Word Count: {word_count_df.counts.sum()}')\n",
    "    print(f'Total Terms: {word_count_df.shape[0]}')\n",
    "    print('----------------------------------------')\n",
    "    print('----------------------------------------')\n",
    "    print(word_count_df.describe())\n",
    "    print('----------------------------------------')\n",
    "    print('----------------------------------------')\n",
    "    print(f'Top 20 Words - Word Share Total: {round(word_count_df.word_share_pct.iloc[:20].sum(), 2)}%')\n",
    "    print('----------------------------------------')\n",
    "    top_1_percent = int(word_count_df.shape[0] * .01)\n",
    "    print(f'- The top 1% most frequent words ({top_1_percent} words) account for {round(word_count_df.word_share_pct.iloc[:top_1_percent].sum(), 2)}% of all the words!')\n",
    "    top_10_percent = int(word_count_df.shape[0] * .1)\n",
    "    print(f'- The top 10% most frequent words ({top_10_percent} words) account for {round(word_count_df.word_share_pct.iloc[:top_10_percent].sum(), 2)}% of all the words!')\n",
    "    print('----------------------------------------')    \n",
    "    #plot #1\n",
    "    plt.figure(figsize=(14,7))\n",
    "    plt.subplot(211)\n",
    "    sns.distplot(word_count_df.counts)\n",
    "    plt.title('Distribution of Word Counts: Raw Counts')\n",
    "    plt.subplot(212)\n",
    "    sns.boxenplot(word_count_df.counts)\n",
    "    plt.title('Boxplot For Word Counts: Raw Counts')\n",
    "    plt.tight_layout()\n",
    "    plt.show()\n",
    "    \n",
    "    #plot #2\n",
    "    plt.figure(figsize=(14,7))\n",
    "    sns.barplot(x='word_share_pct', y='term', data=word_count_df.sort_values('word_share_pct', ascending=False).iloc[:20])\n",
    "    plt.title('Most Frequent Words')\n",
    "    plt.xlabel('Word Share (% of all words)')\n",
    "    plt.grid(axis='x')\n",
    "    plt.tight_layout()\n",
    "    plt.show()"
   ]
  },
  {
   "cell_type": "code",
   "execution_count": 219,
   "metadata": {},
   "outputs": [
    {
     "name": "stdout",
     "output_type": "stream",
     "text": [
      "----------------------------------------\n",
      "Word Count: 10843433\n",
      "Total Terms: 155980\n",
      "----------------------------------------\n",
      "----------------------------------------\n",
      "              counts  word_share_pct\n",
      "count  155980.000000   155980.000000\n",
      "mean       69.518098        0.000641\n",
      "std      1305.712876        0.012042\n",
      "min         1.000000        0.000009\n",
      "25%         1.000000        0.000009\n",
      "50%         2.000000        0.000018\n",
      "75%         5.000000        0.000046\n",
      "max    212863.000000        1.963059\n",
      "----------------------------------------\n",
      "----------------------------------------\n",
      "Top 20 Words - Word Share Total: 15.88%\n",
      "----------------------------------------\n",
      "- The top 1% most frequent words (1559 words) account for 76.59% of all the words!\n",
      "- The top 10% most frequent words (15598 words) account for 95.58% of all the words!\n",
      "----------------------------------------\n"
     ]
    },
    {
     "data": {
      "image/png": "[encoded data removed]",
      "text/plain": [
       "<Figure size 1008x504 with 2 Axes>"
      ]
     },
     "metadata": {
      "needs_background": "light"
     },
     "output_type": "display_data"
    },
    {
     "data": {
      "image/png": "[encoded data removed]",
      "text/plain": [
       "<Figure size 1008x504 with 1 Axes>"
      ]
     },
     "metadata": {
      "needs_background": "light"
     },
     "output_type": "display_data"
    }
   ],
   "source": [
    "inspect(base_stop_removed_clean_train)"
   ]
  },
  {
   "cell_type": "code",
   "execution_count": 229,
   "metadata": {},
   "outputs": [],
   "source": [
    "base_stop_removed_clean_train.to_pickle(r'C:\\Users\\philb\\Repos\\Thinkful_repo\\projects\\unsupervised_capstone\\pickle\\data\\base_stop_removed_clean_train.pkl')"
   ]
  },
  {
   "cell_type": "markdown",
   "metadata": {},
   "source": [
    "Definitely looks like the stop word list can be improved upon further. A lot of these words don't have much in terms of meaning. What if the words included were limited to only nouns? Better yet, what if only the lemmas (base form) were included?"
   ]
  },
  {
   "cell_type": "markdown",
   "metadata": {},
   "source": [
    "## 3.5: Lemmatizing and limiting parts of speech"
   ]
  },
  {
   "cell_type": "code",
   "execution_count": 225,
   "metadata": {},
   "outputs": [],
   "source": [
    "nlp = spacy.load('en_core_web_md', disable=['parser', 'ner'])"
   ]
  },
  {
   "cell_type": "code",
   "execution_count": 226,
   "metadata": {},
   "outputs": [],
   "source": [
    "def lemmatize_pos(text, allowed_postags=['NOUN']):\n",
    "    doc = nlp(text)\n",
    "    lemmas = [token.lemma_ for token in doc if token.pos_ in allowed_postags]\n",
    "    text = ' '.join(lemmas)\n",
    "    return text"
   ]
  },
  {
   "cell_type": "code",
   "execution_count": 227,
   "metadata": {},
   "outputs": [
    {
     "name": "stderr",
     "output_type": "stream",
     "text": [
      "100%|██████████████████████████████████████████████████████████████████████████| 117020/117020 [37:24<00:00, 52.14it/s]\n"
     ]
    }
   ],
   "source": [
    "lemma_base_stop_removed_clean_train = base_stop_removed_clean_train.progress_apply(lambda x: lemmatize_pos(x))"
   ]
  },
  {
   "cell_type": "code",
   "execution_count": 228,
   "metadata": {},
   "outputs": [
    {
     "name": "stdout",
     "output_type": "stream",
     "text": [
      "----------------------------------------\n",
      "Word Count: 3978408\n",
      "Total Terms: 32953\n",
      "----------------------------------------\n",
      "----------------------------------------\n",
      "              counts  word_share_pct\n",
      "count   32953.000000    32953.000000\n",
      "mean      120.729767        0.003035\n",
      "std      1462.255759        0.036755\n",
      "min         1.000000        0.000025\n",
      "25%         1.000000        0.000025\n",
      "50%         3.000000        0.000075\n",
      "75%        14.000000        0.000352\n",
      "max    132993.000000        3.342870\n",
      "----------------------------------------\n",
      "----------------------------------------\n",
      "Top 20 Words - Word Share Total: 23.56%\n",
      "----------------------------------------\n",
      "- The top 1% most frequent words (329 words) account for 63.48% of all the words!\n",
      "- The top 10% most frequent words (3295 words) account for 93.72% of all the words!\n",
      "----------------------------------------\n"
     ]
    },
    {
     "data": {
      "image/png": "[encoded data removed]",
      "text/plain": [
       "<Figure size 1008x504 with 2 Axes>"
      ]
     },
     "metadata": {
      "needs_background": "light"
     },
     "output_type": "display_data"
    },
    {
     "data": {
      "image/png": "[encoded data removed]",
      "text/plain": [
       "<Figure size 1008x504 with 1 Axes>"
      ]
     },
     "metadata": {
      "needs_background": "light"
     },
     "output_type": "display_data"
    }
   ],
   "source": [
    "inspect(lemma_base_stop_removed_clean_train)"
   ]
  },
  {
   "cell_type": "code",
   "execution_count": 230,
   "metadata": {},
   "outputs": [],
   "source": [
    "lemma_base_stop_removed_clean_train.to_pickle(r'C:\\Users\\philb\\Repos\\Thinkful_repo\\projects\\unsupervised_capstone\\pickle\\data\\lemma_base_stop_removed_clean_train.pkl')"
   ]
  },
  {
   "cell_type": "markdown",
   "metadata": {},
   "source": [
    "Limiting terms to the lemma form and including only nouns brought the total amount of words down significantly. Now that there are some different pickled datasets to use, on to modeling."
   ]
  },
  {
   "cell_type": "markdown",
   "metadata": {},
   "source": [
    "## Shortcuts"
   ]
  },
  {
   "cell_type": "markdown",
   "metadata": {},
   "source": [
    "Notebook Shortcuts:\n",
    "1. [Introduction and Limitations](https://github.com/philbowman212/Thinkful_repo/blob/master/projects/unsupervised_capstone/1_Introduction_and_Limitations.ipynb)\n",
    "2. [Exploration](https://github.com/philbowman212/Thinkful_repo/blob/master/projects/unsupervised_capstone/2_Exploration.ipynb)\n",
    "3. [Cleaning Lyrics](https://github.com/philbowman212/Thinkful_repo/blob/master/projects/unsupervised_capstone/3_Cleaning_Lyrics.ipynb) (you are here)\n",
    "4. [Topic Modeling](https://github.com/philbowman212/Thinkful_repo/blob/master/projects/unsupervised_capstone/4_Topic_Modeling.ipynb)\n",
    "5. [More Topic Modeling and Clustering](https://github.com/philbowman212/Thinkful_repo/blob/master/projects/unsupervised_capstone/5_More_Topic_Modeling_and_Clustering.ipynb)\n",
    "6. [Conclusion and Wordclouds](https://github.com/philbowman212/Thinkful_repo/blob/master/projects/unsupervised_capstone/6_Conclusion_and_Wordclouds.ipynb)"
   ]
  }
 ],
 "metadata": {
  "kernelspec": {
   "display_name": "Python 3",
   "language": "python",
   "name": "python3"
  },
  "language_info": {
   "codemirror_mode": {
    "name": "ipython",
    "version": 3
   },
   "file_extension": ".py",
   "mimetype": "text/x-python",
   "name": "python",
   "nbconvert_exporter": "python",
   "pygments_lexer": "ipython3",
   "version": "3.6.10"
  }
 },
 "nbformat": 4,
 "nbformat_minor": 4
}
