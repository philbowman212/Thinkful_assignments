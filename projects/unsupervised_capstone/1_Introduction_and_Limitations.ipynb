{
 "cells": [
  {
   "cell_type": "markdown",
   "metadata": {},
   "source": [
    "# Clustering Lyrical Data"
   ]
  },
  {
   "cell_type": "markdown",
   "metadata": {},
   "source": [
    "# 1: Introduction and Limitations"
   ]
  },
  {
   "cell_type": "markdown",
   "metadata": {},
   "source": [
    "The **goal** of this project is to *find topics from a corpus of song lyric data using unsupervised modeling techniques, and from those topics, find common clusters for the lyrics and potentially create tags for songs*. The data source for this project is the [380,000+ Lyrics from MetroLyrics](https://www.kaggle.com/gyani95/380000-lyrics-from-metrolyrics) dataset collected by the Kaggle user [GyanendraMishra](https://www.kaggle.com/gyani95). There are many questions to consider when modeling with this type of data. \n",
    "- How will the lyrics be represented?\n",
    "- What models should be used in this case?\n",
    "- How will the models interpret the lyrics? \n",
    "- How will the models differentiate between the lyrics? \n",
    "- How is a model's effectiveness measured?\n",
    "- What is the \"best\" model?\n",
    "- What are the limitations to this method?\n",
    "\n",
    "I hope to answer most of the above questions with this project.\n",
    "\n",
    "First off, a few quick and easy definitions of words that will be commonly used in the project:\n",
    "- Lyrics/text/words: these will be used relatively interchangeably and could refer to either the string form of the data or tokenized form of data (essentially, these are the words in the songs)\n",
    "- Corpus: The entire collection of lyrics (i.e. all the songs)\n",
    "\n",
    "It is important to define the kind of data that is being worked with as well as the limitations of the data. This data is a collection of lyrics that was scraped from the MetroLyrics website. It is not cleaned and is in its raw textual format. Some lyrics, if not all, have initially been entered (typed) by hand and thus may contain misspellings and errors. This data is not perfect, but should be a useful base for topic modeling and clustering songs by their lyrical content. With that said, there are other limitations that will be set on the initial dataset.\n",
    "\n",
    "Further scope and limitations of the project are as follows:\n",
    "1. Any songs prior to 2006 will be removed (10 year range)\n",
    "2. Non-English songs will be removed\n",
    "3. Non-lyrics and N/A data will be removed\n",
    "4. Extremely long and extremely short lyrics will be removed\n",
    "5. It's not going to be perfect (but it should be pretty good)\n",
    "\n",
    "This notebook's goal is to understand the contents of the raw dataset and transform it in a way that is conducive to the next stage of the project (Text Cleaning and Data Exploration)."
   ]
  },
  {
   "cell_type": "code",
   "execution_count": 41,
   "metadata": {},
   "outputs": [],
   "source": [
    "#standard imports\n",
    "import numpy as np\n",
    "import pandas as pd\n",
    "import pickle\n",
    "import matplotlib.pyplot as plt\n",
    "import seaborn as sns\n",
    "%matplotlib inline\n",
    "\n",
    "from langdetect import detect #for language detection"
   ]
  },
  {
   "cell_type": "code",
   "execution_count": 4,
   "metadata": {},
   "outputs": [],
   "source": [
    "%%capture\n",
    "\n",
    "#tqdm is used to display progress bar for pandas apply\n",
    "from tqdm import tqdm\n",
    "try:\n",
    "    tqdm._instances.clear()\n",
    "    tqdm.pandas()\n",
    "except:\n",
    "    tqdm.pandas()"
   ]
  },
  {
   "cell_type": "markdown",
   "metadata": {},
   "source": [
    "Import dataset."
   ]
  },
  {
   "cell_type": "code",
   "execution_count": 8,
   "metadata": {},
   "outputs": [],
   "source": [
    "data = pd.read_csv(r'C:\\Users\\philb\\Repos\\Thinkful_repo\\projects\\unsupervised_capstone\\source\\data.csv').iloc[:, 1:]"
   ]
  },
  {
   "cell_type": "markdown",
   "metadata": {},
   "source": [
    "## 1.1: Scratching the Surface or: Getting a \"Feel\" for the Data"
   ]
  },
  {
   "cell_type": "markdown",
   "metadata": {},
   "source": [
    "Quick look at the raw dataset - head, tail and shape."
   ]
  },
  {
   "cell_type": "code",
   "execution_count": 9,
   "metadata": {},
   "outputs": [
    {
     "data": {
      "text/html": [
       "<div>\n",
       "<style scoped>\n",
       "    .dataframe tbody tr th:only-of-type {\n",
       "        vertical-align: middle;\n",
       "    }\n",
       "\n",
       "    .dataframe tbody tr th {\n",
       "        vertical-align: top;\n",
       "    }\n",
       "\n",
       "    .dataframe thead th {\n",
       "        text-align: right;\n",
       "    }\n",
       "</style>\n",
       "<table border=\"1\" class=\"dataframe\">\n",
       "  <thead>\n",
       "    <tr style=\"text-align: right;\">\n",
       "      <th></th>\n",
       "      <th>song</th>\n",
       "      <th>year</th>\n",
       "      <th>artist</th>\n",
       "      <th>genre</th>\n",
       "      <th>lyrics</th>\n",
       "    </tr>\n",
       "  </thead>\n",
       "  <tbody>\n",
       "    <tr>\n",
       "      <th>0</th>\n",
       "      <td>ego-remix</td>\n",
       "      <td>2009</td>\n",
       "      <td>beyonce-knowles</td>\n",
       "      <td>Pop</td>\n",
       "      <td>Oh baby, how you doing?\\nYou know I'm gonna cu...</td>\n",
       "    </tr>\n",
       "    <tr>\n",
       "      <th>1</th>\n",
       "      <td>then-tell-me</td>\n",
       "      <td>2009</td>\n",
       "      <td>beyonce-knowles</td>\n",
       "      <td>Pop</td>\n",
       "      <td>playin' everything so easy,\\nit's like you see...</td>\n",
       "    </tr>\n",
       "    <tr>\n",
       "      <th>2</th>\n",
       "      <td>honesty</td>\n",
       "      <td>2009</td>\n",
       "      <td>beyonce-knowles</td>\n",
       "      <td>Pop</td>\n",
       "      <td>If you search\\nFor tenderness\\nIt isn't hard t...</td>\n",
       "    </tr>\n",
       "    <tr>\n",
       "      <th>3</th>\n",
       "      <td>you-are-my-rock</td>\n",
       "      <td>2009</td>\n",
       "      <td>beyonce-knowles</td>\n",
       "      <td>Pop</td>\n",
       "      <td>Oh oh oh I, oh oh oh I\\n[Verse 1:]\\nIf I wrote...</td>\n",
       "    </tr>\n",
       "    <tr>\n",
       "      <th>4</th>\n",
       "      <td>black-culture</td>\n",
       "      <td>2009</td>\n",
       "      <td>beyonce-knowles</td>\n",
       "      <td>Pop</td>\n",
       "      <td>Party the people, the people the party it's po...</td>\n",
       "    </tr>\n",
       "  </tbody>\n",
       "</table>\n",
       "</div>"
      ],
      "text/plain": [
       "              song  year           artist genre  \\\n",
       "0        ego-remix  2009  beyonce-knowles   Pop   \n",
       "1     then-tell-me  2009  beyonce-knowles   Pop   \n",
       "2          honesty  2009  beyonce-knowles   Pop   \n",
       "3  you-are-my-rock  2009  beyonce-knowles   Pop   \n",
       "4    black-culture  2009  beyonce-knowles   Pop   \n",
       "\n",
       "                                              lyrics  \n",
       "0  Oh baby, how you doing?\\nYou know I'm gonna cu...  \n",
       "1  playin' everything so easy,\\nit's like you see...  \n",
       "2  If you search\\nFor tenderness\\nIt isn't hard t...  \n",
       "3  Oh oh oh I, oh oh oh I\\n[Verse 1:]\\nIf I wrote...  \n",
       "4  Party the people, the people the party it's po...  "
      ]
     },
     "execution_count": 9,
     "metadata": {},
     "output_type": "execute_result"
    }
   ],
   "source": [
    "data.head()"
   ]
  },
  {
   "cell_type": "code",
   "execution_count": 10,
   "metadata": {},
   "outputs": [
    {
     "data": {
      "text/html": [
       "<div>\n",
       "<style scoped>\n",
       "    .dataframe tbody tr th:only-of-type {\n",
       "        vertical-align: middle;\n",
       "    }\n",
       "\n",
       "    .dataframe tbody tr th {\n",
       "        vertical-align: top;\n",
       "    }\n",
       "\n",
       "    .dataframe thead th {\n",
       "        text-align: right;\n",
       "    }\n",
       "</style>\n",
       "<table border=\"1\" class=\"dataframe\">\n",
       "  <thead>\n",
       "    <tr style=\"text-align: right;\">\n",
       "      <th></th>\n",
       "      <th>song</th>\n",
       "      <th>year</th>\n",
       "      <th>artist</th>\n",
       "      <th>genre</th>\n",
       "      <th>lyrics</th>\n",
       "    </tr>\n",
       "  </thead>\n",
       "  <tbody>\n",
       "    <tr>\n",
       "      <th>362232</th>\n",
       "      <td>who-am-i-drinking-tonight</td>\n",
       "      <td>2012</td>\n",
       "      <td>edens-edge</td>\n",
       "      <td>Country</td>\n",
       "      <td>I gotta say\\nBoy, after only just a couple of ...</td>\n",
       "    </tr>\n",
       "    <tr>\n",
       "      <th>362233</th>\n",
       "      <td>liar</td>\n",
       "      <td>2012</td>\n",
       "      <td>edens-edge</td>\n",
       "      <td>Country</td>\n",
       "      <td>I helped you find her diamond ring\\nYou made m...</td>\n",
       "    </tr>\n",
       "    <tr>\n",
       "      <th>362234</th>\n",
       "      <td>last-supper</td>\n",
       "      <td>2012</td>\n",
       "      <td>edens-edge</td>\n",
       "      <td>Country</td>\n",
       "      <td>Look at the couple in the corner booth\\nLooks ...</td>\n",
       "    </tr>\n",
       "    <tr>\n",
       "      <th>362235</th>\n",
       "      <td>christ-alone-live-in-studio</td>\n",
       "      <td>2012</td>\n",
       "      <td>edens-edge</td>\n",
       "      <td>Country</td>\n",
       "      <td>When I fly off this mortal earth\\nAnd I'm meas...</td>\n",
       "    </tr>\n",
       "    <tr>\n",
       "      <th>362236</th>\n",
       "      <td>amen</td>\n",
       "      <td>2012</td>\n",
       "      <td>edens-edge</td>\n",
       "      <td>Country</td>\n",
       "      <td>I heard from a friend of a friend of a friend ...</td>\n",
       "    </tr>\n",
       "  </tbody>\n",
       "</table>\n",
       "</div>"
      ],
      "text/plain": [
       "                               song  year      artist    genre  \\\n",
       "362232    who-am-i-drinking-tonight  2012  edens-edge  Country   \n",
       "362233                         liar  2012  edens-edge  Country   \n",
       "362234                  last-supper  2012  edens-edge  Country   \n",
       "362235  christ-alone-live-in-studio  2012  edens-edge  Country   \n",
       "362236                         amen  2012  edens-edge  Country   \n",
       "\n",
       "                                                   lyrics  \n",
       "362232  I gotta say\\nBoy, after only just a couple of ...  \n",
       "362233  I helped you find her diamond ring\\nYou made m...  \n",
       "362234  Look at the couple in the corner booth\\nLooks ...  \n",
       "362235  When I fly off this mortal earth\\nAnd I'm meas...  \n",
       "362236  I heard from a friend of a friend of a friend ...  "
      ]
     },
     "execution_count": 10,
     "metadata": {},
     "output_type": "execute_result"
    }
   ],
   "source": [
    "data.tail()"
   ]
  },
  {
   "cell_type": "code",
   "execution_count": 12,
   "metadata": {},
   "outputs": [
    {
     "data": {
      "text/plain": [
       "(362237, 5)"
      ]
     },
     "execution_count": 12,
     "metadata": {},
     "output_type": "execute_result"
    }
   ],
   "source": [
    "data.shape"
   ]
  },
  {
   "cell_type": "markdown",
   "metadata": {},
   "source": [
    "Interestingly, the \"380,000+\" lyrics actually only turns out to be 362,237 lyrics, close enough, I guess."
   ]
  },
  {
   "cell_type": "code",
   "execution_count": 13,
   "metadata": {},
   "outputs": [
    {
     "data": {
      "text/plain": [
       "0                           ego-remix\n",
       "1                        then-tell-me\n",
       "2                             honesty\n",
       "3                     you-are-my-rock\n",
       "4                       black-culture\n",
       "                     ...             \n",
       "362232      who-am-i-drinking-tonight\n",
       "362233                           liar\n",
       "362234                    last-supper\n",
       "362235    christ-alone-live-in-studio\n",
       "362236                           amen\n",
       "Name: song, Length: 362237, dtype: object"
      ]
     },
     "execution_count": 13,
     "metadata": {},
     "output_type": "execute_result"
    }
   ],
   "source": [
    "data.song"
   ]
  },
  {
   "cell_type": "markdown",
   "metadata": {},
   "source": [
    "The song column unsurprisingly indicates the song title, presumably in a format that is URL friendly: all lowercase, spaces represented by the \"-\" character."
   ]
  },
  {
   "cell_type": "code",
   "execution_count": 21,
   "metadata": {},
   "outputs": [
    {
     "name": "stdout",
     "output_type": "stream",
     "text": [
      "0         2009\n",
      "1         2009\n",
      "2         2009\n",
      "3         2009\n",
      "4         2009\n",
      "          ... \n",
      "362232    2012\n",
      "362233    2012\n",
      "362234    2012\n",
      "362235    2012\n",
      "362236    2012\n",
      "Name: year, Length: 362237, dtype: int64\n",
      "\n",
      "Min Year: 67, Max Year: 2038\n"
     ]
    }
   ],
   "source": [
    "print(data.year)\n",
    "print()\n",
    "print(f'Min Year: {data.year.min()}, Max Year: {data.year.max()}')"
   ]
  },
  {
   "cell_type": "markdown",
   "metadata": {},
   "source": [
    "The year appears to indicate when a song was released based on the website's records. Some of these are definitely not accurate as displayed by the minimum and maximum year!"
   ]
  },
  {
   "cell_type": "code",
   "execution_count": 22,
   "metadata": {},
   "outputs": [
    {
     "data": {
      "text/plain": [
       "2006    76590\n",
       "2007    63677\n",
       "2016    37409\n",
       "2015    28766\n",
       "2014    28250\n",
       "2008    21497\n",
       "2013    17331\n",
       "2012    15789\n",
       "2010    12106\n",
       "2011    12067\n",
       "2009    12029\n",
       "2005     5719\n",
       "2004     3698\n",
       "2003     2187\n",
       "2002     2158\n",
       "2000     1722\n",
       "1999     1586\n",
       "2001     1570\n",
       "1990     1362\n",
       "1997     1304\n",
       "1998     1285\n",
       "1996     1236\n",
       "1995     1160\n",
       "1994      968\n",
       "1993      918\n",
       "1992      907\n",
       "1991      559\n",
       "1977      552\n",
       "1971      541\n",
       "1973      520\n",
       "1989      511\n",
       "1972      509\n",
       "1982      498\n",
       "1970      429\n",
       "1979      420\n",
       "1981      414\n",
       "1974      410\n",
       "1978      407\n",
       "1980      401\n",
       "1988      388\n",
       "1986      365\n",
       "1975      364\n",
       "1983      359\n",
       "1976      344\n",
       "1985      333\n",
       "1987      307\n",
       "1984      298\n",
       "2038       10\n",
       "112         4\n",
       "702         1\n",
       "1968        1\n",
       "67          1\n",
       "Name: year, dtype: int64"
      ]
     },
     "execution_count": 22,
     "metadata": {},
     "output_type": "execute_result"
    }
   ],
   "source": [
    "data.year.value_counts()"
   ]
  },
  {
   "cell_type": "markdown",
   "metadata": {},
   "source": [
    "After looking at this, it looks like there are a decent amount of non-sensical year values, as stated in the introduction, the years will be limited from 2006 to 2016. Why 2006 to 2016? It's just an arbitrary decision. Based on the value counts, every year from 2006 to 2016 has over 10,000 songs. So those years with a decently sized sample will be the ones included."
   ]
  },
  {
   "cell_type": "markdown",
   "metadata": {},
   "source": [
    "**Limiting years:**"
   ]
  },
  {
   "cell_type": "code",
   "execution_count": 29,
   "metadata": {},
   "outputs": [],
   "source": [
    "limit_years = data[(data.year < 2017) & (data.year > 2005)].copy()"
   ]
  },
  {
   "cell_type": "code",
   "execution_count": 31,
   "metadata": {},
   "outputs": [
    {
     "data": {
      "text/plain": [
       "0         beyonce-knowles\n",
       "1         beyonce-knowles\n",
       "2         beyonce-knowles\n",
       "3         beyonce-knowles\n",
       "4         beyonce-knowles\n",
       "               ...       \n",
       "362232         edens-edge\n",
       "362233         edens-edge\n",
       "362234         edens-edge\n",
       "362235         edens-edge\n",
       "362236         edens-edge\n",
       "Name: artist, Length: 325511, dtype: object"
      ]
     },
     "execution_count": 31,
     "metadata": {},
     "output_type": "execute_result"
    }
   ],
   "source": [
    "limit_years.artist"
   ]
  },
  {
   "cell_type": "markdown",
   "metadata": {},
   "source": [
    "The artist column is very similar to the song column, URL friendly artist names."
   ]
  },
  {
   "cell_type": "code",
   "execution_count": 38,
   "metadata": {},
   "outputs": [
    {
     "data": {
      "text/plain": [
       "Rock             116063\n",
       "Pop               44847\n",
       "Hip-Hop           31479\n",
       "Not Available     27689\n",
       "Metal             26946\n",
       "Other             20751\n",
       "Country           15661\n",
       "Electronic        14979\n",
       "Jazz              13708\n",
       "Indie              5527\n",
       "R&B                4915\n",
       "Folk               2946\n",
       "Name: genre, dtype: int64"
      ]
     },
     "execution_count": 38,
     "metadata": {},
     "output_type": "execute_result"
    }
   ],
   "source": [
    "limit_years.genre.value_counts()"
   ]
  },
  {
   "cell_type": "markdown",
   "metadata": {},
   "source": [
    "Looks like there is a massive amount of \"Rock\" music. I put \"Rock\" in quotes because who knows how accurate the genre descriptions are? These may be good guidelines, but they shouldn't be taken literally or hold much weight in the comparison between lyrics, generally speaking."
   ]
  },
  {
   "cell_type": "markdown",
   "metadata": {},
   "source": [
    "**Removing N/A:**"
   ]
  },
  {
   "cell_type": "code",
   "execution_count": 43,
   "metadata": {},
   "outputs": [
    {
     "data": {
      "text/plain": [
       "83154"
      ]
     },
     "execution_count": 43,
     "metadata": {},
     "output_type": "execute_result"
    }
   ],
   "source": [
    "limit_years.lyrics.isna().sum()"
   ]
  },
  {
   "cell_type": "markdown",
   "metadata": {},
   "source": [
    "A decent chunk of these lyrics are simply empty, those should be removed."
   ]
  },
  {
   "cell_type": "code",
   "execution_count": 45,
   "metadata": {},
   "outputs": [],
   "source": [
    "no_na = limit_years[~limit_years.lyrics.isna()].copy()"
   ]
  },
  {
   "cell_type": "code",
   "execution_count": 52,
   "metadata": {},
   "outputs": [
    {
     "data": {
      "text/plain": [
       "0.3309435535298713"
      ]
     },
     "execution_count": 52,
     "metadata": {},
     "output_type": "execute_result"
    }
   ],
   "source": [
    "(data.shape[0] - no_na.shape[0]) / data.shape[0]"
   ]
  },
  {
   "cell_type": "markdown",
   "metadata": {},
   "source": [
    "By those two simple actions: limiting the years and dropping empty lyrics, a solid chunk of original entries have been removed!"
   ]
  },
  {
   "cell_type": "code",
   "execution_count": 64,
   "metadata": {},
   "outputs": [
    {
     "data": {
      "text/plain": [
       "song      1\n",
       "year      0\n",
       "artist    0\n",
       "genre     0\n",
       "lyrics    0\n",
       "dtype: int64"
      ]
     },
     "execution_count": 64,
     "metadata": {},
     "output_type": "execute_result"
    }
   ],
   "source": [
    "no_na.isna().sum()"
   ]
  },
  {
   "cell_type": "markdown",
   "metadata": {},
   "source": [
    "Looks like one song doesn't have a title, that can be fixed."
   ]
  },
  {
   "cell_type": "code",
   "execution_count": 70,
   "metadata": {},
   "outputs": [
    {
     "data": {
      "text/html": [
       "<div>\n",
       "<style scoped>\n",
       "    .dataframe tbody tr th:only-of-type {\n",
       "        vertical-align: middle;\n",
       "    }\n",
       "\n",
       "    .dataframe tbody tr th {\n",
       "        vertical-align: top;\n",
       "    }\n",
       "\n",
       "    .dataframe thead th {\n",
       "        text-align: right;\n",
       "    }\n",
       "</style>\n",
       "<table border=\"1\" class=\"dataframe\">\n",
       "  <thead>\n",
       "    <tr style=\"text-align: right;\">\n",
       "      <th></th>\n",
       "      <th>song</th>\n",
       "      <th>year</th>\n",
       "      <th>artist</th>\n",
       "      <th>genre</th>\n",
       "      <th>lyrics</th>\n",
       "    </tr>\n",
       "  </thead>\n",
       "  <tbody>\n",
       "    <tr>\n",
       "      <th>193957</th>\n",
       "      <td>NaN</td>\n",
       "      <td>2009</td>\n",
       "      <td>booker-t-and-the-mg-s</td>\n",
       "      <td>Jazz</td>\n",
       "      <td>All right people, the rest of the hard working...</td>\n",
       "    </tr>\n",
       "  </tbody>\n",
       "</table>\n",
       "</div>"
      ],
      "text/plain": [
       "       song  year                 artist genre  \\\n",
       "193957  NaN  2009  booker-t-and-the-mg-s  Jazz   \n",
       "\n",
       "                                                   lyrics  \n",
       "193957  All right people, the rest of the hard working...  "
      ]
     },
     "execution_count": 70,
     "metadata": {},
     "output_type": "execute_result"
    }
   ],
   "source": [
    "no_na[no_na.song.isna()]"
   ]
  },
  {
   "cell_type": "markdown",
   "metadata": {},
   "source": [
    "A quick google search shows that song is called \"Green Onions\" and it was released in 1962! Not sure why it is indicated to be 2009. This song will be dropped."
   ]
  },
  {
   "cell_type": "code",
   "execution_count": 72,
   "metadata": {},
   "outputs": [],
   "source": [
    "no_na.drop(labels=193957, inplace=True)"
   ]
  },
  {
   "cell_type": "code",
   "execution_count": 73,
   "metadata": {},
   "outputs": [
    {
     "data": {
      "text/plain": [
       "song      0\n",
       "year      0\n",
       "artist    0\n",
       "genre     0\n",
       "lyrics    0\n",
       "dtype: int64"
      ]
     },
     "execution_count": 73,
     "metadata": {},
     "output_type": "execute_result"
    }
   ],
   "source": [
    "no_na.isna().sum()"
   ]
  },
  {
   "cell_type": "markdown",
   "metadata": {},
   "source": [
    "Now, no_na truly contains no N/As."
   ]
  },
  {
   "cell_type": "markdown",
   "metadata": {},
   "source": [
    "**Dealing with duplicates:**"
   ]
  },
  {
   "cell_type": "code",
   "execution_count": 95,
   "metadata": {},
   "outputs": [
    {
     "data": {
      "text/html": [
       "<div>\n",
       "<style scoped>\n",
       "    .dataframe tbody tr th:only-of-type {\n",
       "        vertical-align: middle;\n",
       "    }\n",
       "\n",
       "    .dataframe tbody tr th {\n",
       "        vertical-align: top;\n",
       "    }\n",
       "\n",
       "    .dataframe thead th {\n",
       "        text-align: right;\n",
       "    }\n",
       "</style>\n",
       "<table border=\"1\" class=\"dataframe\">\n",
       "  <thead>\n",
       "    <tr style=\"text-align: right;\">\n",
       "      <th></th>\n",
       "      <th>song</th>\n",
       "      <th>year</th>\n",
       "      <th>artist</th>\n",
       "      <th>genre</th>\n",
       "      <th>lyrics</th>\n",
       "    </tr>\n",
       "  </thead>\n",
       "  <tbody>\n",
       "    <tr>\n",
       "      <th>0</th>\n",
       "      <td>ego-remix</td>\n",
       "      <td>2009</td>\n",
       "      <td>beyonce-knowles</td>\n",
       "      <td>Pop</td>\n",
       "      <td>Oh baby, how you doing?\\nYou know I'm gonna cu...</td>\n",
       "    </tr>\n",
       "    <tr>\n",
       "      <th>22</th>\n",
       "      <td>beutiful-liar-remix</td>\n",
       "      <td>2007</td>\n",
       "      <td>beyonce-knowles</td>\n",
       "      <td>Pop</td>\n",
       "      <td>Ay! Ay!\\n(Nobody likes being played)\\nAy!\\nOh!...</td>\n",
       "    </tr>\n",
       "    <tr>\n",
       "      <th>49</th>\n",
       "      <td>irreemplazable-nortena-remix</td>\n",
       "      <td>2007</td>\n",
       "      <td>beyonce-knowles</td>\n",
       "      <td>Pop</td>\n",
       "      <td>Ya lo ves, ya lo ves\\nTe olvid, te olvid, mmm\\...</td>\n",
       "    </tr>\n",
       "    <tr>\n",
       "      <th>88</th>\n",
       "      <td>run-the-world-girls-remix</td>\n",
       "      <td>2012</td>\n",
       "      <td>beyonce-knowles</td>\n",
       "      <td>Pop</td>\n",
       "      <td>Girls, we run this motha\\nGirls, we run this m...</td>\n",
       "    </tr>\n",
       "    <tr>\n",
       "      <th>111</th>\n",
       "      <td>in-da-club-remix</td>\n",
       "      <td>2006</td>\n",
       "      <td>beyonce-knowles</td>\n",
       "      <td>Pop</td>\n",
       "      <td>No shorty, it's Beyonce\\nWe gon' party like, i...</td>\n",
       "    </tr>\n",
       "    <tr>\n",
       "      <th>...</th>\n",
       "      <td>...</td>\n",
       "      <td>...</td>\n",
       "      <td>...</td>\n",
       "      <td>...</td>\n",
       "      <td>...</td>\n",
       "    </tr>\n",
       "    <tr>\n",
       "      <th>361158</th>\n",
       "      <td>it-s-over-now-remix</td>\n",
       "      <td>2006</td>\n",
       "      <td>112</td>\n",
       "      <td>Hip-Hop</td>\n",
       "      <td>What is this?\\nNumbers in your pocket\\nI remem...</td>\n",
       "    </tr>\n",
       "    <tr>\n",
       "      <th>361163</th>\n",
       "      <td>u-already-know-remix</td>\n",
       "      <td>2006</td>\n",
       "      <td>112</td>\n",
       "      <td>Hip-Hop</td>\n",
       "      <td>Papa comin' over to give you that raw\\nFavorit...</td>\n",
       "    </tr>\n",
       "    <tr>\n",
       "      <th>361175</th>\n",
       "      <td>hot-wet-remix</td>\n",
       "      <td>2006</td>\n",
       "      <td>112</td>\n",
       "      <td>Hip-Hop</td>\n",
       "      <td>I wanna show you how I feel, don't hold back, ...</td>\n",
       "    </tr>\n",
       "    <tr>\n",
       "      <th>361947</th>\n",
       "      <td>blame-phentinol-warzone-pharmaceuticals-remix</td>\n",
       "      <td>2006</td>\n",
       "      <td>gravity-kills</td>\n",
       "      <td>Rock</td>\n",
       "      <td>I thought I could hear you\\nEchoing words of d...</td>\n",
       "    </tr>\n",
       "    <tr>\n",
       "      <th>361948</th>\n",
       "      <td>blame-l-a-remix</td>\n",
       "      <td>2008</td>\n",
       "      <td>gravity-kills</td>\n",
       "      <td>Rock</td>\n",
       "      <td>I thought I could hear you\\nEchoing words of d...</td>\n",
       "    </tr>\n",
       "  </tbody>\n",
       "</table>\n",
       "<p>1994 rows × 5 columns</p>\n",
       "</div>"
      ],
      "text/plain": [
       "                                                 song  year           artist  \\\n",
       "0                                           ego-remix  2009  beyonce-knowles   \n",
       "22                                beutiful-liar-remix  2007  beyonce-knowles   \n",
       "49                       irreemplazable-nortena-remix  2007  beyonce-knowles   \n",
       "88                          run-the-world-girls-remix  2012  beyonce-knowles   \n",
       "111                                  in-da-club-remix  2006  beyonce-knowles   \n",
       "...                                               ...   ...              ...   \n",
       "361158                            it-s-over-now-remix  2006              112   \n",
       "361163                           u-already-know-remix  2006              112   \n",
       "361175                                  hot-wet-remix  2006              112   \n",
       "361947  blame-phentinol-warzone-pharmaceuticals-remix  2006    gravity-kills   \n",
       "361948                                blame-l-a-remix  2008    gravity-kills   \n",
       "\n",
       "          genre                                             lyrics  \n",
       "0           Pop  Oh baby, how you doing?\\nYou know I'm gonna cu...  \n",
       "22          Pop  Ay! Ay!\\n(Nobody likes being played)\\nAy!\\nOh!...  \n",
       "49          Pop  Ya lo ves, ya lo ves\\nTe olvid, te olvid, mmm\\...  \n",
       "88          Pop  Girls, we run this motha\\nGirls, we run this m...  \n",
       "111         Pop  No shorty, it's Beyonce\\nWe gon' party like, i...  \n",
       "...         ...                                                ...  \n",
       "361158  Hip-Hop  What is this?\\nNumbers in your pocket\\nI remem...  \n",
       "361163  Hip-Hop  Papa comin' over to give you that raw\\nFavorit...  \n",
       "361175  Hip-Hop  I wanna show you how I feel, don't hold back, ...  \n",
       "361947     Rock  I thought I could hear you\\nEchoing words of d...  \n",
       "361948     Rock  I thought I could hear you\\nEchoing words of d...  \n",
       "\n",
       "[1994 rows x 5 columns]"
      ]
     },
     "execution_count": 95,
     "metadata": {},
     "output_type": "execute_result"
    }
   ],
   "source": [
    "no_na[no_na.song.str.contains('remix')]"
   ]
  },
  {
   "cell_type": "markdown",
   "metadata": {},
   "source": [
    "Looks like a song with remix in the title is probably just a remix of the actual song, these will be removed."
   ]
  },
  {
   "cell_type": "code",
   "execution_count": 105,
   "metadata": {},
   "outputs": [
    {
     "data": {
      "text/html": [
       "<div>\n",
       "<style scoped>\n",
       "    .dataframe tbody tr th:only-of-type {\n",
       "        vertical-align: middle;\n",
       "    }\n",
       "\n",
       "    .dataframe tbody tr th {\n",
       "        vertical-align: top;\n",
       "    }\n",
       "\n",
       "    .dataframe thead th {\n",
       "        text-align: right;\n",
       "    }\n",
       "</style>\n",
       "<table border=\"1\" class=\"dataframe\">\n",
       "  <thead>\n",
       "    <tr style=\"text-align: right;\">\n",
       "      <th></th>\n",
       "      <th>song</th>\n",
       "      <th>year</th>\n",
       "      <th>artist</th>\n",
       "      <th>genre</th>\n",
       "      <th>lyrics</th>\n",
       "    </tr>\n",
       "  </thead>\n",
       "  <tbody>\n",
       "    <tr>\n",
       "      <th>34153</th>\n",
       "      <td>elias-live-in-studio</td>\n",
       "      <td>2006</td>\n",
       "      <td>dispatch</td>\n",
       "      <td>Rock</td>\n",
       "      <td>Dai Jesu achoinekwa ndaizofara naye\\nDai Jesu ...</td>\n",
       "    </tr>\n",
       "    <tr>\n",
       "      <th>38331</th>\n",
       "      <td>always-be-my-baby-studio-version</td>\n",
       "      <td>2008</td>\n",
       "      <td>david-cook</td>\n",
       "      <td>Rock</td>\n",
       "      <td>We were as one, babe for a moment in time\\nAnd...</td>\n",
       "    </tr>\n",
       "    <tr>\n",
       "      <th>69919</th>\n",
       "      <td>haunted-live-at-diversion-studios</td>\n",
       "      <td>2015</td>\n",
       "      <td>ben-montague</td>\n",
       "      <td>Rock</td>\n",
       "      <td>All you said and all you did to me\\nWas a ston...</td>\n",
       "    </tr>\n",
       "    <tr>\n",
       "      <th>81942</th>\n",
       "      <td>solicitor-in-studio</td>\n",
       "      <td>2006</td>\n",
       "      <td>fall</td>\n",
       "      <td>Metal</td>\n",
       "      <td>Young dicks make TV\\nGet 'em away from me\\nYou...</td>\n",
       "    </tr>\n",
       "    <tr>\n",
       "      <th>95461</th>\n",
       "      <td>home-studio-back-up-in-this-bitch</td>\n",
       "      <td>2014</td>\n",
       "      <td>chance-the-rapper</td>\n",
       "      <td>Pop</td>\n",
       "      <td>[Intro]\\nUh uh uh uh uh\\nIGH!\\nNana naaaaa\\nYu...</td>\n",
       "    </tr>\n",
       "    <tr>\n",
       "      <th>95462</th>\n",
       "      <td>home-studio</td>\n",
       "      <td>2014</td>\n",
       "      <td>chance-the-rapper</td>\n",
       "      <td>Pop</td>\n",
       "      <td>[Intro]\\nUh uh uh uh uh uh\\nIGH!\\nNana naaaaa\\...</td>\n",
       "    </tr>\n",
       "    <tr>\n",
       "      <th>100291</th>\n",
       "      <td>quando-sorpresa-gli-allestisci-uno-studio-di-p...</td>\n",
       "      <td>2013</td>\n",
       "      <td>casa-degli-specchi</td>\n",
       "      <td>Hip-Hop</td>\n",
       "      <td>[Verse 1: GyLuciani]\\nPrendo una Heineken / e ...</td>\n",
       "    </tr>\n",
       "    <tr>\n",
       "      <th>106916</th>\n",
       "      <td>you-ve-got-a-friend-studio-version</td>\n",
       "      <td>2008</td>\n",
       "      <td>brooke-white</td>\n",
       "      <td>Pop</td>\n",
       "      <td>When you're down, in trouble. And you need som...</td>\n",
       "    </tr>\n",
       "    <tr>\n",
       "      <th>106917</th>\n",
       "      <td>here-comes-the-sun-studio-version</td>\n",
       "      <td>2008</td>\n",
       "      <td>brooke-white</td>\n",
       "      <td>Pop</td>\n",
       "      <td>Here comes the sun. Doo doo doo doo. Here come...</td>\n",
       "    </tr>\n",
       "    <tr>\n",
       "      <th>106918</th>\n",
       "      <td>every-breath-you-take-studio-version</td>\n",
       "      <td>2008</td>\n",
       "      <td>brooke-white</td>\n",
       "      <td>Pop</td>\n",
       "      <td>Every breath you take and every move you make....</td>\n",
       "    </tr>\n",
       "    <tr>\n",
       "      <th>106920</th>\n",
       "      <td>hero-studio-version</td>\n",
       "      <td>2008</td>\n",
       "      <td>brooke-white</td>\n",
       "      <td>Pop</td>\n",
       "      <td>There's a hero\\nIf you look inside your heart\\...</td>\n",
       "    </tr>\n",
       "    <tr>\n",
       "      <th>106925</th>\n",
       "      <td>jolene-studio-version</td>\n",
       "      <td>2008</td>\n",
       "      <td>brooke-white</td>\n",
       "      <td>Pop</td>\n",
       "      <td>Jolene, Jolene, Jolene, Jolene! I'm begging of...</td>\n",
       "    </tr>\n",
       "    <tr>\n",
       "      <th>106929</th>\n",
       "      <td>you-must-love-me-studio-version</td>\n",
       "      <td>2008</td>\n",
       "      <td>brooke-white</td>\n",
       "      <td>Pop</td>\n",
       "      <td>Where do we go from here\\nThis isn't where\\nWe...</td>\n",
       "    </tr>\n",
       "    <tr>\n",
       "      <th>106937</th>\n",
       "      <td>let-it-be-studio-version</td>\n",
       "      <td>2008</td>\n",
       "      <td>brooke-white</td>\n",
       "      <td>Pop</td>\n",
       "      <td>Now that I can realize\\nYou pulled the wool ov...</td>\n",
       "    </tr>\n",
       "    <tr>\n",
       "      <th>137980</th>\n",
       "      <td>let-the-message-run-free-studio-version</td>\n",
       "      <td>2006</td>\n",
       "      <td>boyzone</td>\n",
       "      <td>Pop</td>\n",
       "      <td>In this world of confusion\\nUnder the same sun...</td>\n",
       "    </tr>\n",
       "    <tr>\n",
       "      <th>146552</th>\n",
       "      <td>the-end-studio-version</td>\n",
       "      <td>2012</td>\n",
       "      <td>ellie-goulding</td>\n",
       "      <td>Pop</td>\n",
       "      <td>We've only ever kissed lying down\\nWe've only ...</td>\n",
       "    </tr>\n",
       "    <tr>\n",
       "      <th>164776</th>\n",
       "      <td>why-alternate-rca-studios-version</td>\n",
       "      <td>2012</td>\n",
       "      <td>the-byrds</td>\n",
       "      <td>Rock</td>\n",
       "      <td>Keep sayin' no to her since she was a baby\\nKe...</td>\n",
       "    </tr>\n",
       "    <tr>\n",
       "      <th>164805</th>\n",
       "      <td>lover-of-the-bayou-studio-recording</td>\n",
       "      <td>2012</td>\n",
       "      <td>the-byrds</td>\n",
       "      <td>Rock</td>\n",
       "      <td>Catfish pie in a gris-gris bag\\nI'm the lover ...</td>\n",
       "    </tr>\n",
       "    <tr>\n",
       "      <th>164850</th>\n",
       "      <td>eight-miles-high-alternate-rca-studios-version</td>\n",
       "      <td>2012</td>\n",
       "      <td>the-byrds</td>\n",
       "      <td>Rock</td>\n",
       "      <td>Eight miles high and when you touch down\\nYou'...</td>\n",
       "    </tr>\n",
       "    <tr>\n",
       "      <th>164858</th>\n",
       "      <td>eight-miles-high-alternate-rca-studios-version...</td>\n",
       "      <td>2006</td>\n",
       "      <td>the-byrds</td>\n",
       "      <td>Rock</td>\n",
       "      <td>Eight miles high and when you touch down\\nYou'...</td>\n",
       "    </tr>\n",
       "    <tr>\n",
       "      <th>185986</th>\n",
       "      <td>social-studios</td>\n",
       "      <td>2006</td>\n",
       "      <td>bizzy-bone</td>\n",
       "      <td>Hip-Hop</td>\n",
       "      <td>I don't spread no strong message of violence n...</td>\n",
       "    </tr>\n",
       "    <tr>\n",
       "      <th>219738</th>\n",
       "      <td>what-i-like-about-you-studio-mix</td>\n",
       "      <td>2015</td>\n",
       "      <td>5-seconds-of-summer</td>\n",
       "      <td>Pop</td>\n",
       "      <td>That's what I like about you\\nYou hold me tigh...</td>\n",
       "    </tr>\n",
       "    <tr>\n",
       "      <th>279887</th>\n",
       "      <td>play-with-me-three-imaginary-boys-studio-outtake</td>\n",
       "      <td>2008</td>\n",
       "      <td>the-cure</td>\n",
       "      <td>Rock</td>\n",
       "      <td>I paint your nails and brush your hair\\nUntil ...</td>\n",
       "    </tr>\n",
       "    <tr>\n",
       "      <th>279901</th>\n",
       "      <td>winter-three-imaginary-boys-studio-outtake</td>\n",
       "      <td>2008</td>\n",
       "      <td>the-cure</td>\n",
       "      <td>Rock</td>\n",
       "      <td>The soul lives forever, always ends sometime\\n...</td>\n",
       "    </tr>\n",
       "    <tr>\n",
       "      <th>294612</th>\n",
       "      <td>rabba-sacheya-coke-studio-season-5</td>\n",
       "      <td>2013</td>\n",
       "      <td>atif-aslam</td>\n",
       "      <td>Rock</td>\n",
       "      <td>Rabba sacheya tu te akheya si\\nJa o bandeya ja...</td>\n",
       "    </tr>\n",
       "    <tr>\n",
       "      <th>294613</th>\n",
       "      <td>channa-coke-studio-mtv-single</td>\n",
       "      <td>2013</td>\n",
       "      <td>atif-aslam</td>\n",
       "      <td>Rock</td>\n",
       "      <td>Tere pyaar di ae ni chhan ve,\\nthandi lagdi ae...</td>\n",
       "    </tr>\n",
       "    <tr>\n",
       "      <th>328590</th>\n",
       "      <td>the-new-fever-waltz-live-from-capitol-studios</td>\n",
       "      <td>2013</td>\n",
       "      <td>elton-john</td>\n",
       "      <td>Rock</td>\n",
       "      <td>Forgotten scars remind us of\\nToo much war, to...</td>\n",
       "    </tr>\n",
       "    <tr>\n",
       "      <th>328593</th>\n",
       "      <td>home-again-live-from-capitol-studios</td>\n",
       "      <td>2013</td>\n",
       "      <td>elton-john</td>\n",
       "      <td>Rock</td>\n",
       "      <td>I'm counting on a memory to get me out of here...</td>\n",
       "    </tr>\n",
       "    <tr>\n",
       "      <th>328598</th>\n",
       "      <td>mexican-vacation-kids-in-the-candlelight-live-...</td>\n",
       "      <td>2013</td>\n",
       "      <td>elton-john</td>\n",
       "      <td>Rock</td>\n",
       "      <td>I carried you in my arms\\nThrough the hotel to...</td>\n",
       "    </tr>\n",
       "    <tr>\n",
       "      <th>339221</th>\n",
       "      <td>i-hear-you-calling-studio-reunion</td>\n",
       "      <td>2015</td>\n",
       "      <td>bill-fay</td>\n",
       "      <td>Rock</td>\n",
       "      <td>I hear you calling from the riverbank\\nI will ...</td>\n",
       "    </tr>\n",
       "    <tr>\n",
       "      <th>362235</th>\n",
       "      <td>christ-alone-live-in-studio</td>\n",
       "      <td>2012</td>\n",
       "      <td>edens-edge</td>\n",
       "      <td>Country</td>\n",
       "      <td>When I fly off this mortal earth\\nAnd I'm meas...</td>\n",
       "    </tr>\n",
       "  </tbody>\n",
       "</table>\n",
       "</div>"
      ],
      "text/plain": [
       "                                                     song  year  \\\n",
       "34153                                elias-live-in-studio  2006   \n",
       "38331                    always-be-my-baby-studio-version  2008   \n",
       "69919                   haunted-live-at-diversion-studios  2015   \n",
       "81942                                 solicitor-in-studio  2006   \n",
       "95461                   home-studio-back-up-in-this-bitch  2014   \n",
       "95462                                         home-studio  2014   \n",
       "100291  quando-sorpresa-gli-allestisci-uno-studio-di-p...  2013   \n",
       "106916                 you-ve-got-a-friend-studio-version  2008   \n",
       "106917                  here-comes-the-sun-studio-version  2008   \n",
       "106918               every-breath-you-take-studio-version  2008   \n",
       "106920                                hero-studio-version  2008   \n",
       "106925                              jolene-studio-version  2008   \n",
       "106929                    you-must-love-me-studio-version  2008   \n",
       "106937                           let-it-be-studio-version  2008   \n",
       "137980            let-the-message-run-free-studio-version  2006   \n",
       "146552                             the-end-studio-version  2012   \n",
       "164776                  why-alternate-rca-studios-version  2012   \n",
       "164805                lover-of-the-bayou-studio-recording  2012   \n",
       "164850     eight-miles-high-alternate-rca-studios-version  2012   \n",
       "164858  eight-miles-high-alternate-rca-studios-version...  2006   \n",
       "185986                                     social-studios  2006   \n",
       "219738                   what-i-like-about-you-studio-mix  2015   \n",
       "279887   play-with-me-three-imaginary-boys-studio-outtake  2008   \n",
       "279901         winter-three-imaginary-boys-studio-outtake  2008   \n",
       "294612                 rabba-sacheya-coke-studio-season-5  2013   \n",
       "294613                      channa-coke-studio-mtv-single  2013   \n",
       "328590      the-new-fever-waltz-live-from-capitol-studios  2013   \n",
       "328593               home-again-live-from-capitol-studios  2013   \n",
       "328598  mexican-vacation-kids-in-the-candlelight-live-...  2013   \n",
       "339221                  i-hear-you-calling-studio-reunion  2015   \n",
       "362235                        christ-alone-live-in-studio  2012   \n",
       "\n",
       "                     artist    genre  \\\n",
       "34153              dispatch     Rock   \n",
       "38331            david-cook     Rock   \n",
       "69919          ben-montague     Rock   \n",
       "81942                  fall    Metal   \n",
       "95461     chance-the-rapper      Pop   \n",
       "95462     chance-the-rapper      Pop   \n",
       "100291   casa-degli-specchi  Hip-Hop   \n",
       "106916         brooke-white      Pop   \n",
       "106917         brooke-white      Pop   \n",
       "106918         brooke-white      Pop   \n",
       "106920         brooke-white      Pop   \n",
       "106925         brooke-white      Pop   \n",
       "106929         brooke-white      Pop   \n",
       "106937         brooke-white      Pop   \n",
       "137980              boyzone      Pop   \n",
       "146552       ellie-goulding      Pop   \n",
       "164776            the-byrds     Rock   \n",
       "164805            the-byrds     Rock   \n",
       "164850            the-byrds     Rock   \n",
       "164858            the-byrds     Rock   \n",
       "185986           bizzy-bone  Hip-Hop   \n",
       "219738  5-seconds-of-summer      Pop   \n",
       "279887             the-cure     Rock   \n",
       "279901             the-cure     Rock   \n",
       "294612           atif-aslam     Rock   \n",
       "294613           atif-aslam     Rock   \n",
       "328590           elton-john     Rock   \n",
       "328593           elton-john     Rock   \n",
       "328598           elton-john     Rock   \n",
       "339221             bill-fay     Rock   \n",
       "362235           edens-edge  Country   \n",
       "\n",
       "                                                   lyrics  \n",
       "34153   Dai Jesu achoinekwa ndaizofara naye\\nDai Jesu ...  \n",
       "38331   We were as one, babe for a moment in time\\nAnd...  \n",
       "69919   All you said and all you did to me\\nWas a ston...  \n",
       "81942   Young dicks make TV\\nGet 'em away from me\\nYou...  \n",
       "95461   [Intro]\\nUh uh uh uh uh\\nIGH!\\nNana naaaaa\\nYu...  \n",
       "95462   [Intro]\\nUh uh uh uh uh uh\\nIGH!\\nNana naaaaa\\...  \n",
       "100291  [Verse 1: GyLuciani]\\nPrendo una Heineken / e ...  \n",
       "106916  When you're down, in trouble. And you need som...  \n",
       "106917  Here comes the sun. Doo doo doo doo. Here come...  \n",
       "106918  Every breath you take and every move you make....  \n",
       "106920  There's a hero\\nIf you look inside your heart\\...  \n",
       "106925  Jolene, Jolene, Jolene, Jolene! I'm begging of...  \n",
       "106929  Where do we go from here\\nThis isn't where\\nWe...  \n",
       "106937  Now that I can realize\\nYou pulled the wool ov...  \n",
       "137980  In this world of confusion\\nUnder the same sun...  \n",
       "146552  We've only ever kissed lying down\\nWe've only ...  \n",
       "164776  Keep sayin' no to her since she was a baby\\nKe...  \n",
       "164805  Catfish pie in a gris-gris bag\\nI'm the lover ...  \n",
       "164850  Eight miles high and when you touch down\\nYou'...  \n",
       "164858  Eight miles high and when you touch down\\nYou'...  \n",
       "185986  I don't spread no strong message of violence n...  \n",
       "219738  That's what I like about you\\nYou hold me tigh...  \n",
       "279887  I paint your nails and brush your hair\\nUntil ...  \n",
       "279901  The soul lives forever, always ends sometime\\n...  \n",
       "294612  Rabba sacheya tu te akheya si\\nJa o bandeya ja...  \n",
       "294613  Tere pyaar di ae ni chhan ve,\\nthandi lagdi ae...  \n",
       "328590  Forgotten scars remind us of\\nToo much war, to...  \n",
       "328593  I'm counting on a memory to get me out of here...  \n",
       "328598  I carried you in my arms\\nThrough the hotel to...  \n",
       "339221  I hear you calling from the riverbank\\nI will ...  \n",
       "362235  When I fly off this mortal earth\\nAnd I'm meas...  "
      ]
     },
     "execution_count": 105,
     "metadata": {},
     "output_type": "execute_result"
    }
   ],
   "source": [
    "no_na[no_na.song.str.contains('-studio')]"
   ]
  },
  {
   "cell_type": "markdown",
   "metadata": {},
   "source": [
    "Pretty much the same deal here. Few exceptions."
   ]
  },
  {
   "cell_type": "code",
   "execution_count": 104,
   "metadata": {},
   "outputs": [
    {
     "data": {
      "text/html": [
       "<div>\n",
       "<style scoped>\n",
       "    .dataframe tbody tr th:only-of-type {\n",
       "        vertical-align: middle;\n",
       "    }\n",
       "\n",
       "    .dataframe tbody tr th {\n",
       "        vertical-align: top;\n",
       "    }\n",
       "\n",
       "    .dataframe thead th {\n",
       "        text-align: right;\n",
       "    }\n",
       "</style>\n",
       "<table border=\"1\" class=\"dataframe\">\n",
       "  <thead>\n",
       "    <tr style=\"text-align: right;\">\n",
       "      <th></th>\n",
       "      <th>song</th>\n",
       "      <th>year</th>\n",
       "      <th>artist</th>\n",
       "      <th>genre</th>\n",
       "      <th>lyrics</th>\n",
       "    </tr>\n",
       "  </thead>\n",
       "  <tbody>\n",
       "    <tr>\n",
       "      <th>20</th>\n",
       "      <td>beautiful-liar-spanglish-version</td>\n",
       "      <td>2007</td>\n",
       "      <td>beyonce-knowles</td>\n",
       "      <td>Pop</td>\n",
       "      <td>Ay! Ay!\\n(Nobody likes being played)\\nAy!\\nOh!...</td>\n",
       "    </tr>\n",
       "    <tr>\n",
       "      <th>31</th>\n",
       "      <td>bello-embustero-beautiful-liar-spanish-version</td>\n",
       "      <td>2007</td>\n",
       "      <td>beyonce-knowles</td>\n",
       "      <td>Pop</td>\n",
       "      <td>Ay! Ay! Ay!\\nOh! Beyonce, Beyonce\\nOh! Beyonce...</td>\n",
       "    </tr>\n",
       "    <tr>\n",
       "      <th>48</th>\n",
       "      <td>oye-listen-spanish-version</td>\n",
       "      <td>2007</td>\n",
       "      <td>beyonce-knowles</td>\n",
       "      <td>Pop</td>\n",
       "      <td>Oye, lo que tengo que decir\\nNo puedo ya segui...</td>\n",
       "    </tr>\n",
       "    <tr>\n",
       "      <th>51</th>\n",
       "      <td>irreemplazable-irreplaceable-spanish-version</td>\n",
       "      <td>2007</td>\n",
       "      <td>beyonce-knowles</td>\n",
       "      <td>Pop</td>\n",
       "      <td>To the left, to the left\\nTo the left, to the ...</td>\n",
       "    </tr>\n",
       "    <tr>\n",
       "      <th>122</th>\n",
       "      <td>irremplazable-irreplaceable-spanish-version</td>\n",
       "      <td>2006</td>\n",
       "      <td>beyonce-knowles</td>\n",
       "      <td>Pop</td>\n",
       "      <td>To the left, to the left\\nTo the left, to the ...</td>\n",
       "    </tr>\n",
       "    <tr>\n",
       "      <th>...</th>\n",
       "      <td>...</td>\n",
       "      <td>...</td>\n",
       "      <td>...</td>\n",
       "      <td>...</td>\n",
       "      <td>...</td>\n",
       "    </tr>\n",
       "    <tr>\n",
       "      <th>357181</th>\n",
       "      <td>paris-blues-live-version</td>\n",
       "      <td>2016</td>\n",
       "      <td>duke-ellington</td>\n",
       "      <td>Jazz</td>\n",
       "      <td>Left bank caf,\\nStrollin the quays,\\nWatching ...</td>\n",
       "    </tr>\n",
       "    <tr>\n",
       "      <th>357692</th>\n",
       "      <td>sin-love-and-the-devil-album-version</td>\n",
       "      <td>2007</td>\n",
       "      <td>embraze</td>\n",
       "      <td>Metal</td>\n",
       "      <td>Rain beats me down\\nI cry for my sins and love...</td>\n",
       "    </tr>\n",
       "    <tr>\n",
       "      <th>358325</th>\n",
       "      <td>ich-bin-in-dir-version-2001</td>\n",
       "      <td>2006</td>\n",
       "      <td>brthhse-onkelz</td>\n",
       "      <td>Rock</td>\n",
       "      <td>Hrst Du diese Lieder\\nBhse Onkelz immer wieder...</td>\n",
       "    </tr>\n",
       "    <tr>\n",
       "      <th>358632</th>\n",
       "      <td>saint-claude-english-version</td>\n",
       "      <td>2016</td>\n",
       "      <td>christine-and-the-queens</td>\n",
       "      <td>Electronic</td>\n",
       "      <td>Souffle saccadÃ©\\nVoilÃ  qui laisse deviner\\nQ...</td>\n",
       "    </tr>\n",
       "    <tr>\n",
       "      <th>358794</th>\n",
       "      <td>born-to-try-album-version</td>\n",
       "      <td>2006</td>\n",
       "      <td>delta-goodrem</td>\n",
       "      <td>Pop</td>\n",
       "      <td>Doing everything that I believe in,\\nGoing by ...</td>\n",
       "    </tr>\n",
       "  </tbody>\n",
       "</table>\n",
       "<p>1048 rows × 5 columns</p>\n",
       "</div>"
      ],
      "text/plain": [
       "                                                  song  year  \\\n",
       "20                    beautiful-liar-spanglish-version  2007   \n",
       "31      bello-embustero-beautiful-liar-spanish-version  2007   \n",
       "48                          oye-listen-spanish-version  2007   \n",
       "51        irreemplazable-irreplaceable-spanish-version  2007   \n",
       "122        irremplazable-irreplaceable-spanish-version  2006   \n",
       "...                                                ...   ...   \n",
       "357181                        paris-blues-live-version  2016   \n",
       "357692            sin-love-and-the-devil-album-version  2007   \n",
       "358325                     ich-bin-in-dir-version-2001  2006   \n",
       "358632                    saint-claude-english-version  2016   \n",
       "358794                       born-to-try-album-version  2006   \n",
       "\n",
       "                          artist       genre  \\\n",
       "20               beyonce-knowles         Pop   \n",
       "31               beyonce-knowles         Pop   \n",
       "48               beyonce-knowles         Pop   \n",
       "51               beyonce-knowles         Pop   \n",
       "122              beyonce-knowles         Pop   \n",
       "...                          ...         ...   \n",
       "357181            duke-ellington        Jazz   \n",
       "357692                   embraze       Metal   \n",
       "358325            brthhse-onkelz        Rock   \n",
       "358632  christine-and-the-queens  Electronic   \n",
       "358794             delta-goodrem         Pop   \n",
       "\n",
       "                                                   lyrics  \n",
       "20      Ay! Ay!\\n(Nobody likes being played)\\nAy!\\nOh!...  \n",
       "31      Ay! Ay! Ay!\\nOh! Beyonce, Beyonce\\nOh! Beyonce...  \n",
       "48      Oye, lo que tengo que decir\\nNo puedo ya segui...  \n",
       "51      To the left, to the left\\nTo the left, to the ...  \n",
       "122     To the left, to the left\\nTo the left, to the ...  \n",
       "...                                                   ...  \n",
       "357181  Left bank caf,\\nStrollin the quays,\\nWatching ...  \n",
       "357692  Rain beats me down\\nI cry for my sins and love...  \n",
       "358325  Hrst Du diese Lieder\\nBhse Onkelz immer wieder...  \n",
       "358632  Souffle saccadÃ©\\nVoilÃ  qui laisse deviner\\nQ...  \n",
       "358794  Doing everything that I believe in,\\nGoing by ...  \n",
       "\n",
       "[1048 rows x 5 columns]"
      ]
     },
     "execution_count": 104,
     "metadata": {},
     "output_type": "execute_result"
    }
   ],
   "source": [
    "no_na[no_na.song.str.contains('-version')]"
   ]
  },
  {
   "cell_type": "markdown",
   "metadata": {},
   "source": [
    "And again."
   ]
  },
  {
   "cell_type": "code",
   "execution_count": 108,
   "metadata": {},
   "outputs": [],
   "source": [
    "no_na = no_na[~no_na.song.str.contains('remix')].copy()\n",
    "no_na = no_na[~no_na.song.str.contains('-studio')].copy()\n",
    "no_na = no_na[~no_na.song.str.contains('-version')].copy()"
   ]
  },
  {
   "cell_type": "code",
   "execution_count": 112,
   "metadata": {},
   "outputs": [
    {
     "data": {
      "text/plain": [
       "15589"
      ]
     },
     "execution_count": 112,
     "metadata": {},
     "output_type": "execute_result"
    }
   ],
   "source": [
    "no_na.lyrics.duplicated().sum()"
   ]
  },
  {
   "cell_type": "markdown",
   "metadata": {},
   "source": [
    "Looks like a decent amount of these lyrics are just duplicates of one another, the number may actually be a bit higher if the lyrics lowered and stripped of extra white space."
   ]
  },
  {
   "cell_type": "code",
   "execution_count": 113,
   "metadata": {},
   "outputs": [
    {
     "data": {
      "text/plain": [
       "16000"
      ]
     },
     "execution_count": 113,
     "metadata": {},
     "output_type": "execute_result"
    }
   ],
   "source": [
    "no_na.lyrics.apply(lambda x: ' '.join(x.lower().split())).duplicated().sum()"
   ]
  },
  {
   "cell_type": "markdown",
   "metadata": {},
   "source": [
    "Over 400 more songs are actually duplicates. First, randomly shuffle the data before eliminating duplicates."
   ]
  },
  {
   "cell_type": "code",
   "execution_count": 115,
   "metadata": {},
   "outputs": [],
   "source": [
    "shuffle_data = no_na.sample(frac=1.0, random_state=234).copy()"
   ]
  },
  {
   "cell_type": "code",
   "execution_count": 118,
   "metadata": {},
   "outputs": [],
   "source": [
    "no_duplicates = shuffle_data[~shuffle_data.lyrics.apply(lambda x: ' '.join(x.lower().split())).duplicated()].copy()"
   ]
  },
  {
   "cell_type": "markdown",
   "metadata": {},
   "source": [
    "**Extreme song lengths:**"
   ]
  },
  {
   "cell_type": "code",
   "execution_count": 131,
   "metadata": {},
   "outputs": [
    {
     "data": {
      "text/plain": [
       "count    223299.000000\n",
       "mean       1154.665180\n",
       "std         786.932232\n",
       "min           1.000000\n",
       "25%         669.000000\n",
       "50%         973.000000\n",
       "75%        1400.000000\n",
       "max       42131.000000\n",
       "Name: lyrics, dtype: float64"
      ]
     },
     "execution_count": 131,
     "metadata": {},
     "output_type": "execute_result"
    }
   ],
   "source": [
    "song_length = no_duplicates.lyrics.apply(lambda x: len(' '.join(x.split())))\n",
    "song_length.describe()"
   ]
  },
  {
   "cell_type": "markdown",
   "metadata": {},
   "source": [
    "Looks like there are really long songs as well as short songs. Extreme cases should be removed!"
   ]
  },
  {
   "cell_type": "code",
   "execution_count": 169,
   "metadata": {},
   "outputs": [
    {
     "data": {
      "image/png": "[encoded data removed]",
      "text/plain": [
       "<Figure size 1008x504 with 1 Axes>"
      ]
     },
     "metadata": {
      "needs_background": "light"
     },
     "output_type": "display_data"
    }
   ],
   "source": [
    "plt.figure(figsize=(14, 7))\n",
    "sns.boxenplot(song_length)\n",
    "plt.title('Song Length (in characters) Boxplot')\n",
    "plt.xlabel('Characters in Song')\n",
    "plt.xticks(ticks=range(0, 45000, 5000))\n",
    "plt.show()"
   ]
  },
  {
   "cell_type": "markdown",
   "metadata": {},
   "source": [
    "Perhaps best to remove the highest 5% of songs as well as the lowest 5%."
   ]
  },
  {
   "cell_type": "code",
   "execution_count": 154,
   "metadata": {},
   "outputs": [],
   "source": [
    "fifth_percentile = round(len(song_length)*.05)\n",
    "ninety_fifth_percentile = round(len(song_length)*.95)"
   ]
  },
  {
   "cell_type": "code",
   "execution_count": 155,
   "metadata": {},
   "outputs": [],
   "source": [
    "keep_indicies = song_length.sort_values().iloc[fifth_percentile:ninety_fifth_percentile].index"
   ]
  },
  {
   "cell_type": "code",
   "execution_count": 156,
   "metadata": {},
   "outputs": [],
   "source": [
    "drop_extreme = no_duplicates.loc[keep_indicies].copy()"
   ]
  },
  {
   "cell_type": "markdown",
   "metadata": {},
   "source": [
    "In essense, this has removed extreme cases for song length, somewhat normalizing the selection."
   ]
  },
  {
   "cell_type": "code",
   "execution_count": 163,
   "metadata": {},
   "outputs": [],
   "source": [
    "new_song_lengths = drop_extreme.lyrics.apply(lambda x: len(' '.join(x.split())))"
   ]
  },
  {
   "cell_type": "code",
   "execution_count": 167,
   "metadata": {},
   "outputs": [
    {
     "data": {
      "image/png": "[encoded data removed]",
      "text/plain": [
       "<Figure size 1008x504 with 1 Axes>"
      ]
     },
     "metadata": {
      "needs_background": "light"
     },
     "output_type": "display_data"
    }
   ],
   "source": [
    "plt.figure(figsize=(14,7))\n",
    "sns.distplot(new_song_lengths)\n",
    "plt.title('Distribution of Song Length (in characters)')\n",
    "plt.xlabel('Song Length (in characters)')\n",
    "plt.show()"
   ]
  },
  {
   "cell_type": "markdown",
   "metadata": {},
   "source": [
    "From the above, it is still clear that most songs are on the shorter end than the longer end."
   ]
  },
  {
   "cell_type": "markdown",
   "metadata": {},
   "source": [
    "**Languages:**"
   ]
  },
  {
   "cell_type": "code",
   "execution_count": 176,
   "metadata": {},
   "outputs": [
    {
     "name": "stderr",
     "output_type": "stream",
     "text": [
      "100%|█████████████████████████████████████████████████████████████████| 200969/200969 [50:29<00:00, 66.34it/s]\n"
     ]
    }
   ],
   "source": [
    "language = drop_extreme.lyrics.progress_apply(detect)"
   ]
  },
  {
   "cell_type": "markdown",
   "metadata": {},
   "source": [
    "Finally, only English songs will be included in the analysis. So all songs that aren't English will be removed. The langdetect package comes in handy here!"
   ]
  },
  {
   "cell_type": "code",
   "execution_count": 181,
   "metadata": {},
   "outputs": [],
   "source": [
    "english_indicies = language[language == 'en'].index"
   ]
  },
  {
   "cell_type": "code",
   "execution_count": 183,
   "metadata": {},
   "outputs": [],
   "source": [
    "final_data = drop_extreme.loc[english_indicies].copy()"
   ]
  },
  {
   "cell_type": "markdown",
   "metadata": {},
   "source": [
    "## 1.2: Export Deliverable"
   ]
  },
  {
   "cell_type": "code",
   "execution_count": 184,
   "metadata": {},
   "outputs": [
    {
     "data": {
      "text/plain": [
       "0.504766216593004"
      ]
     },
     "execution_count": 184,
     "metadata": {},
     "output_type": "execute_result"
    }
   ],
   "source": [
    "final_data.shape[0] / data.shape[0]"
   ]
  },
  {
   "cell_type": "markdown",
   "metadata": {},
   "source": [
    "When all is said and done, about half of the original entries/rows/songs remain. This dataset can be exported locally and pickled for use in the next notebook."
   ]
  },
  {
   "cell_type": "code",
   "execution_count": 185,
   "metadata": {},
   "outputs": [],
   "source": [
    "final_data.to_pickle(r'C:\\Users\\philb\\Repos\\Thinkful_repo\\projects\\unsupervised_capstone\\pickle\\data\\scoped_data.pkl')"
   ]
  }
 ],
 "metadata": {
  "kernelspec": {
   "display_name": "Python 3",
   "language": "python",
   "name": "python3"
  },
  "language_info": {
   "codemirror_mode": {
    "name": "ipython",
    "version": 3
   },
   "file_extension": ".py",
   "mimetype": "text/x-python",
   "name": "python",
   "nbconvert_exporter": "python",
   "pygments_lexer": "ipython3",
   "version": "3.6.10"
  }
 },
 "nbformat": 4,
 "nbformat_minor": 4
}
