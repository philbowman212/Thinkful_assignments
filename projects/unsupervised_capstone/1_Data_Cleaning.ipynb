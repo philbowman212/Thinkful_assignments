{
 "cells": [
  {
   "cell_type": "markdown",
   "metadata": {},
   "source": [
    "# Data Cleaning"
   ]
  },
  {
   "cell_type": "markdown",
   "metadata": {},
   "source": [
    "# Intro"
   ]
  },
  {
   "cell_type": "markdown",
   "metadata": {},
   "source": [
    "The goal of this project is to perform unsupervised learning techniques on song lyric (*text*) data in order to find topics in songs that may be useful in tagging lyrics for their content. The dataset, [380,000+ lyrics from MetroLyrics](https://www.kaggle.com/gyani95/380000-lyrics-from-metrolyrics/data), is from Kaggle and contains over 380,000 song lyrics as well as some useful tags for the songs as well.\n",
    "\n",
    "Steps for this notebook are:\n",
    "1. **Load in data** - from .csv using Pandas\n",
    "2. **Clean the data** - using various methods\n",
    "3. **Export data as deliverables** - for later use (without having to clean for every notebook)\n",
    "\n",
    "Deliverables:\n",
    "1. **Corpus** - pickle file\n",
    "2. **Document Term Matrix** - pickle file"
   ]
  },
  {
   "cell_type": "code",
   "execution_count": 1,
   "metadata": {
    "ExecuteTime": {
     "end_time": "2020-02-25T20:53:57.547546Z",
     "start_time": "2020-02-25T20:53:53.320364Z"
    }
   },
   "outputs": [],
   "source": [
    "import numpy as np\n",
    "import pandas as pd\n",
    "import pickle\n",
    "import matplotlib.pyplot as plt\n",
    "import seaborn as sns\n",
    "import re\n",
    "import string\n",
    "import nltk\n",
    "from nltk.corpus import stopwords\n",
    "from langdetect import detect\n",
    "from sklearn.feature_extraction.text import CountVectorizer\n",
    "\n",
    "pd.options.display.max_colwidth = 100"
   ]
  },
  {
   "cell_type": "markdown",
   "metadata": {},
   "source": [
    "Use tqdm package just for spacy pandas apply."
   ]
  },
  {
   "cell_type": "code",
   "execution_count": 2,
   "metadata": {
    "ExecuteTime": {
     "end_time": "2020-02-25T20:53:57.604564Z",
     "start_time": "2020-02-25T20:53:57.553429Z"
    }
   },
   "outputs": [],
   "source": [
    "%%capture\n",
    "from tqdm import tqdm\n",
    "try:\n",
    "    tqdm._instances.clear()\n",
    "    tqdm.pandas()\n",
    "except:\n",
    "    tqdm.pandas()"
   ]
  },
  {
   "cell_type": "markdown",
   "metadata": {},
   "source": [
    "## Loading data then taking a sample"
   ]
  },
  {
   "cell_type": "markdown",
   "metadata": {},
   "source": [
    "A few things will be done in this step:\n",
    "1. Load in data with pandas into a data frame\n",
    "2. Limit the scope of the data\n",
    "3. Pre-textprocessing preprocessing\n",
    "4. Generate Random Sample (and pickle)"
   ]
  },
  {
   "cell_type": "markdown",
   "metadata": {},
   "source": [
    "### Load data"
   ]
  },
  {
   "cell_type": "code",
   "execution_count": 3,
   "metadata": {
    "ExecuteTime": {
     "end_time": "2020-02-25T20:54:03.972164Z",
     "start_time": "2020-02-25T20:53:57.611439Z"
    }
   },
   "outputs": [],
   "source": [
    "orig_df = pd.read_csv(r'C:\\Users\\philb\\Repos\\Thinkful_repo\\projects\\unsupervised_capstone\\source\\lyrics.csv').iloc[:, 1:]"
   ]
  },
  {
   "cell_type": "markdown",
   "metadata": {},
   "source": [
    "### Limiting scope"
   ]
  },
  {
   "cell_type": "markdown",
   "metadata": {},
   "source": [
    "Not including songs from before 2010. No particular reason, just cutting it off there."
   ]
  },
  {
   "cell_type": "code",
   "execution_count": 4,
   "metadata": {
    "ExecuteTime": {
     "end_time": "2020-02-25T20:54:04.058182Z",
     "start_time": "2020-02-25T20:54:03.976038Z"
    }
   },
   "outputs": [],
   "source": [
    "df = orig_df[orig_df.year >= 2010].copy()"
   ]
  },
  {
   "cell_type": "markdown",
   "metadata": {},
   "source": [
    "Drop songs with \"Other\" and \"Not Available\" genres (for exploration and explainability)."
   ]
  },
  {
   "cell_type": "code",
   "execution_count": 5,
   "metadata": {
    "ExecuteTime": {
     "end_time": "2020-02-25T20:54:04.194237Z",
     "start_time": "2020-02-25T20:54:04.062061Z"
    }
   },
   "outputs": [],
   "source": [
    "df = df[(df.genre != 'Other') & (df.genre != 'Not Available')].copy()"
   ]
  },
  {
   "cell_type": "markdown",
   "metadata": {},
   "source": [
    "### Pre-textprocessing preprocessing"
   ]
  },
  {
   "cell_type": "markdown",
   "metadata": {},
   "source": [
    "Drop null lyrics - no use for those..."
   ]
  },
  {
   "cell_type": "code",
   "execution_count": 6,
   "metadata": {
    "ExecuteTime": {
     "end_time": "2020-02-25T20:54:04.302124Z",
     "start_time": "2020-02-25T20:54:04.199095Z"
    }
   },
   "outputs": [],
   "source": [
    "df = df[~df.lyrics.isna()].copy()"
   ]
  },
  {
   "cell_type": "markdown",
   "metadata": {},
   "source": [
    "Drop instrumental tracks (we could tag these relatively easily with a simple rule). I.e. if the character length of lyrics is below a certain threshold and instrumental is the only word in the lyrics."
   ]
  },
  {
   "cell_type": "code",
   "execution_count": 7,
   "metadata": {
    "ExecuteTime": {
     "end_time": "2020-02-25T20:54:04.548273Z",
     "start_time": "2020-02-25T20:54:04.307123Z"
    }
   },
   "outputs": [],
   "source": [
    "instrumental_drops = ['INSTRUMENTAL', '(instrumental)', 'Instrumental', '(Instrumental)', '- instrumental -', '[Instrumental]']\n",
    "df['lyrics'] = df.lyrics.apply(lambda x: np.nan if x in instrumental_drops else x)\n",
    "df = df.dropna().copy()"
   ]
  },
  {
   "cell_type": "markdown",
   "metadata": {},
   "source": [
    "Get rid of remixes, studio versions and covers. "
   ]
  },
  {
   "cell_type": "code",
   "execution_count": 8,
   "metadata": {
    "ExecuteTime": {
     "end_time": "2020-02-25T20:54:05.000273Z",
     "start_time": "2020-02-25T20:54:04.556161Z"
    }
   },
   "outputs": [],
   "source": [
    "df = df[~df.song.str.contains('remix')].copy()\n",
    "df = df[~df.song.str.contains('studio')].copy()\n",
    "df = df[~df.song.str.contains('-cover')].copy()"
   ]
  },
  {
   "cell_type": "markdown",
   "metadata": {},
   "source": [
    "Random shuffle before eliminating duplicate lyrics (songs with identical lyrics)."
   ]
  },
  {
   "cell_type": "code",
   "execution_count": 9,
   "metadata": {
    "ExecuteTime": {
     "end_time": "2020-02-23T03:39:22.074531Z",
     "start_time": "2020-02-23T03:39:21.882366Z"
    }
   },
   "outputs": [],
   "source": [
    "df = df.sample(frac=1, random_state=27).copy() #random shuffle\n",
    "df = df[~df.lyrics.duplicated()]#eliminate duplicates, keeping first instance of lyric"
   ]
  },
  {
   "cell_type": "markdown",
   "metadata": {},
   "source": [
    "Get rid of all songs 2 standard deviations higher than the Hip-Hop average (it has the greatest average of any genre and greatest standard deviation, I don't want to eliminate too many Hip-Hop songs just because they are generally longer than other genres)."
   ]
  },
  {
   "cell_type": "code",
   "execution_count": 10,
   "metadata": {
    "ExecuteTime": {
     "end_time": "2020-02-23T03:39:22.288462Z",
     "start_time": "2020-02-23T03:39:22.079412Z"
    }
   },
   "outputs": [
    {
     "data": {
      "text/plain": [
       "4704.19510580339"
      ]
     },
     "execution_count": 10,
     "metadata": {},
     "output_type": "execute_result"
    }
   ],
   "source": [
    "df['song_len'] = df.lyrics.str.len()\n",
    "hip_hop_2std = df.groupby('genre').std().song_len['Hip-Hop']*2 #2 standard deviations for Hip-Hop genre song length\n",
    "hip_hop_avg = df.groupby('genre').mean().song_len['Hip-Hop'] #average character length for Hip-Hop song\n",
    "max_len = hip_hop_2std + hip_hop_avg\n",
    "max_len"
   ]
  },
  {
   "cell_type": "code",
   "execution_count": 11,
   "metadata": {
    "ExecuteTime": {
     "end_time": "2020-02-23T03:39:22.350603Z",
     "start_time": "2020-02-23T03:39:22.292583Z"
    }
   },
   "outputs": [],
   "source": [
    "df = df[df.song_len < max_len].copy()"
   ]
  },
  {
   "cell_type": "markdown",
   "metadata": {},
   "source": [
    "So that takes care of most of the long songs (there are none left considering Hip-Hop alone). Looking at songs with very short character values is also pretty useless (lots of them are misspelling of instrumental or 'add lyrics') so those can be removed."
   ]
  },
  {
   "cell_type": "code",
   "execution_count": 12,
   "metadata": {
    "ExecuteTime": {
     "end_time": "2020-02-23T03:39:23.106692Z",
     "start_time": "2020-02-23T03:39:23.051648Z"
    }
   },
   "outputs": [],
   "source": [
    "df = df[df.song_len > 100].copy()"
   ]
  },
  {
   "cell_type": "code",
   "execution_count": 13,
   "metadata": {
    "ExecuteTime": {
     "end_time": "2020-02-23T05:36:22.292240Z",
     "start_time": "2020-02-23T05:36:21.771675Z"
    }
   },
   "outputs": [
    {
     "data": {
      "image/png": "[encoded data removed]",
      "text/plain": [
       "<Figure size 1152x504 with 2 Axes>"
      ]
     },
     "metadata": {
      "needs_background": "light"
     },
     "output_type": "display_data"
    }
   ],
   "source": [
    "plt.figure(figsize=(16, 7))\n",
    "\n",
    "plt.subplot(211)\n",
    "sns.boxplot(df.song_len)\n",
    "plt.title('Boxplots of Song Lengths by Characters')\n",
    "plt.xlabel('')\n",
    "plt.ylabel('All Songs')\n",
    "\n",
    "plt.subplot(212)\n",
    "sns.boxplot(df[df.genre == 'Hip-Hop'].song_len, color='g')\n",
    "plt.xlabel('Song Length (characters)')\n",
    "plt.ylabel('Hip-Hop Only')\n",
    "plt.show()"
   ]
  },
  {
   "cell_type": "markdown",
   "metadata": {},
   "source": [
    "Next, get rid of all songs that aren't in English. The detect function from langdetect is very useful and relatively fast for this process."
   ]
  },
  {
   "cell_type": "code",
   "execution_count": 14,
   "metadata": {
    "ExecuteTime": {
     "end_time": "2020-02-23T03:55:06.348451Z",
     "start_time": "2020-02-23T03:55:06.342453Z"
    }
   },
   "outputs": [],
   "source": [
    "def try_detect(x):\n",
    "    try:\n",
    "        return detect(x) #returns 2 digit language code\n",
    "    except:\n",
    "        return None #if error don't assign a language"
   ]
  },
  {
   "cell_type": "code",
   "execution_count": 15,
   "metadata": {
    "ExecuteTime": {
     "end_time": "2020-02-23T04:10:46.929072Z",
     "start_time": "2020-02-23T03:55:13.552619Z"
    },
    "scrolled": true
   },
   "outputs": [
    {
     "name": "stderr",
     "output_type": "stream",
     "text": [
      "100%|███████████████████████████████████████| 57165/57165 [21:41<00:00, 43.92it/s]\n"
     ]
    }
   ],
   "source": [
    "df['language'] = df.lyrics.progress_apply(try_detect)"
   ]
  },
  {
   "cell_type": "markdown",
   "metadata": {},
   "source": [
    "Keep only songs that are English (\"en\")."
   ]
  },
  {
   "cell_type": "code",
   "execution_count": 16,
   "metadata": {
    "ExecuteTime": {
     "end_time": "2020-02-23T04:14:03.937712Z",
     "start_time": "2020-02-23T04:14:03.860680Z"
    }
   },
   "outputs": [],
   "source": [
    "df = df[df.language == 'en'].copy()"
   ]
  },
  {
   "cell_type": "markdown",
   "metadata": {},
   "source": [
    "### Generate random sample (and compare to original population)"
   ]
  },
  {
   "cell_type": "markdown",
   "metadata": {},
   "source": [
    "Take a random sample of 10000 songs."
   ]
  },
  {
   "cell_type": "code",
   "execution_count": 17,
   "metadata": {
    "ExecuteTime": {
     "end_time": "2020-02-23T04:18:13.262702Z",
     "start_time": "2020-02-23T04:18:13.230827Z"
    }
   },
   "outputs": [],
   "source": [
    "samp_df = df.sample(n=10000, random_state=27).copy()"
   ]
  },
  {
   "cell_type": "code",
   "execution_count": 18,
   "metadata": {
    "ExecuteTime": {
     "end_time": "2020-02-23T05:32:41.370852Z",
     "start_time": "2020-02-23T05:32:40.923742Z"
    }
   },
   "outputs": [
    {
     "data": {
      "image/png": "[encoded data removed]",
      "text/plain": [
       "<Figure size 1152x504 with 2 Axes>"
      ]
     },
     "metadata": {},
     "output_type": "display_data"
    }
   ],
   "source": [
    "plt.figure(figsize=(16, 7))\n",
    "\n",
    "plt.suptitle('Compare Genre Distributions')\n",
    "\n",
    "plt.subplot(121)\n",
    "plt.pie(samp_df.genre.value_counts(True), labels=samp_df.genre.value_counts(True).index, autopct=lambda x: f'{round(x, 2)}%')\n",
    "plt.title('Sample Songs Pie')\n",
    "\n",
    "plt.subplot(122)\n",
    "plt.pie(df.genre.value_counts(True), labels=samp_df.genre.value_counts(True).index, autopct=lambda x: f'{round(x, 2)}%')\n",
    "plt.title('Entire Pie')\n",
    "\n",
    "plt.show()"
   ]
  },
  {
   "cell_type": "markdown",
   "metadata": {},
   "source": [
    "Breakdown of the sample from the total population (by genre) appears to be even."
   ]
  },
  {
   "cell_type": "code",
   "execution_count": 19,
   "metadata": {
    "ExecuteTime": {
     "end_time": "2020-02-23T05:32:36.821688Z",
     "start_time": "2020-02-23T05:32:35.896457Z"
    }
   },
   "outputs": [
    {
     "data": {
      "image/png": "[encoded data removed]",
      "text/plain": [
       "<Figure size 1152x504 with 2 Axes>"
      ]
     },
     "metadata": {},
     "output_type": "display_data"
    }
   ],
   "source": [
    "plt.figure(figsize=(16, 7))\n",
    "\n",
    "plt.suptitle('Compare Year Distributions')\n",
    "\n",
    "plt.subplot(121)\n",
    "plt.pie(samp_df.year.value_counts(True), labels=samp_df.year.value_counts(True).index, autopct=lambda x: f'{round(x, 2)}%')\n",
    "plt.title('Sample Songs Pie')\n",
    "\n",
    "plt.subplot(122)\n",
    "plt.pie(df.year.value_counts(True), labels=samp_df.year.value_counts(True).index, autopct=lambda x: f'{round(x, 2)}%')\n",
    "plt.title('Entire Pie')\n",
    "\n",
    "plt.show()"
   ]
  },
  {
   "cell_type": "markdown",
   "metadata": {},
   "source": [
    "Looks pretty even on the year distribution as well."
   ]
  },
  {
   "cell_type": "code",
   "execution_count": 20,
   "metadata": {
    "ExecuteTime": {
     "end_time": "2020-02-23T05:33:18.852500Z",
     "start_time": "2020-02-23T05:33:16.428496Z"
    }
   },
   "outputs": [
    {
     "data": {
      "image/png": "[encoded data removed]",
      "text/plain": [
       "<Figure size 1152x504 with 2 Axes>"
      ]
     },
     "metadata": {
      "needs_background": "light"
     },
     "output_type": "display_data"
    }
   ],
   "source": [
    "plt.figure(figsize=(16, 7))\n",
    "\n",
    "plt.suptitle('Compare Song Length Distributions by Year')\n",
    "\n",
    "plt.subplot(121)\n",
    "sns.barplot(x=samp_df.year, y=samp_df.song_len)\n",
    "plt.xlabel('Year')\n",
    "plt.ylabel('Song Length (average)')\n",
    "plt.grid(axis='y')\n",
    "lim = plt.ylim()\n",
    "plt.title('Song Length by Year for Sample')\n",
    "\n",
    "plt.subplot(122)\n",
    "sns.barplot(x=df.year, y=df.song_len)\n",
    "plt.xlabel('Year')\n",
    "plt.ylabel('')\n",
    "plt.grid(axis='y')\n",
    "plt.ylim(lim)\n",
    "plt.title('Song Length by Year for Entire')\n",
    "\n",
    "plt.show()"
   ]
  },
  {
   "cell_type": "markdown",
   "metadata": {},
   "source": [
    "Pretty consistent, a little more volatile for sample (indicated by black bars on top of bars), but nearly the same."
   ]
  },
  {
   "cell_type": "code",
   "execution_count": 21,
   "metadata": {
    "ExecuteTime": {
     "end_time": "2020-02-23T05:34:05.114872Z",
     "start_time": "2020-02-23T05:34:02.089236Z"
    }
   },
   "outputs": [
    {
     "data": {
      "image/png": "[encoded data removed]",
      "text/plain": [
       "<Figure size 1152x504 with 2 Axes>"
      ]
     },
     "metadata": {
      "needs_background": "light"
     },
     "output_type": "display_data"
    }
   ],
   "source": [
    "order = samp_df.genre.unique().tolist()\n",
    "\n",
    "plt.figure(figsize=(16, 7))\n",
    "\n",
    "plt.suptitle('Compare Song Length Distributions by Genre')\n",
    "\n",
    "plt.subplot(121)\n",
    "sns.barplot(x=samp_df.genre, y=samp_df.song_len, order=order)\n",
    "plt.xlabel('Genre')\n",
    "plt.ylabel('Song Length (average)')\n",
    "plt.grid(axis='y')\n",
    "lim = plt.ylim()\n",
    "plt.title('Song Length by Genre for Sample')\n",
    "\n",
    "plt.subplot(122)\n",
    "sns.barplot(x=df.genre, y=df.song_len, order=order)\n",
    "plt.xlabel('Genre')\n",
    "plt.ylabel('')\n",
    "plt.grid(axis='y')\n",
    "plt.ylim(lim)\n",
    "plt.title('Song Length by Genre for Entire')\n",
    "\n",
    "plt.show()"
   ]
  },
  {
   "cell_type": "markdown",
   "metadata": {},
   "source": [
    "Again, almost identical, R&B for the sample is a little greater on average and Folk is a little less than average, but not by a significant margin."
   ]
  },
  {
   "cell_type": "markdown",
   "metadata": {},
   "source": [
    "With confidence in the sample, put it in a pickle for later use, before any text manipulation."
   ]
  },
  {
   "cell_type": "code",
   "execution_count": 22,
   "metadata": {
    "ExecuteTime": {
     "end_time": "2020-02-23T05:16:59.746615Z",
     "start_time": "2020-02-23T05:16:59.658594Z"
    },
    "scrolled": true
   },
   "outputs": [],
   "source": [
    "samp_df.to_pickle(r'C:\\Users\\philb\\Repos\\Thinkful_repo\\projects\\unsupervised_capstone\\pickle\\base_no_clean_sample.pkl')"
   ]
  },
  {
   "cell_type": "code",
   "execution_count": 23,
   "metadata": {
    "ExecuteTime": {
     "end_time": "2020-02-24T19:20:42.416752Z",
     "start_time": "2020-02-24T19:20:42.103541Z"
    }
   },
   "outputs": [],
   "source": [
    "samp_df = pd.read_pickle(r'C:\\Users\\philb\\Repos\\Thinkful_repo\\projects\\unsupervised_capstone\\pickle\\base_no_clean_sample.pkl')"
   ]
  },
  {
   "cell_type": "markdown",
   "metadata": {},
   "source": [
    "## Cleaning text"
   ]
  },
  {
   "cell_type": "markdown",
   "metadata": {},
   "source": [
    "The key here is to start simple!\n",
    "- Convert to lower case\n",
    "- Get rid of whitespace\n",
    "- Get rid of (most) punctuation\n",
    "- Get rid of numbers\n",
    "- Get rid of stop words"
   ]
  },
  {
   "cell_type": "markdown",
   "metadata": {},
   "source": [
    "### Round 1"
   ]
  },
  {
   "cell_type": "markdown",
   "metadata": {},
   "source": [
    "Create a generator to iterate through and inspect songs individually. (Useful for detecting potentially problematic strings or characters.) This will be used between iterations."
   ]
  },
  {
   "cell_type": "code",
   "execution_count": 24,
   "metadata": {
    "ExecuteTime": {
     "end_time": "2020-02-24T19:21:14.151794Z",
     "start_time": "2020-02-24T19:21:14.143794Z"
    }
   },
   "outputs": [],
   "source": [
    "def iter_songs(i, data):\n",
    "    '''A generator for a series of text to easily view song by song in scratchpad starting at a particular (iloc) location.'''\n",
    "    while True:\n",
    "        yield print('-----Song #' + str(i) + '-----' + '\\n' + data.iloc[i])\n",
    "        i += 1"
   ]
  },
  {
   "cell_type": "code",
   "execution_count": 25,
   "metadata": {
    "ExecuteTime": {
     "end_time": "2020-02-24T19:21:14.277825Z",
     "start_time": "2020-02-24T19:21:14.156792Z"
    }
   },
   "outputs": [],
   "source": [
    "simp_gen = iter_songs(0, samp_df.lyrics)"
   ]
  },
  {
   "cell_type": "markdown",
   "metadata": {},
   "source": [
    "Do first run of text cleaning. \n",
    "\n",
    "Really basic stuff here:\n",
    "1. **Lowercase** all characters\n",
    "2. Remove **whitespace**\n",
    "\n",
    "That's it!"
   ]
  },
  {
   "cell_type": "code",
   "execution_count": 26,
   "metadata": {
    "ExecuteTime": {
     "end_time": "2020-02-24T19:21:14.489878Z",
     "start_time": "2020-02-24T19:21:14.283825Z"
    }
   },
   "outputs": [],
   "source": [
    "def simple_clean(text):\n",
    "    '''Converts characters to lowercase, removes whitespace (split/join and strip)'''\n",
    "    text = text.lower()\n",
    "    text = ' '.join(text.split())\n",
    "    text = text.strip()\n",
    "    return text"
   ]
  },
  {
   "cell_type": "code",
   "execution_count": 27,
   "metadata": {
    "ExecuteTime": {
     "end_time": "2020-02-24T19:21:15.178179Z",
     "start_time": "2020-02-24T19:21:14.503890Z"
    }
   },
   "outputs": [],
   "source": [
    "samp_df['clean1'] = samp_df.lyrics.apply(simple_clean)"
   ]
  },
  {
   "cell_type": "code",
   "execution_count": 28,
   "metadata": {
    "ExecuteTime": {
     "end_time": "2020-02-24T19:21:15.200051Z",
     "start_time": "2020-02-24T19:21:15.183053Z"
    }
   },
   "outputs": [
    {
     "data": {
      "text/plain": [
       "130667    fluffle-o towel wrapped around your head fluffle-o stretched right across my bed fluffle-o, fluf...\n",
       "17978     i'm like hey, wassup, hello seen yo pretty ass soon as you came in the door i just wanna chill, ...\n",
       "53137     sunlight is not enough we could burn like a flame through the atmosphere yeah starlight, it's ca...\n",
       "64681     take my eyes burn down the sun how can you be so cold? you left me here all hope is gone where i...\n",
       "28237     everything is so good in the summer air just put behind you all the problems that we share look ...\n",
       "Name: clean1, dtype: object"
      ]
     },
     "execution_count": 28,
     "metadata": {},
     "output_type": "execute_result"
    }
   ],
   "source": [
    "samp_df.clean1.head()"
   ]
  },
  {
   "cell_type": "markdown",
   "metadata": {},
   "source": [
    "### Round 2"
   ]
  },
  {
   "cell_type": "markdown",
   "metadata": {},
   "source": [
    "Do another run of text cleaning starting with the result of the last clean (it is an iterative process).\n",
    "\n",
    "Things of note:\n",
    "1. **Repetition indication and non-lyric descriptive strings** like '[Chorus]', '[Verse]' and '[Artist]' or other non lyrical data are included in many of the lyrics - best to remove text contained and including brackets, where most of this is found\n",
    "2. Get rid of (most) **punctuation**, cause most of it won't be useful"
   ]
  },
  {
   "cell_type": "code",
   "execution_count": 29,
   "metadata": {
    "ExecuteTime": {
     "end_time": "2020-02-24T19:21:15.309082Z",
     "start_time": "2020-02-24T19:21:15.204054Z"
    }
   },
   "outputs": [],
   "source": [
    "def remove_special_strings(text):\n",
    "    '''Removes text within brackets, text leading to a ':' (usually indicates part of song in some fashion) and various punctuation.'''\n",
    "    text = re.sub('\\[[^\\]]*\\]', ' ', text) #removes strings starting with '[' and ending with ']' replace with space\n",
    "    text = re.sub('[(),.?!\\-\"*;/~]+', ' ', text) #removes lots of punctuation replace with space\n",
    "    text = re.sub('\\w*:\\w*', ' ', text) #removes ':' and all alphanumeric characters leading into ':' or directly following ':'\n",
    "    text = text.strip()\n",
    "    text = ' '.join(text.split())\n",
    "    return text"
   ]
  },
  {
   "cell_type": "code",
   "execution_count": 30,
   "metadata": {
    "ExecuteTime": {
     "end_time": "2020-02-24T19:21:18.039891Z",
     "start_time": "2020-02-24T19:21:15.317081Z"
    }
   },
   "outputs": [],
   "source": [
    "samp_df['clean2'] = samp_df.clean1.apply(remove_special_strings)"
   ]
  },
  {
   "cell_type": "code",
   "execution_count": 31,
   "metadata": {
    "ExecuteTime": {
     "end_time": "2020-02-24T19:21:18.057770Z",
     "start_time": "2020-02-24T19:21:18.044767Z"
    }
   },
   "outputs": [
    {
     "data": {
      "text/plain": [
       "130667    fluffle o towel wrapped around your head fluffle o stretched right across my bed fluffle o fluff...\n",
       "17978     i'm like hey wassup hello seen yo pretty ass soon as you came in the door i just wanna chill got...\n",
       "53137     sunlight is not enough we could burn like a flame through the atmosphere yeah starlight it's cal...\n",
       "64681     take my eyes burn down the sun how can you be so cold you left me here all hope is gone where is...\n",
       "28237     everything is so good in the summer air just put behind you all the problems that we share look ...\n",
       "Name: clean2, dtype: object"
      ]
     },
     "execution_count": 31,
     "metadata": {},
     "output_type": "execute_result"
    }
   ],
   "source": [
    "samp_df.clean2.head()"
   ]
  },
  {
   "cell_type": "code",
   "execution_count": 32,
   "metadata": {
    "ExecuteTime": {
     "end_time": "2020-02-24T19:21:18.222805Z",
     "start_time": "2020-02-24T19:21:18.065772Z"
    }
   },
   "outputs": [],
   "source": [
    "clean2_gen = iter_songs(0, samp_df.clean2)"
   ]
  },
  {
   "cell_type": "markdown",
   "metadata": {},
   "source": [
    "### Round 3"
   ]
  },
  {
   "cell_type": "markdown",
   "metadata": {},
   "source": [
    "For this round:\n",
    "1. The **ampersand** (**&**) character should be dealt with, and here it is generally used as an indication of the word 'and', so it should be replaced with that.\n",
    "2. Words ending with **single quotes** (**'**) as in, *sleepin'*, should be dealt with and converted to their correct form (e.g. sleepin' --> sleeping)\n",
    "3. Dealing with various **other cases of single quote** occurrences not including single quotes within words (e.g. **NOT** *i'm, it's, he's*)"
   ]
  },
  {
   "cell_type": "code",
   "execution_count": 33,
   "metadata": {
    "ExecuteTime": {
     "end_time": "2020-02-24T19:21:18.351799Z",
     "start_time": "2020-02-24T19:21:18.228799Z"
    }
   },
   "outputs": [],
   "source": [
    "def remove_special_strings2(text):\n",
    "    '''Replaces \"&\" with \"and\"; fixes words ending with \"in\\'\" with \"ing\"; and removes single quote from words ending with a single quote.'''\n",
    "    text = re.sub('&', ' and ', text) #replaces any ampersands with the word and with spaces around (to be split later)\n",
    "    text = text + ' ' #add space to the end of the string so next replace works even if last word\n",
    "    text = re.sub(\"(in')\\s\", 'ing ', text) #replaces all instances of words ending in \"in'\" with \"ing\"\n",
    "    text = re.sub(\"'+\\s\", ' ', text) #replaces all remaining text ending with a single quote with a space\n",
    "    text = re.sub(\"'{2,}\", ' ', text) #replaces any instances of single quotes that have 2 in a row or more\n",
    "    text = text.strip()\n",
    "    text = ' '.join(text.split())\n",
    "    return text"
   ]
  },
  {
   "cell_type": "code",
   "execution_count": 34,
   "metadata": {
    "ExecuteTime": {
     "end_time": "2020-02-24T19:21:19.557213Z",
     "start_time": "2020-02-24T19:21:18.357795Z"
    }
   },
   "outputs": [],
   "source": [
    "samp_df['clean3'] = samp_df.clean2.apply(remove_special_strings2)"
   ]
  },
  {
   "cell_type": "code",
   "execution_count": 35,
   "metadata": {
    "ExecuteTime": {
     "end_time": "2020-02-24T19:21:19.583096Z",
     "start_time": "2020-02-24T19:21:19.564084Z"
    }
   },
   "outputs": [
    {
     "data": {
      "text/plain": [
       "130667    fluffle o towel wrapped around your head fluffle o stretched right across my bed fluffle o fluff...\n",
       "17978     i'm like hey wassup hello seen yo pretty ass soon as you came in the door i just wanna chill got...\n",
       "53137     sunlight is not enough we could burn like a flame through the atmosphere yeah starlight it's cal...\n",
       "64681     take my eyes burn down the sun how can you be so cold you left me here all hope is gone where is...\n",
       "28237     everything is so good in the summer air just put behind you all the problems that we share look ...\n",
       "Name: clean3, dtype: object"
      ]
     },
     "execution_count": 35,
     "metadata": {},
     "output_type": "execute_result"
    }
   ],
   "source": [
    "samp_df.clean3.head()"
   ]
  },
  {
   "cell_type": "markdown",
   "metadata": {},
   "source": [
    "### Round 4"
   ]
  },
  {
   "cell_type": "markdown",
   "metadata": {},
   "source": [
    "Remove numbers and words containing numbers from the prior iteration."
   ]
  },
  {
   "cell_type": "code",
   "execution_count": 36,
   "metadata": {
    "ExecuteTime": {
     "end_time": "2020-02-24T19:21:19.693121Z",
     "start_time": "2020-02-24T19:21:19.591094Z"
    }
   },
   "outputs": [],
   "source": [
    "def remove_numbers(text):\n",
    "    '''Remove numbers and words containing numbers from a string.'''\n",
    "    text = re.sub('\\w*\\d\\w*', ' ', text) #remove numbers and words with numbers\n",
    "    text = text.strip()\n",
    "    text = ' '.join(text.split())\n",
    "    return text"
   ]
  },
  {
   "cell_type": "code",
   "execution_count": 37,
   "metadata": {
    "ExecuteTime": {
     "end_time": "2020-02-24T19:21:23.083952Z",
     "start_time": "2020-02-24T19:21:19.700122Z"
    }
   },
   "outputs": [],
   "source": [
    "samp_df['clean4'] = samp_df.clean3.apply(remove_numbers)"
   ]
  },
  {
   "cell_type": "code",
   "execution_count": 38,
   "metadata": {
    "ExecuteTime": {
     "end_time": "2020-02-24T19:21:23.113961Z",
     "start_time": "2020-02-24T19:21:23.088955Z"
    }
   },
   "outputs": [
    {
     "data": {
      "text/plain": [
       "130667    fluffle o towel wrapped around your head fluffle o stretched right across my bed fluffle o fluff...\n",
       "17978     i'm like hey wassup hello seen yo pretty ass soon as you came in the door i just wanna chill got...\n",
       "53137     sunlight is not enough we could burn like a flame through the atmosphere yeah starlight it's cal...\n",
       "64681     take my eyes burn down the sun how can you be so cold you left me here all hope is gone where is...\n",
       "28237     everything is so good in the summer air just put behind you all the problems that we share look ...\n",
       "Name: clean4, dtype: object"
      ]
     },
     "execution_count": 38,
     "metadata": {},
     "output_type": "execute_result"
    }
   ],
   "source": [
    "samp_df.clean4.head()"
   ]
  },
  {
   "cell_type": "code",
   "execution_count": 39,
   "metadata": {
    "ExecuteTime": {
     "end_time": "2020-02-24T19:21:23.253996Z",
     "start_time": "2020-02-24T19:21:23.118967Z"
    }
   },
   "outputs": [],
   "source": [
    "clean4_gen = iter_songs(0, samp_df.clean4)"
   ]
  },
  {
   "cell_type": "markdown",
   "metadata": {},
   "source": [
    "Things are looking good, definitely more that can be done, but this is a good baseline for beginning to explore the data here."
   ]
  },
  {
   "cell_type": "code",
   "execution_count": 40,
   "metadata": {
    "ExecuteTime": {
     "end_time": "2020-02-24T19:21:23.345016Z",
     "start_time": "2020-02-24T19:21:23.260006Z"
    }
   },
   "outputs": [],
   "source": [
    "clean_lyrics = samp_df.clean4"
   ]
  },
  {
   "cell_type": "markdown",
   "metadata": {},
   "source": [
    "## Exporting data (deliverables)"
   ]
  },
  {
   "cell_type": "markdown",
   "metadata": {},
   "source": [
    "### The Corpus (collection of texts)"
   ]
  },
  {
   "cell_type": "markdown",
   "metadata": {},
   "source": [
    "This is relatively easy because it was basically already done from the start, the specific corpus is from the samp_df before the cleaning was done, so that can be exported directly."
   ]
  },
  {
   "cell_type": "code",
   "execution_count": 41,
   "metadata": {
    "ExecuteTime": {
     "end_time": "2020-02-24T19:21:23.714049Z",
     "start_time": "2020-02-24T19:21:23.349026Z"
    }
   },
   "outputs": [],
   "source": [
    "corpus_df = samp_df.loc[:, 'song':'language']\n",
    "corpus_df.to_pickle(r'C:\\Users\\philb\\Repos\\Thinkful_repo\\projects\\unsupervised_capstone\\pickle\\corpus.pkl')"
   ]
  },
  {
   "cell_type": "markdown",
   "metadata": {},
   "source": [
    "### Document Term Matrix"
   ]
  },
  {
   "cell_type": "markdown",
   "metadata": {},
   "source": [
    "Easy to do with Scikit-learn's CountVectorizer!"
   ]
  },
  {
   "cell_type": "code",
   "execution_count": 42,
   "metadata": {
    "ExecuteTime": {
     "end_time": "2020-02-24T19:21:23.781066Z",
     "start_time": "2020-02-24T19:21:23.726063Z"
    }
   },
   "outputs": [],
   "source": [
    "stop_words = stopwords.words('english')\n",
    "countvectorizer = CountVectorizer(stop_words=stop_words)"
   ]
  },
  {
   "cell_type": "code",
   "execution_count": 43,
   "metadata": {
    "ExecuteTime": {
     "end_time": "2020-02-24T19:21:26.922993Z",
     "start_time": "2020-02-24T19:21:23.786070Z"
    }
   },
   "outputs": [],
   "source": [
    "cv_data = countvectorizer.fit_transform(clean_lyrics)"
   ]
  },
  {
   "cell_type": "code",
   "execution_count": 44,
   "metadata": {
    "ExecuteTime": {
     "end_time": "2020-02-24T19:21:28.014251Z",
     "start_time": "2020-02-24T19:21:26.926861Z"
    }
   },
   "outputs": [],
   "source": [
    "dtm_data = pd.DataFrame(cv_data.toarray(), index=clean_lyrics.index, columns=countvectorizer.get_feature_names())"
   ]
  },
  {
   "cell_type": "markdown",
   "metadata": {},
   "source": [
    "Pickle the Document Term Matrix (dtm_data), the countvectorizer, and the clean_lyrics."
   ]
  },
  {
   "cell_type": "code",
   "execution_count": 50,
   "metadata": {
    "ExecuteTime": {
     "end_time": "2020-02-24T19:21:28.609283Z",
     "start_time": "2020-02-24T19:21:28.017129Z"
    }
   },
   "outputs": [],
   "source": [
    "clean_lyrics.to_pickle(r'C:\\Users\\philb\\Repos\\Thinkful_repo\\projects\\unsupervised_capstone\\pickle\\clean_lyrics.pkl')\n",
    "pickle.dump(countvectorizer, open(r'C:\\Users\\philb\\Repos\\Thinkful_repo\\projects\\unsupervised_capstone\\pickle\\countvectorizer.pkl', 'wb'))"
   ]
  },
  {
   "cell_type": "code",
   "execution_count": 51,
   "metadata": {
    "ExecuteTime": {
     "end_time": "2020-02-24T19:22:48.795852Z",
     "start_time": "2020-02-24T19:21:28.613282Z"
    }
   },
   "outputs": [],
   "source": [
    "dtm_data.to_pickle(r'C:\\Users\\philb\\Repos\\Thinkful_repo\\projects\\unsupervised_capstone\\pickle\\doc_term_matrix.pkl')"
   ]
  }
 ],
 "metadata": {
  "kernelspec": {
   "display_name": "Python 3",
   "language": "python",
   "name": "python3"
  },
  "language_info": {
   "codemirror_mode": {
    "name": "ipython",
    "version": 3
   },
   "file_extension": ".py",
   "mimetype": "text/x-python",
   "name": "python",
   "nbconvert_exporter": "python",
   "pygments_lexer": "ipython3",
   "version": "3.7.6"
  },
  "toc": {
   "base_numbering": 1,
   "nav_menu": {
    "height": "88px",
    "width": "160px"
   },
   "number_sections": false,
   "sideBar": true,
   "skip_h1_title": false,
   "title_cell": "Table of Contents",
   "title_sidebar": "Contents",
   "toc_cell": false,
   "toc_position": {
    "height": "calc(100% - 180px)",
    "left": "10px",
    "top": "150px",
    "width": "165px"
   },
   "toc_section_display": true,
   "toc_window_display": false
  },
  "varInspector": {
   "cols": {
    "lenName": 16,
    "lenType": 16,
    "lenVar": 40
   },
   "kernels_config": {
    "python": {
     "delete_cmd_postfix": "",
     "delete_cmd_prefix": "del ",
     "library": "var_list.py",
     "varRefreshCmd": "print(var_dic_list())"
    },
    "r": {
     "delete_cmd_postfix": ") ",
     "delete_cmd_prefix": "rm(",
     "library": "var_list.r",
     "varRefreshCmd": "cat(var_dic_list()) "
    }
   },
   "oldHeight": 122,
   "position": {
    "height": "448px",
    "left": "1014px",
    "right": "20px",
    "top": "117px",
    "width": "250px"
   },
   "types_to_exclude": [
    "module",
    "function",
    "builtin_function_or_method",
    "instance",
    "_Feature"
   ],
   "varInspector_section_display": "block",
   "window_display": false
  }
 },
 "nbformat": 4,
 "nbformat_minor": 4
}
