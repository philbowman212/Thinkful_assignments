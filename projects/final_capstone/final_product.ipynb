{
 "cells": [
  {
   "cell_type": "markdown",
   "metadata": {
    "ExecuteTime": {
     "end_time": "2020-03-31T16:01:42.298653Z",
     "start_time": "2020-03-31T16:01:42.288651Z"
    }
   },
   "source": [
    "<h1 align='center'>Final Capstone: <i>Betcha Can't Guess What I Watched</i></h1>\n",
    "<h2 align='center'>Philip Bowman</h2>\n",
    "<h1 align='center'><u>Final Product</u></h1>"
   ]
  },
  {
   "cell_type": "markdown",
   "metadata": {},
   "source": [
    "This is the final selected model and its implementation for demo purposes."
   ]
  },
  {
   "cell_type": "code",
   "execution_count": 1,
   "metadata": {
    "ExecuteTime": {
     "end_time": "2020-03-31T19:02:43.891444Z",
     "start_time": "2020-03-31T19:02:39.438216Z"
    }
   },
   "outputs": [],
   "source": [
    "import os\n",
    "from os.path import join\n",
    "import pandas as pd\n",
    "import numpy as np\n",
    "import time\n",
    "from IPython.display import clear_output\n",
    "from sklearn.feature_extraction.text import CountVectorizer\n",
    "from sklearn.metrics.pairwise import cosine_similarity\n",
    "from tmdbv3api import Movie, TMDb"
   ]
  },
  {
   "cell_type": "code",
   "execution_count": 2,
   "metadata": {
    "ExecuteTime": {
     "end_time": "2020-03-31T19:02:43.902314Z",
     "start_time": "2020-03-31T19:02:43.896314Z"
    }
   },
   "outputs": [],
   "source": [
    "movies_dir = r'C:\\Users\\philb\\Datasets\\movies_post_exploration'\n",
    "movies_file = 'movies.pkl'\n",
    "unpop_file = 'less_popular_movies.pkl'\n",
    "pool_file = 'recommendation_pool.pkl' #won't need this until later"
   ]
  },
  {
   "cell_type": "code",
   "execution_count": 3,
   "metadata": {
    "ExecuteTime": {
     "end_time": "2020-03-31T19:02:58.222029Z",
     "start_time": "2020-03-31T19:02:43.911316Z"
    }
   },
   "outputs": [],
   "source": [
    "#this cell takes all the textual features in the movies dataframe and puts it altogether into the movies_strings variable \n",
    "\n",
    "movies = pd.read_pickle(join(movies_dir, movies_file))\n",
    "unpop_movies_ids = pd.read_pickle(join(movies_dir, unpop_file)).index\n",
    "\n",
    "text_features = ['spoken_languages', 'genres', 'overview', 'tagline', 'keywords', 'production_companies', 'acting_top_5', 'director', 'writers']\n",
    "list_features = ['spoken_languages', 'genres', 'keywords', 'production_companies', 'acting_top_5', 'director', 'writers']\n",
    "\n",
    "movies_features = movies[text_features].copy()\n",
    "movies_features = movies_features.fillna(' ')\n",
    "\n",
    "def unpack_list(x):\n",
    "    string_rep = ' '\n",
    "    for item in x:\n",
    "        string_rep = string_rep + str(item) + ' '\n",
    "    return string_rep\n",
    "\n",
    "for column in list_features:\n",
    "    movies_features[column] = movies_features[column].apply(unpack_list)\n",
    "    \n",
    "add_space_columns = [column for column in movies_features.columns if column not in list_features]\n",
    "\n",
    "for column in add_space_columns:\n",
    "    movies_features[column] = movies_features[column].apply(lambda x: x + ' ')\n",
    "    \n",
    "movies_text = movies_features.sum(axis=1)\n",
    "movies_titles = movies.title\n",
    "pop_movies_indicies = [index for index in movies_titles.index if index not in unpop_movies_ids]\n",
    "pop_movies = movies_titles[pop_movies_indicies]\n",
    "\n",
    "del movies, text_features, list_features, movies_features, add_space_columns, unpop_movies_ids\n",
    "\n",
    "rec_pool = pd.read_pickle(join(movies_dir, pool_file))\n",
    "rec_idxs = [movies_titles.index.get_loc(movie_id) for movie_id in rec_pool.index]"
   ]
  },
  {
   "cell_type": "code",
   "execution_count": 4,
   "metadata": {
    "ExecuteTime": {
     "end_time": "2020-03-31T19:03:36.217357Z",
     "start_time": "2020-03-31T19:02:58.227900Z"
    }
   },
   "outputs": [],
   "source": [
    "def cosine_pipe(text_docs, feature_space):\n",
    "    cv = CountVectorizer(max_features=feature_space, stop_words='english')\n",
    "    feature_csr = cv.fit_transform(text_docs)\n",
    "    all_vars = (cv, feature_csr)\n",
    "    return all_vars\n",
    "\n",
    "tokenizer, movie_vectors = cosine_pipe(movies_text, None)\n",
    "rec_vectors = movie_vectors[rec_idxs]"
   ]
  },
  {
   "cell_type": "code",
   "execution_count": 5,
   "metadata": {
    "ExecuteTime": {
     "end_time": "2020-03-31T19:03:36.237360Z",
     "start_time": "2020-03-31T19:03:36.225360Z"
    }
   },
   "outputs": [],
   "source": [
    "API_KEY_PATH = r'C:\\Users\\philb\\Datasets\\API_KEY.txt'\n",
    "with open(API_KEY_PATH) as f:\n",
    "    API_KEY = f.readline()\n",
    "f.close()"
   ]
  },
  {
   "cell_type": "code",
   "execution_count": 6,
   "metadata": {
    "ExecuteTime": {
     "end_time": "2020-03-31T19:03:36.252366Z",
     "start_time": "2020-03-31T19:03:36.243361Z"
    }
   },
   "outputs": [],
   "source": [
    "tmdb = TMDb()\n",
    "movie = Movie()\n",
    "tmdb.api_key = API_KEY"
   ]
  },
  {
   "cell_type": "code",
   "execution_count": 9,
   "metadata": {
    "ExecuteTime": {
     "end_time": "2020-03-31T19:15:31.905329Z",
     "start_time": "2020-03-31T19:15:31.875320Z"
    }
   },
   "outputs": [],
   "source": [
    "def get_id(search_term):\n",
    "    print('------------')\n",
    "    print('MOVIE SEARCH')\n",
    "    print('------------')\n",
    "    try:\n",
    "        page1 = [(i, movie) for i, movie in enumerate(movie.search(search_term))]\n",
    "        for tup in page1:\n",
    "            print(tup[0], tup[1])\n",
    "        time.sleep(.01)\n",
    "        movie_sel = int(input('Enter index # of selected movie: '))\n",
    "        movie_id = page1[movie_sel][1].id\n",
    "        clear_output(wait=True)\n",
    "        return movie_id\n",
    "    except:\n",
    "        print('No movies were found using that query.')\n",
    "\n",
    "def top_X_obscure(movie_id, x_sim=10):\n",
    "    cos_sim = cosine_similarity(rec_vectors, movie_vectors[movies_titles.index.get_loc(movie_id)])\n",
    "    if movie_id in rec_idxs:\n",
    "        top_X_idx = pd.DataFrame(cos_sim, index=rec_pool.index).loc[:, 0].sort_values(ascending=False).iloc[1:(x_sim+1)].index\n",
    "    elif movie_id not in rec_idxs:\n",
    "        top_X_idx = pd.DataFrame(cos_sim, index=rec_pool.index).loc[:, 0].sort_values(ascending=False).iloc[0:(x_sim)].index\n",
    "    print(f'Top {x_sim} Obscure Movies Similar to {movies_titles.loc[movie_id]}')\n",
    "    movie_links = ['https://www.themoviedb.org/movie/'+str(i) for i in top_X_idx]\n",
    "    movie_df = pd.DataFrame(movies_titles.loc[top_X_idx])\n",
    "    movie_df['links'] = movie_links\n",
    "    print(movie_df.to_markdown())\n",
    "        \n",
    "        \n",
    "def user_query(user_input, x_sim=10):\n",
    "    vector = tokenizer.transform([user_input])\n",
    "    cos_sim = cosine_similarity(rec_vectors, vector)\n",
    "    top_X_idx = pd.DataFrame(cos_sim, index=rec_pool.index).loc[:, 0].sort_values(ascending=False).iloc[0:(x_sim)].index\n",
    "    print(f'Top {x_sim} Obscure Movies Similar to user search: \"{user_input}\"')\n",
    "    movie_links = ['https://www.themoviedb.org/movie/'+str(i) for i in top_X_idx]\n",
    "    movie_df = pd.DataFrame(movies_titles.loc[top_X_idx])\n",
    "    movie_df['links'] = movie_links\n",
    "    print(movie_df.to_markdown())\n",
    "\n",
    "def get_recommendations(query, kind='movie', x_sim=10):\n",
    "    if kind == 'movie':\n",
    "        top_X_obscure(get_id(query), x_sim)\n",
    "    elif kind == 'query':\n",
    "        user_query(query, x_sim)"
   ]
  },
  {
   "cell_type": "code",
   "execution_count": 10,
   "metadata": {
    "ExecuteTime": {
     "end_time": "2020-03-31T19:15:39.999833Z",
     "start_time": "2020-03-31T19:15:33.316321Z"
    }
   },
   "outputs": [
    {
     "name": "stdout",
     "output_type": "stream",
     "text": [
      "Top 10 Obscure Movies Similar to The Lord of the Rings: The Fellowship of the Ring\n",
      "|    id | title                                         | links                                  |\n",
      "|------:|:----------------------------------------------|:---------------------------------------|\n",
      "|  7234 | Wizards of the Lost Kingdom                   | https://www.themoviedb.org/movie/7234  |\n",
      "|  2274 | The Seeker: The Dark Is Rising                | https://www.themoviedb.org/movie/2274  |\n",
      "| 24993 | Kickboxer 2:  The Road Back                   | https://www.themoviedb.org/movie/24993 |\n",
      "|  9964 | Bad Taste                                     | https://www.themoviedb.org/movie/9964  |\n",
      "| 87689 | The Dragon Ring                               | https://www.themoviedb.org/movie/87689 |\n",
      "|  1362 | The Hobbit                                    | https://www.themoviedb.org/movie/1362  |\n",
      "| 14034 | What's the Worst That Could Happen?           | https://www.themoviedb.org/movie/14034 |\n",
      "| 11188 | Ring of the Nibelungs                         | https://www.themoviedb.org/movie/11188 |\n",
      "| 12129 | Herbie Goes Bananas                           | https://www.themoviedb.org/movie/12129 |\n",
      "| 82864 | King Kong: Peter Jackson's Production Diaries | https://www.themoviedb.org/movie/82864 |\n"
     ]
    }
   ],
   "source": [
    "get_recommendations('lord of the rings', kind='movie')"
   ]
  }
 ],
 "metadata": {
  "kernelspec": {
   "display_name": "Python 3",
   "language": "python",
   "name": "python3"
  },
  "language_info": {
   "codemirror_mode": {
    "name": "ipython",
    "version": 3
   },
   "file_extension": ".py",
   "mimetype": "text/x-python",
   "name": "python",
   "nbconvert_exporter": "python",
   "pygments_lexer": "ipython3",
   "version": "3.6.10"
  }
 },
 "nbformat": 4,
 "nbformat_minor": 4
}
