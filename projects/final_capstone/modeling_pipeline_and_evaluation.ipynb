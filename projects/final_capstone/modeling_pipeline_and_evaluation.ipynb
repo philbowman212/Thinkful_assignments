{
 "cells": [
  {
   "cell_type": "markdown",
   "metadata": {
    "ExecuteTime": {
     "end_time": "2020-03-30T04:08:15.670241Z",
     "start_time": "2020-03-30T04:08:15.660236Z"
    }
   },
   "source": [
    "<h1 align='center'>Final Capstone: <i>Betcha Can't Guess What I Watched</i></h1>\n",
    "<h2 align='center'>Philip Bowman</h2>\n",
    "<h1 align='center'>Modeling Pipeline and Evaluation</h1>"
   ]
  },
  {
   "cell_type": "markdown",
   "metadata": {},
   "source": [
    "## Overview:\n",
    "Now that the movies and variables viable for use in this project have been identified. It is now time to create some models with the goal to find one that will appropriately identify movies similar to others, then on top of that, limit the responses of that model to those movies that have been deemed *obscure* by the definition and limitations made in the [Data Wrangling and Exploration](https://github.com/philbowman212/Thinkful_repo/blob/master/projects/final_capstone/data_wrangling_and_exploration.ipynb) notebook. Ultimately, the steps taken to go from the beginning to end with regards to the model will be put into a pipeline that can be called in one function.\n",
    "\n",
    "The prospective methods that could be used in a content recommender such as this are essentially endless. There are countless ways you could go about tokenizing text and numerous techniques when it comes to selecting corpus stop words and there's also the rules of the language itself. This project's intention is not to jump into the deep end of Natural Language Processing (NLP), but because any model's success is inherently connected to the textual data, it is important to take care when making decisions based on the text. For the most part, simple solutions that work are probably better than overcomplicated ones that are hard to explain. The goal here is to find a relatively simple solution by trying a few different methods and tuning each to find their \"best\" results:\n",
    "- Count vectorizer in conjunction with cosine similarity (the simplest)\n",
    "- Latent Dirichlet allocation in conjunction with cosine similarity (relatively simple with the added step of reducing dimensions to their latent topics first)\n",
    "- doc2vec (the most sophisticated of the three options presented, but also the most complicated)\n",
    "\n",
    "Without further ado, onto the count vectorizer method.\n",
    "\n",
    "***This product uses the TMDb API but is not endorsed or certified by TMDb.***\n",
    "\n",
    "<img src=\"data:image/svg+xml;base64,PHN2ZyB4bWxucz0iaHR0cDovL3d3dy53My5vcmcvMjAwMC9zdmciIHhtbG5zOnhsaW5rPSJodHRw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%0D%0AZz48L2c+PC9zdmc+\"\n",
    "width=\"100\" height=\"50\" align='left'>"
   ]
  },
  {
   "cell_type": "markdown",
   "metadata": {},
   "source": [
    "## 1. Count Vectorizer and Cosine Similarity Method"
   ]
  },
  {
   "cell_type": "markdown",
   "metadata": {},
   "source": [
    "Some quick housekeeping first, the data actually has to be pulled in and limited to the relevant features (the text data)."
   ]
  },
  {
   "cell_type": "code",
   "execution_count": 9,
   "metadata": {
    "ExecuteTime": {
     "end_time": "2020-03-31T16:06:01.782295Z",
     "start_time": "2020-03-31T16:06:01.772320Z"
    }
   },
   "outputs": [],
   "source": [
    "import os\n",
    "from os.path import join\n",
    "import pandas as pd\n",
    "import numpy as np\n",
    "import time\n",
    "from datetime import timedelta\n",
    "from time import asctime\n",
    "from IPython.display import clear_output\n",
    "import pickle"
   ]
  },
  {
   "cell_type": "code",
   "execution_count": 2,
   "metadata": {
    "ExecuteTime": {
     "end_time": "2020-03-31T16:04:03.379437Z",
     "start_time": "2020-03-31T16:04:03.370437Z"
    }
   },
   "outputs": [],
   "source": [
    "movies_dir = r'C:\\Users\\philb\\Datasets\\movies_post_exploration'\n",
    "movies_file = 'movies.pkl'\n",
    "unpop_file = 'less_popular_movies.pkl'\n",
    "pool_file = 'recommendation_pool.pkl' #won't need this until later"
   ]
  },
  {
   "cell_type": "code",
   "execution_count": 3,
   "metadata": {
    "ExecuteTime": {
     "end_time": "2020-03-31T16:04:34.263104Z",
     "start_time": "2020-03-31T16:04:23.824380Z"
    }
   },
   "outputs": [],
   "source": [
    "#this cell takes all the textual features in the movies dataframe and puts it altogether into the movies_strings variable \n",
    "\n",
    "movies = pd.read_pickle(join(movies_dir, movies_file))\n",
    "unpop_movies_ids = pd.read_pickle(join(movies_dir, unpop_file)).index\n",
    "\n",
    "text_features = ['spoken_languages', 'genres', 'overview', 'tagline', 'keywords', 'production_companies', 'acting_top_5', 'director', 'writers']\n",
    "list_features = ['spoken_languages', 'genres', 'keywords', 'production_companies', 'acting_top_5', 'director', 'writers']\n",
    "\n",
    "movies_features = movies[text_features].copy()\n",
    "movies_features = movies_features.fillna(' ')\n",
    "\n",
    "def unpack_list(x):\n",
    "    string_rep = ' '\n",
    "    for item in x:\n",
    "        string_rep = string_rep + str(item) + ' '\n",
    "    return string_rep\n",
    "\n",
    "for column in list_features:\n",
    "    movies_features[column] = movies_features[column].apply(unpack_list)\n",
    "    \n",
    "add_space_columns = [column for column in movies_features.columns if column not in list_features]\n",
    "\n",
    "for column in add_space_columns:\n",
    "    movies_features[column] = movies_features[column].apply(lambda x: x + ' ')\n",
    "    \n",
    "movies_text = movies_features.sum(axis=1)\n",
    "movies_titles = movies.title\n",
    "pop_movies_indicies = [index for index in movies_titles.index if index not in unpop_movies_ids]\n",
    "pop_movies = movies_titles[pop_movies_indicies]\n",
    "\n",
    "del movies, text_features, list_features, movies_features, add_space_columns, unpop_movies_ids"
   ]
  },
  {
   "cell_type": "markdown",
   "metadata": {},
   "source": [
    "All the potential model features are now all combined in `movies_text`. For simplicity's sake the first attempt will be done with no cleaning whatsoever. This is going to be a very sparse representation of the data (as most of the feature vectors will tend to be). But it should give a decent baseline for what should be expected moving forward. In other words, this is one of the most simple solutions possible and it's likely it will not perform very well. For this particular method (count vectorizer + cosine similarity), the best way to verify the results is to actually check some similarities and inspect their accuracy. This is where my domain knowledge comes into use (I've watched a decent amount of movies and I've often been told I should get into movie criticism/reviewing). Obviously, the results will be quite subjective and my knowledge of this industry is far from comprehensive, but you use what you've got, right?"
   ]
  },
  {
   "cell_type": "code",
   "execution_count": 4,
   "metadata": {
    "ExecuteTime": {
     "end_time": "2020-03-31T16:04:42.747027Z",
     "start_time": "2020-03-31T16:04:40.820383Z"
    }
   },
   "outputs": [],
   "source": [
    "from sklearn.feature_extraction.text import CountVectorizer\n",
    "from sklearn.metrics.pairwise import cosine_similarity"
   ]
  },
  {
   "cell_type": "markdown",
   "metadata": {},
   "source": [
    "Since there are way too many unique words in this corpus only the top 2500 will be considered, also English stop words will be removed as they won't add much value to the differences between movies."
   ]
  },
  {
   "cell_type": "code",
   "execution_count": 79,
   "metadata": {
    "ExecuteTime": {
     "end_time": "2020-03-30T20:56:31.898675Z",
     "start_time": "2020-03-30T20:56:31.889671Z"
    }
   },
   "outputs": [],
   "source": [
    "cv = CountVectorizer(max_features=2500, stop_words='english')"
   ]
  },
  {
   "cell_type": "code",
   "execution_count": 81,
   "metadata": {
    "ExecuteTime": {
     "end_time": "2020-03-30T20:57:46.609125Z",
     "start_time": "2020-03-30T20:57:20.453464Z"
    }
   },
   "outputs": [],
   "source": [
    "feature_csr = cv.fit_transform(movies_text)"
   ]
  },
  {
   "cell_type": "code",
   "execution_count": 92,
   "metadata": {
    "ExecuteTime": {
     "end_time": "2020-03-30T21:01:56.121096Z",
     "start_time": "2020-03-30T21:01:53.841519Z"
    }
   },
   "outputs": [],
   "source": [
    "feature_df = pd.DataFrame(feature_csr.todense(), index=movies_text.index)"
   ]
  },
  {
   "cell_type": "markdown",
   "metadata": {},
   "source": [
    "The model in this case, is essentially the cosine simliarity calculation (that is the angle similarity) between the feature vectors. Now, with 170000 films with 2500 vectors a piece, in order to create the similarity matrix and store it for each movie, it would require a pretty large space to store. So, in order to test the ability of this model, it actually makes sense to cherry pick a few movies and see how they perform in general (before the obscurity filter). That way, this method in this vector context can be reviewed without requiring a ton of storage space."
   ]
  },
  {
   "cell_type": "code",
   "execution_count": 104,
   "metadata": {
    "ExecuteTime": {
     "end_time": "2020-03-30T21:12:12.694589Z",
     "start_time": "2020-03-30T21:12:12.678583Z"
    }
   },
   "outputs": [
    {
     "data": {
      "text/plain": [
       "id\n",
       "11            Star Wars\n",
       "12         Finding Nemo\n",
       "13         Forrest Gump\n",
       "14      American Beauty\n",
       "18    The Fifth Element\n",
       "Name: title, dtype: object"
      ]
     },
     "execution_count": 104,
     "metadata": {},
     "output_type": "execute_result"
    }
   ],
   "source": [
    "pop_movies.head()"
   ]
  },
  {
   "cell_type": "markdown",
   "metadata": {},
   "source": [
    "This actually looks like a decent list of movies to look into. Gives a sample of pretty different movies."
   ]
  },
  {
   "cell_type": "code",
   "execution_count": 171,
   "metadata": {
    "ExecuteTime": {
     "end_time": "2020-03-30T21:50:29.523041Z",
     "start_time": "2020-03-30T21:50:29.513032Z"
    }
   },
   "outputs": [],
   "source": [
    "def top_10_similar(movie_id):\n",
    "    cos_sim = cosine_similarity(feature_csr, feature_df.loc[movie_id].values.reshape(1,-1))\n",
    "    top_10_idx = pd.DataFrame(cos_sim, index=feature_df.index).loc[:, 0].sort_values(ascending=False).iloc[1:11].index\n",
    "    print(f'Top 10 Movies Similar to {movies_titles.loc[movie_id]}')\n",
    "    return movies_titles.loc[top_10_idx]"
   ]
  },
  {
   "cell_type": "code",
   "execution_count": 172,
   "metadata": {
    "ExecuteTime": {
     "end_time": "2020-03-30T21:50:30.263222Z",
     "start_time": "2020-03-30T21:50:30.017162Z"
    }
   },
   "outputs": [
    {
     "name": "stdout",
     "output_type": "stream",
     "text": [
      "Top 10 Movies Similar to Star Wars\n"
     ]
    },
    {
     "data": {
      "text/plain": [
       "id\n",
       "1892                                Return of the Jedi\n",
       "74849                    The Star Wars Holiday Special\n",
       "1895      Star Wars: Episode III - Revenge of the Sith\n",
       "140607                    Star Wars: The Force Awakens\n",
       "1891                           The Empire Strikes Back\n",
       "1893         Star Wars: Episode I - The Phantom Menace\n",
       "1894      Star Wars: Episode II - Attack of the Clones\n",
       "51686          Space Battleship Yamato: The New Voyage\n",
       "9255                              Hot Shots! Part Deux\n",
       "567097                             Star wars: Goretech\n",
       "Name: title, dtype: object"
      ]
     },
     "execution_count": 172,
     "metadata": {},
     "output_type": "execute_result"
    }
   ],
   "source": [
    "top_10_similar(11)"
   ]
  },
  {
   "cell_type": "markdown",
   "metadata": {},
   "source": [
    "This looks not terrible, actually. But Star Wars may be too easy of a test as the descriptions are probably very similar to one another (not to mention George Lucas probably appearing all over the place)."
   ]
  },
  {
   "cell_type": "code",
   "execution_count": 173,
   "metadata": {
    "ExecuteTime": {
     "end_time": "2020-03-30T21:50:36.640277Z",
     "start_time": "2020-03-30T21:50:36.348206Z"
    }
   },
   "outputs": [
    {
     "name": "stdout",
     "output_type": "stream",
     "text": [
      "Top 10 Movies Similar to Finding Nemo\n"
     ]
    },
    {
     "data": {
      "text/plain": [
       "id\n",
       "13205                               Bambi II\n",
       "45791     When Did You Last See Your Father?\n",
       "187585                         Ramen Samurai\n",
       "151403                   La maison de Himiko\n",
       "371642                    The Rogue Stallion\n",
       "475594                        Father and Son\n",
       "535624                               One Son\n",
       "468813                       My Father Iqbal\n",
       "418272                       A Boy Called Po\n",
       "108954              Postmen in the Mountains\n",
       "Name: title, dtype: object"
      ]
     },
     "execution_count": 173,
     "metadata": {},
     "output_type": "execute_result"
    }
   ],
   "source": [
    "top_10_similar(12)"
   ]
  },
  {
   "cell_type": "markdown",
   "metadata": {},
   "source": [
    "Definitely looks like it's picking up on the father/son information likely found in the overview and perhaps keywords/tagline for all these movies. But is this too simple?"
   ]
  },
  {
   "cell_type": "code",
   "execution_count": 174,
   "metadata": {
    "ExecuteTime": {
     "end_time": "2020-03-30T21:50:47.108236Z",
     "start_time": "2020-03-30T21:50:46.870175Z"
    }
   },
   "outputs": [
    {
     "name": "stdout",
     "output_type": "stream",
     "text": [
      "Top 10 Movies Similar to Forrest Gump\n"
     ]
    },
    {
     "data": {
      "text/plain": [
       "id\n",
       "205065                  Land of Sorrows\n",
       "272721                    Hicran Gecesi\n",
       "11947               Emil and the Piglet\n",
       "382717                         Sanam Re\n",
       "5177                         Dark Horse\n",
       "688       The Bridges of Madison County\n",
       "357854                        Aishwarya\n",
       "608124                         Chhalawa\n",
       "24684                      An Education\n",
       "232420                          Twinkle\n",
       "Name: title, dtype: object"
      ]
     },
     "execution_count": 174,
     "metadata": {},
     "output_type": "execute_result"
    }
   ],
   "source": [
    "top_10_similar(13)"
   ]
  },
  {
   "cell_type": "markdown",
   "metadata": {},
   "source": [
    "So after digging into these, the [top pick](https://www.themoviedb.org/movie/205065) appears to be a movie about a family during the Vietnam war (which probably isn't too far off in topic). [Hicran Gecesi](themoviedb.org/movie/272721-hicran-gecesi) is a very obscure pick which appears to be about a love triangle. [Emil and the Piglet](https://www.themoviedb.org/movie/11947) appears to veer off in an interesting, unexpected direction. [An Education](https://www.themoviedb.org/movie/24684) is a love story where the woman's name is Jenny. So definitely some interesting picks, but definitely far from perfect."
   ]
  },
  {
   "cell_type": "code",
   "execution_count": 175,
   "metadata": {
    "ExecuteTime": {
     "end_time": "2020-03-30T22:00:55.922587Z",
     "start_time": "2020-03-30T22:00:55.646522Z"
    }
   },
   "outputs": [
    {
     "name": "stdout",
     "output_type": "stream",
     "text": [
      "Top 10 Movies Similar to American Beauty\n"
     ]
    },
    {
     "data": {
      "text/plain": [
       "id\n",
       "11446     Welcome to the Dollhouse\n",
       "31146             Box of Moonlight\n",
       "486269      Under the Eiffel Tower\n",
       "3              Shadows in Paradise\n",
       "59210                   The Mother\n",
       "152484          Oldies but Goldies\n",
       "224917               Dear Sidewalk\n",
       "531951         I Made This For You\n",
       "436245                      Daphne\n",
       "502061                  Early Fall\n",
       "Name: title, dtype: object"
      ]
     },
     "execution_count": 175,
     "metadata": {},
     "output_type": "execute_result"
    }
   ],
   "source": [
    "top_10_similar(14)"
   ]
  },
  {
   "cell_type": "markdown",
   "metadata": {},
   "source": [
    "[Welcome to the Dollhouse](https://www.themoviedb.org/movie/11446) looks to be quite similar in vein to American Beauty, though I haven't seen it. [Box of Moonlight](https://www.themoviedb.org/movie/31146) also looks to be loosely connected as it revolves about a man having a mid-life crisis. [Under the Eiffel Tower](https://www.themoviedb.org/movie/486269) appears to be another movie connected to a man having a mid-life crisis. So this is definitely in the right alley."
   ]
  },
  {
   "cell_type": "code",
   "execution_count": 176,
   "metadata": {
    "ExecuteTime": {
     "end_time": "2020-03-30T22:07:34.724033Z",
     "start_time": "2020-03-30T22:07:34.450962Z"
    }
   },
   "outputs": [
    {
     "name": "stdout",
     "output_type": "stream",
     "text": [
      "Top 10 Movies Similar to The Fifth Element\n"
     ]
    },
    {
     "data": {
      "text/plain": [
       "id\n",
       "181808                       Star Wars: The Last Jedi\n",
       "15493                   Star Wreck: In the Pirkinning\n",
       "14460                         Battle Beyond the Stars\n",
       "13836                          Race to Witch Mountain\n",
       "339964    Valerian and the City of a Thousand Planets\n",
       "563                                 Starship Troopers\n",
       "44957      10,000 A.D.: The Legend of the Black Pearl\n",
       "9278                                         Freejack\n",
       "32064                               The Time Guardian\n",
       "13475                                       Star Trek\n",
       "Name: title, dtype: object"
      ]
     },
     "execution_count": 176,
     "metadata": {},
     "output_type": "execute_result"
    }
   ],
   "source": [
    "top_10_similar(18)"
   ]
  },
  {
   "cell_type": "markdown",
   "metadata": {},
   "source": [
    "These recommendations seem to be pretty accurate as well. In all, these really aren't terrible recommendations based on the eye test.\n",
    "\n",
    "It appears that this super-simple system actually works relatively well by picking up on the main keywords found throughout the corpus. Is it possible to improve this system? Perhaps by simply doubling the feature space it will be able to pick up on more minute similarities between movies? The pipeline for this model is also extremely simple."
   ]
  },
  {
   "cell_type": "code",
   "execution_count": 6,
   "metadata": {
    "ExecuteTime": {
     "end_time": "2020-03-31T16:05:13.377376Z",
     "start_time": "2020-03-31T16:05:13.364369Z"
    }
   },
   "outputs": [],
   "source": [
    "def cosine_pipe(text_docs, feature_space):\n",
    "    cv = CountVectorizer(max_features=feature_space, stop_words='english')\n",
    "    feature_csr = cv.fit_transform(text_docs)\n",
    "    all_vars = (cv, feature_csr)\n",
    "    return all_vars\n",
    "\n",
    "def top_X_pipe(movie_id, pipe_output, x_sim):\n",
    "    cos_sim = cosine_similarity(pipe_output[1], pipe_output[1][movies_titles.index.get_loc(movie_id)])\n",
    "    top_X_idx = pd.DataFrame(cos_sim, index=movies_titles.index).loc[:, 0].sort_values(ascending=False).iloc[1:(x_sim+1)].index\n",
    "    print(f'Top {x_sim} Movies Similar to {movies_titles.loc[movie_id]}')\n",
    "    return movies_titles.loc[top_X_idx]"
   ]
  },
  {
   "cell_type": "code",
   "execution_count": 195,
   "metadata": {
    "ExecuteTime": {
     "end_time": "2020-03-30T22:40:39.333435Z",
     "start_time": "2020-03-30T22:40:13.227851Z"
    }
   },
   "outputs": [],
   "source": [
    "cosine_5000_features = cosine_pipe(movies_text, 5000)"
   ]
  },
  {
   "cell_type": "code",
   "execution_count": 197,
   "metadata": {
    "ExecuteTime": {
     "end_time": "2020-03-30T22:41:13.986925Z",
     "start_time": "2020-03-30T22:41:13.698856Z"
    }
   },
   "outputs": [
    {
     "name": "stdout",
     "output_type": "stream",
     "text": [
      "Top 10 Movies Similar to Finding Nemo\n"
     ]
    },
    {
     "data": {
      "text/plain": [
       "id\n",
       "13205                               Bambi II\n",
       "371642                    The Rogue Stallion\n",
       "45791     When Did You Last See Your Father?\n",
       "151403                   La maison de Himiko\n",
       "187585                         Ramen Samurai\n",
       "475594                        Father and Son\n",
       "398362                      Izzie's Way Home\n",
       "410363                         Father's Acre\n",
       "108954              Postmen in the Mountains\n",
       "535624                               One Son\n",
       "Name: title, dtype: object"
      ]
     },
     "execution_count": 197,
     "metadata": {},
     "output_type": "execute_result"
    }
   ],
   "source": [
    "top_X_pipe(12, cosine_5000_features, 10)"
   ]
  },
  {
   "cell_type": "code",
   "execution_count": 206,
   "metadata": {
    "ExecuteTime": {
     "end_time": "2020-03-30T22:46:49.572875Z",
     "start_time": "2020-03-30T22:46:47.935465Z"
    }
   },
   "outputs": [
    {
     "name": "stdout",
     "output_type": "stream",
     "text": [
      "Top 10 Movies Similar to Star Wars\n",
      "id\n",
      "1892                                Return of the Jedi\n",
      "74849                    The Star Wars Holiday Special\n",
      "140607                    Star Wars: The Force Awakens\n",
      "1891                           The Empire Strikes Back\n",
      "1895      Star Wars: Episode III - Revenge of the Sith\n",
      "1893         Star Wars: Episode I - The Phantom Menace\n",
      "1894      Star Wars: Episode II - Attack of the Clones\n",
      "567097                             Star wars: Goretech\n",
      "9255                              Hot Shots! Part Deux\n",
      "181808                        Star Wars: The Last Jedi\n",
      "Name: title, dtype: object\n",
      "\n",
      "Top 10 Movies Similar to Finding Nemo\n",
      "id\n",
      "13205                               Bambi II\n",
      "371642                    The Rogue Stallion\n",
      "45791     When Did You Last See Your Father?\n",
      "151403                   La maison de Himiko\n",
      "187585                         Ramen Samurai\n",
      "475594                        Father and Son\n",
      "398362                      Izzie's Way Home\n",
      "410363                         Father's Acre\n",
      "108954              Postmen in the Mountains\n",
      "535624                               One Son\n",
      "Name: title, dtype: object\n",
      "\n",
      "Top 10 Movies Similar to Forrest Gump\n",
      "id\n",
      "205065        Land of Sorrows\n",
      "382717               Sanam Re\n",
      "5177               Dark Horse\n",
      "11947     Emil and the Piglet\n",
      "330636            Katti Batti\n",
      "272721          Hicran Gecesi\n",
      "46432               Woh Lamhe\n",
      "55234               Company K\n",
      "686023            The Wrecker\n",
      "232420                Twinkle\n",
      "Name: title, dtype: object\n",
      "\n",
      "Top 10 Movies Similar to American Beauty\n",
      "id\n",
      "11446     Welcome to the Dollhouse\n",
      "31146             Box of Moonlight\n",
      "486269      Under the Eiffel Tower\n",
      "3              Shadows in Paradise\n",
      "59210                   The Mother\n",
      "531951         I Made This For You\n",
      "8999                      Derailed\n",
      "152484          Oldies but Goldies\n",
      "224917               Dear Sidewalk\n",
      "255270                One Fine Day\n",
      "Name: title, dtype: object\n",
      "\n",
      "Top 10 Movies Similar to The Fifth Element\n",
      "id\n",
      "339964    Valerian and the City of a Thousand Planets\n",
      "15493                   Star Wreck: In the Pirkinning\n",
      "13836                          Race to Witch Mountain\n",
      "181808                       Star Wars: The Last Jedi\n",
      "563                                 Starship Troopers\n",
      "14460                         Battle Beyond the Stars\n",
      "103                                       Taxi Driver\n",
      "2164                                         Stargate\n",
      "7453             The Hitchhiker's Guide to the Galaxy\n",
      "32064                               The Time Guardian\n",
      "Name: title, dtype: object\n",
      "\n"
     ]
    }
   ],
   "source": [
    "for movie_id in pop_movies.index[:5]:\n",
    "    print(top_X_pipe(movie_id, cosine_5000_features, 10))\n",
    "    print()"
   ]
  },
  {
   "cell_type": "markdown",
   "metadata": {},
   "source": [
    "Looks like there were a few changes, but nothing major. What if the features were increased to 25000?"
   ]
  },
  {
   "cell_type": "code",
   "execution_count": 203,
   "metadata": {
    "ExecuteTime": {
     "end_time": "2020-03-30T22:44:47.937646Z",
     "start_time": "2020-03-30T22:44:20.369703Z"
    }
   },
   "outputs": [],
   "source": [
    "cosine_25000_features = cosine_pipe(movies_text, 25000)"
   ]
  },
  {
   "cell_type": "code",
   "execution_count": 205,
   "metadata": {
    "ExecuteTime": {
     "end_time": "2020-03-30T22:46:43.869892Z",
     "start_time": "2020-03-30T22:46:41.898396Z"
    }
   },
   "outputs": [
    {
     "name": "stdout",
     "output_type": "stream",
     "text": [
      "Top 10 Movies Similar to Star Wars\n",
      "id\n",
      "1892                                Return of the Jedi\n",
      "74849                    The Star Wars Holiday Special\n",
      "1891                           The Empire Strikes Back\n",
      "140607                    Star Wars: The Force Awakens\n",
      "1895      Star Wars: Episode III - Revenge of the Sith\n",
      "1893         Star Wars: Episode I - The Phantom Menace\n",
      "1894      Star Wars: Episode II - Attack of the Clones\n",
      "567097                             Star wars: Goretech\n",
      "181812                Star Wars: The Rise of Skywalker\n",
      "181808                        Star Wars: The Last Jedi\n",
      "Name: title, dtype: object\n",
      "\n",
      "Top 10 Movies Similar to Finding Nemo\n",
      "id\n",
      "127380                          Finding Dory\n",
      "13205                               Bambi II\n",
      "371642                    The Rogue Stallion\n",
      "282468                    Coral Sea Dreaming\n",
      "45791     When Did You Last See Your Father?\n",
      "468813                       My Father Iqbal\n",
      "398362                      Izzie's Way Home\n",
      "475594                        Father and Son\n",
      "21291                                    Dad\n",
      "109349                           Little John\n",
      "Name: title, dtype: object\n",
      "\n",
      "Top 10 Movies Similar to Forrest Gump\n",
      "id\n",
      "205065    Land of Sorrows\n",
      "686023        The Wrecker\n",
      "123833     Possible Loves\n",
      "382717           Sanam Re\n",
      "232420            Twinkle\n",
      "293565         Interludes\n",
      "55234           Company K\n",
      "330636        Katti Batti\n",
      "31179                 Tim\n",
      "24684        An Education\n",
      "Name: title, dtype: object\n",
      "\n",
      "Top 10 Movies Similar to American Beauty\n",
      "id\n",
      "11446     Welcome to the Dollhouse\n",
      "31146             Box of Moonlight\n",
      "59210                   The Mother\n",
      "255270                One Fine Day\n",
      "486269      Under the Eiffel Tower\n",
      "9051                            10\n",
      "8999                      Derailed\n",
      "587                       Big Fish\n",
      "224917               Dear Sidewalk\n",
      "496305          Breaking Home Ties\n",
      "Name: title, dtype: object\n",
      "\n",
      "Top 10 Movies Similar to The Fifth Element\n",
      "id\n",
      "339964    Valerian and the City of a Thousand Planets\n",
      "15493                   Star Wreck: In the Pirkinning\n",
      "14460                         Battle Beyond the Stars\n",
      "181808                       Star Wars: The Last Jedi\n",
      "32064                               The Time Guardian\n",
      "103                                       Taxi Driver\n",
      "655105                                     5 Galaxies\n",
      "13836                          Race to Witch Mountain\n",
      "2157                                    Lost in Space\n",
      "109953                               Walking the Edge\n",
      "Name: title, dtype: object\n",
      "\n"
     ]
    }
   ],
   "source": [
    "for movie_id in pop_movies.index[:5]:\n",
    "    print(top_X_pipe(movie_id, cosine_25000_features, 10))\n",
    "    print()"
   ]
  },
  {
   "cell_type": "markdown",
   "metadata": {},
   "source": [
    "Color me impressed, these recommendations look pretty good. Looks like some obscure films are already appearing on the list! Movies like Big Fish have hopped into the top for American Beauty (which seems fitting), Finding Dory has now popped into the most similar position to Finding Nemo, the similarities between the top Star Wars films appear to have solidified. This is coming out pretty well, what if the features were increased even further?"
   ]
  },
  {
   "cell_type": "code",
   "execution_count": 208,
   "metadata": {
    "ExecuteTime": {
     "end_time": "2020-03-30T22:52:13.696327Z",
     "start_time": "2020-03-30T22:51:48.550844Z"
    }
   },
   "outputs": [],
   "source": [
    "cosine_100000_features = cosine_pipe(movies_text, 100000)"
   ]
  },
  {
   "cell_type": "code",
   "execution_count": 209,
   "metadata": {
    "ExecuteTime": {
     "end_time": "2020-03-30T22:54:29.052657Z",
     "start_time": "2020-03-30T22:54:26.312973Z"
    }
   },
   "outputs": [
    {
     "name": "stdout",
     "output_type": "stream",
     "text": [
      "Top 10 Movies Similar to Star Wars\n",
      "id\n",
      "1891                           The Empire Strikes Back\n",
      "1892                                Return of the Jedi\n",
      "74849                    The Star Wars Holiday Special\n",
      "140607                    Star Wars: The Force Awakens\n",
      "1895      Star Wars: Episode III - Revenge of the Sith\n",
      "1893         Star Wars: Episode I - The Phantom Menace\n",
      "1894      Star Wars: Episode II - Attack of the Clones\n",
      "181808                        Star Wars: The Last Jedi\n",
      "567097                             Star wars: Goretech\n",
      "181812                Star Wars: The Rise of Skywalker\n",
      "Name: title, dtype: object\n",
      "\n",
      "Top 10 Movies Similar to Finding Nemo\n",
      "id\n",
      "127380                          Finding Dory\n",
      "371642                    The Rogue Stallion\n",
      "13205                               Bambi II\n",
      "282468                    Coral Sea Dreaming\n",
      "45791     When Did You Last See Your Father?\n",
      "468813                       My Father Iqbal\n",
      "398362                      Izzie's Way Home\n",
      "109349                           Little John\n",
      "21291                                    Dad\n",
      "475594                        Father and Son\n",
      "Name: title, dtype: object\n",
      "\n",
      "Top 10 Movies Similar to Forrest Gump\n",
      "id\n",
      "205065     Land of Sorrows\n",
      "123833      Possible Loves\n",
      "55234            Company K\n",
      "232420             Twinkle\n",
      "293565          Interludes\n",
      "31179                  Tim\n",
      "686023         The Wrecker\n",
      "264725      There Is No 13\n",
      "12315     Summertime Blues\n",
      "24684         An Education\n",
      "Name: title, dtype: object\n",
      "\n",
      "Top 10 Movies Similar to American Beauty\n",
      "id\n",
      "11446     Welcome to the Dollhouse\n",
      "31146             Box of Moonlight\n",
      "59210                   The Mother\n",
      "9051                            10\n",
      "255270                One Fine Day\n",
      "8999                      Derailed\n",
      "587                       Big Fish\n",
      "496305          Breaking Home Ties\n",
      "486269      Under the Eiffel Tower\n",
      "224917               Dear Sidewalk\n",
      "Name: title, dtype: object\n",
      "\n",
      "Top 10 Movies Similar to The Fifth Element\n",
      "id\n",
      "339964    Valerian and the City of a Thousand Planets\n",
      "14460                         Battle Beyond the Stars\n",
      "655105                                     5 Galaxies\n",
      "15493                   Star Wreck: In the Pirkinning\n",
      "103                                       Taxi Driver\n",
      "181808                       Star Wars: The Last Jedi\n",
      "13836                          Race to Witch Mountain\n",
      "32064                               The Time Guardian\n",
      "19995                                          Avatar\n",
      "563                                 Starship Troopers\n",
      "Name: title, dtype: object\n",
      "\n"
     ]
    }
   ],
   "source": [
    "for movie_id in pop_movies.index[:5]:\n",
    "    print(top_X_pipe(movie_id, cosine_100000_features, 10))\n",
    "    print()"
   ]
  },
  {
   "cell_type": "markdown",
   "metadata": {},
   "source": [
    "The results appear to be pretty consistent going from 25000 to 100000 features. Interestingly, the order of the top 3 movies to Star Wars has changed minutely in an order that seems to make sense. Since this runs so quickly, why not go all in and use all the features available?"
   ]
  },
  {
   "cell_type": "code",
   "execution_count": 7,
   "metadata": {
    "ExecuteTime": {
     "end_time": "2020-03-31T16:05:46.492333Z",
     "start_time": "2020-03-31T16:05:19.108278Z"
    }
   },
   "outputs": [],
   "source": [
    "cosine_all_features = cosine_pipe(movies_text, None)"
   ]
  },
  {
   "cell_type": "code",
   "execution_count": 211,
   "metadata": {
    "ExecuteTime": {
     "end_time": "2020-03-30T23:01:56.340848Z",
     "start_time": "2020-03-30T23:01:53.115042Z"
    }
   },
   "outputs": [
    {
     "name": "stdout",
     "output_type": "stream",
     "text": [
      "Top 10 Movies Similar to Star Wars\n",
      "id\n",
      "1891                           The Empire Strikes Back\n",
      "1892                                Return of the Jedi\n",
      "74849                    The Star Wars Holiday Special\n",
      "140607                    Star Wars: The Force Awakens\n",
      "1895      Star Wars: Episode III - Revenge of the Sith\n",
      "1893         Star Wars: Episode I - The Phantom Menace\n",
      "1894      Star Wars: Episode II - Attack of the Clones\n",
      "181808                        Star Wars: The Last Jedi\n",
      "567097                             Star wars: Goretech\n",
      "181812                Star Wars: The Rise of Skywalker\n",
      "Name: title, dtype: object\n",
      "\n",
      "Top 10 Movies Similar to Finding Nemo\n",
      "id\n",
      "127380                          Finding Dory\n",
      "371642                    The Rogue Stallion\n",
      "13205                               Bambi II\n",
      "282468                    Coral Sea Dreaming\n",
      "45791     When Did You Last See Your Father?\n",
      "468813                       My Father Iqbal\n",
      "398362                      Izzie's Way Home\n",
      "21291                                    Dad\n",
      "109349                           Little John\n",
      "475594                        Father and Son\n",
      "Name: title, dtype: object\n",
      "\n",
      "Top 10 Movies Similar to Forrest Gump\n",
      "id\n",
      "205065     Land of Sorrows\n",
      "123833      Possible Loves\n",
      "232420             Twinkle\n",
      "55234            Company K\n",
      "31179                  Tim\n",
      "24684         An Education\n",
      "264725      There Is No 13\n",
      "382717            Sanam Re\n",
      "262355     Thamarai Nenjam\n",
      "12315     Summertime Blues\n",
      "Name: title, dtype: object\n",
      "\n",
      "Top 10 Movies Similar to American Beauty\n",
      "id\n",
      "11446     Welcome to the Dollhouse\n",
      "31146             Box of Moonlight\n",
      "59210                   The Mother\n",
      "9051                            10\n",
      "255270                One Fine Day\n",
      "8999                      Derailed\n",
      "587                       Big Fish\n",
      "496305          Breaking Home Ties\n",
      "486269      Under the Eiffel Tower\n",
      "460                  Go for Zucker\n",
      "Name: title, dtype: object\n",
      "\n",
      "Top 10 Movies Similar to The Fifth Element\n",
      "id\n",
      "339964    Valerian and the City of a Thousand Planets\n",
      "14460                         Battle Beyond the Stars\n",
      "655105                                     5 Galaxies\n",
      "181808                       Star Wars: The Last Jedi\n",
      "103                                       Taxi Driver\n",
      "15493                   Star Wreck: In the Pirkinning\n",
      "13836                          Race to Witch Mountain\n",
      "32064                               The Time Guardian\n",
      "19995                                          Avatar\n",
      "563                                 Starship Troopers\n",
      "Name: title, dtype: object\n",
      "\n"
     ]
    }
   ],
   "source": [
    "for movie_id in pop_movies.index[:5]:\n",
    "    print(top_X_pipe(movie_id, cosine_all_features, 10))\n",
    "    print()"
   ]
  },
  {
   "cell_type": "markdown",
   "metadata": {},
   "source": [
    "Alright, so overall, this model appears to be quite solid due to its insane simplicity, superfast runtime (which is important when searching for recommendations), and its surprisingly decent and seemingly accurate suggestions. The question becomes, can it get much better for a recommendation system from here? And also, if this model is ultimately used, the use case for the user comes into question. Will they search for a particular movie (like the above) and get the most similar obscure movies to that film? Or will they be able to enter text freely, where the count vectorizer will transform their text in the same manner as it did all the movie information, then query the most similar obscure films based on that result? Or perhaps it could do both? Enter a movie title or enter text freely. This is probably the best method, perhaps a simple movie search function could be created that performs the former and a free text function will perform the latter. Luckily TMDb API makes it very easy to search for a movie title (that will definitely come in handy)."
   ]
  },
  {
   "cell_type": "markdown",
   "metadata": {},
   "source": [
    "## 2. LDA and Cosine Similarity Method"
   ]
  },
  {
   "cell_type": "markdown",
   "metadata": {},
   "source": [
    "Next up is to compare movies in a similar vein to the previous model, but this model attempts to hone in on the most relevant hidden topics found within documents of text and gives each document a distribution of the number of topics created. This takes the count vectorizer's raw counts to another level by limiting to a number of topics/themes based on those raw numbers."
   ]
  },
  {
   "cell_type": "code",
   "execution_count": 212,
   "metadata": {
    "ExecuteTime": {
     "end_time": "2020-03-30T23:23:02.880908Z",
     "start_time": "2020-03-30T23:23:02.872906Z"
    }
   },
   "outputs": [],
   "source": [
    "from sklearn.decomposition import LatentDirichletAllocation"
   ]
  },
  {
   "cell_type": "code",
   "execution_count": 270,
   "metadata": {
    "ExecuteTime": {
     "end_time": "2020-03-31T01:48:48.112655Z",
     "start_time": "2020-03-31T01:48:48.097645Z"
    }
   },
   "outputs": [],
   "source": [
    "def lda_pipe(text_docs, feature_space, no_topics):\n",
    "    cv = CountVectorizer(max_features=feature_space, stop_words='english')\n",
    "    bow = cv.fit_transform(text_docs)\n",
    "    lda = LatentDirichletAllocation(n_components=no_topics, learning_method='online', max_iter=5, random_state=27, n_jobs=3)\n",
    "    lda_trans = lda.fit_transform(bow)\n",
    "    all_vars = (cv, lda_trans, bow, lda)\n",
    "    return all_vars\n",
    "\n",
    "def lda_top_X_pipe(movie_id, pipe_output, x_sim):\n",
    "    cos_sim = cosine_similarity(pipe_output[1], pipe_output[1][movies_titles.index.get_loc(movie_id)].reshape(1,-1))\n",
    "    top_X_idx = pd.DataFrame(cos_sim, index=movies_titles.index).loc[:, 0].sort_values(ascending=False).iloc[1:(x_sim+1)].index\n",
    "    print(f'Top {x_sim} Movies Similar to {movies_titles.loc[movie_id]}')\n",
    "    return movies_titles.loc[top_X_idx]"
   ]
  },
  {
   "cell_type": "code",
   "execution_count": 247,
   "metadata": {
    "ExecuteTime": {
     "end_time": "2020-03-31T00:42:36.976895Z",
     "start_time": "2020-03-31T00:25:39.559176Z"
    }
   },
   "outputs": [],
   "source": [
    "lda_5000cv_100n = lda_pipe(movies_text, 5000, 100)"
   ]
  },
  {
   "cell_type": "code",
   "execution_count": 250,
   "metadata": {
    "ExecuteTime": {
     "end_time": "2020-03-31T01:13:03.745739Z",
     "start_time": "2020-03-31T01:13:01.602193Z"
    }
   },
   "outputs": [
    {
     "name": "stdout",
     "output_type": "stream",
     "text": [
      "Top 10 Movies Similar to Star Wars\n",
      "id\n",
      "1892              Return of the Jedi\n",
      "404902                    The Sector\n",
      "33                        Unforgiven\n",
      "123907            Demonic Possession\n",
      "150715    The Sheriff of Rock Spring\n",
      "179921                   Black Spurs\n",
      "465516              The Purple Hills\n",
      "111942              Star in the Dust\n",
      "51051              Dead Man's Bounty\n",
      "12160                     Wyatt Earp\n",
      "Name: title, dtype: object\n",
      "\n",
      "Top 10 Movies Similar to Finding Nemo\n",
      "id\n",
      "346219     A Question of Love\n",
      "592686    My Open Minded Wife\n",
      "560441             They Fight\n",
      "405225           The Triangle\n",
      "406000            The Teacher\n",
      "580844               Uda Aida\n",
      "127380           Finding Dory\n",
      "420590       De Zevende Hemel\n",
      "90799        Hi Diddle Diddle\n",
      "114              Pretty Woman\n",
      "Name: title, dtype: object\n",
      "\n",
      "Top 10 Movies Similar to Forrest Gump\n",
      "id\n",
      "263173                        Nguyen Van Troi\n",
      "360648                     Ennu Ninte Moideen\n",
      "407445                                Breathe\n",
      "354308                    Ato, Atalho e Vento\n",
      "408175                     The Amish: Shunned\n",
      "534757    Tale of the Lonely Pomegranate Tree\n",
      "457569          Introduction To The Lifestyle\n",
      "141219                    Afacan Harika Çocuk\n",
      "502625                               Chakoram\n",
      "204134                            Stone Years\n",
      "Name: title, dtype: object\n",
      "\n",
      "Top 10 Movies Similar to American Beauty\n",
      "id\n",
      "618091                                               Lolita\n",
      "556217                                   Antim Swash Sundar\n",
      "180821    Everlasting Joy or the Life and Adventures of ...\n",
      "103427                                       Omar & Salma 3\n",
      "568709                                       Preman Pensiun\n",
      "277959                                   Oothikachiya Ponnu\n",
      "92813              Assmonster: The Making of a Horror Movie\n",
      "614816                                       O Rei do Samba\n",
      "349057                                          Blood Money\n",
      "36808                                    Hollywood Hot Tubs\n",
      "Name: title, dtype: object\n",
      "\n",
      "Top 10 Movies Similar to The Fifth Element\n",
      "id\n",
      "107079                           Interzone\n",
      "516013                         Alien Force\n",
      "607                           Men in Black\n",
      "8831                               Timecop\n",
      "365534                            DownLoad\n",
      "29054        Black Scorpion II: Aftershock\n",
      "8078                    Alien Resurrection\n",
      "98566         Teenage Mutant Ninja Turtles\n",
      "55690                          Future-Kill\n",
      "23807     2019: After the Fall of New York\n",
      "Name: title, dtype: object\n",
      "\n"
     ]
    }
   ],
   "source": [
    "for movie_id in pop_movies.index[:5]:\n",
    "    print(lda_top_X_pipe(movie_id, lda_5000cv_100n, 10))\n",
    "    print()"
   ]
  },
  {
   "cell_type": "markdown",
   "metadata": {},
   "source": [
    "These results are certainly interesting. It looks as if things are loosely connected: very loose. Perhaps a greater number of topics is needed? Maybe more terms as well? The drawback of LDA is that it takes a decent amount of time to train. This particular instance took 17 minutes. Definitely a knock against this method in comparison to the super simple one in the prior section. With unlimited computing power, this could turn up with some interesting and useful results, but it looks like it would require a lot of tuning and time for that to happen. But we'll give it a few more tries. One with double the count vectorizer features (10000), one with double the topic features (200)."
   ]
  },
  {
   "cell_type": "code",
   "execution_count": 273,
   "metadata": {
    "ExecuteTime": {
     "end_time": "2020-03-31T04:39:19.585249Z",
     "start_time": "2020-03-31T04:39:19.581250Z"
    },
    "scrolled": false
   },
   "outputs": [],
   "source": [
    "lda_5000cv_200n = lda_pipe(movies_text, 5000, 200)\n",
    "lda_10000cv_100n = lda_pipe(movies_text, 10000, 100)"
   ]
  },
  {
   "cell_type": "code",
   "execution_count": 275,
   "metadata": {
    "ExecuteTime": {
     "end_time": "2020-03-31T04:40:39.794452Z",
     "start_time": "2020-03-31T04:40:33.785933Z"
    }
   },
   "outputs": [
    {
     "name": "stdout",
     "output_type": "stream",
     "text": [
      "Top 10 Movies Similar to Star Wars\n",
      "id\n",
      "1892                 Return of the Jedi\n",
      "9255               Hot Shots! Part Deux\n",
      "101665                         Hayabusa\n",
      "245222    Treasure of the Golden Condor\n",
      "1891            The Empire Strikes Back\n",
      "298526                 St Mark's Gospel\n",
      "490492                   The First Baby\n",
      "301917              Crack in the Mirror\n",
      "490655             Youth Will Be Served\n",
      "487620                       Kill Order\n",
      "Name: title, dtype: object\n",
      "\n",
      "Top 10 Movies Similar to Finding Nemo\n",
      "id\n",
      "127380                                         Finding Dory\n",
      "467366                                         Big Business\n",
      "405225                                         The Triangle\n",
      "205267                                    The Autism Puzzle\n",
      "37718                                              The Muse\n",
      "433571                                      False Pretenses\n",
      "25890                Looking for Comedy in the Muslim World\n",
      "86184     Doraemon: Nobita's Great Battle of the Mermaid...\n",
      "396095                       Ronnie Barker: A BAFTA Tribute\n",
      "274450                              Ellen's Really Big Show\n",
      "Name: title, dtype: object\n",
      "\n",
      "Top 10 Movies Similar to Forrest Gump\n",
      "id\n",
      "360648                       Ennu Ninte Moideen\n",
      "354308                      Ato, Atalho e Vento\n",
      "263173                          Nguyen Van Troi\n",
      "460267                                     Load\n",
      "163757    The True Story: The Amityville Horror\n",
      "112                       Italian for Beginners\n",
      "469509                                    Stars\n",
      "501960                           Eternal Winter\n",
      "350808                             The Milkmaid\n",
      "227476                           American Girls\n",
      "Name: title, dtype: object\n",
      "\n",
      "Top 10 Movies Similar to American Beauty\n",
      "id\n",
      "82788     Sri Sitaramula Kalyanam Chutamu Rarandi\n",
      "308019                          Eduruleni Manishi\n",
      "256161                                     Huccha\n",
      "63471                                        Aata\n",
      "573686                     Eight Views of Samurai\n",
      "584626                        Ananthu v/s Nusrath\n",
      "413572                              Krishnashtami\n",
      "608124                                   Chhalawa\n",
      "285298                 Liebling, wir haben geerbt\n",
      "244941                                     Varudu\n",
      "Name: title, dtype: object\n",
      "\n",
      "Top 10 Movies Similar to The Fifth Element\n",
      "id\n",
      "461767                                             Canaries\n",
      "830                                        Forbidden Planet\n",
      "523920                                     Alien Inhabitant\n",
      "72091                      Voyage to the Prehistoric Planet\n",
      "321155    Little Orbit the Astrodog and the Screechers f...\n",
      "436985                         Doctor Who: The Ice Warriors\n",
      "78371                                    The Advanced Guard\n",
      "65397                                             Nightfall\n",
      "119685                            Mass Effect: Paragon Lost\n",
      "37926                     Abraxas, Guardian of the Universe\n",
      "Name: title, dtype: object\n",
      "\n",
      "Top 10 Movies Similar to Star Wars\n",
      "id\n",
      "1892                                     Return of the Jedi\n",
      "11373                             Jagoda in the Supermarket\n",
      "1891                                The Empire Strikes Back\n",
      "116213                  Operation Delta Force 4: Deep Fault\n",
      "74849                         The Star Wars Holiday Special\n",
      "285994                                   Million Dollar Eel\n",
      "490959                                      Thundering Jets\n",
      "388954    Battle For The Skies The Definitive History Of...\n",
      "388955    Battle For The Skies The Definitive History Of...\n",
      "140607                         Star Wars: The Force Awakens\n",
      "Name: title, dtype: object\n",
      "\n",
      "Top 10 Movies Similar to Finding Nemo\n",
      "id\n",
      "402208           Shirdiche Shri Saibaba\n",
      "494689            Theorie der Erzählung\n",
      "371642               The Rogue Stallion\n",
      "108954         Postmen in the Mountains\n",
      "354583            A Letter to My Father\n",
      "179160                      Sohnemänner\n",
      "355349    Veendum Chila Veettukaryangal\n",
      "386026            Summer Ends in Autumn\n",
      "519824                    Zindagi Virat\n",
      "214622                       Snehaveedu\n",
      "Name: title, dtype: object\n",
      "\n",
      "Top 10 Movies Similar to Forrest Gump\n",
      "id\n",
      "460267                       Load\n",
      "360648         Ennu Ninte Moideen\n",
      "281259    The Winds of Kitty Hawk\n",
      "123937    Sex, Drugs, Rock & Roll\n",
      "594822      Un sol frío en verano\n",
      "395960                     Nizami\n",
      "92279                   Back Home\n",
      "447616                  Adiwiraku\n",
      "319633              Dyakon Levski\n",
      "478805                   18 Hours\n",
      "Name: title, dtype: object\n",
      "\n",
      "Top 10 Movies Similar to American Beauty\n",
      "id\n",
      "588557                     Men\n",
      "3          Shadows in Paradise\n",
      "78238       McLeod's Daughters\n",
      "277029                 Jack Me\n",
      "100185             Return Home\n",
      "295379    Oru Oorla Rendu Raja\n",
      "461801    Jack and His Friends\n",
      "270076         Bhand Punjab De\n",
      "285257                  Pathos\n",
      "603454             Arctic Fury\n",
      "Name: title, dtype: object\n",
      "\n",
      "Top 10 Movies Similar to The Fifth Element\n",
      "id\n",
      "84107                                The Children\n",
      "570544    Laboratory for Strengthening Extinction\n",
      "263103                                Zombie Hood\n",
      "13946                                    The Rage\n",
      "587424                                  Infección\n",
      "316951                           Beautiful People\n",
      "15039                            Against the Dark\n",
      "560944     Coming Attractions: Horror: Volume Two\n",
      "21159                       The Last Man on Earth\n",
      "131123                      Guardian of the Realm\n",
      "Name: title, dtype: object\n",
      "\n"
     ]
    }
   ],
   "source": [
    "for movie_id in pop_movies.index[:5]:\n",
    "    print(lda_top_X_pipe(movie_id, lda_5000cv_200n, 10))\n",
    "    print()\n",
    "    \n",
    "for movie_id in pop_movies.index[:5]:\n",
    "    print(lda_top_X_pipe(movie_id, lda_10000cv_100n, 10))\n",
    "    print()"
   ]
  },
  {
   "cell_type": "markdown",
   "metadata": {},
   "source": [
    "As previously stated, with unlimited time and computing power, this appears to be a potentially useful method, but the results and speed at this point just don't appear to be as salient as the really simple \"Count Vectorizer + Cosine Similarity\" combo. The giant drawback with LDA is the difficulty of tuning and amount of time it takes to actually build a model (thus tuning becomes cumbersome). Perhaps doc2vec will give some noticeable improvements?"
   ]
  },
  {
   "cell_type": "markdown",
   "metadata": {},
   "source": [
    "## 3. Doc2Vec"
   ]
  },
  {
   "cell_type": "markdown",
   "metadata": {},
   "source": [
    "The final model type to be tested for this prototype is going to be doc2vec. This modeling technique builds off of word2vec, where each word is given its own vector (the more associated the words, the closer they appear in the vector-space). Instead of comparing words to one another, doc2vec compares documents to one another. So the goal here is to use doc2vec to train on the entire corpus, then use the model to find the most similar documents to a particular input."
   ]
  },
  {
   "cell_type": "code",
   "execution_count": 278,
   "metadata": {
    "ExecuteTime": {
     "end_time": "2020-03-31T05:09:57.931724Z",
     "start_time": "2020-03-31T05:09:55.478114Z"
    }
   },
   "outputs": [],
   "source": [
    "from gensim.models.doc2vec import Doc2Vec, TaggedDocument\n",
    "from nltk.tokenize import word_tokenize"
   ]
  },
  {
   "cell_type": "code",
   "execution_count": 373,
   "metadata": {
    "ExecuteTime": {
     "end_time": "2020-03-31T06:25:17.731158Z",
     "start_time": "2020-03-31T06:21:17.649519Z"
    }
   },
   "outputs": [],
   "source": [
    "tagged_movies = [TaggedDocument(words=word_tokenize(text.lower()), tags=[i]) for i, text in zip(movies_text.index, movies_text.to_list())]"
   ]
  },
  {
   "cell_type": "code",
   "execution_count": 376,
   "metadata": {
    "ExecuteTime": {
     "end_time": "2020-03-31T07:09:16.684858Z",
     "start_time": "2020-03-31T06:29:38.555696Z"
    }
   },
   "outputs": [],
   "source": [
    "doc2vec = Doc2Vec(documents=tagged_movies, vector_size=100, min_count=1, window=3, max_vocab_size=5000, epochs=50, workers=4)"
   ]
  },
  {
   "cell_type": "code",
   "execution_count": 438,
   "metadata": {
    "ExecuteTime": {
     "end_time": "2020-03-31T07:46:56.599010Z",
     "start_time": "2020-03-31T07:46:56.588003Z"
    }
   },
   "outputs": [],
   "source": [
    "def doc2vec_sim(movie_id, model, x_sim):\n",
    "    top_X_idx = []\n",
    "    j = 0\n",
    "    for i in doc2vec.docvecs.most_similar(positive=movie_id, topn=x_sim+10):\n",
    "        if j < x_sim:\n",
    "            try:\n",
    "                if movies_titles.loc[i[0]]:\n",
    "                    top_X_idx.append(i[0])\n",
    "                    j += 1\n",
    "            except:\n",
    "                pass\n",
    "    print(f'Top {x_sim} Movies Similar to {movies_titles.loc[movie_id]}')\n",
    "    return movies_titles.loc[top_X_idx]"
   ]
  },
  {
   "cell_type": "code",
   "execution_count": 439,
   "metadata": {
    "ExecuteTime": {
     "end_time": "2020-03-31T07:47:13.002640Z",
     "start_time": "2020-03-31T07:47:12.496505Z"
    }
   },
   "outputs": [
    {
     "name": "stdout",
     "output_type": "stream",
     "text": [
      "Top 10 Movies Similar to Star Wars\n",
      "id\n",
      "1891                          The Empire Strikes Back\n",
      "168                     Star Trek IV: The Voyage Home\n",
      "83768                                       Number 96\n",
      "39230     Mobile Suit Gundam III: Encounters in Space\n",
      "528646                                  Sentinel 2099\n",
      "65665             Farewell to Space Battleship Yamato\n",
      "14372                                       Leviathan\n",
      "75612                                        Oblivion\n",
      "227434     Star Worms II: Attack of the Pleasure Pods\n",
      "147408                    Shaolin Temple Strikes Back\n",
      "Name: title, dtype: object\n",
      "\n",
      "Top 10 Movies Similar to Finding Nemo\n",
      "id\n",
      "13205                                 Bambi II\n",
      "106182                         Alberto Express\n",
      "16111                                  Hanuman\n",
      "106207                              Sea People\n",
      "151492    The Life Story of David Lloyd George\n",
      "182212                           Ya La Hicimos\n",
      "399975                        Fourwinds Island\n",
      "402036               O Thymios takane thalassa\n",
      "285974                    Jumping Over Puddles\n",
      "458332              The Festival of Claymation\n",
      "Name: title, dtype: object\n",
      "\n",
      "Top 10 Movies Similar to Forrest Gump\n",
      "id\n",
      "311633    La Muerte del federal de caminos\n",
      "58192                   The Broken Lullaby\n",
      "132411         When the Lights Go On Again\n",
      "54876                         Dawn Express\n",
      "339973        Those Endearing Young Charms\n",
      "59872                              Pokkiri\n",
      "499240                             Madhosh\n",
      "61356                      The Gatling Gun\n",
      "374469                       Face The Edge\n",
      "485905                     Wanita Terindah\n",
      "Name: title, dtype: object\n",
      "\n",
      "Top 10 Movies Similar to American Beauty\n",
      "id\n",
      "438081                            Duckweed\n",
      "475184                            Mischief\n",
      "413266                           Agnisnaan\n",
      "101892                       Bachelor Bait\n",
      "370158                Old Mother Riley, MP\n",
      "89008                          The Oranges\n",
      "268742    Confessions of a Diary Secretary\n",
      "327411       Confessions of a Prodigal Son\n",
      "60308                            Moneyball\n",
      "535444                            Chamaram\n",
      "Name: title, dtype: object\n",
      "\n",
      "Top 10 Movies Similar to The Fifth Element\n",
      "id\n",
      "514608              Eceti Down Under\n",
      "72824       El  caballero del dragón\n",
      "433111    Sex Files: Ancient Desires\n",
      "48302                   Bad Channels\n",
      "293069          The Chambermaid Lynn\n",
      "298026                        Reaper\n",
      "114684                      Talisman\n",
      "118332                   Earthkiller\n",
      "88209           Daughter of Shanghai\n",
      "620014                    Xenophobia\n",
      "Name: title, dtype: object\n",
      "\n"
     ]
    }
   ],
   "source": [
    "for movie_id in pop_movies.index[:5]:\n",
    "    print(doc2vec_sim(movie_id, doc2vec, 10))\n",
    "    print()"
   ]
  },
  {
   "cell_type": "markdown",
   "metadata": {},
   "source": [
    "These really aren't that great. I do think with some proper tuning and computing power, some useful movies could be found, but in this case, due to the amount of time this takes as well, it appears that the very clear winner looks to be the simplest bag of words and cosine similarity model."
   ]
  },
  {
   "cell_type": "markdown",
   "metadata": {},
   "source": [
    "## 4. Model Selection and getting in the Correct Format for Queries"
   ]
  },
  {
   "cell_type": "markdown",
   "metadata": {},
   "source": [
    "After reviewing the above models, the one that is the fastest to use and to query is the bag of words/count vectorized + cosine similarity model. This model essentially queries the dataset whenever it wants to find the most similar movies. The next steps that need taken are to actually get this model into a format conducive for querying and to also set up a function to perform those queries. This is essentially a case where if it's simple and it works, then why over-complicate things with fancier models? This is also the point where the filtration of obscurity comes into play. Only movies that fall into the particular pool of obscurity should be returned."
   ]
  },
  {
   "cell_type": "code",
   "execution_count": 8,
   "metadata": {
    "ExecuteTime": {
     "end_time": "2020-03-31T16:05:48.655894Z",
     "start_time": "2020-03-31T16:05:48.651888Z"
    }
   },
   "outputs": [],
   "source": [
    "tokenizer = cosine_all_features[0]\n",
    "movie_vectors = cosine_all_features[1]"
   ]
  },
  {
   "cell_type": "markdown",
   "metadata": {},
   "source": [
    "So right now, when `top_X_pipe` is called, the X most similar movies based on cosine similarity is returned, here's a quick example along with a reminder of the actual code."
   ]
  },
  {
   "cell_type": "code",
   "execution_count": 450,
   "metadata": {
    "ExecuteTime": {
     "end_time": "2020-03-31T08:10:31.871509Z",
     "start_time": "2020-03-31T08:10:31.337370Z"
    }
   },
   "outputs": [
    {
     "name": "stdout",
     "output_type": "stream",
     "text": [
      "Top 10 Movies Similar to Star Wars\n"
     ]
    },
    {
     "data": {
      "text/plain": [
       "id\n",
       "1891                           The Empire Strikes Back\n",
       "1892                                Return of the Jedi\n",
       "74849                    The Star Wars Holiday Special\n",
       "140607                    Star Wars: The Force Awakens\n",
       "1895      Star Wars: Episode III - Revenge of the Sith\n",
       "1893         Star Wars: Episode I - The Phantom Menace\n",
       "1894      Star Wars: Episode II - Attack of the Clones\n",
       "181808                        Star Wars: The Last Jedi\n",
       "567097                             Star wars: Goretech\n",
       "181812                Star Wars: The Rise of Skywalker\n",
       "Name: title, dtype: object"
      ]
     },
     "execution_count": 450,
     "metadata": {},
     "output_type": "execute_result"
    }
   ],
   "source": [
    "top_X_pipe(11, cosine_all_features, 10)"
   ]
  },
  {
   "cell_type": "code",
   "execution_count": 451,
   "metadata": {
    "ExecuteTime": {
     "end_time": "2020-03-31T08:12:36.315852Z",
     "start_time": "2020-03-31T08:12:36.309848Z"
    }
   },
   "outputs": [],
   "source": [
    "# def top_X_pipe(movie_id, pipe_output, x_sim):\n",
    "#     cos_sim = cosine_similarity(pipe_output[1], pipe_output[1][movies_titles.index.get_loc(movie_id)])\n",
    "#     top_X_idx = pd.DataFrame(cos_sim, index=movies_titles.index).loc[:, 0].sort_values(ascending=False).iloc[1:(x_sim+1)].index\n",
    "#     print(f'Top {x_sim} Movies Similar to {movies_titles.loc[movie_id]}')\n",
    "#     return movies_titles.loc[top_X_idx]"
   ]
  },
  {
   "cell_type": "markdown",
   "metadata": {},
   "source": [
    "Currently, the entire matrix is being queried for similarities. There is no longer a need for that, now only obscure movies should be the ones that are compared, however, it is still important to keep the original vectors for the other movies. What if a user wants to search for movies that are similar to a well known movie? In order to do that, the original vectors must still be there. We'll start off with the simplest case, which is searching by a particular movie ID. But first, the obscure movies' indexes need to be brought in."
   ]
  },
  {
   "cell_type": "code",
   "execution_count": 10,
   "metadata": {
    "ExecuteTime": {
     "end_time": "2020-03-31T16:09:25.669003Z",
     "start_time": "2020-03-31T16:09:25.348942Z"
    }
   },
   "outputs": [],
   "source": [
    "rec_pool = pd.read_pickle(join(movies_dir, pool_file))"
   ]
  },
  {
   "cell_type": "markdown",
   "metadata": {},
   "source": [
    "For these movies, the location of their row within the `movie_vectors` must be found, which is relatively easy to do using list notation."
   ]
  },
  {
   "cell_type": "code",
   "execution_count": 11,
   "metadata": {
    "ExecuteTime": {
     "end_time": "2020-03-31T16:09:27.021394Z",
     "start_time": "2020-03-31T16:09:26.963378Z"
    }
   },
   "outputs": [],
   "source": [
    "rec_idxs = [movies_titles.index.get_loc(movie_id) for movie_id in rec_pool.index]"
   ]
  },
  {
   "cell_type": "code",
   "execution_count": 12,
   "metadata": {
    "ExecuteTime": {
     "end_time": "2020-03-31T16:09:27.826823Z",
     "start_time": "2020-03-31T16:09:27.783793Z"
    }
   },
   "outputs": [],
   "source": [
    "rec_vectors = movie_vectors[rec_idxs]"
   ]
  },
  {
   "cell_type": "markdown",
   "metadata": {},
   "source": [
    "And just like that, the pool of available movies and their respective vectors have been gathered."
   ]
  },
  {
   "cell_type": "code",
   "execution_count": 68,
   "metadata": {
    "ExecuteTime": {
     "end_time": "2020-03-31T16:50:05.284925Z",
     "start_time": "2020-03-31T16:50:05.270918Z"
    }
   },
   "outputs": [],
   "source": [
    "def top_X_obscure(movie_id, x_sim=10):\n",
    "    cos_sim = cosine_similarity(rec_vectors, movie_vectors[movies_titles.index.get_loc(movie_id)])\n",
    "    if movie_id in rec_idxs:\n",
    "        top_X_idx = pd.DataFrame(cos_sim, index=rec_pool.index).loc[:, 0].sort_values(ascending=False).iloc[1:(x_sim+1)].index\n",
    "    elif movie_id not in rec_idxs:\n",
    "        top_X_idx = pd.DataFrame(cos_sim, index=rec_pool.index).loc[:, 0].sort_values(ascending=False).iloc[0:(x_sim)].index\n",
    "    print(f'Top {x_sim} Obscure Movies Similar to {movies_titles.loc[movie_id]}')\n",
    "    movie_links = ['https://www.themoviedb.org/movie/'+str(i) for i in top_X_idx]\n",
    "    movie_df = pd.DataFrame(movies_titles.loc[top_X_idx])\n",
    "    movie_df['links'] = movie_links\n",
    "    return movie_df.to_markdown()"
   ]
  },
  {
   "cell_type": "code",
   "execution_count": 70,
   "metadata": {
    "ExecuteTime": {
     "end_time": "2020-03-31T16:50:37.951584Z",
     "start_time": "2020-03-31T16:50:37.511473Z"
    }
   },
   "outputs": [
    {
     "name": "stdout",
     "output_type": "stream",
     "text": [
      "Top 10 Obscure Movies Similar to Star Wars\n",
      "|     id | title                                             | links                                   |\n",
      "|-------:|:--------------------------------------------------|:----------------------------------------|\n",
      "|  10179 | The Ice Pirates                                   | https://www.themoviedb.org/movie/10179  |\n",
      "|  75311 | The People vs. George Lucas                       | https://www.themoviedb.org/movie/75311  |\n",
      "|   9703 | The Last Legion                                   | https://www.themoviedb.org/movie/9703   |\n",
      "| 328429 | Approaching the Unknown                           | https://www.themoviedb.org/movie/328429 |\n",
      "|  17277 | The Fall of the Roman Empire                      | https://www.themoviedb.org/movie/17277  |\n",
      "|  19287 | Leprechaun 4: In Space                            | https://www.themoviedb.org/movie/19287  |\n",
      "|  23719 | Trapped in Paradise                               | https://www.themoviedb.org/movie/23719  |\n",
      "| 388885 | Secrets of the Force Awakens: A Cinematic Journey | https://www.themoviedb.org/movie/388885 |\n",
      "|  14460 | Battle Beyond the Stars                           | https://www.themoviedb.org/movie/14460  |\n",
      "|  31380 | Tangents                                          | https://www.themoviedb.org/movie/31380  |\n",
      "\n",
      "Top 10 Obscure Movies Similar to Finding Nemo\n",
      "|     id | title                              | links                                   |\n",
      "|-------:|:-----------------------------------|:----------------------------------------|\n",
      "|  45791 | When Did You Last See Your Father? | https://www.themoviedb.org/movie/45791  |\n",
      "|  21291 | Dad                                | https://www.themoviedb.org/movie/21291  |\n",
      "|  49787 | The Reef                           | https://www.themoviedb.org/movie/49787  |\n",
      "|  19595 | Shark Bait                         | https://www.themoviedb.org/movie/19595  |\n",
      "|  36614 | The Sum of Us                      | https://www.themoviedb.org/movie/36614  |\n",
      "|  24663 | The Open Road                      | https://www.themoviedb.org/movie/24663  |\n",
      "|  12609 | Help! I'm A Fish                   | https://www.themoviedb.org/movie/12609  |\n",
      "|  75023 | Marecek, Pass Me the Pen!          | https://www.themoviedb.org/movie/75023  |\n",
      "|  11456 | Domestic Disturbance               | https://www.themoviedb.org/movie/11456  |\n",
      "| 106143 | I'll Do Anything                   | https://www.themoviedb.org/movie/106143 |\n",
      "\n",
      "Top 10 Obscure Movies Similar to Forrest Gump\n",
      "|     id | title             | links                                   |\n",
      "|-------:|:------------------|:----------------------------------------|\n",
      "|  31179 | Tim               | https://www.themoviedb.org/movie/31179  |\n",
      "|   9967 | Uncommon Valor    | https://www.themoviedb.org/movie/9967   |\n",
      "|  29968 | Nothing in Common | https://www.themoviedb.org/movie/29968  |\n",
      "|  25062 | A Taste of Honey  | https://www.themoviedb.org/movie/25062  |\n",
      "| 296178 | Posthumous        | https://www.themoviedb.org/movie/296178 |\n",
      "|  14118 | Dedication        | https://www.themoviedb.org/movie/14118  |\n",
      "|    321 | Mambo Italiano    | https://www.themoviedb.org/movie/321    |\n",
      "|  10142 | Casualties of War | https://www.themoviedb.org/movie/10142  |\n",
      "|  35053 | Darr              | https://www.themoviedb.org/movie/35053  |\n",
      "| 290762 | Miss You Already  | https://www.themoviedb.org/movie/290762 |\n",
      "\n",
      "Top 10 Obscure Movies Similar to American Beauty\n",
      "|     id | title             | links                                   |\n",
      "|-------:|:------------------|:----------------------------------------|\n",
      "|  31146 | Box of Moonlight  | https://www.themoviedb.org/movie/31146  |\n",
      "|  59210 | The Mother        | https://www.themoviedb.org/movie/59210  |\n",
      "|   9051 | 10                | https://www.themoviedb.org/movie/9051   |\n",
      "|    460 | Go for Zucker     | https://www.themoviedb.org/movie/460    |\n",
      "| 436245 | Daphne            | https://www.themoviedb.org/movie/436245 |\n",
      "|  29968 | Nothing in Common | https://www.themoviedb.org/movie/29968  |\n",
      "|  82618 | Girl in Progress  | https://www.themoviedb.org/movie/82618  |\n",
      "|  21291 | Dad               | https://www.themoviedb.org/movie/21291  |\n",
      "|  72842 | Albatross         | https://www.themoviedb.org/movie/72842  |\n",
      "| 276839 | Home Sweet Hell   | https://www.themoviedb.org/movie/276839 |\n",
      "\n",
      "Top 10 Obscure Movies Similar to The Fifth Element\n",
      "|     id | title                         | links                                   |\n",
      "|-------:|:------------------------------|:----------------------------------------|\n",
      "|  14460 | Battle Beyond the Stars       | https://www.themoviedb.org/movie/14460  |\n",
      "|  15493 | Star Wreck: In the Pirkinning | https://www.themoviedb.org/movie/15493  |\n",
      "|   9278 | Freejack                      | https://www.themoviedb.org/movie/9278   |\n",
      "| 280617 | Space Cop                     | https://www.themoviedb.org/movie/280617 |\n",
      "|  32053 | The Ultimate Warrior          | https://www.themoviedb.org/movie/32053  |\n",
      "|  17221 | Where the Sidewalk Ends       | https://www.themoviedb.org/movie/17221  |\n",
      "|   2134 | The Time Machine              | https://www.themoviedb.org/movie/2134   |\n",
      "|  31380 | Tangents                      | https://www.themoviedb.org/movie/31380  |\n",
      "|  28893 | Galaxy of Terror              | https://www.themoviedb.org/movie/28893  |\n",
      "|  33155 | Galaxina                      | https://www.themoviedb.org/movie/33155  |\n",
      "\n"
     ]
    }
   ],
   "source": [
    "for movie_id in pop_movies.index[:5]:\n",
    "    print(top_X_obscure(movie_id, 10))\n",
    "    print()"
   ]
  },
  {
   "cell_type": "markdown",
   "metadata": {},
   "source": [
    "Alright, this version of the query appears to be working, but what about a user that wants to search for a movie? It should be assumed that the user doesn't actually know the ID for a particular movie that is being searched. This is where the API comes in handy."
   ]
  },
  {
   "cell_type": "code",
   "execution_count": 15,
   "metadata": {
    "ExecuteTime": {
     "end_time": "2020-03-31T16:20:56.761500Z",
     "start_time": "2020-03-31T16:20:56.172230Z"
    }
   },
   "outputs": [],
   "source": [
    "from tmdbv3api import Movie, TMDb"
   ]
  },
  {
   "cell_type": "code",
   "execution_count": 16,
   "metadata": {
    "ExecuteTime": {
     "end_time": "2020-03-31T16:20:57.253105Z",
     "start_time": "2020-03-31T16:20:57.248102Z"
    }
   },
   "outputs": [],
   "source": [
    "tmdb = TMDb()\n",
    "movie = Movie()"
   ]
  },
  {
   "cell_type": "code",
   "execution_count": 17,
   "metadata": {
    "ExecuteTime": {
     "end_time": "2020-03-31T16:20:58.092090Z",
     "start_time": "2020-03-31T16:20:58.082084Z"
    }
   },
   "outputs": [],
   "source": [
    "API_KEY_PATH = r'C:\\Users\\philb\\Datasets\\API_KEY.txt'\n",
    "with open(API_KEY_PATH) as f:\n",
    "    API_KEY = f.readline()\n",
    "f.close()\n",
    "tmdb.api_key = API_KEY"
   ]
  },
  {
   "cell_type": "code",
   "execution_count": 24,
   "metadata": {
    "ExecuteTime": {
     "end_time": "2020-03-31T16:22:51.367866Z",
     "start_time": "2020-03-31T16:22:51.352861Z"
    }
   },
   "outputs": [],
   "source": [
    "def get_id(search_term):\n",
    "    print('------------')\n",
    "    print('MOVIE SEARCH')\n",
    "    print('------------')\n",
    "    try:\n",
    "        page1 = [(i, movie) for i, movie in enumerate(movie.search(search_term))]\n",
    "        for tup in page1:\n",
    "            print(tup[0], tup[1])\n",
    "        time.sleep(.01)\n",
    "        movie_sel = int(input('Enter index # of selected movie: '))\n",
    "        print(page1)\n",
    "        movie_id = page1[movie_sel][1].id\n",
    "        clear_output(wait=True)\n",
    "        return movie_id\n",
    "    except:\n",
    "        print('No movies were found using that query.')"
   ]
  },
  {
   "cell_type": "code",
   "execution_count": 27,
   "metadata": {
    "ExecuteTime": {
     "end_time": "2020-03-31T16:24:24.495123Z",
     "start_time": "2020-03-31T16:24:21.579584Z"
    }
   },
   "outputs": [
    {
     "name": "stdout",
     "output_type": "stream",
     "text": [
      "Top 10 Obscure Movies Similar to The Dark Knight\n"
     ]
    },
    {
     "data": {
      "text/plain": [
       "id\n",
       "464882                      Batman vs. Two-Face\n",
       "342917         Batman Unlimited: Monster Mayhem\n",
       "69735                          Batman: Year One\n",
       "411736    Batman: Return of the Caped Crusaders\n",
       "366924                        Batman: Bad Blood\n",
       "21683           Batman: Mystery of the Batwoman\n",
       "16234        Batman Beyond: Return of the Joker\n",
       "624479      Superman II: The Richard Donner Cut\n",
       "17445               Green Lantern: First Flight\n",
       "30061      Justice League: Crisis on Two Earths\n",
       "Name: title, dtype: object"
      ]
     },
     "execution_count": 27,
     "metadata": {},
     "output_type": "execute_result"
    }
   ],
   "source": [
    "top_X_obscure(get_id('the dark knight'))"
   ]
  },
  {
   "cell_type": "markdown",
   "metadata": {},
   "source": [
    "Alright, that works pretty well. For this, it obviously turns up a lot of animated films as these will be the most similar based on the text representations of the movies. For Batman, this just happens to be the case. But we can see that it is still appropriately identifying movies with the same topics."
   ]
  },
  {
   "cell_type": "code",
   "execution_count": 71,
   "metadata": {
    "ExecuteTime": {
     "end_time": "2020-03-31T16:51:44.352051Z",
     "start_time": "2020-03-31T16:51:44.342048Z"
    }
   },
   "outputs": [],
   "source": [
    "def user_query(user_input, x_sim=10):\n",
    "    vector = tokenizer.transform([user_input])\n",
    "    cos_sim = cosine_similarity(rec_vectors, vector)\n",
    "    top_X_idx = pd.DataFrame(cos_sim, index=rec_pool.index).loc[:, 0].sort_values(ascending=False).iloc[0:(x_sim)].index\n",
    "    print(f'Top {x_sim} Obscure Movies Similar to user search: \"{user_input}\"')\n",
    "    movie_links = ['https://www.themoviedb.org/movie/'+str(i) for i in top_X_idx]\n",
    "    movie_df = pd.DataFrame(movies_titles.loc[top_X_idx])\n",
    "    movie_df['links'] = movie_links\n",
    "    return movie_df.to_markdown()"
   ]
  },
  {
   "cell_type": "code",
   "execution_count": 73,
   "metadata": {
    "ExecuteTime": {
     "end_time": "2020-03-31T16:51:51.954285Z",
     "start_time": "2020-03-31T16:51:51.844257Z"
    }
   },
   "outputs": [
    {
     "name": "stdout",
     "output_type": "stream",
     "text": [
      "Top 10 Obscure Movies Similar to user search: \"spiderman\"\n",
      "|     id | title                  | links                                   |\n",
      "|-------:|:-----------------------|:----------------------------------------|\n",
      "| 460738 | Super Singh            | https://www.themoviedb.org/movie/460738 |\n",
      "| 268508 | The Mummy Resurrected  | https://www.themoviedb.org/movie/268508 |\n",
      "|  24488 | Demonlover             | https://www.themoviedb.org/movie/24488  |\n",
      "|  24499 | Scar                   | https://www.themoviedb.org/movie/24499  |\n",
      "|  24505 | Necromentia            | https://www.themoviedb.org/movie/24505  |\n",
      "|  24508 | The Lineup             | https://www.themoviedb.org/movie/24508  |\n",
      "|  24518 | The Long, Long Trailer | https://www.themoviedb.org/movie/24518  |\n",
      "|  24525 | Hurlyburly             | https://www.themoviedb.org/movie/24525  |\n",
      "|  24527 | Undefeatable           | https://www.themoviedb.org/movie/24527  |\n",
      "|  24528 | Killer Bean Forever    | https://www.themoviedb.org/movie/24528  |\n"
     ]
    }
   ],
   "source": [
    "print(user_query('spiderman'))"
   ]
  },
  {
   "cell_type": "code",
   "execution_count": 74,
   "metadata": {
    "ExecuteTime": {
     "end_time": "2020-03-31T16:52:20.798893Z",
     "start_time": "2020-03-31T16:52:20.788890Z"
    }
   },
   "outputs": [],
   "source": [
    "def get_recommendations(query, kind='movie', x_sim=10):\n",
    "    if kind == 'movie':\n",
    "        print(top_X_obscure(get_id(query), x_sim))\n",
    "    elif kind == 'query':\n",
    "        print(user_query(query, x_sim))"
   ]
  },
  {
   "cell_type": "code",
   "execution_count": 77,
   "metadata": {
    "ExecuteTime": {
     "end_time": "2020-03-31T16:53:19.399445Z",
     "start_time": "2020-03-31T16:53:14.663281Z"
    }
   },
   "outputs": [
    {
     "name": "stdout",
     "output_type": "stream",
     "text": [
      "Top 10 Obscure Movies Similar to High School Musical\n",
      "|     id | title                         | links                                   |\n",
      "|-------:|:------------------------------|:----------------------------------------|\n",
      "|   8669 | Charlie Bartlett              | https://www.themoviedb.org/movie/8669   |\n",
      "| 306943 | The Outcasts                  | https://www.themoviedb.org/movie/306943 |\n",
      "|  24232 | Daria in 'Is It College Yet?' | https://www.themoviedb.org/movie/24232  |\n",
      "|  12621 | Hamlet 2                      | https://www.themoviedb.org/movie/12621  |\n",
      "|   5693 | Hoosiers                      | https://www.themoviedb.org/movie/5693   |\n",
      "|  20224 | Remember the Daze             | https://www.themoviedb.org/movie/20224  |\n",
      "|  10013 | Peggy Sue Got Married         | https://www.themoviedb.org/movie/10013  |\n",
      "|  13259 | American Teen                 | https://www.themoviedb.org/movie/13259  |\n",
      "|  26156 | Hiding Out                    | https://www.themoviedb.org/movie/26156  |\n",
      "|  54555 | She's on Duty                 | https://www.themoviedb.org/movie/54555  |\n"
     ]
    }
   ],
   "source": [
    "get_recommendations('high school musical', 'movie', 10)"
   ]
  },
  {
   "cell_type": "markdown",
   "metadata": {},
   "source": [
    "And there we go. It is looking pretty good. Far from perfect, for sure, but the obscurity is definitely there. And relative similarities are apparent. With nice clickable links."
   ]
  }
 ],
 "metadata": {
  "kernelspec": {
   "display_name": "Python 3",
   "language": "python",
   "name": "python3"
  },
  "language_info": {
   "codemirror_mode": {
    "name": "ipython",
    "version": 3
   },
   "file_extension": ".py",
   "mimetype": "text/x-python",
   "name": "python",
   "nbconvert_exporter": "python",
   "pygments_lexer": "ipython3",
   "version": "3.6.10"
  }
 },
 "nbformat": 4,
 "nbformat_minor": 4
}
