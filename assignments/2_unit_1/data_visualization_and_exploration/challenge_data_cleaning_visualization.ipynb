{
 "cells": [
  {
   "cell_type": "code",
   "execution_count": 1,
   "metadata": {
    "ExecuteTime": {
     "end_time": "2019-09-26T14:31:46.561960Z",
     "start_time": "2019-09-26T14:31:44.639474Z"
    }
   },
   "outputs": [],
   "source": [
    "import numpy as np\n",
    "import pandas as pd\n",
    "from difflib import SequenceMatcher as s\n",
    "import re\n",
    "import itertools\n",
    "#from spellchecker import SpellChecker\n",
    "import matplotlib.pyplot as plt\n",
    "from scipy import stats\n",
    "%matplotlib inline"
   ]
  },
  {
   "cell_type": "code",
   "execution_count": 2,
   "metadata": {
    "ExecuteTime": {
     "end_time": "2019-09-26T14:31:46.641091Z",
     "start_time": "2019-09-26T14:31:46.567962Z"
    }
   },
   "outputs": [],
   "source": [
    "df = pd.read_csv('WELLCOME_APCspend2013_forThinkful.csv', encoding='cp850')"
   ]
  },
  {
   "cell_type": "markdown",
   "metadata": {},
   "source": [
    "Sort publisher alphabetically"
   ]
  },
  {
   "cell_type": "code",
   "execution_count": 3,
   "metadata": {
    "ExecuteTime": {
     "end_time": "2019-09-26T14:37:46.040596Z",
     "start_time": "2019-09-26T14:37:46.027589Z"
    }
   },
   "outputs": [],
   "source": [
    "df = df.sort_values('Publisher')"
   ]
  },
  {
   "cell_type": "markdown",
   "metadata": {},
   "source": [
    "Clean column names for easier use"
   ]
  },
  {
   "cell_type": "code",
   "execution_count": 4,
   "metadata": {},
   "outputs": [],
   "source": [
    "fix_cols = df.columns.str.replace(' ', '_').str.lower().str.replace('/', '_')\n",
    "df.columns = fix_cols"
   ]
  },
  {
   "cell_type": "markdown",
   "metadata": {},
   "source": [
    "Clean numeric data and convert to float"
   ]
  },
  {
   "cell_type": "code",
   "execution_count": 5,
   "metadata": {},
   "outputs": [
    {
     "data": {
      "text/html": [
       "<div>\n",
       "<style scoped>\n",
       "    .dataframe tbody tr th:only-of-type {\n",
       "        vertical-align: middle;\n",
       "    }\n",
       "\n",
       "    .dataframe tbody tr th {\n",
       "        vertical-align: top;\n",
       "    }\n",
       "\n",
       "    .dataframe thead th {\n",
       "        text-align: right;\n",
       "    }\n",
       "</style>\n",
       "<table border=\"1\" class=\"dataframe\">\n",
       "  <thead>\n",
       "    <tr style=\"text-align: right;\">\n",
       "      <th></th>\n",
       "      <th>pmid_pmcid</th>\n",
       "      <th>publisher</th>\n",
       "      <th>journal_title</th>\n",
       "      <th>article_title</th>\n",
       "      <th>cost_(ú)_charged_to_wellcome_(inc_vat_when_charged)</th>\n",
       "    </tr>\n",
       "  </thead>\n",
       "  <tbody>\n",
       "    <tr>\n",
       "      <th>1</th>\n",
       "      <td>PMC3679557</td>\n",
       "      <td>ACS</td>\n",
       "      <td>Biomacromolecules</td>\n",
       "      <td>Structural characterization of a Model Gram-ne...</td>\n",
       "      <td>ú2381.04</td>\n",
       "    </tr>\n",
       "    <tr>\n",
       "      <th>2</th>\n",
       "      <td>23043264  PMC3506128</td>\n",
       "      <td>ACS</td>\n",
       "      <td>J Med Chem</td>\n",
       "      <td>Fumaroylamino-4,5-epoxymorphinans and related ...</td>\n",
       "      <td>ú642.56</td>\n",
       "    </tr>\n",
       "    <tr>\n",
       "      <th>3</th>\n",
       "      <td>23438330 PMC3646402</td>\n",
       "      <td>ACS</td>\n",
       "      <td>J Med Chem</td>\n",
       "      <td>Orvinols with mixed kappa/mu opioid receptor a...</td>\n",
       "      <td>ú669.64</td>\n",
       "    </tr>\n",
       "    <tr>\n",
       "      <th>4</th>\n",
       "      <td>23438216 PMC3601604</td>\n",
       "      <td>ACS</td>\n",
       "      <td>J Org Chem</td>\n",
       "      <td>Regioselective opening of myo-inositol orthoes...</td>\n",
       "      <td>ú685.88</td>\n",
       "    </tr>\n",
       "    <tr>\n",
       "      <th>5</th>\n",
       "      <td>PMC3579457</td>\n",
       "      <td>ACS</td>\n",
       "      <td>Journal of Medicinal Chemistry</td>\n",
       "      <td>Comparative Structural and Functional Studies ...</td>\n",
       "      <td>ú2392.20</td>\n",
       "    </tr>\n",
       "  </tbody>\n",
       "</table>\n",
       "</div>"
      ],
      "text/plain": [
       "              pmid_pmcid publisher                   journal_title  \\\n",
       "1             PMC3679557       ACS               Biomacromolecules   \n",
       "2  23043264  PMC3506128        ACS                      J Med Chem   \n",
       "3    23438330 PMC3646402       ACS                      J Med Chem   \n",
       "4   23438216 PMC3601604        ACS                      J Org Chem   \n",
       "5             PMC3579457       ACS  Journal of Medicinal Chemistry   \n",
       "\n",
       "                                       article_title  \\\n",
       "1  Structural characterization of a Model Gram-ne...   \n",
       "2  Fumaroylamino-4,5-epoxymorphinans and related ...   \n",
       "3  Orvinols with mixed kappa/mu opioid receptor a...   \n",
       "4  Regioselective opening of myo-inositol orthoes...   \n",
       "5  Comparative Structural and Functional Studies ...   \n",
       "\n",
       "  cost_(ú)_charged_to_wellcome_(inc_vat_when_charged)  \n",
       "1                                           ú2381.04   \n",
       "2                                            ú642.56   \n",
       "3                                            ú669.64   \n",
       "4                                            ú685.88   \n",
       "5                                           ú2392.20   "
      ]
     },
     "execution_count": 5,
     "metadata": {},
     "output_type": "execute_result"
    }
   ],
   "source": [
    "df.head()"
   ]
  },
  {
   "cell_type": "code",
   "execution_count": 6,
   "metadata": {
    "scrolled": true
   },
   "outputs": [],
   "source": [
    "df.iloc[:,4] = df.iloc[:,4].str.replace('£','')\n",
    "df.iloc[:,4] = df.iloc[:,4].str.replace('ú','')\n",
    "df.iloc[:,4] = df.iloc[:,4].str.strip()\n",
    "df.iloc[:,4] = df.iloc[:,4].str.replace('$','')\n",
    "df.iloc[:,4] = df.iloc[:,4].astype('float')"
   ]
  },
  {
   "cell_type": "markdown",
   "metadata": {},
   "source": [
    "numeric data cleaning end"
   ]
  },
  {
   "cell_type": "markdown",
   "metadata": {},
   "source": [
    "start cleaning publishers"
   ]
  },
  {
   "cell_type": "code",
   "execution_count": 7,
   "metadata": {},
   "outputs": [],
   "source": [
    "start_journ = len(df.journal_title.unique())"
   ]
  },
  {
   "cell_type": "code",
   "execution_count": 8,
   "metadata": {},
   "outputs": [
    {
     "data": {
      "text/plain": [
       "299"
      ]
     },
     "execution_count": 8,
     "metadata": {},
     "output_type": "execute_result"
    }
   ],
   "source": [
    "start_pub = len(df.publisher.unique())\n",
    "start_pub"
   ]
  },
  {
   "cell_type": "code",
   "execution_count": 9,
   "metadata": {},
   "outputs": [],
   "source": [
    "df.publisher = df.publisher.str.strip().str.lower() #strip whitespace and convert to lowercase\n",
    "df.publisher = df.publisher.str.replace('(','').str.replace(')','') #eliminate parenthases\n",
    "df.publisher = df.publisher.str.replace('/',' ').str.replace('-',' ') #eliminate / and -\n",
    "df.publisher = df.publisher.str.replace(' & ',' and ') #replace ' & ' with ' and '"
   ]
  },
  {
   "cell_type": "code",
   "execution_count": 10,
   "metadata": {},
   "outputs": [],
   "source": [
    "singles = list(df[df.publisher.str.isalpha()].publisher.unique())\n",
    "range_singles = np.arange(len(singles))"
   ]
  },
  {
   "cell_type": "code",
   "execution_count": 11,
   "metadata": {},
   "outputs": [],
   "source": [
    "for i in range_singles:\n",
    "    val = singles[i]\n",
    "    this = list(df[df.publisher.str.contains(singles[i])].publisher.unique())\n",
    "    df.replace(this, val, inplace=True)"
   ]
  },
  {
   "cell_type": "code",
   "execution_count": 12,
   "metadata": {},
   "outputs": [],
   "source": [
    "acronym_dict = {'acs': 'american chemical society',\n",
    "                'ambsb': 'american society for biochemistry and molecular biology',\n",
    "                'asbmb': 'american society for biochemistry and molecular biology',\n",
    "                'asm': 'american society for microbiology',\n",
    "                'bmc': 'biomed central',\n",
    "                'bmj': 'british medical journal',\n",
    "                'cshlp': 'cold spring harbor laboratory press',\n",
    "                'cup': 'cambridge university press',\n",
    "                'faseb': 'federation of american societies for experimental biology',\n",
    "                'jove': 'journal of visualized experiments',\n",
    "                'lww': 'lippincot williams and wilkins',\n",
    "                'oup': 'oxford university press',\n",
    "                'plos': 'public library of science',\n",
    "                'pnas': 'proceedings of the national academy of sciences',\n",
    "                'rsc': 'royal society of chemistry'\n",
    "               }\n",
    "df.replace(acronym_dict, inplace=True)"
   ]
  },
  {
   "cell_type": "code",
   "execution_count": 13,
   "metadata": {},
   "outputs": [],
   "source": [
    "#spell = SpellChecker()\n",
    "#words = ' '.join(list(df.publisher.unique())).split(' ')\n",
    "#mispelled = spell.unknown(words)\n",
    "#mispell_dict = {}\n",
    "#for word in mispelled:\n",
    "#    mispell_dict[word] = spell.correction(word)"
   ]
  },
  {
   "cell_type": "code",
   "execution_count": 14,
   "metadata": {},
   "outputs": [],
   "source": [
    "mispell_dict = {'wliey': 'wiley',\n",
    " 'socety': 'society',\n",
    " 'biolgy': 'biology',\n",
    " 'biology,': 'biology',\n",
    " 'biolgists': 'biologists',\n",
    " 'endocrinolog': 'endocrinology',\n",
    " 'sciences,': 'sciences',\n",
    " 'benthan': 'bentham',\n",
    " 'hamatology': 'haematology',\n",
    " 'clearace': 'clearance',\n",
    " 'liebert,': 'liberty',\n",
    " 'byophysical': 'biophysical',\n",
    " 'endrocrine': 'endocrine',\n",
    " 'univesity': 'university',\n",
    " 'elseveier': 'elsevier',\n",
    " 'hematology': 'haematology',}"
   ]
  },
  {
   "cell_type": "code",
   "execution_count": 15,
   "metadata": {},
   "outputs": [],
   "source": [
    "for key in mispell_dict:\n",
    "    df.publisher = df.publisher.str.replace(key, mispell_dict[key])"
   ]
  },
  {
   "cell_type": "code",
   "execution_count": 16,
   "metadata": {},
   "outputs": [],
   "source": [
    "def similar(a, b):\n",
    "    return s(None, a, b).ratio()"
   ]
  },
  {
   "cell_type": "code",
   "execution_count": 17,
   "metadata": {},
   "outputs": [],
   "source": [
    "#pub_unique = df.publisher.unique()\n",
    "#pub_combos = list(itertools.combinations(pub_unique, 2))\n",
    "#sim_pubs = {}\n",
    "#for i in np.arange(0, len(pub_combos)):\n",
    "#    a = pub_combos[i][0]\n",
    "#    b = pub_combos[i][1]\n",
    "#    if similar(a, b) > .8:\n",
    "#        sim_pubs[b] = a"
   ]
  },
  {
   "cell_type": "code",
   "execution_count": 18,
   "metadata": {},
   "outputs": [],
   "source": [
    "sim_pubs = {\n",
    " 'american soc for biochemistry and molecular biology': 'american society for biochemistry and molecular biology',\n",
    " 'the american society for biochemistry and molecular biology': 'american society for biochemistry and molecular biology',\n",
    " 'the american society for biochemistry and molecular biology inc': 'american society for biochemistry and molecular biology',\n",
    " 'biomed central ltd': 'biomed central',\n",
    " 'biomed central limited': 'biomed central',\n",
    " 'the american physiological society': 'american physiological society',\n",
    " 'cold spring harbor': 'cold spring harbor press',\n",
    " 'cambridge uni press': 'cambridge university press',\n",
    " 'cambridge univ press': 'cambridge university press',\n",
    " 'darmouth journal services': 'dartmouth journal services',\n",
    " 'cold spring habour press': 'cold spring harbor press',\n",
    " 'company of biologist': 'company of biologists',\n",
    " 'company of biologists ltd': 'company of biologists',\n",
    " 'the company of biologists': 'company of biologists',\n",
    " 'the company of biologists ltd': 'company of biologists',\n",
    " 'dartmouth journals': 'dartmouth journal services',\n",
    " 'the endocrine society': 'endocrine society',\n",
    " 'federation of the american society of experimental biology': 'federation of american societies for experimental biology',\n",
    " 'future medicine ltd': 'future medicine',\n",
    " 'impact journals llc': 'impact journals',\n",
    " 'international union of crystallography iucr': 'international union of crystallography',\n",
    " 'the journal of visualized experiments': 'journal of visualized experiments',\n",
    " 'landes biosciences': 'landes bioscience',\n",
    " 'mary ann liebert inc': 'mary ann liebert',\n",
    " 'national academy of sciences usa': 'national academy of sciences',\n",
    " 'oxford univ press': 'oxford university press',\n",
    " 'portland press ltd': 'portland press',\n",
    " 'publisher society for endocrinologyy': 'society for endocrinologyy',\n",
    " 'royal society for chemistry': 'royal society of chemistry',\n",
    " 'the royal college of psychiatrists': 'royal college of psychiatrists',\n",
    " 'the royal society': 'royal society',\n",
    " 'society of neuro sciences': 'society for neuroscience',\n",
    " 'society for neurosciences': 'society for neuroscience',\n",
    " 'society of neuroscience': 'society for neuroscience',\n",
    " 'the sheridan press': 'sheridan press',\n",
    " 'society for genermal microbiology': 'society for general microbiology',\n",
    " 'society of general microbiology': 'society for general microbiology',\n",
    " 'society of leukocyte biology': 'society for leukocyte biology',\n",
    " 'wolters kluwers': 'wolters kluwer'}"
   ]
  },
  {
   "cell_type": "code",
   "execution_count": 19,
   "metadata": {},
   "outputs": [],
   "source": [
    "df.replace(sim_pubs, inplace=True)"
   ]
  },
  {
   "cell_type": "code",
   "execution_count": 20,
   "metadata": {},
   "outputs": [],
   "source": [
    "#pub_unique = df.publisher.unique()\n",
    "#pub_combos = list(itertools.combinations(pub_unique, 2))\n",
    "#sim_pubs = {}\n",
    "#for i in np.arange(0, len(pub_combos)):\n",
    "#    a = pub_combos[i][0]\n",
    "#    b = pub_combos[i][1]\n",
    "#    if similar(a, b) > .7:\n",
    "#        sim_pubs[b] = a"
   ]
  },
  {
   "cell_type": "code",
   "execution_count": 21,
   "metadata": {},
   "outputs": [],
   "source": [
    "sim_pubs = {\n",
    " 'american chemical society publications': 'american chemical society',\n",
    " 'american psychiatric publishing': 'american psychiatric association',\n",
    " 'royal society': 'biophysical society',\n",
    " 'cold spring harbor laboratory press': 'cold spring harbor press',\n",
    " 'cold spring harbor publications': 'cold spring harbor press',\n",
    " 'future science': 'future medicine',\n",
    " 'informa healthcare communications': 'informa healthcare',\n",
    " 'proceedings of the national academy of sciences': 'national academy of sciences',\n",
    " 'taylor and francis journals': 'taylor and francis',\n",
    " 'wolters kluwer health': 'wolters kluwer'}"
   ]
  },
  {
   "cell_type": "code",
   "execution_count": 22,
   "metadata": {},
   "outputs": [],
   "source": [
    "df.replace(sim_pubs, inplace=True)"
   ]
  },
  {
   "cell_type": "code",
   "execution_count": 23,
   "metadata": {},
   "outputs": [],
   "source": [
    "#pub_unique = df.publisher.unique()\n",
    "#pub_combos = list(itertools.combinations(pub_unique, 2))\n",
    "#sim_pubs = {}\n",
    "#for i in np.arange(0, len(pub_combos)):\n",
    "#    a = pub_combos[i][0]\n",
    "#    b = pub_combos[i][1]\n",
    "#    if similar(a, b) > .5:\n",
    "#        sim_pubs[b] = a"
   ]
  },
  {
   "cell_type": "code",
   "execution_count": 24,
   "metadata": {},
   "outputs": [],
   "source": [
    "sim_pubs = {\n",
    " 'american physiological society': 'association for psychological science',\n",
    " 'elsevier science': 'elsevier',\n",
    " 'cambridge journals': 'cambridge university press',\n",
    " 'oxford journals': 'oxford university press',\n",
    " 'mary ann liberty inc. publishers': 'mary ann liebert',\n",
    " 'iop publishing': 'institute of physics' ,\n",
    " 'mit press open access': 'mit press',\n",
    " 'national academy of sciences of the united states of america': 'national academy of sciences',\n",
    " 'wolters kluwer n.v. lippinott': 'wolters kluwer'}"
   ]
  },
  {
   "cell_type": "code",
   "execution_count": 25,
   "metadata": {},
   "outputs": [],
   "source": [
    "df.replace(sim_pubs, inplace=True)"
   ]
  },
  {
   "cell_type": "code",
   "execution_count": 26,
   "metadata": {},
   "outputs": [],
   "source": [
    "df = df.sort_values('publisher')"
   ]
  },
  {
   "cell_type": "code",
   "execution_count": 27,
   "metadata": {},
   "outputs": [],
   "source": [
    "sim_pubs = {'berhahn books':'berghahn books',\n",
    " 'camdus journal services': 'cadmus',\n",
    " 't&f': 'taylor and francis',\n",
    " 'wiley blackwell': 'wiley'}"
   ]
  },
  {
   "cell_type": "code",
   "execution_count": 28,
   "metadata": {},
   "outputs": [],
   "source": [
    "df.replace(sim_pubs, inplace=True)"
   ]
  },
  {
   "cell_type": "markdown",
   "metadata": {},
   "source": [
    "# Top 5 Publishers"
   ]
  },
  {
   "cell_type": "code",
   "execution_count": 29,
   "metadata": {},
   "outputs": [
    {
     "data": {
      "text/plain": [
       "elsevier                     409\n",
       "public library of science    307\n",
       "wiley                        270\n",
       "oxford university press      167\n",
       "biomed central                96\n",
       "Name: publisher, dtype: int64"
      ]
     },
     "execution_count": 29,
     "metadata": {},
     "output_type": "execute_result"
    }
   ],
   "source": [
    "df.publisher.value_counts().head(5)"
   ]
  },
  {
   "cell_type": "code",
   "execution_count": 30,
   "metadata": {},
   "outputs": [],
   "source": [
    "df.columns = ['pmid_pmcid',\n",
    " 'publisher',\n",
    " 'journal_title',\n",
    " 'article_title',\n",
    " 'cost']"
   ]
  },
  {
   "cell_type": "markdown",
   "metadata": {},
   "source": [
    "Get rid of outliers in the cost data 3 or more standard deviations out"
   ]
  },
  {
   "cell_type": "code",
   "execution_count": 31,
   "metadata": {},
   "outputs": [],
   "source": [
    "df = df[(np.abs(stats.zscore(df.cost)) < 3)]"
   ]
  },
  {
   "cell_type": "code",
   "execution_count": 32,
   "metadata": {},
   "outputs": [
    {
     "data": {
      "image/png": "[encoded data removed]",
      "text/plain": [
       "<Figure size 1080x360 with 2 Axes>"
      ]
     },
     "metadata": {},
     "output_type": "display_data"
    }
   ],
   "source": [
    "plt.style.use('seaborn-whitegrid')\n",
    "\n",
    "plt.figure(figsize=(15,5))\n",
    "\n",
    "plt.subplot(122)\n",
    "plt.boxplot(df.cost)\n",
    "plt.ylim((-375,7500))\n",
    "plt.title('Zoomed Boxplot')\n",
    "\n",
    "plt.subplot(121)\n",
    "plt.boxplot(df.cost)\n",
    "plt.title('Boxplot of Journal Costs')\n",
    "\n",
    "plt.tight_layout()\n",
    "plt.show()"
   ]
  },
  {
   "cell_type": "code",
   "execution_count": 33,
   "metadata": {},
   "outputs": [],
   "source": [
    "df_cent_cost = df.groupby('publisher').agg({'cost': ['mean','median','std']})"
   ]
  },
  {
   "cell_type": "markdown",
   "metadata": {},
   "source": [
    "# Mean, median and std for each publisher"
   ]
  },
  {
   "cell_type": "code",
   "execution_count": 34,
   "metadata": {
    "scrolled": true
   },
   "outputs": [
    {
     "data": {
      "text/html": [
       "<div>\n",
       "<style scoped>\n",
       "    .dataframe tbody tr th:only-of-type {\n",
       "        vertical-align: middle;\n",
       "    }\n",
       "\n",
       "    .dataframe tbody tr th {\n",
       "        vertical-align: top;\n",
       "    }\n",
       "\n",
       "    .dataframe thead tr th {\n",
       "        text-align: left;\n",
       "    }\n",
       "\n",
       "    .dataframe thead tr:last-of-type th {\n",
       "        text-align: right;\n",
       "    }\n",
       "</style>\n",
       "<table border=\"1\" class=\"dataframe\">\n",
       "  <thead>\n",
       "    <tr>\n",
       "      <th></th>\n",
       "      <th colspan=\"3\" halign=\"left\">cost</th>\n",
       "    </tr>\n",
       "    <tr>\n",
       "      <th></th>\n",
       "      <th>mean</th>\n",
       "      <th>median</th>\n",
       "      <th>std</th>\n",
       "    </tr>\n",
       "    <tr>\n",
       "      <th>publisher</th>\n",
       "      <th></th>\n",
       "      <th></th>\n",
       "      <th></th>\n",
       "    </tr>\n",
       "  </thead>\n",
       "  <tbody>\n",
       "    <tr>\n",
       "      <th>aga institute</th>\n",
       "      <td>238.080000</td>\n",
       "      <td>238.080</td>\n",
       "      <td>NaN</td>\n",
       "    </tr>\n",
       "    <tr>\n",
       "      <th>american association of immunologists</th>\n",
       "      <td>2571.540000</td>\n",
       "      <td>2571.540</td>\n",
       "      <td>758.782145</td>\n",
       "    </tr>\n",
       "    <tr>\n",
       "      <th>american chemical society</th>\n",
       "      <td>1262.137333</td>\n",
       "      <td>1277.480</td>\n",
       "      <td>628.206705</td>\n",
       "    </tr>\n",
       "    <tr>\n",
       "      <th>american college of chest physicians</th>\n",
       "      <td>2383.940000</td>\n",
       "      <td>2383.940</td>\n",
       "      <td>NaN</td>\n",
       "    </tr>\n",
       "    <tr>\n",
       "      <th>american psychiatric association</th>\n",
       "      <td>2350.875000</td>\n",
       "      <td>2350.875</td>\n",
       "      <td>1.209153</td>\n",
       "    </tr>\n",
       "    <tr>\n",
       "      <th>american psychological association</th>\n",
       "      <td>2905.475000</td>\n",
       "      <td>2997.520</td>\n",
       "      <td>275.989046</td>\n",
       "    </tr>\n",
       "    <tr>\n",
       "      <th>american public health association</th>\n",
       "      <td>1422.250000</td>\n",
       "      <td>1422.250</td>\n",
       "      <td>NaN</td>\n",
       "    </tr>\n",
       "    <tr>\n",
       "      <th>american society for biochemistry and molecular biology</th>\n",
       "      <td>1376.695352</td>\n",
       "      <td>1311.730</td>\n",
       "      <td>385.107033</td>\n",
       "    </tr>\n",
       "    <tr>\n",
       "      <th>american society for investigative pathology</th>\n",
       "      <td>995.310000</td>\n",
       "      <td>995.310</td>\n",
       "      <td>NaN</td>\n",
       "    </tr>\n",
       "    <tr>\n",
       "      <th>american society for microbiology</th>\n",
       "      <td>1736.640455</td>\n",
       "      <td>1586.195</td>\n",
       "      <td>592.528948</td>\n",
       "    </tr>\n",
       "    <tr>\n",
       "      <th>american society for nutrition</th>\n",
       "      <td>45.940000</td>\n",
       "      <td>45.940</td>\n",
       "      <td>NaN</td>\n",
       "    </tr>\n",
       "    <tr>\n",
       "      <th>american society of haematology</th>\n",
       "      <td>1402.984444</td>\n",
       "      <td>1340.750</td>\n",
       "      <td>154.737671</td>\n",
       "    </tr>\n",
       "    <tr>\n",
       "      <th>american society of microbiology</th>\n",
       "      <td>1543.923333</td>\n",
       "      <td>1364.470</td>\n",
       "      <td>416.333955</td>\n",
       "    </tr>\n",
       "    <tr>\n",
       "      <th>american speech language hearing association</th>\n",
       "      <td>1969.020000</td>\n",
       "      <td>1969.020</td>\n",
       "      <td>NaN</td>\n",
       "    </tr>\n",
       "    <tr>\n",
       "      <th>association for psychological science</th>\n",
       "      <td>1353.926250</td>\n",
       "      <td>1302.800</td>\n",
       "      <td>112.067341</td>\n",
       "    </tr>\n",
       "    <tr>\n",
       "      <th>association for research in vision and ophthalmology</th>\n",
       "      <td>1157.880000</td>\n",
       "      <td>1157.880</td>\n",
       "      <td>NaN</td>\n",
       "    </tr>\n",
       "    <tr>\n",
       "      <th>bentham science publishers</th>\n",
       "      <td>2217.105000</td>\n",
       "      <td>2217.105</td>\n",
       "      <td>104.814438</td>\n",
       "    </tr>\n",
       "    <tr>\n",
       "      <th>berghahn books</th>\n",
       "      <td>651.250000</td>\n",
       "      <td>651.250</td>\n",
       "      <td>0.000000</td>\n",
       "    </tr>\n",
       "    <tr>\n",
       "      <th>biochem journal</th>\n",
       "      <td>2853.215000</td>\n",
       "      <td>2853.215</td>\n",
       "      <td>1489.470937</td>\n",
       "    </tr>\n",
       "    <tr>\n",
       "      <th>biomed central</th>\n",
       "      <td>1336.937234</td>\n",
       "      <td>1315.800</td>\n",
       "      <td>344.405453</td>\n",
       "    </tr>\n",
       "    <tr>\n",
       "      <th>biophysical society</th>\n",
       "      <td>1486.064687</td>\n",
       "      <td>1680.000</td>\n",
       "      <td>375.948817</td>\n",
       "    </tr>\n",
       "    <tr>\n",
       "      <th>bioscientifica</th>\n",
       "      <td>1440.000000</td>\n",
       "      <td>1200.000</td>\n",
       "      <td>536.656315</td>\n",
       "    </tr>\n",
       "    <tr>\n",
       "      <th>brill</th>\n",
       "      <td>779.720000</td>\n",
       "      <td>779.720</td>\n",
       "      <td>NaN</td>\n",
       "    </tr>\n",
       "    <tr>\n",
       "      <th>british medical journal</th>\n",
       "      <td>2075.393103</td>\n",
       "      <td>2040.000</td>\n",
       "      <td>614.378370</td>\n",
       "    </tr>\n",
       "    <tr>\n",
       "      <th>cadmus</th>\n",
       "      <td>1462.036364</td>\n",
       "      <td>1349.180</td>\n",
       "      <td>318.072592</td>\n",
       "    </tr>\n",
       "    <tr>\n",
       "      <th>cambridge university press</th>\n",
       "      <td>1656.903226</td>\n",
       "      <td>2034.000</td>\n",
       "      <td>567.135161</td>\n",
       "    </tr>\n",
       "    <tr>\n",
       "      <th>cell press</th>\n",
       "      <td>2379.445000</td>\n",
       "      <td>2379.445</td>\n",
       "      <td>55.005837</td>\n",
       "    </tr>\n",
       "    <tr>\n",
       "      <th>cenveo publisher services</th>\n",
       "      <td>2310.830000</td>\n",
       "      <td>2310.830</td>\n",
       "      <td>NaN</td>\n",
       "    </tr>\n",
       "    <tr>\n",
       "      <th>coaction</th>\n",
       "      <td>1370.630000</td>\n",
       "      <td>1370.630</td>\n",
       "      <td>NaN</td>\n",
       "    </tr>\n",
       "    <tr>\n",
       "      <th>cold spring harbor press</th>\n",
       "      <td>1332.616250</td>\n",
       "      <td>1403.025</td>\n",
       "      <td>229.650532</td>\n",
       "    </tr>\n",
       "    <tr>\n",
       "      <th>...</th>\n",
       "      <td>...</td>\n",
       "      <td>...</td>\n",
       "      <td>...</td>\n",
       "    </tr>\n",
       "    <tr>\n",
       "      <th>open access reg ltd</th>\n",
       "      <td>1451.600000</td>\n",
       "      <td>1451.600</td>\n",
       "      <td>NaN</td>\n",
       "    </tr>\n",
       "    <tr>\n",
       "      <th>optical society of america</th>\n",
       "      <td>1375.330000</td>\n",
       "      <td>1375.330</td>\n",
       "      <td>NaN</td>\n",
       "    </tr>\n",
       "    <tr>\n",
       "      <th>oxford university press</th>\n",
       "      <td>1844.429817</td>\n",
       "      <td>2040.000</td>\n",
       "      <td>512.114781</td>\n",
       "    </tr>\n",
       "    <tr>\n",
       "      <th>pion</th>\n",
       "      <td>1800.000000</td>\n",
       "      <td>1800.000</td>\n",
       "      <td>NaN</td>\n",
       "    </tr>\n",
       "    <tr>\n",
       "      <th>policy press</th>\n",
       "      <td>1800.000000</td>\n",
       "      <td>1800.000</td>\n",
       "      <td>NaN</td>\n",
       "    </tr>\n",
       "    <tr>\n",
       "      <th>portland press</th>\n",
       "      <td>1709.428182</td>\n",
       "      <td>1800.000</td>\n",
       "      <td>464.768355</td>\n",
       "    </tr>\n",
       "    <tr>\n",
       "      <th>public library of science</th>\n",
       "      <td>1790.337123</td>\n",
       "      <td>1020.425</td>\n",
       "      <td>11214.640461</td>\n",
       "    </tr>\n",
       "    <tr>\n",
       "      <th>public.service.co.uk</th>\n",
       "      <td>6000.000000</td>\n",
       "      <td>6000.000</td>\n",
       "      <td>NaN</td>\n",
       "    </tr>\n",
       "    <tr>\n",
       "      <th>pubmed</th>\n",
       "      <td>1955.395000</td>\n",
       "      <td>1955.395</td>\n",
       "      <td>601.599378</td>\n",
       "    </tr>\n",
       "    <tr>\n",
       "      <th>research media ltd</th>\n",
       "      <td>2350.000000</td>\n",
       "      <td>2350.000</td>\n",
       "      <td>NaN</td>\n",
       "    </tr>\n",
       "    <tr>\n",
       "      <th>royal college of psychiatrists</th>\n",
       "      <td>3000.000000</td>\n",
       "      <td>3000.000</td>\n",
       "      <td>0.000000</td>\n",
       "    </tr>\n",
       "    <tr>\n",
       "      <th>royal society of chemistry</th>\n",
       "      <td>1710.800000</td>\n",
       "      <td>1632.000</td>\n",
       "      <td>552.893480</td>\n",
       "    </tr>\n",
       "    <tr>\n",
       "      <th>sage</th>\n",
       "      <td>1727.894737</td>\n",
       "      <td>1920.000</td>\n",
       "      <td>547.747251</td>\n",
       "    </tr>\n",
       "    <tr>\n",
       "      <th>sciedu press</th>\n",
       "      <td>161.160000</td>\n",
       "      <td>161.160</td>\n",
       "      <td>36.585705</td>\n",
       "    </tr>\n",
       "    <tr>\n",
       "      <th>scientific research publishing</th>\n",
       "      <td>551.270000</td>\n",
       "      <td>551.270</td>\n",
       "      <td>NaN</td>\n",
       "    </tr>\n",
       "    <tr>\n",
       "      <th>sheridan press</th>\n",
       "      <td>1295.727143</td>\n",
       "      <td>1224.610</td>\n",
       "      <td>356.849836</td>\n",
       "    </tr>\n",
       "    <tr>\n",
       "      <th>society for endocrinologyy</th>\n",
       "      <td>1574.540000</td>\n",
       "      <td>1574.540</td>\n",
       "      <td>600.390226</td>\n",
       "    </tr>\n",
       "    <tr>\n",
       "      <th>society for general microbiology</th>\n",
       "      <td>1979.687500</td>\n",
       "      <td>2100.000</td>\n",
       "      <td>188.683763</td>\n",
       "    </tr>\n",
       "    <tr>\n",
       "      <th>society for leukocyte biology</th>\n",
       "      <td>1777.190000</td>\n",
       "      <td>1777.190</td>\n",
       "      <td>252.875527</td>\n",
       "    </tr>\n",
       "    <tr>\n",
       "      <th>society for neuroscience</th>\n",
       "      <td>1923.320000</td>\n",
       "      <td>2049.610</td>\n",
       "      <td>600.152616</td>\n",
       "    </tr>\n",
       "    <tr>\n",
       "      <th>society for publication of acta dermato venereologica</th>\n",
       "      <td>653.960000</td>\n",
       "      <td>653.960</td>\n",
       "      <td>NaN</td>\n",
       "    </tr>\n",
       "    <tr>\n",
       "      <th>springer</th>\n",
       "      <td>2026.046105</td>\n",
       "      <td>1981.190</td>\n",
       "      <td>270.947196</td>\n",
       "    </tr>\n",
       "    <tr>\n",
       "      <th>taylor and francis</th>\n",
       "      <td>2210.354211</td>\n",
       "      <td>2145.600</td>\n",
       "      <td>197.280312</td>\n",
       "    </tr>\n",
       "    <tr>\n",
       "      <th>the american chemical society petroleum research trust</th>\n",
       "      <td>1178.720000</td>\n",
       "      <td>1276.860</td>\n",
       "      <td>388.402452</td>\n",
       "    </tr>\n",
       "    <tr>\n",
       "      <th>the american society of pediatrics</th>\n",
       "      <td>2645.850000</td>\n",
       "      <td>2645.850</td>\n",
       "      <td>NaN</td>\n",
       "    </tr>\n",
       "    <tr>\n",
       "      <th>the boulevard</th>\n",
       "      <td>2421.960000</td>\n",
       "      <td>2421.960</td>\n",
       "      <td>NaN</td>\n",
       "    </tr>\n",
       "    <tr>\n",
       "      <th>transcript verlag</th>\n",
       "      <td>1653.020000</td>\n",
       "      <td>1653.020</td>\n",
       "      <td>NaN</td>\n",
       "    </tr>\n",
       "    <tr>\n",
       "      <th>university of the basque country press</th>\n",
       "      <td>1306.110000</td>\n",
       "      <td>1306.110</td>\n",
       "      <td>NaN</td>\n",
       "    </tr>\n",
       "    <tr>\n",
       "      <th>wiley</th>\n",
       "      <td>2758.961955</td>\n",
       "      <td>2007.740</td>\n",
       "      <td>12207.951008</td>\n",
       "    </tr>\n",
       "    <tr>\n",
       "      <th>wolters kluwer</th>\n",
       "      <td>1857.793333</td>\n",
       "      <td>1836.920</td>\n",
       "      <td>280.825618</td>\n",
       "    </tr>\n",
       "  </tbody>\n",
       "</table>\n",
       "<p>95 rows × 3 columns</p>\n",
       "</div>"
      ],
      "text/plain": [
       "                                               cost                        \n",
       "                                               mean    median           std\n",
       "publisher                                                                  \n",
       "aga institute                            238.080000   238.080           NaN\n",
       "american association of immunologists   2571.540000  2571.540    758.782145\n",
       "american chemical society               1262.137333  1277.480    628.206705\n",
       "american college of chest physicians    2383.940000  2383.940           NaN\n",
       "american psychiatric association        2350.875000  2350.875      1.209153\n",
       "...                                             ...       ...           ...\n",
       "the boulevard                           2421.960000  2421.960           NaN\n",
       "transcript verlag                       1653.020000  1653.020           NaN\n",
       "university of the basque country press  1306.110000  1306.110           NaN\n",
       "wiley                                   2758.961955  2007.740  12207.951008\n",
       "wolters kluwer                          1857.793333  1836.920    280.825618\n",
       "\n",
       "[95 rows x 3 columns]"
      ]
     },
     "execution_count": 34,
     "metadata": {},
     "output_type": "execute_result"
    }
   ],
   "source": [
    "df_cent_cost"
   ]
  },
  {
   "cell_type": "code",
   "execution_count": null,
   "metadata": {},
   "outputs": [],
   "source": []
  }
 ],
 "metadata": {
  "kernelspec": {
   "display_name": "Python 3",
   "language": "python",
   "name": "python3"
  },
  "language_info": {
   "codemirror_mode": {
    "name": "ipython",
    "version": 3
   },
   "file_extension": ".py",
   "mimetype": "text/x-python",
   "name": "python",
   "nbconvert_exporter": "python",
   "pygments_lexer": "ipython3",
   "version": "3.7.0"
  }
 },
 "nbformat": 4,
 "nbformat_minor": 4
}
