{
 "cells": [
  {
   "cell_type": "markdown",
   "metadata": {},
   "source": [
    "Note: this is a simplified version of `data_dist_assignment` - this is only part one and there is more detail there"
   ]
  },
  {
   "cell_type": "markdown",
   "metadata": {},
   "source": [
    "<h2 align='center'>Assignments</h2>\n",
    "\n",
    "To complete the following drills, you'll need to use your Python skills to create some datasets, then use your new statistical knowledge to summarize them. Choose 6 distributions from the list of random distributions available in NumPy, called [\"Distributions\"](https://docs.scipy.org/doc/numpy/reference/random/legacy.html)\n",
    "\n",
    "For each distribution:\n",
    "\n",
    "1. Generate a random variable with 100 datapoints using the code `distributionvar = np.random.distributionname([arguments], 100)`, replacing `distributionvar` with an appropriate variable name and `distributionname` with the name of the distribution you’ve chosen, and filling in the empty space in the parentheses with your chosen values for the appropriate parameters. If you feel uncertain about how to do this, go back to the “Other Distributions” assignment for examples of code to use as a starting point.\n",
    "2. Graph the variable using a histogram.\n",
    "3. Compute the mean and standard deviation and plot them as vertical lines on the histogram.\n",
    "4. Evaluate whether the descriptive statistics provided useful information about the variable. Can you identify any common characteristics of the distributions that could be usefully described using the mean and/or standard deviation, versus the ones that could not?\n",
    "\n",
    "Additionally:\n",
    "\n",
    "1. Generate two normally-distributed variables, one with a mean of 5 and standard deviation of 0.5, and the other with a mean of 10 and standard deviation of 1.\n",
    "2. Add them together to create a third variable.\n",
    "3. Graph the third variable using a histogram.\n",
    "4. Compute the mean and standard deviation and plot them as vertical lines on the histogram.\n",
    "5. Evaluate the descriptive statistics against the data.\n",
    "\n",
    "When you've given it a try, you can find a sample solution [here](https://github.com/Thinkful-Ed/data-201-resources/blob/master/solutions/Prep%20course/3.3.4.ipynb)."
   ]
  },
  {
   "cell_type": "code",
   "execution_count": 1,
   "metadata": {},
   "outputs": [],
   "source": [
    "import numpy as np\n",
    "import pandas as pd\n",
    "import matplotlib.pyplot as plt\n",
    "%matplotlib inline"
   ]
  },
  {
   "cell_type": "code",
   "execution_count": 2,
   "metadata": {},
   "outputs": [],
   "source": [
    "import numpy.random as rs"
   ]
  },
  {
   "cell_type": "code",
   "execution_count": 3,
   "metadata": {},
   "outputs": [],
   "source": [
    "def quick_hist(varname):\n",
    "    plt.hist(varname)\n",
    "    plt.show()"
   ]
  },
  {
   "cell_type": "code",
   "execution_count": 4,
   "metadata": {},
   "outputs": [],
   "source": [
    "def mean_std_hist(varname):\n",
    "    mean = np.mean(varname)\n",
    "    std = np.std(varname)\n",
    "    plt.hist(varname, color='b', alpha=.5)\n",
    "    plt.axvline(mean, color='b', linestyle='solid', linewidth=2)\n",
    "    plt.axvline(mean+std, color='b', linestyle='dashed', linewidth=2)\n",
    "    plt.axvline(mean-std, color='b', linestyle='dashed', linewidth=2)\n",
    "    plt.show()\n",
    "    print('Mean: {}\\nStandard Deviation: {}\\n'.format(mean,std))"
   ]
  },
  {
   "cell_type": "code",
   "execution_count": 5,
   "metadata": {},
   "outputs": [],
   "source": [
    "def qq_norm_comp(varname):\n",
    "    norm = rs.normal(0, 1, 100)\n",
    "    norm.sort()\n",
    "    varname.sort()\n",
    "    plt.plot(norm, varname, \"o\")\n",
    "    plt.show()"
   ]
  },
  {
   "cell_type": "code",
   "execution_count": 6,
   "metadata": {},
   "outputs": [],
   "source": [
    "def run_it(varname):\n",
    "    print('2. Graph the variable using a histogram.')\n",
    "    quick_hist(varname)\n",
    "    print('3. Compute the mean and standard deviation and plot them as vertical lines on the histogram.')\n",
    "    mean_std_hist(varname)\n",
    "    print('4. Evaluate whether the descriptive statistics provided useful information about the variable. Can you identify any common\\ncharacteristics of the distributions that could be usefully described using the mean and/or standard deviation, versus the ones that could not?')\n",
    "    qq_norm_comp(varname)\n",
    "    print('The straighter the line, the closer to normal the variable is, indicating mean and standard deviation may be a good fit for\\nthis data, the inverse is also true.\\n')\n",
    "    "
   ]
  },
  {
   "cell_type": "markdown",
   "metadata": {},
   "source": [
    "Chosen distributions: `chisquare, exponential, logistic, power, uniform, and weibull`"
   ]
  },
  {
   "cell_type": "markdown",
   "metadata": {},
   "source": [
    "1. Generate a random variable with 100 datapoints using the code `distributionvar = np.random.distributionname([arguments], 100)`, replacing `distributionvar` with an appropriate variable name and `distributionname` with the name of the distribution you’ve chosen, and filling in the empty space in the parentheses with your chosen values for the appropriate parameters. If you feel uncertain about how to do this, go back to the “Other Distributions” assignment for examples of code to use as a starting point."
   ]
  },
  {
   "cell_type": "code",
   "execution_count": 7,
   "metadata": {},
   "outputs": [],
   "source": [
    "#create variables\n",
    "chisquarevar = rs.chisquare(10, 100)\n",
    "exponentialvar = rs.exponential(1, 100)\n",
    "logisticvar = rs.logistic(size=100)\n",
    "powervar = rs.power(1, 100)\n",
    "uniformvar = rs.uniform(0, 1, 100)\n",
    "weibullvar = rs.weibull(10, 100)"
   ]
  },
  {
   "cell_type": "code",
   "execution_count": 8,
   "metadata": {
    "scrolled": false
   },
   "outputs": [
    {
     "name": "stdout",
     "output_type": "stream",
     "text": [
      "2. Graph the variable using a histogram.\n"
     ]
    },
    {
     "data": {
      "image/png": "[encoded data removed]",
      "text/plain": [
       "<Figure size 432x288 with 1 Axes>"
      ]
     },
     "metadata": {
      "needs_background": "light"
     },
     "output_type": "display_data"
    },
    {
     "name": "stdout",
     "output_type": "stream",
     "text": [
      "3. Compute the mean and standard deviation and plot them as vertical lines on the histogram.\n"
     ]
    },
    {
     "data": {
      "image/png": "[encoded data removed]",
      "text/plain": [
       "<Figure size 432x288 with 1 Axes>"
      ]
     },
     "metadata": {
      "needs_background": "light"
     },
     "output_type": "display_data"
    },
    {
     "name": "stdout",
     "output_type": "stream",
     "text": [
      "Mean: 9.977621722390547\n",
      "Standard Deviation: 4.249585583044291\n",
      "\n",
      "4. Evaluate whether the descriptive statistics provided useful information about the variable. Can you identify any common\n",
      "characteristics of the distributions that could be usefully described using the mean and/or standard deviation, versus the ones that could not?\n"
     ]
    },
    {
     "data": {
      "image/png": "[encoded data removed]",
      "text/plain": [
       "<Figure size 432x288 with 1 Axes>"
      ]
     },
     "metadata": {
      "needs_background": "light"
     },
     "output_type": "display_data"
    },
    {
     "name": "stdout",
     "output_type": "stream",
     "text": [
      "The straighter the line, the closer to normal the variable is, indicating mean and standard deviation may be a good fit for\n",
      "this data, the inverse is also true.\n",
      "\n"
     ]
    }
   ],
   "source": [
    "run_it(chisquarevar)"
   ]
  },
  {
   "cell_type": "code",
   "execution_count": 9,
   "metadata": {},
   "outputs": [
    {
     "name": "stdout",
     "output_type": "stream",
     "text": [
      "2. Graph the variable using a histogram.\n"
     ]
    },
    {
     "data": {
      "image/png": "[encoded data removed]",
      "text/plain": [
       "<Figure size 432x288 with 1 Axes>"
      ]
     },
     "metadata": {
      "needs_background": "light"
     },
     "output_type": "display_data"
    },
    {
     "name": "stdout",
     "output_type": "stream",
     "text": [
      "3. Compute the mean and standard deviation and plot them as vertical lines on the histogram.\n"
     ]
    },
    {
     "data": {
      "image/png": "[encoded data removed]",
      "text/plain": [
       "<Figure size 432x288 with 1 Axes>"
      ]
     },
     "metadata": {
      "needs_background": "light"
     },
     "output_type": "display_data"
    },
    {
     "name": "stdout",
     "output_type": "stream",
     "text": [
      "Mean: 1.186420174542826\n",
      "Standard Deviation: 1.3023645759536078\n",
      "\n",
      "4. Evaluate whether the descriptive statistics provided useful information about the variable. Can you identify any common\n",
      "characteristics of the distributions that could be usefully described using the mean and/or standard deviation, versus the ones that could not?\n"
     ]
    },
    {
     "data": {
      "image/png": "[encoded data removed]",
      "text/plain": [
       "<Figure size 432x288 with 1 Axes>"
      ]
     },
     "metadata": {
      "needs_background": "light"
     },
     "output_type": "display_data"
    },
    {
     "name": "stdout",
     "output_type": "stream",
     "text": [
      "The straighter the line, the closer to normal the variable is, indicating mean and standard deviation may be a good fit for\n",
      "this data, the inverse is also true.\n",
      "\n"
     ]
    }
   ],
   "source": [
    "run_it(exponentialvar)"
   ]
  },
  {
   "cell_type": "code",
   "execution_count": 10,
   "metadata": {},
   "outputs": [
    {
     "name": "stdout",
     "output_type": "stream",
     "text": [
      "2. Graph the variable using a histogram.\n"
     ]
    },
    {
     "data": {
      "image/png": "[encoded data removed]",
      "text/plain": [
       "<Figure size 432x288 with 1 Axes>"
      ]
     },
     "metadata": {
      "needs_background": "light"
     },
     "output_type": "display_data"
    },
    {
     "name": "stdout",
     "output_type": "stream",
     "text": [
      "3. Compute the mean and standard deviation and plot them as vertical lines on the histogram.\n"
     ]
    },
    {
     "data": {
      "image/png": "[encoded data removed]",
      "text/plain": [
       "<Figure size 432x288 with 1 Axes>"
      ]
     },
     "metadata": {
      "needs_background": "light"
     },
     "output_type": "display_data"
    },
    {
     "name": "stdout",
     "output_type": "stream",
     "text": [
      "Mean: -0.22852383403324938\n",
      "Standard Deviation: 1.7964706755372957\n",
      "\n",
      "4. Evaluate whether the descriptive statistics provided useful information about the variable. Can you identify any common\n",
      "characteristics of the distributions that could be usefully described using the mean and/or standard deviation, versus the ones that could not?\n"
     ]
    },
    {
     "data": {
      "image/png": "[encoded data removed]",
      "text/plain": [
       "<Figure size 432x288 with 1 Axes>"
      ]
     },
     "metadata": {
      "needs_background": "light"
     },
     "output_type": "display_data"
    },
    {
     "name": "stdout",
     "output_type": "stream",
     "text": [
      "The straighter the line, the closer to normal the variable is, indicating mean and standard deviation may be a good fit for\n",
      "this data, the inverse is also true.\n",
      "\n"
     ]
    }
   ],
   "source": [
    "run_it(logisticvar)"
   ]
  },
  {
   "cell_type": "code",
   "execution_count": 11,
   "metadata": {},
   "outputs": [
    {
     "name": "stdout",
     "output_type": "stream",
     "text": [
      "2. Graph the variable using a histogram.\n"
     ]
    },
    {
     "data": {
      "image/png": "[encoded data removed]",
      "text/plain": [
       "<Figure size 432x288 with 1 Axes>"
      ]
     },
     "metadata": {
      "needs_background": "light"
     },
     "output_type": "display_data"
    },
    {
     "name": "stdout",
     "output_type": "stream",
     "text": [
      "3. Compute the mean and standard deviation and plot them as vertical lines on the histogram.\n"
     ]
    },
    {
     "data": {
      "image/png": "[encoded data removed]",
      "text/plain": [
       "<Figure size 432x288 with 1 Axes>"
      ]
     },
     "metadata": {
      "needs_background": "light"
     },
     "output_type": "display_data"
    },
    {
     "name": "stdout",
     "output_type": "stream",
     "text": [
      "Mean: 0.4513171020917829\n",
      "Standard Deviation: 0.3126893174108657\n",
      "\n",
      "4. Evaluate whether the descriptive statistics provided useful information about the variable. Can you identify any common\n",
      "characteristics of the distributions that could be usefully described using the mean and/or standard deviation, versus the ones that could not?\n"
     ]
    },
    {
     "data": {
      "image/png": "[encoded data removed]",
      "text/plain": [
       "<Figure size 432x288 with 1 Axes>"
      ]
     },
     "metadata": {
      "needs_background": "light"
     },
     "output_type": "display_data"
    },
    {
     "name": "stdout",
     "output_type": "stream",
     "text": [
      "The straighter the line, the closer to normal the variable is, indicating mean and standard deviation may be a good fit for\n",
      "this data, the inverse is also true.\n",
      "\n"
     ]
    }
   ],
   "source": [
    "run_it(powervar)"
   ]
  },
  {
   "cell_type": "code",
   "execution_count": 12,
   "metadata": {},
   "outputs": [
    {
     "name": "stdout",
     "output_type": "stream",
     "text": [
      "2. Graph the variable using a histogram.\n"
     ]
    },
    {
     "data": {
      "image/png": "[encoded data removed]",
      "text/plain": [
       "<Figure size 432x288 with 1 Axes>"
      ]
     },
     "metadata": {
      "needs_background": "light"
     },
     "output_type": "display_data"
    },
    {
     "name": "stdout",
     "output_type": "stream",
     "text": [
      "3. Compute the mean and standard deviation and plot them as vertical lines on the histogram.\n"
     ]
    },
    {
     "data": {
      "image/png": "[encoded data removed]",
      "text/plain": [
       "<Figure size 432x288 with 1 Axes>"
      ]
     },
     "metadata": {
      "needs_background": "light"
     },
     "output_type": "display_data"
    },
    {
     "name": "stdout",
     "output_type": "stream",
     "text": [
      "Mean: 0.49424449200450526\n",
      "Standard Deviation: 0.2908827395276695\n",
      "\n",
      "4. Evaluate whether the descriptive statistics provided useful information about the variable. Can you identify any common\n",
      "characteristics of the distributions that could be usefully described using the mean and/or standard deviation, versus the ones that could not?\n"
     ]
    },
    {
     "data": {
      "image/png": "[encoded data removed]",
      "text/plain": [
       "<Figure size 432x288 with 1 Axes>"
      ]
     },
     "metadata": {
      "needs_background": "light"
     },
     "output_type": "display_data"
    },
    {
     "name": "stdout",
     "output_type": "stream",
     "text": [
      "The straighter the line, the closer to normal the variable is, indicating mean and standard deviation may be a good fit for\n",
      "this data, the inverse is also true.\n",
      "\n"
     ]
    }
   ],
   "source": [
    "run_it(uniformvar)"
   ]
  },
  {
   "cell_type": "code",
   "execution_count": 13,
   "metadata": {},
   "outputs": [
    {
     "name": "stdout",
     "output_type": "stream",
     "text": [
      "2. Graph the variable using a histogram.\n"
     ]
    },
    {
     "data": {
      "image/png": "[encoded data removed]",
      "text/plain": [
       "<Figure size 432x288 with 1 Axes>"
      ]
     },
     "metadata": {
      "needs_background": "light"
     },
     "output_type": "display_data"
    },
    {
     "name": "stdout",
     "output_type": "stream",
     "text": [
      "3. Compute the mean and standard deviation and plot them as vertical lines on the histogram.\n"
     ]
    },
    {
     "data": {
      "image/png": "[encoded data removed]",
      "text/plain": [
       "<Figure size 432x288 with 1 Axes>"
      ]
     },
     "metadata": {
      "needs_background": "light"
     },
     "output_type": "display_data"
    },
    {
     "name": "stdout",
     "output_type": "stream",
     "text": [
      "Mean: 0.9545242488499721\n",
      "Standard Deviation: 0.10033274727672124\n",
      "\n",
      "4. Evaluate whether the descriptive statistics provided useful information about the variable. Can you identify any common\n",
      "characteristics of the distributions that could be usefully described using the mean and/or standard deviation, versus the ones that could not?\n"
     ]
    },
    {
     "data": {
      "image/png": "[encoded data removed]",
      "text/plain": [
       "<Figure size 432x288 with 1 Axes>"
      ]
     },
     "metadata": {
      "needs_background": "light"
     },
     "output_type": "display_data"
    },
    {
     "name": "stdout",
     "output_type": "stream",
     "text": [
      "The straighter the line, the closer to normal the variable is, indicating mean and standard deviation may be a good fit for\n",
      "this data, the inverse is also true.\n",
      "\n"
     ]
    }
   ],
   "source": [
    "run_it(weibullvar)"
   ]
  }
 ],
 "metadata": {
  "kernelspec": {
   "display_name": "Python 3",
   "language": "python",
   "name": "python3"
  },
  "language_info": {
   "codemirror_mode": {
    "name": "ipython",
    "version": 3
   },
   "file_extension": ".py",
   "mimetype": "text/x-python",
   "name": "python",
   "nbconvert_exporter": "python",
   "pygments_lexer": "ipython3",
   "version": "3.7.0"
  }
 },
 "nbformat": 4,
 "nbformat_minor": 2
}
