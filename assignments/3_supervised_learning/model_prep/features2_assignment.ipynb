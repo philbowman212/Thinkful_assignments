{
 "cells": [
  {
   "cell_type": "markdown",
   "metadata": {},
   "source": [
    "## Assignment\n",
    "\n",
    "In this assignment, you'll continue working with the [U.S. Education Dataset](https://www.kaggle.com/noriuk/us-education-datasets-unification-project/home) from Kaggle. The data gives detailed state level information on the several facets of the state of education on annual basis. To learn more about the data and the column descriptions, you can view the Kaggle link above. You should access the data from the Thinkful database. Below are the credentials you can use to connect to the database:\n",
    "\n",
    "postgres_user = 'dsbc_student'<br>\n",
    "postgres_pw = '7\\*.8G9QH21'<br>\n",
    "postgres_host = '142.93.121.174'<br>\n",
    "postgres_port = '5432'<br>\n",
    "postgres_db = 'useducation'<br>\n",
    "\n",
    "Don't forget to apply the most suitable missing value filling techniques you applied in the previous checkpoints to the data. You should provide your answers to the following questions after you handled the missing values.\n",
    "\n",
    "To complete this assignment, submit a link to a Jupyter notebook containing your solutions to the following tasks:\n",
    "\n",
    "Say, we want to understand the relationship between the expenditures of the governments and the students' overall success in the math and reading.\n",
    "\n",
    "1. Create a new score variable from the weighted averages of all score variables in the datasets. **Notice that the number of students in the 4th grade isn't the same as the number of students in the 8th grade. So, you should appropriately weigh the scores!**.\n",
    "2. What are the correlations between this newly created score variable and the expenditure types? Which 1 of the expenditure types is more correlated than the others?\n",
    "3. Now, apply PCA to the 4 expenditure types. How much of the total variance is explained by the 1st component?\n",
    "4. What is the correlation between the overall score variable and the 1st principal component? \n",
    "5. If you were to choose the best variables for your model, would you prefer using the 1st principal component instead of the expenditure variables? Why?"
   ]
  },
  {
   "cell_type": "markdown",
   "metadata": {},
   "source": [
    "### Instantiate and Quick Clean"
   ]
  },
  {
   "cell_type": "code",
   "execution_count": 1,
   "metadata": {},
   "outputs": [],
   "source": [
    "import numpy as np\n",
    "import pandas as pd\n",
    "from sqlalchemy import create_engine\n",
    "import matplotlib.pyplot as plt\n",
    "from scipy.stats import zscore\n",
    "from scipy.stats.mstats import winsorize\n",
    "from sklearn.decomposition import PCA\n",
    "from sklearn.preprocessing import scale\n",
    "%matplotlib inline"
   ]
  },
  {
   "cell_type": "code",
   "execution_count": 2,
   "metadata": {},
   "outputs": [],
   "source": [
    "postgres_user = 'dsbc_student'\n",
    "postgres_pw = '7*.8G9QH21'\n",
    "postgres_host = '142.93.121.174'\n",
    "postgres_port = '5432'\n",
    "postgres_db = 'useducation'\n",
    "\n",
    "engine = create_engine('postgresql://{}:{}@{}:{}/{}'.format(\n",
    "                        postgres_user, postgres_pw, postgres_host, postgres_port, postgres_db))\n",
    "\n",
    "df = pd.read_sql_query('select * from useducation', con=engine)\n",
    "\n",
    "engine.dispose()"
   ]
  },
  {
   "cell_type": "code",
   "execution_count": 3,
   "metadata": {},
   "outputs": [],
   "source": [
    "unique_states = list(df.STATE.unique())"
   ]
  },
  {
   "cell_type": "code",
   "execution_count": 4,
   "metadata": {},
   "outputs": [],
   "source": [
    "appended_data = []\n",
    "\n",
    "for state in unique_states:\n",
    "    state_df = df[df.STATE == state].copy().sort_values('YEAR').interpolate(limit_direction='both')\n",
    "    appended_data.append(state_df)\n",
    "\n",
    "filled_df = pd.concat(appended_data)"
   ]
  },
  {
   "cell_type": "code",
   "execution_count": 5,
   "metadata": {},
   "outputs": [],
   "source": [
    "filled_df.dropna(inplace=True) "
   ]
  },
  {
   "cell_type": "code",
   "execution_count": 6,
   "metadata": {},
   "outputs": [],
   "source": [
    "df = filled_df"
   ]
  },
  {
   "cell_type": "markdown",
   "metadata": {},
   "source": [
    "### 1. Create a new score variable from the weighted averages of all score variables in the datasets. Notice that the number of students in the 4th grade isn't the same as the number of students in the 8th grade. So, you should appropriately weigh the scores!"
   ]
  },
  {
   "cell_type": "code",
   "execution_count": 7,
   "metadata": {},
   "outputs": [],
   "source": [
    "g4_avg = (df.AVG_MATH_4_SCORE + df.AVG_READING_4_SCORE)/2\n",
    "g8_avg = (df.AVG_MATH_8_SCORE + df.AVG_READING_8_SCORE)/2"
   ]
  },
  {
   "cell_type": "code",
   "execution_count": 8,
   "metadata": {},
   "outputs": [],
   "source": [
    "g4_count = df.GRADES_4_G\n",
    "g8_count = df.GRADES_8_G\n",
    "overall_count = g4_count + g8_count"
   ]
  },
  {
   "cell_type": "code",
   "execution_count": 9,
   "metadata": {},
   "outputs": [],
   "source": [
    "df['OVERALL_SCORE'] = ((g4_count * g4_avg) + (g8_count * g8_avg)) / overall_count"
   ]
  },
  {
   "cell_type": "code",
   "execution_count": 10,
   "metadata": {},
   "outputs": [
    {
     "data": {
      "text/plain": [
       "0       232.204803\n",
       "52      233.367062\n",
       "104     234.015532\n",
       "157     234.889785\n",
       "209     235.106342\n",
       "           ...    \n",
       "1146    255.707927\n",
       "1197    255.834463\n",
       "1248    255.764406\n",
       "808     253.745430\n",
       "1490    251.726455\n",
       "Name: OVERALL_SCORE, Length: 1331, dtype: float64"
      ]
     },
     "execution_count": 10,
     "metadata": {},
     "output_type": "execute_result"
    }
   ],
   "source": [
    "df.OVERALL_SCORE"
   ]
  },
  {
   "cell_type": "markdown",
   "metadata": {},
   "source": [
    "### 2. What are the correlations between this newly created score variable and the expenditure types? Which 1 of the expenditure types is more correlated than the others?"
   ]
  },
  {
   "cell_type": "code",
   "execution_count": 11,
   "metadata": {},
   "outputs": [
    {
     "data": {
      "text/html": [
       "<div>\n",
       "<style scoped>\n",
       "    .dataframe tbody tr th:only-of-type {\n",
       "        vertical-align: middle;\n",
       "    }\n",
       "\n",
       "    .dataframe tbody tr th {\n",
       "        vertical-align: top;\n",
       "    }\n",
       "\n",
       "    .dataframe thead th {\n",
       "        text-align: right;\n",
       "    }\n",
       "</style>\n",
       "<table border=\"1\" class=\"dataframe\">\n",
       "  <thead>\n",
       "    <tr style=\"text-align: right;\">\n",
       "      <th></th>\n",
       "      <th>TOTAL_EXPENDITURE</th>\n",
       "      <th>INSTRUCTION_EXPENDITURE</th>\n",
       "      <th>SUPPORT_SERVICES_EXPENDITURE</th>\n",
       "      <th>OTHER_EXPENDITURE</th>\n",
       "      <th>CAPITAL_OUTLAY_EXPENDITURE</th>\n",
       "    </tr>\n",
       "  </thead>\n",
       "  <tbody>\n",
       "    <tr>\n",
       "      <th>0</th>\n",
       "      <td>2653798.0</td>\n",
       "      <td>1481703.0</td>\n",
       "      <td>735036.0</td>\n",
       "      <td>237222.0</td>\n",
       "      <td>174053.0</td>\n",
       "    </tr>\n",
       "    <tr>\n",
       "      <th>52</th>\n",
       "      <td>2833433.0</td>\n",
       "      <td>1564558.0</td>\n",
       "      <td>794146.0</td>\n",
       "      <td>237222.0</td>\n",
       "      <td>204207.0</td>\n",
       "    </tr>\n",
       "    <tr>\n",
       "      <th>104</th>\n",
       "      <td>3103266.0</td>\n",
       "      <td>1697593.0</td>\n",
       "      <td>826442.0</td>\n",
       "      <td>306977.0</td>\n",
       "      <td>231508.0</td>\n",
       "    </tr>\n",
       "    <tr>\n",
       "      <th>157</th>\n",
       "      <td>3353363.0</td>\n",
       "      <td>1851700.0</td>\n",
       "      <td>888983.0</td>\n",
       "      <td>326956.0</td>\n",
       "      <td>243365.0</td>\n",
       "    </tr>\n",
       "    <tr>\n",
       "      <th>209</th>\n",
       "      <td>3572283.0</td>\n",
       "      <td>1987018.0</td>\n",
       "      <td>935115.0</td>\n",
       "      <td>322883.0</td>\n",
       "      <td>286699.0</td>\n",
       "    </tr>\n",
       "  </tbody>\n",
       "</table>\n",
       "</div>"
      ],
      "text/plain": [
       "     TOTAL_EXPENDITURE  INSTRUCTION_EXPENDITURE  SUPPORT_SERVICES_EXPENDITURE  \\\n",
       "0            2653798.0                1481703.0                      735036.0   \n",
       "52           2833433.0                1564558.0                      794146.0   \n",
       "104          3103266.0                1697593.0                      826442.0   \n",
       "157          3353363.0                1851700.0                      888983.0   \n",
       "209          3572283.0                1987018.0                      935115.0   \n",
       "\n",
       "     OTHER_EXPENDITURE  CAPITAL_OUTLAY_EXPENDITURE  \n",
       "0             237222.0                    174053.0  \n",
       "52            237222.0                    204207.0  \n",
       "104           306977.0                    231508.0  \n",
       "157           326956.0                    243365.0  \n",
       "209           322883.0                    286699.0  "
      ]
     },
     "execution_count": 11,
     "metadata": {},
     "output_type": "execute_result"
    }
   ],
   "source": [
    "df.iloc[:, 8:13].head()"
   ]
  },
  {
   "cell_type": "code",
   "execution_count": 12,
   "metadata": {},
   "outputs": [
    {
     "name": "stdout",
     "output_type": "stream",
     "text": [
      "TOTAL_EXPENDITURE\n",
      "correlation is 0.1269550784320594\n",
      "INSTRUCTION_EXPENDITURE\n",
      "correlation is 0.13310514220800196\n",
      "SUPPORT_SERVICES_EXPENDITURE\n",
      "correlation is 0.1342736412760859\n",
      "OTHER_EXPENDITURE\n",
      "correlation is 0.0625966689884925\n",
      "CAPITAL_OUTLAY_EXPENDITURE\n",
      "correlation is 0.06053607031846737\n"
     ]
    }
   ],
   "source": [
    "for col in df.columns[8:13]:\n",
    "    print(col)\n",
    "    print('correlation is', df.OVERALL_SCORE.corr(df[col]))"
   ]
  },
  {
   "cell_type": "markdown",
   "metadata": {},
   "source": [
    "Alternative method:"
   ]
  },
  {
   "cell_type": "code",
   "execution_count": 13,
   "metadata": {},
   "outputs": [
    {
     "data": {
      "text/html": [
       "<div>\n",
       "<style scoped>\n",
       "    .dataframe tbody tr th:only-of-type {\n",
       "        vertical-align: middle;\n",
       "    }\n",
       "\n",
       "    .dataframe tbody tr th {\n",
       "        vertical-align: top;\n",
       "    }\n",
       "\n",
       "    .dataframe thead th {\n",
       "        text-align: right;\n",
       "    }\n",
       "</style>\n",
       "<table border=\"1\" class=\"dataframe\">\n",
       "  <thead>\n",
       "    <tr style=\"text-align: right;\">\n",
       "      <th></th>\n",
       "      <th>OVERALL_SCORE</th>\n",
       "      <th>INSTRUCTION_EXPENDITURE</th>\n",
       "      <th>SUPPORT_SERVICES_EXPENDITURE</th>\n",
       "      <th>OTHER_EXPENDITURE</th>\n",
       "      <th>CAPITAL_OUTLAY_EXPENDITURE</th>\n",
       "    </tr>\n",
       "  </thead>\n",
       "  <tbody>\n",
       "    <tr>\n",
       "      <th>OVERALL_SCORE</th>\n",
       "      <td>1.000000</td>\n",
       "      <td>0.133105</td>\n",
       "      <td>0.134274</td>\n",
       "      <td>0.062597</td>\n",
       "      <td>0.060536</td>\n",
       "    </tr>\n",
       "    <tr>\n",
       "      <th>INSTRUCTION_EXPENDITURE</th>\n",
       "      <td>0.133105</td>\n",
       "      <td>1.000000</td>\n",
       "      <td>0.976228</td>\n",
       "      <td>0.908494</td>\n",
       "      <td>0.893354</td>\n",
       "    </tr>\n",
       "    <tr>\n",
       "      <th>SUPPORT_SERVICES_EXPENDITURE</th>\n",
       "      <td>0.134274</td>\n",
       "      <td>0.976228</td>\n",
       "      <td>1.000000</td>\n",
       "      <td>0.953215</td>\n",
       "      <td>0.915092</td>\n",
       "    </tr>\n",
       "    <tr>\n",
       "      <th>OTHER_EXPENDITURE</th>\n",
       "      <td>0.062597</td>\n",
       "      <td>0.908494</td>\n",
       "      <td>0.953215</td>\n",
       "      <td>1.000000</td>\n",
       "      <td>0.920356</td>\n",
       "    </tr>\n",
       "    <tr>\n",
       "      <th>CAPITAL_OUTLAY_EXPENDITURE</th>\n",
       "      <td>0.060536</td>\n",
       "      <td>0.893354</td>\n",
       "      <td>0.915092</td>\n",
       "      <td>0.920356</td>\n",
       "      <td>1.000000</td>\n",
       "    </tr>\n",
       "  </tbody>\n",
       "</table>\n",
       "</div>"
      ],
      "text/plain": [
       "                              OVERALL_SCORE  INSTRUCTION_EXPENDITURE  \\\n",
       "OVERALL_SCORE                      1.000000                 0.133105   \n",
       "INSTRUCTION_EXPENDITURE            0.133105                 1.000000   \n",
       "SUPPORT_SERVICES_EXPENDITURE       0.134274                 0.976228   \n",
       "OTHER_EXPENDITURE                  0.062597                 0.908494   \n",
       "CAPITAL_OUTLAY_EXPENDITURE         0.060536                 0.893354   \n",
       "\n",
       "                              SUPPORT_SERVICES_EXPENDITURE  OTHER_EXPENDITURE  \\\n",
       "OVERALL_SCORE                                     0.134274           0.062597   \n",
       "INSTRUCTION_EXPENDITURE                           0.976228           0.908494   \n",
       "SUPPORT_SERVICES_EXPENDITURE                      1.000000           0.953215   \n",
       "OTHER_EXPENDITURE                                 0.953215           1.000000   \n",
       "CAPITAL_OUTLAY_EXPENDITURE                        0.915092           0.920356   \n",
       "\n",
       "                              CAPITAL_OUTLAY_EXPENDITURE  \n",
       "OVERALL_SCORE                                   0.060536  \n",
       "INSTRUCTION_EXPENDITURE                         0.893354  \n",
       "SUPPORT_SERVICES_EXPENDITURE                    0.915092  \n",
       "OTHER_EXPENDITURE                               0.920356  \n",
       "CAPITAL_OUTLAY_EXPENDITURE                      1.000000  "
      ]
     },
     "execution_count": 13,
     "metadata": {},
     "output_type": "execute_result"
    }
   ],
   "source": [
    "corr_cols = ['OVERALL_SCORE']\n",
    "for item in list(df.columns[9:13]):\n",
    "    corr_cols.append(item)\n",
    "df[corr_cols].corr()"
   ]
  },
  {
   "cell_type": "markdown",
   "metadata": {},
   "source": [
    "Appears that SUPPORT_SERVICES_EXPENDITURE has the highest correlation, but just barely edges out INSTRUCTION_EXPENDITURE."
   ]
  },
  {
   "cell_type": "markdown",
   "metadata": {},
   "source": [
    "### 3. Now, apply PCA to the 4 expenditure types. How much of the total variance is explained by the 1st component?"
   ]
  },
  {
   "cell_type": "markdown",
   "metadata": {},
   "source": [
    "**Long way** first - for understanding!"
   ]
  },
  {
   "cell_type": "code",
   "execution_count": 14,
   "metadata": {},
   "outputs": [
    {
     "name": "stdout",
     "output_type": "stream",
     "text": [
      "[[1.00075188 0.97696231 0.90917703 0.89402619]\n",
      " [0.97696231 1.00075188 0.95393168 0.91578002]\n",
      " [0.90917703 0.95393168 1.00075188 0.92104785]\n",
      " [0.89402619 0.91578002 0.92104785 1.00075188]]\n"
     ]
    }
   ],
   "source": [
    "X = scale(df[list(df.columns)[9:13]], with_mean=0, with_std=1)\n",
    "Xt = X.T\n",
    "Cx = np.cov(Xt)\n",
    "print(Cx)"
   ]
  },
  {
   "cell_type": "code",
   "execution_count": 15,
   "metadata": {},
   "outputs": [],
   "source": [
    "eig_val_cov, eig_vec_cov = np.linalg.eig(Cx)"
   ]
  },
  {
   "cell_type": "code",
   "execution_count": 16,
   "metadata": {},
   "outputs": [
    {
     "name": "stdout",
     "output_type": "stream",
     "text": [
      "[0.94595623 0.00348233 0.0311108  0.01945063]\n"
     ]
    }
   ],
   "source": [
    "print(eig_val_cov/sum(eig_val_cov))"
   ]
  },
  {
   "cell_type": "markdown",
   "metadata": {},
   "source": [
    "It would appear the first component explains approximately 94.6% of the variance."
   ]
  },
  {
   "cell_type": "markdown",
   "metadata": {},
   "source": [
    "**Quick Way**"
   ]
  },
  {
   "cell_type": "code",
   "execution_count": 17,
   "metadata": {},
   "outputs": [
    {
     "name": "stdout",
     "output_type": "stream",
     "text": [
      "[0.94595623 0.0311108  0.01945063 0.00348233]\n",
      "\n"
     ]
    }
   ],
   "source": [
    "sklearn_pca = PCA(n_components=4)\n",
    "Y_sklearn = sklearn_pca.fit_transform(X)\n",
    "print(sklearn_pca.explained_variance_ratio_)\n",
    "print()"
   ]
  },
  {
   "cell_type": "markdown",
   "metadata": {},
   "source": [
    "Same, just ordered differently (highest to lowest)"
   ]
  },
  {
   "cell_type": "markdown",
   "metadata": {},
   "source": [
    "### 4. What is the correlation between the overall score variable and the 1st principal component?"
   ]
  },
  {
   "cell_type": "code",
   "execution_count": 18,
   "metadata": {},
   "outputs": [],
   "source": [
    "P = eig_vec_cov[:, 0]\n",
    "comp1 = P.T.dot(X.T)\n",
    "sk_comp1 = Y_sklearn[:, 0]"
   ]
  },
  {
   "cell_type": "code",
   "execution_count": 19,
   "metadata": {},
   "outputs": [],
   "source": [
    "df['comp1'] = comp1\n",
    "df['sk_comp1'] = sk_comp1"
   ]
  },
  {
   "cell_type": "code",
   "execution_count": 20,
   "metadata": {},
   "outputs": [
    {
     "data": {
      "text/plain": [
       "-0.1006599555442414"
      ]
     },
     "execution_count": 20,
     "metadata": {},
     "output_type": "execute_result"
    }
   ],
   "source": [
    "df.OVERALL_SCORE.corr(df.comp1)"
   ]
  },
  {
   "cell_type": "code",
   "execution_count": 21,
   "metadata": {},
   "outputs": [
    {
     "data": {
      "text/plain": [
       "0.10065995554424141"
      ]
     },
     "execution_count": 21,
     "metadata": {},
     "output_type": "execute_result"
    }
   ],
   "source": [
    "df.OVERALL_SCORE.corr(df.sk_comp1)"
   ]
  },
  {
   "cell_type": "markdown",
   "metadata": {},
   "source": [
    "Still not very highly correlated."
   ]
  },
  {
   "cell_type": "code",
   "execution_count": 22,
   "metadata": {},
   "outputs": [
    {
     "data": {
      "text/html": [
       "<div>\n",
       "<style scoped>\n",
       "    .dataframe tbody tr th:only-of-type {\n",
       "        vertical-align: middle;\n",
       "    }\n",
       "\n",
       "    .dataframe tbody tr th {\n",
       "        vertical-align: top;\n",
       "    }\n",
       "\n",
       "    .dataframe thead th {\n",
       "        text-align: right;\n",
       "    }\n",
       "</style>\n",
       "<table border=\"1\" class=\"dataframe\">\n",
       "  <thead>\n",
       "    <tr style=\"text-align: right;\">\n",
       "      <th></th>\n",
       "      <th>OVERALL_SCORE</th>\n",
       "      <th>INSTRUCTION_EXPENDITURE</th>\n",
       "      <th>SUPPORT_SERVICES_EXPENDITURE</th>\n",
       "      <th>OTHER_EXPENDITURE</th>\n",
       "      <th>CAPITAL_OUTLAY_EXPENDITURE</th>\n",
       "      <th>comp1</th>\n",
       "      <th>sk_comp1</th>\n",
       "    </tr>\n",
       "  </thead>\n",
       "  <tbody>\n",
       "    <tr>\n",
       "      <th>OVERALL_SCORE</th>\n",
       "      <td>1.000000</td>\n",
       "      <td>0.133105</td>\n",
       "      <td>0.134274</td>\n",
       "      <td>0.062597</td>\n",
       "      <td>0.060536</td>\n",
       "      <td>-0.100660</td>\n",
       "      <td>0.100660</td>\n",
       "    </tr>\n",
       "    <tr>\n",
       "      <th>INSTRUCTION_EXPENDITURE</th>\n",
       "      <td>0.133105</td>\n",
       "      <td>1.000000</td>\n",
       "      <td>0.976228</td>\n",
       "      <td>0.908494</td>\n",
       "      <td>0.893354</td>\n",
       "      <td>-0.971381</td>\n",
       "      <td>0.971381</td>\n",
       "    </tr>\n",
       "    <tr>\n",
       "      <th>SUPPORT_SERVICES_EXPENDITURE</th>\n",
       "      <td>0.134274</td>\n",
       "      <td>0.976228</td>\n",
       "      <td>1.000000</td>\n",
       "      <td>0.953215</td>\n",
       "      <td>0.915092</td>\n",
       "      <td>-0.988483</td>\n",
       "      <td>0.988483</td>\n",
       "    </tr>\n",
       "    <tr>\n",
       "      <th>OTHER_EXPENDITURE</th>\n",
       "      <td>0.062597</td>\n",
       "      <td>0.908494</td>\n",
       "      <td>0.953215</td>\n",
       "      <td>1.000000</td>\n",
       "      <td>0.920356</td>\n",
       "      <td>-0.972226</td>\n",
       "      <td>0.972226</td>\n",
       "    </tr>\n",
       "    <tr>\n",
       "      <th>CAPITAL_OUTLAY_EXPENDITURE</th>\n",
       "      <td>0.060536</td>\n",
       "      <td>0.893354</td>\n",
       "      <td>0.915092</td>\n",
       "      <td>0.920356</td>\n",
       "      <td>1.000000</td>\n",
       "      <td>-0.958083</td>\n",
       "      <td>0.958083</td>\n",
       "    </tr>\n",
       "    <tr>\n",
       "      <th>comp1</th>\n",
       "      <td>-0.100660</td>\n",
       "      <td>-0.971381</td>\n",
       "      <td>-0.988483</td>\n",
       "      <td>-0.972226</td>\n",
       "      <td>-0.958083</td>\n",
       "      <td>1.000000</td>\n",
       "      <td>-1.000000</td>\n",
       "    </tr>\n",
       "    <tr>\n",
       "      <th>sk_comp1</th>\n",
       "      <td>0.100660</td>\n",
       "      <td>0.971381</td>\n",
       "      <td>0.988483</td>\n",
       "      <td>0.972226</td>\n",
       "      <td>0.958083</td>\n",
       "      <td>-1.000000</td>\n",
       "      <td>1.000000</td>\n",
       "    </tr>\n",
       "  </tbody>\n",
       "</table>\n",
       "</div>"
      ],
      "text/plain": [
       "                              OVERALL_SCORE  INSTRUCTION_EXPENDITURE  \\\n",
       "OVERALL_SCORE                      1.000000                 0.133105   \n",
       "INSTRUCTION_EXPENDITURE            0.133105                 1.000000   \n",
       "SUPPORT_SERVICES_EXPENDITURE       0.134274                 0.976228   \n",
       "OTHER_EXPENDITURE                  0.062597                 0.908494   \n",
       "CAPITAL_OUTLAY_EXPENDITURE         0.060536                 0.893354   \n",
       "comp1                             -0.100660                -0.971381   \n",
       "sk_comp1                           0.100660                 0.971381   \n",
       "\n",
       "                              SUPPORT_SERVICES_EXPENDITURE  OTHER_EXPENDITURE  \\\n",
       "OVERALL_SCORE                                     0.134274           0.062597   \n",
       "INSTRUCTION_EXPENDITURE                           0.976228           0.908494   \n",
       "SUPPORT_SERVICES_EXPENDITURE                      1.000000           0.953215   \n",
       "OTHER_EXPENDITURE                                 0.953215           1.000000   \n",
       "CAPITAL_OUTLAY_EXPENDITURE                        0.915092           0.920356   \n",
       "comp1                                            -0.988483          -0.972226   \n",
       "sk_comp1                                          0.988483           0.972226   \n",
       "\n",
       "                              CAPITAL_OUTLAY_EXPENDITURE     comp1  sk_comp1  \n",
       "OVERALL_SCORE                                   0.060536 -0.100660  0.100660  \n",
       "INSTRUCTION_EXPENDITURE                         0.893354 -0.971381  0.971381  \n",
       "SUPPORT_SERVICES_EXPENDITURE                    0.915092 -0.988483  0.988483  \n",
       "OTHER_EXPENDITURE                               0.920356 -0.972226  0.972226  \n",
       "CAPITAL_OUTLAY_EXPENDITURE                      1.000000 -0.958083  0.958083  \n",
       "comp1                                          -0.958083  1.000000 -1.000000  \n",
       "sk_comp1                                        0.958083 -1.000000  1.000000  "
      ]
     },
     "execution_count": 22,
     "metadata": {},
     "output_type": "execute_result"
    }
   ],
   "source": [
    "corr_cols.append('comp1')\n",
    "corr_cols.append('sk_comp1')\n",
    "df[corr_cols].corr()"
   ]
  },
  {
   "cell_type": "markdown",
   "metadata": {},
   "source": [
    "### 5. If you were to choose the best variables for your model, would you prefer using the 1st principal component instead of the expenditure variables? Why?"
   ]
  },
  {
   "cell_type": "markdown",
   "metadata": {},
   "source": [
    "Because the correlation between these variables either way is not very high, I probably wouldn't use either of them as features for a model where the target variable is overall score. However, if I were forced to choose one way or the other - both ways present advantages and disadvantages. The non-PCA way has variables that are higher correlated with the outcome variable, however with this brings the problem of higher dimensionality which will likely cause problems in our model. The PCA component way may be better even though it is not as correlated because it only brings one dimension into the fray, which is much simpler than 4! However, with PCA we must consider how correlated the variables are with one another, and in this case the expense variables are all highly correlated with one another which generally is not good for PCA. It is likely best to simply use one of the expenditure variables (that is most correlated with our outcome) to help explain the data."
   ]
  }
 ],
 "metadata": {
  "kernelspec": {
   "display_name": "Python 3",
   "language": "python",
   "name": "python3"
  },
  "language_info": {
   "codemirror_mode": {
    "name": "ipython",
    "version": 3
   },
   "file_extension": ".py",
   "mimetype": "text/x-python",
   "name": "python",
   "nbconvert_exporter": "python",
   "pygments_lexer": "ipython3",
   "version": "3.7.0"
  }
 },
 "nbformat": 4,
 "nbformat_minor": 4
}
