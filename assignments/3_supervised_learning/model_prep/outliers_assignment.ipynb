{
 "cells": [
  {
   "cell_type": "markdown",
   "metadata": {},
   "source": [
    "## Assignment\n",
    "\n",
    "In this assignment, you'll continue working with the [U.S. Education Dataset](https://www.kaggle.com/noriuk/us-education-datasets-unification-project/home) from Kaggle. The data gives detailed state level information on several facets of education on an annual basis. To learn more about the data and the column descriptions, you can view the Kaggle link above. \n",
    "\n",
    "Access this data using the Thinkful database using these credentials:\n",
    "\n",
    "postgres_user = 'dsbc_student'<br>\n",
    "postgres_pw = '7\\*.8G9QH21'<br>\n",
    "postgres_host = '142.93.121.174'<br>\n",
    "postgres_port = '5432'<br>\n",
    "postgres_db = 'useducation'<br>\n",
    "\n",
    "Don't forget to apply the most suitable missing value filling techniques from the previous checkpoint to the data. Provide the answers to the following only *after* you've addressed missing values!\n",
    "\n",
    "To complete this assignment, submit a link to a Jupyter notebook containing your solutions to the following tasks:\n",
    "\n",
    "1. Consider the two variables: *TOTAL_REVENUE* and *TOTAL_EXPENDITURE*. Do these variables have outlier values?\n",
    "2. If you detect outliers in the *TOTAL_REVENUE* and *TOTAL_EXPENDITURE* variables, apply the techniques you learned in this checkpoint to eliminate them and validate that there's no outlier values after you handled them.\n",
    "3. Create another variable by subtracting the original *TOTAL_EXPENDITURE* from *TOTAL_REVENUE* (before you eliminated the outliers). You can think of it as a kind of budget deficit in education. Do you find any outlier values in this new variable? If so, eliminate them using the technique you think most suitable.\n",
    "4. Now create another variable by subtracting the *TOTAL_EXPENDITURE* from *TOTAL_REVENUE*. This time, use the outlier eliminated versions of *TOTAL_EXPENDITURE* from *TOTAL_REVENUE*. In this newly created variable, can you find any outliers? If so, eliminate them.\n",
    "5. Compare some basic descriptive statistics of the budget variables you end up with in the 3rd and the 4th questions. Do you see any differences?\n",
    "6. If our variable of interest is the budget deficit variable, which method do you think is the appropriate in dealing with the outliers in this variable: the method in the 3rd question or the one in the 4th question?"
   ]
  },
  {
   "cell_type": "code",
   "execution_count": 1,
   "metadata": {},
   "outputs": [],
   "source": [
    "import numpy as np\n",
    "import pandas as pd\n",
    "from sqlalchemy import create_engine\n",
    "import matplotlib.pyplot as plt\n",
    "from scipy.stats import zscore\n",
    "from scipy.stats.mstats import winsorize\n",
    "%matplotlib inline"
   ]
  },
  {
   "cell_type": "code",
   "execution_count": 2,
   "metadata": {},
   "outputs": [],
   "source": [
    "postgres_user = 'dsbc_student'\n",
    "postgres_pw = '7*.8G9QH21'\n",
    "postgres_host = '142.93.121.174'\n",
    "postgres_port = '5432'\n",
    "postgres_db = 'useducation'\n",
    "\n",
    "engine = create_engine('postgresql://{}:{}@{}:{}/{}'.format(\n",
    "                        postgres_user, postgres_pw, postgres_host, postgres_port, postgres_db))\n",
    "\n",
    "df = pd.read_sql_query('select * from useducation', con=engine)\n",
    "\n",
    "engine.dispose()"
   ]
  },
  {
   "cell_type": "code",
   "execution_count": 3,
   "metadata": {},
   "outputs": [],
   "source": [
    "unique_states = list(df.STATE.unique())"
   ]
  },
  {
   "cell_type": "code",
   "execution_count": 4,
   "metadata": {},
   "outputs": [],
   "source": [
    "appended_data = []\n",
    "\n",
    "for state in unique_states:\n",
    "    state_df = df[df.STATE == state].copy().sort_values('YEAR').interpolate(limit_direction='both')\n",
    "    appended_data.append(state_df)\n",
    "\n",
    "filled_df = pd.concat(appended_data)"
   ]
  },
  {
   "cell_type": "code",
   "execution_count": 5,
   "metadata": {},
   "outputs": [],
   "source": [
    "filled_df.dropna(thresh=12, inplace=True) "
   ]
  },
  {
   "cell_type": "code",
   "execution_count": 6,
   "metadata": {},
   "outputs": [
    {
     "name": "stdout",
     "output_type": "stream",
     "text": [
      "<class 'pandas.core.frame.DataFrame'>\n",
      "Int64Index: 1331 entries, 0 to 1490\n",
      "Data columns (total 25 columns):\n",
      "PRIMARY_KEY                     1331 non-null object\n",
      "STATE                           1331 non-null object\n",
      "YEAR                            1331 non-null int64\n",
      "ENROLL                          1331 non-null float64\n",
      "TOTAL_REVENUE                   1331 non-null float64\n",
      "FEDERAL_REVENUE                 1331 non-null float64\n",
      "STATE_REVENUE                   1331 non-null float64\n",
      "LOCAL_REVENUE                   1331 non-null float64\n",
      "TOTAL_EXPENDITURE               1331 non-null float64\n",
      "INSTRUCTION_EXPENDITURE         1331 non-null float64\n",
      "SUPPORT_SERVICES_EXPENDITURE    1331 non-null float64\n",
      "OTHER_EXPENDITURE               1331 non-null float64\n",
      "CAPITAL_OUTLAY_EXPENDITURE      1331 non-null float64\n",
      "GRADES_PK_G                     1331 non-null float64\n",
      "GRADES_KG_G                     1331 non-null float64\n",
      "GRADES_4_G                      1331 non-null float64\n",
      "GRADES_8_G                      1331 non-null float64\n",
      "GRADES_12_G                     1331 non-null float64\n",
      "GRADES_1_8_G                    1331 non-null float64\n",
      "GRADES_9_12_G                   1331 non-null float64\n",
      "GRADES_ALL_G                    1331 non-null float64\n",
      "AVG_MATH_4_SCORE                1331 non-null float64\n",
      "AVG_MATH_8_SCORE                1331 non-null float64\n",
      "AVG_READING_4_SCORE             1331 non-null float64\n",
      "AVG_READING_8_SCORE             1331 non-null float64\n",
      "dtypes: float64(22), int64(1), object(2)\n",
      "memory usage: 260.0+ KB\n"
     ]
    }
   ],
   "source": [
    "filled_df.info()"
   ]
  },
  {
   "cell_type": "markdown",
   "metadata": {},
   "source": [
    "Data lightly cleaned and linearly interpolated by year and state, rows with a large number of null values after interpolation have been removed."
   ]
  },
  {
   "cell_type": "markdown",
   "metadata": {},
   "source": [
    "### 1. Consider the two variables: TOTAL_REVENUE and TOTAL_EXPENDITURE. Do these variables have outlier values?"
   ]
  },
  {
   "cell_type": "code",
   "execution_count": 7,
   "metadata": {},
   "outputs": [
    {
     "data": {
      "image/png": "[encoded data removed]",
      "text/plain": [
       "<Figure size 1080x720 with 4 Axes>"
      ]
     },
     "metadata": {
      "needs_background": "light"
     },
     "output_type": "display_data"
    }
   ],
   "source": [
    "fig = plt.figure(figsize=(15,10))\n",
    "fig.add_subplot(221)\n",
    "plt.boxplot(filled_df.TOTAL_REVENUE)\n",
    "plt.title('TOTAL_REVENUE')\n",
    "fig.add_subplot(222)\n",
    "plt.boxplot(filled_df.TOTAL_EXPENDITURE)\n",
    "plt.title('TOTAL_EXPENDITURE')\n",
    "fig.add_subplot(223)\n",
    "plt.hist(filled_df.TOTAL_REVENUE)\n",
    "plt.title('TOTAL_REVENUE')\n",
    "fig.add_subplot(224)\n",
    "plt.hist(filled_df.TOTAL_EXPENDITURE)\n",
    "plt.title('TOTAL_EXPENDITURE')\n",
    "plt.show()"
   ]
  },
  {
   "cell_type": "markdown",
   "metadata": {},
   "source": [
    "Based on a visual analysis it would appear we do indeed have a number of upper outliers if our threshold was the default (1.5) IQR range. What about using a statistical analysis?"
   ]
  },
  {
   "cell_type": "code",
   "execution_count": 8,
   "metadata": {},
   "outputs": [],
   "source": [
    "rev_zscores = zscore(filled_df.TOTAL_REVENUE)\n",
    "exp_zscores = zscore(filled_df.TOTAL_EXPENDITURE)"
   ]
  },
  {
   "cell_type": "code",
   "execution_count": 9,
   "metadata": {},
   "outputs": [],
   "source": [
    "def outlier_count(series, threshold):\n",
    "    print('Threshold:', threshold)\n",
    "    print('Number of outliers:', len(np.where(series > threshold)[0]))\n",
    "    print('Percent of data that is outlier:', len(np.where(series > threshold)[0])/len(series)*100)"
   ]
  },
  {
   "cell_type": "markdown",
   "metadata": {},
   "source": [
    "Check when the threshold is 1..."
   ]
  },
  {
   "cell_type": "code",
   "execution_count": 10,
   "metadata": {},
   "outputs": [
    {
     "name": "stdout",
     "output_type": "stream",
     "text": [
      "Threshold: 1\n",
      "Number of outliers: 139\n",
      "Percent of data that is outlier: 10.443275732531932\n"
     ]
    }
   ],
   "source": [
    "outlier_count(rev_zscores, 1)"
   ]
  },
  {
   "cell_type": "code",
   "execution_count": 11,
   "metadata": {},
   "outputs": [
    {
     "name": "stdout",
     "output_type": "stream",
     "text": [
      "Threshold: 1\n",
      "Number of outliers: 139\n",
      "Percent of data that is outlier: 10.443275732531932\n"
     ]
    }
   ],
   "source": [
    "outlier_count(exp_zscores, 1)"
   ]
  },
  {
   "cell_type": "markdown",
   "metadata": {},
   "source": [
    "If our threshold is 1 standard deviation with the z score method - then there are 139 outliers for both series of data - this may be a bit extreme as 10 percent of the data turn out to be outliers."
   ]
  },
  {
   "cell_type": "code",
   "execution_count": 12,
   "metadata": {},
   "outputs": [
    {
     "name": "stdout",
     "output_type": "stream",
     "text": [
      "Threshold: 2\n",
      "Number of outliers: 53\n",
      "Percent of data that is outlier: 3.9819684447783623\n",
      "Threshold: 2\n",
      "Number of outliers: 54\n",
      "Percent of data that is outlier: 4.0570999248685204\n"
     ]
    }
   ],
   "source": [
    "outlier_count(rev_zscores, 2)\n",
    "outlier_count(exp_zscores, 2)"
   ]
  },
  {
   "cell_type": "code",
   "execution_count": 13,
   "metadata": {},
   "outputs": [
    {
     "name": "stdout",
     "output_type": "stream",
     "text": [
      "Threshold: 1.5\n",
      "Number of outliers: 88\n",
      "Percent of data that is outlier: 6.6115702479338845\n",
      "Threshold: 1.5\n",
      "Number of outliers: 91\n",
      "Percent of data that is outlier: 6.836964688204357\n"
     ]
    }
   ],
   "source": [
    "outlier_count(rev_zscores, 1.5)\n",
    "outlier_count(exp_zscores, 1.5)"
   ]
  },
  {
   "cell_type": "markdown",
   "metadata": {},
   "source": [
    "Somewhere in this range seems more reasonable as it lies closer to the 95% of all the data are not outliers range - winsorizing may be the best method here."
   ]
  },
  {
   "cell_type": "markdown",
   "metadata": {},
   "source": [
    "### 2. If you detect outliers in the TOTAL_REVENUE and TOTAL_EXPENDITURE variables, apply the techniques you learned in this checkpoint to eliminate them and validate that there's no outlier values after you handled them."
   ]
  },
  {
   "cell_type": "markdown",
   "metadata": {},
   "source": [
    "#### Winsorizing"
   ]
  },
  {
   "cell_type": "code",
   "execution_count": 14,
   "metadata": {},
   "outputs": [],
   "source": [
    "wins_rev = winsorize(filled_df.TOTAL_REVENUE, (0, .1))\n",
    "wins_exp = winsorize(filled_df.TOTAL_EXPENDITURE, (0, .1))"
   ]
  },
  {
   "cell_type": "code",
   "execution_count": 15,
   "metadata": {},
   "outputs": [
    {
     "data": {
      "image/png": "[encoded data removed]",
      "text/plain": [
       "<Figure size 1080x720 with 4 Axes>"
      ]
     },
     "metadata": {
      "needs_background": "light"
     },
     "output_type": "display_data"
    }
   ],
   "source": [
    "fig = plt.figure(figsize=(15,10))\n",
    "fig.add_subplot(221)\n",
    "plt.boxplot(wins_rev)\n",
    "plt.title('TOTAL_REVENUE')\n",
    "fig.add_subplot(222)\n",
    "plt.boxplot(wins_exp)\n",
    "plt.title('TOTAL_EXPENDITURE')\n",
    "fig.add_subplot(223)\n",
    "plt.hist(wins_rev)\n",
    "plt.title('TOTAL_REVENUE')\n",
    "fig.add_subplot(224)\n",
    "plt.hist(wins_exp)\n",
    "plt.title('TOTAL_EXPENDITURE')\n",
    "plt.show()"
   ]
  },
  {
   "cell_type": "markdown",
   "metadata": {},
   "source": [
    "Potential problem - definite skew for the higher end of the data (as expected when winsorizing this way) - maybe log transformation would work better?\n",
    "Potential advantage - no need to transform data!"
   ]
  },
  {
   "cell_type": "markdown",
   "metadata": {},
   "source": [
    "#### Log Transformation"
   ]
  },
  {
   "cell_type": "code",
   "execution_count": 16,
   "metadata": {},
   "outputs": [],
   "source": [
    "log_rev = np.log(filled_df.TOTAL_REVENUE)\n",
    "log_exp = np.log(filled_df.TOTAL_EXPENDITURE)"
   ]
  },
  {
   "cell_type": "code",
   "execution_count": 17,
   "metadata": {},
   "outputs": [
    {
     "data": {
      "image/png": "[encoded data removed]",
      "text/plain": [
       "<Figure size 1080x720 with 4 Axes>"
      ]
     },
     "metadata": {
      "needs_background": "light"
     },
     "output_type": "display_data"
    }
   ],
   "source": [
    "fig = plt.figure(figsize=(15,10))\n",
    "fig.add_subplot(221)\n",
    "plt.boxplot(log_rev)\n",
    "plt.title('TOTAL_REVENUE')\n",
    "fig.add_subplot(222)\n",
    "plt.boxplot(log_exp)\n",
    "plt.title('TOTAL_EXPENDITURE')\n",
    "fig.add_subplot(223)\n",
    "plt.hist(log_rev)\n",
    "plt.title('TOTAL_REVENUE')\n",
    "fig.add_subplot(224)\n",
    "plt.hist(log_exp)\n",
    "plt.title('TOTAL_EXPENDITURE')\n",
    "plt.show()"
   ]
  },
  {
   "cell_type": "markdown",
   "metadata": {},
   "source": [
    "Potential advantage - this log based data gives us approximately normal data, which is nice!\\\n",
    "Potential disadvantage - transforming."
   ]
  },
  {
   "cell_type": "markdown",
   "metadata": {},
   "source": [
    "### 3. Create another variable by subtracting the original TOTAL_EXPENDITURE from TOTAL_REVENUE (before you eliminated the outliers). You can think of it as a kind of budget deficit in education. Do you find any outlier values in this new variable? If so, eliminate them using the technique you think most suitable."
   ]
  },
  {
   "cell_type": "code",
   "execution_count": 18,
   "metadata": {},
   "outputs": [],
   "source": [
    "filled_df['DEFICIT_SURPLUS'] = filled_df.TOTAL_REVENUE - filled_df.TOTAL_EXPENDITURE"
   ]
  },
  {
   "cell_type": "code",
   "execution_count": 19,
   "metadata": {},
   "outputs": [
    {
     "data": {
      "image/png": "[encoded data removed]",
      "text/plain": [
       "<Figure size 1080x360 with 2 Axes>"
      ]
     },
     "metadata": {
      "needs_background": "light"
     },
     "output_type": "display_data"
    }
   ],
   "source": [
    "fig = plt.figure(figsize=(15,5))\n",
    "fig.add_subplot(121)\n",
    "filled_df.DEFICIT_SURPLUS.plot(kind='box')\n",
    "fig.add_subplot(122)\n",
    "filled_df.DEFICIT_SURPLUS.plot(kind='hist')\n",
    "plt.show()"
   ]
  },
  {
   "cell_type": "markdown",
   "metadata": {},
   "source": [
    "There are a massive amount of outliers using the IQR/Tukey method displayed by the boxplot above. Can't do a straight up log transformation here since we have a multitude of negative numbers. So let's do a transformation with a constant, then take the log."
   ]
  },
  {
   "cell_type": "code",
   "execution_count": 20,
   "metadata": {},
   "outputs": [],
   "source": [
    "transform_constant = abs(filled_df.DEFICIT_SURPLUS.min() - .000001) ####log of zero is undefined so very slight amount added\n",
    "trans_def = filled_df.DEFICIT_SURPLUS + transform_constant\n",
    "log_def = np.log(trans_def)"
   ]
  },
  {
   "cell_type": "code",
   "execution_count": 21,
   "metadata": {},
   "outputs": [
    {
     "data": {
      "image/png": "[encoded data removed]",
      "text/plain": [
       "<Figure size 1080x360 with 2 Axes>"
      ]
     },
     "metadata": {
      "needs_background": "light"
     },
     "output_type": "display_data"
    }
   ],
   "source": [
    "fig = plt.figure(figsize=(15,5))\n",
    "fig.add_subplot(121)\n",
    "log_def.plot(kind='box')\n",
    "fig.add_subplot(122)\n",
    "log_def.plot(kind='hist')\n",
    "plt.show()"
   ]
  },
  {
   "cell_type": "markdown",
   "metadata": {},
   "source": [
    "Well...that didn't really work very well - winsorizing away!"
   ]
  },
  {
   "cell_type": "code",
   "execution_count": 22,
   "metadata": {},
   "outputs": [
    {
     "data": {
      "text/plain": [
       "masked_array(data=[  25087.,   -6042., -133043., ...,   83699.,  -90069.,\n",
       "                    -90069.],\n",
       "             mask=False,\n",
       "       fill_value=1e+20)"
      ]
     },
     "execution_count": 22,
     "metadata": {},
     "output_type": "execute_result"
    }
   ],
   "source": [
    "wins_def = winsorize(filled_df.DEFICIT_SURPLUS, (.1, .1))\n",
    "wins_def"
   ]
  },
  {
   "cell_type": "code",
   "execution_count": 23,
   "metadata": {},
   "outputs": [
    {
     "data": {
      "image/png": "[encoded data removed]",
      "text/plain": [
       "<Figure size 1080x360 with 2 Axes>"
      ]
     },
     "metadata": {
      "needs_background": "light"
     },
     "output_type": "display_data"
    }
   ],
   "source": [
    "fig = plt.figure(figsize=(15,5))\n",
    "fig.add_subplot(121)\n",
    "plt.boxplot(wins_def)\n",
    "fig.add_subplot(122)\n",
    "plt.hist(wins_def)\n",
    "plt.show()"
   ]
  },
  {
   "cell_type": "markdown",
   "metadata": {},
   "source": [
    "This looks more reasonable - limiting to between the 10th and 90th percentile of values appears to have removed all outliers."
   ]
  },
  {
   "cell_type": "markdown",
   "metadata": {},
   "source": [
    "### 4. Now create another variable by subtracting the TOTAL_EXPENDITURE from TOTAL_REVENUE. This time, use the outlier eliminated versions of TOTAL_EXPENDITURE from TOTAL_REVENUE. In this newly created variable, can you find any outliers? If so, eliminate them."
   ]
  },
  {
   "cell_type": "code",
   "execution_count": 24,
   "metadata": {},
   "outputs": [],
   "source": [
    "wins_sub_def = wins_rev - wins_exp"
   ]
  },
  {
   "cell_type": "code",
   "execution_count": 25,
   "metadata": {},
   "outputs": [
    {
     "data": {
      "image/png": "[encoded data removed]",
      "text/plain": [
       "<Figure size 1080x360 with 2 Axes>"
      ]
     },
     "metadata": {
      "needs_background": "light"
     },
     "output_type": "display_data"
    }
   ],
   "source": [
    "fig = plt.figure(figsize=(15,5))\n",
    "fig.add_subplot(121)\n",
    "plt.boxplot(wins_sub_def)\n",
    "fig.add_subplot(122)\n",
    "plt.hist(wins_sub_def)\n",
    "plt.show()"
   ]
  },
  {
   "cell_type": "markdown",
   "metadata": {},
   "source": [
    "Initially this looks a lot like the original less the original, only with less extreme values (but we still have extreme values). Let's winsorize our subtracted winsorized data."
   ]
  },
  {
   "cell_type": "code",
   "execution_count": 26,
   "metadata": {},
   "outputs": [],
   "source": [
    "wins_wins_def = winsorize(wins_sub_def, (.05, .05))"
   ]
  },
  {
   "cell_type": "code",
   "execution_count": 27,
   "metadata": {},
   "outputs": [
    {
     "data": {
      "image/png": "[encoded data removed]",
      "text/plain": [
       "<Figure size 1080x360 with 2 Axes>"
      ]
     },
     "metadata": {
      "needs_background": "light"
     },
     "output_type": "display_data"
    }
   ],
   "source": [
    "fig = plt.figure(figsize=(15,5))\n",
    "fig.add_subplot(121)\n",
    "plt.boxplot(wins_wins_def)\n",
    "fig.add_subplot(122)\n",
    "plt.hist(wins_wins_def)\n",
    "plt.show()"
   ]
  },
  {
   "cell_type": "markdown",
   "metadata": {},
   "source": [
    "This data is winsorized between the 5th and 95th percentile and only appears to have one outlier with the boxplot visualization - I could bring it in further, but the initial difference was already winsorized to an extent, so no need to over eliminate outliers."
   ]
  },
  {
   "cell_type": "markdown",
   "metadata": {},
   "source": [
    "### 5. Compare some basic descriptive statistics of the budget variables you end up with in the 3rd and the 4th questions. Do you see any differences?"
   ]
  },
  {
   "cell_type": "code",
   "execution_count": 28,
   "metadata": {},
   "outputs": [],
   "source": [
    "def describe(array):\n",
    "    print('Mean:', array.mean())\n",
    "    print('Median:', np.median(array))\n",
    "    print('Std:', array.std())\n",
    "    print('Var:', array.var())"
   ]
  },
  {
   "cell_type": "code",
   "execution_count": 35,
   "metadata": {},
   "outputs": [
    {
     "name": "stdout",
     "output_type": "stream",
     "text": [
      "Mean: -60852.062359128475\n",
      "Median: -19755.0\n",
      "Std: 214285.2710908398\n",
      "Var: 45918177406.4747\n"
     ]
    }
   ],
   "source": [
    "describe(wins_def)"
   ]
  },
  {
   "cell_type": "code",
   "execution_count": 30,
   "metadata": {},
   "outputs": [
    {
     "name": "stdout",
     "output_type": "stream",
     "text": [
      "Mean: -8983.38241923366\n",
      "Median: -1524.0\n",
      "Std: 209556.1738843958\n",
      "Var: 43913790013.06713\n"
     ]
    }
   ],
   "source": [
    "describe(wins_wins_def)"
   ]
  },
  {
   "cell_type": "markdown",
   "metadata": {},
   "source": [
    "The measures of central tendency are relatively far from one another. The standard deviation and variance, however are very similar."
   ]
  },
  {
   "cell_type": "code",
   "execution_count": 31,
   "metadata": {},
   "outputs": [
    {
     "data": {
      "image/png": "[encoded data removed]",
      "text/plain": [
       "<Figure size 1080x720 with 4 Axes>"
      ]
     },
     "metadata": {
      "needs_background": "light"
     },
     "output_type": "display_data"
    }
   ],
   "source": [
    "fig = plt.figure(figsize=(15,10))\n",
    "fig.add_subplot(221)\n",
    "plt.boxplot(wins_def)\n",
    "plt.title('Difference of Original Values Winsorized')\n",
    "fig.add_subplot(222)\n",
    "plt.boxplot(wins_wins_def)\n",
    "plt.title('Difference of Winsorized Values Winsorized')\n",
    "fig.add_subplot(223)\n",
    "plt.hist(wins_def)\n",
    "fig.add_subplot(224)\n",
    "plt.hist(wins_wins_def)\n",
    "plt.show()"
   ]
  },
  {
   "cell_type": "markdown",
   "metadata": {},
   "source": [
    "- It looks like the differences of the original data tend to be more negative overall - ranging from ~(-500000 to 300000)\n",
    "- The winsorized then subtracted set is more evenly spread ranging from ~(-500000 to 400000)\n",
    "- The IQR for the original indicates that the mass majority of values between the 25th and 75th percentile are negative\n",
    "- Contrary to the IQR for the original the winsorized then subtracted set would imply that the amount of surpluses and deficits are actually very similar in number"
   ]
  },
  {
   "cell_type": "code",
   "execution_count": 32,
   "metadata": {},
   "outputs": [
    {
     "data": {
      "text/plain": [
       "0.5792637114951165"
      ]
     },
     "execution_count": 32,
     "metadata": {},
     "output_type": "execute_result"
    }
   ],
   "source": [
    "len(np.where(wins_def < 0)[0])/len(wins_def)"
   ]
  },
  {
   "cell_type": "code",
   "execution_count": 33,
   "metadata": {},
   "outputs": [
    {
     "data": {
      "text/plain": [
       "0.5093914350112697"
      ]
     },
     "execution_count": 33,
     "metadata": {},
     "output_type": "execute_result"
    }
   ],
   "source": [
    "len(np.where(wins_wins_def < 0)[0])/len(wins_wins_def)"
   ]
  },
  {
   "cell_type": "markdown",
   "metadata": {},
   "source": [
    "The above displays that the original values clearly have more deficits than surpluses. The double winsorized data is much more even between surpluses and deficits."
   ]
  },
  {
   "cell_type": "markdown",
   "metadata": {},
   "source": [
    "### 6. If our variable of interest is the budget deficit variable, which method do you think is the appropriate in dealing with the outliers in this variable: the method in the 3rd question or the one in the 4th question?"
   ]
  },
  {
   "cell_type": "markdown",
   "metadata": {},
   "source": [
    "I definitely think the method for the 3rd question is superior to the 4th. The reason for this is that it is simply a more accurate representation of the data. Taking the original amounts' difference is just closer to the actual data and will likely produce more accurate results for our ultimate model. I think maintaining as much integrity in the original data as possible is of utmost importance. That, along with the reasoning in question 5, is why I would use the method offered in question 3 over question 4."
   ]
  }
 ],
 "metadata": {
  "kernelspec": {
   "display_name": "Python 3",
   "language": "python",
   "name": "python3"
  },
  "language_info": {
   "codemirror_mode": {
    "name": "ipython",
    "version": 3
   },
   "file_extension": ".py",
   "mimetype": "text/x-python",
   "name": "python",
   "nbconvert_exporter": "python",
   "pygments_lexer": "ipython3",
   "version": "3.7.0"
  }
 },
 "nbformat": 4,
 "nbformat_minor": 4
}
