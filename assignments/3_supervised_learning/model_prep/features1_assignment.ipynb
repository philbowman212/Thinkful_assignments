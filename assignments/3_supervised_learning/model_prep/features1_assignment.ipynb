{
 "cells": [
  {
   "cell_type": "markdown",
   "metadata": {},
   "source": [
    "## Assignment\n",
    "\n",
    "In this assignment, you'll continue working with the Students Performance in Exams dataset from Kaggle. You should access the data from the Thinkful database. Here's the credentials you can use to connect to the database:\n",
    "\n",
    "postgres_user = 'dsbc_student'<br>\n",
    "postgres_pw = '7\\*.8G9QH21'<br>\n",
    "postgres_host = '142.93.121.174'<br>\n",
    "postgres_port = '5432'<br>\n",
    "postgres_db = 'studentsperformance'<br>\n",
    "\n",
    "To complete this assignment, submit a link to a Jupyter notebook containing your solutions to the following tasks:\n",
    "\n",
    "1. Are the exam score variables normally distributed? If not, apply a Box-Cox transformation. Does anything change?\n",
    "2. Say we want to use a single variable for the exam scores as our target. For this purpose, create a new variable by taking a weighted average of the exam scores. Check whether this new variable is normally distributed. If it's not normally distributed, apply a Box-Cox transformation and check whether or not the transformed variable is normally distributed.\n",
    "3. Which variables seem related to the target variable (the newly created variable in the previous question)? If our goal is to explain the determinants of success in exams, which variables in our dataset might be useful?"
   ]
  },
  {
   "cell_type": "code",
   "execution_count": 1,
   "metadata": {},
   "outputs": [],
   "source": [
    "import numpy as np\n",
    "import pandas as pd\n",
    "from sqlalchemy import create_engine\n",
    "import matplotlib.pyplot as plt\n",
    "import scipy.stats as stats\n",
    "from scipy.stats.mstats import winsorize\n",
    "import seaborn as sns\n",
    "%matplotlib inline"
   ]
  },
  {
   "cell_type": "code",
   "execution_count": 2,
   "metadata": {},
   "outputs": [],
   "source": [
    "postgres_user = 'dsbc_student'\n",
    "postgres_pw = '7*.8G9QH21'\n",
    "postgres_host = '142.93.121.174'\n",
    "postgres_port = '5432'\n",
    "postgres_db = 'studentsperformance'\n",
    "\n",
    "engine = create_engine('postgresql://{}:{}@{}:{}/{}'.format(\n",
    "                        postgres_user, postgres_pw, postgres_host, postgres_port, postgres_db))\n",
    "\n",
    "df = pd.read_sql_query('select * from studentsperformance', con=engine)\n",
    "\n",
    "engine.dispose()"
   ]
  },
  {
   "cell_type": "markdown",
   "metadata": {},
   "source": [
    "### 1. Are the exam score variables normally distributed? If not, apply a Box-Cox transformation. Does anything change?"
   ]
  },
  {
   "cell_type": "code",
   "execution_count": 3,
   "metadata": {},
   "outputs": [
    {
     "data": {
      "image/png": "[encoded data removed]",
      "text/plain": [
       "<Figure size 1080x360 with 3 Axes>"
      ]
     },
     "metadata": {
      "needs_background": "light"
     },
     "output_type": "display_data"
    }
   ],
   "source": [
    "plt.figure(figsize=(15,5))\n",
    "for i, col in enumerate(df.iloc[:, -3:], start=1):\n",
    "    plt.subplot(1,3,i)\n",
    "    plt.hist(df[col])\n",
    "    plt.title(col)\n",
    "plt.show()"
   ]
  },
  {
   "cell_type": "code",
   "execution_count": 4,
   "metadata": {},
   "outputs": [
    {
     "name": "stdout",
     "output_type": "stream",
     "text": [
      "math score NormaltestResult(statistic=15.408960513931822, pvalue=0.00045080293869937836)\n",
      "math score Jarque-Bera (15.912256686712709, 0.0003505075386818213)\n",
      "reading score NormaltestResult(statistic=11.11741279628622, pvalue=0.003853758403576582)\n",
      "reading score Jarque-Bera (11.383300575987892, 0.0033740202672214448)\n",
      "writing score NormaltestResult(statistic=13.606450837263859, pvalue=0.0011101885439899974)\n",
      "writing score Jarque-Bera (13.98509448257235, 0.0009187033894586527)\n"
     ]
    }
   ],
   "source": [
    "for col in df.iloc[:, -3:]:\n",
    "    print(col, stats.normaltest(df[col]))\n",
    "    print(col, 'Jarque-Bera', stats.jarque_bera(df[col]))"
   ]
  },
  {
   "cell_type": "markdown",
   "metadata": {},
   "source": [
    "These distributions appear 'like' normal, but using tests for normality we find that none of them are actually normal."
   ]
  },
  {
   "cell_type": "markdown",
   "metadata": {},
   "source": [
    "Zeros create problems for boxcox - there is only one zero in all the scores, so we'll drop the row (it's an outlier for all three tests anyway)."
   ]
  },
  {
   "cell_type": "code",
   "execution_count": 5,
   "metadata": {},
   "outputs": [
    {
     "data": {
      "text/html": [
       "<div>\n",
       "<style scoped>\n",
       "    .dataframe tbody tr th:only-of-type {\n",
       "        vertical-align: middle;\n",
       "    }\n",
       "\n",
       "    .dataframe tbody tr th {\n",
       "        vertical-align: top;\n",
       "    }\n",
       "\n",
       "    .dataframe thead th {\n",
       "        text-align: right;\n",
       "    }\n",
       "</style>\n",
       "<table border=\"1\" class=\"dataframe\">\n",
       "  <thead>\n",
       "    <tr style=\"text-align: right;\">\n",
       "      <th></th>\n",
       "      <th>gender</th>\n",
       "      <th>race/ethnicity</th>\n",
       "      <th>parental level of education</th>\n",
       "      <th>lunch</th>\n",
       "      <th>test preparation course</th>\n",
       "      <th>math score</th>\n",
       "      <th>reading score</th>\n",
       "      <th>writing score</th>\n",
       "    </tr>\n",
       "  </thead>\n",
       "  <tbody>\n",
       "    <tr>\n",
       "      <th>59</th>\n",
       "      <td>female</td>\n",
       "      <td>group C</td>\n",
       "      <td>some high school</td>\n",
       "      <td>free/reduced</td>\n",
       "      <td>none</td>\n",
       "      <td>0</td>\n",
       "      <td>17</td>\n",
       "      <td>10</td>\n",
       "    </tr>\n",
       "  </tbody>\n",
       "</table>\n",
       "</div>"
      ],
      "text/plain": [
       "    gender race/ethnicity parental level of education         lunch  \\\n",
       "59  female        group C            some high school  free/reduced   \n",
       "\n",
       "   test preparation course  math score  reading score  writing score  \n",
       "59                    none           0             17             10  "
      ]
     },
     "execution_count": 5,
     "metadata": {},
     "output_type": "execute_result"
    }
   ],
   "source": [
    "df[df['math score']==0]"
   ]
  },
  {
   "cell_type": "code",
   "execution_count": 6,
   "metadata": {},
   "outputs": [],
   "source": [
    "df.drop(59, inplace=True)"
   ]
  },
  {
   "cell_type": "code",
   "execution_count": 7,
   "metadata": {},
   "outputs": [
    {
     "data": {
      "image/png": "[encoded data removed]",
      "text/plain": [
       "<Figure size 1080x360 with 3 Axes>"
      ]
     },
     "metadata": {
      "needs_background": "light"
     },
     "output_type": "display_data"
    }
   ],
   "source": [
    "plt.figure(figsize=(15,5))\n",
    "for i, col in enumerate(df.iloc[:, -3:], start=1):\n",
    "    plt.subplot(1,3,i)\n",
    "    plt.hist(stats.boxcox(df[col])[0])\n",
    "    plt.title(col)\n",
    "plt.show()"
   ]
  },
  {
   "cell_type": "code",
   "execution_count": 8,
   "metadata": {},
   "outputs": [
    {
     "name": "stdout",
     "output_type": "stream",
     "text": [
      "math score boxcox NormaltestResult(statistic=1.8323075851586939, pvalue=0.4000547794685686)\n",
      "math score boxcox Jarque-Bera (1.7200982636836308, 0.42314129209599327)\n",
      "reading score boxcox NormaltestResult(statistic=6.546500254297637, pvalue=0.03788310187455936)\n",
      "reading score boxcox Jarque-Bera (4.8891540799411395, 0.08676282434883942)\n",
      "writing score boxcox NormaltestResult(statistic=8.018367650263817, pvalue=0.018148201299612785)\n",
      "writing score boxcox Jarque-Bera (5.762346713079429, 0.05606893537015201)\n"
     ]
    }
   ],
   "source": [
    "for col in df.iloc[:, -3:]:\n",
    "    print(col, 'boxcox', stats.normaltest(stats.boxcox(df[col])[0]))\n",
    "    print(col, 'boxcox', 'Jarque-Bera', stats.jarque_bera(stats.boxcox(df[col])[0]))"
   ]
  },
  {
   "cell_type": "markdown",
   "metadata": {},
   "source": [
    "These features definitely become more normal (math is basically normal), but the other 2 still come up non normal based on the test for normality."
   ]
  },
  {
   "cell_type": "markdown",
   "metadata": {},
   "source": [
    "### 2. Say we want to use a single variable for the exam scores as our target. For this purpose, create a new variable by taking a weighted average of the exam scores. Check whether this new variable is normally distributed. If it's not normally distributed, apply a Box-Cox transformation and check whether or not the transformed variable is normally distributed."
   ]
  },
  {
   "cell_type": "code",
   "execution_count": 9,
   "metadata": {},
   "outputs": [],
   "source": [
    "exam_avg = (df['math score'] + df['reading score'] + df['writing score'])/3"
   ]
  },
  {
   "cell_type": "code",
   "execution_count": 10,
   "metadata": {},
   "outputs": [
    {
     "data": {
      "image/png": "[encoded data removed]",
      "text/plain": [
       "<Figure size 432x288 with 1 Axes>"
      ]
     },
     "metadata": {
      "needs_background": "light"
     },
     "output_type": "display_data"
    }
   ],
   "source": [
    "plt.hist(exam_avg)\n",
    "plt.show()"
   ]
  },
  {
   "cell_type": "code",
   "execution_count": 11,
   "metadata": {},
   "outputs": [
    {
     "name": "stdout",
     "output_type": "stream",
     "text": [
      "exam average NormaltestResult(statistic=10.127189207749474, pvalue=0.006322790687068094)\n",
      "exam average (10.345394363749879, 0.0056692571616785425)\n"
     ]
    }
   ],
   "source": [
    "print('exam average', stats.normaltest(exam_avg))\n",
    "print('exam average', stats.jarque_bera(exam_avg))"
   ]
  },
  {
   "cell_type": "markdown",
   "metadata": {},
   "source": [
    "Average of exams also appears to be non-normal, but 'like' normal."
   ]
  },
  {
   "cell_type": "code",
   "execution_count": 12,
   "metadata": {},
   "outputs": [],
   "source": [
    "bc_exam_avg = stats.boxcox(exam_avg)[0]"
   ]
  },
  {
   "cell_type": "code",
   "execution_count": 13,
   "metadata": {},
   "outputs": [
    {
     "data": {
      "image/png": "[encoded data removed]",
      "text/plain": [
       "<Figure size 432x288 with 1 Axes>"
      ]
     },
     "metadata": {
      "needs_background": "light"
     },
     "output_type": "display_data"
    }
   ],
   "source": [
    "plt.hist(bc_exam_avg)\n",
    "plt.show()"
   ]
  },
  {
   "cell_type": "code",
   "execution_count": 14,
   "metadata": {},
   "outputs": [
    {
     "name": "stdout",
     "output_type": "stream",
     "text": [
      "exam average boxcox NormaltestResult(statistic=4.219879978703656, pvalue=0.12124524222064059)\n",
      "exam average boxcox (3.4323846909111793, 0.17974926966382276)\n"
     ]
    }
   ],
   "source": [
    "print('exam average boxcox', stats.normaltest(bc_exam_avg))\n",
    "print('exam average boxcox', stats.jarque_bera(bc_exam_avg))"
   ]
  },
  {
   "cell_type": "markdown",
   "metadata": {},
   "source": [
    "Appears that the boxcox transformation is good enough to be considered normal."
   ]
  },
  {
   "cell_type": "markdown",
   "metadata": {},
   "source": [
    "### 3. Which variables seem related to the target variable (the newly created variable in the previous question)? If our goal is to explain the determinants of success in exams, which variables in our dataset might be useful?"
   ]
  },
  {
   "cell_type": "code",
   "execution_count": 15,
   "metadata": {},
   "outputs": [
    {
     "data": {
      "text/plain": [
       "Index(['gender', 'race/ethnicity', 'parental level of education', 'lunch',\n",
       "       'test preparation course', 'math score', 'reading score',\n",
       "       'writing score'],\n",
       "      dtype='object')"
      ]
     },
     "execution_count": 15,
     "metadata": {},
     "output_type": "execute_result"
    }
   ],
   "source": [
    "df.columns"
   ]
  },
  {
   "cell_type": "markdown",
   "metadata": {},
   "source": [
    "Based on prior analysis - all variables except race/ethnicity seemed to have a significant significance on the scores of each individual test, so it is likely that they also determine overall score as well. We can reexamine this by using just our average exam scores now. "
   ]
  },
  {
   "cell_type": "code",
   "execution_count": 16,
   "metadata": {},
   "outputs": [],
   "source": [
    "df['exam score'] = exam_avg"
   ]
  },
  {
   "cell_type": "code",
   "execution_count": 17,
   "metadata": {},
   "outputs": [
    {
     "data": {
      "text/html": [
       "<div>\n",
       "<style scoped>\n",
       "    .dataframe tbody tr th:only-of-type {\n",
       "        vertical-align: middle;\n",
       "    }\n",
       "\n",
       "    .dataframe tbody tr th {\n",
       "        vertical-align: top;\n",
       "    }\n",
       "\n",
       "    .dataframe thead th {\n",
       "        text-align: right;\n",
       "    }\n",
       "</style>\n",
       "<table border=\"1\" class=\"dataframe\">\n",
       "  <thead>\n",
       "    <tr style=\"text-align: right;\">\n",
       "      <th></th>\n",
       "      <th>gender</th>\n",
       "      <th>race/ethnicity</th>\n",
       "      <th>parental level of education</th>\n",
       "      <th>lunch</th>\n",
       "      <th>test preparation course</th>\n",
       "      <th>math score</th>\n",
       "      <th>reading score</th>\n",
       "      <th>writing score</th>\n",
       "      <th>exam score</th>\n",
       "    </tr>\n",
       "  </thead>\n",
       "  <tbody>\n",
       "    <tr>\n",
       "      <th>0</th>\n",
       "      <td>female</td>\n",
       "      <td>group B</td>\n",
       "      <td>bachelor's degree</td>\n",
       "      <td>standard</td>\n",
       "      <td>none</td>\n",
       "      <td>72</td>\n",
       "      <td>72</td>\n",
       "      <td>74</td>\n",
       "      <td>72.666667</td>\n",
       "    </tr>\n",
       "    <tr>\n",
       "      <th>1</th>\n",
       "      <td>female</td>\n",
       "      <td>group C</td>\n",
       "      <td>some college</td>\n",
       "      <td>standard</td>\n",
       "      <td>completed</td>\n",
       "      <td>69</td>\n",
       "      <td>90</td>\n",
       "      <td>88</td>\n",
       "      <td>82.333333</td>\n",
       "    </tr>\n",
       "    <tr>\n",
       "      <th>2</th>\n",
       "      <td>female</td>\n",
       "      <td>group B</td>\n",
       "      <td>master's degree</td>\n",
       "      <td>standard</td>\n",
       "      <td>none</td>\n",
       "      <td>90</td>\n",
       "      <td>95</td>\n",
       "      <td>93</td>\n",
       "      <td>92.666667</td>\n",
       "    </tr>\n",
       "    <tr>\n",
       "      <th>3</th>\n",
       "      <td>male</td>\n",
       "      <td>group A</td>\n",
       "      <td>associate's degree</td>\n",
       "      <td>free/reduced</td>\n",
       "      <td>none</td>\n",
       "      <td>47</td>\n",
       "      <td>57</td>\n",
       "      <td>44</td>\n",
       "      <td>49.333333</td>\n",
       "    </tr>\n",
       "    <tr>\n",
       "      <th>4</th>\n",
       "      <td>male</td>\n",
       "      <td>group C</td>\n",
       "      <td>some college</td>\n",
       "      <td>standard</td>\n",
       "      <td>none</td>\n",
       "      <td>76</td>\n",
       "      <td>78</td>\n",
       "      <td>75</td>\n",
       "      <td>76.333333</td>\n",
       "    </tr>\n",
       "  </tbody>\n",
       "</table>\n",
       "</div>"
      ],
      "text/plain": [
       "   gender race/ethnicity parental level of education         lunch  \\\n",
       "0  female        group B           bachelor's degree      standard   \n",
       "1  female        group C                some college      standard   \n",
       "2  female        group B             master's degree      standard   \n",
       "3    male        group A          associate's degree  free/reduced   \n",
       "4    male        group C                some college      standard   \n",
       "\n",
       "  test preparation course  math score  reading score  writing score  \\\n",
       "0                    none          72             72             74   \n",
       "1               completed          69             90             88   \n",
       "2                    none          90             95             93   \n",
       "3                    none          47             57             44   \n",
       "4                    none          76             78             75   \n",
       "\n",
       "   exam score  \n",
       "0   72.666667  \n",
       "1   82.333333  \n",
       "2   92.666667  \n",
       "3   49.333333  \n",
       "4   76.333333  "
      ]
     },
     "execution_count": 17,
     "metadata": {},
     "output_type": "execute_result"
    }
   ],
   "source": [
    "df.head()"
   ]
  },
  {
   "cell_type": "code",
   "execution_count": 18,
   "metadata": {},
   "outputs": [
    {
     "data": {
      "image/png": "[encoded data removed]",
      "text/plain": [
       "<Figure size 1080x720 with 5 Axes>"
      ]
     },
     "metadata": {
      "needs_background": "light"
     },
     "output_type": "display_data"
    }
   ],
   "source": [
    "plt.figure(figsize=(15,10))\n",
    "for i, col in enumerate(list(df.columns)[0:-4], start=1):\n",
    "    plt.subplot(2,3,i)\n",
    "    x = sns.barplot(col, 'exam score', data=df)\n",
    "    for item in x.get_xticklabels():\n",
    "        item.set_rotation(90)\n",
    "    plt.title(str('exam score by '+ col))\n",
    "plt.tight_layout()\n",
    "plt.show()"
   ]
  },
  {
   "cell_type": "markdown",
   "metadata": {},
   "source": [
    "In all reality, these could all be potential features, let's check their significance."
   ]
  },
  {
   "cell_type": "code",
   "execution_count": 19,
   "metadata": {},
   "outputs": [],
   "source": [
    "def significance(cat):\n",
    "    uniques = df[cat].unique()\n",
    "    for var in ['exam score']:\n",
    "        print(\"------------------------------------------------\")\n",
    "        print(\"Comparisons for {}: {}\".format(var, cat))\n",
    "        print(\"------------------------------------------------\")\n",
    "        for i in range(0, len(uniques)):\n",
    "            for j in range(i+1, len(uniques)):\n",
    "                print(\"t-test between groups {0} and {1}:\".format(uniques[i], uniques[j]))\n",
    "                print(stats.ttest_ind(\n",
    "                    df[df[cat]==uniques[i]][var], \n",
    "                    df[df[cat]==uniques[j]][var]\n",
    "                ))"
   ]
  },
  {
   "cell_type": "code",
   "execution_count": 20,
   "metadata": {},
   "outputs": [
    {
     "name": "stdout",
     "output_type": "stream",
     "text": [
      "------------------------------------------------\n",
      "Comparisons for exam score: gender\n",
      "------------------------------------------------\n",
      "t-test between groups female and male:\n",
      "Ttest_indResult(statistic=4.33677778857033, pvalue=1.592773074984749e-05)\n",
      "------------------------------------------------\n",
      "Comparisons for exam score: race/ethnicity\n",
      "------------------------------------------------\n",
      "t-test between groups group B and group C:\n",
      "Ttest_indResult(statistic=-1.4405954858885, pvalue=0.15031746511041588)\n",
      "t-test between groups group B and group A:\n",
      "Ttest_indResult(statistic=1.3165043669633527, pvalue=0.18909305895094428)\n",
      "t-test between groups group B and group D:\n",
      "Ttest_indResult(statistic=-2.8031083992077255, pvalue=0.00527994920437489)\n",
      "t-test between groups group B and group E:\n",
      "Ttest_indResult(statistic=-4.46037807261396, pvalue=1.1254806793764281e-05)\n",
      "t-test between groups group C and group A:\n",
      "Ttest_indResult(statistic=2.628074738662737, pvalue=0.008913350965902764)\n",
      "t-test between groups group C and group D:\n",
      "Ttest_indResult(statistic=-1.6691601835550827, pvalue=0.09562713484084166)\n",
      "t-test between groups group C and group E:\n",
      "Ttest_indResult(statistic=-3.8749879964714253, pvalue=0.00012226281376633653)\n",
      "t-test between groups group A and group D:\n",
      "Ttest_indResult(statistic=-3.7179415923386636, pvalue=0.00023390416748799778)\n",
      "t-test between groups group A and group E:\n",
      "Ttest_indResult(statistic=-4.958668289961606, pvalue=1.389791046951768e-06)\n",
      "t-test between groups group D and group E:\n",
      "Ttest_indResult(statistic=-2.4870480585806196, pvalue=0.013287580176112115)\n",
      "------------------------------------------------\n",
      "Comparisons for exam score: parental level of education\n",
      "------------------------------------------------\n",
      "t-test between groups bachelor's degree and some college:\n",
      "Ttest_indResult(statistic=2.200746866670862, pvalue=0.028421853941795295)\n",
      "t-test between groups bachelor's degree and master's degree:\n",
      "Ttest_indResult(statistic=-0.7594769500339048, pvalue=0.4485891321202008)\n",
      "t-test between groups bachelor's degree and associate's degree:\n",
      "Ttest_indResult(statistic=1.5013009645983189, pvalue=0.13421131516223408)\n",
      "t-test between groups bachelor's degree and high school:\n",
      "Ttest_indResult(statistic=5.539323736236874, pvalue=6.457780161976827e-08)\n",
      "t-test between groups bachelor's degree and some high school:\n",
      "Ttest_indResult(statistic=3.847343464477865, pvalue=0.00014647051034898443)\n",
      "t-test between groups some college and master's degree:\n",
      "Ttest_indResult(statistic=-2.5596520690466438, pvalue=0.010997532204148747)\n",
      "t-test between groups some college and associate's degree:\n",
      "Ttest_indResult(statistic=-0.8445790843436104, pvalue=0.3987986989245852)\n",
      "t-test between groups some college and high school:\n",
      "Ttest_indResult(statistic=4.047081496222537, pvalue=6.174004426350981e-05)\n",
      "t-test between groups some college and some high school:\n",
      "Ttest_indResult(statistic=2.171993707759778, pvalue=0.030440058193480158)\n",
      "t-test between groups master's degree and associate's degree:\n",
      "Ttest_indResult(statistic=2.0146345761094264, pvalue=0.044902247757124626)\n",
      "t-test between groups master's degree and high school:\n",
      "Ttest_indResult(statistic=5.226505457467739, pvalue=3.6159685960105325e-07)\n",
      "t-test between groups master's degree and some high school:\n",
      "Ttest_indResult(statistic=3.826845198042912, pvalue=0.00016643628560367204)\n",
      "t-test between groups associate's degree and high school:\n",
      "Ttest_indResult(statistic=4.8568272185010555, pvalue=1.6916651763781133e-06)\n",
      "t-test between groups associate's degree and some high school:\n",
      "Ttest_indResult(statistic=2.941563083295967, pvalue=0.0034564598031268847)\n",
      "t-test between groups high school and some high school:\n",
      "Ttest_indResult(statistic=-1.6105924400172993, pvalue=0.10811673549633417)\n",
      "------------------------------------------------\n",
      "Comparisons for exam score: lunch\n",
      "------------------------------------------------\n",
      "t-test between groups standard and free/reduced:\n",
      "Ttest_indResult(statistic=9.467780356657299, pvalue=1.998101282275593e-20)\n",
      "------------------------------------------------\n",
      "Comparisons for exam score: test preparation course\n",
      "------------------------------------------------\n",
      "t-test between groups none and completed:\n",
      "Ttest_indResult(statistic=-8.357919651293466, pvalue=2.1255569449300813e-16)\n"
     ]
    }
   ],
   "source": [
    "for col in list(df.columns)[0:-4]:\n",
    "    significance(col)"
   ]
  },
  {
   "cell_type": "markdown",
   "metadata": {},
   "source": [
    "Based on significance, it would appear that many of these would be statistically different from one another, with few exceptions. So it may be best to test with all features first then perhaps eliminate some that don't work as well."
   ]
  }
 ],
 "metadata": {
  "kernelspec": {
   "display_name": "Python 3",
   "language": "python",
   "name": "python3"
  },
  "language_info": {
   "codemirror_mode": {
    "name": "ipython",
    "version": 3
   },
   "file_extension": ".py",
   "mimetype": "text/x-python",
   "name": "python",
   "nbconvert_exporter": "python",
   "pygments_lexer": "ipython3",
   "version": "3.7.0"
  }
 },
 "nbformat": 4,
 "nbformat_minor": 4
}
