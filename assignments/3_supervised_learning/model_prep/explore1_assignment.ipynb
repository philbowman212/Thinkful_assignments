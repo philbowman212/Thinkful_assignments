{
 "cells": [
  {
   "cell_type": "markdown",
   "metadata": {},
   "source": [
    "## Assignment\n",
    "\n",
    "In this assignment, you'll continue working with the [U.S. Education Dataset](https://www.kaggle.com/noriuk/us-education-datasets-unification-project/home) from Kaggle. The data gives detailed state level information on the several facets of the state of education on an annual basis. To learn more about the data and the column descriptions, you can view the Kaggle link above. You should access the data from the Thinkful database. Here's the credentials you can use to connect to the database:\n",
    "\n",
    "postgres_user = 'dsbc_student'<br>\n",
    "postgres_pw = '7\\*.8G9QH21'<br>\n",
    "postgres_host = '142.93.121.174'<br>\n",
    "postgres_port = '5432'<br>\n",
    "postgres_db = 'useducation'<br>\n",
    "\n",
    "Don't forget to apply the most suitable missing value filling techniques you applied in the previous checkpoint to the data. You're supposed to provide your answers to the following questions after you handled the missing values.\n",
    "\n",
    "To complete this assignment, submit a link to a Jupyter notebook containing your solutions to the following tasks:\n",
    "\n",
    "1. Derive the descriptive statistics of the data and discuss the points you find remarkable.\n",
    "2. Choose a state (e.g. California) and draw a line graph of its total revenues and total expenditures along the years. How do these 2 variables evolve during the years? Try to explain the peaks and troughs with some state-wise news and information around those dates.\n",
    "3. In your chosen state, which of the lessons are the students more successful, math or reading?\n",
    "4. What are the distributions of the math and reading scores in the sample?\n",
    "5. Notice there are too many missing values for math and reading scores. Fill out the missing values using mean, median, and linear interpolation. Then compare the effects of these techniques on the distributions of the score variables. "
   ]
  },
  {
   "cell_type": "markdown",
   "metadata": {},
   "source": [
    "### Import and Instantiate"
   ]
  },
  {
   "cell_type": "code",
   "execution_count": 1,
   "metadata": {},
   "outputs": [],
   "source": [
    "import numpy as np\n",
    "import pandas as pd\n",
    "from sqlalchemy import create_engine\n",
    "import matplotlib.pyplot as plt\n",
    "import scipy.stats as stats\n",
    "from scipy.stats.mstats import winsorize\n",
    "import seaborn as sns\n",
    "%matplotlib inline"
   ]
  },
  {
   "cell_type": "code",
   "execution_count": 2,
   "metadata": {},
   "outputs": [],
   "source": [
    "postgres_user = 'dsbc_student'\n",
    "postgres_pw = '7*.8G9QH21'\n",
    "postgres_host = '142.93.121.174'\n",
    "postgres_port = '5432'\n",
    "postgres_db = 'useducation'\n",
    "\n",
    "engine = create_engine('postgresql://{}:{}@{}:{}/{}'.format(\n",
    "                        postgres_user, postgres_pw, postgres_host, postgres_port, postgres_db))\n",
    "\n",
    "df = pd.read_sql_query('select * from useducation', con=engine)\n",
    "\n",
    "engine.dispose()"
   ]
  },
  {
   "cell_type": "markdown",
   "metadata": {},
   "source": [
    "### Clean Missing Values"
   ]
  },
  {
   "cell_type": "code",
   "execution_count": 3,
   "metadata": {},
   "outputs": [],
   "source": [
    "unique_states = list(df.STATE.unique())\n",
    "\n",
    "appended_data = []\n",
    "\n",
    "for state in unique_states:\n",
    "    state_df = df[df.STATE == state].copy().sort_values('YEAR').interpolate(limit_direction='both')\n",
    "    appended_data.append(state_df)\n",
    "\n",
    "filled_df = pd.concat(appended_data)\n",
    "\n",
    "filled_df.dropna(thresh=12, inplace=True) "
   ]
  },
  {
   "cell_type": "code",
   "execution_count": 4,
   "metadata": {},
   "outputs": [],
   "source": [
    "df = filled_df"
   ]
  },
  {
   "cell_type": "markdown",
   "metadata": {},
   "source": [
    "### 1. Derive the descriptive statistics of the data and discuss the points you find remarkable."
   ]
  },
  {
   "cell_type": "code",
   "execution_count": 5,
   "metadata": {},
   "outputs": [
    {
     "data": {
      "text/html": [
       "<div>\n",
       "<style scoped>\n",
       "    .dataframe tbody tr th:only-of-type {\n",
       "        vertical-align: middle;\n",
       "    }\n",
       "\n",
       "    .dataframe tbody tr th {\n",
       "        vertical-align: top;\n",
       "    }\n",
       "\n",
       "    .dataframe thead th {\n",
       "        text-align: right;\n",
       "    }\n",
       "</style>\n",
       "<table border=\"1\" class=\"dataframe\">\n",
       "  <thead>\n",
       "    <tr style=\"text-align: right;\">\n",
       "      <th></th>\n",
       "      <th>YEAR</th>\n",
       "      <th>ENROLL</th>\n",
       "      <th>TOTAL_REVENUE</th>\n",
       "      <th>FEDERAL_REVENUE</th>\n",
       "      <th>STATE_REVENUE</th>\n",
       "      <th>LOCAL_REVENUE</th>\n",
       "    </tr>\n",
       "  </thead>\n",
       "  <tbody>\n",
       "    <tr>\n",
       "      <th>count</th>\n",
       "      <td>1331.000000</td>\n",
       "      <td>1.331000e+03</td>\n",
       "      <td>1.331000e+03</td>\n",
       "      <td>1.331000e+03</td>\n",
       "      <td>1.331000e+03</td>\n",
       "      <td>1.331000e+03</td>\n",
       "    </tr>\n",
       "    <tr>\n",
       "      <th>mean</th>\n",
       "      <td>2004.515402</td>\n",
       "      <td>9.129644e+05</td>\n",
       "      <td>9.256140e+06</td>\n",
       "      <td>7.776838e+05</td>\n",
       "      <td>4.293872e+06</td>\n",
       "      <td>4.184584e+06</td>\n",
       "    </tr>\n",
       "    <tr>\n",
       "      <th>std</th>\n",
       "      <td>7.493076</td>\n",
       "      <td>1.063103e+06</td>\n",
       "      <td>1.201221e+07</td>\n",
       "      <td>1.156231e+06</td>\n",
       "      <td>5.677157e+06</td>\n",
       "      <td>5.613959e+06</td>\n",
       "    </tr>\n",
       "    <tr>\n",
       "      <th>min</th>\n",
       "      <td>1992.000000</td>\n",
       "      <td>4.386600e+04</td>\n",
       "      <td>4.656500e+05</td>\n",
       "      <td>3.102000e+04</td>\n",
       "      <td>0.000000e+00</td>\n",
       "      <td>2.209300e+04</td>\n",
       "    </tr>\n",
       "    <tr>\n",
       "      <th>25%</th>\n",
       "      <td>1998.000000</td>\n",
       "      <td>2.560480e+05</td>\n",
       "      <td>2.207700e+06</td>\n",
       "      <td>1.911455e+05</td>\n",
       "      <td>1.174059e+06</td>\n",
       "      <td>7.358395e+05</td>\n",
       "    </tr>\n",
       "    <tr>\n",
       "      <th>50%</th>\n",
       "      <td>2005.000000</td>\n",
       "      <td>6.480840e+05</td>\n",
       "      <td>5.169926e+06</td>\n",
       "      <td>4.100510e+05</td>\n",
       "      <td>2.578149e+06</td>\n",
       "      <td>2.089445e+06</td>\n",
       "    </tr>\n",
       "    <tr>\n",
       "      <th>75%</th>\n",
       "      <td>2011.000000</td>\n",
       "      <td>1.006874e+06</td>\n",
       "      <td>1.109900e+07</td>\n",
       "      <td>8.431690e+05</td>\n",
       "      <td>5.185174e+06</td>\n",
       "      <td>4.808003e+06</td>\n",
       "    </tr>\n",
       "    <tr>\n",
       "      <th>max</th>\n",
       "      <td>2017.000000</td>\n",
       "      <td>6.307022e+06</td>\n",
       "      <td>8.921726e+07</td>\n",
       "      <td>9.990221e+06</td>\n",
       "      <td>5.090457e+07</td>\n",
       "      <td>3.610526e+07</td>\n",
       "    </tr>\n",
       "  </tbody>\n",
       "</table>\n",
       "</div>"
      ],
      "text/plain": [
       "              YEAR        ENROLL  TOTAL_REVENUE  FEDERAL_REVENUE  \\\n",
       "count  1331.000000  1.331000e+03   1.331000e+03     1.331000e+03   \n",
       "mean   2004.515402  9.129644e+05   9.256140e+06     7.776838e+05   \n",
       "std       7.493076  1.063103e+06   1.201221e+07     1.156231e+06   \n",
       "min    1992.000000  4.386600e+04   4.656500e+05     3.102000e+04   \n",
       "25%    1998.000000  2.560480e+05   2.207700e+06     1.911455e+05   \n",
       "50%    2005.000000  6.480840e+05   5.169926e+06     4.100510e+05   \n",
       "75%    2011.000000  1.006874e+06   1.109900e+07     8.431690e+05   \n",
       "max    2017.000000  6.307022e+06   8.921726e+07     9.990221e+06   \n",
       "\n",
       "       STATE_REVENUE  LOCAL_REVENUE  \n",
       "count   1.331000e+03   1.331000e+03  \n",
       "mean    4.293872e+06   4.184584e+06  \n",
       "std     5.677157e+06   5.613959e+06  \n",
       "min     0.000000e+00   2.209300e+04  \n",
       "25%     1.174059e+06   7.358395e+05  \n",
       "50%     2.578149e+06   2.089445e+06  \n",
       "75%     5.185174e+06   4.808003e+06  \n",
       "max     5.090457e+07   3.610526e+07  "
      ]
     },
     "execution_count": 5,
     "metadata": {},
     "output_type": "execute_result"
    }
   ],
   "source": [
    "df.describe().iloc[:, 0:6]"
   ]
  },
  {
   "cell_type": "code",
   "execution_count": 6,
   "metadata": {},
   "outputs": [
    {
     "data": {
      "text/html": [
       "<div>\n",
       "<style scoped>\n",
       "    .dataframe tbody tr th:only-of-type {\n",
       "        vertical-align: middle;\n",
       "    }\n",
       "\n",
       "    .dataframe tbody tr th {\n",
       "        vertical-align: top;\n",
       "    }\n",
       "\n",
       "    .dataframe thead th {\n",
       "        text-align: right;\n",
       "    }\n",
       "</style>\n",
       "<table border=\"1\" class=\"dataframe\">\n",
       "  <thead>\n",
       "    <tr style=\"text-align: right;\">\n",
       "      <th></th>\n",
       "      <th>TOTAL_EXPENDITURE</th>\n",
       "      <th>INSTRUCTION_EXPENDITURE</th>\n",
       "      <th>SUPPORT_SERVICES_EXPENDITURE</th>\n",
       "      <th>OTHER_EXPENDITURE</th>\n",
       "      <th>CAPITAL_OUTLAY_EXPENDITURE</th>\n",
       "    </tr>\n",
       "  </thead>\n",
       "  <tbody>\n",
       "    <tr>\n",
       "      <th>count</th>\n",
       "      <td>1.331000e+03</td>\n",
       "      <td>1.331000e+03</td>\n",
       "      <td>1.331000e+03</td>\n",
       "      <td>1.331000e+03</td>\n",
       "      <td>1.331000e+03</td>\n",
       "    </tr>\n",
       "    <tr>\n",
       "      <th>mean</th>\n",
       "      <td>9.352575e+06</td>\n",
       "      <td>4.849118e+06</td>\n",
       "      <td>2.727491e+06</td>\n",
       "      <td>4.283329e+05</td>\n",
       "      <td>9.111286e+05</td>\n",
       "    </tr>\n",
       "    <tr>\n",
       "      <th>std</th>\n",
       "      <td>1.221749e+07</td>\n",
       "      <td>6.436594e+06</td>\n",
       "      <td>3.420439e+06</td>\n",
       "      <td>5.369434e+05</td>\n",
       "      <td>1.336270e+06</td>\n",
       "    </tr>\n",
       "    <tr>\n",
       "      <th>min</th>\n",
       "      <td>4.816650e+05</td>\n",
       "      <td>2.655490e+05</td>\n",
       "      <td>1.399630e+05</td>\n",
       "      <td>1.154100e+04</td>\n",
       "      <td>1.270800e+04</td>\n",
       "    </tr>\n",
       "    <tr>\n",
       "      <th>25%</th>\n",
       "      <td>2.182970e+06</td>\n",
       "      <td>1.177708e+06</td>\n",
       "      <td>6.460350e+05</td>\n",
       "      <td>1.010325e+05</td>\n",
       "      <td>1.840940e+05</td>\n",
       "    </tr>\n",
       "    <tr>\n",
       "      <th>50%</th>\n",
       "      <td>5.298267e+06</td>\n",
       "      <td>2.688963e+06</td>\n",
       "      <td>1.545738e+06</td>\n",
       "      <td>2.687150e+05</td>\n",
       "      <td>5.181810e+05</td>\n",
       "    </tr>\n",
       "    <tr>\n",
       "      <th>75%</th>\n",
       "      <td>1.087317e+07</td>\n",
       "      <td>5.641158e+06</td>\n",
       "      <td>3.307162e+06</td>\n",
       "      <td>5.165750e+05</td>\n",
       "      <td>9.839960e+05</td>\n",
       "    </tr>\n",
       "    <tr>\n",
       "      <th>max</th>\n",
       "      <td>8.532013e+07</td>\n",
       "      <td>4.396452e+07</td>\n",
       "      <td>2.605802e+07</td>\n",
       "      <td>3.995951e+06</td>\n",
       "      <td>1.022366e+07</td>\n",
       "    </tr>\n",
       "  </tbody>\n",
       "</table>\n",
       "</div>"
      ],
      "text/plain": [
       "       TOTAL_EXPENDITURE  INSTRUCTION_EXPENDITURE  \\\n",
       "count       1.331000e+03             1.331000e+03   \n",
       "mean        9.352575e+06             4.849118e+06   \n",
       "std         1.221749e+07             6.436594e+06   \n",
       "min         4.816650e+05             2.655490e+05   \n",
       "25%         2.182970e+06             1.177708e+06   \n",
       "50%         5.298267e+06             2.688963e+06   \n",
       "75%         1.087317e+07             5.641158e+06   \n",
       "max         8.532013e+07             4.396452e+07   \n",
       "\n",
       "       SUPPORT_SERVICES_EXPENDITURE  OTHER_EXPENDITURE  \\\n",
       "count                  1.331000e+03       1.331000e+03   \n",
       "mean                   2.727491e+06       4.283329e+05   \n",
       "std                    3.420439e+06       5.369434e+05   \n",
       "min                    1.399630e+05       1.154100e+04   \n",
       "25%                    6.460350e+05       1.010325e+05   \n",
       "50%                    1.545738e+06       2.687150e+05   \n",
       "75%                    3.307162e+06       5.165750e+05   \n",
       "max                    2.605802e+07       3.995951e+06   \n",
       "\n",
       "       CAPITAL_OUTLAY_EXPENDITURE  \n",
       "count                1.331000e+03  \n",
       "mean                 9.111286e+05  \n",
       "std                  1.336270e+06  \n",
       "min                  1.270800e+04  \n",
       "25%                  1.840940e+05  \n",
       "50%                  5.181810e+05  \n",
       "75%                  9.839960e+05  \n",
       "max                  1.022366e+07  "
      ]
     },
     "execution_count": 6,
     "metadata": {},
     "output_type": "execute_result"
    }
   ],
   "source": [
    "df.describe().iloc[:, 6:11]"
   ]
  },
  {
   "cell_type": "code",
   "execution_count": 7,
   "metadata": {},
   "outputs": [
    {
     "data": {
      "text/html": [
       "<div>\n",
       "<style scoped>\n",
       "    .dataframe tbody tr th:only-of-type {\n",
       "        vertical-align: middle;\n",
       "    }\n",
       "\n",
       "    .dataframe tbody tr th {\n",
       "        vertical-align: top;\n",
       "    }\n",
       "\n",
       "    .dataframe thead th {\n",
       "        text-align: right;\n",
       "    }\n",
       "</style>\n",
       "<table border=\"1\" class=\"dataframe\">\n",
       "  <thead>\n",
       "    <tr style=\"text-align: right;\">\n",
       "      <th></th>\n",
       "      <th>GRADES_PK_G</th>\n",
       "      <th>GRADES_KG_G</th>\n",
       "      <th>GRADES_4_G</th>\n",
       "      <th>GRADES_8_G</th>\n",
       "      <th>GRADES_12_G</th>\n",
       "      <th>GRADES_1_8_G</th>\n",
       "      <th>GRADES_9_12_G</th>\n",
       "      <th>GRADES_ALL_G</th>\n",
       "    </tr>\n",
       "  </thead>\n",
       "  <tbody>\n",
       "    <tr>\n",
       "      <th>count</th>\n",
       "      <td>1331.000000</td>\n",
       "      <td>1331.000000</td>\n",
       "      <td>1331.000000</td>\n",
       "      <td>1331.000000</td>\n",
       "      <td>1331.000000</td>\n",
       "      <td>1.331000e+03</td>\n",
       "      <td>1.331000e+03</td>\n",
       "      <td>1.331000e+03</td>\n",
       "    </tr>\n",
       "    <tr>\n",
       "      <th>mean</th>\n",
       "      <td>19548.346356</td>\n",
       "      <td>69866.448535</td>\n",
       "      <td>70725.366642</td>\n",
       "      <td>70372.664914</td>\n",
       "      <td>60139.822690</td>\n",
       "      <td>5.685511e+05</td>\n",
       "      <td>2.719494e+05</td>\n",
       "      <td>8.600964e+05</td>\n",
       "    </tr>\n",
       "    <tr>\n",
       "      <th>std</th>\n",
       "      <td>31360.884952</td>\n",
       "      <td>82793.100694</td>\n",
       "      <td>82713.230404</td>\n",
       "      <td>81111.115840</td>\n",
       "      <td>70677.865347</td>\n",
       "      <td>6.617301e+05</td>\n",
       "      <td>3.176011e+05</td>\n",
       "      <td>1.003027e+06</td>\n",
       "    </tr>\n",
       "    <tr>\n",
       "      <th>min</th>\n",
       "      <td>0.000000</td>\n",
       "      <td>3459.000000</td>\n",
       "      <td>2548.000000</td>\n",
       "      <td>1485.000000</td>\n",
       "      <td>484.000000</td>\n",
       "      <td>1.922600e+04</td>\n",
       "      <td>2.758000e+03</td>\n",
       "      <td>2.455400e+04</td>\n",
       "    </tr>\n",
       "    <tr>\n",
       "      <th>25%</th>\n",
       "      <td>2630.500000</td>\n",
       "      <td>20032.000000</td>\n",
       "      <td>19814.000000</td>\n",
       "      <td>20214.000000</td>\n",
       "      <td>17074.000000</td>\n",
       "      <td>1.610640e+05</td>\n",
       "      <td>7.650500e+04</td>\n",
       "      <td>2.392380e+05</td>\n",
       "    </tr>\n",
       "    <tr>\n",
       "      <th>50%</th>\n",
       "      <td>9802.000000</td>\n",
       "      <td>49306.000000</td>\n",
       "      <td>49875.000000</td>\n",
       "      <td>49523.000000</td>\n",
       "      <td>40034.000000</td>\n",
       "      <td>4.014360e+05</td>\n",
       "      <td>1.830550e+05</td>\n",
       "      <td>6.059990e+05</td>\n",
       "    </tr>\n",
       "    <tr>\n",
       "      <th>75%</th>\n",
       "      <td>24999.500000</td>\n",
       "      <td>79544.000000</td>\n",
       "      <td>79321.000000</td>\n",
       "      <td>80206.500000</td>\n",
       "      <td>70997.000000</td>\n",
       "      <td>6.403730e+05</td>\n",
       "      <td>3.156855e+05</td>\n",
       "      <td>9.685840e+05</td>\n",
       "    </tr>\n",
       "    <tr>\n",
       "      <th>max</th>\n",
       "      <td>250911.000000</td>\n",
       "      <td>530531.000000</td>\n",
       "      <td>493415.000000</td>\n",
       "      <td>500143.000000</td>\n",
       "      <td>498403.000000</td>\n",
       "      <td>3.929869e+06</td>\n",
       "      <td>2.013687e+06</td>\n",
       "      <td>5.944746e+06</td>\n",
       "    </tr>\n",
       "  </tbody>\n",
       "</table>\n",
       "</div>"
      ],
      "text/plain": [
       "         GRADES_PK_G    GRADES_KG_G     GRADES_4_G     GRADES_8_G  \\\n",
       "count    1331.000000    1331.000000    1331.000000    1331.000000   \n",
       "mean    19548.346356   69866.448535   70725.366642   70372.664914   \n",
       "std     31360.884952   82793.100694   82713.230404   81111.115840   \n",
       "min         0.000000    3459.000000    2548.000000    1485.000000   \n",
       "25%      2630.500000   20032.000000   19814.000000   20214.000000   \n",
       "50%      9802.000000   49306.000000   49875.000000   49523.000000   \n",
       "75%     24999.500000   79544.000000   79321.000000   80206.500000   \n",
       "max    250911.000000  530531.000000  493415.000000  500143.000000   \n",
       "\n",
       "         GRADES_12_G  GRADES_1_8_G  GRADES_9_12_G  GRADES_ALL_G  \n",
       "count    1331.000000  1.331000e+03   1.331000e+03  1.331000e+03  \n",
       "mean    60139.822690  5.685511e+05   2.719494e+05  8.600964e+05  \n",
       "std     70677.865347  6.617301e+05   3.176011e+05  1.003027e+06  \n",
       "min       484.000000  1.922600e+04   2.758000e+03  2.455400e+04  \n",
       "25%     17074.000000  1.610640e+05   7.650500e+04  2.392380e+05  \n",
       "50%     40034.000000  4.014360e+05   1.830550e+05  6.059990e+05  \n",
       "75%     70997.000000  6.403730e+05   3.156855e+05  9.685840e+05  \n",
       "max    498403.000000  3.929869e+06   2.013687e+06  5.944746e+06  "
      ]
     },
     "execution_count": 7,
     "metadata": {},
     "output_type": "execute_result"
    }
   ],
   "source": [
    "df.describe().iloc[:, 11:19]"
   ]
  },
  {
   "cell_type": "code",
   "execution_count": 8,
   "metadata": {},
   "outputs": [
    {
     "data": {
      "text/html": [
       "<div>\n",
       "<style scoped>\n",
       "    .dataframe tbody tr th:only-of-type {\n",
       "        vertical-align: middle;\n",
       "    }\n",
       "\n",
       "    .dataframe tbody tr th {\n",
       "        vertical-align: top;\n",
       "    }\n",
       "\n",
       "    .dataframe thead th {\n",
       "        text-align: right;\n",
       "    }\n",
       "</style>\n",
       "<table border=\"1\" class=\"dataframe\">\n",
       "  <thead>\n",
       "    <tr style=\"text-align: right;\">\n",
       "      <th></th>\n",
       "      <th>AVG_MATH_4_SCORE</th>\n",
       "      <th>AVG_MATH_8_SCORE</th>\n",
       "      <th>AVG_READING_4_SCORE</th>\n",
       "      <th>AVG_READING_8_SCORE</th>\n",
       "    </tr>\n",
       "  </thead>\n",
       "  <tbody>\n",
       "    <tr>\n",
       "      <th>count</th>\n",
       "      <td>1331.000000</td>\n",
       "      <td>1331.000000</td>\n",
       "      <td>1331.000000</td>\n",
       "      <td>1331.000000</td>\n",
       "    </tr>\n",
       "    <tr>\n",
       "      <th>mean</th>\n",
       "      <td>232.730088</td>\n",
       "      <td>277.335925</td>\n",
       "      <td>218.455319</td>\n",
       "      <td>262.977955</td>\n",
       "    </tr>\n",
       "    <tr>\n",
       "      <th>std</th>\n",
       "      <td>10.520429</td>\n",
       "      <td>10.202729</td>\n",
       "      <td>7.791037</td>\n",
       "      <td>6.145555</td>\n",
       "    </tr>\n",
       "    <tr>\n",
       "      <th>min</th>\n",
       "      <td>187.134670</td>\n",
       "      <td>232.831510</td>\n",
       "      <td>178.557612</td>\n",
       "      <td>236.379102</td>\n",
       "    </tr>\n",
       "    <tr>\n",
       "      <th>25%</th>\n",
       "      <td>226.217989</td>\n",
       "      <td>271.470509</td>\n",
       "      <td>214.442087</td>\n",
       "      <td>259.157004</td>\n",
       "    </tr>\n",
       "    <tr>\n",
       "      <th>50%</th>\n",
       "      <td>234.422377</td>\n",
       "      <td>279.025070</td>\n",
       "      <td>220.066378</td>\n",
       "      <td>264.111352</td>\n",
       "    </tr>\n",
       "    <tr>\n",
       "      <th>75%</th>\n",
       "      <td>240.858190</td>\n",
       "      <td>284.108611</td>\n",
       "      <td>223.743760</td>\n",
       "      <td>267.333304</td>\n",
       "    </tr>\n",
       "    <tr>\n",
       "      <th>max</th>\n",
       "      <td>253.420961</td>\n",
       "      <td>300.568235</td>\n",
       "      <td>236.773867</td>\n",
       "      <td>280.499130</td>\n",
       "    </tr>\n",
       "  </tbody>\n",
       "</table>\n",
       "</div>"
      ],
      "text/plain": [
       "       AVG_MATH_4_SCORE  AVG_MATH_8_SCORE  AVG_READING_4_SCORE  \\\n",
       "count       1331.000000       1331.000000          1331.000000   \n",
       "mean         232.730088        277.335925           218.455319   \n",
       "std           10.520429         10.202729             7.791037   \n",
       "min          187.134670        232.831510           178.557612   \n",
       "25%          226.217989        271.470509           214.442087   \n",
       "50%          234.422377        279.025070           220.066378   \n",
       "75%          240.858190        284.108611           223.743760   \n",
       "max          253.420961        300.568235           236.773867   \n",
       "\n",
       "       AVG_READING_8_SCORE  \n",
       "count          1331.000000  \n",
       "mean            262.977955  \n",
       "std               6.145555  \n",
       "min             236.379102  \n",
       "25%             259.157004  \n",
       "50%             264.111352  \n",
       "75%             267.333304  \n",
       "max             280.499130  "
      ]
     },
     "execution_count": 8,
     "metadata": {},
     "output_type": "execute_result"
    }
   ],
   "source": [
    "df.describe().iloc[:, 19:]"
   ]
  },
  {
   "cell_type": "code",
   "execution_count": 9,
   "metadata": {},
   "outputs": [
    {
     "data": {
      "text/html": [
       "<div>\n",
       "<style scoped>\n",
       "    .dataframe tbody tr th:only-of-type {\n",
       "        vertical-align: middle;\n",
       "    }\n",
       "\n",
       "    .dataframe tbody tr th {\n",
       "        vertical-align: top;\n",
       "    }\n",
       "\n",
       "    .dataframe thead th {\n",
       "        text-align: right;\n",
       "    }\n",
       "</style>\n",
       "<table border=\"1\" class=\"dataframe\">\n",
       "  <thead>\n",
       "    <tr style=\"text-align: right;\">\n",
       "      <th></th>\n",
       "      <th>PRIMARY_KEY</th>\n",
       "      <th>STATE</th>\n",
       "    </tr>\n",
       "  </thead>\n",
       "  <tbody>\n",
       "    <tr>\n",
       "      <th>count</th>\n",
       "      <td>1331</td>\n",
       "      <td>1331</td>\n",
       "    </tr>\n",
       "    <tr>\n",
       "      <th>unique</th>\n",
       "      <td>1326</td>\n",
       "      <td>51</td>\n",
       "    </tr>\n",
       "    <tr>\n",
       "      <th>top</th>\n",
       "      <td>2008_VIRGINIA</td>\n",
       "      <td>DISTRICT_OF_COLUMBIA</td>\n",
       "    </tr>\n",
       "    <tr>\n",
       "      <th>freq</th>\n",
       "      <td>3</td>\n",
       "      <td>29</td>\n",
       "    </tr>\n",
       "  </tbody>\n",
       "</table>\n",
       "</div>"
      ],
      "text/plain": [
       "          PRIMARY_KEY                 STATE\n",
       "count            1331                  1331\n",
       "unique           1326                    51\n",
       "top     2008_VIRGINIA  DISTRICT_OF_COLUMBIA\n",
       "freq                3                    29"
      ]
     },
     "execution_count": 9,
     "metadata": {},
     "output_type": "execute_result"
    }
   ],
   "source": [
    "df.describe(include=['O'])"
   ]
  },
  {
   "cell_type": "markdown",
   "metadata": {},
   "source": [
    "### 2. Choose a state (e.g. California) and draw a line graph of its total revenues and total expenditures along the years. How do these 2 variables evolve during the years? Try to explain the peaks and troughs with some state-wise news and information around those dates."
   ]
  },
  {
   "cell_type": "code",
   "execution_count": 10,
   "metadata": {},
   "outputs": [],
   "source": [
    "co_df = df[df.STATE == 'COLORADO']"
   ]
  },
  {
   "cell_type": "code",
   "execution_count": 11,
   "metadata": {},
   "outputs": [
    {
     "data": {
      "image/png": "[encoded data removed]",
      "text/plain": [
       "<Figure size 1080x360 with 1 Axes>"
      ]
     },
     "metadata": {
      "needs_background": "light"
     },
     "output_type": "display_data"
    }
   ],
   "source": [
    "plt.figure(figsize=(15,5))\n",
    "plt.plot(co_df.YEAR, co_df.TOTAL_EXPENDITURE, color='red', label='Total Expenditure', alpha=.75, marker='o')\n",
    "plt.plot(co_df.YEAR, co_df.TOTAL_REVENUE, color='blue', label='Total Revenue', alpha=.75, marker='o')\n",
    "plt.xlabel('Year')\n",
    "plt.ylabel('Dollar Amount (Millions)')\n",
    "plt.legend(frameon=True, framealpha=1, shadow=True)\n",
    "plt.title('Colorado Education Expenditure and Revenue by Year')\n",
    "plt.ticklabel_format(style='plain')\n",
    "plt.yticks(ticks=np.arange(2000000, 11000000, 1000000), labels=np.arange(2,11,1))\n",
    "plt.xticks(ticks=np.arange(1992,2018,1))\n",
    "plt.grid(True, alpha=.25)\n",
    "plt.show()"
   ]
  },
  {
   "cell_type": "markdown",
   "metadata": {},
   "source": [
    "- Relatively consistent increase for both variables over time\n",
    "- Expenditures have almost always been higher than revenues\n",
    "- Once revenue overtook expenditures in 2011, things stagnated for a few years\n",
    "- Appears to be on a rising trend again"
   ]
  },
  {
   "cell_type": "markdown",
   "metadata": {},
   "source": [
    "### 3. In your chosen state, which of the lessons are the students more successful, math or reading?"
   ]
  },
  {
   "cell_type": "code",
   "execution_count": 12,
   "metadata": {},
   "outputs": [
    {
     "data": {
      "text/html": [
       "<div>\n",
       "<style scoped>\n",
       "    .dataframe tbody tr th:only-of-type {\n",
       "        vertical-align: middle;\n",
       "    }\n",
       "\n",
       "    .dataframe tbody tr th {\n",
       "        vertical-align: top;\n",
       "    }\n",
       "\n",
       "    .dataframe thead th {\n",
       "        text-align: right;\n",
       "    }\n",
       "</style>\n",
       "<table border=\"1\" class=\"dataframe\">\n",
       "  <thead>\n",
       "    <tr style=\"text-align: right;\">\n",
       "      <th></th>\n",
       "      <th>AVG_MATH_4_SCORE</th>\n",
       "      <th>AVG_MATH_8_SCORE</th>\n",
       "      <th>AVG_READING_4_SCORE</th>\n",
       "      <th>AVG_READING_8_SCORE</th>\n",
       "    </tr>\n",
       "  </thead>\n",
       "  <tbody>\n",
       "    <tr>\n",
       "      <th>count</th>\n",
       "      <td>26.000000</td>\n",
       "      <td>26.000000</td>\n",
       "      <td>26.000000</td>\n",
       "      <td>26.000000</td>\n",
       "    </tr>\n",
       "    <tr>\n",
       "      <th>mean</th>\n",
       "      <td>235.576981</td>\n",
       "      <td>282.469956</td>\n",
       "      <td>222.719936</td>\n",
       "      <td>262.911480</td>\n",
       "    </tr>\n",
       "    <tr>\n",
       "      <th>std</th>\n",
       "      <td>8.090323</td>\n",
       "      <td>5.722250</td>\n",
       "      <td>3.055875</td>\n",
       "      <td>4.275570</td>\n",
       "    </tr>\n",
       "    <tr>\n",
       "      <th>min</th>\n",
       "      <td>221.023429</td>\n",
       "      <td>272.398433</td>\n",
       "      <td>213.480890</td>\n",
       "      <td>251.936881</td>\n",
       "    </tr>\n",
       "    <tr>\n",
       "      <th>25%</th>\n",
       "      <td>228.823191</td>\n",
       "      <td>278.112671</td>\n",
       "      <td>222.298588</td>\n",
       "      <td>259.886038</td>\n",
       "    </tr>\n",
       "    <tr>\n",
       "      <th>50%</th>\n",
       "      <td>238.210185</td>\n",
       "      <td>282.843312</td>\n",
       "      <td>223.657343</td>\n",
       "      <td>262.915343</td>\n",
       "    </tr>\n",
       "    <tr>\n",
       "      <th>75%</th>\n",
       "      <td>241.642768</td>\n",
       "      <td>286.649053</td>\n",
       "      <td>224.513287</td>\n",
       "      <td>266.228184</td>\n",
       "    </tr>\n",
       "    <tr>\n",
       "      <th>max</th>\n",
       "      <td>246.975708</td>\n",
       "      <td>291.742673</td>\n",
       "      <td>226.663220</td>\n",
       "      <td>270.338689</td>\n",
       "    </tr>\n",
       "  </tbody>\n",
       "</table>\n",
       "</div>"
      ],
      "text/plain": [
       "       AVG_MATH_4_SCORE  AVG_MATH_8_SCORE  AVG_READING_4_SCORE  \\\n",
       "count         26.000000         26.000000            26.000000   \n",
       "mean         235.576981        282.469956           222.719936   \n",
       "std            8.090323          5.722250             3.055875   \n",
       "min          221.023429        272.398433           213.480890   \n",
       "25%          228.823191        278.112671           222.298588   \n",
       "50%          238.210185        282.843312           223.657343   \n",
       "75%          241.642768        286.649053           224.513287   \n",
       "max          246.975708        291.742673           226.663220   \n",
       "\n",
       "       AVG_READING_8_SCORE  \n",
       "count            26.000000  \n",
       "mean            262.911480  \n",
       "std               4.275570  \n",
       "min             251.936881  \n",
       "25%             259.886038  \n",
       "50%             262.915343  \n",
       "75%             266.228184  \n",
       "max             270.338689  "
      ]
     },
     "execution_count": 12,
     "metadata": {},
     "output_type": "execute_result"
    }
   ],
   "source": [
    "co_df.describe().iloc[:, -4:]"
   ]
  },
  {
   "cell_type": "markdown",
   "metadata": {},
   "source": [
    "It appears that both for 4th graders and 8th graders the scores are higher in the math region in general."
   ]
  },
  {
   "cell_type": "code",
   "execution_count": 13,
   "metadata": {},
   "outputs": [
    {
     "data": {
      "image/png": "[encoded data removed]",
      "text/plain": [
       "<Figure size 1080x360 with 1 Axes>"
      ]
     },
     "metadata": {
      "needs_background": "light"
     },
     "output_type": "display_data"
    }
   ],
   "source": [
    "plt.figure(figsize=(15,5))\n",
    "plt.plot(co_df.YEAR, co_df.AVG_MATH_4_SCORE, color='blue', label='Math', marker='o')\n",
    "plt.plot(co_df.YEAR, co_df.AVG_READING_4_SCORE, color='green', label='Reading', marker='o')\n",
    "plt.xticks(ticks=np.arange(1992,2018,1))\n",
    "plt.xlabel('Year')\n",
    "plt.ylabel('Average Score')\n",
    "plt.grid(True, alpha=.25)\n",
    "plt.legend()\n",
    "plt.title('Colorado Average Math and Reading Scores by Year: 4th Grade')\n",
    "plt.show()"
   ]
  },
  {
   "cell_type": "code",
   "execution_count": 14,
   "metadata": {},
   "outputs": [
    {
     "data": {
      "image/png": "[encoded data removed]",
      "text/plain": [
       "<Figure size 1080x360 with 1 Axes>"
      ]
     },
     "metadata": {
      "needs_background": "light"
     },
     "output_type": "display_data"
    }
   ],
   "source": [
    "plt.figure(figsize=(15,5))\n",
    "plt.plot(co_df.YEAR, co_df.AVG_MATH_8_SCORE, color='blue', label='Math', marker='o')\n",
    "plt.plot(co_df.YEAR, co_df.AVG_READING_8_SCORE, color='green', label='Reading', marker='o')\n",
    "plt.xticks(ticks=np.arange(1992,2018,1))\n",
    "plt.xlabel('Year')\n",
    "plt.ylabel('Average Score')\n",
    "plt.grid(True, alpha=.25)\n",
    "plt.legend()\n",
    "plt.title('Colorado Average Math and Reading Scores by Year: 8th Grade')\n",
    "plt.show()"
   ]
  },
  {
   "cell_type": "markdown",
   "metadata": {},
   "source": [
    "Scores have been better in math than reading every single year since 1992 for both 4th and 8th graders."
   ]
  },
  {
   "cell_type": "markdown",
   "metadata": {},
   "source": [
    "### 4. What are the distributions of the math and reading scores in the sample?"
   ]
  },
  {
   "cell_type": "code",
   "execution_count": 15,
   "metadata": {},
   "outputs": [
    {
     "data": {
      "image/png": "[encoded data removed]",
      "text/plain": [
       "<Figure size 720x720 with 4 Axes>"
      ]
     },
     "metadata": {
      "needs_background": "light"
     },
     "output_type": "display_data"
    }
   ],
   "source": [
    "fig = plt.figure(figsize=(10, 10))\n",
    "for i, col in enumerate(co_df.columns[-4:], start=1):\n",
    "    plt.subplot(2,2,i)\n",
    "    plt.hist(co_df[col])\n",
    "    plt.title(col)\n",
    "plt.suptitle('Colorado',y=.92)\n",
    "plt.show()"
   ]
  },
  {
   "cell_type": "code",
   "execution_count": 16,
   "metadata": {},
   "outputs": [
    {
     "data": {
      "image/png": "[encoded data removed]",
      "text/plain": [
       "<Figure size 720x720 with 4 Axes>"
      ]
     },
     "metadata": {
      "needs_background": "light"
     },
     "output_type": "display_data"
    }
   ],
   "source": [
    "fig = plt.figure(figsize=(10, 10))\n",
    "for i, col in enumerate(df.columns[-4:], start=1):\n",
    "    plt.subplot(2,2,i)\n",
    "    plt.hist(df[col])\n",
    "    plt.title(col)\n",
    "plt.suptitle('All States',y=.92)\n",
    "plt.show()"
   ]
  },
  {
   "cell_type": "markdown",
   "metadata": {},
   "source": [
    "### 5. Notice there are too many missing values for math and reading scores. Fill out the missing values using mean, median, and linear interpolation. Then compare the effects of these techniques on the distributions of the score variables."
   ]
  },
  {
   "cell_type": "markdown",
   "metadata": {},
   "source": [
    "This was already done before the exploration began. All values have been filled using interpolation by state and year."
   ]
  }
 ],
 "metadata": {
  "kernelspec": {
   "display_name": "Python 3",
   "language": "python",
   "name": "python3"
  },
  "language_info": {
   "codemirror_mode": {
    "name": "ipython",
    "version": 3
   },
   "file_extension": ".py",
   "mimetype": "text/x-python",
   "name": "python",
   "nbconvert_exporter": "python",
   "pygments_lexer": "ipython3",
   "version": "3.7.0"
  }
 },
 "nbformat": 4,
 "nbformat_minor": 4
}
