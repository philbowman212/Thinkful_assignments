{
 "cells": [
  {
   "cell_type": "markdown",
   "metadata": {},
   "source": [
    "# Evaluate House Price Models Performances"
   ]
  },
  {
   "cell_type": "markdown",
   "metadata": {},
   "source": [
    "This is part two of two for the evaluating performance assignment.\n",
    "1. [Evaluate Weather Models Performances](https://github.com/philbowman212/Thinkful_repo/blob/master/assignments/3_supervised_learning/regression_problems/eval_temp_perf.ipynb)\n",
    "2. [Evaluate House Price Models Performances](https://github.com/philbowman212/Thinkful_repo/blob/master/assignments/3_supervised_learning/regression_problems/eval_hp_perf.ipynb)"
   ]
  },
  {
   "cell_type": "markdown",
   "metadata": {},
   "source": [
    "### House prices model\n",
    "\n",
    "In this exercise, you'll work on your house prices model. To complete this assignment, submit a link to a Jupyter notebook containing your solutions to the following tasks:\n",
    "\n",
    "* Load the **houseprices** data from Thinkful's database.\n",
    "* Run your house prices model again and assess the goodness of fit of your model using F-test, R-squared, adjusted R-squared, AIC and BIC.\n",
    "* Do you think your model is satisfactory? If so, why?\n",
    "* In order to improve the goodness of fit of your model, try different model specifications by adding or removing some variables. \n",
    "* For each model you try, get the goodness of fit metrics and compare your models with each other. Which model is the best and why?"
   ]
  },
  {
   "cell_type": "code",
   "execution_count": 1,
   "metadata": {},
   "outputs": [],
   "source": [
    "import numpy as np\n",
    "import pandas as pd\n",
    "import matplotlib.pyplot as plt\n",
    "import seaborn as sns\n",
    "from sqlalchemy import create_engine\n",
    "%matplotlib inline\n",
    "\n",
    "import warnings\n",
    "warnings.filterwarnings(\"ignore\")"
   ]
  },
  {
   "cell_type": "code",
   "execution_count": 2,
   "metadata": {},
   "outputs": [],
   "source": [
    "postgres_user = 'dsbc_student'\n",
    "postgres_pw = '7*.8G9QH21'\n",
    "postgres_host = '142.93.121.174'\n",
    "postgres_port = '5432'\n",
    "postgres_db = 'houseprices'\n",
    "\n",
    "engine = create_engine('postgresql://{}:{}@{}:{}/{}'.format(\n",
    "    postgres_user, postgres_pw, postgres_host, postgres_port, postgres_db))\n",
    "\n",
    "df = pd.read_sql_query('select * from houseprices',con=engine)\n",
    "\n",
    "engine.dispose()"
   ]
  },
  {
   "cell_type": "markdown",
   "metadata": {},
   "source": [
    "Cleaning..."
   ]
  },
  {
   "cell_type": "code",
   "execution_count": 3,
   "metadata": {},
   "outputs": [],
   "source": [
    "df.drop(columns='id', inplace=True)"
   ]
  },
  {
   "cell_type": "code",
   "execution_count": 4,
   "metadata": {},
   "outputs": [],
   "source": [
    "cat_list = ['mssubclass','mszoning','street','alley','lotshape','landcontour','utilities','lotconfig','landslope','neighborhood','condition1','condition2',\n",
    "            'bldgtype','housestyle','roofstyle','roofmatl','exterior1st','exterior2nd','masvnrtype','exterqual','extercond','foundation','bsmtqual','bsmtcond',\n",
    "            'bsmtexposure','bsmtfintype1','bsmtfintype2','heating','heatingqc','centralair','electrical','kitchenqual','functional','fireplacequ','garagetype',\n",
    "            'garagefinish','garagequal','garagecond','paveddrive','poolqc','fence','miscfeature','saletype','salecondition', 'overallqual', 'overallcond', \n",
    "            'yearbuilt', 'yearremodadd', 'mosold', 'yrsold']\n",
    "for var in cat_list:\n",
    "    df[var] = df[var].astype('category')"
   ]
  },
  {
   "cell_type": "code",
   "execution_count": 5,
   "metadata": {},
   "outputs": [],
   "source": [
    "def add_cat_fillna(variable, new_cat='None'):\n",
    "    df[variable] = df[variable].cat.add_categories(new_cat).fillna(new_cat).copy()"
   ]
  },
  {
   "cell_type": "code",
   "execution_count": 6,
   "metadata": {},
   "outputs": [],
   "source": [
    "nulls_list = ['alley','bsmtqual','bsmtcond','bsmtexposure','bsmtfintype1','bsmtfintype2','fireplacequ','garagetype','garagefinish','garagequal','garagecond',\n",
    "             'poolqc','fence','miscfeature']\n",
    "for var in nulls_list:\n",
    "    add_cat_fillna(var)"
   ]
  },
  {
   "cell_type": "code",
   "execution_count": 7,
   "metadata": {},
   "outputs": [],
   "source": [
    "df.masvnrtype = df.masvnrtype.fillna('None').copy()\n",
    "df.masvnrarea = df.masvnrarea.fillna(0).copy()\n",
    "df.lotfrontage = df.lotfrontage.fillna(df.lotfrontage.median()).copy()\n",
    "df.electrical = df.electrical.fillna(df.electrical.mode()[0]).copy()\n",
    "df.drop(columns='garageyrblt', inplace=True)"
   ]
  },
  {
   "cell_type": "code",
   "execution_count": 8,
   "metadata": {},
   "outputs": [],
   "source": [
    "def outliers_std(data, columns, thresh=2):\n",
    "    outlier_indexes = []\n",
    "    for col in columns:\n",
    "        ser_col = data[col]\n",
    "        mean = ser_col.mean()\n",
    "        sd = ser_col.std()\n",
    "        outliers_mask = data[(data[col] > mean + thresh*sd) | (data[col] < mean - thresh*sd)].index\n",
    "        outlier_indexes += [x for x in outliers_mask]\n",
    "    return list(set(outlier_indexes))"
   ]
  },
  {
   "cell_type": "code",
   "execution_count": 9,
   "metadata": {},
   "outputs": [],
   "source": [
    "df.drop(outliers_std(df, df.describe().columns), inplace=True)"
   ]
  },
  {
   "cell_type": "markdown",
   "metadata": {},
   "source": [
    "Feature selection..."
   ]
  },
  {
   "cell_type": "code",
   "execution_count": 10,
   "metadata": {},
   "outputs": [],
   "source": [
    "data = pd.DataFrame()\n",
    "data['target'] = df.saleprice\n",
    "data['totalsf'] = df.totalbsmtsf + df.firstflrsf + df.secondflrsf\n",
    "data['grlivarea'] = df.grlivarea\n",
    "data['bedroomabvgr'] = df.bedroomabvgr\n",
    "data['totalbath'] = df.fullbath + df.halfbath * .5\n",
    "data['garagearea'] = df.garagearea\n",
    "data['selling_age'] = df.yrsold.astype('int') - df.yearbuilt.astype('int')"
   ]
  },
  {
   "cell_type": "code",
   "execution_count": 11,
   "metadata": {},
   "outputs": [],
   "source": [
    "import statsmodels.api as sm"
   ]
  },
  {
   "cell_type": "code",
   "execution_count": 12,
   "metadata": {},
   "outputs": [
    {
     "name": "stdout",
     "output_type": "stream",
     "text": [
      "                            OLS Regression Results                            \n",
      "==============================================================================\n",
      "Dep. Variable:                 target   R-squared:                       0.792\n",
      "Model:                            OLS   Adj. R-squared:                  0.790\n",
      "Method:                 Least Squares   F-statistic:                     387.1\n",
      "Date:                Mon, 11 Nov 2019   Prob (F-statistic):          3.00e-204\n",
      "Time:                        11:17:17   Log-Likelihood:                -7053.5\n",
      "No. Observations:                 617   AIC:                         1.412e+04\n",
      "Df Residuals:                     610   BIC:                         1.415e+04\n",
      "Df Model:                           6                                         \n",
      "Covariance Type:            nonrobust                                         \n",
      "================================================================================\n",
      "                   coef    std err          t      P>|t|      [0.025      0.975]\n",
      "--------------------------------------------------------------------------------\n",
      "const         3.874e+04   8012.830      4.835      0.000     2.3e+04    5.45e+04\n",
      "totalsf         38.0222      3.844      9.891      0.000      30.473      45.572\n",
      "grlivarea       34.8963      6.887      5.067      0.000      21.372      48.421\n",
      "bedroomabvgr -7441.3697   1905.161     -3.906      0.000   -1.12e+04   -3699.899\n",
      "totalbath     3722.5658   3041.442      1.224      0.221   -2250.401    9695.533\n",
      "garagearea      44.7536      7.333      6.103      0.000      30.352      59.155\n",
      "selling_age   -529.2963     50.794    -10.420      0.000    -629.048    -429.544\n",
      "==============================================================================\n",
      "Omnibus:                       46.904   Durbin-Watson:                   2.110\n",
      "Prob(Omnibus):                  0.000   Jarque-Bera (JB):              167.738\n",
      "Skew:                           0.246   Prob(JB):                     3.77e-37\n",
      "Kurtosis:                       5.507   Cond. No.                     2.56e+04\n",
      "==============================================================================\n",
      "\n",
      "Warnings:\n",
      "[1] Standard Errors assume that the covariance matrix of the errors is correctly specified.\n",
      "[2] The condition number is large, 2.56e+04. This might indicate that there are\n",
      "strong multicollinearity or other numerical problems.\n"
     ]
    }
   ],
   "source": [
    "def OLS_sum(data):\n",
    "    target = data.iloc[:, 0]\n",
    "    data = data.iloc[:, 1:]\n",
    "    sm_data = sm.add_constant(data)\n",
    "    results = sm.OLS(target, sm_data).fit()\n",
    "    print(results.summary())\n",
    "OLS_sum(data)"
   ]
  },
  {
   "cell_type": "markdown",
   "metadata": {},
   "source": [
    "The totalbath variable appears to not be significant in this model, let's remove it and see if that model is better."
   ]
  },
  {
   "cell_type": "code",
   "execution_count": 13,
   "metadata": {},
   "outputs": [
    {
     "name": "stdout",
     "output_type": "stream",
     "text": [
      "                            OLS Regression Results                            \n",
      "==============================================================================\n",
      "Dep. Variable:                 target   R-squared:                       0.791\n",
      "Model:                            OLS   Adj. R-squared:                  0.790\n",
      "Method:                 Least Squares   F-statistic:                     463.9\n",
      "Date:                Mon, 11 Nov 2019   Prob (F-statistic):          2.80e-205\n",
      "Time:                        11:17:17   Log-Likelihood:                -7054.2\n",
      "No. Observations:                 617   AIC:                         1.412e+04\n",
      "Df Residuals:                     611   BIC:                         1.415e+04\n",
      "Df Model:                           5                                         \n",
      "Covariance Type:            nonrobust                                         \n",
      "================================================================================\n",
      "                   coef    std err          t      P>|t|      [0.025      0.975]\n",
      "--------------------------------------------------------------------------------\n",
      "const         4.362e+04   6952.996      6.274      0.000       3e+04    5.73e+04\n",
      "totalsf         36.2577      3.565     10.170      0.000      29.256      43.259\n",
      "grlivarea       40.6258      5.053      8.040      0.000      30.702      50.549\n",
      "bedroomabvgr -7664.1296   1897.221     -4.040      0.000   -1.14e+04   -3938.265\n",
      "garagearea      44.3644      7.329      6.053      0.000      29.970      58.758\n",
      "selling_age   -570.9477     37.724    -15.135      0.000    -645.032    -496.863\n",
      "==============================================================================\n",
      "Omnibus:                       45.326   Durbin-Watson:                   2.115\n",
      "Prob(Omnibus):                  0.000   Jarque-Bera (JB):              161.718\n",
      "Skew:                           0.226   Prob(JB):                     7.64e-36\n",
      "Kurtosis:                       5.467   Cond. No.                     2.19e+04\n",
      "==============================================================================\n",
      "\n",
      "Warnings:\n",
      "[1] Standard Errors assume that the covariance matrix of the errors is correctly specified.\n",
      "[2] The condition number is large, 2.19e+04. This might indicate that there are\n",
      "strong multicollinearity or other numerical problems.\n"
     ]
    }
   ],
   "source": [
    "data = pd.DataFrame()\n",
    "data['target'] = df.saleprice\n",
    "data['totalsf'] = df.totalbsmtsf + df.firstflrsf + df.secondflrsf\n",
    "data['grlivarea'] = df.grlivarea\n",
    "data['bedroomabvgr'] = df.bedroomabvgr\n",
    "data['garagearea'] = df.garagearea\n",
    "data['selling_age'] = df.yrsold.astype('int') - df.yearbuilt.astype('int')\n",
    "\n",
    "OLS_sum(data)"
   ]
  },
  {
   "cell_type": "markdown",
   "metadata": {},
   "source": [
    "The adjusted R-squared is identical to the last model, the F-stat is better in this one. The AIC and BIC are practically identical. Let's see if the interaction between totalsf and grlivarea adds anything to the model."
   ]
  },
  {
   "cell_type": "code",
   "execution_count": 14,
   "metadata": {},
   "outputs": [
    {
     "name": "stdout",
     "output_type": "stream",
     "text": [
      "                            OLS Regression Results                            \n",
      "==============================================================================\n",
      "Dep. Variable:                 target   R-squared:                       0.801\n",
      "Model:                            OLS   Adj. R-squared:                  0.799\n",
      "Method:                 Least Squares   F-statistic:                     409.2\n",
      "Date:                Mon, 11 Nov 2019   Prob (F-statistic):          4.34e-210\n",
      "Time:                        11:17:17   Log-Likelihood:                -7039.8\n",
      "No. Observations:                 617   AIC:                         1.409e+04\n",
      "Df Residuals:                     610   BIC:                         1.412e+04\n",
      "Df Model:                           6                                         \n",
      "Covariance Type:            nonrobust                                         \n",
      "===================================================================================\n",
      "                      coef    std err          t      P>|t|      [0.025      0.975]\n",
      "-----------------------------------------------------------------------------------\n",
      "const            1.253e+05   1.66e+04      7.550      0.000    9.27e+04    1.58e+05\n",
      "totalsf             2.6364      7.140      0.369      0.712     -11.386      16.659\n",
      "grlivarea         -20.1064     12.293     -1.636      0.102     -44.249       4.036\n",
      "totalsf_grl_rel     0.0243      0.005      5.395      0.000       0.015       0.033\n",
      "bedroomabvgr    -6742.9491   1862.873     -3.620      0.000   -1.04e+04   -3084.526\n",
      "garagearea         38.8056      7.240      5.360      0.000      24.587      53.024\n",
      "selling_age      -612.7144     37.689    -16.257      0.000    -686.730    -538.699\n",
      "==============================================================================\n",
      "Omnibus:                       39.964   Durbin-Watson:                   2.116\n",
      "Prob(Omnibus):                  0.000   Jarque-Bera (JB):              147.545\n",
      "Skew:                           0.110   Prob(JB):                     9.14e-33\n",
      "Kurtosis:                       5.386   Cond. No.                     6.90e+07\n",
      "==============================================================================\n",
      "\n",
      "Warnings:\n",
      "[1] Standard Errors assume that the covariance matrix of the errors is correctly specified.\n",
      "[2] The condition number is large, 6.9e+07. This might indicate that there are\n",
      "strong multicollinearity or other numerical problems.\n"
     ]
    }
   ],
   "source": [
    "data = pd.DataFrame()\n",
    "data['target'] = df.saleprice\n",
    "data['totalsf'] = df.totalbsmtsf + df.firstflrsf + df.secondflrsf\n",
    "data['grlivarea'] = df.grlivarea\n",
    "data['totalsf_grl_rel'] = (df.totalbsmtsf + df.firstflrsf + df.secondflrsf) * df.grlivarea\n",
    "data['bedroomabvgr'] = df.bedroomabvgr\n",
    "data['garagearea'] = df.garagearea\n",
    "data['selling_age'] = df.yrsold.astype('int') - df.yearbuilt.astype('int')\n",
    "\n",
    "OLS_sum(data)"
   ]
  },
  {
   "cell_type": "markdown",
   "metadata": {},
   "source": [
    "This model makes totalsf and grlivarea insignificant - perhaps their relation is enough? The model's outcome variable is better explained, the AIC and BIC have also decreased. Let's remove totalsf and grlivarea and see what happens."
   ]
  },
  {
   "cell_type": "code",
   "execution_count": 15,
   "metadata": {},
   "outputs": [
    {
     "name": "stdout",
     "output_type": "stream",
     "text": [
      "                            OLS Regression Results                            \n",
      "==============================================================================\n",
      "Dep. Variable:                 target   R-squared:                       0.799\n",
      "Model:                            OLS   Adj. R-squared:                  0.798\n",
      "Method:                 Least Squares   F-statistic:                     608.0\n",
      "Date:                Mon, 11 Nov 2019   Prob (F-statistic):          1.58e-211\n",
      "Time:                        11:17:17   Log-Likelihood:                -7043.0\n",
      "No. Observations:                 617   AIC:                         1.410e+04\n",
      "Df Residuals:                     612   BIC:                         1.412e+04\n",
      "Df Model:                           4                                         \n",
      "Covariance Type:            nonrobust                                         \n",
      "===================================================================================\n",
      "                      coef    std err          t      P>|t|      [0.025      0.975]\n",
      "-----------------------------------------------------------------------------------\n",
      "const            1.193e+05   5784.148     20.632      0.000    1.08e+05    1.31e+05\n",
      "totalsf_grl_rel     0.0207      0.001     27.057      0.000       0.019       0.022\n",
      "bedroomabvgr    -8182.2019   1772.575     -4.616      0.000   -1.17e+04   -4701.135\n",
      "garagearea         41.1176      7.193      5.717      0.000      26.993      55.243\n",
      "selling_age      -616.5715     36.236    -17.015      0.000    -687.733    -545.410\n",
      "==============================================================================\n",
      "Omnibus:                       44.273   Durbin-Watson:                   2.096\n",
      "Prob(Omnibus):                  0.000   Jarque-Bera (JB):              164.456\n",
      "Skew:                           0.187   Prob(JB):                     1.94e-36\n",
      "Kurtosis:                       5.501   Cond. No.                     2.45e+07\n",
      "==============================================================================\n",
      "\n",
      "Warnings:\n",
      "[1] Standard Errors assume that the covariance matrix of the errors is correctly specified.\n",
      "[2] The condition number is large, 2.45e+07. This might indicate that there are\n",
      "strong multicollinearity or other numerical problems.\n"
     ]
    }
   ],
   "source": [
    "data = pd.DataFrame()\n",
    "data['target'] = df.saleprice\n",
    "data['totalsf_grl_rel'] = (df.totalbsmtsf + df.firstflrsf + df.secondflrsf) * df.grlivarea\n",
    "data['bedroomabvgr'] = df.bedroomabvgr\n",
    "data['garagearea'] = df.garagearea\n",
    "data['selling_age'] = df.yrsold.astype('int') - df.yearbuilt.astype('int')\n",
    "\n",
    "OLS_sum(data)"
   ]
  },
  {
   "cell_type": "markdown",
   "metadata": {},
   "source": [
    "Not too shabby. I wonder if the relation between sf and bedroomabvgr would alter anything."
   ]
  },
  {
   "cell_type": "code",
   "execution_count": 16,
   "metadata": {},
   "outputs": [
    {
     "name": "stdout",
     "output_type": "stream",
     "text": [
      "                            OLS Regression Results                            \n",
      "==============================================================================\n",
      "Dep. Variable:                 target   R-squared:                       0.805\n",
      "Model:                            OLS   Adj. R-squared:                  0.802\n",
      "Method:                 Least Squares   F-statistic:                     358.1\n",
      "Date:                Mon, 11 Nov 2019   Prob (F-statistic):          3.75e-211\n",
      "Time:                        11:17:18   Log-Likelihood:                -7034.2\n",
      "No. Observations:                 617   AIC:                         1.408e+04\n",
      "Df Residuals:                     609   BIC:                         1.412e+04\n",
      "Df Model:                           7                                         \n",
      "Covariance Type:            nonrobust                                         \n",
      "=======================================================================================\n",
      "                          coef    std err          t      P>|t|      [0.025      0.975]\n",
      "---------------------------------------------------------------------------------------\n",
      "const                7.786e+04   2.18e+04      3.579      0.000    3.51e+04    1.21e+05\n",
      "totalsf                20.7884      8.932      2.327      0.020       3.247      38.330\n",
      "grlivarea             -41.8384     13.825     -3.026      0.003     -68.988     -14.688\n",
      "totalsf_grl_rel         0.0347      0.005      6.371      0.000       0.024       0.045\n",
      "bedroomabvgr         2.294e+04   9090.642      2.524      0.012    5088.090    4.08e+04\n",
      "bedroomabvgr_sf_rel   -12.6047      3.780     -3.335      0.001     -20.027      -5.182\n",
      "garagearea             39.9519      7.189      5.557      0.000      25.834      54.070\n",
      "selling_age          -602.6432     37.502    -16.070      0.000    -676.292    -528.994\n",
      "==============================================================================\n",
      "Omnibus:                       37.597   Durbin-Watson:                   2.132\n",
      "Prob(Omnibus):                  0.000   Jarque-Bera (JB):              137.677\n",
      "Skew:                           0.035   Prob(JB):                     1.27e-30\n",
      "Kurtosis:                       5.313   Cond. No.                     9.48e+07\n",
      "==============================================================================\n",
      "\n",
      "Warnings:\n",
      "[1] Standard Errors assume that the covariance matrix of the errors is correctly specified.\n",
      "[2] The condition number is large, 9.48e+07. This might indicate that there are\n",
      "strong multicollinearity or other numerical problems.\n"
     ]
    }
   ],
   "source": [
    "data = pd.DataFrame()\n",
    "data['target'] = df.saleprice\n",
    "data['totalsf'] = df.totalbsmtsf + df.firstflrsf + df.secondflrsf\n",
    "data['grlivarea'] = df.grlivarea\n",
    "data['totalsf_grl_rel'] = (df.totalbsmtsf + df.firstflrsf + df.secondflrsf) * df.grlivarea\n",
    "data['bedroomabvgr'] = df.bedroomabvgr\n",
    "data['bedroomabvgr_sf_rel'] = df.bedroomabvgr * (df.totalbsmtsf + df.firstflrsf + df.secondflrsf)\n",
    "data['garagearea'] = df.garagearea\n",
    "data['selling_age'] = df.yrsold.astype('int') - df.yearbuilt.astype('int')\n",
    "\n",
    "OLS_sum(data)"
   ]
  },
  {
   "cell_type": "markdown",
   "metadata": {},
   "source": [
    "This model, though more complicated, appears to describe the outcome variable with greater consistency. I am curious if I add a dummy to the equation, how this may change."
   ]
  },
  {
   "cell_type": "code",
   "execution_count": 17,
   "metadata": {},
   "outputs": [],
   "source": [
    "data = pd.DataFrame()\n",
    "data['target'] = df.saleprice\n",
    "data['totalsf'] = df.totalbsmtsf + df.firstflrsf + df.secondflrsf\n",
    "data['grlivarea'] = df.grlivarea\n",
    "data['totalsf_grl_rel'] = (df.totalbsmtsf + df.firstflrsf + df.secondflrsf) * df.grlivarea\n",
    "data['bedroomabvgr'] = df.bedroomabvgr\n",
    "data['bedroomabvgr_sf_rel'] = df.bedroomabvgr * (df.totalbsmtsf + df.firstflrsf + df.secondflrsf)\n",
    "data['garagearea'] = df.garagearea\n",
    "data['selling_age'] = df.yrsold.astype('int') - df.yearbuilt.astype('int')\n",
    "data = data.join(pd.get_dummies(df.mszoning, prefix='mszoning', drop_first=True))"
   ]
  },
  {
   "cell_type": "code",
   "execution_count": 18,
   "metadata": {},
   "outputs": [
    {
     "name": "stdout",
     "output_type": "stream",
     "text": [
      "                            OLS Regression Results                            \n",
      "==============================================================================\n",
      "Dep. Variable:                 target   R-squared:                       0.811\n",
      "Model:                            OLS   Adj. R-squared:                  0.807\n",
      "Method:                 Least Squares   F-statistic:                     235.8\n",
      "Date:                Mon, 11 Nov 2019   Prob (F-statistic):          1.93e-210\n",
      "Time:                        11:17:18   Log-Likelihood:                -7024.1\n",
      "No. Observations:                 617   AIC:                         1.407e+04\n",
      "Df Residuals:                     605   BIC:                         1.413e+04\n",
      "Df Model:                          11                                         \n",
      "Covariance Type:            nonrobust                                         \n",
      "=======================================================================================\n",
      "                          coef    std err          t      P>|t|      [0.025      0.975]\n",
      "---------------------------------------------------------------------------------------\n",
      "const                5.316e+04   2.51e+04      2.119      0.035    3887.362    1.02e+05\n",
      "totalsf                20.2961      8.822      2.301      0.022       2.970      37.622\n",
      "grlivarea             -43.7090     13.867     -3.152      0.002     -70.943     -16.475\n",
      "totalsf_grl_rel         0.0352      0.005      6.522      0.000       0.025       0.046\n",
      "bedroomabvgr         2.252e+04   9007.927      2.500      0.013    4832.606    4.02e+04\n",
      "bedroomabvgr_sf_rel   -12.4732      3.734     -3.341      0.001     -19.806      -5.141\n",
      "garagearea             38.5965      7.160      5.390      0.000      24.535      52.658\n",
      "selling_age          -536.4533     41.222    -13.014      0.000    -617.409    -455.498\n",
      "mszoning_FV          3.873e+04   1.33e+04      2.919      0.004    1.27e+04    6.48e+04\n",
      "mszoning_RH          1.243e+04   1.53e+04      0.812      0.417   -1.76e+04    4.25e+04\n",
      "mszoning_RL          2.538e+04   1.27e+04      1.995      0.046     397.413    5.04e+04\n",
      "mszoning_RM           1.99e+04   1.27e+04      1.563      0.119   -5100.332    4.49e+04\n",
      "==============================================================================\n",
      "Omnibus:                       36.847   Durbin-Watson:                   2.077\n",
      "Prob(Omnibus):                  0.000   Jarque-Bera (JB):              133.155\n",
      "Skew:                           0.012   Prob(JB):                     1.22e-29\n",
      "Kurtosis:                       5.276   Cond. No.                     1.33e+08\n",
      "==============================================================================\n",
      "\n",
      "Warnings:\n",
      "[1] Standard Errors assume that the covariance matrix of the errors is correctly specified.\n",
      "[2] The condition number is large, 1.33e+08. This might indicate that there are\n",
      "strong multicollinearity or other numerical problems.\n"
     ]
    }
   ],
   "source": [
    "OLS_sum(data)"
   ]
  },
  {
   "cell_type": "markdown",
   "metadata": {},
   "source": [
    "Looks like a number of these dummies are insignificant, what if we do it without the significant ones?"
   ]
  },
  {
   "cell_type": "code",
   "execution_count": 19,
   "metadata": {},
   "outputs": [
    {
     "name": "stdout",
     "output_type": "stream",
     "text": [
      "                            OLS Regression Results                            \n",
      "==============================================================================\n",
      "Dep. Variable:                 target   R-squared:                       0.810\n",
      "Model:                            OLS   Adj. R-squared:                  0.807\n",
      "Method:                 Least Squares   F-statistic:                     287.4\n",
      "Date:                Mon, 11 Nov 2019   Prob (F-statistic):          2.99e-212\n",
      "Time:                        11:17:18   Log-Likelihood:                -7025.7\n",
      "No. Observations:                 617   AIC:                         1.407e+04\n",
      "Df Residuals:                     607   BIC:                         1.412e+04\n",
      "Df Model:                           9                                         \n",
      "Covariance Type:            nonrobust                                         \n",
      "=======================================================================================\n",
      "                          coef    std err          t      P>|t|      [0.025      0.975]\n",
      "---------------------------------------------------------------------------------------\n",
      "const                7.212e+04   2.16e+04      3.337      0.001    2.97e+04    1.15e+05\n",
      "totalsf                20.3675      8.829      2.307      0.021       3.028      37.707\n",
      "grlivarea             -44.7077     13.857     -3.226      0.001     -71.921     -17.495\n",
      "totalsf_grl_rel         0.0356      0.005      6.585      0.000       0.025       0.046\n",
      "bedroomabvgr         2.305e+04   9010.243      2.558      0.011    5354.278    4.07e+04\n",
      "bedroomabvgr_sf_rel   -12.6234      3.736     -3.379      0.001     -19.960      -5.287\n",
      "garagearea             37.6846      7.131      5.285      0.000      23.681      51.688\n",
      "selling_age          -540.1104     41.103    -13.140      0.000    -620.831    -459.389\n",
      "mszoning_FV          1.995e+04   4829.444      4.132      0.000    1.05e+04    2.94e+04\n",
      "mszoning_RL          6532.5878   2886.476      2.263      0.024     863.895    1.22e+04\n",
      "==============================================================================\n",
      "Omnibus:                       36.362   Durbin-Watson:                   2.078\n",
      "Prob(Omnibus):                  0.000   Jarque-Bera (JB):              129.918\n",
      "Skew:                           0.008   Prob(JB):                     6.15e-29\n",
      "Kurtosis:                       5.248   Cond. No.                     9.53e+07\n",
      "==============================================================================\n",
      "\n",
      "Warnings:\n",
      "[1] Standard Errors assume that the covariance matrix of the errors is correctly specified.\n",
      "[2] The condition number is large, 9.53e+07. This might indicate that there are\n",
      "strong multicollinearity or other numerical problems.\n"
     ]
    }
   ],
   "source": [
    "data = pd.DataFrame()\n",
    "data['target'] = df.saleprice\n",
    "data['totalsf'] = df.totalbsmtsf + df.firstflrsf + df.secondflrsf\n",
    "data['grlivarea'] = df.grlivarea\n",
    "data['totalsf_grl_rel'] = (df.totalbsmtsf + df.firstflrsf + df.secondflrsf) * df.grlivarea\n",
    "data['bedroomabvgr'] = df.bedroomabvgr\n",
    "data['bedroomabvgr_sf_rel'] = df.bedroomabvgr * (df.totalbsmtsf + df.firstflrsf + df.secondflrsf)\n",
    "data['garagearea'] = df.garagearea\n",
    "data['selling_age'] = df.yrsold.astype('int') - df.yearbuilt.astype('int')\n",
    "data = data.join(pd.get_dummies(df.mszoning, prefix='mszoning', drop_first=True))\n",
    "data.drop(columns=['mszoning_RH', 'mszoning_RM'], inplace=True)\n",
    "\n",
    "OLS_sum(data)"
   ]
  },
  {
   "cell_type": "markdown",
   "metadata": {},
   "source": [
    "It appears that this model is superior to all the prior models."
   ]
  }
 ],
 "metadata": {
  "kernelspec": {
   "display_name": "Python 3",
   "language": "python",
   "name": "python3"
  },
  "language_info": {
   "codemirror_mode": {
    "name": "ipython",
    "version": 3
   },
   "file_extension": ".py",
   "mimetype": "text/x-python",
   "name": "python",
   "nbconvert_exporter": "python",
   "pygments_lexer": "ipython3",
   "version": "3.7.0"
  }
 },
 "nbformat": 4,
 "nbformat_minor": 4
}
