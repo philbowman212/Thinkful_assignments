{
 "cells": [
  {
   "cell_type": "markdown",
   "metadata": {},
   "source": [
    "# Interpreting the House Prices"
   ]
  },
  {
   "cell_type": "markdown",
   "metadata": {},
   "source": [
    "This is part three of the three part interpretation assignment:\n",
    "1. [Interpretation and Significance](https://github.com/philbowman212/Thinkful_repo/blob/master/assignments/3_supervised_learning/regression_problems/interp_significance_assignment.md)\n",
    "2. [Interpreting the Weather](https://github.com/philbowman212/Thinkful_repo/blob/master/assignments/3_supervised_learning/regression_problems/interpreting_temp.ipynb)\n",
    "3. [Interpreting the House Prices](https://github.com/philbowman212/Thinkful_repo/blob/master/assignments/3_supervised_learning/regression_problems/interpreting_house_prices.ipynb)"
   ]
  },
  {
   "cell_type": "markdown",
   "metadata": {},
   "source": [
    "### House prices model\n",
    "\n",
    "In this exercise, you'll interpret your house prices model. To complete this assignment, submit a link to a Jupyter notebook containing your solutions to the following tasks:\n",
    "\n",
    "* Load the **houseprices** data from Thinkful's database.\n",
    "* Run your house prices model again and interpret the results. Which features are statistically significant, and which are not?\n",
    "* Now, exclude the insignificant features from your model. Did anything change?\n",
    "* Interpret the statistically significant coefficients by quantifying their relations with the house prices. Which features have a more prominent effect on house prices?\n",
    "* Do the results sound reasonable to you? If not, try to explain the potential reasons."
   ]
  },
  {
   "cell_type": "code",
   "execution_count": 1,
   "metadata": {},
   "outputs": [],
   "source": [
    "import numpy as np\n",
    "import pandas as pd\n",
    "import matplotlib.pyplot as plt\n",
    "import seaborn as sns\n",
    "from sqlalchemy import create_engine\n",
    "%matplotlib inline\n",
    "\n",
    "import warnings\n",
    "warnings.filterwarnings(\"ignore\")"
   ]
  },
  {
   "cell_type": "code",
   "execution_count": 2,
   "metadata": {},
   "outputs": [],
   "source": [
    "postgres_user = 'dsbc_student'\n",
    "postgres_pw = '7*.8G9QH21'\n",
    "postgres_host = '142.93.121.174'\n",
    "postgres_port = '5432'\n",
    "postgres_db = 'houseprices'\n",
    "\n",
    "engine = create_engine('postgresql://{}:{}@{}:{}/{}'.format(\n",
    "    postgres_user, postgres_pw, postgres_host, postgres_port, postgres_db))\n",
    "\n",
    "df = pd.read_sql_query('select * from houseprices',con=engine)\n",
    "\n",
    "engine.dispose()"
   ]
  },
  {
   "cell_type": "markdown",
   "metadata": {},
   "source": [
    "# Cleaning"
   ]
  },
  {
   "cell_type": "code",
   "execution_count": 3,
   "metadata": {},
   "outputs": [],
   "source": [
    "df.drop(columns='id', inplace=True)"
   ]
  },
  {
   "cell_type": "code",
   "execution_count": 4,
   "metadata": {},
   "outputs": [],
   "source": [
    "cat_list = ['mssubclass','mszoning','street','alley','lotshape','landcontour','utilities','lotconfig','landslope','neighborhood','condition1','condition2',\n",
    "            'bldgtype','housestyle','roofstyle','roofmatl','exterior1st','exterior2nd','masvnrtype','exterqual','extercond','foundation','bsmtqual','bsmtcond',\n",
    "            'bsmtexposure','bsmtfintype1','bsmtfintype2','heating','heatingqc','centralair','electrical','kitchenqual','functional','fireplacequ','garagetype',\n",
    "            'garagefinish','garagequal','garagecond','paveddrive','poolqc','fence','miscfeature','saletype','salecondition', 'overallqual', 'overallcond', \n",
    "            'yearbuilt', 'yearremodadd', 'mosold', 'yrsold']\n",
    "for var in cat_list:\n",
    "    df[var] = df[var].astype('category')"
   ]
  },
  {
   "cell_type": "code",
   "execution_count": 5,
   "metadata": {},
   "outputs": [],
   "source": [
    "def add_cat_fillna(variable, new_cat='None'):\n",
    "    df[variable] = df[variable].cat.add_categories(new_cat).fillna(new_cat).copy()"
   ]
  },
  {
   "cell_type": "code",
   "execution_count": 6,
   "metadata": {},
   "outputs": [],
   "source": [
    "nulls_list = ['alley','bsmtqual','bsmtcond','bsmtexposure','bsmtfintype1','bsmtfintype2','fireplacequ','garagetype','garagefinish','garagequal','garagecond',\n",
    "             'poolqc','fence','miscfeature']\n",
    "for var in nulls_list:\n",
    "    add_cat_fillna(var)"
   ]
  },
  {
   "cell_type": "code",
   "execution_count": 7,
   "metadata": {},
   "outputs": [],
   "source": [
    "df.masvnrtype = df.masvnrtype.fillna('None').copy()\n",
    "df.masvnrarea = df.masvnrarea.fillna(0).copy()\n",
    "df.lotfrontage = df.lotfrontage.fillna(df.lotfrontage.median()).copy()\n",
    "df.electrical = df.electrical.fillna(df.electrical.mode()[0]).copy()\n",
    "df.drop(columns='garageyrblt', inplace=True)"
   ]
  },
  {
   "cell_type": "code",
   "execution_count": 8,
   "metadata": {},
   "outputs": [],
   "source": [
    "def outliers_std(data, columns, thresh=2):\n",
    "    outlier_indexes = []\n",
    "    for col in columns:\n",
    "        ser_col = data[col]\n",
    "        mean = ser_col.mean()\n",
    "        sd = ser_col.std()\n",
    "        outliers_mask = data[(data[col] > mean + thresh*sd) | (data[col] < mean - thresh*sd)].index\n",
    "        outlier_indexes += [x for x in outliers_mask]\n",
    "    return list(set(outlier_indexes))"
   ]
  },
  {
   "cell_type": "code",
   "execution_count": 9,
   "metadata": {},
   "outputs": [],
   "source": [
    "df.drop(outliers_std(df, df.describe().columns), inplace=True)"
   ]
  },
  {
   "cell_type": "markdown",
   "metadata": {},
   "source": [
    "Cleaning done!"
   ]
  },
  {
   "cell_type": "markdown",
   "metadata": {},
   "source": [
    "# Feature Engineering"
   ]
  },
  {
   "cell_type": "code",
   "execution_count": 10,
   "metadata": {},
   "outputs": [],
   "source": [
    "data = pd.DataFrame()\n",
    "data['totalsf'] = df.totalbsmtsf + df.firstflrsf + df.secondflrsf\n",
    "data['grlivarea'] = df.grlivarea\n",
    "data['bedroomabvgr'] = df.bedroomabvgr\n",
    "data['totalbath'] = df.fullbath + df.halfbath * .5\n",
    "data['garagearea'] = df.garagearea\n",
    "data['selling_age'] = df.yrsold.astype('int') - df.yearbuilt.astype('int')\n",
    "data['target'] = df.saleprice"
   ]
  },
  {
   "cell_type": "markdown",
   "metadata": {},
   "source": [
    "# Modeling"
   ]
  },
  {
   "cell_type": "code",
   "execution_count": 11,
   "metadata": {},
   "outputs": [],
   "source": [
    "from sklearn.preprocessing import StandardScaler\n",
    "from sklearn.model_selection import train_test_split\n",
    "from sklearn.linear_model import LinearRegression\n",
    "\n",
    "scaler = StandardScaler()\n",
    "scaled_data = pd.DataFrame(scaler.fit_transform(data), columns=data.columns)\n",
    "\n",
    "target = scaled_data.iloc[:, -1]\n",
    "X_data = scaled_data.iloc[:, :-1]\n",
    "\n",
    "X_train, X_test, Y_train, Y_test = train_test_split(X_data, target, test_size=.3, random_state=14)\n",
    "\n",
    "lm = LinearRegression()\n",
    "lm.fit(X_train, Y_train)\n",
    "Y_pred = lm.predict(X_test)"
   ]
  },
  {
   "cell_type": "markdown",
   "metadata": {},
   "source": [
    "### Evaluation"
   ]
  },
  {
   "cell_type": "code",
   "execution_count": 12,
   "metadata": {},
   "outputs": [
    {
     "name": "stdout",
     "output_type": "stream",
     "text": [
      "Mean squared error: 0.14799213143302944\n",
      "Mean absolute error: 0.3027049260070816\n",
      "R^2: 0.8393921114674023\n"
     ]
    },
    {
     "data": {
      "image/png": "[encoded data removed]",
      "text/plain": [
       "<Figure size 432x288 with 1 Axes>"
      ]
     },
     "metadata": {
      "needs_background": "light"
     },
     "output_type": "display_data"
    }
   ],
   "source": [
    "from sklearn import metrics\n",
    "def evaluate(Y_test, Y_pred):\n",
    "    mse = metrics.mean_squared_error(Y_test, Y_pred)\n",
    "    msa = metrics.mean_absolute_error(Y_test, Y_pred)\n",
    "    r2 = metrics.r2_score(Y_test, Y_pred)\n",
    "    \n",
    "    print('Mean squared error:', mse)\n",
    "    print('Mean absolute error:', msa)\n",
    "    print('R^2:', r2)\n",
    "    \n",
    "    plt.scatter(Y_test, Y_pred)\n",
    "    plt.xlabel('Prices: $Y_i$')\n",
    "    plt.ylabel('Predicted prices: $\\hat{Y}_i$')\n",
    "    plt.title('Prices vs Predicted prices: $Y_i$ vs $\\hat{Y}_i$')\n",
    "evaluate(Y_test, Y_pred)"
   ]
  },
  {
   "cell_type": "code",
   "execution_count": 13,
   "metadata": {},
   "outputs": [
    {
     "name": "stdout",
     "output_type": "stream",
     "text": [
      "                            OLS Regression Results                            \n",
      "==============================================================================\n",
      "Dep. Variable:                 target   R-squared:                       0.772\n",
      "Model:                            OLS   Adj. R-squared:                  0.769\n",
      "Method:                 Least Squares   F-statistic:                     239.3\n",
      "Date:                Mon, 11 Nov 2019   Prob (F-statistic):          1.04e-132\n",
      "Time:                        08:22:54   Log-Likelihood:                -300.03\n",
      "No. Observations:                 431   AIC:                             614.1\n",
      "Df Residuals:                     424   BIC:                             642.5\n",
      "Df Model:                           6                                         \n",
      "Covariance Type:            nonrobust                                         \n",
      "================================================================================\n",
      "                   coef    std err          t      P>|t|      [0.025      0.975]\n",
      "--------------------------------------------------------------------------------\n",
      "const            0.0036      0.024      0.151      0.880      -0.043       0.050\n",
      "totalsf          0.4117      0.049      8.458      0.000       0.316       0.507\n",
      "grlivarea        0.2095      0.063      3.307      0.001       0.085       0.334\n",
      "bedroomabvgr    -0.0815      0.028     -2.910      0.004      -0.137      -0.026\n",
      "totalbath        0.0834      0.048      1.749      0.081      -0.010       0.177\n",
      "garagearea       0.1332      0.028      4.733      0.000       0.078       0.189\n",
      "selling_age     -0.3227      0.038     -8.516      0.000      -0.397      -0.248\n",
      "==============================================================================\n",
      "Omnibus:                       31.877   Durbin-Watson:                   1.989\n",
      "Prob(Omnibus):                  0.000   Jarque-Bera (JB):              111.348\n",
      "Skew:                           0.192   Prob(JB):                     6.62e-25\n",
      "Kurtosis:                       5.460   Cond. No.                         6.52\n",
      "==============================================================================\n",
      "\n",
      "Warnings:\n",
      "[1] Standard Errors assume that the covariance matrix of the errors is correctly specified.\n"
     ]
    }
   ],
   "source": [
    "import statsmodels.api as sm\n",
    "sm_X_train = sm.add_constant(X_train)\n",
    "results = sm.OLS(Y_train, sm_X_train).fit()\n",
    "print(results.summary())"
   ]
  },
  {
   "cell_type": "markdown",
   "metadata": {},
   "source": [
    "Alright, so based on the above model, it appears that the constant and the totalbath coefficients are not significant. Let's see what happens when totalbath is removed from the model."
   ]
  },
  {
   "cell_type": "code",
   "execution_count": 22,
   "metadata": {},
   "outputs": [],
   "source": [
    "def run_it():\n",
    "    target = data.iloc[:, -1]\n",
    "    X_data = data.iloc[:, :-1]\n",
    "\n",
    "    X_train, X_test, Y_train, Y_test = train_test_split(X_data, target, test_size=.3, random_state=14)\n",
    "\n",
    "    lm = LinearRegression()\n",
    "    lm.fit(X_train, Y_train)\n",
    "    Y_pred = lm.predict(X_test)\n",
    "    \n",
    "    evaluate(Y_test, Y_pred)\n",
    "    plt.show()\n",
    "    \n",
    "    sm_X_train = sm.add_constant(X_train)\n",
    "    results = sm.OLS(Y_train, sm_X_train).fit()\n",
    "    print(results.summary())"
   ]
  },
  {
   "cell_type": "code",
   "execution_count": 17,
   "metadata": {},
   "outputs": [],
   "source": [
    "data.drop(columns='totalbath', inplace=True)"
   ]
  },
  {
   "cell_type": "code",
   "execution_count": 23,
   "metadata": {},
   "outputs": [
    {
     "name": "stdout",
     "output_type": "stream",
     "text": [
      "Mean squared error: 345974548.0385919\n",
      "Mean absolute error: 14779.93190843997\n",
      "R^2: 0.8431350054220433\n"
     ]
    },
    {
     "data": {
      "image/png": "[encoded data removed]",
      "text/plain": [
       "<Figure size 432x288 with 1 Axes>"
      ]
     },
     "metadata": {
      "needs_background": "light"
     },
     "output_type": "display_data"
    },
    {
     "name": "stdout",
     "output_type": "stream",
     "text": [
      "                            OLS Regression Results                            \n",
      "==============================================================================\n",
      "Dep. Variable:                 target   R-squared:                       0.770\n",
      "Model:                            OLS   Adj. R-squared:                  0.768\n",
      "Method:                 Least Squares   F-statistic:                     285.1\n",
      "Date:                Mon, 11 Nov 2019   Prob (F-statistic):          2.67e-133\n",
      "Time:                        08:43:44   Log-Likelihood:                -4955.5\n",
      "No. Observations:                 431   AIC:                             9923.\n",
      "Df Residuals:                     425   BIC:                             9947.\n",
      "Df Model:                           5                                         \n",
      "Covariance Type:            nonrobust                                         \n",
      "================================================================================\n",
      "                   coef    std err          t      P>|t|      [0.025      0.975]\n",
      "--------------------------------------------------------------------------------\n",
      "const         4.265e+04   8775.633      4.859      0.000    2.54e+04    5.99e+04\n",
      "totalsf         37.7811      4.492      8.411      0.000      28.952      46.610\n",
      "grlivarea       39.3423      6.372      6.174      0.000      26.818      51.867\n",
      "bedroomabvgr -7236.7773   2411.513     -3.001      0.003    -1.2e+04   -2496.799\n",
      "garagearea      43.2734      9.346      4.630      0.000      24.903      61.643\n",
      "selling_age   -611.7720     47.731    -12.817      0.000    -705.591    -517.953\n",
      "==============================================================================\n",
      "Omnibus:                       30.256   Durbin-Watson:                   1.999\n",
      "Prob(Omnibus):                  0.000   Jarque-Bera (JB):              104.111\n",
      "Skew:                           0.164   Prob(JB):                     2.47e-23\n",
      "Kurtosis:                       5.385   Cond. No.                     2.16e+04\n",
      "==============================================================================\n",
      "\n",
      "Warnings:\n",
      "[1] Standard Errors assume that the covariance matrix of the errors is correctly specified.\n",
      "[2] The condition number is large, 2.16e+04. This might indicate that there are\n",
      "strong multicollinearity or other numerical problems.\n"
     ]
    }
   ],
   "source": [
    "run_it()"
   ]
  },
  {
   "cell_type": "markdown",
   "metadata": {},
   "source": [
    "Based on the above (on non-scaled data), all the information is significant, the most surprising factor appears to be that as bedroom above ground goes up, the house price actually goes down. This is odd, as you would likely expect the opposite. However, I believe a number of these variables are highly correlated with one another, which is likely messing with the modeling."
   ]
  }
 ],
 "metadata": {
  "kernelspec": {
   "display_name": "Python 3",
   "language": "python",
   "name": "python3"
  },
  "language_info": {
   "codemirror_mode": {
    "name": "ipython",
    "version": 3
   },
   "file_extension": ".py",
   "mimetype": "text/x-python",
   "name": "python",
   "nbconvert_exporter": "python",
   "pygments_lexer": "ipython3",
   "version": "3.7.0"
  }
 },
 "nbformat": 4,
 "nbformat_minor": 4
}
