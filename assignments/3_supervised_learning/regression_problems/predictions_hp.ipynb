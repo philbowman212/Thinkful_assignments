{
 "cells": [
  {
   "cell_type": "markdown",
   "metadata": {},
   "source": [
    "# House Price Predictions\n",
    "\n",
    "In this exercise, you'll predict house prices using your model. To complete this assignment, submit a link to a Jupyter notebook containing your solutions to the following tasks:\n",
    "\n",
    "* Load the **houseprices** data from Thinkful's database.\n",
    "* Split your data into train and test sets.\n",
    "* Estimate your model from the previous checkpoint in the train set. Assess the goodness of fit of your model.\n",
    "* Predict the house prices in the test set, and evaluate the performance of your model using the metrics we mentioned in this checkpoint.\n",
    "* Is the performance of your model satisfactory? Why?\n",
    "* Try to improve your model in terms of predictive performance by adding or removing some variables."
   ]
  },
  {
   "cell_type": "code",
   "execution_count": 1,
   "metadata": {},
   "outputs": [],
   "source": [
    "import numpy as np\n",
    "import pandas as pd\n",
    "import matplotlib.pyplot as plt\n",
    "import seaborn as sns\n",
    "from sqlalchemy import create_engine\n",
    "%matplotlib inline\n",
    "\n",
    "from sklearn.model_selection import train_test_split\n",
    "import statsmodels.api as sm\n",
    "from sklearn.metrics import mean_absolute_error\n",
    "from statsmodels.tools.eval_measures import mse, rmse\n",
    "\n",
    "import warnings\n",
    "warnings.filterwarnings(\"ignore\")"
   ]
  },
  {
   "cell_type": "code",
   "execution_count": 2,
   "metadata": {},
   "outputs": [],
   "source": [
    "postgres_user = 'dsbc_student'\n",
    "postgres_pw = '7*.8G9QH21'\n",
    "postgres_host = '142.93.121.174'\n",
    "postgres_port = '5432'\n",
    "postgres_db = 'houseprices'\n",
    "\n",
    "engine = create_engine('postgresql://{}:{}@{}:{}/{}'.format(\n",
    "    postgres_user, postgres_pw, postgres_host, postgres_port, postgres_db))\n",
    "\n",
    "df = pd.read_sql_query('select * from houseprices',con=engine)\n",
    "\n",
    "engine.dispose()"
   ]
  },
  {
   "cell_type": "markdown",
   "metadata": {},
   "source": [
    "Cleaning..."
   ]
  },
  {
   "cell_type": "code",
   "execution_count": 3,
   "metadata": {},
   "outputs": [],
   "source": [
    "df.drop(columns='id', inplace=True)"
   ]
  },
  {
   "cell_type": "code",
   "execution_count": 4,
   "metadata": {},
   "outputs": [],
   "source": [
    "cat_list = ['mssubclass','mszoning','street','alley','lotshape','landcontour','utilities','lotconfig','landslope','neighborhood','condition1','condition2',\n",
    "            'bldgtype','housestyle','roofstyle','roofmatl','exterior1st','exterior2nd','masvnrtype','exterqual','extercond','foundation','bsmtqual','bsmtcond',\n",
    "            'bsmtexposure','bsmtfintype1','bsmtfintype2','heating','heatingqc','centralair','electrical','kitchenqual','functional','fireplacequ','garagetype',\n",
    "            'garagefinish','garagequal','garagecond','paveddrive','poolqc','fence','miscfeature','saletype','salecondition', 'overallqual', 'overallcond', \n",
    "            'yearbuilt', 'yearremodadd', 'mosold', 'yrsold']\n",
    "for var in cat_list:\n",
    "    df[var] = df[var].astype('category')"
   ]
  },
  {
   "cell_type": "code",
   "execution_count": 5,
   "metadata": {},
   "outputs": [],
   "source": [
    "def add_cat_fillna(variable, new_cat='None'):\n",
    "    df[variable] = df[variable].cat.add_categories(new_cat).fillna(new_cat).copy()"
   ]
  },
  {
   "cell_type": "code",
   "execution_count": 6,
   "metadata": {},
   "outputs": [],
   "source": [
    "nulls_list = ['alley','bsmtqual','bsmtcond','bsmtexposure','bsmtfintype1','bsmtfintype2','fireplacequ','garagetype','garagefinish','garagequal','garagecond',\n",
    "             'poolqc','fence','miscfeature']\n",
    "for var in nulls_list:\n",
    "    add_cat_fillna(var)"
   ]
  },
  {
   "cell_type": "code",
   "execution_count": 7,
   "metadata": {},
   "outputs": [],
   "source": [
    "df.masvnrtype = df.masvnrtype.fillna('None').copy()\n",
    "df.masvnrarea = df.masvnrarea.fillna(0).copy()\n",
    "df.lotfrontage = df.lotfrontage.fillna(df.lotfrontage.median()).copy()\n",
    "df.electrical = df.electrical.fillna(df.electrical.mode()[0]).copy()\n",
    "df.drop(columns='garageyrblt', inplace=True)"
   ]
  },
  {
   "cell_type": "code",
   "execution_count": 8,
   "metadata": {},
   "outputs": [],
   "source": [
    "def outliers_std(data, columns, thresh=2):\n",
    "    outlier_indexes = []\n",
    "    for col in columns:\n",
    "        ser_col = data[col]\n",
    "        mean = ser_col.mean()\n",
    "        sd = ser_col.std()\n",
    "        outliers_mask = data[(data[col] > mean + thresh*sd) | (data[col] < mean - thresh*sd)].index\n",
    "        outlier_indexes += [x for x in outliers_mask]\n",
    "    return list(set(outlier_indexes))"
   ]
  },
  {
   "cell_type": "code",
   "execution_count": 9,
   "metadata": {},
   "outputs": [],
   "source": [
    "df.drop(outliers_std(df, df.describe().columns), inplace=True)"
   ]
  },
  {
   "cell_type": "markdown",
   "metadata": {},
   "source": [
    "Feature selection..."
   ]
  },
  {
   "cell_type": "code",
   "execution_count": 10,
   "metadata": {},
   "outputs": [],
   "source": [
    "data = pd.DataFrame()\n",
    "data['target'] = df.saleprice\n",
    "data['totalsf'] = df.totalbsmtsf + df.firstflrsf + df.secondflrsf\n",
    "data['grlivarea'] = df.grlivarea\n",
    "data['totalsf_grl_rel'] = (df.totalbsmtsf + df.firstflrsf + df.secondflrsf) * df.grlivarea\n",
    "data['bedroomabvgr'] = df.bedroomabvgr\n",
    "data['bedroomabvgr_sf_rel'] = df.bedroomabvgr * (df.totalbsmtsf + df.firstflrsf + df.secondflrsf)\n",
    "data['garagearea'] = df.garagearea\n",
    "data['selling_age'] = df.yrsold.astype('int') - df.yearbuilt.astype('int')\n",
    "data = data.join(pd.get_dummies(df.mszoning, prefix='mszoning', drop_first=True))\n",
    "data.drop(columns=['mszoning_RH', 'mszoning_RM'], inplace=True)"
   ]
  },
  {
   "cell_type": "code",
   "execution_count": 11,
   "metadata": {},
   "outputs": [],
   "source": [
    "target = data['target'].copy()\n",
    "X_data = data.iloc[:, 1:].copy()"
   ]
  },
  {
   "cell_type": "code",
   "execution_count": 12,
   "metadata": {},
   "outputs": [
    {
     "name": "stdout",
     "output_type": "stream",
     "text": [
      "                            OLS Regression Results                            \n",
      "==============================================================================\n",
      "Dep. Variable:                 target   R-squared:                       0.808\n",
      "Model:                            OLS   Adj. R-squared:                  0.804\n",
      "Method:                 Least Squares   F-statistic:                     197.2\n",
      "Date:                Mon, 11 Nov 2019   Prob (F-statistic):          5.67e-145\n",
      "Time:                        14:44:12   Log-Likelihood:                -4917.6\n",
      "No. Observations:                 431   AIC:                             9855.\n",
      "Df Residuals:                     421   BIC:                             9896.\n",
      "Df Model:                           9                                         \n",
      "Covariance Type:            nonrobust                                         \n",
      "=======================================================================================\n",
      "                          coef    std err          t      P>|t|      [0.025      0.975]\n",
      "---------------------------------------------------------------------------------------\n",
      "const                5.852e+04    2.7e+04      2.164      0.031    5359.988    1.12e+05\n",
      "totalsf                25.3164     10.990      2.304      0.022       3.714      46.918\n",
      "grlivarea             -47.6792     17.092     -2.790      0.006     -81.275     -14.083\n",
      "totalsf_grl_rel         0.0381      0.007      5.640      0.000       0.025       0.051\n",
      "bedroomabvgr         2.961e+04   1.17e+04      2.533      0.012    6629.567    5.26e+04\n",
      "bedroomabvgr_sf_rel   -15.7549      4.861     -3.241      0.001     -25.309      -6.201\n",
      "garagearea             34.7845      8.816      3.946      0.000      17.456      52.113\n",
      "selling_age          -508.3368     52.591     -9.666      0.000    -611.711    -404.963\n",
      "mszoning_FV          1.727e+04   6009.530      2.874      0.004    5460.965    2.91e+04\n",
      "mszoning_RL          7909.3629   3586.711      2.205      0.028     859.270     1.5e+04\n",
      "==============================================================================\n",
      "Omnibus:                       27.516   Durbin-Watson:                   2.117\n",
      "Prob(Omnibus):                  0.000   Jarque-Bera (JB):               96.328\n",
      "Skew:                           0.038   Prob(JB):                     1.21e-21\n",
      "Kurtosis:                       5.315   Cond. No.                     9.72e+07\n",
      "==============================================================================\n",
      "\n",
      "Warnings:\n",
      "[1] Standard Errors assume that the covariance matrix of the errors is correctly specified.\n",
      "[2] The condition number is large, 9.72e+07. This might indicate that there are\n",
      "strong multicollinearity or other numerical problems.\n"
     ]
    },
    {
     "data": {
      "image/png": "[encoded data removed]",
      "text/plain": [
       "<Figure size 432x288 with 1 Axes>"
      ]
     },
     "metadata": {
      "needs_background": "light"
     },
     "output_type": "display_data"
    },
    {
     "name": "stdout",
     "output_type": "stream",
     "text": [
      "MAE: 14779.526784456493\n",
      "MSE: 415993983.7957931\n",
      "RMSE: 20395.930569498247\n",
      "MAPE: 9.861378755602345\n"
     ]
    }
   ],
   "source": [
    "def do_it_all(X_data, target):\n",
    "    X_train, X_test, y_train, y_test = train_test_split(X_data, target, test_size=.3, random_state=12)\n",
    "    \n",
    "    X_train = sm.add_constant(X_train)\n",
    "    results = sm.OLS(y_train, X_train).fit()\n",
    "    print(results.summary())\n",
    "    \n",
    "    X_test = sm.add_constant(X_test)\n",
    "    y_preds = results.predict(X_test)\n",
    "    \n",
    "    \n",
    "    plt.scatter(y_test, y_preds)\n",
    "    plt.plot(y_test, y_test, color='red')\n",
    "    plt.xlabel('Actual House Prices')\n",
    "    plt.ylabel('Predicted House Prices')\n",
    "    plt.title('Predicted vs. Actual House Prices')\n",
    "    plt.show()\n",
    "\n",
    "    print(f'MAE: {mean_absolute_error(y_test, y_preds)}')\n",
    "    print(f'MSE: {mse(y_test, y_preds)}')\n",
    "    print(f'RMSE: {rmse(y_test, y_preds)}')\n",
    "    print(f'MAPE: {np.mean(np.abs((y_test - y_preds)/y_test))*100}')\n",
    "    \n",
    "do_it_all(X_data, target)"
   ]
  },
  {
   "cell_type": "markdown",
   "metadata": {},
   "source": [
    "The model looks pretty good, looks like it underestimates the price of some of the higher priced homes. There's still a decent amount of things that could probably be improved. Let's see if we can get some improvement."
   ]
  },
  {
   "cell_type": "code",
   "execution_count": 13,
   "metadata": {},
   "outputs": [],
   "source": [
    "data = pd.DataFrame()\n",
    "data['target'] = df.saleprice\n",
    "data['totalsf'] = df.totalbsmtsf + df.firstflrsf + df.secondflrsf\n",
    "data['totalsf_grl_rel'] = (df.totalbsmtsf + df.firstflrsf + df.secondflrsf) * df.grlivarea\n",
    "data['bedroomabvgr'] = df.bedroomabvgr\n",
    "data['bedroomabvgr_sf_rel'] = df.bedroomabvgr * (df.totalbsmtsf + df.firstflrsf + df.secondflrsf)\n",
    "data['garagearea'] = df.garagearea\n",
    "data['selling_age'] = df.yrsold.astype('int') - df.yearbuilt.astype('int')\n",
    "data = data.join(pd.get_dummies(df.mszoning, prefix='mszoning', drop_first=True))\n",
    "data.drop(columns=['mszoning_RH', 'mszoning_RM'], inplace=True)\n",
    "data['overallqual'] = df.overallqual.astype(int)\n",
    "data['overallcond'] = df.overallcond.astype(int)\n",
    "data['sf_qual_rel'] = (df.totalbsmtsf + df.firstflrsf + df.secondflrsf) * df.overallqual.astype(int)"
   ]
  },
  {
   "cell_type": "code",
   "execution_count": 14,
   "metadata": {},
   "outputs": [
    {
     "name": "stdout",
     "output_type": "stream",
     "text": [
      "                            OLS Regression Results                            \n",
      "==============================================================================\n",
      "Dep. Variable:                 target   R-squared:                       0.867\n",
      "Model:                            OLS   Adj. R-squared:                  0.864\n",
      "Method:                 Least Squares   F-statistic:                     248.5\n",
      "Date:                Mon, 11 Nov 2019   Prob (F-statistic):          7.46e-176\n",
      "Time:                        14:44:13   Log-Likelihood:                -4838.7\n",
      "No. Observations:                 431   AIC:                             9701.\n",
      "Df Residuals:                     419   BIC:                             9750.\n",
      "Df Model:                          11                                         \n",
      "Covariance Type:            nonrobust                                         \n",
      "=======================================================================================\n",
      "                          coef    std err          t      P>|t|      [0.025      0.975]\n",
      "---------------------------------------------------------------------------------------\n",
      "const                9.958e+04   3.02e+04      3.303      0.001    4.03e+04    1.59e+05\n",
      "totalsf               -34.5045     12.513     -2.757      0.006     -59.101      -9.908\n",
      "totalsf_grl_rel         0.0151      0.002      7.022      0.000       0.011       0.019\n",
      "bedroomabvgr         2.028e+04   8424.279      2.407      0.017    3719.543    3.68e+04\n",
      "bedroomabvgr_sf_rel   -10.0417      3.579     -2.806      0.005     -17.077      -3.007\n",
      "garagearea             19.0815      7.478      2.552      0.011       4.383      33.780\n",
      "selling_age          -476.4332     49.437     -9.637      0.000    -573.609    -379.258\n",
      "mszoning_FV          1.641e+04   5054.235      3.248      0.001    6479.789    2.63e+04\n",
      "mszoning_RL          7729.9595   2988.505      2.587      0.010    1855.628    1.36e+04\n",
      "overallqual         -1.609e+04   3984.524     -4.037      0.000   -2.39e+04   -8253.428\n",
      "overallcond          7152.6529   1006.497      7.106      0.000    5174.241    9131.065\n",
      "sf_qual_rel            11.2549      1.616      6.963      0.000       8.078      14.432\n",
      "==============================================================================\n",
      "Omnibus:                       47.653   Durbin-Watson:                   2.059\n",
      "Prob(Omnibus):                  0.000   Jarque-Bera (JB):              160.679\n",
      "Skew:                          -0.451   Prob(JB):                     1.29e-35\n",
      "Kurtosis:                       5.852   Cond. No.                     1.26e+08\n",
      "==============================================================================\n",
      "\n",
      "Warnings:\n",
      "[1] Standard Errors assume that the covariance matrix of the errors is correctly specified.\n",
      "[2] The condition number is large, 1.26e+08. This might indicate that there are\n",
      "strong multicollinearity or other numerical problems.\n"
     ]
    },
    {
     "data": {
      "image/png": "[encoded data removed]",
      "text/plain": [
       "<Figure size 432x288 with 1 Axes>"
      ]
     },
     "metadata": {
      "needs_background": "light"
     },
     "output_type": "display_data"
    },
    {
     "name": "stdout",
     "output_type": "stream",
     "text": [
      "MAE: 12474.355374357438\n",
      "MSE: 297005411.5949899\n",
      "RMSE: 17233.844945194032\n",
      "MAPE: 8.153114286751679\n"
     ]
    }
   ],
   "source": [
    "target2 = data['target']\n",
    "X_data2 = data.iloc[:, 1:]\n",
    "do_it_all(X_data2, target2)"
   ]
  },
  {
   "cell_type": "markdown",
   "metadata": {},
   "source": [
    "After some tinkering, this looks pretty good actually! Looks like it's missing something to better predict higher priced houses though. What about mssubclass?"
   ]
  },
  {
   "cell_type": "code",
   "execution_count": 15,
   "metadata": {},
   "outputs": [],
   "source": [
    "data = pd.DataFrame()\n",
    "data['target'] = df.saleprice\n",
    "data['totalsf'] = df.totalbsmtsf + df.firstflrsf + df.secondflrsf\n",
    "data['totalsf_grl_rel'] = (df.totalbsmtsf + df.firstflrsf + df.secondflrsf) * df.grlivarea\n",
    "data['bedroomabvgr'] = df.bedroomabvgr\n",
    "data['bedroomabvgr_sf_rel'] = df.bedroomabvgr * (df.totalbsmtsf + df.firstflrsf + df.secondflrsf)\n",
    "data['garagearea'] = df.garagearea\n",
    "data['selling_age'] = df.yrsold.astype('int') - df.yearbuilt.astype('int')\n",
    "data = data.join(pd.get_dummies(df.mszoning, prefix='mszoning', drop_first=True))\n",
    "data = data.join(pd.get_dummies(df.mssubclass, prefix='mssubclass', drop_first=True))\n",
    "data.drop(columns=['mszoning_RH', 'mszoning_RM'], inplace=True)\n",
    "data.drop(columns=['mssubclass_40', 'mssubclass_50', 'mssubclass_60', 'mssubclass_75', 'mssubclass_80', 'mssubclass_85', 'mssubclass_90',\n",
    "                   'mssubclass_120', 'mssubclass_180', 'mssubclass_190', 'mssubclass_30', 'mssubclass_45'], inplace=True)\n",
    "data['overallqual'] = df.overallqual.astype(int)\n",
    "data['overallcond'] = df.overallcond.astype(int)\n",
    "data['sf_qual_rel'] = (df.totalbsmtsf + df.firstflrsf + df.secondflrsf) * df.overallqual.astype(int)"
   ]
  },
  {
   "cell_type": "code",
   "execution_count": 16,
   "metadata": {},
   "outputs": [
    {
     "name": "stdout",
     "output_type": "stream",
     "text": [
      "                            OLS Regression Results                            \n",
      "==============================================================================\n",
      "Dep. Variable:                 target   R-squared:                       0.874\n",
      "Model:                            OLS   Adj. R-squared:                  0.870\n",
      "Method:                 Least Squares   F-statistic:                     222.7\n",
      "Date:                Mon, 11 Nov 2019   Prob (F-statistic):          2.38e-178\n",
      "Time:                        14:44:14   Log-Likelihood:                -4827.0\n",
      "No. Observations:                 431   AIC:                             9682.\n",
      "Df Residuals:                     417   BIC:                             9739.\n",
      "Df Model:                          13                                         \n",
      "Covariance Type:            nonrobust                                         \n",
      "=======================================================================================\n",
      "                          coef    std err          t      P>|t|      [0.025      0.975]\n",
      "---------------------------------------------------------------------------------------\n",
      "const                1.158e+05   3.01e+04      3.843      0.000    5.65e+04    1.75e+05\n",
      "totalsf               -38.8719     12.290     -3.163      0.002     -63.029     -14.715\n",
      "totalsf_grl_rel         0.0160      0.002      7.408      0.000       0.012       0.020\n",
      "bedroomabvgr         1.766e+04   8346.901      2.116      0.035    1250.733    3.41e+04\n",
      "bedroomabvgr_sf_rel    -9.2693      3.534     -2.623      0.009     -16.217      -2.322\n",
      "garagearea             18.9244      7.330      2.582      0.010       4.516      33.333\n",
      "selling_age          -532.6281     51.144    -10.414      0.000    -633.160    -432.096\n",
      "mszoning_FV          2.212e+04   5109.188      4.329      0.000    1.21e+04    3.22e+04\n",
      "mszoning_RL          7354.4336   2925.371      2.514      0.012    1604.122    1.31e+04\n",
      "mssubclass_70        1.053e+04   5197.686      2.026      0.043     315.475    2.07e+04\n",
      "mssubclass_160      -2.397e+04   5555.961     -4.313      0.000   -3.49e+04    -1.3e+04\n",
      "overallqual         -1.577e+04   3931.884     -4.011      0.000   -2.35e+04   -8042.519\n",
      "overallcond          6805.0519    985.125      6.908      0.000    4868.622    8741.482\n",
      "sf_qual_rel            10.9469      1.586      6.902      0.000       7.829      14.065\n",
      "==============================================================================\n",
      "Omnibus:                       49.111   Durbin-Watson:                   2.041\n",
      "Prob(Omnibus):                  0.000   Jarque-Bera (JB):              186.362\n",
      "Skew:                          -0.425   Prob(JB):                     3.40e-41\n",
      "Kurtosis:                       6.107   Cond. No.                     1.29e+08\n",
      "==============================================================================\n",
      "\n",
      "Warnings:\n",
      "[1] Standard Errors assume that the covariance matrix of the errors is correctly specified.\n",
      "[2] The condition number is large, 1.29e+08. This might indicate that there are\n",
      "strong multicollinearity or other numerical problems.\n"
     ]
    },
    {
     "data": {
      "image/png": "[encoded data removed]",
      "text/plain": [
       "<Figure size 432x288 with 1 Axes>"
      ]
     },
     "metadata": {
      "needs_background": "light"
     },
     "output_type": "display_data"
    },
    {
     "name": "stdout",
     "output_type": "stream",
     "text": [
      "MAE: 12176.827366736465\n",
      "MSE: 273365577.78924114\n",
      "RMSE: 16533.770827891654\n",
      "MAPE: 7.917380402260717\n"
     ]
    }
   ],
   "source": [
    "target3 = data['target']\n",
    "X_data3 = data.iloc[:, 1:]\n",
    "do_it_all(X_data3, target3)"
   ]
  },
  {
   "cell_type": "markdown",
   "metadata": {},
   "source": [
    "The house that interests me the most is the one that was predicted to be nearly 250000, but in actuality was around 160000. Maybe it's just an outlier, this looks like a pretty good predictive model though."
   ]
  },
  {
   "cell_type": "code",
   "execution_count": 17,
   "metadata": {},
   "outputs": [],
   "source": [
    "data = pd.DataFrame()\n",
    "data['target'] = df.saleprice\n",
    "data['totalsf'] = df.totalbsmtsf + df.firstflrsf + df.secondflrsf\n",
    "data['totalsf_grl_rel'] = (df.totalbsmtsf + df.firstflrsf + df.secondflrsf) * df.grlivarea\n",
    "data['bedroomabvgr'] = df.bedroomabvgr\n",
    "data['bedroomabvgr_sf_rel'] = df.bedroomabvgr * (df.totalbsmtsf + df.firstflrsf + df.secondflrsf)\n",
    "data['garagearea'] = df.garagearea\n",
    "data['selling_age'] = df.yrsold.astype('int') - df.yearbuilt.astype('int')\n",
    "data = data.join(pd.get_dummies(df.mszoning, prefix='mszoning', drop_first=True))\n",
    "data = data.join(pd.get_dummies(df.mssubclass, prefix='mssubclass', drop_first=True))\n",
    "data.drop(columns=['mszoning_RH', 'mszoning_RM'], inplace=True)\n",
    "data.drop(columns=['mssubclass_40', 'mssubclass_50', 'mssubclass_60', 'mssubclass_75', 'mssubclass_80', 'mssubclass_85', 'mssubclass_90',\n",
    "                   'mssubclass_120', 'mssubclass_180', 'mssubclass_190', 'mssubclass_30', 'mssubclass_45'], inplace=True)\n",
    "data['overallqual'] = df.overallqual.astype(int)\n",
    "data['overallcond'] = df.overallcond.astype(int)\n",
    "data['sf_qual_rel'] = (df.totalbsmtsf + df.firstflrsf + df.secondflrsf) * df.overallqual.astype(int)"
   ]
  },
  {
   "cell_type": "code",
   "execution_count": 18,
   "metadata": {},
   "outputs": [
    {
     "name": "stdout",
     "output_type": "stream",
     "text": [
      "                            OLS Regression Results                            \n",
      "==============================================================================\n",
      "Dep. Variable:                 target   R-squared:                       0.856\n",
      "Model:                            OLS   Adj. R-squared:                  0.851\n",
      "Method:                 Least Squares   F-statistic:                     190.2\n",
      "Date:                Mon, 11 Nov 2019   Prob (F-statistic):          4.64e-166\n",
      "Time:                        14:44:15   Log-Likelihood:                 317.57\n",
      "No. Observations:                 431   AIC:                            -607.1\n",
      "Df Residuals:                     417   BIC:                            -550.2\n",
      "Df Model:                          13                                         \n",
      "Covariance Type:            nonrobust                                         \n",
      "=======================================================================================\n",
      "                          coef    std err          t      P>|t|      [0.025      0.975]\n",
      "---------------------------------------------------------------------------------------\n",
      "const                  10.7389      0.197     54.451      0.000      10.351      11.127\n",
      "totalsf                 0.0002   8.05e-05      1.922      0.055   -3.47e-06       0.000\n",
      "totalsf_grl_rel       8.48e-08   1.41e-08      6.005      0.000     5.7e-08    1.13e-07\n",
      "bedroomabvgr            0.1222      0.055      2.236      0.026       0.015       0.230\n",
      "bedroomabvgr_sf_rel -5.903e-05   2.31e-05     -2.551      0.011      -0.000   -1.35e-05\n",
      "garagearea           9.485e-05    4.8e-05      1.976      0.049    5.13e-07       0.000\n",
      "selling_age            -0.0040      0.000    -11.821      0.000      -0.005      -0.003\n",
      "mszoning_FV             0.1522      0.033      4.549      0.000       0.086       0.218\n",
      "mszoning_RL             0.0769      0.019      4.012      0.000       0.039       0.114\n",
      "mssubclass_70           0.0812      0.034      2.387      0.017       0.014       0.148\n",
      "mssubclass_160         -0.1373      0.036     -3.774      0.000      -0.209      -0.066\n",
      "overallqual             0.0338      0.026      1.315      0.189      -0.017       0.084\n",
      "overallcond             0.0587      0.006      9.099      0.000       0.046       0.071\n",
      "sf_qual_rel          8.544e-06   1.04e-05      0.823      0.411   -1.19e-05     2.9e-05\n",
      "==============================================================================\n",
      "Omnibus:                      173.776   Durbin-Watson:                   2.107\n",
      "Prob(Omnibus):                  0.000   Jarque-Bera (JB):             1476.397\n",
      "Skew:                          -1.494   Prob(JB):                         0.00\n",
      "Kurtosis:                      11.561   Cond. No.                     1.29e+08\n",
      "==============================================================================\n",
      "\n",
      "Warnings:\n",
      "[1] Standard Errors assume that the covariance matrix of the errors is correctly specified.\n",
      "[2] The condition number is large, 1.29e+08. This might indicate that there are\n",
      "strong multicollinearity or other numerical problems.\n"
     ]
    },
    {
     "data": {
      "image/png": "[encoded data removed]",
      "text/plain": [
       "<Figure size 432x288 with 1 Axes>"
      ]
     },
     "metadata": {
      "needs_background": "light"
     },
     "output_type": "display_data"
    },
    {
     "name": "stdout",
     "output_type": "stream",
     "text": [
      "MAE: 0.07602480221162733\n",
      "MSE: 0.010368261865917773\n",
      "RMSE: 0.10182466236584226\n",
      "MAPE: 0.6391907932772403\n"
     ]
    }
   ],
   "source": [
    "target4 = np.log1p(data['target'])\n",
    "X_data4 = data.iloc[:, 1:]\n",
    "do_it_all(X_data4, target4)"
   ]
  },
  {
   "cell_type": "markdown",
   "metadata": {},
   "source": [
    "If we take the natural log of the target, then it has better predictive power for more expensive/mid range houses, but is not as good at detecting the low price houses."
   ]
  }
 ],
 "metadata": {
  "kernelspec": {
   "display_name": "Python 3",
   "language": "python",
   "name": "python3"
  },
  "language_info": {
   "codemirror_mode": {
    "name": "ipython",
    "version": 3
   },
   "file_extension": ".py",
   "mimetype": "text/x-python",
   "name": "python",
   "nbconvert_exporter": "python",
   "pygments_lexer": "ipython3",
   "version": "3.7.0"
  }
 },
 "nbformat": 4,
 "nbformat_minor": 4
}
