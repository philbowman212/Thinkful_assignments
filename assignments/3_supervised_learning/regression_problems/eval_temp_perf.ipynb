{
 "cells": [
  {
   "cell_type": "markdown",
   "metadata": {},
   "source": [
    "# Evaluate Weather Models Performances"
   ]
  },
  {
   "cell_type": "markdown",
   "metadata": {},
   "source": [
    "This is part one of two for the evaluating performance assignment.\n",
    "1. [Evaluate Weather Models Performances](https://github.com/philbowman212/Thinkful_repo/blob/master/assignments/3_supervised_learning/regression_problems/eval_temp_perf.ipynb)\n",
    "2. [Evaluate House Price Models Performances](https://github.com/philbowman212/Thinkful_repo/blob/master/assignments/3_supervised_learning/regression_problems/eval_hp_perf.ipynb)"
   ]
  },
  {
   "cell_type": "markdown",
   "metadata": {},
   "source": [
    "### Weather model\n",
    "\n",
    "For this assignment, you'll revisit the historical temperature dataset. To complete this assignment, submit a link a Jupyter notebook containing your solutions to the following tasks:\n",
    "\n",
    "* First, load the dataset from the **weatherinszeged** table from Thinkful's database.\n",
    "* Like in the previous checkpoint, build a linear regression model where your target variable is the difference between the *apparenttemperature* and the *temperature*. As explanatory variables, use *humidity* and *windspeed*. Now, estimate your model using OLS. What are the R-squared and adjusted R-squared values? Do you think they are satisfactory? Why? \n",
    "* Next, include the interaction of *humidity* and *windspeed* to the model above and estimate the model using OLS. Now, what is the R-squared of this model? Does this model improve upon the previous one? \n",
    "* Add *visibility* as an additional explanatory variable to the first model and estimate it. Did R-squared increase? What about adjusted R-squared? Compare the differences put on the table by the interaction term and the *visibility* in terms of the improvement in the adjusted R-squared. Which one is more useful?\n",
    "* Choose the best one from the three models above with respect to their AIC and BIC scores. Validate your choice by discussing your justification with your mentor."
   ]
  },
  {
   "cell_type": "code",
   "execution_count": 1,
   "metadata": {},
   "outputs": [],
   "source": [
    "import numpy as np\n",
    "import pandas as pd\n",
    "import matplotlib.pyplot as plt\n",
    "from sqlalchemy import create_engine\n",
    "import seaborn as sns\n",
    "%matplotlib inline\n",
    "\n",
    "import warnings\n",
    "warnings.filterwarnings(\"ignore\")"
   ]
  },
  {
   "cell_type": "code",
   "execution_count": 2,
   "metadata": {},
   "outputs": [],
   "source": [
    "postgres_user = 'dsbc_student'\n",
    "postgres_pw = '7*.8G9QH21'\n",
    "postgres_host = '142.93.121.174'\n",
    "postgres_port = '5432'\n",
    "postgres_db = 'weatherinszeged'\n",
    "\n",
    "engine = create_engine('postgresql://{}:{}@{}:{}/{}'.format(\n",
    "    postgres_user, postgres_pw, postgres_host, postgres_port, postgres_db))\n",
    "\n",
    "df = pd.read_sql_query('select * from weatherinszeged',con=engine)\n",
    "\n",
    "engine.dispose()"
   ]
  },
  {
   "cell_type": "code",
   "execution_count": 3,
   "metadata": {},
   "outputs": [],
   "source": [
    "data = pd.DataFrame()\n",
    "data['target'] = df.apparenttemperature.copy() - df.temperature.copy()\n",
    "data['humidity'] = df.humidity.copy()\n",
    "data['windspeed'] = df.windspeed.copy()"
   ]
  },
  {
   "cell_type": "markdown",
   "metadata": {},
   "source": [
    "Detection and removal of outliers..."
   ]
  },
  {
   "cell_type": "code",
   "execution_count": 4,
   "metadata": {},
   "outputs": [],
   "source": [
    "def outliers_std(data, columns, thresh=2):\n",
    "    outlier_indexes = []\n",
    "    for col in columns:\n",
    "        ser_col = data[col]\n",
    "        mean = ser_col.mean()\n",
    "        sd = ser_col.std()\n",
    "        outliers_mask = data[(data[col] > mean + thresh*sd) | (data[col] < mean - thresh*sd)].index\n",
    "        outlier_indexes += [x for x in outliers_mask]\n",
    "    return list(set(outlier_indexes))"
   ]
  },
  {
   "cell_type": "code",
   "execution_count": 5,
   "metadata": {},
   "outputs": [],
   "source": [
    "def outliers_iqr(data, columns, thresh=1.5):\n",
    "    outlier_indexes = []\n",
    "    for col in columns:\n",
    "        q25, q75 = np.percentile(data[col], [25, 75])\n",
    "        iqr = q75 - q25\n",
    "        upper_lim = q75 + (iqr*thresh)\n",
    "        lower_lim = q25 - (iqr*thresh)\n",
    "        outliers_mask = data[(data[col] >= upper_lim) | (data[col] <= lower_lim)].index\n",
    "        outlier_indexes += [x for x in outliers_mask]\n",
    "    return list(set(outlier_indexes))"
   ]
  },
  {
   "cell_type": "code",
   "execution_count": 6,
   "metadata": {},
   "outputs": [
    {
     "data": {
      "text/plain": [
       "(12375, 4185)"
      ]
     },
     "execution_count": 6,
     "metadata": {},
     "output_type": "execute_result"
    }
   ],
   "source": [
    "len(outliers_std(data, data.columns)), len(outliers_iqr(data, data.columns))"
   ]
  },
  {
   "cell_type": "markdown",
   "metadata": {},
   "source": [
    "Go with IQR detection method...less loss of information."
   ]
  },
  {
   "cell_type": "code",
   "execution_count": 7,
   "metadata": {},
   "outputs": [],
   "source": [
    "data.drop(outliers_iqr(data, data.columns), inplace=True)"
   ]
  },
  {
   "cell_type": "markdown",
   "metadata": {},
   "source": [
    "Create model..."
   ]
  },
  {
   "cell_type": "code",
   "execution_count": 8,
   "metadata": {},
   "outputs": [],
   "source": [
    "import statsmodels.api as sm"
   ]
  },
  {
   "cell_type": "code",
   "execution_count": 9,
   "metadata": {},
   "outputs": [
    {
     "name": "stdout",
     "output_type": "stream",
     "text": [
      "                            OLS Regression Results                            \n",
      "==============================================================================\n",
      "Dep. Variable:                 target   R-squared:                       0.253\n",
      "Model:                            OLS   Adj. R-squared:                  0.253\n",
      "Method:                 Least Squares   F-statistic:                 1.566e+04\n",
      "Date:                Mon, 11 Nov 2019   Prob (F-statistic):               0.00\n",
      "Time:                        11:17:28   Log-Likelihood:            -1.5491e+05\n",
      "No. Observations:               92268   AIC:                         3.098e+05\n",
      "Df Residuals:                   92265   BIC:                         3.099e+05\n",
      "Df Model:                           2                                         \n",
      "Covariance Type:            nonrobust                                         \n",
      "==============================================================================\n",
      "                 coef    std err          t      P>|t|      [0.025      0.975]\n",
      "------------------------------------------------------------------------------\n",
      "const          2.2733      0.020    112.379      0.000       2.234       2.313\n",
      "humidity      -2.8356      0.022   -126.302      0.000      -2.880      -2.792\n",
      "windspeed     -0.1140      0.001   -149.965      0.000      -0.115      -0.113\n",
      "==============================================================================\n",
      "Omnibus:                     3469.851   Durbin-Watson:                   0.304\n",
      "Prob(Omnibus):                  0.000   Jarque-Bera (JB):             3825.505\n",
      "Skew:                          -0.491   Prob(JB):                         0.00\n",
      "Kurtosis:                       2.830   Cond. No.                         80.3\n",
      "==============================================================================\n",
      "\n",
      "Warnings:\n",
      "[1] Standard Errors assume that the covariance matrix of the errors is correctly specified.\n"
     ]
    }
   ],
   "source": [
    "def OLS_sum(data):\n",
    "    target = data.iloc[:, 0]\n",
    "    data = data.iloc[:, 1:]\n",
    "    sm_data = sm.add_constant(data)\n",
    "    results = sm.OLS(target, sm_data).fit()\n",
    "    print(results.summary())\n",
    "OLS_sum(data)"
   ]
  },
  {
   "cell_type": "markdown",
   "metadata": {},
   "source": [
    "The R-squared and Adj. R-squared values are both .253 which indicates this model only explains 25.3% of the outcome variable's variance. In other words, this model does not have very good predictive power."
   ]
  },
  {
   "cell_type": "markdown",
   "metadata": {},
   "source": [
    "Update model with interaction between humidity and windspeed..."
   ]
  },
  {
   "cell_type": "code",
   "execution_count": 10,
   "metadata": {},
   "outputs": [],
   "source": [
    "data = pd.DataFrame()\n",
    "data['target'] = df.apparenttemperature.copy() - df.temperature.copy()\n",
    "data['humidity'] = df.humidity.copy()\n",
    "data['windspeed'] = df.windspeed.copy()\n",
    "data['ws_hum_rel'] = df.humidity.copy() * df.windspeed.copy()"
   ]
  },
  {
   "cell_type": "markdown",
   "metadata": {},
   "source": [
    "Clean again..."
   ]
  },
  {
   "cell_type": "code",
   "execution_count": 11,
   "metadata": {},
   "outputs": [],
   "source": [
    "data.drop(outliers_iqr(data, data.columns), inplace=True)"
   ]
  },
  {
   "cell_type": "code",
   "execution_count": 12,
   "metadata": {},
   "outputs": [
    {
     "name": "stdout",
     "output_type": "stream",
     "text": [
      "                            OLS Regression Results                            \n",
      "==============================================================================\n",
      "Dep. Variable:                 target   R-squared:                       0.311\n",
      "Model:                            OLS   Adj. R-squared:                  0.311\n",
      "Method:                 Least Squares   F-statistic:                 1.374e+04\n",
      "Date:                Mon, 11 Nov 2019   Prob (F-statistic):               0.00\n",
      "Time:                        11:17:28   Log-Likelihood:            -1.4890e+05\n",
      "No. Observations:               91457   AIC:                         2.978e+05\n",
      "Df Residuals:                   91453   BIC:                         2.979e+05\n",
      "Df Model:                           3                                         \n",
      "Covariance Type:            nonrobust                                         \n",
      "==============================================================================\n",
      "                 coef    std err          t      P>|t|      [0.025      0.975]\n",
      "------------------------------------------------------------------------------\n",
      "const         -0.2743      0.034     -8.064      0.000      -0.341      -0.208\n",
      "humidity       0.6385      0.044     14.659      0.000       0.553       0.724\n",
      "windspeed      0.1314      0.003     47.324      0.000       0.126       0.137\n",
      "ws_hum_rel    -0.3485      0.004    -92.017      0.000      -0.356      -0.341\n",
      "==============================================================================\n",
      "Omnibus:                     2194.568   Durbin-Watson:                   0.305\n",
      "Prob(Omnibus):                  0.000   Jarque-Bera (JB):             2441.279\n",
      "Skew:                          -0.358   Prob(JB):                         0.00\n",
      "Kurtosis:                       3.358   Cond. No.                         188.\n",
      "==============================================================================\n",
      "\n",
      "Warnings:\n",
      "[1] Standard Errors assume that the covariance matrix of the errors is correctly specified.\n"
     ]
    }
   ],
   "source": [
    "OLS_sum(data)"
   ]
  },
  {
   "cell_type": "markdown",
   "metadata": {},
   "source": [
    "It would appear that the model does improve, slightly. The F-statistic is actually lower here, however. The AIC and BIC does show improvement."
   ]
  },
  {
   "cell_type": "markdown",
   "metadata": {},
   "source": [
    "Update model with visibility..."
   ]
  },
  {
   "cell_type": "code",
   "execution_count": 13,
   "metadata": {},
   "outputs": [],
   "source": [
    "data = pd.DataFrame()\n",
    "data['target'] = df.apparenttemperature.copy() - df.temperature.copy()\n",
    "data['humidity'] = df.humidity.copy()\n",
    "data['windspeed'] = df.windspeed.copy()\n",
    "data['visibility'] = df.visibility.copy()"
   ]
  },
  {
   "cell_type": "code",
   "execution_count": 14,
   "metadata": {},
   "outputs": [],
   "source": [
    "data.drop(outliers_iqr(data, data.columns), inplace=True)"
   ]
  },
  {
   "cell_type": "code",
   "execution_count": 15,
   "metadata": {},
   "outputs": [
    {
     "name": "stdout",
     "output_type": "stream",
     "text": [
      "                            OLS Regression Results                            \n",
      "==============================================================================\n",
      "Dep. Variable:                 target   R-squared:                       0.272\n",
      "Model:                            OLS   Adj. R-squared:                  0.272\n",
      "Method:                 Least Squares   F-statistic:                 1.150e+04\n",
      "Date:                Mon, 11 Nov 2019   Prob (F-statistic):               0.00\n",
      "Time:                        11:17:29   Log-Likelihood:            -1.5375e+05\n",
      "No. Observations:               92268   AIC:                         3.075e+05\n",
      "Df Residuals:                   92264   BIC:                         3.075e+05\n",
      "Df Model:                           3                                         \n",
      "Covariance Type:            nonrobust                                         \n",
      "==============================================================================\n",
      "                 coef    std err          t      P>|t|      [0.025      0.975]\n",
      "------------------------------------------------------------------------------\n",
      "const          1.4375      0.026     54.551      0.000       1.386       1.489\n",
      "humidity      -2.4231      0.024   -102.086      0.000      -2.470      -2.377\n",
      "windspeed     -0.1150      0.001   -153.202      0.000      -0.117      -0.114\n",
      "visibility     0.0524      0.001     48.632      0.000       0.050       0.055\n",
      "==============================================================================\n",
      "Omnibus:                     3226.812   Durbin-Watson:                   0.322\n",
      "Prob(Omnibus):                  0.000   Jarque-Bera (JB):             3566.139\n",
      "Skew:                          -0.479   Prob(JB):                         0.00\n",
      "Kurtosis:                       2.901   Cond. No.                         125.\n",
      "==============================================================================\n",
      "\n",
      "Warnings:\n",
      "[1] Standard Errors assume that the covariance matrix of the errors is correctly specified.\n"
     ]
    }
   ],
   "source": [
    "OLS_sum(data)"
   ]
  },
  {
   "cell_type": "markdown",
   "metadata": {},
   "source": [
    "Based on the R-squared values, this model is better than the original, but worse than the interaction model. It also has a lower F-stat than the original model. It only shows a slight improvement on the AIC and BIC."
   ]
  },
  {
   "cell_type": "markdown",
   "metadata": {},
   "source": [
    "Based on adjusted R-squared alone, the interaction between humidity and windspeed seems to have more explanatory power for the outcome variable than the visibility does."
   ]
  },
  {
   "cell_type": "markdown",
   "metadata": {},
   "source": [
    "Model selection: Of the three models above, it would appear the second (with the interaction variable) is the best with respect to all things except the greater F-stat. However, comparing the second and third model to one another using the the F-stat is not useful as one model does not contain all the features of another. We also haven't checked for normality in the errors, which could deem the F-stats useless regardless."
   ]
  }
 ],
 "metadata": {
  "kernelspec": {
   "display_name": "Python 3",
   "language": "python",
   "name": "python3"
  },
  "language_info": {
   "codemirror_mode": {
    "name": "ipython",
    "version": 3
   },
   "file_extension": ".py",
   "mimetype": "text/x-python",
   "name": "python",
   "nbconvert_exporter": "python",
   "pygments_lexer": "ipython3",
   "version": "3.7.0"
  }
 },
 "nbformat": 4,
 "nbformat_minor": 4
}
