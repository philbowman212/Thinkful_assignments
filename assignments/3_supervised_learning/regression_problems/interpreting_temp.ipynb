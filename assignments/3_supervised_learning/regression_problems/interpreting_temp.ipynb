{
 "cells": [
  {
   "cell_type": "markdown",
   "metadata": {},
   "source": [
    "# Interpreting the Weather Model"
   ]
  },
  {
   "cell_type": "markdown",
   "metadata": {},
   "source": [
    "This is part two of the three part interpretation assignment:\n",
    "1. [Interpretation and Significance](https://github.com/philbowman212/Thinkful_repo/blob/master/assignments/3_supervised_learning/regression_problems/interp_significance_assignment.md)\n",
    "2. [Interpreting the Weather](https://github.com/philbowman212/Thinkful_repo/blob/master/assignments/3_supervised_learning/regression_problems/interpreting_temp.ipynb)\n",
    "3. [Interpreting the House Prices](https://github.com/philbowman212/Thinkful_repo/blob/master/assignments/3_supervised_learning/regression_problems/interpreting_house_prices.ipynb)"
   ]
  },
  {
   "cell_type": "markdown",
   "metadata": {},
   "source": [
    "### Weather model\n",
    "\n",
    "In this exercise, you'll work with the historical temperature data from the previous checkpoint. To complete this assignment, submit a link to a Jupyter notebook containing your solutions to the following tasks:\n",
    "\n",
    "* First, load the dataset from the **weatherinszeged** table from Thinkful's database.\n",
    "* Build a linear regression model where your target variable is the difference between the *apparenttemperature* and the *temperature*. As explanatory variables, use *humidity* and *windspeed*. Now, estimate your model using OLS. Are the estimated coefficients statistically significant? Are the signs of the estimated coefficients in line with your previous expectations? Interpret the estimated coefficients. What are the relations between the target and the explanatory variables? \n",
    "* Next, include the interaction of *humidity* and *windspeed* to the model above and estimate the model using OLS. Are the coefficients statistically significant? Did the signs of the estimated coefficients for *humidity* and *windspeed* change? Interpret the estimated coefficients."
   ]
  },
  {
   "cell_type": "code",
   "execution_count": 27,
   "metadata": {},
   "outputs": [],
   "source": [
    "import numpy as np\n",
    "import pandas as pd\n",
    "import matplotlib.pyplot as plt\n",
    "from sqlalchemy import create_engine\n",
    "import seaborn as sns\n",
    "%matplotlib inline\n",
    "\n",
    "import warnings\n",
    "warnings.filterwarnings(\"ignore\")"
   ]
  },
  {
   "cell_type": "code",
   "execution_count": 28,
   "metadata": {},
   "outputs": [],
   "source": [
    "postgres_user = 'dsbc_student'\n",
    "postgres_pw = '7*.8G9QH21'\n",
    "postgres_host = '142.93.121.174'\n",
    "postgres_port = '5432'\n",
    "postgres_db = 'weatherinszeged'\n",
    "\n",
    "engine = create_engine('postgresql://{}:{}@{}:{}/{}'.format(\n",
    "    postgres_user, postgres_pw, postgres_host, postgres_port, postgres_db))\n",
    "\n",
    "df = pd.read_sql_query('select * from weatherinszeged',con=engine)\n",
    "\n",
    "engine.dispose()"
   ]
  },
  {
   "cell_type": "code",
   "execution_count": 29,
   "metadata": {},
   "outputs": [],
   "source": [
    "df['temp_diff'] = df.apparenttemperature.copy() - df.temperature.copy()"
   ]
  },
  {
   "cell_type": "code",
   "execution_count": 30,
   "metadata": {},
   "outputs": [],
   "source": [
    "data = df[['temp_diff', 'humidity', 'windspeed']].copy()"
   ]
  },
  {
   "cell_type": "code",
   "execution_count": 31,
   "metadata": {},
   "outputs": [
    {
     "data": {
      "text/html": [
       "<div>\n",
       "<style scoped>\n",
       "    .dataframe tbody tr th:only-of-type {\n",
       "        vertical-align: middle;\n",
       "    }\n",
       "\n",
       "    .dataframe tbody tr th {\n",
       "        vertical-align: top;\n",
       "    }\n",
       "\n",
       "    .dataframe thead th {\n",
       "        text-align: right;\n",
       "    }\n",
       "</style>\n",
       "<table border=\"1\" class=\"dataframe\">\n",
       "  <thead>\n",
       "    <tr style=\"text-align: right;\">\n",
       "      <th></th>\n",
       "      <th>temp_diff</th>\n",
       "      <th>humidity</th>\n",
       "      <th>windspeed</th>\n",
       "    </tr>\n",
       "  </thead>\n",
       "  <tbody>\n",
       "    <tr>\n",
       "      <th>count</th>\n",
       "      <td>96453.000000</td>\n",
       "      <td>96453.000000</td>\n",
       "      <td>96453.000000</td>\n",
       "    </tr>\n",
       "    <tr>\n",
       "      <th>mean</th>\n",
       "      <td>-1.077650</td>\n",
       "      <td>0.734899</td>\n",
       "      <td>10.810640</td>\n",
       "    </tr>\n",
       "    <tr>\n",
       "      <th>std</th>\n",
       "      <td>1.678694</td>\n",
       "      <td>0.195473</td>\n",
       "      <td>6.913571</td>\n",
       "    </tr>\n",
       "    <tr>\n",
       "      <th>min</th>\n",
       "      <td>-10.183333</td>\n",
       "      <td>0.000000</td>\n",
       "      <td>0.000000</td>\n",
       "    </tr>\n",
       "    <tr>\n",
       "      <th>25%</th>\n",
       "      <td>-2.216667</td>\n",
       "      <td>0.600000</td>\n",
       "      <td>5.828200</td>\n",
       "    </tr>\n",
       "    <tr>\n",
       "      <th>50%</th>\n",
       "      <td>0.000000</td>\n",
       "      <td>0.780000</td>\n",
       "      <td>9.965900</td>\n",
       "    </tr>\n",
       "    <tr>\n",
       "      <th>75%</th>\n",
       "      <td>0.000000</td>\n",
       "      <td>0.890000</td>\n",
       "      <td>14.135800</td>\n",
       "    </tr>\n",
       "    <tr>\n",
       "      <th>max</th>\n",
       "      <td>4.811111</td>\n",
       "      <td>1.000000</td>\n",
       "      <td>63.852600</td>\n",
       "    </tr>\n",
       "  </tbody>\n",
       "</table>\n",
       "</div>"
      ],
      "text/plain": [
       "          temp_diff      humidity     windspeed\n",
       "count  96453.000000  96453.000000  96453.000000\n",
       "mean      -1.077650      0.734899     10.810640\n",
       "std        1.678694      0.195473      6.913571\n",
       "min      -10.183333      0.000000      0.000000\n",
       "25%       -2.216667      0.600000      5.828200\n",
       "50%        0.000000      0.780000      9.965900\n",
       "75%        0.000000      0.890000     14.135800\n",
       "max        4.811111      1.000000     63.852600"
      ]
     },
     "execution_count": 31,
     "metadata": {},
     "output_type": "execute_result"
    }
   ],
   "source": [
    "data.describe()"
   ]
  },
  {
   "cell_type": "code",
   "execution_count": 32,
   "metadata": {},
   "outputs": [
    {
     "data": {
      "image/png": "[encoded data removed]",
      "text/plain": [
       "<Figure size 864x432 with 2 Axes>"
      ]
     },
     "metadata": {
      "needs_background": "light"
     },
     "output_type": "display_data"
    },
    {
     "data": {
      "image/png": "[encoded data removed]",
      "text/plain": [
       "<Figure size 864x432 with 2 Axes>"
      ]
     },
     "metadata": {
      "needs_background": "light"
     },
     "output_type": "display_data"
    },
    {
     "data": {
      "image/png": "[encoded data removed]",
      "text/plain": [
       "<Figure size 864x432 with 2 Axes>"
      ]
     },
     "metadata": {
      "needs_background": "light"
     },
     "output_type": "display_data"
    }
   ],
   "source": [
    "def hist_box(data=data, columns=data.columns):\n",
    "    for col in columns:\n",
    "        plt.figure(figsize=(12,6))\n",
    "        plt.subplot(121)\n",
    "        plt.hist(data[col], bins=30)\n",
    "        plt.title('{} distribution - bins=30'.format(col))\n",
    "        plt.subplot(122)\n",
    "        plt.boxplot(data[col])\n",
    "        plt.title('{} boxplot - whis=1.5'.format(col))\n",
    "        plt.show()\n",
    "hist_box(data, data.columns)"
   ]
  },
  {
   "cell_type": "code",
   "execution_count": 33,
   "metadata": {},
   "outputs": [],
   "source": [
    "def outliers_std(data=data, columns=data.columns, thresh=2):\n",
    "    outlier_indexes = []\n",
    "    for col in columns:\n",
    "        ser_col = data[col]\n",
    "        mean = ser_col.mean()\n",
    "        sd = ser_col.std()\n",
    "        outliers_mask = data[(data[col] > mean + thresh*sd) | (data[col] < mean - thresh*sd)].index\n",
    "        outlier_indexes += [x for x in outliers_mask]\n",
    "    return list(set(outlier_indexes))"
   ]
  },
  {
   "cell_type": "code",
   "execution_count": 34,
   "metadata": {},
   "outputs": [],
   "source": [
    "def outliers_iqr(data=data, columns=data.columns, thresh=1.5):\n",
    "    outlier_indexes = []\n",
    "    for col in columns:\n",
    "        q25, q75 = np.percentile(data[col], [25, 75])\n",
    "        iqr = q75 - q25\n",
    "        upper_lim = q75 + (iqr*thresh)\n",
    "        lower_lim = q25 - (iqr*thresh)\n",
    "        outliers_mask = data[(data[col] >= upper_lim) | (data[col] <= lower_lim)].index\n",
    "        outlier_indexes += [x for x in outliers_mask]\n",
    "    return list(set(outlier_indexes))"
   ]
  },
  {
   "cell_type": "code",
   "execution_count": 35,
   "metadata": {},
   "outputs": [
    {
     "data": {
      "text/plain": [
       "(12375, 4185)"
      ]
     },
     "execution_count": 35,
     "metadata": {},
     "output_type": "execute_result"
    }
   ],
   "source": [
    "len(outliers_std()), len(outliers_iqr())"
   ]
  },
  {
   "cell_type": "markdown",
   "metadata": {},
   "source": [
    "Eliminate outliers..."
   ]
  },
  {
   "cell_type": "code",
   "execution_count": 36,
   "metadata": {},
   "outputs": [],
   "source": [
    "data.drop(outliers_iqr(), inplace=True)"
   ]
  },
  {
   "cell_type": "code",
   "execution_count": 37,
   "metadata": {},
   "outputs": [],
   "source": [
    "X_data = data.iloc[:, 1:]\n",
    "target = data.iloc[:, 0]"
   ]
  },
  {
   "cell_type": "code",
   "execution_count": 38,
   "metadata": {},
   "outputs": [],
   "source": [
    "from sklearn.model_selection import train_test_split"
   ]
  },
  {
   "cell_type": "code",
   "execution_count": 39,
   "metadata": {},
   "outputs": [],
   "source": [
    "X_train, X_test, Y_train, Y_test = train_test_split(X_data, target, test_size=.3, random_state=21)"
   ]
  },
  {
   "cell_type": "code",
   "execution_count": 40,
   "metadata": {},
   "outputs": [],
   "source": [
    "from sklearn import linear_model"
   ]
  },
  {
   "cell_type": "code",
   "execution_count": 41,
   "metadata": {},
   "outputs": [],
   "source": [
    "lm = linear_model.LinearRegression()\n",
    "lm.fit(X_train, Y_train)\n",
    "Y_pred = lm.predict(X_test)"
   ]
  },
  {
   "cell_type": "code",
   "execution_count": 42,
   "metadata": {},
   "outputs": [],
   "source": [
    "from sklearn import metrics\n",
    "def evaluate(Y_test, Y_pred):\n",
    "    mse = metrics.mean_squared_error(Y_test, Y_pred)\n",
    "    msa = metrics.mean_absolute_error(Y_test, Y_pred)\n",
    "    r2 = metrics.r2_score(Y_test, Y_pred)\n",
    "    \n",
    "    print('Mean squared error:', mse)\n",
    "    print('Mean absolute error:', msa)\n",
    "    print('R^2:', r2)\n",
    "    \n",
    "    plt.scatter(Y_test, Y_pred)\n",
    "    plt.xlabel('Actual')\n",
    "    plt.ylabel('Predicted')\n",
    "    plt.title('Actual vs Predicted')"
   ]
  },
  {
   "cell_type": "code",
   "execution_count": 43,
   "metadata": {},
   "outputs": [
    {
     "name": "stdout",
     "output_type": "stream",
     "text": [
      "Mean squared error: 1.6726229026828376\n",
      "Mean absolute error: 1.055424195265563\n",
      "R^2: 0.25562584282169787\n"
     ]
    },
    {
     "data": {
      "image/png": "[encoded data removed]",
      "text/plain": [
       "<Figure size 432x288 with 1 Axes>"
      ]
     },
     "metadata": {
      "needs_background": "light"
     },
     "output_type": "display_data"
    }
   ],
   "source": [
    "evaluate(Y_test, Y_pred)"
   ]
  },
  {
   "cell_type": "code",
   "execution_count": 44,
   "metadata": {},
   "outputs": [
    {
     "data": {
      "text/plain": [
       "(array([-2.85096489, -0.11339056]), 2.2783312128595634)"
      ]
     },
     "execution_count": 44,
     "metadata": {},
     "output_type": "execute_result"
    }
   ],
   "source": [
    "lm.coef_, lm.intercept_"
   ]
  },
  {
   "cell_type": "code",
   "execution_count": 45,
   "metadata": {},
   "outputs": [],
   "source": [
    "import statsmodels.api as sm"
   ]
  },
  {
   "cell_type": "code",
   "execution_count": 46,
   "metadata": {},
   "outputs": [
    {
     "name": "stdout",
     "output_type": "stream",
     "text": [
      "                            OLS Regression Results                            \n",
      "==============================================================================\n",
      "Dep. Variable:              temp_diff   R-squared:                       0.252\n",
      "Model:                            OLS   Adj. R-squared:                  0.252\n",
      "Method:                 Least Squares   F-statistic:                 1.091e+04\n",
      "Date:                Sun, 10 Nov 2019   Prob (F-statistic):               0.00\n",
      "Time:                        14:09:09   Log-Likelihood:            -1.0852e+05\n",
      "No. Observations:               64587   AIC:                         2.170e+05\n",
      "Df Residuals:                   64584   BIC:                         2.171e+05\n",
      "Df Model:                           2                                         \n",
      "Covariance Type:            nonrobust                                         \n",
      "==============================================================================\n",
      "                 coef    std err          t      P>|t|      [0.025      0.975]\n",
      "------------------------------------------------------------------------------\n",
      "const          2.2783      0.024     94.114      0.000       2.231       2.326\n",
      "humidity      -2.8510      0.027   -106.208      0.000      -2.904      -2.798\n",
      "windspeed     -0.1134      0.001   -124.747      0.000      -0.115      -0.112\n",
      "==============================================================================\n",
      "Omnibus:                     2454.244   Durbin-Watson:                   1.992\n",
      "Prob(Omnibus):                  0.000   Jarque-Bera (JB):             2706.665\n",
      "Skew:                          -0.494   Prob(JB):                         0.00\n",
      "Kurtosis:                       2.826   Cond. No.                         80.3\n",
      "==============================================================================\n",
      "\n",
      "Warnings:\n",
      "[1] Standard Errors assume that the covariance matrix of the errors is correctly specified.\n"
     ]
    }
   ],
   "source": [
    "sm_X_train = sm.add_constant(X_train)\n",
    "results = sm.OLS(Y_train, sm_X_train).fit()\n",
    "print(results.summary())"
   ]
  },
  {
   "cell_type": "markdown",
   "metadata": {},
   "source": [
    "It appears that for this model, all the features are significant."
   ]
  },
  {
   "cell_type": "markdown",
   "metadata": {},
   "source": [
    "The equation for this model is as follows:\n",
    "\n",
    "$$ temp\\_di\\!f\\!f = 2.2783 - 2.8510humidity - 0.1134windspeed $$"
   ]
  },
  {
   "cell_type": "markdown",
   "metadata": {},
   "source": [
    "So the difference between apparent temperature and temperature can be modeled by the equation above. A general interpretation of the coefficients will now be conducted:\n",
    "- constant - if all other variables were 0, then bias would be 2.2783\n",
    "- humidity - if humidity were 100%, then the difference in temp would go down by 2.8510 degrees\n",
    "- windspeed - for each mph of windspeed the difference in temps would go down by 0.1134 degrees"
   ]
  },
  {
   "cell_type": "markdown",
   "metadata": {},
   "source": [
    "### Add relation of windspeed and humidity to the model"
   ]
  },
  {
   "cell_type": "code",
   "execution_count": 47,
   "metadata": {},
   "outputs": [],
   "source": [
    "X_data['hum_wind_rel'] = X_data.humidity.copy() * X_data.windspeed.copy()"
   ]
  },
  {
   "cell_type": "code",
   "execution_count": 48,
   "metadata": {},
   "outputs": [],
   "source": [
    "X_train, X_test, Y_train, Y_test = train_test_split(X_data, target, test_size=.3, random_state=21)"
   ]
  },
  {
   "cell_type": "code",
   "execution_count": 49,
   "metadata": {},
   "outputs": [],
   "source": [
    "lm = linear_model.LinearRegression()\n",
    "lm.fit(X_train, Y_train)\n",
    "Y_pred = lm.predict(X_test)"
   ]
  },
  {
   "cell_type": "code",
   "execution_count": 50,
   "metadata": {},
   "outputs": [
    {
     "name": "stdout",
     "output_type": "stream",
     "text": [
      "Mean squared error: 1.554502041974784\n",
      "Mean absolute error: 0.9566388925682535\n",
      "R^2: 0.30819364874717103\n"
     ]
    },
    {
     "data": {
      "image/png": "[encoded data removed]",
      "text/plain": [
       "<Figure size 432x288 with 1 Axes>"
      ]
     },
     "metadata": {
      "needs_background": "light"
     },
     "output_type": "display_data"
    }
   ],
   "source": [
    "evaluate(Y_test, Y_pred)"
   ]
  },
  {
   "cell_type": "code",
   "execution_count": 51,
   "metadata": {},
   "outputs": [
    {
     "data": {
      "text/plain": [
       "(array([ 0.52252577,  0.12451909, -0.3313973 ]), -0.23288829011671075)"
      ]
     },
     "execution_count": 51,
     "metadata": {},
     "output_type": "execute_result"
    }
   ],
   "source": [
    "lm.coef_, lm.intercept_"
   ]
  },
  {
   "cell_type": "code",
   "execution_count": 52,
   "metadata": {},
   "outputs": [
    {
     "name": "stdout",
     "output_type": "stream",
     "text": [
      "                            OLS Regression Results                            \n",
      "==============================================================================\n",
      "Dep. Variable:              temp_diff   R-squared:                       0.312\n",
      "Model:                            OLS   Adj. R-squared:                  0.312\n",
      "Method:                 Least Squares   F-statistic:                     9753.\n",
      "Date:                Sun, 10 Nov 2019   Prob (F-statistic):               0.00\n",
      "Time:                        14:09:11   Log-Likelihood:            -1.0585e+05\n",
      "No. Observations:               64587   AIC:                         2.117e+05\n",
      "Df Residuals:                   64583   BIC:                         2.117e+05\n",
      "Df Model:                           3                                         \n",
      "Covariance Type:            nonrobust                                         \n",
      "================================================================================\n",
      "                   coef    std err          t      P>|t|      [0.025      0.975]\n",
      "--------------------------------------------------------------------------------\n",
      "const           -0.2329      0.041     -5.696      0.000      -0.313      -0.153\n",
      "humidity         0.5225      0.052     10.043      0.000       0.421       0.624\n",
      "windspeed        0.1245      0.003     37.675      0.000       0.118       0.131\n",
      "hum_wind_rel    -0.3314      0.004    -74.628      0.000      -0.340      -0.323\n",
      "==============================================================================\n",
      "Omnibus:                     1524.402   Durbin-Watson:                   1.994\n",
      "Prob(Omnibus):                  0.000   Jarque-Bera (JB):             1744.212\n",
      "Skew:                          -0.341   Prob(JB):                         0.00\n",
      "Kurtosis:                       3.427   Cond. No.                         191.\n",
      "==============================================================================\n",
      "\n",
      "Warnings:\n",
      "[1] Standard Errors assume that the covariance matrix of the errors is correctly specified.\n"
     ]
    }
   ],
   "source": [
    "sm_X_train = sm.add_constant(X_train)\n",
    "results = sm.OLS(Y_train, sm_X_train).fit()\n",
    "print(results.summary())"
   ]
  },
  {
   "cell_type": "markdown",
   "metadata": {},
   "source": [
    "Everything is still significant, new equation:\n",
    "$$ temp\\_di\\!f\\!f = -0.2329 + 0.5225humidity + 0.1245windspeed - 0.3314hum\\_wind\\_rel$$"
   ]
  },
  {
   "cell_type": "markdown",
   "metadata": {},
   "source": [
    "For one percent increase in humidity, there is a decrease of 0.0279 in the differences of the temperatures.\n",
    "\n",
    "For a one mile per hour increase in windspeed, there is a decrease of 0.0743 in the differences of the temperatures. "
   ]
  }
 ],
 "metadata": {
  "kernelspec": {
   "display_name": "Python 3",
   "language": "python",
   "name": "python3"
  },
  "language_info": {
   "codemirror_mode": {
    "name": "ipython",
    "version": 3
   },
   "file_extension": ".py",
   "mimetype": "text/x-python",
   "name": "python",
   "nbconvert_exporter": "python",
   "pygments_lexer": "ipython3",
   "version": "3.7.0"
  }
 },
 "nbformat": 4,
 "nbformat_minor": 4
}
