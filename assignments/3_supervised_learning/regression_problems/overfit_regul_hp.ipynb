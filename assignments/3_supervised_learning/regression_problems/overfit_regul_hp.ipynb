{
 "cells": [
  {
   "cell_type": "markdown",
   "metadata": {},
   "source": [
    "# Overfit? and Regularize House Prices Model"
   ]
  },
  {
   "cell_type": "markdown",
   "metadata": {},
   "source": [
    "In this assignment, you'll continue working with the house prices data. To complete this assignment, submit a link to a Jupyter notebook containing your solutions to the following tasks:\n",
    "\n",
    "* Load the **houseprices** data from Thinkful's database.\n",
    "* Reimplement your model from the previous checkpoint.\n",
    "* Try OLS, Lasso, Ridge, and ElasticNet regression using the same model specification. This time, you need to do **k-fold cross-validation** to choose the best hyperparameter values for your models. Scikit-learn has RidgeCV, LassoCV, and ElasticNetCV that you can utilize to do this. Which model is the best? Why?"
   ]
  },
  {
   "cell_type": "code",
   "execution_count": 1,
   "metadata": {},
   "outputs": [],
   "source": [
    "import numpy as np\n",
    "import pandas as pd\n",
    "import matplotlib.pyplot as plt\n",
    "import seaborn as sns\n",
    "from sqlalchemy import create_engine\n",
    "%matplotlib inline\n",
    "\n",
    "from sklearn.model_selection import train_test_split\n",
    "import statsmodels.api as sm\n",
    "from sklearn.metrics import mean_absolute_error\n",
    "from statsmodels.tools.eval_measures import mse, rmse\n",
    "from sklearn.linear_model import LinearRegression\n",
    "\n",
    "import warnings\n",
    "warnings.filterwarnings(\"ignore\")"
   ]
  },
  {
   "cell_type": "code",
   "execution_count": 2,
   "metadata": {},
   "outputs": [],
   "source": [
    "postgres_user = 'dsbc_student'\n",
    "postgres_pw = '7*.8G9QH21'\n",
    "postgres_host = '142.93.121.174'\n",
    "postgres_port = '5432'\n",
    "postgres_db = 'houseprices'\n",
    "\n",
    "engine = create_engine('postgresql://{}:{}@{}:{}/{}'.format(\n",
    "    postgres_user, postgres_pw, postgres_host, postgres_port, postgres_db))\n",
    "\n",
    "df = pd.read_sql_query('select * from houseprices',con=engine)\n",
    "\n",
    "engine.dispose()"
   ]
  },
  {
   "cell_type": "markdown",
   "metadata": {},
   "source": [
    "Cleaning..."
   ]
  },
  {
   "cell_type": "code",
   "execution_count": 3,
   "metadata": {},
   "outputs": [],
   "source": [
    "df.drop(columns='id', inplace=True)"
   ]
  },
  {
   "cell_type": "code",
   "execution_count": 4,
   "metadata": {},
   "outputs": [],
   "source": [
    "cat_list = ['mssubclass','mszoning','street','alley','lotshape','landcontour','utilities','lotconfig','landslope','neighborhood','condition1','condition2',\n",
    "            'bldgtype','housestyle','roofstyle','roofmatl','exterior1st','exterior2nd','masvnrtype','exterqual','extercond','foundation','bsmtqual','bsmtcond',\n",
    "            'bsmtexposure','bsmtfintype1','bsmtfintype2','heating','heatingqc','centralair','electrical','kitchenqual','functional','fireplacequ','garagetype',\n",
    "            'garagefinish','garagequal','garagecond','paveddrive','poolqc','fence','miscfeature','saletype','salecondition', 'overallqual', 'overallcond', \n",
    "            'yearbuilt', 'yearremodadd', 'mosold', 'yrsold']\n",
    "for var in cat_list:\n",
    "    df[var] = df[var].astype('category')"
   ]
  },
  {
   "cell_type": "code",
   "execution_count": 5,
   "metadata": {},
   "outputs": [],
   "source": [
    "def add_cat_fillna(variable, new_cat='None'):\n",
    "    df[variable] = df[variable].cat.add_categories(new_cat).fillna(new_cat).copy()"
   ]
  },
  {
   "cell_type": "code",
   "execution_count": 6,
   "metadata": {},
   "outputs": [],
   "source": [
    "nulls_list = ['alley','bsmtqual','bsmtcond','bsmtexposure','bsmtfintype1','bsmtfintype2','fireplacequ','garagetype','garagefinish','garagequal','garagecond',\n",
    "             'poolqc','fence','miscfeature']\n",
    "for var in nulls_list:\n",
    "    add_cat_fillna(var)"
   ]
  },
  {
   "cell_type": "code",
   "execution_count": 7,
   "metadata": {},
   "outputs": [],
   "source": [
    "df.masvnrtype = df.masvnrtype.fillna('None').copy()\n",
    "df.masvnrarea = df.masvnrarea.fillna(0).copy()\n",
    "df.lotfrontage = df.lotfrontage.fillna(df.lotfrontage.median()).copy()\n",
    "df.electrical = df.electrical.fillna(df.electrical.mode()[0]).copy()\n",
    "df.drop(columns='garageyrblt', inplace=True)"
   ]
  },
  {
   "cell_type": "code",
   "execution_count": 8,
   "metadata": {},
   "outputs": [],
   "source": [
    "def outliers_std(data, columns, thresh=2):\n",
    "    outlier_indexes = []\n",
    "    for col in columns:\n",
    "        ser_col = data[col]\n",
    "        mean = ser_col.mean()\n",
    "        sd = ser_col.std()\n",
    "        outliers_mask = data[(data[col] > mean + thresh*sd) | (data[col] < mean - thresh*sd)].index\n",
    "        outlier_indexes += [x for x in outliers_mask]\n",
    "    return list(set(outlier_indexes))"
   ]
  },
  {
   "cell_type": "code",
   "execution_count": 9,
   "metadata": {},
   "outputs": [],
   "source": [
    "df.drop(outliers_std(df, df.describe().columns), inplace=True)"
   ]
  },
  {
   "cell_type": "code",
   "execution_count": 10,
   "metadata": {},
   "outputs": [],
   "source": [
    "data = pd.DataFrame()\n",
    "data['target'] = df.saleprice\n",
    "data['totalsf'] = df.totalbsmtsf + df.firstflrsf + df.secondflrsf\n",
    "data['totalsf_grl_rel'] = (df.totalbsmtsf + df.firstflrsf + df.secondflrsf) * df.grlivarea\n",
    "data['bedroomabvgr'] = df.bedroomabvgr\n",
    "data['bedroomabvgr_sf_rel'] = df.bedroomabvgr * (df.totalbsmtsf + df.firstflrsf + df.secondflrsf)\n",
    "data['garagearea'] = df.garagearea\n",
    "data['selling_age'] = df.yrsold.astype('int') - df.yearbuilt.astype('int')\n",
    "data = data.join(pd.get_dummies(df.mszoning, prefix='mszoning', drop_first=True))\n",
    "data = data.join(pd.get_dummies(df.mssubclass, prefix='mssubclass', drop_first=True))\n",
    "data.drop(columns=['mszoning_RH', 'mszoning_RM'], inplace=True)\n",
    "data.drop(columns=['mssubclass_40', 'mssubclass_50', 'mssubclass_60', 'mssubclass_75', 'mssubclass_80', 'mssubclass_85', 'mssubclass_90',\n",
    "                   'mssubclass_120', 'mssubclass_180', 'mssubclass_190', 'mssubclass_30', 'mssubclass_45'], inplace=True)\n",
    "data['overallqual'] = df.overallqual.astype(int)\n",
    "data['overallcond'] = df.overallcond.astype(int)\n",
    "data['sf_qual_rel'] = (df.totalbsmtsf + df.firstflrsf + df.secondflrsf) * df.overallqual.astype(int)"
   ]
  },
  {
   "cell_type": "code",
   "execution_count": 11,
   "metadata": {},
   "outputs": [],
   "source": [
    "target = data['target']\n",
    "X_data = data.iloc[:, 1:]"
   ]
  },
  {
   "cell_type": "code",
   "execution_count": 12,
   "metadata": {},
   "outputs": [],
   "source": [
    "X_train, X_test, y_train, y_test = train_test_split(X_data, target, test_size=.3, random_state=12)"
   ]
  },
  {
   "cell_type": "code",
   "execution_count": 13,
   "metadata": {},
   "outputs": [],
   "source": [
    "lrm = LinearRegression(normalize=True)\n",
    "lrm.fit(X_train, y_train)\n",
    "\n",
    "lrm_y_train = lrm.predict(X_train)\n",
    "lrm_y_test = lrm.predict(X_test)"
   ]
  },
  {
   "cell_type": "code",
   "execution_count": 14,
   "metadata": {},
   "outputs": [],
   "source": [
    "from sklearn.linear_model import RidgeCV, LassoCV, ElasticNetCV"
   ]
  },
  {
   "cell_type": "code",
   "execution_count": 15,
   "metadata": {},
   "outputs": [],
   "source": [
    "ridgecv = RidgeCV(alphas=np.logspace(-20, 20, 13), normalize=True)\n",
    "lassocv = LassoCV(normalize=True)\n",
    "elastcv = ElasticNetCV(alphas=np.logspace(-20, 20, 13), l1_ratio=[0.000000000001, .1, .5, .7, .9, .95, .99, 1], normalize=True)"
   ]
  },
  {
   "cell_type": "code",
   "execution_count": 16,
   "metadata": {},
   "outputs": [
    {
     "data": {
      "text/plain": [
       "ElasticNetCV(alphas=array([1.00000000e-20, 2.15443469e-17, 4.64158883e-14, 1.00000000e-10,\n",
       "       2.15443469e-07, 4.64158883e-04, 1.00000000e+00, 2.15443469e+03,\n",
       "       4.64158883e+06, 1.00000000e+10, 2.15443469e+13, 4.64158883e+16,\n",
       "       1.00000000e+20]),\n",
       "             copy_X=True, cv='warn', eps=0.001, fit_intercept=True,\n",
       "             l1_ratio=[1e-12, 0.1, 0.5, 0.7, 0.9, 0.95, 0.99, 1], max_iter=1000,\n",
       "             n_alphas=100, n_jobs=None, normalize=True, positive=False,\n",
       "             precompute='auto', random_state=None, selection='cyclic',\n",
       "             tol=0.0001, verbose=0)"
      ]
     },
     "execution_count": 16,
     "metadata": {},
     "output_type": "execute_result"
    }
   ],
   "source": [
    "ridgecv.fit(X_train, y_train)\n",
    "lassocv.fit(X_train, y_train)\n",
    "elastcv.fit(X_train, y_train)"
   ]
  },
  {
   "cell_type": "code",
   "execution_count": 17,
   "metadata": {},
   "outputs": [],
   "source": [
    "ridge_y_train = ridgecv.predict(X_train)\n",
    "ridge_y_test = ridgecv.predict(X_test)\n",
    "\n",
    "lasso_y_train = lassocv.predict(X_train)\n",
    "lasso_y_test = lassocv.predict(X_test)\n",
    "\n",
    "elast_y_train = elastcv.predict(X_train)\n",
    "elast_y_test = elastcv.predict(X_test)"
   ]
  },
  {
   "cell_type": "code",
   "execution_count": 18,
   "metadata": {},
   "outputs": [
    {
     "name": "stdout",
     "output_type": "stream",
     "text": [
      "-----Standard OLS-----\n",
      "R-squared of the model in the training set is: 0.8740889214748138\n",
      "-----Test set statistics-----\n",
      "R-squared of the model in the test set is: 0.8746785930946342\n",
      "Mean absolute error of the prediction is: 12176.827366735932\n",
      "Mean squared error of the prediction is: 273365577.789391\n",
      "Root mean squared error of the prediction is: 16533.770827896187\n",
      "Mean absolute percentage error of the prediction is: 7.917380402264537\n"
     ]
    }
   ],
   "source": [
    "print('-----Standard OLS-----')\n",
    "print(\"R-squared of the model in the training set is: {}\".format(lrm.score(X_train, y_train)))\n",
    "print(\"-----Test set statistics-----\")\n",
    "print(\"R-squared of the model in the test set is: {}\".format(lrm.score(X_test, y_test)))\n",
    "print(\"Mean absolute error of the prediction is: {}\".format(mean_absolute_error(y_test, lrm_y_test)))\n",
    "print(\"Mean squared error of the prediction is: {}\".format(mse(y_test, lrm_y_test)))\n",
    "print(\"Root mean squared error of the prediction is: {}\".format(rmse(y_test, lrm_y_test)))\n",
    "print(\"Mean absolute percentage error of the prediction is: {}\".format(np.mean(np.abs((y_test - lrm_y_test) / y_test)) * 100))"
   ]
  },
  {
   "cell_type": "code",
   "execution_count": 19,
   "metadata": {},
   "outputs": [
    {
     "name": "stdout",
     "output_type": "stream",
     "text": [
      "-----Ridge Regression-----\n",
      "R-squared of the model in the training set is: 0.8740352118065822\n",
      "-----Test set statistics-----\n",
      "R-squared of the model in the test set is: 0.8747131174586468\n",
      "Mean absolute error of the prediction is: 12159.457360787943\n",
      "Mean squared error of the prediction is: 273290269.24515164\n",
      "Root mean squared error of the prediction is: 16531.493255152473\n",
      "Mean absolute percentage error of the prediction is: 7.885233300878501\n"
     ]
    }
   ],
   "source": [
    "print('-----Ridge Regression-----')\n",
    "print(\"R-squared of the model in the training set is: {}\".format(ridgecv.score(X_train, y_train)))\n",
    "print(\"-----Test set statistics-----\")\n",
    "print(\"R-squared of the model in the test set is: {}\".format(ridgecv.score(X_test, y_test)))\n",
    "print(\"Mean absolute error of the prediction is: {}\".format(mean_absolute_error(y_test, ridge_y_test)))\n",
    "print(\"Mean squared error of the prediction is: {}\".format(mse(y_test, ridge_y_test)))\n",
    "print(\"Root mean squared error of the prediction is: {}\".format(rmse(y_test, ridge_y_test)))\n",
    "print(\"Mean absolute percentage error of the prediction is: {}\".format(np.mean(np.abs((y_test - ridge_y_test) / y_test)) * 100))"
   ]
  },
  {
   "cell_type": "code",
   "execution_count": 20,
   "metadata": {},
   "outputs": [
    {
     "name": "stdout",
     "output_type": "stream",
     "text": [
      "-----Lasso Regression-----\n",
      "R-squared of the model in the training set is: 0.8735448553287073\n",
      "-----Test set statistics-----\n",
      "R-squared of the model in the test set is: 0.8748534694098992\n",
      "Mean absolute error of the prediction is: 12141.682790958777\n",
      "Mean squared error of the prediction is: 272984117.30195665\n",
      "Root mean squared error of the prediction is: 16522.231002560056\n",
      "Mean absolute percentage error of the prediction is: 7.834584943929994\n"
     ]
    }
   ],
   "source": [
    "print('-----Lasso Regression-----')\n",
    "print(\"R-squared of the model in the training set is: {}\".format(lassocv.score(X_train, y_train)))\n",
    "print(\"-----Test set statistics-----\")\n",
    "print(\"R-squared of the model in the test set is: {}\".format(lassocv.score(X_test, y_test)))\n",
    "print(\"Mean absolute error of the prediction is: {}\".format(mean_absolute_error(y_test, lasso_y_test)))\n",
    "print(\"Mean squared error of the prediction is: {}\".format(mse(y_test, lasso_y_test)))\n",
    "print(\"Root mean squared error of the prediction is: {}\".format(rmse(y_test, lasso_y_test)))\n",
    "print(\"Mean absolute percentage error of the prediction is: {}\".format(np.mean(np.abs((y_test - lasso_y_test) / y_test)) * 100))"
   ]
  },
  {
   "cell_type": "code",
   "execution_count": 21,
   "metadata": {},
   "outputs": [
    {
     "name": "stdout",
     "output_type": "stream",
     "text": [
      "-----ElasticNet Regression-----\n",
      "R-squared of the model in the training set is: 0.8740865328508938\n",
      "-----Test set statistics-----\n",
      "R-squared of the model in the test set is: 0.8746974787119978\n",
      "Mean absolute error of the prediction is: 12172.728133576571\n",
      "Mean squared error of the prediction is: 273324382.2919104\n",
      "Root mean squared error of the prediction is: 16532.524982346476\n",
      "Mean absolute percentage error of the prediction is: 7.910376022564387\n"
     ]
    }
   ],
   "source": [
    "print('-----ElasticNet Regression-----')\n",
    "print(\"R-squared of the model in the training set is: {}\".format(elastcv.score(X_train, y_train)))\n",
    "print(\"-----Test set statistics-----\")\n",
    "print(\"R-squared of the model in the test set is: {}\".format(elastcv.score(X_test, y_test)))\n",
    "print(\"Mean absolute error of the prediction is: {}\".format(mean_absolute_error(y_test, elast_y_test)))\n",
    "print(\"Mean squared error of the prediction is: {}\".format(mse(y_test, elast_y_test)))\n",
    "print(\"Root mean squared error of the prediction is: {}\".format(rmse(y_test, elast_y_test)))\n",
    "print(\"Mean absolute percentage error of the prediction is: {}\".format(np.mean(np.abs((y_test - elast_y_test) / y_test)) * 100))"
   ]
  },
  {
   "cell_type": "markdown",
   "metadata": {},
   "source": [
    "After normalization, it looks like both methods come up with practically the same results (ElasticNet simply defaults to Lasso since L1_Ratio cannot be zero). The Lasso method appears to slightly edge out the Ridge and ElasticNet method when it comes to R-squared values (but the difference is miniscule). All the other evaluation metrics are also nearly identical, but it looks like the Lasso method is better in every aspect."
   ]
  }
 ],
 "metadata": {
  "kernelspec": {
   "display_name": "Python 3",
   "language": "python",
   "name": "python3"
  },
  "language_info": {
   "codemirror_mode": {
    "name": "ipython",
    "version": 3
   },
   "file_extension": ".py",
   "mimetype": "text/x-python",
   "name": "python",
   "nbconvert_exporter": "python",
   "pygments_lexer": "ipython3",
   "version": "3.7.0"
  }
 },
 "nbformat": 4,
 "nbformat_minor": 4
}
