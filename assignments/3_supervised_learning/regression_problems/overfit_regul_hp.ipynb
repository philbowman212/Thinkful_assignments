{
 "cells": [
  {
   "cell_type": "markdown",
   "metadata": {},
   "source": [
    "# Overfit? and Regularize House Prices Model"
   ]
  },
  {
   "cell_type": "markdown",
   "metadata": {},
   "source": [
    "In this assignment, you'll continue working with the house prices data. To complete this assignment, submit a link to a Jupyter notebook containing your solutions to the following tasks:\n",
    "\n",
    "* Load the **houseprices** data from Thinkful's database.\n",
    "* Reimplement your model from the previous checkpoint.\n",
    "* Try OLS, Lasso, Ridge, and ElasticNet regression using the same model specification. This time, you need to do **k-fold cross-validation** to choose the best hyperparameter values for your models. Scikit-learn has RidgeCV, LassoCV, and ElasticNetCV that you can utilize to do this. Which model is the best? Why?"
   ]
  },
  {
   "cell_type": "code",
   "execution_count": 1,
   "metadata": {},
   "outputs": [],
   "source": [
    "import numpy as np\n",
    "import pandas as pd\n",
    "import matplotlib.pyplot as plt\n",
    "import seaborn as sns\n",
    "from sqlalchemy import create_engine\n",
    "%matplotlib inline\n",
    "\n",
    "from sklearn.model_selection import train_test_split\n",
    "import statsmodels.api as sm\n",
    "from sklearn.metrics import mean_absolute_error\n",
    "from statsmodels.tools.eval_measures import mse, rmse\n",
    "\n",
    "import warnings\n",
    "warnings.filterwarnings(\"ignore\")"
   ]
  },
  {
   "cell_type": "code",
   "execution_count": 2,
   "metadata": {},
   "outputs": [],
   "source": [
    "postgres_user = 'dsbc_student'\n",
    "postgres_pw = '7*.8G9QH21'\n",
    "postgres_host = '142.93.121.174'\n",
    "postgres_port = '5432'\n",
    "postgres_db = 'houseprices'\n",
    "\n",
    "engine = create_engine('postgresql://{}:{}@{}:{}/{}'.format(\n",
    "    postgres_user, postgres_pw, postgres_host, postgres_port, postgres_db))\n",
    "\n",
    "df = pd.read_sql_query('select * from houseprices',con=engine)\n",
    "\n",
    "engine.dispose()"
   ]
  },
  {
   "cell_type": "markdown",
   "metadata": {},
   "source": [
    "Cleaning..."
   ]
  },
  {
   "cell_type": "code",
   "execution_count": 3,
   "metadata": {},
   "outputs": [],
   "source": [
    "df.drop(columns='id', inplace=True)"
   ]
  },
  {
   "cell_type": "code",
   "execution_count": 4,
   "metadata": {},
   "outputs": [],
   "source": [
    "cat_list = ['mssubclass','mszoning','street','alley','lotshape','landcontour','utilities','lotconfig','landslope','neighborhood','condition1','condition2',\n",
    "            'bldgtype','housestyle','roofstyle','roofmatl','exterior1st','exterior2nd','masvnrtype','exterqual','extercond','foundation','bsmtqual','bsmtcond',\n",
    "            'bsmtexposure','bsmtfintype1','bsmtfintype2','heating','heatingqc','centralair','electrical','kitchenqual','functional','fireplacequ','garagetype',\n",
    "            'garagefinish','garagequal','garagecond','paveddrive','poolqc','fence','miscfeature','saletype','salecondition', 'overallqual', 'overallcond', \n",
    "            'yearbuilt', 'yearremodadd', 'mosold', 'yrsold']\n",
    "for var in cat_list:\n",
    "    df[var] = df[var].astype('category')"
   ]
  },
  {
   "cell_type": "code",
   "execution_count": 5,
   "metadata": {},
   "outputs": [],
   "source": [
    "def add_cat_fillna(variable, new_cat='None'):\n",
    "    df[variable] = df[variable].cat.add_categories(new_cat).fillna(new_cat).copy()"
   ]
  },
  {
   "cell_type": "code",
   "execution_count": 6,
   "metadata": {},
   "outputs": [],
   "source": [
    "nulls_list = ['alley','bsmtqual','bsmtcond','bsmtexposure','bsmtfintype1','bsmtfintype2','fireplacequ','garagetype','garagefinish','garagequal','garagecond',\n",
    "             'poolqc','fence','miscfeature']\n",
    "for var in nulls_list:\n",
    "    add_cat_fillna(var)"
   ]
  },
  {
   "cell_type": "code",
   "execution_count": 7,
   "metadata": {},
   "outputs": [],
   "source": [
    "df.masvnrtype = df.masvnrtype.fillna('None').copy()\n",
    "df.masvnrarea = df.masvnrarea.fillna(0).copy()\n",
    "df.lotfrontage = df.lotfrontage.fillna(df.lotfrontage.median()).copy()\n",
    "df.electrical = df.electrical.fillna(df.electrical.mode()[0]).copy()\n",
    "df.drop(columns='garageyrblt', inplace=True)"
   ]
  },
  {
   "cell_type": "code",
   "execution_count": 8,
   "metadata": {},
   "outputs": [],
   "source": [
    "def outliers_std(data, columns, thresh=2):\n",
    "    outlier_indexes = []\n",
    "    for col in columns:\n",
    "        ser_col = data[col]\n",
    "        mean = ser_col.mean()\n",
    "        sd = ser_col.std()\n",
    "        outliers_mask = data[(data[col] > mean + thresh*sd) | (data[col] < mean - thresh*sd)].index\n",
    "        outlier_indexes += [x for x in outliers_mask]\n",
    "    return list(set(outlier_indexes))"
   ]
  },
  {
   "cell_type": "code",
   "execution_count": 9,
   "metadata": {},
   "outputs": [],
   "source": [
    "df.drop(outliers_std(df, df.describe().columns), inplace=True)"
   ]
  },
  {
   "cell_type": "code",
   "execution_count": 10,
   "metadata": {},
   "outputs": [],
   "source": [
    "def do_it_all(X_data, target):\n",
    "    X_train, X_test, y_train, y_test = train_test_split(X_data, target, test_size=.3, random_state=12)\n",
    "    \n",
    "    X_train = sm.add_constant(X_train)\n",
    "    results = sm.OLS(y_train, X_train).fit()\n",
    "    print(results.summary())\n",
    "    \n",
    "    X_test = sm.add_constant(X_test)\n",
    "    y_preds = results.predict(X_test)\n",
    "    \n",
    "    \n",
    "    plt.scatter(y_test, y_preds)\n",
    "    plt.plot(y_test, y_test, color='red')\n",
    "    plt.xlabel('Actual House Prices')\n",
    "    plt.ylabel('Predicted House Prices')\n",
    "    plt.title('Predicted vs. Actual House Prices')\n",
    "    plt.show()\n",
    "\n",
    "    print(f'MAE: {mean_absolute_error(y_test, y_preds)}')\n",
    "    print(f'MSE: {mse(y_test, y_preds)}')\n",
    "    print(f'RMSE: {rmse(y_test, y_preds)}')\n",
    "    print(f'MAPE: {np.mean(np.abs((y_test - y_preds)/y_test))*100}')"
   ]
  },
  {
   "cell_type": "code",
   "execution_count": 11,
   "metadata": {},
   "outputs": [],
   "source": [
    "data = pd.DataFrame()\n",
    "data['target'] = df.saleprice\n",
    "data['totalsf'] = df.totalbsmtsf + df.firstflrsf + df.secondflrsf\n",
    "data['totalsf_grl_rel'] = (df.totalbsmtsf + df.firstflrsf + df.secondflrsf) * df.grlivarea\n",
    "data['bedroomabvgr'] = df.bedroomabvgr\n",
    "data['bedroomabvgr_sf_rel'] = df.bedroomabvgr * (df.totalbsmtsf + df.firstflrsf + df.secondflrsf)\n",
    "data['garagearea'] = df.garagearea\n",
    "data['selling_age'] = df.yrsold.astype('int') - df.yearbuilt.astype('int')\n",
    "data = data.join(pd.get_dummies(df.mszoning, prefix='mszoning', drop_first=True))\n",
    "data = data.join(pd.get_dummies(df.mssubclass, prefix='mssubclass', drop_first=True))\n",
    "data.drop(columns=['mszoning_RH', 'mszoning_RM'], inplace=True)\n",
    "data.drop(columns=['mssubclass_40', 'mssubclass_50', 'mssubclass_60', 'mssubclass_75', 'mssubclass_80', 'mssubclass_85', 'mssubclass_90',\n",
    "                   'mssubclass_120', 'mssubclass_180', 'mssubclass_190', 'mssubclass_30', 'mssubclass_45'], inplace=True)\n",
    "data['overallqual'] = df.overallqual.astype(int)\n",
    "data['overallcond'] = df.overallcond.astype(int)\n",
    "data['sf_qual_rel'] = (df.totalbsmtsf + df.firstflrsf + df.secondflrsf) * df.overallqual.astype(int)"
   ]
  },
  {
   "cell_type": "code",
   "execution_count": 12,
   "metadata": {},
   "outputs": [
    {
     "name": "stdout",
     "output_type": "stream",
     "text": [
      "                            OLS Regression Results                            \n",
      "==============================================================================\n",
      "Dep. Variable:                 target   R-squared:                       0.874\n",
      "Model:                            OLS   Adj. R-squared:                  0.870\n",
      "Method:                 Least Squares   F-statistic:                     222.7\n",
      "Date:                Mon, 11 Nov 2019   Prob (F-statistic):          2.38e-178\n",
      "Time:                        17:23:31   Log-Likelihood:                -4827.0\n",
      "No. Observations:                 431   AIC:                             9682.\n",
      "Df Residuals:                     417   BIC:                             9739.\n",
      "Df Model:                          13                                         \n",
      "Covariance Type:            nonrobust                                         \n",
      "=======================================================================================\n",
      "                          coef    std err          t      P>|t|      [0.025      0.975]\n",
      "---------------------------------------------------------------------------------------\n",
      "const                1.158e+05   3.01e+04      3.843      0.000    5.65e+04    1.75e+05\n",
      "totalsf               -38.8719     12.290     -3.163      0.002     -63.029     -14.715\n",
      "totalsf_grl_rel         0.0160      0.002      7.408      0.000       0.012       0.020\n",
      "bedroomabvgr         1.766e+04   8346.901      2.116      0.035    1250.733    3.41e+04\n",
      "bedroomabvgr_sf_rel    -9.2693      3.534     -2.623      0.009     -16.217      -2.322\n",
      "garagearea             18.9244      7.330      2.582      0.010       4.516      33.333\n",
      "selling_age          -532.6281     51.144    -10.414      0.000    -633.160    -432.096\n",
      "mszoning_FV          2.212e+04   5109.188      4.329      0.000    1.21e+04    3.22e+04\n",
      "mszoning_RL          7354.4336   2925.371      2.514      0.012    1604.122    1.31e+04\n",
      "mssubclass_70        1.053e+04   5197.686      2.026      0.043     315.475    2.07e+04\n",
      "mssubclass_160      -2.397e+04   5555.961     -4.313      0.000   -3.49e+04    -1.3e+04\n",
      "overallqual         -1.577e+04   3931.884     -4.011      0.000   -2.35e+04   -8042.519\n",
      "overallcond          6805.0519    985.125      6.908      0.000    4868.622    8741.482\n",
      "sf_qual_rel            10.9469      1.586      6.902      0.000       7.829      14.065\n",
      "==============================================================================\n",
      "Omnibus:                       49.111   Durbin-Watson:                   2.041\n",
      "Prob(Omnibus):                  0.000   Jarque-Bera (JB):              186.362\n",
      "Skew:                          -0.425   Prob(JB):                     3.40e-41\n",
      "Kurtosis:                       6.107   Cond. No.                     1.29e+08\n",
      "==============================================================================\n",
      "\n",
      "Warnings:\n",
      "[1] Standard Errors assume that the covariance matrix of the errors is correctly specified.\n",
      "[2] The condition number is large, 1.29e+08. This might indicate that there are\n",
      "strong multicollinearity or other numerical problems.\n"
     ]
    },
    {
     "data": {
      "image/png": "[encoded data removed]",
      "text/plain": [
       "<Figure size 432x288 with 1 Axes>"
      ]
     },
     "metadata": {
      "needs_background": "light"
     },
     "output_type": "display_data"
    },
    {
     "name": "stdout",
     "output_type": "stream",
     "text": [
      "MAE: 12176.827366736465\n",
      "MSE: 273365577.78924114\n",
      "RMSE: 16533.770827891654\n",
      "MAPE: 7.917380402260717\n"
     ]
    }
   ],
   "source": [
    "target1 = data['target']\n",
    "X_data1 = data.iloc[:, 1:]\n",
    "do_it_all(X_data1, target1)"
   ]
  },
  {
   "cell_type": "code",
   "execution_count": 13,
   "metadata": {},
   "outputs": [],
   "source": [
    "from sklearn.linear_model import RidgeCV, LassoCV, ElasticNetCV"
   ]
  },
  {
   "cell_type": "code",
   "execution_count": 14,
   "metadata": {},
   "outputs": [],
   "source": [
    "ridgecv = RidgeCV(alphas=np.logspace(-20, 20, 13), normalize=True)\n",
    "lassocv = LassoCV(normalize=True)\n",
    "elastcv = ElasticNetCV(l1_ratio=[0.000000000001, .1, .5, .7, .9, .95, .99, 1], normalize=True)"
   ]
  },
  {
   "cell_type": "code",
   "execution_count": 15,
   "metadata": {},
   "outputs": [],
   "source": [
    "X_train, X_test, y_train, y_test = train_test_split(X_data1, target1, test_size=.3, random_state=12)"
   ]
  },
  {
   "cell_type": "code",
   "execution_count": 16,
   "metadata": {},
   "outputs": [
    {
     "data": {
      "text/plain": [
       "RidgeCV(alphas=array([1.00000000e-20, 2.15443469e-17, 4.64158883e-14, 1.00000000e-10,\n",
       "       2.15443469e-07, 4.64158883e-04, 1.00000000e+00, 2.15443469e+03,\n",
       "       4.64158883e+06, 1.00000000e+10, 2.15443469e+13, 4.64158883e+16,\n",
       "       1.00000000e+20]),\n",
       "        cv=None, fit_intercept=True, gcv_mode=None, normalize=True,\n",
       "        scoring=None, store_cv_values=False)"
      ]
     },
     "execution_count": 16,
     "metadata": {},
     "output_type": "execute_result"
    }
   ],
   "source": [
    "ridgecv.fit(X_data1, target1)"
   ]
  },
  {
   "cell_type": "code",
   "execution_count": 17,
   "metadata": {},
   "outputs": [
    {
     "data": {
      "text/plain": [
       "0.00046415888336127914"
      ]
     },
     "execution_count": 17,
     "metadata": {},
     "output_type": "execute_result"
    }
   ],
   "source": [
    "ridgecv.alpha_"
   ]
  },
  {
   "cell_type": "code",
   "execution_count": 18,
   "metadata": {},
   "outputs": [
    {
     "data": {
      "text/plain": [
       "LassoCV(alphas=None, copy_X=True, cv='warn', eps=0.001, fit_intercept=True,\n",
       "        max_iter=1000, n_alphas=100, n_jobs=None, normalize=True,\n",
       "        positive=False, precompute='auto', random_state=None,\n",
       "        selection='cyclic', tol=0.0001, verbose=False)"
      ]
     },
     "execution_count": 18,
     "metadata": {},
     "output_type": "execute_result"
    }
   ],
   "source": [
    "lassocv.fit(X_data1, target1)"
   ]
  },
  {
   "cell_type": "code",
   "execution_count": 19,
   "metadata": {},
   "outputs": [
    {
     "data": {
      "text/plain": [
       "1.7419337643983486"
      ]
     },
     "execution_count": 19,
     "metadata": {},
     "output_type": "execute_result"
    }
   ],
   "source": [
    "lassocv.alpha_"
   ]
  },
  {
   "cell_type": "code",
   "execution_count": 20,
   "metadata": {},
   "outputs": [
    {
     "data": {
      "text/plain": [
       "ElasticNetCV(alphas=None, copy_X=True, cv='warn', eps=0.001, fit_intercept=True,\n",
       "             l1_ratio=[1e-12, 0.1, 0.5, 0.7, 0.9, 0.95, 0.99, 1], max_iter=1000,\n",
       "             n_alphas=100, n_jobs=None, normalize=True, positive=False,\n",
       "             precompute='auto', random_state=None, selection='cyclic',\n",
       "             tol=0.0001, verbose=0)"
      ]
     },
     "execution_count": 20,
     "metadata": {},
     "output_type": "execute_result"
    }
   ],
   "source": [
    "elastcv.fit(X_data1, target1)"
   ]
  },
  {
   "cell_type": "code",
   "execution_count": 21,
   "metadata": {},
   "outputs": [
    {
     "data": {
      "text/plain": [
       "(1.7419337643983486, 1.0)"
      ]
     },
     "execution_count": 21,
     "metadata": {},
     "output_type": "execute_result"
    }
   ],
   "source": [
    "elastcv.alpha_, elastcv.l1_ratio_"
   ]
  },
  {
   "cell_type": "code",
   "execution_count": 22,
   "metadata": {},
   "outputs": [],
   "source": [
    "ridge_y_train = ridgecv.predict(X_train)\n",
    "ridge_y_test = ridgecv.predict(X_test)\n",
    "\n",
    "lasso_y_train = lassocv.predict(X_train)\n",
    "lasso_y_test = lassocv.predict(X_test)\n",
    "\n",
    "elast_y_train = elastcv.predict(X_train)\n",
    "elast_y_test = elastcv.predict(X_test)"
   ]
  },
  {
   "cell_type": "code",
   "execution_count": 23,
   "metadata": {},
   "outputs": [
    {
     "name": "stdout",
     "output_type": "stream",
     "text": [
      "R-squared of the model in the training set is: 0.8728664338652085\n",
      "-----Test set statistics-----\n",
      "R-squared of the model in the test set is: 0.8823365274572776\n",
      "Mean absolute error of the prediction is: 11905.786723306315\n",
      "Mean squared error of the prediction is: 256661203.7848922\n",
      "Root mean squared error of the prediction is: 16020.649293486584\n",
      "Mean absolute percentage error of the prediction is: 7.714636007393608\n"
     ]
    }
   ],
   "source": [
    "print(\"R-squared of the model in the training set is: {}\".format(ridgecv.score(X_train, y_train)))\n",
    "print(\"-----Test set statistics-----\")\n",
    "print(\"R-squared of the model in the test set is: {}\".format(ridgecv.score(X_test, y_test)))\n",
    "print(\"Mean absolute error of the prediction is: {}\".format(mean_absolute_error(y_test, ridge_y_test)))\n",
    "print(\"Mean squared error of the prediction is: {}\".format(mse(y_test, ridge_y_test)))\n",
    "print(\"Root mean squared error of the prediction is: {}\".format(rmse(y_test, ridge_y_test)))\n",
    "print(\"Mean absolute percentage error of the prediction is: {}\".format(np.mean(np.abs((y_test - ridge_y_test) / y_test)) * 100))"
   ]
  },
  {
   "cell_type": "code",
   "execution_count": 24,
   "metadata": {},
   "outputs": [
    {
     "name": "stdout",
     "output_type": "stream",
     "text": [
      "R-squared of the model in the training set is: 0.8723457013418716\n",
      "-----Test set statistics-----\n",
      "R-squared of the model in the test set is: 0.882136710333806\n",
      "Mean absolute error of the prediction is: 11894.023216858921\n",
      "Mean squared error of the prediction is: 257097068.05388543\n",
      "Root mean squared error of the prediction is: 16034.246725489958\n",
      "Mean absolute percentage error of the prediction is: 7.670872550209936\n"
     ]
    }
   ],
   "source": [
    "print(\"R-squared of the model in the training set is: {}\".format(lassocv.score(X_train, y_train)))\n",
    "print(\"-----Test set statistics-----\")\n",
    "print(\"R-squared of the model in the test set is: {}\".format(lassocv.score(X_test, y_test)))\n",
    "print(\"Mean absolute error of the prediction is: {}\".format(mean_absolute_error(y_test, lasso_y_test)))\n",
    "print(\"Mean squared error of the prediction is: {}\".format(mse(y_test, lasso_y_test)))\n",
    "print(\"Root mean squared error of the prediction is: {}\".format(rmse(y_test, lasso_y_test)))\n",
    "print(\"Mean absolute percentage error of the prediction is: {}\".format(np.mean(np.abs((y_test - lasso_y_test) / y_test)) * 100))"
   ]
  },
  {
   "cell_type": "code",
   "execution_count": 25,
   "metadata": {},
   "outputs": [
    {
     "name": "stdout",
     "output_type": "stream",
     "text": [
      "R-squared of the model in the training set is: 0.8723457013418716\n",
      "-----Test set statistics-----\n",
      "R-squared of the model in the test set is: 0.882136710333806\n",
      "Mean absolute error of the prediction is: 11894.023216858921\n",
      "Mean squared error of the prediction is: 257097068.05388543\n",
      "Root mean squared error of the prediction is: 16034.246725489958\n",
      "Mean absolute percentage error of the prediction is: 7.670872550209936\n"
     ]
    }
   ],
   "source": [
    "print(\"R-squared of the model in the training set is: {}\".format(elastcv.score(X_train, y_train)))\n",
    "print(\"-----Test set statistics-----\")\n",
    "print(\"R-squared of the model in the test set is: {}\".format(elastcv.score(X_test, y_test)))\n",
    "print(\"Mean absolute error of the prediction is: {}\".format(mean_absolute_error(y_test, elast_y_test)))\n",
    "print(\"Mean squared error of the prediction is: {}\".format(mse(y_test, elast_y_test)))\n",
    "print(\"Root mean squared error of the prediction is: {}\".format(rmse(y_test, elast_y_test)))\n",
    "print(\"Mean absolute percentage error of the prediction is: {}\".format(np.mean(np.abs((y_test - elast_y_test) / y_test)) * 100))"
   ]
  },
  {
   "cell_type": "markdown",
   "metadata": {},
   "source": [
    "After normalization, it looks like both methods come up with practically the same results (ElasticNet simply defaults to Lasso since L1_Ratio cannot be zero). The Ridge method appears to slightly edge the Lasso and ElasticNet method when it comes to R-squared values (but the difference is miniscule). All the other evaluation metrics are also nearly identical, but it looks like the Lasso method is better in every aspect except R-square (also by a miniscule amount). It appears that both these methods should obtain relatively optimal results."
   ]
  }
 ],
 "metadata": {
  "kernelspec": {
   "display_name": "Python 3",
   "language": "python",
   "name": "python3"
  },
  "language_info": {
   "codemirror_mode": {
    "name": "ipython",
    "version": 3
   },
   "file_extension": ".py",
   "mimetype": "text/x-python",
   "name": "python",
   "nbconvert_exporter": "python",
   "pygments_lexer": "ipython3",
   "version": "3.7.0"
  }
 },
 "nbformat": 4,
 "nbformat_minor": 4
}
