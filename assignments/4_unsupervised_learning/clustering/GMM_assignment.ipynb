{
 "cells": [
  {
   "cell_type": "markdown",
   "metadata": {},
   "source": [
    "# Assignment\n",
    "To complete this assignment, submit a link to a Jupyter notebook containing your solutions to the following tasks below, and plan on discussing with your mentor. You can also take a look at these example solutions.\n",
    "\n",
    "1. Get the silhouette coefficient of the two cluster k-means solution. You'll notice that the silhouette coefficient will turn out to be greater than the one above where cluster number is three. We know that the Iris dataset consists of three different clusters. How do you explain that the silhouette score of the solution with the number of clusters being equal to the correct number of classes is lower than the one where the number of clusters is different from the correct number of classes?\n",
    "\n",
    "2. In this assignment, you'll be working with the heart disease dataset from the UC Irvine Machine Learning Repository.\n",
    "\n",
    "Load the dataset from the Thinkful's database. Here's the credentials you can use to connect to the database:\n",
    "\n",
    "        postgres_user = 'dsbc_student'\n",
    "        postgres_pw = '7*.8G9QH21'\n",
    "        postgres_host = '142.93.121.174'\n",
    "        postgres_port = '5432'\n",
    "        postgres_db = 'heartdisease'\n",
    "        \n",
    "The dataset needs some preprocessing. So, apply the following code before working with the dataset:\n",
    "\n",
    "Define the features and the outcome\n",
    "\n",
    "        X = heartdisease_df.iloc[:, :13]\n",
    "        y = heartdisease_df.iloc[:, 13]\n",
    "\n",
    "Replace missing values (marked by ?) with a 0\n",
    "\n",
    "        X = X.replace(to_replace='?', value=0)\n",
    "\n",
    "Binarize y so that 1 means heart disease diagnosis and 0 means no diagnosis\n",
    "\n",
    "        y = np.where(y > 0, 0, 1)\n",
    "        \n",
    "Here, X will be your features and in y we hold the labels. If y is equal to 1, then it indicates that the corresponding patient has heart disease and if y is equal to 0, then the patient doesn't have heart disease.\n",
    "\n",
    "1. Apply GMM to the heart disease data by setting n_components=2. Get ARI and silhoutte scores for your solution and compare it with those of the k-means and hierarchical clustering solutions that you implemented in the assignments of the previous checkpoints. Which algorithm does perform better?\n",
    "\n",
    "2. GMM implementation of scikit-learn has a parameter called covariance_type. This parameter determines the type of covariance parameters to use. Specifically, there are four types you can specify:\n",
    "\n",
    "    1. full: This is the default. Each component has its own general covariance matrix.\n",
    "    2. tied: All components share the same general covariance matrix.\n",
    "    3. diag: Each component has its own diagonal covariance matrix.\n",
    "    4. spherical: Each component has its own single variance.\n",
    "    \n",
    "Try all of these. Which one does perform better in terms of ARI and silhouette scores?"
   ]
  },
  {
   "cell_type": "code",
   "execution_count": 1,
   "metadata": {},
   "outputs": [],
   "source": [
    "import numpy as np\n",
    "import pandas as pd\n",
    "import matplotlib.pyplot as plt\n",
    "from matplotlib.patches import Ellipse\n",
    "from sklearn.preprocessing import StandardScaler\n",
    "from sklearn.mixture import GaussianMixture\n",
    "from sklearn.decomposition import PCA\n",
    "from sklearn import datasets, metrics\n",
    "from sqlalchemy import create_engine"
   ]
  },
  {
   "cell_type": "code",
   "execution_count": 2,
   "metadata": {},
   "outputs": [],
   "source": [
    "postgres_user = 'dsbc_student'\n",
    "postgres_pw = '7*.8G9QH21'\n",
    "postgres_host = '142.93.121.174'\n",
    "postgres_port = '5432'\n",
    "postgres_db = 'heartdisease'\n",
    "\n",
    "engine = create_engine('postgresql://{}:{}@{}:{}/{}'.format(postgres_user, postgres_pw, postgres_host, postgres_port, postgres_db))\n",
    "heart_disease = engine.execute('SELECT * FROM heartdisease').fetchall()\n",
    "engine.dispose()"
   ]
  },
  {
   "cell_type": "code",
   "execution_count": 3,
   "metadata": {},
   "outputs": [],
   "source": [
    "heartdisease_df = pd.DataFrame(heart_disease)\n",
    "X = heartdisease_df.iloc[:, :13]\n",
    "y = heartdisease_df.iloc[:, 13]\n",
    "X = X.replace(to_replace='?', value=0)\n",
    "y = np.where(y > 0, 0, 1)"
   ]
  },
  {
   "cell_type": "code",
   "execution_count": 6,
   "metadata": {},
   "outputs": [],
   "source": [
    "X_std = StandardScaler().fit_transform(X)\n",
    "X_pca = PCA(n_components=2).fit_transform(X_std)"
   ]
  },
  {
   "cell_type": "markdown",
   "metadata": {},
   "source": [
    "# #1\n",
    "Apply GMM to the heart disease data by setting n_components=2. Get ARI and silhoutte scores for your solution and compare it with those of the k-means and hierarchical clustering solutions that you implemented in the assignments of the previous checkpoints. Which algorithm does perform better?"
   ]
  },
  {
   "cell_type": "code",
   "execution_count": 7,
   "metadata": {},
   "outputs": [],
   "source": [
    "gmm_cluster = GaussianMixture(n_components=2)"
   ]
  },
  {
   "cell_type": "code",
   "execution_count": 8,
   "metadata": {},
   "outputs": [],
   "source": [
    "clusters = gmm_cluster.fit_predict(X_std)"
   ]
  },
  {
   "cell_type": "code",
   "execution_count": 9,
   "metadata": {},
   "outputs": [
    {
     "data": {
      "text/plain": [
       "0.4207322145049338"
      ]
     },
     "execution_count": 9,
     "metadata": {},
     "output_type": "execute_result"
    }
   ],
   "source": [
    "metrics.adjusted_rand_score(y, clusters)"
   ]
  },
  {
   "cell_type": "code",
   "execution_count": 10,
   "metadata": {},
   "outputs": [
    {
     "data": {
      "text/plain": [
       "0.16118591340148433"
      ]
     },
     "execution_count": 10,
     "metadata": {},
     "output_type": "execute_result"
    }
   ],
   "source": [
    "metrics.silhouette_score(X_std, clusters)"
   ]
  },
  {
   "cell_type": "markdown",
   "metadata": {},
   "source": [
    "# #2\n",
    "GMM implementation of scikit-learn has a parameter called covariance_type. This parameter determines the type of covariance parameters to use. Specifically, there are four types you can specify:\n",
    "\n",
    "1. full: This is the default. Each component has its own general covariance matrix.\n",
    "2. tied: All components share the same general covariance matrix.\n",
    "3. diag: Each component has its own diagonal covariance matrix.\n",
    "4. spherical: Each component has its own single variance.\n",
    "\n",
    "Try all of these. Which one does perform better in terms of ARI and silhouette scores?"
   ]
  },
  {
   "cell_type": "code",
   "execution_count": 11,
   "metadata": {},
   "outputs": [],
   "source": [
    "cov_types = ['full', 'tied', 'diag', 'spherical']"
   ]
  },
  {
   "cell_type": "code",
   "execution_count": 13,
   "metadata": {},
   "outputs": [
    {
     "name": "stdout",
     "output_type": "stream",
     "text": [
      "Covariance Type: full\n",
      "ARI: 0.4207322145049338\n",
      "Silhouette: 0.16118591340148433\n",
      "\n",
      "Covariance Type: tied\n",
      "ARI: 0.4558104186161976\n",
      "Silhouette: 0.1671559472293439\n",
      "\n",
      "Covariance Type: diag\n",
      "ARI: 0.3870024156200561\n",
      "Silhouette: 0.1604139815113049\n",
      "\n",
      "Covariance Type: spherical\n",
      "ARI: 0.20765243525722465\n",
      "Silhouette: 0.12468753110276876\n",
      "\n"
     ]
    }
   ],
   "source": [
    "for cov_type in cov_types:\n",
    "    clusters = GaussianMixture(n_components=2, covariance_type=cov_type).fit_predict(X_std)\n",
    "    print('Covariance Type: {}'.format(cov_type))\n",
    "    print('ARI: {}'.format(metrics.adjusted_rand_score(y, clusters)))\n",
    "    print('Silhouette: {}'.format(metrics.silhouette_score(X_std, clusters)))\n",
    "    print()"
   ]
  },
  {
   "cell_type": "markdown",
   "metadata": {},
   "source": [
    "In both cases the 'tied' covariance type holds the highest score."
   ]
  }
 ],
 "metadata": {
  "kernelspec": {
   "display_name": "Python 3",
   "language": "python",
   "name": "python3"
  },
  "language_info": {
   "codemirror_mode": {
    "name": "ipython",
    "version": 3
   },
   "file_extension": ".py",
   "mimetype": "text/x-python",
   "name": "python",
   "nbconvert_exporter": "python",
   "pygments_lexer": "ipython3",
   "version": "3.7.4"
  }
 },
 "nbformat": 4,
 "nbformat_minor": 4
}
