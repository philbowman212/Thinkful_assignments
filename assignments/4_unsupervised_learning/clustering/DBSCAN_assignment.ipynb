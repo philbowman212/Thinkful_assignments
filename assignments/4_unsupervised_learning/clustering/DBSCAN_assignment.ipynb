{
 "cells": [
  {
   "cell_type": "markdown",
   "metadata": {},
   "source": [
    "# Assignment\n",
    "In this assignment, you'll be working with the heart disease dataset from the UC Irvine Machine Learning Repository.\n",
    "\n",
    "- Load the dataset from the Thinkful's database. Here's the credentials you can use to connect to the database:\n",
    "        postgres_user = 'dsbc_student'\n",
    "        postgres_pw = '7*.8G9QH21'\n",
    "        postgres_host = '142.93.121.174'\n",
    "        postgres_port = '5432'\n",
    "        postgres_db = 'heartdisease'\n",
    "- The dataset needs some preprocessing. So, apply the following code before working with the dataset:\n",
    "        # Define the features and the outcome\n",
    "        X = heartdisease_df.iloc[:, :13]\n",
    "        y = heartdisease_df.iloc[:, 13]\n",
    "\n",
    "        # Replace missing values (marked by ?) with a 0\n",
    "        X = X.replace(to_replace='?', value=0)\n",
    "\n",
    "        # Binarize y so that 1 means heart disease diagnosis and 0 means no diagnosis\n",
    "        y = np.where(y > 0, 0, 1)\n",
    "        \n",
    "Here, X will be your features and in y we hold the labels. If y is equal to 1, then it indicates that the corresponding patient has heart disease and if y is equal to 0, then the patient doesn't have heart disease.\n",
    "\n",
    "To complete this assignment, submit a link to a Jupyter notebook containing your solutions to the following tasks below, and plan on discussing with your mentor. You can also take a look at these example solutions.\n",
    "\n",
    "1. Apply DBSCAN to the heart disease data by trying different values for eps and min_samples parameters. You'll realize that it's really hard to get a two cluster solution using DBSCAN if not impossible.\n",
    "2. Apply DBSCAN by setting parameters eps=1, min_samples=1, metric=\"euclidean\". Then, increase the value of min_samples. What's the effect of increasing min_samples on the number of clusters DBSCAN identifies?\n",
    "3. Apply DBSCAN by setting parameters eps=1, min_samples=1, metric=\"euclidean\". Then, increase the value of eps. What's the effect of increasing eps on the number of clusters DBSCAN identifies?"
   ]
  },
  {
   "cell_type": "code",
   "execution_count": 8,
   "metadata": {},
   "outputs": [],
   "source": [
    "import matplotlib.pyplot as plt\n",
    "import pandas as pd\n",
    "import numpy as np\n",
    "from sklearn.preprocessing import StandardScaler\n",
    "from sklearn.cluster import DBSCAN\n",
    "from sklearn.decomposition import PCA\n",
    "from sklearn import datasets, metrics\n",
    "from sqlalchemy import create_engine"
   ]
  },
  {
   "cell_type": "code",
   "execution_count": 4,
   "metadata": {},
   "outputs": [],
   "source": [
    "postgres_user = 'dsbc_student'\n",
    "postgres_pw = '7*.8G9QH21'\n",
    "postgres_host = '142.93.121.174'\n",
    "postgres_port = '5432'\n",
    "postgres_db = 'heartdisease'\n",
    "\n",
    "engine = create_engine('postgresql://{}:{}@{}:{}/{}'.format(postgres_user, postgres_pw, postgres_host, postgres_port, postgres_db))\n",
    "heart_disease = engine.execute('SELECT * FROM heartdisease').fetchall()\n",
    "engine.dispose()"
   ]
  },
  {
   "cell_type": "code",
   "execution_count": 9,
   "metadata": {},
   "outputs": [],
   "source": [
    "heartdisease_df = pd.DataFrame(heart_disease)\n",
    "X = heartdisease_df.iloc[:, :13]\n",
    "y = heartdisease_df.iloc[:, 13]\n",
    "X = X.replace(to_replace='?', value=0)\n",
    "y = np.where(y > 0, 0, 1)"
   ]
  },
  {
   "cell_type": "code",
   "execution_count": 10,
   "metadata": {},
   "outputs": [],
   "source": [
    "scaler = StandardScaler()"
   ]
  },
  {
   "cell_type": "code",
   "execution_count": 12,
   "metadata": {},
   "outputs": [],
   "source": [
    "X_std = scaler.fit_transform(X)"
   ]
  },
  {
   "cell_type": "markdown",
   "metadata": {},
   "source": [
    "# #1"
   ]
  },
  {
   "cell_type": "code",
   "execution_count": 41,
   "metadata": {},
   "outputs": [
    {
     "data": {
      "text/plain": [
       "1"
      ]
     },
     "execution_count": 41,
     "metadata": {},
     "output_type": "execute_result"
    }
   ],
   "source": [
    "len(pd.Series(DBSCAN().fit_predict(X_std)).unique())"
   ]
  },
  {
   "cell_type": "code",
   "execution_count": 30,
   "metadata": {},
   "outputs": [],
   "source": [
    "eps_params = np.arange(.1, 10.1, .1)\n",
    "min_params = range(1, 11, 1)"
   ]
  },
  {
   "cell_type": "code",
   "execution_count": 65,
   "metadata": {},
   "outputs": [],
   "source": [
    "possible_combos = []\n",
    "for eps in eps_params:\n",
    "    for min_p in min_params:\n",
    "        preds = DBSCAN(eps=eps, min_samples=min_p).fit_predict(X_std)\n",
    "        accuracy = (preds == y).mean()\n",
    "        no_groups = len(pd.Series(preds).unique())\n",
    "        uniques = [x for x in pd.Series(preds).unique()]\n",
    "        if (no_groups == 3 and 2 not in uniques) or (no_groups == 2 and -1 not in uniques):           \n",
    "            possible_combos.append((eps, min_p, metrics.adjusted_rand_score(y, preds)))"
   ]
  },
  {
   "cell_type": "code",
   "execution_count": 75,
   "metadata": {},
   "outputs": [
    {
     "data": {
      "text/plain": [
       "0.16537486397151183"
      ]
     },
     "execution_count": 75,
     "metadata": {},
     "output_type": "execute_result"
    }
   ],
   "source": [
    "max([x[2] for x in possible_combos])"
   ]
  },
  {
   "cell_type": "code",
   "execution_count": 77,
   "metadata": {},
   "outputs": [
    {
     "name": "stdout",
     "output_type": "stream",
     "text": [
      "2.5000000000000004 8 0.1518539374364039\n",
      "2.6 10 0.16537486397151183\n"
     ]
    }
   ],
   "source": [
    "for x in possible_combos:\n",
    "    if x[2] > .15:\n",
    "        print(x[0], x[1], x[2])"
   ]
  },
  {
   "cell_type": "code",
   "execution_count": 78,
   "metadata": {},
   "outputs": [],
   "source": [
    "best_preds = DBSCAN(eps=2.6, min_samples=10).fit_predict(X_std)"
   ]
  },
  {
   "cell_type": "code",
   "execution_count": 81,
   "metadata": {},
   "outputs": [
    {
     "data": {
      "text/html": [
       "<div>\n",
       "<style scoped>\n",
       "    .dataframe tbody tr th:only-of-type {\n",
       "        vertical-align: middle;\n",
       "    }\n",
       "\n",
       "    .dataframe tbody tr th {\n",
       "        vertical-align: top;\n",
       "    }\n",
       "\n",
       "    .dataframe thead th {\n",
       "        text-align: right;\n",
       "    }\n",
       "</style>\n",
       "<table border=\"1\" class=\"dataframe\">\n",
       "  <thead>\n",
       "    <tr style=\"text-align: right;\">\n",
       "      <th>col_0</th>\n",
       "      <th>-1</th>\n",
       "      <th>0</th>\n",
       "      <th>1</th>\n",
       "    </tr>\n",
       "    <tr>\n",
       "      <th>row_0</th>\n",
       "      <th></th>\n",
       "      <th></th>\n",
       "      <th></th>\n",
       "    </tr>\n",
       "  </thead>\n",
       "  <tbody>\n",
       "    <tr>\n",
       "      <th>0</th>\n",
       "      <td>81</td>\n",
       "      <td>43</td>\n",
       "      <td>15</td>\n",
       "    </tr>\n",
       "    <tr>\n",
       "      <th>1</th>\n",
       "      <td>60</td>\n",
       "      <td>9</td>\n",
       "      <td>95</td>\n",
       "    </tr>\n",
       "  </tbody>\n",
       "</table>\n",
       "</div>"
      ],
      "text/plain": [
       "col_0  -1   0   1\n",
       "row_0            \n",
       "0      81  43  15\n",
       "1      60   9  95"
      ]
     },
     "execution_count": 81,
     "metadata": {},
     "output_type": "execute_result"
    }
   ],
   "source": [
    "pd.crosstab(y, best_preds)"
   ]
  },
  {
   "cell_type": "markdown",
   "metadata": {},
   "source": [
    "Best I think I can do with this, it thinks there is a lot of noise, but when it isn't detected as noise, it categorizes pretty well."
   ]
  },
  {
   "cell_type": "markdown",
   "metadata": {},
   "source": [
    "# #2 \n",
    "Apply DBSCAN by setting parameters eps=1, min_samples=1, metric=\"euclidean\". Then, increase the value of min_samples. What's the effect of increasing min_samples on the number of clusters DBSCAN identifies?"
   ]
  },
  {
   "cell_type": "code",
   "execution_count": 102,
   "metadata": {},
   "outputs": [],
   "source": [
    "x_y = []\n",
    "for i in range(1, 31):\n",
    "    preds = DBSCAN(eps=1, min_samples=i, metric='euclidean').fit_predict(X_std)\n",
    "    clusters = len(pd.Series(preds).unique())\n",
    "    x_y.append((i, clusters))"
   ]
  },
  {
   "cell_type": "code",
   "execution_count": 108,
   "metadata": {},
   "outputs": [
    {
     "data": {
      "image/png": "[encoded data removed]",
      "text/plain": [
       "<Figure size 1440x504 with 1 Axes>"
      ]
     },
     "metadata": {
      "needs_background": "light"
     },
     "output_type": "display_data"
    }
   ],
   "source": [
    "plt.figure(figsize=(20, 7))\n",
    "plt.plot([x[0] for x in x_y], [y[1] for y in x_y], marker='o')\n",
    "plt.xlabel('min_samples')\n",
    "plt.xticks(ticks=range(1,31),labels=range(1,31))\n",
    "plt.ylim(0, 300)\n",
    "plt.yticks(ticks=range(0,310,10), labels=range(0,310, 10))\n",
    "plt.ylabel('# clusters')\n",
    "plt.grid()\n",
    "plt.show()"
   ]
  },
  {
   "cell_type": "markdown",
   "metadata": {},
   "source": [
    "# #3\n",
    "Apply DBSCAN by setting parameters eps=1, min_samples=1, metric=\"euclidean\". Then, increase the value of eps. What's the effect of increasing eps on the number of clusters DBSCAN identifies?"
   ]
  },
  {
   "cell_type": "code",
   "execution_count": 110,
   "metadata": {},
   "outputs": [],
   "source": [
    "x_y = []\n",
    "for i in range(1, 31):\n",
    "    preds = DBSCAN(eps=i, min_samples=1, metric='euclidean').fit_predict(X_std)\n",
    "    clusters = len(pd.Series(preds).unique())\n",
    "    x_y.append((i, clusters))"
   ]
  },
  {
   "cell_type": "code",
   "execution_count": 111,
   "metadata": {},
   "outputs": [
    {
     "data": {
      "image/png": "[encoded data removed]",
      "text/plain": [
       "<Figure size 1440x504 with 1 Axes>"
      ]
     },
     "metadata": {
      "needs_background": "light"
     },
     "output_type": "display_data"
    }
   ],
   "source": [
    "plt.figure(figsize=(20, 7))\n",
    "plt.plot([x[0] for x in x_y], [y[1] for y in x_y], marker='o')\n",
    "plt.xlabel('epsilon')\n",
    "plt.xticks(ticks=range(1,31),labels=range(1,31))\n",
    "plt.ylim(0, 300)\n",
    "plt.yticks(ticks=range(0,310,10), labels=range(0,310, 10))\n",
    "plt.ylabel('# clusters')\n",
    "plt.grid()\n",
    "plt.show()"
   ]
  },
  {
   "cell_type": "markdown",
   "metadata": {},
   "source": [
    "# Extra"
   ]
  },
  {
   "cell_type": "code",
   "execution_count": 115,
   "metadata": {},
   "outputs": [],
   "source": [
    "possible_combos = []\n",
    "for eps in eps_params:\n",
    "    for min_p in min_params:\n",
    "        preds = DBSCAN(eps=eps, min_samples=min_p).fit_predict(X_std)\n",
    "        accuracy = (preds == y).mean()\n",
    "        no_groups = len(pd.Series(preds).unique())\n",
    "        uniques = [x for x in pd.Series(preds).unique()]\n",
    "        if (no_groups == 2 and -1 not in uniques):           \n",
    "            possible_combos.append((preds, eps, min_p, metrics.adjusted_rand_score(y, preds)))"
   ]
  },
  {
   "cell_type": "code",
   "execution_count": 117,
   "metadata": {},
   "outputs": [
    {
     "name": "stdout",
     "output_type": "stream",
     "text": [
      "col_0    0  1\n",
      "row_0        \n",
      "0      139  0\n",
      "1      163  1\n",
      "col_0    0  1\n",
      "row_0        \n",
      "0      139  0\n",
      "1      163  1\n",
      "col_0    0  1\n",
      "row_0        \n",
      "0      139  0\n",
      "1      163  1\n"
     ]
    }
   ],
   "source": [
    "for pred, eps, min_p, ari in possible_combos:\n",
    "    print(pd.crosstab(y, pred))"
   ]
  },
  {
   "cell_type": "markdown",
   "metadata": {},
   "source": [
    "No great sol'n here, best was probably what was found in question 1."
   ]
  }
 ],
 "metadata": {
  "kernelspec": {
   "display_name": "Python 3",
   "language": "python",
   "name": "python3"
  },
  "language_info": {
   "codemirror_mode": {
    "name": "ipython",
    "version": 3
   },
   "file_extension": ".py",
   "mimetype": "text/x-python",
   "name": "python",
   "nbconvert_exporter": "python",
   "pygments_lexer": "ipython3",
   "version": "3.7.4"
  }
 },
 "nbformat": 4,
 "nbformat_minor": 4
}
