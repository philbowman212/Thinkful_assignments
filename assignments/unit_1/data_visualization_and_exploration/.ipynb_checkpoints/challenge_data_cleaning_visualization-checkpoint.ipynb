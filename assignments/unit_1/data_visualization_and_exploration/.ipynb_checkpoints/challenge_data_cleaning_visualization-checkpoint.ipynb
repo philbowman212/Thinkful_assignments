{
 "cells": [
  {
   "cell_type": "code",
   "execution_count": 531,
   "metadata": {
    "ExecuteTime": {
     "end_time": "2019-09-26T14:31:46.561960Z",
     "start_time": "2019-09-26T14:31:44.639474Z"
    }
   },
   "outputs": [],
   "source": [
    "import numpy as np\n",
    "import pandas as pd\n",
    "from difflib import SequenceMatcher as s\n",
    "import re\n",
    "import itertools\n",
    "from spellchecker import SpellChecker\n",
    "import matplotlib.pyplot as plt\n",
    "from scipy import stats\n",
    "%matplotlib inline"
   ]
  },
  {
   "cell_type": "code",
   "execution_count": 532,
   "metadata": {
    "ExecuteTime": {
     "end_time": "2019-09-26T14:31:46.641091Z",
     "start_time": "2019-09-26T14:31:46.567962Z"
    }
   },
   "outputs": [],
   "source": [
    "df = pd.read_csv('WELLCOME_APCspend2013_forThinkful.csv', encoding='ANSI')"
   ]
  },
  {
   "cell_type": "code",
   "execution_count": 533,
   "metadata": {
    "ExecuteTime": {
     "end_time": "2019-09-26T14:31:46.810156Z",
     "start_time": "2019-09-26T14:31:46.647982Z"
    }
   },
   "outputs": [
    {
     "data": {
      "text/html": [
       "<div>\n",
       "<style scoped>\n",
       "    .dataframe tbody tr th:only-of-type {\n",
       "        vertical-align: middle;\n",
       "    }\n",
       "\n",
       "    .dataframe tbody tr th {\n",
       "        vertical-align: top;\n",
       "    }\n",
       "\n",
       "    .dataframe thead th {\n",
       "        text-align: right;\n",
       "    }\n",
       "</style>\n",
       "<table border=\"1\" class=\"dataframe\">\n",
       "  <thead>\n",
       "    <tr style=\"text-align: right;\">\n",
       "      <th></th>\n",
       "      <th>PMID/PMCID</th>\n",
       "      <th>Publisher</th>\n",
       "      <th>Journal title</th>\n",
       "      <th>Article title</th>\n",
       "      <th>COST (£) charged to Wellcome (inc VAT when charged)</th>\n",
       "    </tr>\n",
       "  </thead>\n",
       "  <tbody>\n",
       "    <tr>\n",
       "      <th>0</th>\n",
       "      <td>NaN</td>\n",
       "      <td>CUP</td>\n",
       "      <td>Psychological Medicine</td>\n",
       "      <td>Reduced parahippocampal cortical thickness in ...</td>\n",
       "      <td>£0.00</td>\n",
       "    </tr>\n",
       "    <tr>\n",
       "      <th>1</th>\n",
       "      <td>PMC3679557</td>\n",
       "      <td>ACS</td>\n",
       "      <td>Biomacromolecules</td>\n",
       "      <td>Structural characterization of a Model Gram-ne...</td>\n",
       "      <td>£2381.04</td>\n",
       "    </tr>\n",
       "    <tr>\n",
       "      <th>2</th>\n",
       "      <td>23043264  PMC3506128</td>\n",
       "      <td>ACS</td>\n",
       "      <td>J Med Chem</td>\n",
       "      <td>Fumaroylamino-4,5-epoxymorphinans and related ...</td>\n",
       "      <td>£642.56</td>\n",
       "    </tr>\n",
       "    <tr>\n",
       "      <th>3</th>\n",
       "      <td>23438330 PMC3646402</td>\n",
       "      <td>ACS</td>\n",
       "      <td>J Med Chem</td>\n",
       "      <td>Orvinols with mixed kappa/mu opioid receptor a...</td>\n",
       "      <td>£669.64</td>\n",
       "    </tr>\n",
       "    <tr>\n",
       "      <th>4</th>\n",
       "      <td>23438216 PMC3601604</td>\n",
       "      <td>ACS</td>\n",
       "      <td>J Org Chem</td>\n",
       "      <td>Regioselective opening of myo-inositol orthoes...</td>\n",
       "      <td>£685.88</td>\n",
       "    </tr>\n",
       "  </tbody>\n",
       "</table>\n",
       "</div>"
      ],
      "text/plain": [
       "              PMID/PMCID Publisher           Journal title  \\\n",
       "0                    NaN       CUP  Psychological Medicine   \n",
       "1             PMC3679557       ACS       Biomacromolecules   \n",
       "2  23043264  PMC3506128        ACS              J Med Chem   \n",
       "3    23438330 PMC3646402       ACS              J Med Chem   \n",
       "4   23438216 PMC3601604        ACS              J Org Chem   \n",
       "\n",
       "                                       Article title  \\\n",
       "0  Reduced parahippocampal cortical thickness in ...   \n",
       "1  Structural characterization of a Model Gram-ne...   \n",
       "2  Fumaroylamino-4,5-epoxymorphinans and related ...   \n",
       "3  Orvinols with mixed kappa/mu opioid receptor a...   \n",
       "4  Regioselective opening of myo-inositol orthoes...   \n",
       "\n",
       "  COST (£) charged to Wellcome (inc VAT when charged)  \n",
       "0                                              £0.00   \n",
       "1                                           £2381.04   \n",
       "2                                            £642.56   \n",
       "3                                            £669.64   \n",
       "4                                            £685.88   "
      ]
     },
     "execution_count": 533,
     "metadata": {},
     "output_type": "execute_result"
    }
   ],
   "source": [
    "df.head()"
   ]
  },
  {
   "cell_type": "markdown",
   "metadata": {},
   "source": [
    "Sort publisher alphabetically"
   ]
  },
  {
   "cell_type": "code",
   "execution_count": 534,
   "metadata": {
    "ExecuteTime": {
     "end_time": "2019-09-26T14:37:46.040596Z",
     "start_time": "2019-09-26T14:37:46.027589Z"
    }
   },
   "outputs": [],
   "source": [
    "df = df.sort_values('Publisher')"
   ]
  },
  {
   "cell_type": "markdown",
   "metadata": {},
   "source": [
    "Clean column names for easier use"
   ]
  },
  {
   "cell_type": "code",
   "execution_count": 535,
   "metadata": {},
   "outputs": [],
   "source": [
    "fix_cols = df.columns.str.replace(' ', '_').str.lower().str.replace('/', '_')\n",
    "df.columns = fix_cols"
   ]
  },
  {
   "cell_type": "markdown",
   "metadata": {},
   "source": [
    "Clean numeric data and convert to float"
   ]
  },
  {
   "cell_type": "code",
   "execution_count": 536,
   "metadata": {},
   "outputs": [],
   "source": [
    "df.iloc[:,4] = df.iloc[:,4].str.replace('£','')\n",
    "df.iloc[:,4] = df.iloc[:,4].str.strip()\n",
    "df.iloc[:,4] = df.iloc[:,4].str.replace('$','')\n",
    "df.iloc[:,4] = df.iloc[:,4].astype('float')"
   ]
  },
  {
   "cell_type": "markdown",
   "metadata": {},
   "source": [
    "numeric data cleaning end"
   ]
  },
  {
   "cell_type": "markdown",
   "metadata": {},
   "source": [
    "start cleaning publishers"
   ]
  },
  {
   "cell_type": "code",
   "execution_count": 537,
   "metadata": {},
   "outputs": [],
   "source": [
    "start_journ = len(df.journal_title.unique())"
   ]
  },
  {
   "cell_type": "code",
   "execution_count": 538,
   "metadata": {},
   "outputs": [
    {
     "data": {
      "text/plain": [
       "299"
      ]
     },
     "execution_count": 538,
     "metadata": {},
     "output_type": "execute_result"
    }
   ],
   "source": [
    "start_pub = len(df.publisher.unique())\n",
    "start_pub"
   ]
  },
  {
   "cell_type": "code",
   "execution_count": 539,
   "metadata": {},
   "outputs": [],
   "source": [
    "df.publisher = df.publisher.str.strip().str.lower() #strip whitespace and convert to lowercase\n",
    "df.publisher = df.publisher.str.replace('(','').str.replace(')','') #eliminate parenthases\n",
    "df.publisher = df.publisher.str.replace('/',' ').str.replace('-',' ') #eliminate / and -\n",
    "df.publisher = df.publisher.str.replace(' & ',' and ') #replace ' & ' with ' and '"
   ]
  },
  {
   "cell_type": "code",
   "execution_count": 540,
   "metadata": {},
   "outputs": [],
   "source": [
    "singles = list(df[df.publisher.str.isalpha()].publisher.unique())\n",
    "range_singles = np.arange(len(singles))"
   ]
  },
  {
   "cell_type": "code",
   "execution_count": 541,
   "metadata": {},
   "outputs": [],
   "source": [
    "for i in range_singles:\n",
    "    val = singles[i]\n",
    "    this = list(df[df.publisher.str.contains(singles[i])].publisher.unique())\n",
    "    df.replace(this, val, inplace=True)"
   ]
  },
  {
   "cell_type": "code",
   "execution_count": 542,
   "metadata": {},
   "outputs": [],
   "source": [
    "acronym_dict = {'acs': 'american chemical society',\n",
    "                'ambsb': 'american society for biochemistry and molecular biology',\n",
    "                'asbmb': 'american society for biochemistry and molecular biology',\n",
    "                'asm': 'american society for microbiology',\n",
    "                'bmc': 'biomed central',\n",
    "                'bmj': 'british medical journal',\n",
    "                'cshlp': 'cold spring harbor laboratory press',\n",
    "                'cup': 'cambridge university press',\n",
    "                'faseb': 'federation of american societies for experimental biology',\n",
    "                'jove': 'journal of visualized experiments',\n",
    "                'lww': 'lippincot williams and wilkins',\n",
    "                'oup': 'oxford university press',\n",
    "                'plos': 'public library of science',\n",
    "                'pnas': 'proceedings of the national academy of sciences',\n",
    "                'rsc': 'royal society of chemistry'\n",
    "               }\n",
    "df.replace(acronym_dict, inplace=True)"
   ]
  },
  {
   "cell_type": "code",
   "execution_count": 543,
   "metadata": {},
   "outputs": [],
   "source": [
    "#spell = SpellChecker()\n",
    "#words = ' '.join(list(df.publisher.unique())).split(' ')\n",
    "#mispelled = spell.unknown(words)\n",
    "#mispell_dict = {}\n",
    "#for word in mispelled:\n",
    "#    mispell_dict[word] = spell.correction(word)"
   ]
  },
  {
   "cell_type": "code",
   "execution_count": 544,
   "metadata": {},
   "outputs": [],
   "source": [
    "mispell_dict = {'wliey': 'wiley',\n",
    " 'socety': 'society',\n",
    " 'biolgy': 'biology',\n",
    " 'biology,': 'biology',\n",
    " 'biolgists': 'biologists',\n",
    " 'endocrinolog': 'endocrinology',\n",
    " 'sciences,': 'sciences',\n",
    " 'benthan': 'bentham',\n",
    " 'hamatology': 'haematology',\n",
    " 'clearace': 'clearance',\n",
    " 'liebert,': 'liberty',\n",
    " 'byophysical': 'biophysical',\n",
    " 'endrocrine': 'endocrine',\n",
    " 'univesity': 'university',\n",
    " 'elseveier': 'elsevier',\n",
    " 'hematology': 'haematology',}"
   ]
  },
  {
   "cell_type": "code",
   "execution_count": 545,
   "metadata": {},
   "outputs": [],
   "source": [
    "for key in mispell_dict:\n",
    "    df.publisher = df.publisher.str.replace(key, mispell_dict[key])"
   ]
  },
  {
   "cell_type": "code",
   "execution_count": 546,
   "metadata": {},
   "outputs": [],
   "source": [
    "def similar(a, b):\n",
    "    return s(None, a, b).ratio()"
   ]
  },
  {
   "cell_type": "code",
   "execution_count": 547,
   "metadata": {},
   "outputs": [],
   "source": [
    "#pub_unique = df.publisher.unique()\n",
    "#pub_combos = list(itertools.combinations(pub_unique, 2))\n",
    "#sim_pubs = {}\n",
    "#for i in np.arange(0, len(pub_combos)):\n",
    "#    a = pub_combos[i][0]\n",
    "#    b = pub_combos[i][1]\n",
    "#    if similar(a, b) > .8:\n",
    "#        sim_pubs[b] = a"
   ]
  },
  {
   "cell_type": "code",
   "execution_count": 548,
   "metadata": {},
   "outputs": [],
   "source": [
    "sim_pubs = {\n",
    " 'american soc for biochemistry and molecular biology': 'american society for biochemistry and molecular biology',\n",
    " 'the american society for biochemistry and molecular biology': 'american society for biochemistry and molecular biology',\n",
    " 'the american society for biochemistry and molecular biology inc': 'american society for biochemistry and molecular biology',\n",
    " 'biomed central ltd': 'biomed central',\n",
    " 'biomed central limited': 'biomed central',\n",
    " 'the american physiological society': 'american physiological society',\n",
    " 'cold spring harbor': 'cold spring harbor press',\n",
    " 'cambridge uni press': 'cambridge university press',\n",
    " 'cambridge univ press': 'cambridge university press',\n",
    " 'darmouth journal services': 'dartmouth journal services',\n",
    " 'cold spring habour press': 'cold spring harbor press',\n",
    " 'company of biologist': 'company of biologists',\n",
    " 'company of biologists ltd': 'company of biologists',\n",
    " 'the company of biologists': 'company of biologists',\n",
    " 'the company of biologists ltd': 'company of biologists',\n",
    " 'dartmouth journals': 'dartmouth journal services',\n",
    " 'the endocrine society': 'endocrine society',\n",
    " 'federation of the american society of experimental biology': 'federation of american societies for experimental biology',\n",
    " 'future medicine ltd': 'future medicine',\n",
    " 'impact journals llc': 'impact journals',\n",
    " 'international union of crystallography iucr': 'international union of crystallography',\n",
    " 'the journal of visualized experiments': 'journal of visualized experiments',\n",
    " 'landes biosciences': 'landes bioscience',\n",
    " 'mary ann liebert inc': 'mary ann liebert',\n",
    " 'national academy of sciences usa': 'national academy of sciences',\n",
    " 'oxford univ press': 'oxford university press',\n",
    " 'portland press ltd': 'portland press',\n",
    " 'publisher society for endocrinologyy': 'society for endocrinologyy',\n",
    " 'royal society for chemistry': 'royal society of chemistry',\n",
    " 'the royal college of psychiatrists': 'royal college of psychiatrists',\n",
    " 'the royal society': 'royal society',\n",
    " 'society of neuro sciences': 'society for neuroscience',\n",
    " 'society for neurosciences': 'society for neuroscience',\n",
    " 'society of neuroscience': 'society for neuroscience',\n",
    " 'the sheridan press': 'sheridan press',\n",
    " 'society for genermal microbiology': 'society for general microbiology',\n",
    " 'society of general microbiology': 'society for general microbiology',\n",
    " 'society of leukocyte biology': 'society for leukocyte biology',\n",
    " 'wolters kluwers': 'wolters kluwer'}"
   ]
  },
  {
   "cell_type": "code",
   "execution_count": 549,
   "metadata": {},
   "outputs": [],
   "source": [
    "df.replace(sim_pubs, inplace=True)"
   ]
  },
  {
   "cell_type": "code",
   "execution_count": 550,
   "metadata": {},
   "outputs": [],
   "source": [
    "#pub_unique = df.publisher.unique()\n",
    "#pub_combos = list(itertools.combinations(pub_unique, 2))\n",
    "#sim_pubs = {}\n",
    "#for i in np.arange(0, len(pub_combos)):\n",
    "#    a = pub_combos[i][0]\n",
    "#    b = pub_combos[i][1]\n",
    "#    if similar(a, b) > .7:\n",
    "#        sim_pubs[b] = a"
   ]
  },
  {
   "cell_type": "code",
   "execution_count": 551,
   "metadata": {},
   "outputs": [],
   "source": [
    "sim_pubs = {\n",
    " 'american chemical society publications': 'american chemical society',\n",
    " 'american psychiatric publishing': 'american psychiatric association',\n",
    " 'royal society': 'biophysical society',\n",
    " 'cold spring harbor laboratory press': 'cold spring harbor press',\n",
    " 'cold spring harbor publications': 'cold spring harbor press',\n",
    " 'future science': 'future medicine',\n",
    " 'informa healthcare communications': 'informa healthcare',\n",
    " 'proceedings of the national academy of sciences': 'national academy of sciences',\n",
    " 'taylor and francis journals': 'taylor and francis',\n",
    " 'wolters kluwer health': 'wolters kluwer'}"
   ]
  },
  {
   "cell_type": "code",
   "execution_count": 552,
   "metadata": {},
   "outputs": [],
   "source": [
    "df.replace(sim_pubs, inplace=True)"
   ]
  },
  {
   "cell_type": "code",
   "execution_count": 553,
   "metadata": {},
   "outputs": [
    {
     "data": {
      "text/plain": [
       "106"
      ]
     },
     "execution_count": 553,
     "metadata": {},
     "output_type": "execute_result"
    }
   ],
   "source": [
    "len(df.publisher.unique())"
   ]
  },
  {
   "cell_type": "code",
   "execution_count": 554,
   "metadata": {},
   "outputs": [],
   "source": [
    "#pub_unique = df.publisher.unique()\n",
    "#pub_combos = list(itertools.combinations(pub_unique, 2))\n",
    "#sim_pubs = {}\n",
    "#for i in np.arange(0, len(pub_combos)):\n",
    "#    a = pub_combos[i][0]\n",
    "#    b = pub_combos[i][1]\n",
    "#    if similar(a, b) > .5:\n",
    "#        sim_pubs[b] = a"
   ]
  },
  {
   "cell_type": "code",
   "execution_count": 555,
   "metadata": {},
   "outputs": [],
   "source": [
    "sim_pubs = {\n",
    " 'american physiological society': 'association for psychological science',\n",
    " 'elsevier science': 'elsevier',\n",
    " 'cambridge journals': 'cambridge university press',\n",
    " 'oxford journals': 'oxford university press',\n",
    " 'mary ann liberty inc. publishers': 'mary ann liebert',\n",
    " 'iop publishing': 'institute of physics' ,\n",
    " 'mit press open access': 'mit press',\n",
    " 'national academy of sciences of the united states of america': 'national academy of sciences',\n",
    " 'wolters kluwer n.v. lippinott': 'wolters kluwer'}"
   ]
  },
  {
   "cell_type": "code",
   "execution_count": 556,
   "metadata": {},
   "outputs": [],
   "source": [
    "df.replace(sim_pubs, inplace=True)"
   ]
  },
  {
   "cell_type": "code",
   "execution_count": 557,
   "metadata": {},
   "outputs": [],
   "source": [
    "df = df.sort_values('publisher')"
   ]
  },
  {
   "cell_type": "code",
   "execution_count": 558,
   "metadata": {},
   "outputs": [],
   "source": [
    "sim_pubs = {'berhahn books':'berghahn books',\n",
    " 'camdus journal services': 'cadmus',\n",
    " 't&f': 'taylor and francis',\n",
    " 'wiley blackwell': 'wiley'}"
   ]
  },
  {
   "cell_type": "code",
   "execution_count": 559,
   "metadata": {},
   "outputs": [],
   "source": [
    "df.replace(sim_pubs, inplace=True)"
   ]
  },
  {
   "cell_type": "markdown",
   "metadata": {},
   "source": [
    "# Top 5 Publishers"
   ]
  },
  {
   "cell_type": "code",
   "execution_count": 560,
   "metadata": {},
   "outputs": [
    {
     "data": {
      "text/plain": [
       "elsevier                     409\n",
       "public library of science    307\n",
       "wiley                        270\n",
       "oxford university press      167\n",
       "biomed central                96\n",
       "Name: publisher, dtype: int64"
      ]
     },
     "execution_count": 560,
     "metadata": {},
     "output_type": "execute_result"
    }
   ],
   "source": [
    "df.publisher.value_counts().head(5)"
   ]
  },
  {
   "cell_type": "code",
   "execution_count": 561,
   "metadata": {},
   "outputs": [],
   "source": [
    "df.columns = ['pmid_pmcid',\n",
    " 'publisher',\n",
    " 'journal_title',\n",
    " 'article_title',\n",
    " 'cost']"
   ]
  },
  {
   "cell_type": "code",
   "execution_count": 562,
   "metadata": {},
   "outputs": [
    {
     "ename": "TypeError",
     "evalue": "can only concatenate str (not \"float\") to str",
     "output_type": "error",
     "traceback": [
      "\u001b[1;31m---------------------------------------------------------------------------\u001b[0m",
      "\u001b[1;31mTypeError\u001b[0m                                 Traceback (most recent call last)",
      "\u001b[1;32m<ipython-input-562-b4b26f370535>\u001b[0m in \u001b[0;36m<module>\u001b[1;34m\u001b[0m\n\u001b[1;32m----> 1\u001b[1;33m \u001b[0mdf\u001b[0m\u001b[1;33m[\u001b[0m\u001b[1;33m(\u001b[0m\u001b[0mnp\u001b[0m\u001b[1;33m.\u001b[0m\u001b[0mabs\u001b[0m\u001b[1;33m(\u001b[0m\u001b[0mstats\u001b[0m\u001b[1;33m.\u001b[0m\u001b[0mzscore\u001b[0m\u001b[1;33m(\u001b[0m\u001b[0mdf\u001b[0m\u001b[1;33m)\u001b[0m\u001b[1;33m)\u001b[0m \u001b[1;33m<\u001b[0m \u001b[1;36m3\u001b[0m\u001b[1;33m)\u001b[0m\u001b[1;33m.\u001b[0m\u001b[0mall\u001b[0m\u001b[1;33m(\u001b[0m\u001b[0maxis\u001b[0m\u001b[1;33m=\u001b[0m\u001b[1;36m1\u001b[0m\u001b[1;33m)\u001b[0m\u001b[1;33m]\u001b[0m\u001b[1;33m\u001b[0m\u001b[0m\n\u001b[0m",
      "\u001b[1;32mc:\\users\\philb\\appdata\\local\\programs\\python\\python37-32\\lib\\site-packages\\scipy\\stats\\stats.py\u001b[0m in \u001b[0;36mzscore\u001b[1;34m(a, axis, ddof)\u001b[0m\n\u001b[0;32m   2307\u001b[0m     \"\"\"\n\u001b[0;32m   2308\u001b[0m     \u001b[0ma\u001b[0m \u001b[1;33m=\u001b[0m \u001b[0mnp\u001b[0m\u001b[1;33m.\u001b[0m\u001b[0masanyarray\u001b[0m\u001b[1;33m(\u001b[0m\u001b[0ma\u001b[0m\u001b[1;33m)\u001b[0m\u001b[1;33m\u001b[0m\u001b[0m\n\u001b[1;32m-> 2309\u001b[1;33m     \u001b[0mmns\u001b[0m \u001b[1;33m=\u001b[0m \u001b[0ma\u001b[0m\u001b[1;33m.\u001b[0m\u001b[0mmean\u001b[0m\u001b[1;33m(\u001b[0m\u001b[0maxis\u001b[0m\u001b[1;33m=\u001b[0m\u001b[0maxis\u001b[0m\u001b[1;33m)\u001b[0m\u001b[1;33m\u001b[0m\u001b[0m\n\u001b[0m\u001b[0;32m   2310\u001b[0m     \u001b[0msstd\u001b[0m \u001b[1;33m=\u001b[0m \u001b[0ma\u001b[0m\u001b[1;33m.\u001b[0m\u001b[0mstd\u001b[0m\u001b[1;33m(\u001b[0m\u001b[0maxis\u001b[0m\u001b[1;33m=\u001b[0m\u001b[0maxis\u001b[0m\u001b[1;33m,\u001b[0m \u001b[0mddof\u001b[0m\u001b[1;33m=\u001b[0m\u001b[0mddof\u001b[0m\u001b[1;33m)\u001b[0m\u001b[1;33m\u001b[0m\u001b[0m\n\u001b[0;32m   2311\u001b[0m     \u001b[1;32mif\u001b[0m \u001b[0maxis\u001b[0m \u001b[1;32mand\u001b[0m \u001b[0mmns\u001b[0m\u001b[1;33m.\u001b[0m\u001b[0mndim\u001b[0m \u001b[1;33m<\u001b[0m \u001b[0ma\u001b[0m\u001b[1;33m.\u001b[0m\u001b[0mndim\u001b[0m\u001b[1;33m:\u001b[0m\u001b[1;33m\u001b[0m\u001b[0m\n",
      "\u001b[1;32mc:\\users\\philb\\appdata\\local\\programs\\python\\python37-32\\lib\\site-packages\\numpy\\core\\_methods.py\u001b[0m in \u001b[0;36m_mean\u001b[1;34m(a, axis, dtype, out, keepdims)\u001b[0m\n\u001b[0;32m    149\u001b[0m             \u001b[0mis_float16_result\u001b[0m \u001b[1;33m=\u001b[0m \u001b[1;32mTrue\u001b[0m\u001b[1;33m\u001b[0m\u001b[0m\n\u001b[0;32m    150\u001b[0m \u001b[1;33m\u001b[0m\u001b[0m\n\u001b[1;32m--> 151\u001b[1;33m     \u001b[0mret\u001b[0m \u001b[1;33m=\u001b[0m \u001b[0mumr_sum\u001b[0m\u001b[1;33m(\u001b[0m\u001b[0marr\u001b[0m\u001b[1;33m,\u001b[0m \u001b[0maxis\u001b[0m\u001b[1;33m,\u001b[0m \u001b[0mdtype\u001b[0m\u001b[1;33m,\u001b[0m \u001b[0mout\u001b[0m\u001b[1;33m,\u001b[0m \u001b[0mkeepdims\u001b[0m\u001b[1;33m)\u001b[0m\u001b[1;33m\u001b[0m\u001b[0m\n\u001b[0m\u001b[0;32m    152\u001b[0m     \u001b[1;32mif\u001b[0m \u001b[0misinstance\u001b[0m\u001b[1;33m(\u001b[0m\u001b[0mret\u001b[0m\u001b[1;33m,\u001b[0m \u001b[0mmu\u001b[0m\u001b[1;33m.\u001b[0m\u001b[0mndarray\u001b[0m\u001b[1;33m)\u001b[0m\u001b[1;33m:\u001b[0m\u001b[1;33m\u001b[0m\u001b[0m\n\u001b[0;32m    153\u001b[0m         ret = um.true_divide(\n",
      "\u001b[1;31mTypeError\u001b[0m: can only concatenate str (not \"float\") to str"
     ]
    }
   ],
   "source": [
    "df[(np.abs(stats.zscore(df)) < 3).all(axis=1)]"
   ]
  },
  {
   "cell_type": "code",
   "execution_count": null,
   "metadata": {},
   "outputs": [],
   "source": [
    "df.groupby('publisher').agg({'cost_(£)_charged_to_wellcome_(inc_vat_when_charged)': ['mean','median','std']})"
   ]
  },
  {
   "cell_type": "code",
   "execution_count": null,
   "metadata": {},
   "outputs": [],
   "source": []
  }
 ],
 "metadata": {
  "kernelspec": {
   "display_name": "Python 3",
   "language": "python",
   "name": "python3"
  },
  "language_info": {
   "codemirror_mode": {
    "name": "ipython",
    "version": 3
   },
   "file_extension": ".py",
   "mimetype": "text/x-python",
   "name": "python",
   "nbconvert_exporter": "python",
   "pygments_lexer": "ipython3",
   "version": "3.7.0"
  }
 },
 "nbformat": 4,
 "nbformat_minor": 4
}
