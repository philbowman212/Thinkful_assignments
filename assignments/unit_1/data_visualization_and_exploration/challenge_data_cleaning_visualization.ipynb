{
 "cells": [
  {
   "cell_type": "code",
   "execution_count": 1,
   "metadata": {
    "ExecuteTime": {
     "end_time": "2019-09-25T23:31:26.306287Z",
     "start_time": "2019-09-25T23:31:24.722772Z"
    }
   },
   "outputs": [],
   "source": [
    "import numpy as np\n",
    "import pandas as pd\n",
    "from difflib import SequenceMatcher as s"
   ]
  },
  {
   "cell_type": "code",
   "execution_count": 2,
   "metadata": {
    "ExecuteTime": {
     "end_time": "2019-09-25T23:31:26.372303Z",
     "start_time": "2019-09-25T23:31:26.311170Z"
    }
   },
   "outputs": [],
   "source": [
    "df = pd.read_csv('WELLCOME_APCspend2013_forThinkful.csv', encoding='ANSI')"
   ]
  },
  {
   "cell_type": "code",
   "execution_count": 3,
   "metadata": {
    "ExecuteTime": {
     "end_time": "2019-09-25T23:31:26.464298Z",
     "start_time": "2019-09-25T23:31:26.378186Z"
    }
   },
   "outputs": [
    {
     "data": {
      "text/html": [
       "<div>\n",
       "<style scoped>\n",
       "    .dataframe tbody tr th:only-of-type {\n",
       "        vertical-align: middle;\n",
       "    }\n",
       "\n",
       "    .dataframe tbody tr th {\n",
       "        vertical-align: top;\n",
       "    }\n",
       "\n",
       "    .dataframe thead th {\n",
       "        text-align: right;\n",
       "    }\n",
       "</style>\n",
       "<table border=\"1\" class=\"dataframe\">\n",
       "  <thead>\n",
       "    <tr style=\"text-align: right;\">\n",
       "      <th></th>\n",
       "      <th>PMID/PMCID</th>\n",
       "      <th>Publisher</th>\n",
       "      <th>Journal title</th>\n",
       "      <th>Article title</th>\n",
       "      <th>COST (£) charged to Wellcome (inc VAT when charged)</th>\n",
       "    </tr>\n",
       "  </thead>\n",
       "  <tbody>\n",
       "    <tr>\n",
       "      <th>0</th>\n",
       "      <td>NaN</td>\n",
       "      <td>CUP</td>\n",
       "      <td>Psychological Medicine</td>\n",
       "      <td>Reduced parahippocampal cortical thickness in ...</td>\n",
       "      <td>£0.00</td>\n",
       "    </tr>\n",
       "    <tr>\n",
       "      <th>1</th>\n",
       "      <td>PMC3679557</td>\n",
       "      <td>ACS</td>\n",
       "      <td>Biomacromolecules</td>\n",
       "      <td>Structural characterization of a Model Gram-ne...</td>\n",
       "      <td>£2381.04</td>\n",
       "    </tr>\n",
       "    <tr>\n",
       "      <th>2</th>\n",
       "      <td>23043264  PMC3506128</td>\n",
       "      <td>ACS</td>\n",
       "      <td>J Med Chem</td>\n",
       "      <td>Fumaroylamino-4,5-epoxymorphinans and related ...</td>\n",
       "      <td>£642.56</td>\n",
       "    </tr>\n",
       "    <tr>\n",
       "      <th>3</th>\n",
       "      <td>23438330 PMC3646402</td>\n",
       "      <td>ACS</td>\n",
       "      <td>J Med Chem</td>\n",
       "      <td>Orvinols with mixed kappa/mu opioid receptor a...</td>\n",
       "      <td>£669.64</td>\n",
       "    </tr>\n",
       "    <tr>\n",
       "      <th>4</th>\n",
       "      <td>23438216 PMC3601604</td>\n",
       "      <td>ACS</td>\n",
       "      <td>J Org Chem</td>\n",
       "      <td>Regioselective opening of myo-inositol orthoes...</td>\n",
       "      <td>£685.88</td>\n",
       "    </tr>\n",
       "  </tbody>\n",
       "</table>\n",
       "</div>"
      ],
      "text/plain": [
       "              PMID/PMCID Publisher           Journal title  \\\n",
       "0                    NaN       CUP  Psychological Medicine   \n",
       "1             PMC3679557       ACS       Biomacromolecules   \n",
       "2  23043264  PMC3506128        ACS              J Med Chem   \n",
       "3    23438330 PMC3646402       ACS              J Med Chem   \n",
       "4   23438216 PMC3601604        ACS              J Org Chem   \n",
       "\n",
       "                                       Article title  \\\n",
       "0  Reduced parahippocampal cortical thickness in ...   \n",
       "1  Structural characterization of a Model Gram-ne...   \n",
       "2  Fumaroylamino-4,5-epoxymorphinans and related ...   \n",
       "3  Orvinols with mixed kappa/mu opioid receptor a...   \n",
       "4  Regioselective opening of myo-inositol orthoes...   \n",
       "\n",
       "  COST (£) charged to Wellcome (inc VAT when charged)  \n",
       "0                                              £0.00   \n",
       "1                                           £2381.04   \n",
       "2                                            £642.56   \n",
       "3                                            £669.64   \n",
       "4                                            £685.88   "
      ]
     },
     "execution_count": 3,
     "metadata": {},
     "output_type": "execute_result"
    }
   ],
   "source": [
    "df.head()"
   ]
  },
  {
   "cell_type": "code",
   "execution_count": 4,
   "metadata": {
    "ExecuteTime": {
     "end_time": "2019-09-25T23:31:26.577200Z",
     "start_time": "2019-09-25T23:31:26.471179Z"
    }
   },
   "outputs": [],
   "source": [
    "orig_df = df.copy()"
   ]
  },
  {
   "cell_type": "code",
   "execution_count": 5,
   "metadata": {
    "ExecuteTime": {
     "end_time": "2019-09-25T23:31:26.680563Z",
     "start_time": "2019-09-25T23:31:26.583205Z"
    }
   },
   "outputs": [],
   "source": [
    "df = df.sort_values(['Publisher'])"
   ]
  },
  {
   "cell_type": "code",
   "execution_count": 6,
   "metadata": {
    "ExecuteTime": {
     "end_time": "2019-09-25T23:31:26.793763Z",
     "start_time": "2019-09-25T23:31:26.686447Z"
    }
   },
   "outputs": [],
   "source": [
    "df['Publisher'] = df.Publisher.str.lower().str.strip()"
   ]
  },
  {
   "cell_type": "code",
   "execution_count": 7,
   "metadata": {
    "ExecuteTime": {
     "end_time": "2019-09-25T23:31:26.912303Z",
     "start_time": "2019-09-25T23:31:26.798661Z"
    }
   },
   "outputs": [],
   "source": [
    "f = list(df.Publisher.unique()[0:3])"
   ]
  },
  {
   "cell_type": "code",
   "execution_count": 8,
   "metadata": {
    "ExecuteTime": {
     "end_time": "2019-09-25T23:31:27.047777Z",
     "start_time": "2019-09-25T23:31:26.923309Z"
    }
   },
   "outputs": [],
   "source": [
    "df.replace(f, 'american chemical society', inplace=True)"
   ]
  },
  {
   "cell_type": "code",
   "execution_count": 9,
   "metadata": {
    "ExecuteTime": {
     "end_time": "2019-09-25T23:31:27.174474Z",
     "start_time": "2019-09-25T23:31:27.053784Z"
    }
   },
   "outputs": [],
   "source": [
    "f = list(df.Publisher.unique()[2:7])\n",
    "df.replace(f, 'american society for biochemistry and molecular biology', inplace=True)"
   ]
  },
  {
   "cell_type": "code",
   "execution_count": 10,
   "metadata": {
    "ExecuteTime": {
     "end_time": "2019-09-25T23:31:27.281611Z",
     "start_time": "2019-09-25T23:31:27.179360Z"
    }
   },
   "outputs": [],
   "source": [
    "f = list(df.Publisher.unique()[3:4])\n",
    "df.replace(f, 'american society for biochemistry and molecular biology', inplace=True)"
   ]
  },
  {
   "cell_type": "code",
   "execution_count": 11,
   "metadata": {
    "ExecuteTime": {
     "end_time": "2019-09-25T23:31:27.398839Z",
     "start_time": "2019-09-25T23:31:27.287612Z"
    }
   },
   "outputs": [],
   "source": [
    "def pu():\n",
    "    return df.Publisher.unique()"
   ]
  },
  {
   "cell_type": "code",
   "execution_count": 12,
   "metadata": {
    "ExecuteTime": {
     "end_time": "2019-09-25T23:31:27.516994Z",
     "start_time": "2019-09-25T23:31:27.406839Z"
    }
   },
   "outputs": [
    {
     "data": {
      "text/plain": [
       "['asm', 'asm (american society for microbiology)']"
      ]
     },
     "execution_count": 12,
     "metadata": {},
     "output_type": "execute_result"
    }
   ],
   "source": [
    "list(pu()[3:5])"
   ]
  },
  {
   "cell_type": "code",
   "execution_count": 13,
   "metadata": {
    "ExecuteTime": {
     "end_time": "2019-09-25T23:31:27.621139Z",
     "start_time": "2019-09-25T23:31:27.525991Z"
    }
   },
   "outputs": [],
   "source": [
    "def rep_stuff(stuff, replace):\n",
    "    inp = input('You want to replace {} with {}'.format(stuff, replace))\n",
    "    if inp == 'y':\n",
    "        df.replace(stuff, replace, inplace=True)\n",
    "    else:\n",
    "        None"
   ]
  },
  {
   "cell_type": "code",
   "execution_count": 14,
   "metadata": {
    "ExecuteTime": {
     "end_time": "2019-09-25T23:31:31.871702Z",
     "start_time": "2019-09-25T23:31:27.626018Z"
    }
   },
   "outputs": [
    {
     "name": "stdout",
     "output_type": "stream",
     "text": [
      "You want to replace ['asm', 'asm (american society for microbiology)'] with american society for microbiologyy\n"
     ]
    }
   ],
   "source": [
    "rep_stuff(list(pu()[3:5]), 'american society for microbiology')"
   ]
  },
  {
   "cell_type": "code",
   "execution_count": 15,
   "metadata": {
    "ExecuteTime": {
     "end_time": "2019-09-25T23:31:32.775037Z",
     "start_time": "2019-09-25T23:31:31.880704Z"
    }
   },
   "outputs": [
    {
     "name": "stdout",
     "output_type": "stream",
     "text": [
      "You want to replace bmc with biomed centraly\n"
     ]
    }
   ],
   "source": [
    "rep_stuff('bmc', 'biomed central')"
   ]
  },
  {
   "cell_type": "code",
   "execution_count": 16,
   "metadata": {
    "ExecuteTime": {
     "end_time": "2019-09-25T23:31:33.747535Z",
     "start_time": "2019-09-25T23:31:32.781040Z"
    }
   },
   "outputs": [
    {
     "name": "stdout",
     "output_type": "stream",
     "text": [
      "You want to replace ['bmj', 'bmj group', 'bmj journals', 'bmj publishing group', 'bmj publishing group ltd', 'bmj publishing group ltd & british thoracic society'] with british medical journaly\n"
     ]
    }
   ],
   "source": [
    "rep_stuff(['bmj', 'bmj group', 'bmj journals',\n",
    "       'bmj publishing group', 'bmj publishing group ltd',\n",
    "       'bmj publishing group ltd & british thoracic society'], 'british medical journal')"
   ]
  },
  {
   "cell_type": "code",
   "execution_count": 17,
   "metadata": {
    "ExecuteTime": {
     "end_time": "2019-09-25T23:31:33.767541Z",
     "start_time": "2019-09-25T23:31:33.753536Z"
    }
   },
   "outputs": [
    {
     "data": {
      "text/plain": [
       "array(['american chemical society', 'aga institute',\n",
       "       'american society for biochemistry and molecular biology',\n",
       "       'american society for microbiology',\n",
       "       'american association of immunologists',\n",
       "       'american chemical society publications',\n",
       "       'american college of chest physicians',\n",
       "       'american physiological society',\n",
       "       'american psychiatric association',\n",
       "       'american psychiatric publishing',\n",
       "       'american psychological association',\n",
       "       'american public health association',\n",
       "       'american soc for biochemistry and molecular biology',\n",
       "       'american society for biochemistry and molecular biolgy',\n",
       "       'american society for investigative pathology',\n",
       "       'american society for nutrition',\n",
       "       'american society of haematology',\n",
       "       'american society of hamatology', 'american society of hematology',\n",
       "       'american society of human genetics (elsevier)',\n",
       "       'american society of microbiology',\n",
       "       'american speech-language-hearing association',\n",
       "       'association for research in vision & ophthalmology',\n",
       "       'biomed central', 'british medical journal',\n",
       "       'bentham science publishers', 'benthan science publishers',\n",
       "       'berhahn books', 'biomed central limited', 'biomed central ltd',\n",
       "       'bioscientifica', 'biochem journal', 'biophysical society',\n",
       "       'blackwell publishing ltd/wiley', 'brill', 'byophysical society',\n",
       "       'cadmus journal service', 'cadmus journal services', 'coaction',\n",
       "       'cshlp', 'cup', 'cadmus', 'cambridge journals',\n",
       "       'cambridge uni press', 'cambridge univ press',\n",
       "       'cambridge university press', 'camdus journal services',\n",
       "       'cell press', 'cenveo publisher services/asm jv1',\n",
       "       'cenveo publisher services', 'cold spring habour press',\n",
       "       'cold spring harbor', 'cold spring harbor laboratory press',\n",
       "       'cold spring harbor press', 'cold spring harbor publications',\n",
       "       'company of biologist', 'company of biologists',\n",
       "       'company of biologists ltd', 'copyright clearace center',\n",
       "       'darmouth journal services', 'dartmouth journal services',\n",
       "       'dartmouth journals', 'elsevier', 'elseveier science',\n",
       "       'elsevier (cell press)', 'elsevier / cell science',\n",
       "       'elsevier b.v.', 'elsevier ltd', 'elsevier/cell press',\n",
       "       'endocrine society', 'european respiratory society',\n",
       "       'european society of endocrinolog', 'faseb',\n",
       "       'federation of american societies for experimental biology',\n",
       "       'federation of american societies for experimental biology (faseb)',\n",
       "       'federation of the american society of experimental biology',\n",
       "       'ferrata storti foundation', 'frontiers', 'frontiers media',\n",
       "       'frontiers media sa', 'frontiers research foundation',\n",
       "       'future medicine', 'future medicine ltd', 'future science',\n",
       "       'hindawi', 'hindawi publishing corporation',\n",
       "       'humana press (springer imprint)', 'iop publishing', 'ios press',\n",
       "       'impact journals', 'impact journals llc', 'informa healthcare',\n",
       "       'informa healthcare communications', 'institute of physics',\n",
       "       'international aids society',\n",
       "       'international union against tuberculosis and lung disease',\n",
       "       'international union of crystallography',\n",
       "       'international union of crystallography (iucr)',\n",
       "       'ivyspring international publisher', 'j med internet research',\n",
       "       'john wiley & sons', 'jscimed central', 'jove', 'john wiley',\n",
       "       'john wiley & sons inc', 'john wiley & sons ltd',\n",
       "       'john wiley & sons, inc.', 'john wiley and sons',\n",
       "       'john wiley and sons ltd', 'johns hopkins university press',\n",
       "       'journal of visualized experiments',\n",
       "       'journal of the american physiological proceedings of national academy of sciences',\n",
       "       'karger', 'lww', 'landes bioscience', 'landes biosciences',\n",
       "       'mary ann liebert inc', 'mdpi', 'mit press open access',\n",
       "       'mit press', 'my jove corp', 'myjove corporation', 'macmillan',\n",
       "       'mary ann liebert', 'mary ann liebert, inc. publishers',\n",
       "       'my jove corporation', 'nature publishing group ltd', 'npg',\n",
       "       'national academy of sciences', 'national academy of sciences usa',\n",
       "       'national academy of sciences of the united states of america',\n",
       "       'national academy of sciences, usa', 'nature', 'nature pg',\n",
       "       'nature publishing', 'nature publishing group', 'oup',\n",
       "       'oxford university press', 'open access reg ltd',\n",
       "       'optical society of america', 'oxford journals',\n",
       "       'oxford journals (oup)', 'oxford univ press',\n",
       "       'oxford university press (oup)', 'oxford univesity press', 'plos',\n",
       "       'plos (public library of science)',\n",
       "       'plos public library of science', 'pnas',\n",
       "       'pnas author publication', 'portland press ltd',\n",
       "       'palgrave macmillan', 'pion', 'policy press', 'portland press',\n",
       "       'proceedings of the national academy of sciences (pnas)', 'pubmed',\n",
       "       'pubmed central', 'public library of science',\n",
       "       'publisher society for endocrinology', 'rsc', 'rsc publishing',\n",
       "       'research media ltd', 'royal college of psychiatrists',\n",
       "       'royal society', 'royal society for chemistry',\n",
       "       'royal society of chemistry', 'sage', 'sage publications',\n",
       "       'society of neuro sciences', 'springer-verlag gmbh',\n",
       "       'sage publications inc', 'sage publications ltd',\n",
       "       'sage publishers', 'sage publishing', 'sciedu press',\n",
       "       'scientific research publishing', 'sheridan press',\n",
       "       'society for endocrinology', 'society for general microbiology',\n",
       "       'society for genermal microbiology',\n",
       "       'society for leukocyte biology', 'society for neuroscience',\n",
       "       'society for neurosciences',\n",
       "       'society for publication of acta dermato-venereologica',\n",
       "       'society of general microbiology', 'society of leukocyte biology',\n",
       "       'society of neuroscience', 'springer', 'springer - verlag gmbh',\n",
       "       'springer science + business media', 'springer verlag',\n",
       "       'springer-veriag gmbh', 'springer-verlag gmbh & ci',\n",
       "       'springer-verlag gmbh, heidelberger platz 3, d-14197 berlin',\n",
       "       't&f', 'the company of biologists', 'the endocrine society',\n",
       "       'taylor & francis', 'taylor & francis journals',\n",
       "       'taylor and francis',\n",
       "       'the american chemical society petroleum research trust',\n",
       "       'the american physiological society',\n",
       "       'the american society for biochemistry and molecular biology',\n",
       "       'the american society for biochemistry and molecular biology, inc',\n",
       "       'the american society of pediatrics', 'the boulevard',\n",
       "       'the company of biologists ltd', 'the endocrine socety',\n",
       "       'the endrocrine society', 'the journal of visualized experiments',\n",
       "       'the royal college of psychiatrists', 'the royal society',\n",
       "       'the sheridan press', 'the company of biolgists',\n",
       "       'transcript verlag', 'university of the basque country press',\n",
       "       'wiley', 'wiley & son', 'wiley blackwell', 'wiley online library',\n",
       "       'wiley subscription services', 'wiley subscription services  inc.',\n",
       "       'wiley subscription services inc',\n",
       "       'wiley subscription serviices inc', 'wiley vch', 'wiley-blackwell',\n",
       "       'wiley-blackwell, john wiley & sons', 'wiley-vch',\n",
       "       'wiley/blackwell', 'wliey-blackwell', 'wolters kluwer',\n",
       "       'wolters kluwer health', 'wolters kluwer n.v./lippinott',\n",
       "       'wolters kluwers', 'public.service.co.uk'], dtype=object)"
      ]
     },
     "execution_count": 17,
     "metadata": {},
     "output_type": "execute_result"
    }
   ],
   "source": [
    "pu()"
   ]
  },
  {
   "cell_type": "code",
   "execution_count": 18,
   "metadata": {
    "ExecuteTime": {
     "end_time": "2019-09-25T23:31:38.066381Z",
     "start_time": "2019-09-25T23:31:33.772543Z"
    }
   },
   "outputs": [
    {
     "name": "stdout",
     "output_type": "stream",
     "text": [
      "You want to replace ['american soc for biochemistry and molecular biology', 'american society for biochemistry and molecular biolgy'] with american society for biochemistry and molecular biologyy\n"
     ]
    }
   ],
   "source": [
    "rep_stuff(['american soc for biochemistry and molecular biology',\n",
    "       'american society for biochemistry and molecular biolgy'], 'american society for biochemistry and molecular biology')"
   ]
  },
  {
   "cell_type": "code",
   "execution_count": 19,
   "metadata": {
    "ExecuteTime": {
     "end_time": "2019-09-25T23:31:38.086387Z",
     "start_time": "2019-09-25T23:31:38.072381Z"
    }
   },
   "outputs": [
    {
     "data": {
      "text/plain": [
       "array(['american chemical society', 'aga institute',\n",
       "       'american society for biochemistry and molecular biology',\n",
       "       'american society for microbiology',\n",
       "       'american association of immunologists',\n",
       "       'american chemical society publications',\n",
       "       'american college of chest physicians',\n",
       "       'american physiological society',\n",
       "       'american psychiatric association',\n",
       "       'american psychiatric publishing',\n",
       "       'american psychological association',\n",
       "       'american public health association',\n",
       "       'american society for investigative pathology',\n",
       "       'american society for nutrition',\n",
       "       'american society of haematology',\n",
       "       'american society of hamatology', 'american society of hematology',\n",
       "       'american society of human genetics (elsevier)',\n",
       "       'american society of microbiology',\n",
       "       'american speech-language-hearing association',\n",
       "       'association for research in vision & ophthalmology',\n",
       "       'biomed central', 'british medical journal',\n",
       "       'bentham science publishers', 'benthan science publishers',\n",
       "       'berhahn books', 'biomed central limited', 'biomed central ltd',\n",
       "       'bioscientifica', 'biochem journal', 'biophysical society',\n",
       "       'blackwell publishing ltd/wiley', 'brill', 'byophysical society',\n",
       "       'cadmus journal service', 'cadmus journal services', 'coaction',\n",
       "       'cshlp', 'cup', 'cadmus', 'cambridge journals',\n",
       "       'cambridge uni press', 'cambridge univ press',\n",
       "       'cambridge university press', 'camdus journal services',\n",
       "       'cell press', 'cenveo publisher services/asm jv1',\n",
       "       'cenveo publisher services', 'cold spring habour press',\n",
       "       'cold spring harbor', 'cold spring harbor laboratory press',\n",
       "       'cold spring harbor press', 'cold spring harbor publications',\n",
       "       'company of biologist', 'company of biologists',\n",
       "       'company of biologists ltd', 'copyright clearace center',\n",
       "       'darmouth journal services', 'dartmouth journal services',\n",
       "       'dartmouth journals', 'elsevier', 'elseveier science',\n",
       "       'elsevier (cell press)', 'elsevier / cell science',\n",
       "       'elsevier b.v.', 'elsevier ltd', 'elsevier/cell press',\n",
       "       'endocrine society', 'european respiratory society',\n",
       "       'european society of endocrinolog', 'faseb',\n",
       "       'federation of american societies for experimental biology',\n",
       "       'federation of american societies for experimental biology (faseb)',\n",
       "       'federation of the american society of experimental biology',\n",
       "       'ferrata storti foundation', 'frontiers', 'frontiers media',\n",
       "       'frontiers media sa', 'frontiers research foundation',\n",
       "       'future medicine', 'future medicine ltd', 'future science',\n",
       "       'hindawi', 'hindawi publishing corporation',\n",
       "       'humana press (springer imprint)', 'iop publishing', 'ios press',\n",
       "       'impact journals', 'impact journals llc', 'informa healthcare',\n",
       "       'informa healthcare communications', 'institute of physics',\n",
       "       'international aids society',\n",
       "       'international union against tuberculosis and lung disease',\n",
       "       'international union of crystallography',\n",
       "       'international union of crystallography (iucr)',\n",
       "       'ivyspring international publisher', 'j med internet research',\n",
       "       'john wiley & sons', 'jscimed central', 'jove', 'john wiley',\n",
       "       'john wiley & sons inc', 'john wiley & sons ltd',\n",
       "       'john wiley & sons, inc.', 'john wiley and sons',\n",
       "       'john wiley and sons ltd', 'johns hopkins university press',\n",
       "       'journal of visualized experiments',\n",
       "       'journal of the american physiological proceedings of national academy of sciences',\n",
       "       'karger', 'lww', 'landes bioscience', 'landes biosciences',\n",
       "       'mary ann liebert inc', 'mdpi', 'mit press open access',\n",
       "       'mit press', 'my jove corp', 'myjove corporation', 'macmillan',\n",
       "       'mary ann liebert', 'mary ann liebert, inc. publishers',\n",
       "       'my jove corporation', 'nature publishing group ltd', 'npg',\n",
       "       'national academy of sciences', 'national academy of sciences usa',\n",
       "       'national academy of sciences of the united states of america',\n",
       "       'national academy of sciences, usa', 'nature', 'nature pg',\n",
       "       'nature publishing', 'nature publishing group', 'oup',\n",
       "       'oxford university press', 'open access reg ltd',\n",
       "       'optical society of america', 'oxford journals',\n",
       "       'oxford journals (oup)', 'oxford univ press',\n",
       "       'oxford university press (oup)', 'oxford univesity press', 'plos',\n",
       "       'plos (public library of science)',\n",
       "       'plos public library of science', 'pnas',\n",
       "       'pnas author publication', 'portland press ltd',\n",
       "       'palgrave macmillan', 'pion', 'policy press', 'portland press',\n",
       "       'proceedings of the national academy of sciences (pnas)', 'pubmed',\n",
       "       'pubmed central', 'public library of science',\n",
       "       'publisher society for endocrinology', 'rsc', 'rsc publishing',\n",
       "       'research media ltd', 'royal college of psychiatrists',\n",
       "       'royal society', 'royal society for chemistry',\n",
       "       'royal society of chemistry', 'sage', 'sage publications',\n",
       "       'society of neuro sciences', 'springer-verlag gmbh',\n",
       "       'sage publications inc', 'sage publications ltd',\n",
       "       'sage publishers', 'sage publishing', 'sciedu press',\n",
       "       'scientific research publishing', 'sheridan press',\n",
       "       'society for endocrinology', 'society for general microbiology',\n",
       "       'society for genermal microbiology',\n",
       "       'society for leukocyte biology', 'society for neuroscience',\n",
       "       'society for neurosciences',\n",
       "       'society for publication of acta dermato-venereologica',\n",
       "       'society of general microbiology', 'society of leukocyte biology',\n",
       "       'society of neuroscience', 'springer', 'springer - verlag gmbh',\n",
       "       'springer science + business media', 'springer verlag',\n",
       "       'springer-veriag gmbh', 'springer-verlag gmbh & ci',\n",
       "       'springer-verlag gmbh, heidelberger platz 3, d-14197 berlin',\n",
       "       't&f', 'the company of biologists', 'the endocrine society',\n",
       "       'taylor & francis', 'taylor & francis journals',\n",
       "       'taylor and francis',\n",
       "       'the american chemical society petroleum research trust',\n",
       "       'the american physiological society',\n",
       "       'the american society for biochemistry and molecular biology',\n",
       "       'the american society for biochemistry and molecular biology, inc',\n",
       "       'the american society of pediatrics', 'the boulevard',\n",
       "       'the company of biologists ltd', 'the endocrine socety',\n",
       "       'the endrocrine society', 'the journal of visualized experiments',\n",
       "       'the royal college of psychiatrists', 'the royal society',\n",
       "       'the sheridan press', 'the company of biolgists',\n",
       "       'transcript verlag', 'university of the basque country press',\n",
       "       'wiley', 'wiley & son', 'wiley blackwell', 'wiley online library',\n",
       "       'wiley subscription services', 'wiley subscription services  inc.',\n",
       "       'wiley subscription services inc',\n",
       "       'wiley subscription serviices inc', 'wiley vch', 'wiley-blackwell',\n",
       "       'wiley-blackwell, john wiley & sons', 'wiley-vch',\n",
       "       'wiley/blackwell', 'wliey-blackwell', 'wolters kluwer',\n",
       "       'wolters kluwer health', 'wolters kluwer n.v./lippinott',\n",
       "       'wolters kluwers', 'public.service.co.uk'], dtype=object)"
      ]
     },
     "execution_count": 19,
     "metadata": {},
     "output_type": "execute_result"
    }
   ],
   "source": [
    "pu()"
   ]
  },
  {
   "cell_type": "code",
   "execution_count": 20,
   "metadata": {
    "ExecuteTime": {
     "end_time": "2019-09-25T23:31:39.082135Z",
     "start_time": "2019-09-25T23:31:38.092386Z"
    }
   },
   "outputs": [
    {
     "name": "stdout",
     "output_type": "stream",
     "text": [
      "You want to replace ['biomed central limited', 'biomed central ltd'] with biomed centraly\n"
     ]
    }
   ],
   "source": [
    "rep_stuff(['biomed central limited', 'biomed central ltd'], 'biomed central')"
   ]
  },
  {
   "cell_type": "code",
   "execution_count": 22,
   "metadata": {
    "ExecuteTime": {
     "end_time": "2019-09-25T23:32:18.944746Z",
     "start_time": "2019-09-25T23:32:18.935743Z"
    }
   },
   "outputs": [
    {
     "data": {
      "text/plain": [
       "232"
      ]
     },
     "execution_count": 22,
     "metadata": {},
     "output_type": "execute_result"
    }
   ],
   "source": [
    "len(pu())"
   ]
  },
  {
   "cell_type": "code",
   "execution_count": null,
   "metadata": {},
   "outputs": [],
   "source": []
  }
 ],
 "metadata": {
  "kernelspec": {
   "display_name": "Python 3",
   "language": "python",
   "name": "python3"
  },
  "language_info": {
   "codemirror_mode": {
    "name": "ipython",
    "version": 3
   },
   "file_extension": ".py",
   "mimetype": "text/x-python",
   "name": "python",
   "nbconvert_exporter": "python",
   "pygments_lexer": "ipython3",
   "version": "3.7.0"
  }
 },
 "nbformat": 4,
 "nbformat_minor": 2
}
