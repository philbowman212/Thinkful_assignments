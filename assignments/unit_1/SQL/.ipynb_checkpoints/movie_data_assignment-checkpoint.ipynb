{
 "cells": [
  {
   "cell_type": "code",
   "execution_count": 1,
   "metadata": {
    "ExecuteTime": {
     "end_time": "2019-09-17T17:35:51.969549Z",
     "start_time": "2019-09-17T17:35:51.687476Z"
    }
   },
   "outputs": [],
   "source": [
    "from sqlalchemy import create_engine"
   ]
  },
  {
   "cell_type": "code",
   "execution_count": 2,
   "metadata": {
    "ExecuteTime": {
     "end_time": "2019-09-17T17:35:51.988552Z",
     "start_time": "2019-09-17T17:35:51.979552Z"
    }
   },
   "outputs": [],
   "source": [
    "postgres_user = 'dsbc_student'\n",
    "postgres_pw = '7*.8G9QH21'\n",
    "postgres_host = '142.93.121.174'\n",
    "postgres_port = '5432'\n",
    "postgres_db = 'dvdrentals'"
   ]
  },
  {
   "cell_type": "code",
   "execution_count": 3,
   "metadata": {
    "ExecuteTime": {
     "end_time": "2019-09-17T17:35:52.190603Z",
     "start_time": "2019-09-17T17:35:51.996555Z"
    }
   },
   "outputs": [],
   "source": [
    "engine = create_engine('postgresql://{}:{}@{}:{}/{}'.format(postgres_user, postgres_pw, postgres_host, postgres_port, postgres_db))"
   ]
  },
  {
   "cell_type": "markdown",
   "metadata": {},
   "source": [
    "1. How many movies are released for each rating?\n",
    "2. What is the average rental duration for each rating?\n",
    "3. What is the mean movie length? Calculate this by defining a function.\n",
    "4. What is the median movie length? Calculate this by defining a function.\n",
    "5. Calculate the standard deviation of the movie lengths. Calculate this by defining a function."
   ]
  },
  {
   "cell_type": "markdown",
   "metadata": {},
   "source": [
    "## 1. How many movies are released for each rating?"
   ]
  },
  {
   "cell_type": "code",
   "execution_count": 4,
   "metadata": {
    "ExecuteTime": {
     "end_time": "2019-09-17T17:35:53.143109Z",
     "start_time": "2019-09-17T17:35:52.198605Z"
    }
   },
   "outputs": [
    {
     "data": {
      "text/plain": [
       "[('R', 195), ('NC-17', 210), ('PG', 194), ('PG-13', 223), ('G', 178)]"
      ]
     },
     "execution_count": 4,
     "metadata": {},
     "output_type": "execute_result"
    }
   ],
   "source": [
    "movie_rating_count = engine.execute('SELECT rating, COUNT(*) FROM film GROUP BY rating;').fetchall()\n",
    "engine.dispose()\n",
    "movie_rating_count"
   ]
  },
  {
   "cell_type": "markdown",
   "metadata": {},
   "source": [
    "## 2. What is the average rental duration for each rating?"
   ]
  },
  {
   "cell_type": "code",
   "execution_count": 5,
   "metadata": {
    "ExecuteTime": {
     "end_time": "2019-09-17T17:35:53.556813Z",
     "start_time": "2019-09-17T17:35:53.148877Z"
    }
   },
   "outputs": [
    {
     "data": {
      "text/plain": [
       "[('R', Decimal('4.7743589743589744')),\n",
       " ('NC-17', Decimal('5.1428571428571429')),\n",
       " ('PG', Decimal('5.0824742268041237')),\n",
       " ('PG-13', Decimal('5.0538116591928251')),\n",
       " ('G', Decimal('4.8370786516853933'))]"
      ]
     },
     "execution_count": 5,
     "metadata": {},
     "output_type": "execute_result"
    }
   ],
   "source": [
    "avg_rental_dur_by_rating = engine.execute('SELECT rating, AVG(rental_duration) FROM film GROUP BY rating;').fetchall()\n",
    "engine.dispose()\n",
    "avg_rental_dur_by_rating"
   ]
  },
  {
   "cell_type": "markdown",
   "metadata": {},
   "source": [
    "## 3. What is the mean movie length? Calculate this by defining a function."
   ]
  },
  {
   "cell_type": "code",
   "execution_count": 6,
   "metadata": {
    "ExecuteTime": {
     "end_time": "2019-09-17T17:35:53.571814Z",
     "start_time": "2019-09-17T17:35:53.562810Z"
    }
   },
   "outputs": [],
   "source": [
    "def mean(list):\n",
    "    count = len(list)\n",
    "    total_sum = 0\n",
    "    for val in list:\n",
    "        total_sum += val\n",
    "    return total_sum/count"
   ]
  },
  {
   "cell_type": "code",
   "execution_count": 7,
   "metadata": {
    "ExecuteTime": {
     "end_time": "2019-09-17T17:35:54.074347Z",
     "start_time": "2019-09-17T17:35:53.577814Z"
    }
   },
   "outputs": [
    {
     "data": {
      "text/plain": [
       "115.272"
      ]
     },
     "execution_count": 7,
     "metadata": {},
     "output_type": "execute_result"
    }
   ],
   "source": [
    "lengths = engine.execute('SELECT length FROM film;')\n",
    "rows = lengths.fetchall()\n",
    "engine.dispose()\n",
    "lengths = [x['length'] for x in rows]\n",
    "mean(lengths)"
   ]
  },
  {
   "cell_type": "markdown",
   "metadata": {},
   "source": [
    "Easier to see with SQL..."
   ]
  },
  {
   "cell_type": "code",
   "execution_count": 8,
   "metadata": {
    "ExecuteTime": {
     "end_time": "2019-09-17T17:35:54.480136Z",
     "start_time": "2019-09-17T17:35:54.083222Z"
    }
   },
   "outputs": [
    {
     "data": {
      "text/plain": [
       "(Decimal('115.2720000000000000'),)"
      ]
     },
     "execution_count": 8,
     "metadata": {},
     "output_type": "execute_result"
    }
   ],
   "source": [
    "avg_length = engine.execute('SELECT AVG(length) FROM film;').fetchall()\n",
    "engine.dispose()\n",
    "avg_length[0]"
   ]
  },
  {
   "cell_type": "markdown",
   "metadata": {},
   "source": [
    "But not easier to extract value for further use."
   ]
  },
  {
   "cell_type": "code",
   "execution_count": 9,
   "metadata": {
    "ExecuteTime": {
     "end_time": "2019-09-17T17:35:54.497009Z",
     "start_time": "2019-09-17T17:35:54.486010Z"
    }
   },
   "outputs": [
    {
     "data": {
      "text/plain": [
       "115.272"
      ]
     },
     "execution_count": 9,
     "metadata": {},
     "output_type": "execute_result"
    }
   ],
   "source": [
    "float(str(avg_length[0]).lstrip(\"(Decimal('\").rstrip(\"'),)\"))"
   ]
  },
  {
   "cell_type": "markdown",
   "metadata": {},
   "source": [
    "## 4. What is the median movie length? Calculate this by defining a function."
   ]
  },
  {
   "cell_type": "code",
   "execution_count": 10,
   "metadata": {
    "ExecuteTime": {
     "end_time": "2019-09-17T17:35:54.615037Z",
     "start_time": "2019-09-17T17:35:54.503012Z"
    }
   },
   "outputs": [],
   "source": [
    "import math\n",
    "def median(list):\n",
    "    count = len(list)\n",
    "    list.sort()\n",
    "    even = count % 2 == 0\n",
    "    \n",
    "    if even == True:\n",
    "        mid = math.floor(count/2)\n",
    "        lower = list[mid]\n",
    "        upper = list[mid+1]\n",
    "        return (lower + upper)/2\n",
    "    else:\n",
    "        mid = math.floor(count/2)\n",
    "        return list[mid]"
   ]
  },
  {
   "cell_type": "code",
   "execution_count": 11,
   "metadata": {
    "ExecuteTime": {
     "end_time": "2019-09-17T17:35:54.718669Z",
     "start_time": "2019-09-17T17:35:54.622051Z"
    }
   },
   "outputs": [
    {
     "data": {
      "text/plain": [
       "114.0"
      ]
     },
     "execution_count": 11,
     "metadata": {},
     "output_type": "execute_result"
    }
   ],
   "source": [
    "median(lengths)"
   ]
  },
  {
   "cell_type": "markdown",
   "metadata": {},
   "source": [
    "## 5. Calculate the standard deviation of the movie lengths. Calculate this by defining a function."
   ]
  },
  {
   "cell_type": "code",
   "execution_count": 12,
   "metadata": {
    "ExecuteTime": {
     "end_time": "2019-09-17T17:35:54.846527Z",
     "start_time": "2019-09-17T17:35:54.726670Z"
    }
   },
   "outputs": [],
   "source": [
    "def standard_deviation(numbers):\n",
    "  X_bar = mean(numbers)\n",
    "  N = len(numbers)\n",
    "  total_sum = 0\n",
    "  for X in numbers:\n",
    "    diff = X - X_bar\n",
    "    squared = math.pow(diff, 2)\n",
    "    total_sum += squared\n",
    "  sigma = math.sqrt(total_sum / (N - 1))  \n",
    "  return sigma"
   ]
  },
  {
   "cell_type": "code",
   "execution_count": 13,
   "metadata": {
    "ExecuteTime": {
     "end_time": "2019-09-17T17:35:54.943928Z",
     "start_time": "2019-09-17T17:35:54.853527Z"
    }
   },
   "outputs": [
    {
     "data": {
      "text/plain": [
       "40.42633181855988"
      ]
     },
     "execution_count": 13,
     "metadata": {},
     "output_type": "execute_result"
    }
   ],
   "source": [
    "standard_deviation(lengths)"
   ]
  }
 ],
 "metadata": {
  "kernelspec": {
   "display_name": "Python 3",
   "language": "python",
   "name": "python3"
  },
  "language_info": {
   "codemirror_mode": {
    "name": "ipython",
    "version": 3
   },
   "file_extension": ".py",
   "mimetype": "text/x-python",
   "name": "python",
   "nbconvert_exporter": "python",
   "pygments_lexer": "ipython3",
   "version": "3.7.0"
  }
 },
 "nbformat": 4,
 "nbformat_minor": 2
}
